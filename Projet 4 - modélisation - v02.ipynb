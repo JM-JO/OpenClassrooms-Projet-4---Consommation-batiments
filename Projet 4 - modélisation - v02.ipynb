{
 "cells": [
  {
   "cell_type": "markdown",
   "metadata": {},
   "source": [
    "Pour une lecture améliorée, ce notebook est idéalement lu avec une extension qui gère les niveaux des titres Markdown.  \n",
    "Par exemple avec l'extension 'Table of Contents' du module 'Nbextensions' de Jupyter."
   ]
  },
  {
   "cell_type": "markdown",
   "metadata": {},
   "source": [
    "# Mise en place du notebook"
   ]
  },
  {
   "cell_type": "markdown",
   "metadata": {},
   "source": [
    "## Import des modules"
   ]
  },
  {
   "cell_type": "code",
   "execution_count": 1,
   "metadata": {
    "ExecuteTime": {
     "end_time": "2021-06-19T07:56:34.515510Z",
     "start_time": "2021-06-19T07:56:33.033425Z"
    }
   },
   "outputs": [],
   "source": [
    "import numpy as np\n",
    "import pandas as pd\n",
    "import matplotlib.pyplot as plt\n",
    "from scipy.stats import linregress as reg_lin\n",
    "from sklearn.model_selection import train_test_split\n",
    "from sklearn.impute import SimpleImputer\n",
    "from sklearn.preprocessing import OneHotEncoder\n",
    "from sklearn.preprocessing import QuantileTransformer\n",
    "from sklearn.compose import ColumnTransformer\n",
    "from sklearn.pipeline import Pipeline\n",
    "from sklearn.preprocessing import FunctionTransformer\n",
    "from sklearn.linear_model import LinearRegression\n",
    "from sklearn import set_config\n",
    "from sklearn.metrics import mean_squared_error\n",
    "from sklearn.metrics import r2_score\n",
    "from sklearn.compose import TransformedTargetRegressor\n",
    "from sklearn.tree import DecisionTreeRegressor\n",
    "from sklearn.model_selection import cross_val_score\n",
    "from sklearn.ensemble import RandomForestRegressor\n",
    "from sklearn.svm import SVR\n",
    "from sklearn.model_selection import GridSearchCV"
   ]
  },
  {
   "cell_type": "markdown",
   "metadata": {
    "ExecuteTime": {
     "end_time": "2021-05-31T09:23:20.946017Z",
     "start_time": "2021-05-31T09:23:20.940016Z"
    }
   },
   "source": [
    "## Gestion des paramètres d'affichage de Jupyter"
   ]
  },
  {
   "cell_type": "code",
   "execution_count": 2,
   "metadata": {
    "ExecuteTime": {
     "end_time": "2021-06-19T07:56:34.522510Z",
     "start_time": "2021-06-19T07:56:34.516510Z"
    }
   },
   "outputs": [
    {
     "data": {
      "text/html": [
       "<style>.container { width:95% }</style>"
      ],
      "text/plain": [
       "<IPython.core.display.HTML object>"
      ]
     },
     "execution_count": 2,
     "metadata": {},
     "output_type": "execute_result"
    }
   ],
   "source": [
    "# pour gérer l'affichage des dataframes pandas\n",
    "pd.options.display.max_rows = 100\n",
    "pd.options.display.max_columns = 200\n",
    "\n",
    "# pour gérer l'affichage des arrays numpy\n",
    "# 230 sur ma config bureau, 165 sur ma config portable\n",
    "np.set_printoptions(linewidth=165)\n",
    "\n",
    "# pour afficher les gros fichiers sur toute la largeur de l'écran\n",
    "from IPython.core.display import HTML\n",
    "HTML(\"<style>.container { width:95% }</style>\")"
   ]
  },
  {
   "cell_type": "markdown",
   "metadata": {},
   "source": [
    "## Rappel de la fonction scatter_plot() du notebook d'exploration"
   ]
  },
  {
   "cell_type": "code",
   "execution_count": 3,
   "metadata": {
    "ExecuteTime": {
     "end_time": "2021-06-19T07:56:34.533511Z",
     "start_time": "2021-06-19T07:56:34.523510Z"
    }
   },
   "outputs": [],
   "source": [
    "def scatter_plot(ser_x,\n",
    "                 ser_y,\n",
    "                 min_x=None,\n",
    "                 max_x=None,\n",
    "                 min_y=None,\n",
    "                 max_y=None,\n",
    "                 alpha=1.0,\n",
    "                 unite_x=None,\n",
    "                 unite_y=None,\n",
    "                 ligne_diagonale = False):\n",
    "    \"\"\" Retourne un scatter plot pour deux séries\n",
    "    Args :\n",
    "    - ser_x : série en abcisse.\n",
    "    - ser_y : série en ordonnée.\n",
    "    - min_x : valeur min représentée en abcisse.\n",
    "    - max_x : valeur max représentée en abcisse.\n",
    "    - min_y : valeur min représentée en ordonnée.\n",
    "    - max_y : valeur max représentée en ordonnée.\n",
    "    - alpha : transparence de chaque point.  \n",
    "    - unite_x : string indiquant l'unité de la série en abcisse.  \n",
    "    - unite_y : string indiquant l'unité de la série en ordonnée.        \n",
    "    Returns : \n",
    "    - scatter plot + sa régression linéaire\n",
    "    \"\"\"\n",
    "    \n",
    "    # Calcul des arguments min_x, max_x, min_y, max_y s'ils sont None :\n",
    "    if min_x is None:\n",
    "        min_x = ser_x.min()\n",
    "    if max_x is None:\n",
    "        max_x = ser_x.max()\n",
    "    if min_y is None:\n",
    "        min_y = ser_y.min()\n",
    "    if max_y is None:\n",
    "        max_y = ser_y.max()\n",
    "    \n",
    "    # filtration des valeurs extrêmes. On exclue les valeurs à l'extérieur de l'intervalle [min_x, max_x], considérées comme aberrantes.\n",
    "    largeur_x = max_x - min_x\n",
    "    largeur_y = max_y - min_y\n",
    "\n",
    "    def f_bool(x, min, max):\n",
    "        if np.isnan(x):\n",
    "            return False\n",
    "        elif x < min:\n",
    "            return False\n",
    "        elif x > max:\n",
    "            return False\n",
    "        else:\n",
    "            return True\n",
    "\n",
    "    ser_x_bool = ser_x.apply(lambda x: f_bool(x, min_x, max_x)\n",
    "                             )  # vaut True pour les valeurs non extrêmes\n",
    "    ser_y_bool = ser_y.apply(lambda y: f_bool(y, min_y, max_y))\n",
    "    ser_xy_bool = ser_x_bool & ser_y_bool  # vaut True pour les valeurs non extrêmes de ser_x et de ser_y, sinon vaut False\n",
    "    # ser_x et ser_y sont les séries tracées\n",
    "    ser_x = ser_x[ser_xy_bool]\n",
    "    ser_y = ser_y[ser_xy_bool]\n",
    "    total_count = ser_xy_bool.sum()\n",
    "\n",
    "    # mise en place du plot\n",
    "    plt.style.use('seaborn')\n",
    "    plt.figure(edgecolor='black', linewidth=4)\n",
    "    if ligne_diagonale:\n",
    "        plt.axline([0, 0], [1, 1], c=\"white\", linewidth=1)\n",
    "    \n",
    "    # plotting scatter plot\n",
    "    plt.scatter(\n",
    "        ser_x, ser_y, s=2,\n",
    "        alpha=alpha)  # la valeur mini de alpha autorisée par pyplot est 0.002\n",
    "    plt.xlabel(ser_x.name)\n",
    "    plt.ylabel(ser_y.name)\n",
    "    plt.title(label='Diagramme de dispersion (Effectif total = ' +\n",
    "              str(int(total_count)) + ')')\n",
    "    plt.ylim(min_y - largeur_y / 20, max_y + largeur_y / 20)\n",
    "    label_x = ser_x.name if unite_x is None else ser_x.name + f\" ({unite_x})\"\n",
    "    plt.xlabel(label_x)\n",
    "    label_y = ser_y.name if unite_y is None else ser_y.name + f\" ({unite_y})\"\n",
    "    plt.ylabel(label_y)\n",
    "\n",
    "    # régression linéaire\n",
    "    slope, intercept, r, p, std_err = reg_lin(ser_x, ser_y)\n",
    "    plt.axline((0, intercept), slope=slope, ls=\"--\", c=\"red\", linewidth=0.6)\n",
    "\n",
    "    plt.annotate(\n",
    "        text=\"Régression linéaire : y = {0:0.4f}*x + {1:0.4f}, R²={2:0.2f}\".\n",
    "        format(slope, intercept, r * r),\n",
    "        xy=(min_x + largeur_x / 20, max_y - largeur_y / 20),\n",
    "        color='red',\n",
    "        size=10)\n",
    "    \n",
    "    plt.show()"
   ]
  },
  {
   "cell_type": "markdown",
   "metadata": {},
   "source": [
    "# Chargement du pickle du df nettoyé"
   ]
  },
  {
   "cell_type": "code",
   "execution_count": 4,
   "metadata": {
    "ExecuteTime": {
     "end_time": "2021-06-19T07:56:34.547511Z",
     "start_time": "2021-06-19T07:56:34.534511Z"
    }
   },
   "outputs": [],
   "source": [
    "df1 = pd.read_pickle('df_après_nettoyage_Projet_élec.pkl')"
   ]
  },
  {
   "cell_type": "markdown",
   "metadata": {},
   "source": [
    "# Feature engineering"
   ]
  },
  {
   "cell_type": "markdown",
   "metadata": {
    "ExecuteTime": {
     "end_time": "2021-06-11T14:47:18.070895Z",
     "start_time": "2021-06-11T14:47:18.059903Z"
    }
   },
   "source": [
    "## Surface au sol"
   ]
  },
  {
   "cell_type": "markdown",
   "metadata": {},
   "source": [
    "Les pertes énergétiques des bâtiments avec une forte surface de contact avec l'extérieur seront plus importantes que celles des bâtiments avec une faible surface de contact.  \n",
    "Sur la base des données disponibles, on ne pourra pas calculer cette surface.  \n",
    "Toutefois on peut calculer la surface au sol des bâtiments. C'est un bon proxy de la surface de contact totale pour les bâtiments à peu d'étages.\n",
    "\n",
    "Surface_au_sol(sf) = PropertyGFABuilding(s) / NumberofFloors \n"
   ]
  },
  {
   "cell_type": "code",
   "execution_count": 5,
   "metadata": {
    "ExecuteTime": {
     "end_time": "2021-06-19T07:56:34.563512Z",
     "start_time": "2021-06-19T07:56:34.548511Z"
    },
    "scrolled": true
   },
   "outputs": [],
   "source": [
    "df1['Surface_au_sol(sf)'] = df1['PropertyGFABuilding(s)'].copy() / df1['NumberofFloors'].copy()"
   ]
  },
  {
   "cell_type": "code",
   "execution_count": 6,
   "metadata": {
    "ExecuteTime": {
     "end_time": "2021-06-19T07:56:34.572513Z",
     "start_time": "2021-06-19T07:56:34.564512Z"
    }
   },
   "outputs": [
    {
     "data": {
      "text/plain": [
       "count    1.668000e+03\n",
       "mean              inf\n",
       "std               NaN\n",
       "min      2.216970e+02\n",
       "25%      1.235629e+04\n",
       "50%      2.119500e+04\n",
       "75%      3.438105e+04\n",
       "max               inf\n",
       "Name: Surface_au_sol(sf), dtype: float64"
      ]
     },
     "execution_count": 6,
     "metadata": {},
     "output_type": "execute_result"
    }
   ],
   "source": [
    "df1['Surface_au_sol(sf)'].describe()"
   ]
  },
  {
   "cell_type": "markdown",
   "metadata": {},
   "source": [
    "Il y a des valeurs np.inf lorsque NumberofFloors vaut 0 => on les transforme en NaN."
   ]
  },
  {
   "cell_type": "code",
   "execution_count": 7,
   "metadata": {
    "ExecuteTime": {
     "end_time": "2021-06-19T07:56:34.580513Z",
     "start_time": "2021-06-19T07:56:34.574513Z"
    }
   },
   "outputs": [],
   "source": [
    "df1['Surface_au_sol(sf)'] = df1['Surface_au_sol(sf)'].apply(lambda x : np.NaN if x == np.inf else x)"
   ]
  },
  {
   "cell_type": "code",
   "execution_count": 8,
   "metadata": {
    "ExecuteTime": {
     "end_time": "2021-06-19T07:56:34.589514Z",
     "start_time": "2021-06-19T07:56:34.582513Z"
    }
   },
   "outputs": [
    {
     "data": {
      "text/plain": [
       "count    1.652000e+03\n",
       "mean     3.177939e+04\n",
       "std      4.708716e+04\n",
       "min      2.216970e+02\n",
       "25%      1.229850e+04\n",
       "50%      2.102900e+04\n",
       "75%      3.361888e+04\n",
       "max      1.100000e+06\n",
       "Name: Surface_au_sol(sf), dtype: float64"
      ]
     },
     "execution_count": 8,
     "metadata": {},
     "output_type": "execute_result"
    }
   ],
   "source": [
    "df1['Surface_au_sol(sf)'].describe()"
   ]
  },
  {
   "cell_type": "markdown",
   "metadata": {},
   "source": [
    "## Variables prédites"
   ]
  },
  {
   "cell_type": "markdown",
   "metadata": {},
   "source": [
    "La demande de Douglas est de prédire les variables :  \n",
    "    - 'SiteEnergyUse(kBtu)',  \n",
    "    - 'TotalGHGEmissions',  \n",
    "cependant, nous travaillerons plutôt sur la prévision de :  \n",
    "    - 'SiteEUI(kBtu/sf)',  \n",
    "    - 'GHGEmissionsIntensity',  \n",
    "qui ont une relation plus \"linéaire\" avec les autres variables descriptives. "
   ]
  },
  {
   "cell_type": "markdown",
   "metadata": {},
   "source": [
    "# Variables retenues pour la modélisation"
   ]
  },
  {
   "cell_type": "code",
   "execution_count": 9,
   "metadata": {
    "ExecuteTime": {
     "end_time": "2021-06-19T07:56:34.594514Z",
     "start_time": "2021-06-19T07:56:34.590514Z"
    },
    "scrolled": true
   },
   "outputs": [
    {
     "data": {
      "text/plain": [
       "['OSEBuildingID',\n",
       " 'BuildingType',\n",
       " 'PrimaryPropertyType',\n",
       " 'ZipCode',\n",
       " 'CouncilDistrictCode',\n",
       " 'Neighborhood',\n",
       " 'Latitude',\n",
       " 'Longitude',\n",
       " 'YearBuilt',\n",
       " 'NumberofBuildings',\n",
       " 'NumberofFloors',\n",
       " 'PropertyGFATotal',\n",
       " 'PropertyGFAParking',\n",
       " 'PropertyGFABuilding(s)',\n",
       " 'LargestPropertyUseType',\n",
       " 'LargestPropertyUseTypeGFA',\n",
       " 'SecondLargestPropertyUseType',\n",
       " 'SecondLargestPropertyUseTypeGFA',\n",
       " 'ThirdLargestPropertyUseType',\n",
       " 'ThirdLargestPropertyUseTypeGFA',\n",
       " 'ENERGYSTARScore',\n",
       " 'SiteEUI(kBtu/sf)',\n",
       " 'SiteEUIWN(kBtu/sf)',\n",
       " 'SourceEUI(kBtu/sf)',\n",
       " 'SourceEUIWN(kBtu/sf)',\n",
       " 'SiteEnergyUse(kBtu)',\n",
       " 'SiteEnergyUseWN(kBtu)',\n",
       " 'SteamUse(kBtu)',\n",
       " 'Electricity(kWh)',\n",
       " 'Electricity(kBtu)',\n",
       " 'NaturalGas(therms)',\n",
       " 'NaturalGas(kBtu)',\n",
       " 'TotalGHGEmissions',\n",
       " 'GHGEmissionsIntensity',\n",
       " 'Surface_au_sol(sf)']"
      ]
     },
     "execution_count": 9,
     "metadata": {},
     "output_type": "execute_result"
    }
   ],
   "source": [
    "list(df1.columns)"
   ]
  },
  {
   "cell_type": "markdown",
   "metadata": {},
   "source": [
    "La demande de Douglas est de prédire les variables :  \n",
    "    - 'SiteEnergyUse(kBtu)',  \n",
    "    - 'TotalGHGEmissions',  \n",
    "cependant, nous travaillerons plutôt sur la prévision de :  \n",
    "    - 'SiteEUI(kBtu/sf)',  \n",
    "    - 'GHGEmissionsIntensity',  \n",
    "qui ont un lien plus \"linéaire\" avec les autres variables descriptives. "
   ]
  },
  {
   "cell_type": "code",
   "execution_count": 10,
   "metadata": {
    "ExecuteTime": {
     "end_time": "2021-06-19T07:56:34.599514Z",
     "start_time": "2021-06-19T07:56:34.595514Z"
    }
   },
   "outputs": [],
   "source": [
    "liste_variables_pour_modelisation =[\n",
    "    'BuildingType', \n",
    "    'PrimaryPropertyType', \n",
    "    'ZipCode',\n",
    "    'CouncilDistrictCode', \n",
    "    'Neighborhood', \n",
    "    'Latitude', \n",
    "    'Longitude',\n",
    "    'YearBuilt', \n",
    "    'NumberofBuildings', \n",
    "    'NumberofFloors', \n",
    "#     'PropertyGFATotal',    exclu car donnée extensive\n",
    "#     'PropertyGFAParking',    exclu car donnée extensive\n",
    "#     'PropertyGFABuilding(s)',  exclu car donnée extensive\n",
    "    'LargestPropertyUseType',\n",
    "#     'LargestPropertyUseTypeGFA',  exclu car donnée extensive\n",
    "    'SecondLargestPropertyUseType', \n",
    "#     'SecondLargestPropertyUseTypeGFA',  exclu car donnée extensive\n",
    "    'ThirdLargestPropertyUseType', \n",
    "#     'ThirdLargestPropertyUseTypeGFA',  exclu car donnée extensive\n",
    "#     'ENERGYSTARScore', exclu sinon data leak\n",
    "#     'SiteEUI(kBtu/sf)', variable à prédire\n",
    "#     'SiteEUIWN(kBtu/sf)', exclu sinon data leak\n",
    "#     'SourceEUI(kBtu/sf)', exclu sinon data leak\n",
    "#     'SourceEUIWN(kBtu/sf)', exclu sinon data leak\n",
    "#     'SiteEnergyUse(kBtu)', exclu sinon data leak\n",
    "#     'SiteEnergyUseWN(kBtu)', exclu sinon data leak\n",
    "#     'SteamUse(kBtu)', exclu sinon data leak\n",
    "#     'Electricity(kWh)',exclu sinon data leak\n",
    "#     'Electricity(kBtu)', exclu sinon data leak\n",
    "#     'NaturalGas(therms)', exclu sinon data leak\n",
    "#     'NaturalGas(kBtu)',exclu sinon data leak\n",
    "#     'TotalGHGEmissions', exclu sinon data leak\n",
    "#     'GHGEmissionsIntensity', variable à prédire\n",
    "    'Surface_au_sol(sf)']"
   ]
  },
  {
   "cell_type": "code",
   "execution_count": null,
   "metadata": {},
   "outputs": [],
   "source": []
  },
  {
   "cell_type": "markdown",
   "metadata": {},
   "source": [
    "# Train test split "
   ]
  },
  {
   "cell_type": "markdown",
   "metadata": {
    "ExecuteTime": {
     "end_time": "2021-06-15T10:22:42.272135Z",
     "start_time": "2021-06-15T10:22:42.254123Z"
    }
   },
   "source": [
    "POUR LE NOTEBOOK FINAL IL FAUDRA FAIRE LE SPLIT PLUS TOT (avant le nettoyage)  \n",
    "IL FAUDRA FAIRE LE MEME NETTOYAGE SUR LES JEUX TRAIN ET TEST\n",
    "\n",
    "POUR L'INSTANT ON NE TRAVAILLE QU'A LA PREDICTION DE SiteEUI(kBtu/sf)"
   ]
  },
  {
   "cell_type": "code",
   "execution_count": 11,
   "metadata": {
    "ExecuteTime": {
     "end_time": "2021-06-19T07:56:34.607515Z",
     "start_time": "2021-06-19T07:56:34.600514Z"
    }
   },
   "outputs": [],
   "source": [
    "# Suppression des lignes pour lesquelles la variable 'SiteEUI(kBtu/sf)'     ?? que se passe-t-il si je ne le fais pas ??\n",
    "df1 = df1.dropna(subset=['SiteEUI(kBtu/sf)']).copy()"
   ]
  },
  {
   "cell_type": "markdown",
   "metadata": {},
   "source": [
    "##### Variables à prédire :"
   ]
  },
  {
   "cell_type": "code",
   "execution_count": 12,
   "metadata": {
    "ExecuteTime": {
     "end_time": "2021-06-19T07:56:34.612515Z",
     "start_time": "2021-06-19T07:56:34.608515Z"
    }
   },
   "outputs": [],
   "source": [
    "y1_EUI = df1[['SiteEUI(kBtu/sf)']].copy()\n",
    "# y1_GHGEI = df1['GHGEmissionsIntensity'].copy()     Pour l'instant on se contente de prédire y1_EUI."
   ]
  },
  {
   "cell_type": "markdown",
   "metadata": {},
   "source": [
    "##### Variables explicatives :"
   ]
  },
  {
   "cell_type": "code",
   "execution_count": 13,
   "metadata": {
    "ExecuteTime": {
     "end_time": "2021-06-19T07:56:34.618515Z",
     "start_time": "2021-06-19T07:56:34.613515Z"
    }
   },
   "outputs": [],
   "source": [
    "X1 = df1[liste_variables_pour_modelisation].copy()"
   ]
  },
  {
   "cell_type": "markdown",
   "metadata": {},
   "source": [
    "##### Split :"
   ]
  },
  {
   "cell_type": "code",
   "execution_count": 14,
   "metadata": {
    "ExecuteTime": {
     "end_time": "2021-06-19T07:56:34.625516Z",
     "start_time": "2021-06-19T07:56:34.619515Z"
    },
    "scrolled": false
   },
   "outputs": [],
   "source": [
    "X_train_EUI, X_test_EUI, y_train_EUI, y_test_EUI = train_test_split(X1, y1_EUI, test_size=0.2, random_state=0)"
   ]
  },
  {
   "cell_type": "markdown",
   "metadata": {},
   "source": [
    "# Imputations"
   ]
  },
  {
   "cell_type": "markdown",
   "metadata": {},
   "source": [
    "## Définition des variables quantitatives et qualitatives"
   ]
  },
  {
   "cell_type": "code",
   "execution_count": 15,
   "metadata": {
    "ExecuteTime": {
     "end_time": "2021-06-19T07:56:34.629516Z",
     "start_time": "2021-06-19T07:56:34.626516Z"
    },
    "scrolled": true
   },
   "outputs": [
    {
     "data": {
      "text/plain": [
       "['BuildingType',\n",
       " 'PrimaryPropertyType',\n",
       " 'ZipCode',\n",
       " 'CouncilDistrictCode',\n",
       " 'Neighborhood',\n",
       " 'Latitude',\n",
       " 'Longitude',\n",
       " 'YearBuilt',\n",
       " 'NumberofBuildings',\n",
       " 'NumberofFloors',\n",
       " 'LargestPropertyUseType',\n",
       " 'SecondLargestPropertyUseType',\n",
       " 'ThirdLargestPropertyUseType',\n",
       " 'Surface_au_sol(sf)']"
      ]
     },
     "execution_count": 15,
     "metadata": {},
     "output_type": "execute_result"
    }
   ],
   "source": [
    "list(X_train_EUI.columns)"
   ]
  },
  {
   "cell_type": "code",
   "execution_count": 16,
   "metadata": {
    "ExecuteTime": {
     "end_time": "2021-06-19T07:56:34.640517Z",
     "start_time": "2021-06-19T07:56:34.632516Z"
    }
   },
   "outputs": [],
   "source": [
    "liste_variables_qualitatives = [\n",
    " 'BuildingType',\n",
    " 'PrimaryPropertyType',\n",
    " 'ZipCode',\n",
    " 'CouncilDistrictCode',\n",
    " 'Neighborhood',\n",
    "#  'Latitude',\n",
    "#  'Longitude',\n",
    "#  'YearBuilt',\n",
    "#  'NumberofBuildings',\n",
    "#  'NumberofFloors',\n",
    " 'LargestPropertyUseType',\n",
    " 'SecondLargestPropertyUseType',\n",
    " 'ThirdLargestPropertyUseType',\n",
    "#  'Surface_au_sol(sf)'\n",
    "]"
   ]
  },
  {
   "cell_type": "code",
   "execution_count": 17,
   "metadata": {
    "ExecuteTime": {
     "end_time": "2021-06-19T07:56:34.650517Z",
     "start_time": "2021-06-19T07:56:34.642517Z"
    }
   },
   "outputs": [],
   "source": [
    "liste_variables_quantitatives = [\n",
    "#  'BuildingType',\n",
    "#  'PrimaryPropertyType',\n",
    "#  'ZipCode',\n",
    "#  'CouncilDistrictCode',\n",
    "#  'Neighborhood',\n",
    " 'Latitude',\n",
    " 'Longitude',\n",
    " 'YearBuilt',\n",
    " 'NumberofBuildings',\n",
    " 'NumberofFloors',\n",
    "#  'LargestPropertyUseType',\n",
    "#  'SecondLargestPropertyUseType',\n",
    "#  'ThirdLargestPropertyUseType',\n",
    " 'Surface_au_sol(sf)'\n",
    "]"
   ]
  },
  {
   "cell_type": "code",
   "execution_count": 18,
   "metadata": {
    "ExecuteTime": {
     "end_time": "2021-06-19T07:56:34.674519Z",
     "start_time": "2021-06-19T07:56:34.651517Z"
    }
   },
   "outputs": [
    {
     "data": {
      "text/html": [
       "<div>\n",
       "<style scoped>\n",
       "    .dataframe tbody tr th:only-of-type {\n",
       "        vertical-align: middle;\n",
       "    }\n",
       "\n",
       "    .dataframe tbody tr th {\n",
       "        vertical-align: top;\n",
       "    }\n",
       "\n",
       "    .dataframe thead th {\n",
       "        text-align: right;\n",
       "    }\n",
       "</style>\n",
       "<table border=\"1\" class=\"dataframe\">\n",
       "  <thead>\n",
       "    <tr style=\"text-align: right;\">\n",
       "      <th></th>\n",
       "      <th>BuildingType</th>\n",
       "      <th>PrimaryPropertyType</th>\n",
       "      <th>ZipCode</th>\n",
       "      <th>CouncilDistrictCode</th>\n",
       "      <th>Neighborhood</th>\n",
       "      <th>Latitude</th>\n",
       "      <th>Longitude</th>\n",
       "      <th>YearBuilt</th>\n",
       "      <th>NumberofBuildings</th>\n",
       "      <th>NumberofFloors</th>\n",
       "      <th>LargestPropertyUseType</th>\n",
       "      <th>SecondLargestPropertyUseType</th>\n",
       "      <th>ThirdLargestPropertyUseType</th>\n",
       "      <th>Surface_au_sol(sf)</th>\n",
       "    </tr>\n",
       "  </thead>\n",
       "  <tbody>\n",
       "    <tr>\n",
       "      <th>3162</th>\n",
       "      <td>NonResidential</td>\n",
       "      <td>Large Office</td>\n",
       "      <td>98109.0</td>\n",
       "      <td>7</td>\n",
       "      <td>LAKE UNION</td>\n",
       "      <td>47.62037</td>\n",
       "      <td>-122.33627</td>\n",
       "      <td>2012</td>\n",
       "      <td>1.0</td>\n",
       "      <td>11</td>\n",
       "      <td>Office</td>\n",
       "      <td>Parking</td>\n",
       "      <td>Other</td>\n",
       "      <td>47856.636364</td>\n",
       "    </tr>\n",
       "    <tr>\n",
       "      <th>953</th>\n",
       "      <td>NonResidential</td>\n",
       "      <td>Worship Facility</td>\n",
       "      <td>98115.0</td>\n",
       "      <td>4</td>\n",
       "      <td>NORTHEAST</td>\n",
       "      <td>47.68752</td>\n",
       "      <td>-122.29852</td>\n",
       "      <td>2000</td>\n",
       "      <td>1.0</td>\n",
       "      <td>2</td>\n",
       "      <td>Worship Facility</td>\n",
       "      <td>NaN</td>\n",
       "      <td>NaN</td>\n",
       "      <td>15693.000000</td>\n",
       "    </tr>\n",
       "    <tr>\n",
       "      <th>2637</th>\n",
       "      <td>NonResidential</td>\n",
       "      <td>Hotel</td>\n",
       "      <td>98108.0</td>\n",
       "      <td>2</td>\n",
       "      <td>GREATER DUWAMISH</td>\n",
       "      <td>47.54774</td>\n",
       "      <td>-122.32091</td>\n",
       "      <td>1992</td>\n",
       "      <td>1.0</td>\n",
       "      <td>3</td>\n",
       "      <td>Hotel</td>\n",
       "      <td>NaN</td>\n",
       "      <td>NaN</td>\n",
       "      <td>7484.000000</td>\n",
       "    </tr>\n",
       "    <tr>\n",
       "      <th>29</th>\n",
       "      <td>NonResidential</td>\n",
       "      <td>Hotel</td>\n",
       "      <td>98121.0</td>\n",
       "      <td>7</td>\n",
       "      <td>DOWNTOWN</td>\n",
       "      <td>47.61558</td>\n",
       "      <td>-122.34186</td>\n",
       "      <td>1978</td>\n",
       "      <td>1.0</td>\n",
       "      <td>5</td>\n",
       "      <td>Hotel</td>\n",
       "      <td>NaN</td>\n",
       "      <td>NaN</td>\n",
       "      <td>10442.000000</td>\n",
       "    </tr>\n",
       "    <tr>\n",
       "      <th>1126</th>\n",
       "      <td>NonResidential</td>\n",
       "      <td>Small- and Mid-Sized Office</td>\n",
       "      <td>98108.0</td>\n",
       "      <td>2</td>\n",
       "      <td>GREATER DUWAMISH</td>\n",
       "      <td>47.55316</td>\n",
       "      <td>-122.32616</td>\n",
       "      <td>1982</td>\n",
       "      <td>1.0</td>\n",
       "      <td>2</td>\n",
       "      <td>Office</td>\n",
       "      <td>Non-Refrigerated Warehouse</td>\n",
       "      <td>NaN</td>\n",
       "      <td>20014.500000</td>\n",
       "    </tr>\n",
       "    <tr>\n",
       "      <th>...</th>\n",
       "      <td>...</td>\n",
       "      <td>...</td>\n",
       "      <td>...</td>\n",
       "      <td>...</td>\n",
       "      <td>...</td>\n",
       "      <td>...</td>\n",
       "      <td>...</td>\n",
       "      <td>...</td>\n",
       "      <td>...</td>\n",
       "      <td>...</td>\n",
       "      <td>...</td>\n",
       "      <td>...</td>\n",
       "      <td>...</td>\n",
       "      <td>...</td>\n",
       "    </tr>\n",
       "    <tr>\n",
       "      <th>1045</th>\n",
       "      <td>NonResidential</td>\n",
       "      <td>Retail Store</td>\n",
       "      <td>98134.0</td>\n",
       "      <td>2</td>\n",
       "      <td>GREATER DUWAMISH</td>\n",
       "      <td>47.56535</td>\n",
       "      <td>-122.34054</td>\n",
       "      <td>1953</td>\n",
       "      <td>1.0</td>\n",
       "      <td>1</td>\n",
       "      <td>Retail Store</td>\n",
       "      <td>Non-Refrigerated Warehouse</td>\n",
       "      <td>NaN</td>\n",
       "      <td>39900.000000</td>\n",
       "    </tr>\n",
       "    <tr>\n",
       "      <th>1192</th>\n",
       "      <td>NonResidential</td>\n",
       "      <td>Small- and Mid-Sized Office</td>\n",
       "      <td>98133.0</td>\n",
       "      <td>5</td>\n",
       "      <td>NORTHWEST</td>\n",
       "      <td>47.72004</td>\n",
       "      <td>-122.34418</td>\n",
       "      <td>1951</td>\n",
       "      <td>1.0</td>\n",
       "      <td>2</td>\n",
       "      <td>Office</td>\n",
       "      <td>Non-Refrigerated Warehouse</td>\n",
       "      <td>NaN</td>\n",
       "      <td>19907.500000</td>\n",
       "    </tr>\n",
       "    <tr>\n",
       "      <th>2120</th>\n",
       "      <td>NonResidential</td>\n",
       "      <td>Warehouse</td>\n",
       "      <td>98108.0</td>\n",
       "      <td>1</td>\n",
       "      <td>GREATER DUWAMISH</td>\n",
       "      <td>47.53160</td>\n",
       "      <td>-122.33300</td>\n",
       "      <td>1970</td>\n",
       "      <td>1.0</td>\n",
       "      <td>1</td>\n",
       "      <td>Non-Refrigerated Warehouse</td>\n",
       "      <td>NaN</td>\n",
       "      <td>NaN</td>\n",
       "      <td>44000.000000</td>\n",
       "    </tr>\n",
       "    <tr>\n",
       "      <th>580</th>\n",
       "      <td>NonResidential</td>\n",
       "      <td>University</td>\n",
       "      <td>98122.0</td>\n",
       "      <td>3</td>\n",
       "      <td>CENTRAL</td>\n",
       "      <td>47.60940</td>\n",
       "      <td>-122.31506</td>\n",
       "      <td>1916</td>\n",
       "      <td>1.0</td>\n",
       "      <td>2</td>\n",
       "      <td>College/University</td>\n",
       "      <td>Parking</td>\n",
       "      <td>NaN</td>\n",
       "      <td>30061.000000</td>\n",
       "    </tr>\n",
       "    <tr>\n",
       "      <th>839</th>\n",
       "      <td>SPS-District K-12</td>\n",
       "      <td>K-12 School</td>\n",
       "      <td>98109.0</td>\n",
       "      <td>7</td>\n",
       "      <td>MAGNOLIA / QUEEN ANNE</td>\n",
       "      <td>47.63203</td>\n",
       "      <td>-122.35337</td>\n",
       "      <td>2001</td>\n",
       "      <td>1.0</td>\n",
       "      <td>1</td>\n",
       "      <td>K-12 School</td>\n",
       "      <td>NaN</td>\n",
       "      <td>NaN</td>\n",
       "      <td>35805.000000</td>\n",
       "    </tr>\n",
       "  </tbody>\n",
       "</table>\n",
       "<p>1320 rows × 14 columns</p>\n",
       "</div>"
      ],
      "text/plain": [
       "           BuildingType          PrimaryPropertyType  ZipCode  \\\n",
       "3162     NonResidential                 Large Office  98109.0   \n",
       "953      NonResidential             Worship Facility  98115.0   \n",
       "2637     NonResidential                        Hotel  98108.0   \n",
       "29       NonResidential                        Hotel  98121.0   \n",
       "1126     NonResidential  Small- and Mid-Sized Office  98108.0   \n",
       "...                 ...                          ...      ...   \n",
       "1045     NonResidential                 Retail Store  98134.0   \n",
       "1192     NonResidential  Small- and Mid-Sized Office  98133.0   \n",
       "2120     NonResidential                    Warehouse  98108.0   \n",
       "580      NonResidential                   University  98122.0   \n",
       "839   SPS-District K-12                  K-12 School  98109.0   \n",
       "\n",
       "      CouncilDistrictCode           Neighborhood  Latitude  Longitude  \\\n",
       "3162                    7             LAKE UNION  47.62037 -122.33627   \n",
       "953                     4              NORTHEAST  47.68752 -122.29852   \n",
       "2637                    2       GREATER DUWAMISH  47.54774 -122.32091   \n",
       "29                      7               DOWNTOWN  47.61558 -122.34186   \n",
       "1126                    2       GREATER DUWAMISH  47.55316 -122.32616   \n",
       "...                   ...                    ...       ...        ...   \n",
       "1045                    2       GREATER DUWAMISH  47.56535 -122.34054   \n",
       "1192                    5              NORTHWEST  47.72004 -122.34418   \n",
       "2120                    1       GREATER DUWAMISH  47.53160 -122.33300   \n",
       "580                     3                CENTRAL  47.60940 -122.31506   \n",
       "839                     7  MAGNOLIA / QUEEN ANNE  47.63203 -122.35337   \n",
       "\n",
       "      YearBuilt  NumberofBuildings  NumberofFloors  \\\n",
       "3162       2012                1.0              11   \n",
       "953        2000                1.0               2   \n",
       "2637       1992                1.0               3   \n",
       "29         1978                1.0               5   \n",
       "1126       1982                1.0               2   \n",
       "...         ...                ...             ...   \n",
       "1045       1953                1.0               1   \n",
       "1192       1951                1.0               2   \n",
       "2120       1970                1.0               1   \n",
       "580        1916                1.0               2   \n",
       "839        2001                1.0               1   \n",
       "\n",
       "          LargestPropertyUseType SecondLargestPropertyUseType  \\\n",
       "3162                      Office                      Parking   \n",
       "953             Worship Facility                          NaN   \n",
       "2637                       Hotel                          NaN   \n",
       "29                         Hotel                          NaN   \n",
       "1126                      Office   Non-Refrigerated Warehouse   \n",
       "...                          ...                          ...   \n",
       "1045                Retail Store   Non-Refrigerated Warehouse   \n",
       "1192                      Office   Non-Refrigerated Warehouse   \n",
       "2120  Non-Refrigerated Warehouse                          NaN   \n",
       "580           College/University                      Parking   \n",
       "839                  K-12 School                          NaN   \n",
       "\n",
       "     ThirdLargestPropertyUseType  Surface_au_sol(sf)  \n",
       "3162                       Other        47856.636364  \n",
       "953                          NaN        15693.000000  \n",
       "2637                         NaN         7484.000000  \n",
       "29                           NaN        10442.000000  \n",
       "1126                         NaN        20014.500000  \n",
       "...                          ...                 ...  \n",
       "1045                         NaN        39900.000000  \n",
       "1192                         NaN        19907.500000  \n",
       "2120                         NaN        44000.000000  \n",
       "580                          NaN        30061.000000  \n",
       "839                          NaN        35805.000000  \n",
       "\n",
       "[1320 rows x 14 columns]"
      ]
     },
     "execution_count": 18,
     "metadata": {},
     "output_type": "execute_result"
    }
   ],
   "source": [
    "X_train_EUI"
   ]
  },
  {
   "cell_type": "code",
   "execution_count": 19,
   "metadata": {
    "ExecuteTime": {
     "end_time": "2021-06-19T07:56:34.696520Z",
     "start_time": "2021-06-19T07:56:34.675519Z"
    }
   },
   "outputs": [
    {
     "data": {
      "text/html": [
       "<div>\n",
       "<style scoped>\n",
       "    .dataframe tbody tr th:only-of-type {\n",
       "        vertical-align: middle;\n",
       "    }\n",
       "\n",
       "    .dataframe tbody tr th {\n",
       "        vertical-align: top;\n",
       "    }\n",
       "\n",
       "    .dataframe thead th {\n",
       "        text-align: right;\n",
       "    }\n",
       "</style>\n",
       "<table border=\"1\" class=\"dataframe\">\n",
       "  <thead>\n",
       "    <tr style=\"text-align: right;\">\n",
       "      <th></th>\n",
       "      <th>Latitude</th>\n",
       "      <th>Longitude</th>\n",
       "      <th>YearBuilt</th>\n",
       "      <th>NumberofBuildings</th>\n",
       "      <th>NumberofFloors</th>\n",
       "      <th>Surface_au_sol(sf)</th>\n",
       "    </tr>\n",
       "  </thead>\n",
       "  <tbody>\n",
       "    <tr>\n",
       "      <th>count</th>\n",
       "      <td>1320.000000</td>\n",
       "      <td>1320.000000</td>\n",
       "      <td>1320.000000</td>\n",
       "      <td>1320.000000</td>\n",
       "      <td>1320.000000</td>\n",
       "      <td>1.307000e+03</td>\n",
       "    </tr>\n",
       "    <tr>\n",
       "      <th>mean</th>\n",
       "      <td>47.616247</td>\n",
       "      <td>-122.332559</td>\n",
       "      <td>1962.246212</td>\n",
       "      <td>1.156818</td>\n",
       "      <td>4.200758</td>\n",
       "      <td>3.116310e+04</td>\n",
       "    </tr>\n",
       "    <tr>\n",
       "      <th>std</th>\n",
       "      <td>0.048964</td>\n",
       "      <td>0.024321</td>\n",
       "      <td>32.540533</td>\n",
       "      <td>3.187654</td>\n",
       "      <td>6.912526</td>\n",
       "      <td>4.779553e+04</td>\n",
       "    </tr>\n",
       "    <tr>\n",
       "      <th>min</th>\n",
       "      <td>47.510180</td>\n",
       "      <td>-122.411820</td>\n",
       "      <td>1900.000000</td>\n",
       "      <td>0.000000</td>\n",
       "      <td>0.000000</td>\n",
       "      <td>2.216970e+02</td>\n",
       "    </tr>\n",
       "    <tr>\n",
       "      <th>25%</th>\n",
       "      <td>47.584275</td>\n",
       "      <td>-122.342598</td>\n",
       "      <td>1930.000000</td>\n",
       "      <td>1.000000</td>\n",
       "      <td>1.000000</td>\n",
       "      <td>1.247250e+04</td>\n",
       "    </tr>\n",
       "    <tr>\n",
       "      <th>50%</th>\n",
       "      <td>47.612380</td>\n",
       "      <td>-122.332890</td>\n",
       "      <td>1966.000000</td>\n",
       "      <td>1.000000</td>\n",
       "      <td>2.000000</td>\n",
       "      <td>2.097500e+04</td>\n",
       "    </tr>\n",
       "    <tr>\n",
       "      <th>75%</th>\n",
       "      <td>47.650627</td>\n",
       "      <td>-122.321848</td>\n",
       "      <td>1989.000000</td>\n",
       "      <td>1.000000</td>\n",
       "      <td>4.000000</td>\n",
       "      <td>3.254500e+04</td>\n",
       "    </tr>\n",
       "    <tr>\n",
       "      <th>max</th>\n",
       "      <td>47.733870</td>\n",
       "      <td>-122.258640</td>\n",
       "      <td>2015.000000</td>\n",
       "      <td>111.000000</td>\n",
       "      <td>99.000000</td>\n",
       "      <td>1.100000e+06</td>\n",
       "    </tr>\n",
       "  </tbody>\n",
       "</table>\n",
       "</div>"
      ],
      "text/plain": [
       "          Latitude    Longitude    YearBuilt  NumberofBuildings  \\\n",
       "count  1320.000000  1320.000000  1320.000000        1320.000000   \n",
       "mean     47.616247  -122.332559  1962.246212           1.156818   \n",
       "std       0.048964     0.024321    32.540533           3.187654   \n",
       "min      47.510180  -122.411820  1900.000000           0.000000   \n",
       "25%      47.584275  -122.342598  1930.000000           1.000000   \n",
       "50%      47.612380  -122.332890  1966.000000           1.000000   \n",
       "75%      47.650627  -122.321848  1989.000000           1.000000   \n",
       "max      47.733870  -122.258640  2015.000000         111.000000   \n",
       "\n",
       "       NumberofFloors  Surface_au_sol(sf)  \n",
       "count     1320.000000        1.307000e+03  \n",
       "mean         4.200758        3.116310e+04  \n",
       "std          6.912526        4.779553e+04  \n",
       "min          0.000000        2.216970e+02  \n",
       "25%          1.000000        1.247250e+04  \n",
       "50%          2.000000        2.097500e+04  \n",
       "75%          4.000000        3.254500e+04  \n",
       "max         99.000000        1.100000e+06  "
      ]
     },
     "execution_count": 19,
     "metadata": {},
     "output_type": "execute_result"
    }
   ],
   "source": [
    "X_train_EUI[liste_variables_quantitatives].describe()"
   ]
  },
  {
   "cell_type": "code",
   "execution_count": 20,
   "metadata": {
    "ExecuteTime": {
     "end_time": "2021-06-19T07:56:34.711521Z",
     "start_time": "2021-06-19T07:56:34.697520Z"
    }
   },
   "outputs": [
    {
     "data": {
      "text/html": [
       "<div>\n",
       "<style scoped>\n",
       "    .dataframe tbody tr th:only-of-type {\n",
       "        vertical-align: middle;\n",
       "    }\n",
       "\n",
       "    .dataframe tbody tr th {\n",
       "        vertical-align: top;\n",
       "    }\n",
       "\n",
       "    .dataframe thead th {\n",
       "        text-align: right;\n",
       "    }\n",
       "</style>\n",
       "<table border=\"1\" class=\"dataframe\">\n",
       "  <thead>\n",
       "    <tr style=\"text-align: right;\">\n",
       "      <th></th>\n",
       "      <th>Latitude</th>\n",
       "      <th>Longitude</th>\n",
       "      <th>YearBuilt</th>\n",
       "      <th>NumberofBuildings</th>\n",
       "      <th>NumberofFloors</th>\n",
       "      <th>Surface_au_sol(sf)</th>\n",
       "    </tr>\n",
       "  </thead>\n",
       "  <tbody>\n",
       "    <tr>\n",
       "      <th>3162</th>\n",
       "      <td>47.62037</td>\n",
       "      <td>-122.33627</td>\n",
       "      <td>2012</td>\n",
       "      <td>1.0</td>\n",
       "      <td>11</td>\n",
       "      <td>47856.636364</td>\n",
       "    </tr>\n",
       "    <tr>\n",
       "      <th>953</th>\n",
       "      <td>47.68752</td>\n",
       "      <td>-122.29852</td>\n",
       "      <td>2000</td>\n",
       "      <td>1.0</td>\n",
       "      <td>2</td>\n",
       "      <td>15693.000000</td>\n",
       "    </tr>\n",
       "    <tr>\n",
       "      <th>2637</th>\n",
       "      <td>47.54774</td>\n",
       "      <td>-122.32091</td>\n",
       "      <td>1992</td>\n",
       "      <td>1.0</td>\n",
       "      <td>3</td>\n",
       "      <td>7484.000000</td>\n",
       "    </tr>\n",
       "    <tr>\n",
       "      <th>29</th>\n",
       "      <td>47.61558</td>\n",
       "      <td>-122.34186</td>\n",
       "      <td>1978</td>\n",
       "      <td>1.0</td>\n",
       "      <td>5</td>\n",
       "      <td>10442.000000</td>\n",
       "    </tr>\n",
       "    <tr>\n",
       "      <th>1126</th>\n",
       "      <td>47.55316</td>\n",
       "      <td>-122.32616</td>\n",
       "      <td>1982</td>\n",
       "      <td>1.0</td>\n",
       "      <td>2</td>\n",
       "      <td>20014.500000</td>\n",
       "    </tr>\n",
       "    <tr>\n",
       "      <th>...</th>\n",
       "      <td>...</td>\n",
       "      <td>...</td>\n",
       "      <td>...</td>\n",
       "      <td>...</td>\n",
       "      <td>...</td>\n",
       "      <td>...</td>\n",
       "    </tr>\n",
       "    <tr>\n",
       "      <th>1045</th>\n",
       "      <td>47.56535</td>\n",
       "      <td>-122.34054</td>\n",
       "      <td>1953</td>\n",
       "      <td>1.0</td>\n",
       "      <td>1</td>\n",
       "      <td>39900.000000</td>\n",
       "    </tr>\n",
       "    <tr>\n",
       "      <th>1192</th>\n",
       "      <td>47.72004</td>\n",
       "      <td>-122.34418</td>\n",
       "      <td>1951</td>\n",
       "      <td>1.0</td>\n",
       "      <td>2</td>\n",
       "      <td>19907.500000</td>\n",
       "    </tr>\n",
       "    <tr>\n",
       "      <th>2120</th>\n",
       "      <td>47.53160</td>\n",
       "      <td>-122.33300</td>\n",
       "      <td>1970</td>\n",
       "      <td>1.0</td>\n",
       "      <td>1</td>\n",
       "      <td>44000.000000</td>\n",
       "    </tr>\n",
       "    <tr>\n",
       "      <th>580</th>\n",
       "      <td>47.60940</td>\n",
       "      <td>-122.31506</td>\n",
       "      <td>1916</td>\n",
       "      <td>1.0</td>\n",
       "      <td>2</td>\n",
       "      <td>30061.000000</td>\n",
       "    </tr>\n",
       "    <tr>\n",
       "      <th>839</th>\n",
       "      <td>47.63203</td>\n",
       "      <td>-122.35337</td>\n",
       "      <td>2001</td>\n",
       "      <td>1.0</td>\n",
       "      <td>1</td>\n",
       "      <td>35805.000000</td>\n",
       "    </tr>\n",
       "  </tbody>\n",
       "</table>\n",
       "<p>1320 rows × 6 columns</p>\n",
       "</div>"
      ],
      "text/plain": [
       "      Latitude  Longitude  YearBuilt  NumberofBuildings  NumberofFloors  \\\n",
       "3162  47.62037 -122.33627       2012                1.0              11   \n",
       "953   47.68752 -122.29852       2000                1.0               2   \n",
       "2637  47.54774 -122.32091       1992                1.0               3   \n",
       "29    47.61558 -122.34186       1978                1.0               5   \n",
       "1126  47.55316 -122.32616       1982                1.0               2   \n",
       "...        ...        ...        ...                ...             ...   \n",
       "1045  47.56535 -122.34054       1953                1.0               1   \n",
       "1192  47.72004 -122.34418       1951                1.0               2   \n",
       "2120  47.53160 -122.33300       1970                1.0               1   \n",
       "580   47.60940 -122.31506       1916                1.0               2   \n",
       "839   47.63203 -122.35337       2001                1.0               1   \n",
       "\n",
       "      Surface_au_sol(sf)  \n",
       "3162        47856.636364  \n",
       "953         15693.000000  \n",
       "2637         7484.000000  \n",
       "29          10442.000000  \n",
       "1126        20014.500000  \n",
       "...                  ...  \n",
       "1045        39900.000000  \n",
       "1192        19907.500000  \n",
       "2120        44000.000000  \n",
       "580         30061.000000  \n",
       "839         35805.000000  \n",
       "\n",
       "[1320 rows x 6 columns]"
      ]
     },
     "execution_count": 20,
     "metadata": {},
     "output_type": "execute_result"
    }
   ],
   "source": [
    "X_train_EUI[liste_variables_quantitatives]"
   ]
  },
  {
   "cell_type": "markdown",
   "metadata": {},
   "source": [
    "## Imputation des variables quantitatives"
   ]
  },
  {
   "cell_type": "code",
   "execution_count": 21,
   "metadata": {
    "ExecuteTime": {
     "end_time": "2021-06-19T07:56:34.715521Z",
     "start_time": "2021-06-19T07:56:34.712521Z"
    }
   },
   "outputs": [],
   "source": [
    "imputer_quanti = SimpleImputer(strategy=\"median\")"
   ]
  },
  {
   "cell_type": "code",
   "execution_count": 22,
   "metadata": {
    "ExecuteTime": {
     "end_time": "2021-06-19T07:56:34.733522Z",
     "start_time": "2021-06-19T07:56:34.716521Z"
    }
   },
   "outputs": [
    {
     "name": "stderr",
     "output_type": "stream",
     "text": [
      "<ipython-input-22-f1c96264e1c9>:1: SettingWithCopyWarning: \n",
      "A value is trying to be set on a copy of a slice from a DataFrame.\n",
      "Try using .loc[row_indexer,col_indexer] = value instead\n",
      "\n",
      "See the caveats in the documentation: https://pandas.pydata.org/pandas-docs/stable/user_guide/indexing.html#returning-a-view-versus-a-copy\n",
      "  X_train_EUI[liste_variables_quantitatives] = imputer_quanti.fit_transform(X_train_EUI[liste_variables_quantitatives])\n",
      "C:\\ProgramData\\Anaconda3\\lib\\site-packages\\pandas\\core\\indexing.py:1738: SettingWithCopyWarning: \n",
      "A value is trying to be set on a copy of a slice from a DataFrame.\n",
      "Try using .loc[row_indexer,col_indexer] = value instead\n",
      "\n",
      "See the caveats in the documentation: https://pandas.pydata.org/pandas-docs/stable/user_guide/indexing.html#returning-a-view-versus-a-copy\n",
      "  self._setitem_single_column(loc, value[:, i].tolist(), pi)\n"
     ]
    }
   ],
   "source": [
    "X_train_EUI[liste_variables_quantitatives] = imputer_quanti.fit_transform(X_train_EUI[liste_variables_quantitatives])"
   ]
  },
  {
   "cell_type": "code",
   "execution_count": 23,
   "metadata": {
    "ExecuteTime": {
     "end_time": "2021-06-19T07:56:34.755523Z",
     "start_time": "2021-06-19T07:56:34.736522Z"
    },
    "scrolled": true
   },
   "outputs": [
    {
     "data": {
      "text/html": [
       "<div>\n",
       "<style scoped>\n",
       "    .dataframe tbody tr th:only-of-type {\n",
       "        vertical-align: middle;\n",
       "    }\n",
       "\n",
       "    .dataframe tbody tr th {\n",
       "        vertical-align: top;\n",
       "    }\n",
       "\n",
       "    .dataframe thead th {\n",
       "        text-align: right;\n",
       "    }\n",
       "</style>\n",
       "<table border=\"1\" class=\"dataframe\">\n",
       "  <thead>\n",
       "    <tr style=\"text-align: right;\">\n",
       "      <th></th>\n",
       "      <th>Latitude</th>\n",
       "      <th>Longitude</th>\n",
       "      <th>YearBuilt</th>\n",
       "      <th>NumberofBuildings</th>\n",
       "      <th>NumberofFloors</th>\n",
       "      <th>Surface_au_sol(sf)</th>\n",
       "    </tr>\n",
       "  </thead>\n",
       "  <tbody>\n",
       "    <tr>\n",
       "      <th>count</th>\n",
       "      <td>1320.000000</td>\n",
       "      <td>1320.000000</td>\n",
       "      <td>1320.000000</td>\n",
       "      <td>1320.000000</td>\n",
       "      <td>1320.000000</td>\n",
       "      <td>1.320000e+03</td>\n",
       "    </tr>\n",
       "    <tr>\n",
       "      <th>mean</th>\n",
       "      <td>47.616247</td>\n",
       "      <td>-122.332559</td>\n",
       "      <td>1962.246212</td>\n",
       "      <td>1.156818</td>\n",
       "      <td>4.200758</td>\n",
       "      <td>3.106277e+04</td>\n",
       "    </tr>\n",
       "    <tr>\n",
       "      <th>std</th>\n",
       "      <td>0.048964</td>\n",
       "      <td>0.024321</td>\n",
       "      <td>32.540533</td>\n",
       "      <td>3.187654</td>\n",
       "      <td>6.912526</td>\n",
       "      <td>4.757006e+04</td>\n",
       "    </tr>\n",
       "    <tr>\n",
       "      <th>min</th>\n",
       "      <td>47.510180</td>\n",
       "      <td>-122.411820</td>\n",
       "      <td>1900.000000</td>\n",
       "      <td>0.000000</td>\n",
       "      <td>0.000000</td>\n",
       "      <td>2.216970e+02</td>\n",
       "    </tr>\n",
       "    <tr>\n",
       "      <th>25%</th>\n",
       "      <td>47.584275</td>\n",
       "      <td>-122.342598</td>\n",
       "      <td>1930.000000</td>\n",
       "      <td>1.000000</td>\n",
       "      <td>1.000000</td>\n",
       "      <td>1.265917e+04</td>\n",
       "    </tr>\n",
       "    <tr>\n",
       "      <th>50%</th>\n",
       "      <td>47.612380</td>\n",
       "      <td>-122.332890</td>\n",
       "      <td>1966.000000</td>\n",
       "      <td>1.000000</td>\n",
       "      <td>2.000000</td>\n",
       "      <td>2.097500e+04</td>\n",
       "    </tr>\n",
       "    <tr>\n",
       "      <th>75%</th>\n",
       "      <td>47.650627</td>\n",
       "      <td>-122.321848</td>\n",
       "      <td>1989.000000</td>\n",
       "      <td>1.000000</td>\n",
       "      <td>4.000000</td>\n",
       "      <td>3.236550e+04</td>\n",
       "    </tr>\n",
       "    <tr>\n",
       "      <th>max</th>\n",
       "      <td>47.733870</td>\n",
       "      <td>-122.258640</td>\n",
       "      <td>2015.000000</td>\n",
       "      <td>111.000000</td>\n",
       "      <td>99.000000</td>\n",
       "      <td>1.100000e+06</td>\n",
       "    </tr>\n",
       "  </tbody>\n",
       "</table>\n",
       "</div>"
      ],
      "text/plain": [
       "          Latitude    Longitude    YearBuilt  NumberofBuildings  \\\n",
       "count  1320.000000  1320.000000  1320.000000        1320.000000   \n",
       "mean     47.616247  -122.332559  1962.246212           1.156818   \n",
       "std       0.048964     0.024321    32.540533           3.187654   \n",
       "min      47.510180  -122.411820  1900.000000           0.000000   \n",
       "25%      47.584275  -122.342598  1930.000000           1.000000   \n",
       "50%      47.612380  -122.332890  1966.000000           1.000000   \n",
       "75%      47.650627  -122.321848  1989.000000           1.000000   \n",
       "max      47.733870  -122.258640  2015.000000         111.000000   \n",
       "\n",
       "       NumberofFloors  Surface_au_sol(sf)  \n",
       "count     1320.000000        1.320000e+03  \n",
       "mean         4.200758        3.106277e+04  \n",
       "std          6.912526        4.757006e+04  \n",
       "min          0.000000        2.216970e+02  \n",
       "25%          1.000000        1.265917e+04  \n",
       "50%          2.000000        2.097500e+04  \n",
       "75%          4.000000        3.236550e+04  \n",
       "max         99.000000        1.100000e+06  "
      ]
     },
     "execution_count": 23,
     "metadata": {},
     "output_type": "execute_result"
    }
   ],
   "source": [
    "X_train_EUI[liste_variables_quantitatives].describe()"
   ]
  },
  {
   "cell_type": "code",
   "execution_count": 24,
   "metadata": {
    "ExecuteTime": {
     "end_time": "2021-06-19T07:56:34.759523Z",
     "start_time": "2021-06-19T07:56:34.756523Z"
    },
    "scrolled": false
   },
   "outputs": [
    {
     "data": {
      "text/plain": [
       "array([ 4.7612380e+01, -1.2233289e+02,  1.9660000e+03,  1.0000000e+00,  2.0000000e+00,  2.0975000e+04])"
      ]
     },
     "execution_count": 24,
     "metadata": {},
     "output_type": "execute_result"
    }
   ],
   "source": [
    "imputer_quanti.statistics_"
   ]
  },
  {
   "cell_type": "markdown",
   "metadata": {},
   "source": [
    "## Imputation des variables qualitatives"
   ]
  },
  {
   "cell_type": "code",
   "execution_count": 25,
   "metadata": {
    "ExecuteTime": {
     "end_time": "2021-06-19T07:56:34.782525Z",
     "start_time": "2021-06-19T07:56:34.760524Z"
    }
   },
   "outputs": [
    {
     "data": {
      "text/html": [
       "<div>\n",
       "<style scoped>\n",
       "    .dataframe tbody tr th:only-of-type {\n",
       "        vertical-align: middle;\n",
       "    }\n",
       "\n",
       "    .dataframe tbody tr th {\n",
       "        vertical-align: top;\n",
       "    }\n",
       "\n",
       "    .dataframe thead th {\n",
       "        text-align: right;\n",
       "    }\n",
       "</style>\n",
       "<table border=\"1\" class=\"dataframe\">\n",
       "  <thead>\n",
       "    <tr style=\"text-align: right;\">\n",
       "      <th></th>\n",
       "      <th>BuildingType</th>\n",
       "      <th>PrimaryPropertyType</th>\n",
       "      <th>ZipCode</th>\n",
       "      <th>CouncilDistrictCode</th>\n",
       "      <th>Neighborhood</th>\n",
       "      <th>Latitude</th>\n",
       "      <th>Longitude</th>\n",
       "      <th>YearBuilt</th>\n",
       "      <th>NumberofBuildings</th>\n",
       "      <th>NumberofFloors</th>\n",
       "      <th>LargestPropertyUseType</th>\n",
       "      <th>SecondLargestPropertyUseType</th>\n",
       "      <th>ThirdLargestPropertyUseType</th>\n",
       "      <th>Surface_au_sol(sf)</th>\n",
       "    </tr>\n",
       "  </thead>\n",
       "  <tbody>\n",
       "    <tr>\n",
       "      <th>3162</th>\n",
       "      <td>NonResidential</td>\n",
       "      <td>Large Office</td>\n",
       "      <td>98109.0</td>\n",
       "      <td>7</td>\n",
       "      <td>LAKE UNION</td>\n",
       "      <td>47.62037</td>\n",
       "      <td>-122.33627</td>\n",
       "      <td>2012.0</td>\n",
       "      <td>1.0</td>\n",
       "      <td>11.0</td>\n",
       "      <td>Office</td>\n",
       "      <td>Parking</td>\n",
       "      <td>Other</td>\n",
       "      <td>47856.636364</td>\n",
       "    </tr>\n",
       "    <tr>\n",
       "      <th>953</th>\n",
       "      <td>NonResidential</td>\n",
       "      <td>Worship Facility</td>\n",
       "      <td>98115.0</td>\n",
       "      <td>4</td>\n",
       "      <td>NORTHEAST</td>\n",
       "      <td>47.68752</td>\n",
       "      <td>-122.29852</td>\n",
       "      <td>2000.0</td>\n",
       "      <td>1.0</td>\n",
       "      <td>2.0</td>\n",
       "      <td>Worship Facility</td>\n",
       "      <td>NaN</td>\n",
       "      <td>NaN</td>\n",
       "      <td>15693.000000</td>\n",
       "    </tr>\n",
       "    <tr>\n",
       "      <th>2637</th>\n",
       "      <td>NonResidential</td>\n",
       "      <td>Hotel</td>\n",
       "      <td>98108.0</td>\n",
       "      <td>2</td>\n",
       "      <td>GREATER DUWAMISH</td>\n",
       "      <td>47.54774</td>\n",
       "      <td>-122.32091</td>\n",
       "      <td>1992.0</td>\n",
       "      <td>1.0</td>\n",
       "      <td>3.0</td>\n",
       "      <td>Hotel</td>\n",
       "      <td>NaN</td>\n",
       "      <td>NaN</td>\n",
       "      <td>7484.000000</td>\n",
       "    </tr>\n",
       "    <tr>\n",
       "      <th>29</th>\n",
       "      <td>NonResidential</td>\n",
       "      <td>Hotel</td>\n",
       "      <td>98121.0</td>\n",
       "      <td>7</td>\n",
       "      <td>DOWNTOWN</td>\n",
       "      <td>47.61558</td>\n",
       "      <td>-122.34186</td>\n",
       "      <td>1978.0</td>\n",
       "      <td>1.0</td>\n",
       "      <td>5.0</td>\n",
       "      <td>Hotel</td>\n",
       "      <td>NaN</td>\n",
       "      <td>NaN</td>\n",
       "      <td>10442.000000</td>\n",
       "    </tr>\n",
       "    <tr>\n",
       "      <th>1126</th>\n",
       "      <td>NonResidential</td>\n",
       "      <td>Small- and Mid-Sized Office</td>\n",
       "      <td>98108.0</td>\n",
       "      <td>2</td>\n",
       "      <td>GREATER DUWAMISH</td>\n",
       "      <td>47.55316</td>\n",
       "      <td>-122.32616</td>\n",
       "      <td>1982.0</td>\n",
       "      <td>1.0</td>\n",
       "      <td>2.0</td>\n",
       "      <td>Office</td>\n",
       "      <td>Non-Refrigerated Warehouse</td>\n",
       "      <td>NaN</td>\n",
       "      <td>20014.500000</td>\n",
       "    </tr>\n",
       "    <tr>\n",
       "      <th>...</th>\n",
       "      <td>...</td>\n",
       "      <td>...</td>\n",
       "      <td>...</td>\n",
       "      <td>...</td>\n",
       "      <td>...</td>\n",
       "      <td>...</td>\n",
       "      <td>...</td>\n",
       "      <td>...</td>\n",
       "      <td>...</td>\n",
       "      <td>...</td>\n",
       "      <td>...</td>\n",
       "      <td>...</td>\n",
       "      <td>...</td>\n",
       "      <td>...</td>\n",
       "    </tr>\n",
       "    <tr>\n",
       "      <th>1045</th>\n",
       "      <td>NonResidential</td>\n",
       "      <td>Retail Store</td>\n",
       "      <td>98134.0</td>\n",
       "      <td>2</td>\n",
       "      <td>GREATER DUWAMISH</td>\n",
       "      <td>47.56535</td>\n",
       "      <td>-122.34054</td>\n",
       "      <td>1953.0</td>\n",
       "      <td>1.0</td>\n",
       "      <td>1.0</td>\n",
       "      <td>Retail Store</td>\n",
       "      <td>Non-Refrigerated Warehouse</td>\n",
       "      <td>NaN</td>\n",
       "      <td>39900.000000</td>\n",
       "    </tr>\n",
       "    <tr>\n",
       "      <th>1192</th>\n",
       "      <td>NonResidential</td>\n",
       "      <td>Small- and Mid-Sized Office</td>\n",
       "      <td>98133.0</td>\n",
       "      <td>5</td>\n",
       "      <td>NORTHWEST</td>\n",
       "      <td>47.72004</td>\n",
       "      <td>-122.34418</td>\n",
       "      <td>1951.0</td>\n",
       "      <td>1.0</td>\n",
       "      <td>2.0</td>\n",
       "      <td>Office</td>\n",
       "      <td>Non-Refrigerated Warehouse</td>\n",
       "      <td>NaN</td>\n",
       "      <td>19907.500000</td>\n",
       "    </tr>\n",
       "    <tr>\n",
       "      <th>2120</th>\n",
       "      <td>NonResidential</td>\n",
       "      <td>Warehouse</td>\n",
       "      <td>98108.0</td>\n",
       "      <td>1</td>\n",
       "      <td>GREATER DUWAMISH</td>\n",
       "      <td>47.53160</td>\n",
       "      <td>-122.33300</td>\n",
       "      <td>1970.0</td>\n",
       "      <td>1.0</td>\n",
       "      <td>1.0</td>\n",
       "      <td>Non-Refrigerated Warehouse</td>\n",
       "      <td>NaN</td>\n",
       "      <td>NaN</td>\n",
       "      <td>44000.000000</td>\n",
       "    </tr>\n",
       "    <tr>\n",
       "      <th>580</th>\n",
       "      <td>NonResidential</td>\n",
       "      <td>University</td>\n",
       "      <td>98122.0</td>\n",
       "      <td>3</td>\n",
       "      <td>CENTRAL</td>\n",
       "      <td>47.60940</td>\n",
       "      <td>-122.31506</td>\n",
       "      <td>1916.0</td>\n",
       "      <td>1.0</td>\n",
       "      <td>2.0</td>\n",
       "      <td>College/University</td>\n",
       "      <td>Parking</td>\n",
       "      <td>NaN</td>\n",
       "      <td>30061.000000</td>\n",
       "    </tr>\n",
       "    <tr>\n",
       "      <th>839</th>\n",
       "      <td>SPS-District K-12</td>\n",
       "      <td>K-12 School</td>\n",
       "      <td>98109.0</td>\n",
       "      <td>7</td>\n",
       "      <td>MAGNOLIA / QUEEN ANNE</td>\n",
       "      <td>47.63203</td>\n",
       "      <td>-122.35337</td>\n",
       "      <td>2001.0</td>\n",
       "      <td>1.0</td>\n",
       "      <td>1.0</td>\n",
       "      <td>K-12 School</td>\n",
       "      <td>NaN</td>\n",
       "      <td>NaN</td>\n",
       "      <td>35805.000000</td>\n",
       "    </tr>\n",
       "  </tbody>\n",
       "</table>\n",
       "<p>1320 rows × 14 columns</p>\n",
       "</div>"
      ],
      "text/plain": [
       "           BuildingType          PrimaryPropertyType  ZipCode  \\\n",
       "3162     NonResidential                 Large Office  98109.0   \n",
       "953      NonResidential             Worship Facility  98115.0   \n",
       "2637     NonResidential                        Hotel  98108.0   \n",
       "29       NonResidential                        Hotel  98121.0   \n",
       "1126     NonResidential  Small- and Mid-Sized Office  98108.0   \n",
       "...                 ...                          ...      ...   \n",
       "1045     NonResidential                 Retail Store  98134.0   \n",
       "1192     NonResidential  Small- and Mid-Sized Office  98133.0   \n",
       "2120     NonResidential                    Warehouse  98108.0   \n",
       "580      NonResidential                   University  98122.0   \n",
       "839   SPS-District K-12                  K-12 School  98109.0   \n",
       "\n",
       "      CouncilDistrictCode           Neighborhood  Latitude  Longitude  \\\n",
       "3162                    7             LAKE UNION  47.62037 -122.33627   \n",
       "953                     4              NORTHEAST  47.68752 -122.29852   \n",
       "2637                    2       GREATER DUWAMISH  47.54774 -122.32091   \n",
       "29                      7               DOWNTOWN  47.61558 -122.34186   \n",
       "1126                    2       GREATER DUWAMISH  47.55316 -122.32616   \n",
       "...                   ...                    ...       ...        ...   \n",
       "1045                    2       GREATER DUWAMISH  47.56535 -122.34054   \n",
       "1192                    5              NORTHWEST  47.72004 -122.34418   \n",
       "2120                    1       GREATER DUWAMISH  47.53160 -122.33300   \n",
       "580                     3                CENTRAL  47.60940 -122.31506   \n",
       "839                     7  MAGNOLIA / QUEEN ANNE  47.63203 -122.35337   \n",
       "\n",
       "      YearBuilt  NumberofBuildings  NumberofFloors  \\\n",
       "3162     2012.0                1.0            11.0   \n",
       "953      2000.0                1.0             2.0   \n",
       "2637     1992.0                1.0             3.0   \n",
       "29       1978.0                1.0             5.0   \n",
       "1126     1982.0                1.0             2.0   \n",
       "...         ...                ...             ...   \n",
       "1045     1953.0                1.0             1.0   \n",
       "1192     1951.0                1.0             2.0   \n",
       "2120     1970.0                1.0             1.0   \n",
       "580      1916.0                1.0             2.0   \n",
       "839      2001.0                1.0             1.0   \n",
       "\n",
       "          LargestPropertyUseType SecondLargestPropertyUseType  \\\n",
       "3162                      Office                      Parking   \n",
       "953             Worship Facility                          NaN   \n",
       "2637                       Hotel                          NaN   \n",
       "29                         Hotel                          NaN   \n",
       "1126                      Office   Non-Refrigerated Warehouse   \n",
       "...                          ...                          ...   \n",
       "1045                Retail Store   Non-Refrigerated Warehouse   \n",
       "1192                      Office   Non-Refrigerated Warehouse   \n",
       "2120  Non-Refrigerated Warehouse                          NaN   \n",
       "580           College/University                      Parking   \n",
       "839                  K-12 School                          NaN   \n",
       "\n",
       "     ThirdLargestPropertyUseType  Surface_au_sol(sf)  \n",
       "3162                       Other        47856.636364  \n",
       "953                          NaN        15693.000000  \n",
       "2637                         NaN         7484.000000  \n",
       "29                           NaN        10442.000000  \n",
       "1126                         NaN        20014.500000  \n",
       "...                          ...                 ...  \n",
       "1045                         NaN        39900.000000  \n",
       "1192                         NaN        19907.500000  \n",
       "2120                         NaN        44000.000000  \n",
       "580                          NaN        30061.000000  \n",
       "839                          NaN        35805.000000  \n",
       "\n",
       "[1320 rows x 14 columns]"
      ]
     },
     "execution_count": 25,
     "metadata": {},
     "output_type": "execute_result"
    }
   ],
   "source": [
    "X_train_EUI"
   ]
  },
  {
   "cell_type": "code",
   "execution_count": 26,
   "metadata": {
    "ExecuteTime": {
     "end_time": "2021-06-19T07:56:34.794525Z",
     "start_time": "2021-06-19T07:56:34.783525Z"
    },
    "scrolled": false
   },
   "outputs": [
    {
     "name": "stdout",
     "output_type": "stream",
     "text": [
      "<class 'pandas.core.frame.DataFrame'>\n",
      "Int64Index: 1320 entries, 3162 to 839\n",
      "Data columns (total 8 columns):\n",
      " #   Column                        Non-Null Count  Dtype  \n",
      "---  ------                        --------------  -----  \n",
      " 0   BuildingType                  1320 non-null   object \n",
      " 1   PrimaryPropertyType           1320 non-null   object \n",
      " 2   ZipCode                       1307 non-null   float64\n",
      " 3   CouncilDistrictCode           1320 non-null   int64  \n",
      " 4   Neighborhood                  1320 non-null   object \n",
      " 5   LargestPropertyUseType        1316 non-null   object \n",
      " 6   SecondLargestPropertyUseType  686 non-null    object \n",
      " 7   ThirdLargestPropertyUseType   292 non-null    object \n",
      "dtypes: float64(1), int64(1), object(6)\n",
      "memory usage: 92.8+ KB\n"
     ]
    }
   ],
   "source": [
    "X_train_EUI[liste_variables_qualitatives].info()"
   ]
  },
  {
   "cell_type": "code",
   "execution_count": 27,
   "metadata": {
    "ExecuteTime": {
     "end_time": "2021-06-19T07:56:34.818527Z",
     "start_time": "2021-06-19T07:56:34.798526Z"
    }
   },
   "outputs": [
    {
     "name": "stderr",
     "output_type": "stream",
     "text": [
      "<ipython-input-27-7f652f4f67b0>:5: SettingWithCopyWarning: \n",
      "A value is trying to be set on a copy of a slice from a DataFrame.\n",
      "Try using .loc[row_indexer,col_indexer] = value instead\n",
      "\n",
      "See the caveats in the documentation: https://pandas.pydata.org/pandas-docs/stable/user_guide/indexing.html#returning-a-view-versus-a-copy\n",
      "  X_train_EUI[['ZipCode']] = imputer_quali_ZC.fit_transform(X_train_EUI[['ZipCode']])\n",
      "C:\\ProgramData\\Anaconda3\\lib\\site-packages\\pandas\\core\\indexing.py:1738: SettingWithCopyWarning: \n",
      "A value is trying to be set on a copy of a slice from a DataFrame.\n",
      "Try using .loc[row_indexer,col_indexer] = value instead\n",
      "\n",
      "See the caveats in the documentation: https://pandas.pydata.org/pandas-docs/stable/user_guide/indexing.html#returning-a-view-versus-a-copy\n",
      "  self._setitem_single_column(loc, value[:, i].tolist(), pi)\n",
      "<ipython-input-27-7f652f4f67b0>:6: SettingWithCopyWarning: \n",
      "A value is trying to be set on a copy of a slice from a DataFrame.\n",
      "Try using .loc[row_indexer,col_indexer] = value instead\n",
      "\n",
      "See the caveats in the documentation: https://pandas.pydata.org/pandas-docs/stable/user_guide/indexing.html#returning-a-view-versus-a-copy\n",
      "  X_train_EUI[['CouncilDistrictCode']] = imputer_quali_CDC.fit_transform(X_train_EUI[['CouncilDistrictCode']])\n",
      "C:\\ProgramData\\Anaconda3\\lib\\site-packages\\pandas\\core\\indexing.py:1738: SettingWithCopyWarning: \n",
      "A value is trying to be set on a copy of a slice from a DataFrame.\n",
      "Try using .loc[row_indexer,col_indexer] = value instead\n",
      "\n",
      "See the caveats in the documentation: https://pandas.pydata.org/pandas-docs/stable/user_guide/indexing.html#returning-a-view-versus-a-copy\n",
      "  self._setitem_single_column(loc, value[:, i].tolist(), pi)\n",
      "<ipython-input-27-7f652f4f67b0>:7: SettingWithCopyWarning: \n",
      "A value is trying to be set on a copy of a slice from a DataFrame.\n",
      "Try using .loc[row_indexer,col_indexer] = value instead\n",
      "\n",
      "See the caveats in the documentation: https://pandas.pydata.org/pandas-docs/stable/user_guide/indexing.html#returning-a-view-versus-a-copy\n",
      "  X_train_EUI[['BuildingType',\n",
      "C:\\ProgramData\\Anaconda3\\lib\\site-packages\\pandas\\core\\indexing.py:1738: SettingWithCopyWarning: \n",
      "A value is trying to be set on a copy of a slice from a DataFrame.\n",
      "Try using .loc[row_indexer,col_indexer] = value instead\n",
      "\n",
      "See the caveats in the documentation: https://pandas.pydata.org/pandas-docs/stable/user_guide/indexing.html#returning-a-view-versus-a-copy\n",
      "  self._setitem_single_column(loc, value[:, i].tolist(), pi)\n"
     ]
    }
   ],
   "source": [
    "imputer_quali_ZC = SimpleImputer(strategy='constant', fill_value=None)     # fill_value will be 0 when imputing numerical data and “missing_value” for strings or object data types\n",
    "imputer_quali_CDC = SimpleImputer(strategy='constant', fill_value=None) \n",
    "imputer_quali_autre = SimpleImputer(strategy='constant', fill_value=None) \n",
    "\n",
    "X_train_EUI[['ZipCode']] = imputer_quali_ZC.fit_transform(X_train_EUI[['ZipCode']])\n",
    "X_train_EUI[['CouncilDistrictCode']] = imputer_quali_CDC.fit_transform(X_train_EUI[['CouncilDistrictCode']])\n",
    "X_train_EUI[['BuildingType',\n",
    " 'PrimaryPropertyType',\n",
    " 'Neighborhood',\n",
    " 'LargestPropertyUseType',\n",
    " 'SecondLargestPropertyUseType',\n",
    " 'ThirdLargestPropertyUseType']\n",
    "] = imputer_quali_CDC.fit_transform(X_train_EUI[['BuildingType',\n",
    " 'PrimaryPropertyType',\n",
    " 'Neighborhood',\n",
    " 'LargestPropertyUseType',\n",
    " 'SecondLargestPropertyUseType',\n",
    " 'ThirdLargestPropertyUseType']])"
   ]
  },
  {
   "cell_type": "code",
   "execution_count": 28,
   "metadata": {
    "ExecuteTime": {
     "end_time": "2021-06-19T07:56:34.832528Z",
     "start_time": "2021-06-19T07:56:34.821527Z"
    }
   },
   "outputs": [
    {
     "data": {
      "text/html": [
       "<div>\n",
       "<style scoped>\n",
       "    .dataframe tbody tr th:only-of-type {\n",
       "        vertical-align: middle;\n",
       "    }\n",
       "\n",
       "    .dataframe tbody tr th {\n",
       "        vertical-align: top;\n",
       "    }\n",
       "\n",
       "    .dataframe thead th {\n",
       "        text-align: right;\n",
       "    }\n",
       "</style>\n",
       "<table border=\"1\" class=\"dataframe\">\n",
       "  <thead>\n",
       "    <tr style=\"text-align: right;\">\n",
       "      <th></th>\n",
       "      <th>BuildingType</th>\n",
       "      <th>PrimaryPropertyType</th>\n",
       "      <th>ZipCode</th>\n",
       "      <th>CouncilDistrictCode</th>\n",
       "      <th>Neighborhood</th>\n",
       "      <th>Latitude</th>\n",
       "      <th>Longitude</th>\n",
       "      <th>YearBuilt</th>\n",
       "      <th>NumberofBuildings</th>\n",
       "      <th>NumberofFloors</th>\n",
       "      <th>LargestPropertyUseType</th>\n",
       "      <th>SecondLargestPropertyUseType</th>\n",
       "      <th>ThirdLargestPropertyUseType</th>\n",
       "      <th>Surface_au_sol(sf)</th>\n",
       "    </tr>\n",
       "  </thead>\n",
       "  <tbody>\n",
       "  </tbody>\n",
       "</table>\n",
       "</div>"
      ],
      "text/plain": [
       "Empty DataFrame\n",
       "Columns: [BuildingType, PrimaryPropertyType, ZipCode, CouncilDistrictCode, Neighborhood, Latitude, Longitude, YearBuilt, NumberofBuildings, NumberofFloors, LargestPropertyUseType, SecondLargestPropertyUseType, ThirdLargestPropertyUseType, Surface_au_sol(sf)]\n",
       "Index: []"
      ]
     },
     "execution_count": 28,
     "metadata": {},
     "output_type": "execute_result"
    }
   ],
   "source": [
    "X_train_EUI[X_train_EUI.isnull().any(axis=1)]"
   ]
  },
  {
   "cell_type": "markdown",
   "metadata": {
    "ExecuteTime": {
     "end_time": "2021-06-16T08:40:38.290903Z",
     "start_time": "2021-06-16T08:40:38.271917Z"
    }
   },
   "source": [
    "# One hot encoding (variables qualitatives)"
   ]
  },
  {
   "cell_type": "code",
   "execution_count": 29,
   "metadata": {
    "ExecuteTime": {
     "end_time": "2021-06-19T07:56:34.837528Z",
     "start_time": "2021-06-19T07:56:34.833528Z"
    }
   },
   "outputs": [
    {
     "data": {
      "text/plain": [
       "['BuildingType',\n",
       " 'PrimaryPropertyType',\n",
       " 'ZipCode',\n",
       " 'CouncilDistrictCode',\n",
       " 'Neighborhood',\n",
       " 'LargestPropertyUseType',\n",
       " 'SecondLargestPropertyUseType',\n",
       " 'ThirdLargestPropertyUseType']"
      ]
     },
     "execution_count": 29,
     "metadata": {},
     "output_type": "execute_result"
    }
   ],
   "source": [
    "liste_variables_qualitatives"
   ]
  },
  {
   "cell_type": "code",
   "execution_count": 30,
   "metadata": {
    "ExecuteTime": {
     "end_time": "2021-06-19T07:56:34.849529Z",
     "start_time": "2021-06-19T07:56:34.838528Z"
    }
   },
   "outputs": [
    {
     "data": {
      "text/plain": [
       "<1320x235 sparse matrix of type '<class 'numpy.float64'>'\n",
       "\twith 10560 stored elements in Compressed Sparse Row format>"
      ]
     },
     "metadata": {},
     "output_type": "display_data"
    }
   ],
   "source": [
    "# sklearn force à séparer l'encodage des variables strings et variables numériques\n",
    "# encoder_num = OneHotEncoder(handle_unknown='ignore')\n",
    "# encoder_str = OneHotEncoder(handle_unknown='ignore')\n",
    "encoder = OneHotEncoder(handle_unknown='ignore')\n",
    "\n",
    "# X_train_EUI_1hot_num = encoder_num.fit_transform(X_train_EUI[['ZipCode', 'CouncilDistrictCode']])\n",
    "# X_train_EUI_1hot_str = encoder_str.fit_transform(X_train_EUI[['BuildingType', 'PrimaryPropertyType', 'Neighborhood', 'LargestPropertyUseType',  'SecondLargestPropertyUseType',  'ThirdLargestPropertyUseType']])\n",
    "X_train_EUI_1hot = encoder.fit_transform(X_train_EUI[liste_variables_qualitatives])\n",
    "\n",
    "# display(X_train_EUI_1hot_num)\n",
    "# display(X_train_EUI_1hot_str)\n",
    "display(X_train_EUI_1hot)"
   ]
  },
  {
   "cell_type": "code",
   "execution_count": 31,
   "metadata": {
    "ExecuteTime": {
     "end_time": "2021-06-19T07:56:34.855529Z",
     "start_time": "2021-06-19T07:56:34.850529Z"
    }
   },
   "outputs": [
    {
     "data": {
      "text/plain": [
       "[array(['Campus', 'NonResidential', 'Nonresidential COS', 'SPS-District K-12'], dtype=object),\n",
       " array(['Distribution Center', 'Hospital', 'Hotel', 'K-12 School', 'Laboratory', 'Large Office', 'Low-Rise Multifamily', 'Medical Office', 'Mixed Use Property',\n",
       "        'Office', 'Other', 'Refrigerated Warehouse', 'Residence Hall', 'Restaurant', 'Retail Store', 'Self-Storage Facility', 'Senior Care Community',\n",
       "        'Small- and Mid-Sized Office', 'Supermarket / Grocery Store', 'University', 'Warehouse', 'Worship Facility'], dtype=object),\n",
       " array([    0., 98011., 98013., 98020., 98033., 98053., 98070., 98101., 98102., 98103., 98104., 98105., 98106., 98107., 98108., 98109., 98111., 98112., 98113.,\n",
       "        98114., 98115., 98116., 98117., 98118., 98119., 98121., 98122., 98124., 98125., 98126., 98133., 98134., 98136., 98144., 98146., 98154., 98155., 98164.,\n",
       "        98165., 98168., 98177., 98178., 98181., 98185., 98195., 98199.]),\n",
       " array([1, 2, 3, 4, 5, 6, 7], dtype=int64),\n",
       " array(['BALLARD', 'Ballard', 'CENTRAL', 'Central', 'DELRIDGE', 'DELRIDGE NEIGHBORHOODS', 'DOWNTOWN', 'Delridge', 'EAST', 'GREATER DUWAMISH', 'LAKE UNION',\n",
       "        'MAGNOLIA / QUEEN ANNE', 'NORTH', 'NORTHEAST', 'NORTHWEST', 'North', 'Northwest', 'SOUTHEAST', 'SOUTHWEST'], dtype=object),\n",
       " array(['Adult Education', 'Automobile Dealership', 'Bank Branch', 'College/University', 'Data Center', 'Distribution Center', 'Financial Office', 'Fire Station',\n",
       "        'Fitness Center/Health Club/Gym', 'Hospital (General Medical & Surgical)', 'Hotel', 'K-12 School', 'Laboratory', 'Library', 'Lifestyle Center',\n",
       "        'Manufacturing/Industrial Plant', 'Medical Office', 'Movie Theater', 'Multifamily Housing', 'Museum', 'Non-Refrigerated Warehouse', 'Office', 'Other',\n",
       "        'Other - Education', 'Other - Entertainment/Public Assembly', 'Other - Lodging/Residential', 'Other - Mall', 'Other - Public Services', 'Other - Recreation',\n",
       "        'Other - Restaurant/Bar', 'Other - Services', 'Other - Utility', 'Other/Specialty Hospital', 'Parking', 'Performing Arts',\n",
       "        'Personal Services (Health/Beauty, Dry Cleaning, etc)', 'Pre-school/Daycare', 'Prison/Incarceration', 'Refrigerated Warehouse',\n",
       "        'Repair Services (Vehicle, Shoe, Locksmith, etc)', 'Residence Hall/Dormitory', 'Residential Care Facility', 'Restaurant', 'Retail Store',\n",
       "        'Self-Storage Facility', 'Senior Care Community', 'Social/Meeting Hall', 'Strip Mall', 'Supermarket/Grocery Store', 'Urgent Care/Clinic/Other Outpatient',\n",
       "        'Wholesale Club/Supercenter', 'Worship Facility', 'missing_value'], dtype=object),\n",
       " array(['Adult Education', 'Automobile Dealership', 'Bank Branch', 'Bar/Nightclub', 'College/University', 'Courthouse', 'Data Center', 'Distribution Center',\n",
       "        'Enclosed Mall', 'Financial Office', 'Fitness Center/Health Club/Gym', 'Food Sales', 'Food Service', 'Hospital (General Medical & Surgical)', 'Hotel',\n",
       "        'K-12 School', 'Laboratory', 'Manufacturing/Industrial Plant', 'Medical Office', 'Movie Theater', 'Multifamily Housing', 'Non-Refrigerated Warehouse',\n",
       "        'Office', 'Other', 'Other - Education', 'Other - Entertainment/Public Assembly', 'Other - Public Services', 'Other - Recreation', 'Other - Restaurant/Bar',\n",
       "        'Other - Services', 'Parking', 'Performing Arts', 'Personal Services (Health/Beauty, Dry Cleaning, etc)', 'Pre-school/Daycare', 'Refrigerated Warehouse',\n",
       "        'Repair Services (Vehicle, Shoe, Locksmith, etc)', 'Residence Hall/Dormitory', 'Restaurant', 'Retail Store', 'Self-Storage Facility', 'Social/Meeting Hall',\n",
       "        'Supermarket/Grocery Store', 'Swimming Pool', 'Vocational School', 'Worship Facility', 'missing_value'], dtype=object),\n",
       " array(['Bank Branch', 'Bar/Nightclub', 'Convenience Store without Gas Station', 'Data Center', 'Distribution Center', 'Fast Food Restaurant', 'Financial Office',\n",
       "        'Fitness Center/Health Club/Gym', 'Food Service', 'Hotel', 'K-12 School', 'Manufacturing/Industrial Plant', 'Medical Office', 'Multifamily Housing',\n",
       "        'Non-Refrigerated Warehouse', 'Office', 'Other', 'Other - Education', 'Other - Entertainment/Public Assembly', 'Other - Recreation',\n",
       "        'Other - Restaurant/Bar', 'Other - Services', 'Other - Technology/Science', 'Other/Specialty Hospital', 'Parking',\n",
       "        'Personal Services (Health/Beauty, Dry Cleaning, etc)', 'Pre-school/Daycare', 'Refrigerated Warehouse', 'Restaurant', 'Retail Store',\n",
       "        'Self-Storage Facility', 'Social/Meeting Hall', 'Strip Mall', 'Supermarket/Grocery Store', 'Swimming Pool', 'Vocational School', 'Worship Facility',\n",
       "        'missing_value'], dtype=object)]"
      ]
     },
     "execution_count": 31,
     "metadata": {},
     "output_type": "execute_result"
    }
   ],
   "source": [
    "encoder.categories_"
   ]
  },
  {
   "cell_type": "markdown",
   "metadata": {},
   "source": [
    "# Recalibrage (variables quantitatives)"
   ]
  },
  {
   "cell_type": "code",
   "execution_count": 32,
   "metadata": {
    "ExecuteTime": {
     "end_time": "2021-06-19T07:56:36.264610Z",
     "start_time": "2021-06-19T07:56:34.856529Z"
    }
   },
   "outputs": [
    {
     "data": {
      "image/png": "[encoded data removed]",
      "text/plain": [
       "<Figure size 576x396 with 6 Axes>"
      ]
     },
     "metadata": {},
     "output_type": "display_data"
    }
   ],
   "source": [
    "# Tracé des variables quantitatives avant recalibrage\n",
    "plt.style.use('seaborn')\n",
    "X_train_EUI[liste_variables_quantitatives].hist(bins=100)#, figsize=(22,15))\n",
    "plt.show()"
   ]
  },
  {
   "cell_type": "code",
   "execution_count": 33,
   "metadata": {
    "ExecuteTime": {
     "end_time": "2021-06-19T07:56:36.286611Z",
     "start_time": "2021-06-19T07:56:36.265610Z"
    },
    "scrolled": true
   },
   "outputs": [],
   "source": [
    "qt = QuantileTransformer(n_quantiles=1000, random_state=0, output_distribution='normal')\n",
    "X_train_EUI_qt = qt.fit_transform(X_train_EUI[liste_variables_quantitatives])"
   ]
  },
  {
   "cell_type": "code",
   "execution_count": 34,
   "metadata": {
    "ExecuteTime": {
     "end_time": "2021-06-19T07:56:37.608686Z",
     "start_time": "2021-06-19T07:56:36.287611Z"
    }
   },
   "outputs": [
    {
     "data": {
      "image/png": "[encoded data removed]",
      "text/plain": [
       "<Figure size 576x396 with 6 Axes>"
      ]
     },
     "metadata": {},
     "output_type": "display_data"
    }
   ],
   "source": [
    "# Tracé des variables quantitatives après recalibrage\n",
    "df_qt = pd.DataFrame(X_train_EUI_qt, columns=liste_variables_quantitatives)\n",
    "\n",
    "plt.style.use('seaborn')\n",
    "df_qt.hist(bins=100)\n",
    "plt.show()"
   ]
  },
  {
   "cell_type": "markdown",
   "metadata": {},
   "source": [
    "# Pipeline (imputation, one hot encoding, recalibrage)"
   ]
  },
  {
   "cell_type": "markdown",
   "metadata": {
    "ExecuteTime": {
     "end_time": "2021-06-16T19:48:04.018795Z",
     "start_time": "2021-06-16T19:48:04.009800Z"
    }
   },
   "source": [
    "On combine les opérations décrites dans les chapitres précédents (imputation, one hot encoding, recalibrage) en un workflow automatisé."
   ]
  },
  {
   "cell_type": "code",
   "execution_count": 35,
   "metadata": {
    "ExecuteTime": {
     "end_time": "2021-06-19T07:56:37.616687Z",
     "start_time": "2021-06-19T07:56:37.609687Z"
    }
   },
   "outputs": [],
   "source": [
    "# On recrée les jeux de train/test avec split\n",
    "X1 = df1[liste_variables_pour_modelisation].copy()\n",
    "X_train_EUI, X_test_EUI, y_train_EUI, y_test_EUI = train_test_split(X1, y1_EUI, test_size=0.2, random_state=0)"
   ]
  },
  {
   "cell_type": "markdown",
   "metadata": {
    "ExecuteTime": {
     "end_time": "2021-06-16T16:58:21.846724Z",
     "start_time": "2021-06-16T16:58:21.834709Z"
    },
    "scrolled": false
   },
   "source": [
    "## Pipeline variables quantitatives"
   ]
  },
  {
   "cell_type": "code",
   "execution_count": 36,
   "metadata": {
    "ExecuteTime": {
     "end_time": "2021-06-19T07:56:37.620687Z",
     "start_time": "2021-06-19T07:56:37.617687Z"
    }
   },
   "outputs": [],
   "source": [
    "pipeline_quanti = Pipeline([\n",
    "        ('imputer', SimpleImputer(strategy=\"median\")),\n",
    "        ('scaler', QuantileTransformer(n_quantiles=1000, random_state=0, output_distribution='normal')),\n",
    "    ])"
   ]
  },
  {
   "cell_type": "code",
   "execution_count": 37,
   "metadata": {
    "ExecuteTime": {
     "end_time": "2021-06-19T07:56:38.826756Z",
     "start_time": "2021-06-19T07:56:37.621687Z"
    }
   },
   "outputs": [
    {
     "data": {
      "image/png": "[encoded data removed]",
      "text/plain": [
       "<Figure size 576x396 with 6 Axes>"
      ]
     },
     "metadata": {},
     "output_type": "display_data"
    }
   ],
   "source": [
    "# test du pipeline\n",
    "X_train_EUI_quanti = pipeline_quanti.fit_transform(X_train_EUI[liste_variables_quantitatives])\n",
    "\n",
    "# Tracé des variables quantitatives après pipeline\n",
    "df_quanti = pd.DataFrame(X_train_EUI_quanti, columns=liste_variables_quantitatives)\n",
    "plt.style.use('seaborn')\n",
    "df_quanti.hist(bins=100)\n",
    "plt.show()"
   ]
  },
  {
   "cell_type": "markdown",
   "metadata": {
    "ExecuteTime": {
     "end_time": "2021-06-17T09:32:15.077282Z",
     "start_time": "2021-06-17T09:32:15.053308Z"
    }
   },
   "source": [
    "OK, on retrouve les mêmes histogrammes avec un pipeline."
   ]
  },
  {
   "cell_type": "markdown",
   "metadata": {
    "ExecuteTime": {
     "end_time": "2021-06-16T16:58:21.846724Z",
     "start_time": "2021-06-16T16:58:21.834709Z"
    },
    "scrolled": false
   },
   "source": [
    "## Pipeline variables qualitatives"
   ]
  },
  {
   "cell_type": "markdown",
   "metadata": {},
   "source": [
    "L'imputer SimpleImputer de sklearn a un défaut de conception : lorsque le dataframe contient des données de type différents (string et numérique), les colonnes numériques sont imputées avec des strings.\n",
    "Ce qui fait ensuiter bugger OneHotEncoder.\n",
    "Il faut donc créer un imputeur maison et en faire un transformateur compatible avec un pipeline."
   ]
  },
  {
   "cell_type": "code",
   "execution_count": 38,
   "metadata": {
    "ExecuteTime": {
     "end_time": "2021-06-19T07:56:38.832756Z",
     "start_time": "2021-06-19T07:56:38.828756Z"
    }
   },
   "outputs": [],
   "source": [
    "def Remplace_NA(df=None):\n",
    "    \"\"\" Pour chaque variable, on remplace les valeurs null par une même valeur :  \n",
    "      * 'ND' pour les strings,  \n",
    "      * -1 pour les variables numériques.\n",
    "    Args :\n",
    "    - df : un dataframe.\n",
    "    Returns : \n",
    "    - dff : le dataframe sans valeur null.\n",
    "    \"\"\"\n",
    "    dff = df.copy()\n",
    "    for var in liste_variables_qualitatives:\n",
    "        if dff[var].dtype == 'object' :\n",
    "            dff[var] = dff[var].fillna(value='ND', inplace=False)\n",
    "        else :\n",
    "            dff[var] = dff[var].fillna(value=-1, inplace=False)\n",
    "    return dff\n",
    "            \n",
    "MonImputeur = FunctionTransformer(Remplace_NA)"
   ]
  },
  {
   "cell_type": "code",
   "execution_count": 39,
   "metadata": {
    "ExecuteTime": {
     "end_time": "2021-06-19T07:56:38.839757Z",
     "start_time": "2021-06-19T07:56:38.833757Z"
    }
   },
   "outputs": [],
   "source": [
    "pipeline_quali = Pipeline([\n",
    "        ('imputer', MonImputeur),\n",
    "        ('encoder', OneHotEncoder(handle_unknown='ignore'))\n",
    "    ])\n",
    "\n",
    "# pipeline_quali.fit_transform(X_train_EUI[liste_variables_qualitatives])"
   ]
  },
  {
   "cell_type": "markdown",
   "metadata": {},
   "source": [
    "## Union des pipelines (ColumnTransformer)"
   ]
  },
  {
   "cell_type": "code",
   "execution_count": 40,
   "metadata": {
    "ExecuteTime": {
     "end_time": "2021-06-19T07:56:38.876759Z",
     "start_time": "2021-06-19T07:56:38.840757Z"
    }
   },
   "outputs": [
    {
     "data": {
      "text/plain": [
       "<1320x241 sparse matrix of type '<class 'numpy.float64'>'\n",
       "\twith 18466 stored elements in Compressed Sparse Row format>"
      ]
     },
     "execution_count": 40,
     "metadata": {},
     "output_type": "execute_result"
    }
   ],
   "source": [
    "full_pipeline = ColumnTransformer([\n",
    "        (\"quanti\", pipeline_quanti, liste_variables_quantitatives),\n",
    "        (\"quali\", pipeline_quali, liste_variables_qualitatives)\n",
    "    ])\n",
    "\n",
    "X_train_EUI_prepared = full_pipeline.fit_transform(X_train_EUI)\n",
    "\n",
    "X_train_EUI_prepared"
   ]
  },
  {
   "cell_type": "code",
   "execution_count": 41,
   "metadata": {
    "ExecuteTime": {
     "end_time": "2021-06-19T07:56:39.055769Z",
     "start_time": "2021-06-19T07:56:38.877759Z"
    }
   },
   "outputs": [
    {
     "data": {
      "text/html": [
       "<style>div.sk-top-container {color: black;background-color: white;}div.sk-toggleable {background-color: white;}label.sk-toggleable__label {cursor: pointer;display: block;width: 100%;margin-bottom: 0;padding: 0.2em 0.3em;box-sizing: border-box;text-align: center;}div.sk-toggleable__content {max-height: 0;max-width: 0;overflow: hidden;text-align: left;background-color: #f0f8ff;}div.sk-toggleable__content pre {margin: 0.2em;color: black;border-radius: 0.25em;background-color: #f0f8ff;}input.sk-toggleable__control:checked~div.sk-toggleable__content {max-height: 200px;max-width: 100%;overflow: auto;}div.sk-estimator input.sk-toggleable__control:checked~label.sk-toggleable__label {background-color: #d4ebff;}div.sk-label input.sk-toggleable__control:checked~label.sk-toggleable__label {background-color: #d4ebff;}input.sk-hidden--visually {border: 0;clip: rect(1px 1px 1px 1px);clip: rect(1px, 1px, 1px, 1px);height: 1px;margin: -1px;overflow: hidden;padding: 0;position: absolute;width: 1px;}div.sk-estimator {font-family: monospace;background-color: #f0f8ff;margin: 0.25em 0.25em;border: 1px dotted black;border-radius: 0.25em;box-sizing: border-box;}div.sk-estimator:hover {background-color: #d4ebff;}div.sk-parallel-item::after {content: \"\";width: 100%;border-bottom: 1px solid gray;flex-grow: 1;}div.sk-label:hover label.sk-toggleable__label {background-color: #d4ebff;}div.sk-serial::before {content: \"\";position: absolute;border-left: 1px solid gray;box-sizing: border-box;top: 2em;bottom: 0;left: 50%;}div.sk-serial {display: flex;flex-direction: column;align-items: center;background-color: white;}div.sk-item {z-index: 1;}div.sk-parallel {display: flex;align-items: stretch;justify-content: center;background-color: white;}div.sk-parallel-item {display: flex;flex-direction: column;position: relative;background-color: white;}div.sk-parallel-item:first-child::after {align-self: flex-end;width: 50%;}div.sk-parallel-item:last-child::after {align-self: flex-start;width: 50%;}div.sk-parallel-item:only-child::after {width: 0;}div.sk-dashed-wrapped {border: 1px dashed gray;margin: 0.2em;box-sizing: border-box;padding-bottom: 0.1em;background-color: white;position: relative;}div.sk-label label {font-family: monospace;font-weight: bold;background-color: white;display: inline-block;line-height: 1.2em;}div.sk-label-container {position: relative;z-index: 2;text-align: center;}div.sk-container {display: inline-block;position: relative;}</style><div class=\"sk-top-container\"><div class=\"sk-container\"><div class=\"sk-item sk-dashed-wrapped\"><div class=\"sk-label-container\"><div class=\"sk-label sk-toggleable\"><input class=\"sk-toggleable__control sk-hidden--visually\" id=\"65302f58-04b6-466f-ace2-833307730dc7\" type=\"checkbox\" ><label class=\"sk-toggleable__label\" for=\"65302f58-04b6-466f-ace2-833307730dc7\">ColumnTransformer</label><div class=\"sk-toggleable__content\"><pre>ColumnTransformer(transformers=[('quanti',\n",
       "                                 Pipeline(steps=[('imputer',\n",
       "                                                  SimpleImputer(strategy='median')),\n",
       "                                                 ('scaler',\n",
       "                                                  QuantileTransformer(output_distribution='normal',\n",
       "                                                                      random_state=0))]),\n",
       "                                 ['Latitude', 'Longitude', 'YearBuilt',\n",
       "                                  'NumberofBuildings', 'NumberofFloors',\n",
       "                                  'Surface_au_sol(sf)']),\n",
       "                                ('quali',\n",
       "                                 Pipeline(steps=[('imputer',\n",
       "                                                  FunctionTransformer(func=<function Remplace_NA at 0x000000000BA184C0>)),\n",
       "                                                 ('encoder',\n",
       "                                                  OneHotEncoder(handle_unknown='ignore'))]),\n",
       "                                 ['BuildingType', 'PrimaryPropertyType',\n",
       "                                  'ZipCode', 'CouncilDistrictCode',\n",
       "                                  'Neighborhood', 'LargestPropertyUseType',\n",
       "                                  'SecondLargestPropertyUseType',\n",
       "                                  'ThirdLargestPropertyUseType'])])</pre></div></div></div><div class=\"sk-parallel\"><div class=\"sk-parallel-item\"><div class=\"sk-item\"><div class=\"sk-label-container\"><div class=\"sk-label sk-toggleable\"><input class=\"sk-toggleable__control sk-hidden--visually\" id=\"7d2fe0f9-e5ed-4f00-a2bf-c6f681182bb9\" type=\"checkbox\" ><label class=\"sk-toggleable__label\" for=\"7d2fe0f9-e5ed-4f00-a2bf-c6f681182bb9\">quanti</label><div class=\"sk-toggleable__content\"><pre>['Latitude', 'Longitude', 'YearBuilt', 'NumberofBuildings', 'NumberofFloors', 'Surface_au_sol(sf)']</pre></div></div></div><div class=\"sk-serial\"><div class=\"sk-item\"><div class=\"sk-serial\"><div class=\"sk-item\"><div class=\"sk-estimator sk-toggleable\"><input class=\"sk-toggleable__control sk-hidden--visually\" id=\"087b09dc-20ec-4e25-9141-dfd751a01ff0\" type=\"checkbox\" ><label class=\"sk-toggleable__label\" for=\"087b09dc-20ec-4e25-9141-dfd751a01ff0\">SimpleImputer</label><div class=\"sk-toggleable__content\"><pre>SimpleImputer(strategy='median')</pre></div></div></div><div class=\"sk-item\"><div class=\"sk-estimator sk-toggleable\"><input class=\"sk-toggleable__control sk-hidden--visually\" id=\"7d53771f-a962-491b-ab5e-9e2adaba4755\" type=\"checkbox\" ><label class=\"sk-toggleable__label\" for=\"7d53771f-a962-491b-ab5e-9e2adaba4755\">QuantileTransformer</label><div class=\"sk-toggleable__content\"><pre>QuantileTransformer(output_distribution='normal', random_state=0)</pre></div></div></div></div></div></div></div></div><div class=\"sk-parallel-item\"><div class=\"sk-item\"><div class=\"sk-label-container\"><div class=\"sk-label sk-toggleable\"><input class=\"sk-toggleable__control sk-hidden--visually\" id=\"f4dc484d-7617-429a-837b-2fbe5347c4ff\" type=\"checkbox\" ><label class=\"sk-toggleable__label\" for=\"f4dc484d-7617-429a-837b-2fbe5347c4ff\">quali</label><div class=\"sk-toggleable__content\"><pre>['BuildingType', 'PrimaryPropertyType', 'ZipCode', 'CouncilDistrictCode', 'Neighborhood', 'LargestPropertyUseType', 'SecondLargestPropertyUseType', 'ThirdLargestPropertyUseType']</pre></div></div></div><div class=\"sk-serial\"><div class=\"sk-item\"><div class=\"sk-serial\"><div class=\"sk-item\"><div class=\"sk-estimator sk-toggleable\"><input class=\"sk-toggleable__control sk-hidden--visually\" id=\"200bb065-a54a-44be-bd14-56e987e4f33d\" type=\"checkbox\" ><label class=\"sk-toggleable__label\" for=\"200bb065-a54a-44be-bd14-56e987e4f33d\">FunctionTransformer</label><div class=\"sk-toggleable__content\"><pre>FunctionTransformer(func=<function Remplace_NA at 0x000000000BA184C0>)</pre></div></div></div><div class=\"sk-item\"><div class=\"sk-estimator sk-toggleable\"><input class=\"sk-toggleable__control sk-hidden--visually\" id=\"c71a1da5-b7e3-429d-aa07-4470f40d65c6\" type=\"checkbox\" ><label class=\"sk-toggleable__label\" for=\"c71a1da5-b7e3-429d-aa07-4470f40d65c6\">OneHotEncoder</label><div class=\"sk-toggleable__content\"><pre>OneHotEncoder(handle_unknown='ignore')</pre></div></div></div></div></div></div></div></div></div></div></div></div>"
      ],
      "text/plain": [
       "ColumnTransformer(transformers=[('quanti',\n",
       "                                 Pipeline(steps=[('imputer',\n",
       "                                                  SimpleImputer(strategy='median')),\n",
       "                                                 ('scaler',\n",
       "                                                  QuantileTransformer(output_distribution='normal',\n",
       "                                                                      random_state=0))]),\n",
       "                                 ['Latitude', 'Longitude', 'YearBuilt',\n",
       "                                  'NumberofBuildings', 'NumberofFloors',\n",
       "                                  'Surface_au_sol(sf)']),\n",
       "                                ('quali',\n",
       "                                 Pipeline(steps=[('imputer',\n",
       "                                                  FunctionTransformer(func=<function Remplace_NA at 0x000000000BA184C0>)),\n",
       "                                                 ('encoder',\n",
       "                                                  OneHotEncoder(handle_unknown='ignore'))]),\n",
       "                                 ['BuildingType', 'PrimaryPropertyType',\n",
       "                                  'ZipCode', 'CouncilDistrictCode',\n",
       "                                  'Neighborhood', 'LargestPropertyUseType',\n",
       "                                  'SecondLargestPropertyUseType',\n",
       "                                  'ThirdLargestPropertyUseType'])])"
      ]
     },
     "execution_count": 41,
     "metadata": {},
     "output_type": "execute_result"
    }
   ],
   "source": [
    "# visualisation du pipeline\n",
    "set_config(display='diagram')\n",
    "full_pipeline"
   ]
  },
  {
   "cell_type": "markdown",
   "metadata": {},
   "source": [
    "# Régressions linéaires"
   ]
  },
  {
   "cell_type": "markdown",
   "metadata": {},
   "source": [
    "## Régression linéaire simple"
   ]
  },
  {
   "cell_type": "code",
   "execution_count": 42,
   "metadata": {
    "ExecuteTime": {
     "end_time": "2021-06-19T07:56:39.112772Z",
     "start_time": "2021-06-19T07:56:39.056769Z"
    }
   },
   "outputs": [
    {
     "data": {
      "text/html": [
       "<style>div.sk-top-container {color: black;background-color: white;}div.sk-toggleable {background-color: white;}label.sk-toggleable__label {cursor: pointer;display: block;width: 100%;margin-bottom: 0;padding: 0.2em 0.3em;box-sizing: border-box;text-align: center;}div.sk-toggleable__content {max-height: 0;max-width: 0;overflow: hidden;text-align: left;background-color: #f0f8ff;}div.sk-toggleable__content pre {margin: 0.2em;color: black;border-radius: 0.25em;background-color: #f0f8ff;}input.sk-toggleable__control:checked~div.sk-toggleable__content {max-height: 200px;max-width: 100%;overflow: auto;}div.sk-estimator input.sk-toggleable__control:checked~label.sk-toggleable__label {background-color: #d4ebff;}div.sk-label input.sk-toggleable__control:checked~label.sk-toggleable__label {background-color: #d4ebff;}input.sk-hidden--visually {border: 0;clip: rect(1px 1px 1px 1px);clip: rect(1px, 1px, 1px, 1px);height: 1px;margin: -1px;overflow: hidden;padding: 0;position: absolute;width: 1px;}div.sk-estimator {font-family: monospace;background-color: #f0f8ff;margin: 0.25em 0.25em;border: 1px dotted black;border-radius: 0.25em;box-sizing: border-box;}div.sk-estimator:hover {background-color: #d4ebff;}div.sk-parallel-item::after {content: \"\";width: 100%;border-bottom: 1px solid gray;flex-grow: 1;}div.sk-label:hover label.sk-toggleable__label {background-color: #d4ebff;}div.sk-serial::before {content: \"\";position: absolute;border-left: 1px solid gray;box-sizing: border-box;top: 2em;bottom: 0;left: 50%;}div.sk-serial {display: flex;flex-direction: column;align-items: center;background-color: white;}div.sk-item {z-index: 1;}div.sk-parallel {display: flex;align-items: stretch;justify-content: center;background-color: white;}div.sk-parallel-item {display: flex;flex-direction: column;position: relative;background-color: white;}div.sk-parallel-item:first-child::after {align-self: flex-end;width: 50%;}div.sk-parallel-item:last-child::after {align-self: flex-start;width: 50%;}div.sk-parallel-item:only-child::after {width: 0;}div.sk-dashed-wrapped {border: 1px dashed gray;margin: 0.2em;box-sizing: border-box;padding-bottom: 0.1em;background-color: white;position: relative;}div.sk-label label {font-family: monospace;font-weight: bold;background-color: white;display: inline-block;line-height: 1.2em;}div.sk-label-container {position: relative;z-index: 2;text-align: center;}div.sk-container {display: inline-block;position: relative;}</style><div class=\"sk-top-container\"><div class=\"sk-container\"><div class=\"sk-item\"><div class=\"sk-estimator sk-toggleable\"><input class=\"sk-toggleable__control sk-hidden--visually\" id=\"b9a17b7f-7c62-438c-8532-1b919d60e675\" type=\"checkbox\" checked><label class=\"sk-toggleable__label\" for=\"b9a17b7f-7c62-438c-8532-1b919d60e675\">LinearRegression</label><div class=\"sk-toggleable__content\"><pre>LinearRegression()</pre></div></div></div></div></div>"
      ],
      "text/plain": [
       "LinearRegression()"
      ]
     },
     "execution_count": 42,
     "metadata": {},
     "output_type": "execute_result"
    }
   ],
   "source": [
    "lin_reg = LinearRegression()\n",
    "\n",
    "# Entrainement\n",
    "lin_reg.fit(X_train_EUI_prepared, y_train_EUI)"
   ]
  },
  {
   "cell_type": "code",
   "execution_count": 43,
   "metadata": {
    "ExecuteTime": {
     "end_time": "2021-06-19T07:56:39.134774Z",
     "start_time": "2021-06-19T07:56:39.113773Z"
    },
    "scrolled": true
   },
   "outputs": [
    {
     "data": {
      "text/html": [
       "<div>\n",
       "<style scoped>\n",
       "    .dataframe tbody tr th:only-of-type {\n",
       "        vertical-align: middle;\n",
       "    }\n",
       "\n",
       "    .dataframe tbody tr th {\n",
       "        vertical-align: top;\n",
       "    }\n",
       "\n",
       "    .dataframe thead th {\n",
       "        text-align: right;\n",
       "    }\n",
       "</style>\n",
       "<table border=\"1\" class=\"dataframe\">\n",
       "  <thead>\n",
       "    <tr style=\"text-align: right;\">\n",
       "      <th></th>\n",
       "      <th>SiteEUI(kBtu/sf)</th>\n",
       "      <th>Prédictions</th>\n",
       "    </tr>\n",
       "  </thead>\n",
       "  <tbody>\n",
       "    <tr>\n",
       "      <th>3162</th>\n",
       "      <td>42.799999</td>\n",
       "      <td>59.230377</td>\n",
       "    </tr>\n",
       "    <tr>\n",
       "      <th>953</th>\n",
       "      <td>37.599998</td>\n",
       "      <td>28.567644</td>\n",
       "    </tr>\n",
       "    <tr>\n",
       "      <th>2637</th>\n",
       "      <td>55.400002</td>\n",
       "      <td>74.624596</td>\n",
       "    </tr>\n",
       "    <tr>\n",
       "      <th>29</th>\n",
       "      <td>92.900002</td>\n",
       "      <td>75.240507</td>\n",
       "    </tr>\n",
       "    <tr>\n",
       "      <th>1126</th>\n",
       "      <td>36.799999</td>\n",
       "      <td>27.209902</td>\n",
       "    </tr>\n",
       "    <tr>\n",
       "      <th>773</th>\n",
       "      <td>45.500000</td>\n",
       "      <td>78.520747</td>\n",
       "    </tr>\n",
       "    <tr>\n",
       "      <th>305</th>\n",
       "      <td>89.300003</td>\n",
       "      <td>193.994349</td>\n",
       "    </tr>\n",
       "    <tr>\n",
       "      <th>2928</th>\n",
       "      <td>35.000000</td>\n",
       "      <td>75.721566</td>\n",
       "    </tr>\n",
       "    <tr>\n",
       "      <th>579</th>\n",
       "      <td>104.099998</td>\n",
       "      <td>92.325513</td>\n",
       "    </tr>\n",
       "    <tr>\n",
       "      <th>713</th>\n",
       "      <td>40.200001</td>\n",
       "      <td>21.662289</td>\n",
       "    </tr>\n",
       "  </tbody>\n",
       "</table>\n",
       "</div>"
      ],
      "text/plain": [
       "      SiteEUI(kBtu/sf)  Prédictions\n",
       "3162         42.799999    59.230377\n",
       "953          37.599998    28.567644\n",
       "2637         55.400002    74.624596\n",
       "29           92.900002    75.240507\n",
       "1126         36.799999    27.209902\n",
       "773          45.500000    78.520747\n",
       "305          89.300003   193.994349\n",
       "2928         35.000000    75.721566\n",
       "579         104.099998    92.325513\n",
       "713          40.200001    21.662289"
      ]
     },
     "execution_count": 43,
     "metadata": {},
     "output_type": "execute_result"
    }
   ],
   "source": [
    "# Test de quelques valeurs prédites\n",
    "some_data = X_train_EUI.iloc[:100]\n",
    "some_labels = y_train_EUI.iloc[:100].copy()\n",
    "some_data_prepared = full_pipeline.transform(some_data)\n",
    "some_data_predicted = lin_reg.predict(some_data_prepared)\n",
    "\n",
    "some_labels['Prédictions'] = some_data_predicted\n",
    "some_labels.head(10)"
   ]
  },
  {
   "cell_type": "markdown",
   "metadata": {},
   "source": [
    "### Metrics"
   ]
  },
  {
   "cell_type": "markdown",
   "metadata": {},
   "source": [
    "##### RMSE :"
   ]
  },
  {
   "cell_type": "code",
   "execution_count": 44,
   "metadata": {
    "ExecuteTime": {
     "end_time": "2021-06-19T07:56:39.141774Z",
     "start_time": "2021-06-19T07:56:39.135774Z"
    }
   },
   "outputs": [
    {
     "data": {
      "text/plain": [
       "44.14250276888454"
      ]
     },
     "execution_count": 44,
     "metadata": {},
     "output_type": "execute_result"
    }
   ],
   "source": [
    "EUI_predictions = lin_reg.predict(X_train_EUI_prepared)\n",
    "lin_mse = mean_squared_error(y_train_EUI, EUI_predictions)\n",
    "lin_rmse = np.sqrt(lin_mse)\n",
    "lin_rmse"
   ]
  },
  {
   "cell_type": "markdown",
   "metadata": {},
   "source": [
    "##### R²"
   ]
  },
  {
   "cell_type": "code",
   "execution_count": 45,
   "metadata": {
    "ExecuteTime": {
     "end_time": "2021-06-19T07:56:39.150775Z",
     "start_time": "2021-06-19T07:56:39.143774Z"
    }
   },
   "outputs": [
    {
     "data": {
      "text/plain": [
       "0.6190790834015425"
      ]
     },
     "execution_count": 45,
     "metadata": {},
     "output_type": "execute_result"
    }
   ],
   "source": [
    "#R² par la méthode score() du transformateur\n",
    "lin_reg.score(X_train_EUI_prepared, y_train_EUI)"
   ]
  },
  {
   "cell_type": "code",
   "execution_count": 46,
   "metadata": {
    "ExecuteTime": {
     "end_time": "2021-06-19T07:56:39.157775Z",
     "start_time": "2021-06-19T07:56:39.151775Z"
    }
   },
   "outputs": [
    {
     "data": {
      "text/plain": [
       "0.6190790834015425"
      ]
     },
     "execution_count": 46,
     "metadata": {},
     "output_type": "execute_result"
    }
   ],
   "source": [
    "#R² par la fonction r2_score de metrics\n",
    "r2_score(y_train_EUI, EUI_predictions)"
   ]
  },
  {
   "cell_type": "markdown",
   "metadata": {},
   "source": [
    "### Scatter plot :"
   ]
  },
  {
   "cell_type": "code",
   "execution_count": 47,
   "metadata": {
    "ExecuteTime": {
     "end_time": "2021-06-19T07:56:39.520796Z",
     "start_time": "2021-06-19T07:56:39.158775Z"
    },
    "scrolled": false
   },
   "outputs": [
    {
     "data": {
      "image/png": "[encoded data removed]",
      "text/plain": [
       "<Figure size 576x396 with 1 Axes>"
      ]
     },
     "metadata": {},
     "output_type": "display_data"
    },
    {
     "data": {
      "image/png": "[encoded data removed]",
      "text/plain": [
       "<Figure size 576x396 with 1 Axes>"
      ]
     },
     "metadata": {},
     "output_type": "display_data"
    }
   ],
   "source": [
    "ser_predictions = pd.Series(np.squeeze(EUI_predictions), name='Prédictions')\n",
    "scatter_plot(ser_x=y_train_EUI.reset_index().iloc[:,1], ser_y=ser_predictions, alpha=1, ligne_diagonale=True)\n",
    "scatter_plot(ser_x=y_train_EUI.reset_index().iloc[:,1], ser_y=ser_predictions, alpha=1, max_x=300, max_y=300, ligne_diagonale=True)"
   ]
  },
  {
   "cell_type": "markdown",
   "metadata": {},
   "source": [
    "### Analyse des paramètres du modèle"
   ]
  },
  {
   "cell_type": "code",
   "execution_count": 48,
   "metadata": {
    "ExecuteTime": {
     "end_time": "2021-06-19T07:56:39.525796Z",
     "start_time": "2021-06-19T07:56:39.521796Z"
    }
   },
   "outputs": [
    {
     "data": {
      "text/plain": [
       "{'copy_X': True, 'fit_intercept': True, 'n_jobs': None, 'normalize': False}"
      ]
     },
     "execution_count": 48,
     "metadata": {},
     "output_type": "execute_result"
    }
   ],
   "source": [
    "lin_reg.get_params()"
   ]
  },
  {
   "cell_type": "code",
   "execution_count": 49,
   "metadata": {
    "ExecuteTime": {
     "end_time": "2021-06-19T07:56:39.532797Z",
     "start_time": "2021-06-19T07:56:39.526796Z"
    }
   },
   "outputs": [
    {
     "data": {
      "text/plain": [
       "array([106.38667152])"
      ]
     },
     "execution_count": 49,
     "metadata": {},
     "output_type": "execute_result"
    }
   ],
   "source": [
    "lin_reg.intercept_"
   ]
  },
  {
   "cell_type": "code",
   "execution_count": 50,
   "metadata": {
    "ExecuteTime": {
     "end_time": "2021-06-19T07:56:39.538797Z",
     "start_time": "2021-06-19T07:56:39.533797Z"
    },
    "scrolled": true
   },
   "outputs": [
    {
     "name": "stdout",
     "output_type": "stream",
     "text": [
      "lin_reg.coef_ shape : (1, 241)\n"
     ]
    }
   ],
   "source": [
    "print(\"lin_reg.coef_ shape :\", lin_reg.coef_.shape)\n",
    "coefs = lin_reg.coef_"
   ]
  },
  {
   "cell_type": "code",
   "execution_count": 51,
   "metadata": {
    "ExecuteTime": {
     "end_time": "2021-06-19T07:56:39.545797Z",
     "start_time": "2021-06-19T07:56:39.539797Z"
    },
    "scrolled": true
   },
   "outputs": [
    {
     "data": {
      "text/plain": [
       "array(['BuildingType_Campus', 'BuildingType_NonResidential', 'BuildingType_Nonresidential COS', 'BuildingType_SPS-District K-12',\n",
       "       'PrimaryPropertyType_Distribution Center', 'PrimaryPropertyType_Hospital', 'PrimaryPropertyType_Hotel', 'PrimaryPropertyType_K-12 School',\n",
       "       'PrimaryPropertyType_Laboratory', 'PrimaryPropertyType_Large Office', 'PrimaryPropertyType_Low-Rise Multifamily', 'PrimaryPropertyType_Medical Office',\n",
       "       'PrimaryPropertyType_Mixed Use Property', 'PrimaryPropertyType_Office', 'PrimaryPropertyType_Other', 'PrimaryPropertyType_Refrigerated Warehouse',\n",
       "       'PrimaryPropertyType_Residence Hall', 'PrimaryPropertyType_Restaurant', 'PrimaryPropertyType_Retail Store', 'PrimaryPropertyType_Self-Storage Facility',\n",
       "       'PrimaryPropertyType_Senior Care Community', 'PrimaryPropertyType_Small- and Mid-Sized Office', 'PrimaryPropertyType_Supermarket / Grocery Store',\n",
       "       'PrimaryPropertyType_University', 'PrimaryPropertyType_Warehouse', 'PrimaryPropertyType_Worship Facility', 'ZipCode_-1.0', 'ZipCode_98011.0',\n",
       "       'ZipCode_98013.0', 'ZipCode_98020.0', 'ZipCode_98033.0', 'ZipCode_98053.0', 'ZipCode_98070.0', 'ZipCode_98101.0', 'ZipCode_98102.0', 'ZipCode_98103.0',\n",
       "       'ZipCode_98104.0', 'ZipCode_98105.0', 'ZipCode_98106.0', 'ZipCode_98107.0', 'ZipCode_98108.0', 'ZipCode_98109.0', 'ZipCode_98111.0', 'ZipCode_98112.0',\n",
       "       'ZipCode_98113.0', 'ZipCode_98114.0', 'ZipCode_98115.0', 'ZipCode_98116.0', 'ZipCode_98117.0', 'ZipCode_98118.0', 'ZipCode_98119.0', 'ZipCode_98121.0',\n",
       "       'ZipCode_98122.0', 'ZipCode_98124.0', 'ZipCode_98125.0', 'ZipCode_98126.0', 'ZipCode_98133.0', 'ZipCode_98134.0', 'ZipCode_98136.0', 'ZipCode_98144.0',\n",
       "       'ZipCode_98146.0', 'ZipCode_98154.0', 'ZipCode_98155.0', 'ZipCode_98164.0', 'ZipCode_98165.0', 'ZipCode_98168.0', 'ZipCode_98177.0', 'ZipCode_98178.0',\n",
       "       'ZipCode_98181.0', 'ZipCode_98185.0', 'ZipCode_98195.0', 'ZipCode_98199.0', 'CouncilDistrictCode_1', 'CouncilDistrictCode_2', 'CouncilDistrictCode_3',\n",
       "       'CouncilDistrictCode_4', 'CouncilDistrictCode_5', 'CouncilDistrictCode_6', 'CouncilDistrictCode_7', 'Neighborhood_BALLARD', 'Neighborhood_Ballard',\n",
       "       'Neighborhood_CENTRAL', 'Neighborhood_Central', 'Neighborhood_DELRIDGE', 'Neighborhood_DELRIDGE NEIGHBORHOODS', 'Neighborhood_DOWNTOWN',\n",
       "       'Neighborhood_Delridge', 'Neighborhood_EAST', 'Neighborhood_GREATER DUWAMISH', 'Neighborhood_LAKE UNION', 'Neighborhood_MAGNOLIA / QUEEN ANNE',\n",
       "       'Neighborhood_NORTH', 'Neighborhood_NORTHEAST', 'Neighborhood_NORTHWEST', 'Neighborhood_North', 'Neighborhood_Northwest', 'Neighborhood_SOUTHEAST',\n",
       "       'Neighborhood_SOUTHWEST', 'LargestPropertyUseType_Adult Education', 'LargestPropertyUseType_Automobile Dealership', 'LargestPropertyUseType_Bank Branch',\n",
       "       'LargestPropertyUseType_College/University', 'LargestPropertyUseType_Data Center', 'LargestPropertyUseType_Distribution Center',\n",
       "       'LargestPropertyUseType_Financial Office', 'LargestPropertyUseType_Fire Station', 'LargestPropertyUseType_Fitness Center/Health Club/Gym',\n",
       "       'LargestPropertyUseType_Hospital (General Medical & Surgical)', 'LargestPropertyUseType_Hotel', 'LargestPropertyUseType_K-12 School',\n",
       "       'LargestPropertyUseType_Laboratory', 'LargestPropertyUseType_Library', 'LargestPropertyUseType_Lifestyle Center',\n",
       "       'LargestPropertyUseType_Manufacturing/Industrial Plant', 'LargestPropertyUseType_Medical Office', 'LargestPropertyUseType_Movie Theater',\n",
       "       'LargestPropertyUseType_Multifamily Housing', 'LargestPropertyUseType_Museum', 'LargestPropertyUseType_ND',\n",
       "       'LargestPropertyUseType_Non-Refrigerated Warehouse', 'LargestPropertyUseType_Office', 'LargestPropertyUseType_Other',\n",
       "       'LargestPropertyUseType_Other - Education', 'LargestPropertyUseType_Other - Entertainment/Public Assembly',\n",
       "       'LargestPropertyUseType_Other - Lodging/Residential', 'LargestPropertyUseType_Other - Mall', 'LargestPropertyUseType_Other - Public Services',\n",
       "       'LargestPropertyUseType_Other - Recreation', 'LargestPropertyUseType_Other - Restaurant/Bar', 'LargestPropertyUseType_Other - Services',\n",
       "       'LargestPropertyUseType_Other - Utility', 'LargestPropertyUseType_Other/Specialty Hospital', 'LargestPropertyUseType_Parking',\n",
       "       'LargestPropertyUseType_Performing Arts', 'LargestPropertyUseType_Personal Services (Health/Beauty, Dry Cleaning, etc)',\n",
       "       'LargestPropertyUseType_Pre-school/Daycare', 'LargestPropertyUseType_Prison/Incarceration', 'LargestPropertyUseType_Refrigerated Warehouse',\n",
       "       'LargestPropertyUseType_Repair Services (Vehicle, Shoe, Locksmith, etc)', 'LargestPropertyUseType_Residence Hall/Dormitory',\n",
       "       'LargestPropertyUseType_Residential Care Facility', 'LargestPropertyUseType_Restaurant', 'LargestPropertyUseType_Retail Store',\n",
       "       'LargestPropertyUseType_Self-Storage Facility', 'LargestPropertyUseType_Senior Care Community', 'LargestPropertyUseType_Social/Meeting Hall',\n",
       "       'LargestPropertyUseType_Strip Mall', 'LargestPropertyUseType_Supermarket/Grocery Store', 'LargestPropertyUseType_Urgent Care/Clinic/Other Outpatient',\n",
       "       'LargestPropertyUseType_Wholesale Club/Supercenter', 'LargestPropertyUseType_Worship Facility', 'SecondLargestPropertyUseType_Adult Education',\n",
       "       'SecondLargestPropertyUseType_Automobile Dealership', 'SecondLargestPropertyUseType_Bank Branch', 'SecondLargestPropertyUseType_Bar/Nightclub',\n",
       "       'SecondLargestPropertyUseType_College/University', 'SecondLargestPropertyUseType_Courthouse', 'SecondLargestPropertyUseType_Data Center',\n",
       "       'SecondLargestPropertyUseType_Distribution Center', 'SecondLargestPropertyUseType_Enclosed Mall', 'SecondLargestPropertyUseType_Financial Office',\n",
       "       'SecondLargestPropertyUseType_Fitness Center/Health Club/Gym', 'SecondLargestPropertyUseType_Food Sales', 'SecondLargestPropertyUseType_Food Service',\n",
       "       'SecondLargestPropertyUseType_Hospital (General Medical & Surgical)', 'SecondLargestPropertyUseType_Hotel', 'SecondLargestPropertyUseType_K-12 School',\n",
       "       'SecondLargestPropertyUseType_Laboratory', 'SecondLargestPropertyUseType_Manufacturing/Industrial Plant', 'SecondLargestPropertyUseType_Medical Office',\n",
       "       'SecondLargestPropertyUseType_Movie Theater', 'SecondLargestPropertyUseType_Multifamily Housing', 'SecondLargestPropertyUseType_ND',\n",
       "       'SecondLargestPropertyUseType_Non-Refrigerated Warehouse', 'SecondLargestPropertyUseType_Office', 'SecondLargestPropertyUseType_Other',\n",
       "       'SecondLargestPropertyUseType_Other - Education', 'SecondLargestPropertyUseType_Other - Entertainment/Public Assembly',\n",
       "       'SecondLargestPropertyUseType_Other - Public Services', 'SecondLargestPropertyUseType_Other - Recreation',\n",
       "       'SecondLargestPropertyUseType_Other - Restaurant/Bar', 'SecondLargestPropertyUseType_Other - Services', 'SecondLargestPropertyUseType_Parking',\n",
       "       'SecondLargestPropertyUseType_Performing Arts', 'SecondLargestPropertyUseType_Personal Services (Health/Beauty, Dry Cleaning, etc)',\n",
       "       'SecondLargestPropertyUseType_Pre-school/Daycare', 'SecondLargestPropertyUseType_Refrigerated Warehouse',\n",
       "       'SecondLargestPropertyUseType_Repair Services (Vehicle, Shoe, Locksmith, etc)', 'SecondLargestPropertyUseType_Residence Hall/Dormitory',\n",
       "       'SecondLargestPropertyUseType_Restaurant', 'SecondLargestPropertyUseType_Retail Store', 'SecondLargestPropertyUseType_Self-Storage Facility',\n",
       "       'SecondLargestPropertyUseType_Social/Meeting Hall', 'SecondLargestPropertyUseType_Supermarket/Grocery Store', 'SecondLargestPropertyUseType_Swimming Pool',\n",
       "       'SecondLargestPropertyUseType_Vocational School', 'SecondLargestPropertyUseType_Worship Facility', 'ThirdLargestPropertyUseType_Bank Branch',\n",
       "       'ThirdLargestPropertyUseType_Bar/Nightclub', 'ThirdLargestPropertyUseType_Convenience Store without Gas Station', 'ThirdLargestPropertyUseType_Data Center',\n",
       "       'ThirdLargestPropertyUseType_Distribution Center', 'ThirdLargestPropertyUseType_Fast Food Restaurant', 'ThirdLargestPropertyUseType_Financial Office',\n",
       "       'ThirdLargestPropertyUseType_Fitness Center/Health Club/Gym', 'ThirdLargestPropertyUseType_Food Service', 'ThirdLargestPropertyUseType_Hotel',\n",
       "       'ThirdLargestPropertyUseType_K-12 School', 'ThirdLargestPropertyUseType_Manufacturing/Industrial Plant', 'ThirdLargestPropertyUseType_Medical Office',\n",
       "       'ThirdLargestPropertyUseType_Multifamily Housing', 'ThirdLargestPropertyUseType_ND', 'ThirdLargestPropertyUseType_Non-Refrigerated Warehouse',\n",
       "       'ThirdLargestPropertyUseType_Office', 'ThirdLargestPropertyUseType_Other', 'ThirdLargestPropertyUseType_Other - Education',\n",
       "       'ThirdLargestPropertyUseType_Other - Entertainment/Public Assembly', 'ThirdLargestPropertyUseType_Other - Recreation',\n",
       "       'ThirdLargestPropertyUseType_Other - Restaurant/Bar', 'ThirdLargestPropertyUseType_Other - Services',\n",
       "       'ThirdLargestPropertyUseType_Other - Technology/Science', 'ThirdLargestPropertyUseType_Other/Specialty Hospital', 'ThirdLargestPropertyUseType_Parking',\n",
       "       'ThirdLargestPropertyUseType_Personal Services (Health/Beauty, Dry Cleaning, etc)', 'ThirdLargestPropertyUseType_Pre-school/Daycare',\n",
       "       'ThirdLargestPropertyUseType_Refrigerated Warehouse', 'ThirdLargestPropertyUseType_Restaurant', 'ThirdLargestPropertyUseType_Retail Store',\n",
       "       'ThirdLargestPropertyUseType_Self-Storage Facility', 'ThirdLargestPropertyUseType_Social/Meeting Hall', 'ThirdLargestPropertyUseType_Strip Mall',\n",
       "       'ThirdLargestPropertyUseType_Supermarket/Grocery Store', 'ThirdLargestPropertyUseType_Swimming Pool', 'ThirdLargestPropertyUseType_Vocational School',\n",
       "       'ThirdLargestPropertyUseType_Worship Facility'], dtype=object)"
      ]
     },
     "execution_count": 51,
     "metadata": {},
     "output_type": "execute_result"
    }
   ],
   "source": [
    "modalites_var_quali = full_pipeline.named_transformers_['quali'].named_steps['encoder'].get_feature_names(input_features=liste_variables_qualitatives)\n",
    "modalites_var_quali"
   ]
  },
  {
   "cell_type": "code",
   "execution_count": 52,
   "metadata": {
    "ExecuteTime": {
     "end_time": "2021-06-19T07:56:39.549797Z",
     "start_time": "2021-06-19T07:56:39.546797Z"
    }
   },
   "outputs": [],
   "source": [
    "noms_des_coefs = np.concatenate([liste_variables_quantitatives, modalites_var_quali])"
   ]
  },
  {
   "cell_type": "code",
   "execution_count": 53,
   "metadata": {
    "ExecuteTime": {
     "end_time": "2021-06-19T07:56:39.571799Z",
     "start_time": "2021-06-19T07:56:39.550798Z"
    },
    "scrolled": true
   },
   "outputs": [
    {
     "data": {
      "text/html": [
       "<div>\n",
       "<style scoped>\n",
       "    .dataframe tbody tr th:only-of-type {\n",
       "        vertical-align: middle;\n",
       "    }\n",
       "\n",
       "    .dataframe tbody tr th {\n",
       "        vertical-align: top;\n",
       "    }\n",
       "\n",
       "    .dataframe thead th {\n",
       "        text-align: right;\n",
       "    }\n",
       "</style>\n",
       "<table border=\"1\" class=\"dataframe\">\n",
       "  <thead>\n",
       "    <tr style=\"text-align: right;\">\n",
       "      <th></th>\n",
       "      <th>Coefficients</th>\n",
       "    </tr>\n",
       "  </thead>\n",
       "  <tbody>\n",
       "    <tr>\n",
       "      <th>ZipCode_98013.0</th>\n",
       "      <td>393.9</td>\n",
       "    </tr>\n",
       "    <tr>\n",
       "      <th>ZipCode_98185.0</th>\n",
       "      <td>367.6</td>\n",
       "    </tr>\n",
       "    <tr>\n",
       "      <th>LargestPropertyUseType_Data Center</th>\n",
       "      <td>367.6</td>\n",
       "    </tr>\n",
       "    <tr>\n",
       "      <th>PrimaryPropertyType_Laboratory</th>\n",
       "      <td>184.2</td>\n",
       "    </tr>\n",
       "    <tr>\n",
       "      <th>PrimaryPropertyType_Supermarket / Grocery Store</th>\n",
       "      <td>154.2</td>\n",
       "    </tr>\n",
       "    <tr>\n",
       "      <th>LargestPropertyUseType_Restaurant</th>\n",
       "      <td>152.6</td>\n",
       "    </tr>\n",
       "    <tr>\n",
       "      <th>SecondLargestPropertyUseType_Data Center</th>\n",
       "      <td>131.2</td>\n",
       "    </tr>\n",
       "    <tr>\n",
       "      <th>LargestPropertyUseType_Other/Specialty Hospital</th>\n",
       "      <td>105.8</td>\n",
       "    </tr>\n",
       "    <tr>\n",
       "      <th>ThirdLargestPropertyUseType_Strip Mall</th>\n",
       "      <td>97.5</td>\n",
       "    </tr>\n",
       "    <tr>\n",
       "      <th>ThirdLargestPropertyUseType_Other - Recreation</th>\n",
       "      <td>95.9</td>\n",
       "    </tr>\n",
       "    <tr>\n",
       "      <th>LargestPropertyUseType_Urgent Care/Clinic/Other Outpatient</th>\n",
       "      <td>91.9</td>\n",
       "    </tr>\n",
       "    <tr>\n",
       "      <th>SecondLargestPropertyUseType_Laboratory</th>\n",
       "      <td>90.6</td>\n",
       "    </tr>\n",
       "    <tr>\n",
       "      <th>ThirdLargestPropertyUseType_Other/Specialty Hospital</th>\n",
       "      <td>88.5</td>\n",
       "    </tr>\n",
       "    <tr>\n",
       "      <th>ThirdLargestPropertyUseType_Other - Entertainment/Public Assembly</th>\n",
       "      <td>84.7</td>\n",
       "    </tr>\n",
       "    <tr>\n",
       "      <th>LargestPropertyUseType_Other - Mall</th>\n",
       "      <td>84.4</td>\n",
       "    </tr>\n",
       "    <tr>\n",
       "      <th>ZipCode_98020.0</th>\n",
       "      <td>76.7</td>\n",
       "    </tr>\n",
       "    <tr>\n",
       "      <th>ThirdLargestPropertyUseType_Data Center</th>\n",
       "      <td>76.3</td>\n",
       "    </tr>\n",
       "    <tr>\n",
       "      <th>LargestPropertyUseType_Museum</th>\n",
       "      <td>69.3</td>\n",
       "    </tr>\n",
       "    <tr>\n",
       "      <th>LargestPropertyUseType_Other - Restaurant/Bar</th>\n",
       "      <td>66.9</td>\n",
       "    </tr>\n",
       "    <tr>\n",
       "      <th>ThirdLargestPropertyUseType_Swimming Pool</th>\n",
       "      <td>60.5</td>\n",
       "    </tr>\n",
       "    <tr>\n",
       "      <th>ZipCode_98164.0</th>\n",
       "      <td>60.3</td>\n",
       "    </tr>\n",
       "    <tr>\n",
       "      <th>Neighborhood_Ballard</th>\n",
       "      <td>52.7</td>\n",
       "    </tr>\n",
       "    <tr>\n",
       "      <th>LargestPropertyUseType_Residence Hall/Dormitory</th>\n",
       "      <td>50.7</td>\n",
       "    </tr>\n",
       "    <tr>\n",
       "      <th>SecondLargestPropertyUseType_Supermarket/Grocery Store</th>\n",
       "      <td>50.5</td>\n",
       "    </tr>\n",
       "    <tr>\n",
       "      <th>LargestPropertyUseType_Other - Recreation</th>\n",
       "      <td>46.0</td>\n",
       "    </tr>\n",
       "    <tr>\n",
       "      <th>SecondLargestPropertyUseType_Hospital (General Medical &amp; Surgical)</th>\n",
       "      <td>43.5</td>\n",
       "    </tr>\n",
       "    <tr>\n",
       "      <th>SecondLargestPropertyUseType_Bar/Nightclub</th>\n",
       "      <td>42.3</td>\n",
       "    </tr>\n",
       "    <tr>\n",
       "      <th>SecondLargestPropertyUseType_Food Sales</th>\n",
       "      <td>42.1</td>\n",
       "    </tr>\n",
       "    <tr>\n",
       "      <th>ThirdLargestPropertyUseType_Office</th>\n",
       "      <td>35.8</td>\n",
       "    </tr>\n",
       "    <tr>\n",
       "      <th>PrimaryPropertyType_Hospital</th>\n",
       "      <td>35.6</td>\n",
       "    </tr>\n",
       "    <tr>\n",
       "      <th>LargestPropertyUseType_Hospital (General Medical &amp; Surgical)</th>\n",
       "      <td>35.6</td>\n",
       "    </tr>\n",
       "    <tr>\n",
       "      <th>SecondLargestPropertyUseType_Financial Office</th>\n",
       "      <td>35.1</td>\n",
       "    </tr>\n",
       "    <tr>\n",
       "      <th>LargestPropertyUseType_Hotel</th>\n",
       "      <td>34.3</td>\n",
       "    </tr>\n",
       "    <tr>\n",
       "      <th>ThirdLargestPropertyUseType_Other - Education</th>\n",
       "      <td>33.9</td>\n",
       "    </tr>\n",
       "    <tr>\n",
       "      <th>ThirdLargestPropertyUseType_Social/Meeting Hall</th>\n",
       "      <td>33.8</td>\n",
       "    </tr>\n",
       "    <tr>\n",
       "      <th>Neighborhood_BALLARD</th>\n",
       "      <td>33.6</td>\n",
       "    </tr>\n",
       "    <tr>\n",
       "      <th>ThirdLargestPropertyUseType_Other - Technology/Science</th>\n",
       "      <td>33.5</td>\n",
       "    </tr>\n",
       "    <tr>\n",
       "      <th>SecondLargestPropertyUseType_Manufacturing/Industrial Plant</th>\n",
       "      <td>29.4</td>\n",
       "    </tr>\n",
       "    <tr>\n",
       "      <th>SecondLargestPropertyUseType_Performing Arts</th>\n",
       "      <td>27.8</td>\n",
       "    </tr>\n",
       "    <tr>\n",
       "      <th>ThirdLargestPropertyUseType_Other - Services</th>\n",
       "      <td>27.8</td>\n",
       "    </tr>\n",
       "    <tr>\n",
       "      <th>SecondLargestPropertyUseType_Social/Meeting Hall</th>\n",
       "      <td>27.4</td>\n",
       "    </tr>\n",
       "    <tr>\n",
       "      <th>SecondLargestPropertyUseType_Swimming Pool</th>\n",
       "      <td>24.3</td>\n",
       "    </tr>\n",
       "    <tr>\n",
       "      <th>LargestPropertyUseType_Personal Services (Health/Beauty, Dry Cleaning, etc)</th>\n",
       "      <td>23.5</td>\n",
       "    </tr>\n",
       "    <tr>\n",
       "      <th>PrimaryPropertyType_Retail Store</th>\n",
       "      <td>23.0</td>\n",
       "    </tr>\n",
       "    <tr>\n",
       "      <th>Neighborhood_MAGNOLIA / QUEEN ANNE</th>\n",
       "      <td>22.7</td>\n",
       "    </tr>\n",
       "    <tr>\n",
       "      <th>CouncilDistrictCode_3</th>\n",
       "      <td>22.6</td>\n",
       "    </tr>\n",
       "    <tr>\n",
       "      <th>CouncilDistrictCode_1</th>\n",
       "      <td>22.5</td>\n",
       "    </tr>\n",
       "    <tr>\n",
       "      <th>SecondLargestPropertyUseType_Food Service</th>\n",
       "      <td>22.4</td>\n",
       "    </tr>\n",
       "    <tr>\n",
       "      <th>ThirdLargestPropertyUseType_Other - Restaurant/Bar</th>\n",
       "      <td>21.7</td>\n",
       "    </tr>\n",
       "    <tr>\n",
       "      <th>LargestPropertyUseType_Parking</th>\n",
       "      <td>20.4</td>\n",
       "    </tr>\n",
       "    <tr>\n",
       "      <th>ZipCode_98011.0</th>\n",
       "      <td>20.3</td>\n",
       "    </tr>\n",
       "    <tr>\n",
       "      <th>Neighborhood_LAKE UNION</th>\n",
       "      <td>20.3</td>\n",
       "    </tr>\n",
       "    <tr>\n",
       "      <th>Neighborhood_NORTHEAST</th>\n",
       "      <td>19.4</td>\n",
       "    </tr>\n",
       "    <tr>\n",
       "      <th>SecondLargestPropertyUseType_Other - Restaurant/Bar</th>\n",
       "      <td>18.5</td>\n",
       "    </tr>\n",
       "    <tr>\n",
       "      <th>BuildingType_Campus</th>\n",
       "      <td>18.3</td>\n",
       "    </tr>\n",
       "    <tr>\n",
       "      <th>SecondLargestPropertyUseType_Other - Recreation</th>\n",
       "      <td>17.4</td>\n",
       "    </tr>\n",
       "    <tr>\n",
       "      <th>ThirdLargestPropertyUseType_Refrigerated Warehouse</th>\n",
       "      <td>17.3</td>\n",
       "    </tr>\n",
       "    <tr>\n",
       "      <th>LargestPropertyUseType_Laboratory</th>\n",
       "      <td>16.4</td>\n",
       "    </tr>\n",
       "    <tr>\n",
       "      <th>SecondLargestPropertyUseType_Restaurant</th>\n",
       "      <td>15.4</td>\n",
       "    </tr>\n",
       "    <tr>\n",
       "      <th>ZipCode_98178.0</th>\n",
       "      <td>14.2</td>\n",
       "    </tr>\n",
       "    <tr>\n",
       "      <th>PrimaryPropertyType_Senior Care Community</th>\n",
       "      <td>12.6</td>\n",
       "    </tr>\n",
       "    <tr>\n",
       "      <th>LargestPropertyUseType_Senior Care Community</th>\n",
       "      <td>12.6</td>\n",
       "    </tr>\n",
       "    <tr>\n",
       "      <th>PrimaryPropertyType_Mixed Use Property</th>\n",
       "      <td>12.1</td>\n",
       "    </tr>\n",
       "    <tr>\n",
       "      <th>Neighborhood_Northwest</th>\n",
       "      <td>12.1</td>\n",
       "    </tr>\n",
       "    <tr>\n",
       "      <th>CouncilDistrictCode_2</th>\n",
       "      <td>11.0</td>\n",
       "    </tr>\n",
       "    <tr>\n",
       "      <th>LargestPropertyUseType_ND</th>\n",
       "      <td>10.7</td>\n",
       "    </tr>\n",
       "    <tr>\n",
       "      <th>Neighborhood_NORTHWEST</th>\n",
       "      <td>10.7</td>\n",
       "    </tr>\n",
       "    <tr>\n",
       "      <th>SecondLargestPropertyUseType_Fitness Center/Health Club/Gym</th>\n",
       "      <td>10.5</td>\n",
       "    </tr>\n",
       "    <tr>\n",
       "      <th>LargestPropertyUseType_Residential Care Facility</th>\n",
       "      <td>10.4</td>\n",
       "    </tr>\n",
       "    <tr>\n",
       "      <th>ThirdLargestPropertyUseType_ND</th>\n",
       "      <td>9.9</td>\n",
       "    </tr>\n",
       "    <tr>\n",
       "      <th>Neighborhood_DELRIDGE</th>\n",
       "      <td>9.6</td>\n",
       "    </tr>\n",
       "    <tr>\n",
       "      <th>SecondLargestPropertyUseType_Hotel</th>\n",
       "      <td>9.3</td>\n",
       "    </tr>\n",
       "    <tr>\n",
       "      <th>PrimaryPropertyType_Warehouse</th>\n",
       "      <td>8.7</td>\n",
       "    </tr>\n",
       "    <tr>\n",
       "      <th>LargestPropertyUseType_Manufacturing/Industrial Plant</th>\n",
       "      <td>7.6</td>\n",
       "    </tr>\n",
       "    <tr>\n",
       "      <th>CouncilDistrictCode_7</th>\n",
       "      <td>6.6</td>\n",
       "    </tr>\n",
       "    <tr>\n",
       "      <th>Longitude</th>\n",
       "      <td>6.5</td>\n",
       "    </tr>\n",
       "    <tr>\n",
       "      <th>SecondLargestPropertyUseType_Office</th>\n",
       "      <td>6.1</td>\n",
       "    </tr>\n",
       "    <tr>\n",
       "      <th>Latitude</th>\n",
       "      <td>5.5</td>\n",
       "    </tr>\n",
       "    <tr>\n",
       "      <th>Neighborhood_North</th>\n",
       "      <td>3.5</td>\n",
       "    </tr>\n",
       "    <tr>\n",
       "      <th>ZipCode_98105.0</th>\n",
       "      <td>3.0</td>\n",
       "    </tr>\n",
       "    <tr>\n",
       "      <th>ThirdLargestPropertyUseType_Non-Refrigerated Warehouse</th>\n",
       "      <td>3.0</td>\n",
       "    </tr>\n",
       "    <tr>\n",
       "      <th>SecondLargestPropertyUseType_Other - Services</th>\n",
       "      <td>2.9</td>\n",
       "    </tr>\n",
       "    <tr>\n",
       "      <th>ThirdLargestPropertyUseType_Multifamily Housing</th>\n",
       "      <td>2.8</td>\n",
       "    </tr>\n",
       "    <tr>\n",
       "      <th>LargestPropertyUseType_Financial Office</th>\n",
       "      <td>2.4</td>\n",
       "    </tr>\n",
       "    <tr>\n",
       "      <th>SecondLargestPropertyUseType_Medical Office</th>\n",
       "      <td>2.2</td>\n",
       "    </tr>\n",
       "    <tr>\n",
       "      <th>ThirdLargestPropertyUseType_Other</th>\n",
       "      <td>2.1</td>\n",
       "    </tr>\n",
       "    <tr>\n",
       "      <th>SecondLargestPropertyUseType_Parking</th>\n",
       "      <td>1.5</td>\n",
       "    </tr>\n",
       "    <tr>\n",
       "      <th>Surface_au_sol(sf)</th>\n",
       "      <td>1.3</td>\n",
       "    </tr>\n",
       "    <tr>\n",
       "      <th>LargestPropertyUseType_Other</th>\n",
       "      <td>1.0</td>\n",
       "    </tr>\n",
       "    <tr>\n",
       "      <th>ZipCode_98118.0</th>\n",
       "      <td>0.2</td>\n",
       "    </tr>\n",
       "    <tr>\n",
       "      <th>ThirdLargestPropertyUseType_Bank Branch</th>\n",
       "      <td>0.2</td>\n",
       "    </tr>\n",
       "    <tr>\n",
       "      <th>BuildingType_Nonresidential COS</th>\n",
       "      <td>-0.2</td>\n",
       "    </tr>\n",
       "    <tr>\n",
       "      <th>SecondLargestPropertyUseType_Other - Public Services</th>\n",
       "      <td>-0.4</td>\n",
       "    </tr>\n",
       "    <tr>\n",
       "      <th>ThirdLargestPropertyUseType_Restaurant</th>\n",
       "      <td>-0.6</td>\n",
       "    </tr>\n",
       "    <tr>\n",
       "      <th>NumberofFloors</th>\n",
       "      <td>-0.7</td>\n",
       "    </tr>\n",
       "    <tr>\n",
       "      <th>ZipCode_98116.0</th>\n",
       "      <td>-0.7</td>\n",
       "    </tr>\n",
       "    <tr>\n",
       "      <th>YearBuilt</th>\n",
       "      <td>-1.2</td>\n",
       "    </tr>\n",
       "    <tr>\n",
       "      <th>ZipCode_98177.0</th>\n",
       "      <td>-1.4</td>\n",
       "    </tr>\n",
       "    <tr>\n",
       "      <th>NumberofBuildings</th>\n",
       "      <td>-1.7</td>\n",
       "    </tr>\n",
       "    <tr>\n",
       "      <th>SecondLargestPropertyUseType_College/University</th>\n",
       "      <td>-2.2</td>\n",
       "    </tr>\n",
       "    <tr>\n",
       "      <th>SecondLargestPropertyUseType_Adult Education</th>\n",
       "      <td>-2.7</td>\n",
       "    </tr>\n",
       "    <tr>\n",
       "      <th>BuildingType_NonResidential</th>\n",
       "      <td>-2.7</td>\n",
       "    </tr>\n",
       "    <tr>\n",
       "      <th>ThirdLargestPropertyUseType_Parking</th>\n",
       "      <td>-2.9</td>\n",
       "    </tr>\n",
       "    <tr>\n",
       "      <th>Neighborhood_NORTH</th>\n",
       "      <td>-2.9</td>\n",
       "    </tr>\n",
       "    <tr>\n",
       "      <th>PrimaryPropertyType_Large Office</th>\n",
       "      <td>-3.0</td>\n",
       "    </tr>\n",
       "    <tr>\n",
       "      <th>ZipCode_98103.0</th>\n",
       "      <td>-3.1</td>\n",
       "    </tr>\n",
       "    <tr>\n",
       "      <th>PrimaryPropertyType_Distribution Center</th>\n",
       "      <td>-3.6</td>\n",
       "    </tr>\n",
       "    <tr>\n",
       "      <th>ZipCode_98136.0</th>\n",
       "      <td>-3.7</td>\n",
       "    </tr>\n",
       "    <tr>\n",
       "      <th>ThirdLargestPropertyUseType_Financial Office</th>\n",
       "      <td>-3.9</td>\n",
       "    </tr>\n",
       "    <tr>\n",
       "      <th>SecondLargestPropertyUseType_K-12 School</th>\n",
       "      <td>-4.0</td>\n",
       "    </tr>\n",
       "    <tr>\n",
       "      <th>PrimaryPropertyType_Small- and Mid-Sized Office</th>\n",
       "      <td>-4.1</td>\n",
       "    </tr>\n",
       "    <tr>\n",
       "      <th>SecondLargestPropertyUseType_Pre-school/Daycare</th>\n",
       "      <td>-4.4</td>\n",
       "    </tr>\n",
       "    <tr>\n",
       "      <th>Neighborhood_DOWNTOWN</th>\n",
       "      <td>-4.4</td>\n",
       "    </tr>\n",
       "    <tr>\n",
       "      <th>Neighborhood_GREATER DUWAMISH</th>\n",
       "      <td>-4.5</td>\n",
       "    </tr>\n",
       "    <tr>\n",
       "      <th>PrimaryPropertyType_Other</th>\n",
       "      <td>-4.7</td>\n",
       "    </tr>\n",
       "    <tr>\n",
       "      <th>ZipCode_98111.0</th>\n",
       "      <td>-5.3</td>\n",
       "    </tr>\n",
       "    <tr>\n",
       "      <th>ZipCode_98117.0</th>\n",
       "      <td>-5.4</td>\n",
       "    </tr>\n",
       "    <tr>\n",
       "      <th>SecondLargestPropertyUseType_Retail Store</th>\n",
       "      <td>-5.4</td>\n",
       "    </tr>\n",
       "    <tr>\n",
       "      <th>SecondLargestPropertyUseType_Multifamily Housing</th>\n",
       "      <td>-5.9</td>\n",
       "    </tr>\n",
       "    <tr>\n",
       "      <th>Neighborhood_EAST</th>\n",
       "      <td>-6.3</td>\n",
       "    </tr>\n",
       "    <tr>\n",
       "      <th>LargestPropertyUseType_Other - Public Services</th>\n",
       "      <td>-6.7</td>\n",
       "    </tr>\n",
       "    <tr>\n",
       "      <th>Neighborhood_Central</th>\n",
       "      <td>-6.9</td>\n",
       "    </tr>\n",
       "    <tr>\n",
       "      <th>LargestPropertyUseType_Supermarket/Grocery Store</th>\n",
       "      <td>-7.0</td>\n",
       "    </tr>\n",
       "    <tr>\n",
       "      <th>CouncilDistrictCode_5</th>\n",
       "      <td>-8.2</td>\n",
       "    </tr>\n",
       "    <tr>\n",
       "      <th>LargestPropertyUseType_Refrigerated Warehouse</th>\n",
       "      <td>-8.6</td>\n",
       "    </tr>\n",
       "    <tr>\n",
       "      <th>PrimaryPropertyType_Refrigerated Warehouse</th>\n",
       "      <td>-8.6</td>\n",
       "    </tr>\n",
       "    <tr>\n",
       "      <th>LargestPropertyUseType_Medical Office</th>\n",
       "      <td>-8.9</td>\n",
       "    </tr>\n",
       "    <tr>\n",
       "      <th>PrimaryPropertyType_Medical Office</th>\n",
       "      <td>-8.9</td>\n",
       "    </tr>\n",
       "    <tr>\n",
       "      <th>LargestPropertyUseType_Strip Mall</th>\n",
       "      <td>-8.9</td>\n",
       "    </tr>\n",
       "    <tr>\n",
       "      <th>ZipCode_98195.0</th>\n",
       "      <td>-8.9</td>\n",
       "    </tr>\n",
       "    <tr>\n",
       "      <th>SecondLargestPropertyUseType_ND</th>\n",
       "      <td>-9.3</td>\n",
       "    </tr>\n",
       "    <tr>\n",
       "      <th>SecondLargestPropertyUseType_Other</th>\n",
       "      <td>-9.3</td>\n",
       "    </tr>\n",
       "    <tr>\n",
       "      <th>Neighborhood_SOUTHWEST</th>\n",
       "      <td>-9.7</td>\n",
       "    </tr>\n",
       "    <tr>\n",
       "      <th>ThirdLargestPropertyUseType_Medical Office</th>\n",
       "      <td>-9.8</td>\n",
       "    </tr>\n",
       "    <tr>\n",
       "      <th>ZipCode_98101.0</th>\n",
       "      <td>-10.1</td>\n",
       "    </tr>\n",
       "    <tr>\n",
       "      <th>ThirdLargestPropertyUseType_Vocational School</th>\n",
       "      <td>-10.2</td>\n",
       "    </tr>\n",
       "    <tr>\n",
       "      <th>ZipCode_98121.0</th>\n",
       "      <td>-10.4</td>\n",
       "    </tr>\n",
       "    <tr>\n",
       "      <th>LargestPropertyUseType_Fire Station</th>\n",
       "      <td>-11.5</td>\n",
       "    </tr>\n",
       "    <tr>\n",
       "      <th>ThirdLargestPropertyUseType_Retail Store</th>\n",
       "      <td>-11.6</td>\n",
       "    </tr>\n",
       "    <tr>\n",
       "      <th>ZipCode_98113.0</th>\n",
       "      <td>-11.7</td>\n",
       "    </tr>\n",
       "    <tr>\n",
       "      <th>LargestPropertyUseType_Movie Theater</th>\n",
       "      <td>-11.7</td>\n",
       "    </tr>\n",
       "    <tr>\n",
       "      <th>ZipCode_98106.0</th>\n",
       "      <td>-12.0</td>\n",
       "    </tr>\n",
       "    <tr>\n",
       "      <th>SecondLargestPropertyUseType_Repair Services (Vehicle, Shoe, Locksmith, etc)</th>\n",
       "      <td>-12.2</td>\n",
       "    </tr>\n",
       "    <tr>\n",
       "      <th>ZipCode_98107.0</th>\n",
       "      <td>-12.5</td>\n",
       "    </tr>\n",
       "    <tr>\n",
       "      <th>LargestPropertyUseType_Prison/Incarceration</th>\n",
       "      <td>-13.4</td>\n",
       "    </tr>\n",
       "    <tr>\n",
       "      <th>SecondLargestPropertyUseType_Movie Theater</th>\n",
       "      <td>-13.7</td>\n",
       "    </tr>\n",
       "    <tr>\n",
       "      <th>ZipCode_98102.0</th>\n",
       "      <td>-13.9</td>\n",
       "    </tr>\n",
       "    <tr>\n",
       "      <th>ZipCode_98168.0</th>\n",
       "      <td>-14.0</td>\n",
       "    </tr>\n",
       "    <tr>\n",
       "      <th>PrimaryPropertyType_Low-Rise Multifamily</th>\n",
       "      <td>-14.2</td>\n",
       "    </tr>\n",
       "    <tr>\n",
       "      <th>PrimaryPropertyType_Office</th>\n",
       "      <td>-14.4</td>\n",
       "    </tr>\n",
       "    <tr>\n",
       "      <th>ZipCode_98108.0</th>\n",
       "      <td>-15.1</td>\n",
       "    </tr>\n",
       "    <tr>\n",
       "      <th>BuildingType_SPS-District K-12</th>\n",
       "      <td>-15.4</td>\n",
       "    </tr>\n",
       "    <tr>\n",
       "      <th>LargestPropertyUseType_Library</th>\n",
       "      <td>-15.7</td>\n",
       "    </tr>\n",
       "    <tr>\n",
       "      <th>ZipCode_98154.0</th>\n",
       "      <td>-16.1</td>\n",
       "    </tr>\n",
       "    <tr>\n",
       "      <th>SecondLargestPropertyUseType_Worship Facility</th>\n",
       "      <td>-16.8</td>\n",
       "    </tr>\n",
       "    <tr>\n",
       "      <th>SecondLargestPropertyUseType_Courthouse</th>\n",
       "      <td>-17.6</td>\n",
       "    </tr>\n",
       "    <tr>\n",
       "      <th>PrimaryPropertyType_University</th>\n",
       "      <td>-17.6</td>\n",
       "    </tr>\n",
       "    <tr>\n",
       "      <th>LargestPropertyUseType_College/University</th>\n",
       "      <td>-17.6</td>\n",
       "    </tr>\n",
       "    <tr>\n",
       "      <th>LargestPropertyUseType_Other - Entertainment/Public Assembly</th>\n",
       "      <td>-17.8</td>\n",
       "    </tr>\n",
       "    <tr>\n",
       "      <th>Neighborhood_CENTRAL</th>\n",
       "      <td>-18.5</td>\n",
       "    </tr>\n",
       "    <tr>\n",
       "      <th>ZipCode_98134.0</th>\n",
       "      <td>-18.5</td>\n",
       "    </tr>\n",
       "    <tr>\n",
       "      <th>ZipCode_98144.0</th>\n",
       "      <td>-18.6</td>\n",
       "    </tr>\n",
       "    <tr>\n",
       "      <th>ZipCode_98115.0</th>\n",
       "      <td>-19.7</td>\n",
       "    </tr>\n",
       "    <tr>\n",
       "      <th>ThirdLargestPropertyUseType_Food Service</th>\n",
       "      <td>-20.6</td>\n",
       "    </tr>\n",
       "    <tr>\n",
       "      <th>ThirdLargestPropertyUseType_K-12 School</th>\n",
       "      <td>-20.6</td>\n",
       "    </tr>\n",
       "    <tr>\n",
       "      <th>SecondLargestPropertyUseType_Bank Branch</th>\n",
       "      <td>-21.1</td>\n",
       "    </tr>\n",
       "    <tr>\n",
       "      <th>LargestPropertyUseType_Pre-school/Daycare</th>\n",
       "      <td>-21.3</td>\n",
       "    </tr>\n",
       "    <tr>\n",
       "      <th>LargestPropertyUseType_Self-Storage Facility</th>\n",
       "      <td>-21.5</td>\n",
       "    </tr>\n",
       "    <tr>\n",
       "      <th>LargestPropertyUseType_Social/Meeting Hall</th>\n",
       "      <td>-21.8</td>\n",
       "    </tr>\n",
       "    <tr>\n",
       "      <th>ZipCode_98104.0</th>\n",
       "      <td>-22.7</td>\n",
       "    </tr>\n",
       "    <tr>\n",
       "      <th>PrimaryPropertyType_K-12 School</th>\n",
       "      <td>-22.8</td>\n",
       "    </tr>\n",
       "    <tr>\n",
       "      <th>LargestPropertyUseType_K-12 School</th>\n",
       "      <td>-22.8</td>\n",
       "    </tr>\n",
       "    <tr>\n",
       "      <th>SecondLargestPropertyUseType_Self-Storage Facility</th>\n",
       "      <td>-22.9</td>\n",
       "    </tr>\n",
       "    <tr>\n",
       "      <th>ThirdLargestPropertyUseType_Fitness Center/Health Club/Gym</th>\n",
       "      <td>-23.0</td>\n",
       "    </tr>\n",
       "    <tr>\n",
       "      <th>ZipCode_-1.0</th>\n",
       "      <td>-23.6</td>\n",
       "    </tr>\n",
       "    <tr>\n",
       "      <th>SecondLargestPropertyUseType_Vocational School</th>\n",
       "      <td>-23.7</td>\n",
       "    </tr>\n",
       "    <tr>\n",
       "      <th>SecondLargestPropertyUseType_Refrigerated Warehouse</th>\n",
       "      <td>-23.8</td>\n",
       "    </tr>\n",
       "    <tr>\n",
       "      <th>ZipCode_98126.0</th>\n",
       "      <td>-23.9</td>\n",
       "    </tr>\n",
       "    <tr>\n",
       "      <th>SecondLargestPropertyUseType_Other - Education</th>\n",
       "      <td>-23.9</td>\n",
       "    </tr>\n",
       "    <tr>\n",
       "      <th>ZipCode_98033.0</th>\n",
       "      <td>-24.0</td>\n",
       "    </tr>\n",
       "    <tr>\n",
       "      <th>Neighborhood_SOUTHEAST</th>\n",
       "      <td>-25.7</td>\n",
       "    </tr>\n",
       "    <tr>\n",
       "      <th>CouncilDistrictCode_6</th>\n",
       "      <td>-26.9</td>\n",
       "    </tr>\n",
       "    <tr>\n",
       "      <th>ZipCode_98119.0</th>\n",
       "      <td>-27.0</td>\n",
       "    </tr>\n",
       "    <tr>\n",
       "      <th>SecondLargestPropertyUseType_Distribution Center</th>\n",
       "      <td>-27.4</td>\n",
       "    </tr>\n",
       "    <tr>\n",
       "      <th>CouncilDistrictCode_4</th>\n",
       "      <td>-27.6</td>\n",
       "    </tr>\n",
       "    <tr>\n",
       "      <th>Neighborhood_Delridge</th>\n",
       "      <td>-28.0</td>\n",
       "    </tr>\n",
       "    <tr>\n",
       "      <th>SecondLargestPropertyUseType_Enclosed Mall</th>\n",
       "      <td>-29.0</td>\n",
       "    </tr>\n",
       "    <tr>\n",
       "      <th>ZipCode_98133.0</th>\n",
       "      <td>-29.5</td>\n",
       "    </tr>\n",
       "    <tr>\n",
       "      <th>ZipCode_98112.0</th>\n",
       "      <td>-29.8</td>\n",
       "    </tr>\n",
       "    <tr>\n",
       "      <th>LargestPropertyUseType_Other - Services</th>\n",
       "      <td>-30.4</td>\n",
       "    </tr>\n",
       "    <tr>\n",
       "      <th>ZipCode_98124.0</th>\n",
       "      <td>-30.6</td>\n",
       "    </tr>\n",
       "    <tr>\n",
       "      <th>ThirdLargestPropertyUseType_Manufacturing/Industrial Plant</th>\n",
       "      <td>-30.6</td>\n",
       "    </tr>\n",
       "    <tr>\n",
       "      <th>LargestPropertyUseType_Worship Facility</th>\n",
       "      <td>-31.3</td>\n",
       "    </tr>\n",
       "    <tr>\n",
       "      <th>PrimaryPropertyType_Worship Facility</th>\n",
       "      <td>-31.3</td>\n",
       "    </tr>\n",
       "    <tr>\n",
       "      <th>ThirdLargestPropertyUseType_Personal Services (Health/Beauty, Dry Cleaning, etc)</th>\n",
       "      <td>-32.1</td>\n",
       "    </tr>\n",
       "    <tr>\n",
       "      <th>LargestPropertyUseType_Repair Services (Vehicle, Shoe, Locksmith, etc)</th>\n",
       "      <td>-32.8</td>\n",
       "    </tr>\n",
       "    <tr>\n",
       "      <th>LargestPropertyUseType_Office</th>\n",
       "      <td>-32.9</td>\n",
       "    </tr>\n",
       "    <tr>\n",
       "      <th>SecondLargestPropertyUseType_Other - Entertainment/Public Assembly</th>\n",
       "      <td>-34.0</td>\n",
       "    </tr>\n",
       "    <tr>\n",
       "      <th>SecondLargestPropertyUseType_Non-Refrigerated Warehouse</th>\n",
       "      <td>-36.0</td>\n",
       "    </tr>\n",
       "    <tr>\n",
       "      <th>ThirdLargestPropertyUseType_Bar/Nightclub</th>\n",
       "      <td>-36.3</td>\n",
       "    </tr>\n",
       "    <tr>\n",
       "      <th>ZipCode_98109.0</th>\n",
       "      <td>-36.3</td>\n",
       "    </tr>\n",
       "    <tr>\n",
       "      <th>ZipCode_98125.0</th>\n",
       "      <td>-36.3</td>\n",
       "    </tr>\n",
       "    <tr>\n",
       "      <th>ZipCode_98122.0</th>\n",
       "      <td>-36.9</td>\n",
       "    </tr>\n",
       "    <tr>\n",
       "      <th>ThirdLargestPropertyUseType_Worship Facility</th>\n",
       "      <td>-37.8</td>\n",
       "    </tr>\n",
       "    <tr>\n",
       "      <th>ZipCode_98199.0</th>\n",
       "      <td>-37.9</td>\n",
       "    </tr>\n",
       "    <tr>\n",
       "      <th>LargestPropertyUseType_Other - Lodging/Residential</th>\n",
       "      <td>-37.9</td>\n",
       "    </tr>\n",
       "    <tr>\n",
       "      <th>LargestPropertyUseType_Lifestyle Center</th>\n",
       "      <td>-38.7</td>\n",
       "    </tr>\n",
       "    <tr>\n",
       "      <th>ThirdLargestPropertyUseType_Fast Food Restaurant</th>\n",
       "      <td>-39.2</td>\n",
       "    </tr>\n",
       "    <tr>\n",
       "      <th>ThirdLargestPropertyUseType_Convenience Store without Gas Station</th>\n",
       "      <td>-39.7</td>\n",
       "    </tr>\n",
       "    <tr>\n",
       "      <th>ZipCode_98114.0</th>\n",
       "      <td>-39.9</td>\n",
       "    </tr>\n",
       "    <tr>\n",
       "      <th>LargestPropertyUseType_Bank Branch</th>\n",
       "      <td>-40.2</td>\n",
       "    </tr>\n",
       "    <tr>\n",
       "      <th>ZipCode_98165.0</th>\n",
       "      <td>-40.7</td>\n",
       "    </tr>\n",
       "    <tr>\n",
       "      <th>ZipCode_98155.0</th>\n",
       "      <td>-42.4</td>\n",
       "    </tr>\n",
       "    <tr>\n",
       "      <th>LargestPropertyUseType_Fitness Center/Health Club/Gym</th>\n",
       "      <td>-42.5</td>\n",
       "    </tr>\n",
       "    <tr>\n",
       "      <th>ThirdLargestPropertyUseType_Self-Storage Facility</th>\n",
       "      <td>-45.4</td>\n",
       "    </tr>\n",
       "    <tr>\n",
       "      <th>PrimaryPropertyType_Hotel</th>\n",
       "      <td>-49.5</td>\n",
       "    </tr>\n",
       "    <tr>\n",
       "      <th>ZipCode_98053.0</th>\n",
       "      <td>-50.0</td>\n",
       "    </tr>\n",
       "    <tr>\n",
       "      <th>LargestPropertyUseType_Adult Education</th>\n",
       "      <td>-50.3</td>\n",
       "    </tr>\n",
       "    <tr>\n",
       "      <th>ZipCode_98181.0</th>\n",
       "      <td>-50.6</td>\n",
       "    </tr>\n",
       "    <tr>\n",
       "      <th>PrimaryPropertyType_Self-Storage Facility</th>\n",
       "      <td>-51.2</td>\n",
       "    </tr>\n",
       "    <tr>\n",
       "      <th>LargestPropertyUseType_Other - Utility</th>\n",
       "      <td>-52.2</td>\n",
       "    </tr>\n",
       "    <tr>\n",
       "      <th>LargestPropertyUseType_Automobile Dealership</th>\n",
       "      <td>-54.2</td>\n",
       "    </tr>\n",
       "    <tr>\n",
       "      <th>ThirdLargestPropertyUseType_Hotel</th>\n",
       "      <td>-54.9</td>\n",
       "    </tr>\n",
       "    <tr>\n",
       "      <th>LargestPropertyUseType_Retail Store</th>\n",
       "      <td>-57.9</td>\n",
       "    </tr>\n",
       "    <tr>\n",
       "      <th>LargestPropertyUseType_Multifamily Housing</th>\n",
       "      <td>-59.6</td>\n",
       "    </tr>\n",
       "    <tr>\n",
       "      <th>SecondLargestPropertyUseType_Residence Hall/Dormitory</th>\n",
       "      <td>-60.7</td>\n",
       "    </tr>\n",
       "    <tr>\n",
       "      <th>LargestPropertyUseType_Distribution Center</th>\n",
       "      <td>-63.0</td>\n",
       "    </tr>\n",
       "    <tr>\n",
       "      <th>LargestPropertyUseType_Other - Education</th>\n",
       "      <td>-63.5</td>\n",
       "    </tr>\n",
       "    <tr>\n",
       "      <th>ZipCode_98146.0</th>\n",
       "      <td>-65.7</td>\n",
       "    </tr>\n",
       "    <tr>\n",
       "      <th>ThirdLargestPropertyUseType_Pre-school/Daycare</th>\n",
       "      <td>-65.9</td>\n",
       "    </tr>\n",
       "    <tr>\n",
       "      <th>LargestPropertyUseType_Performing Arts</th>\n",
       "      <td>-72.2</td>\n",
       "    </tr>\n",
       "    <tr>\n",
       "      <th>LargestPropertyUseType_Non-Refrigerated Warehouse</th>\n",
       "      <td>-75.4</td>\n",
       "    </tr>\n",
       "    <tr>\n",
       "      <th>Neighborhood_DELRIDGE NEIGHBORHOODS</th>\n",
       "      <td>-77.8</td>\n",
       "    </tr>\n",
       "    <tr>\n",
       "      <th>SecondLargestPropertyUseType_Automobile Dealership</th>\n",
       "      <td>-81.4</td>\n",
       "    </tr>\n",
       "    <tr>\n",
       "      <th>ZipCode_98070.0</th>\n",
       "      <td>-87.2</td>\n",
       "    </tr>\n",
       "    <tr>\n",
       "      <th>ThirdLargestPropertyUseType_Distribution Center</th>\n",
       "      <td>-87.3</td>\n",
       "    </tr>\n",
       "    <tr>\n",
       "      <th>PrimaryPropertyType_Restaurant</th>\n",
       "      <td>-93.0</td>\n",
       "    </tr>\n",
       "    <tr>\n",
       "      <th>PrimaryPropertyType_Residence Hall</th>\n",
       "      <td>-103.4</td>\n",
       "    </tr>\n",
       "    <tr>\n",
       "      <th>ThirdLargestPropertyUseType_Supermarket/Grocery Store</th>\n",
       "      <td>-152.8</td>\n",
       "    </tr>\n",
       "    <tr>\n",
       "      <th>LargestPropertyUseType_Wholesale Club/Supercenter</th>\n",
       "      <td>-159.8</td>\n",
       "    </tr>\n",
       "    <tr>\n",
       "      <th>SecondLargestPropertyUseType_Personal Services (Health/Beauty, Dry Cleaning, etc)</th>\n",
       "      <td>-162.7</td>\n",
       "    </tr>\n",
       "  </tbody>\n",
       "</table>\n",
       "</div>"
      ],
      "text/plain": [
       "                                                                                   Coefficients\n",
       "ZipCode_98013.0                                                                           393.9\n",
       "ZipCode_98185.0                                                                           367.6\n",
       "LargestPropertyUseType_Data Center                                                        367.6\n",
       "PrimaryPropertyType_Laboratory                                                            184.2\n",
       "PrimaryPropertyType_Supermarket / Grocery Store                                           154.2\n",
       "LargestPropertyUseType_Restaurant                                                         152.6\n",
       "SecondLargestPropertyUseType_Data Center                                                  131.2\n",
       "LargestPropertyUseType_Other/Specialty Hospital                                           105.8\n",
       "ThirdLargestPropertyUseType_Strip Mall                                                     97.5\n",
       "ThirdLargestPropertyUseType_Other - Recreation                                             95.9\n",
       "LargestPropertyUseType_Urgent Care/Clinic/Other Outpatient                                 91.9\n",
       "SecondLargestPropertyUseType_Laboratory                                                    90.6\n",
       "ThirdLargestPropertyUseType_Other/Specialty Hospital                                       88.5\n",
       "ThirdLargestPropertyUseType_Other - Entertainment/Public Assembly                          84.7\n",
       "LargestPropertyUseType_Other - Mall                                                        84.4\n",
       "ZipCode_98020.0                                                                            76.7\n",
       "ThirdLargestPropertyUseType_Data Center                                                    76.3\n",
       "LargestPropertyUseType_Museum                                                              69.3\n",
       "LargestPropertyUseType_Other - Restaurant/Bar                                              66.9\n",
       "ThirdLargestPropertyUseType_Swimming Pool                                                  60.5\n",
       "ZipCode_98164.0                                                                            60.3\n",
       "Neighborhood_Ballard                                                                       52.7\n",
       "LargestPropertyUseType_Residence Hall/Dormitory                                            50.7\n",
       "SecondLargestPropertyUseType_Supermarket/Grocery Store                                     50.5\n",
       "LargestPropertyUseType_Other - Recreation                                                  46.0\n",
       "SecondLargestPropertyUseType_Hospital (General Medical & Surgical)                         43.5\n",
       "SecondLargestPropertyUseType_Bar/Nightclub                                                 42.3\n",
       "SecondLargestPropertyUseType_Food Sales                                                    42.1\n",
       "ThirdLargestPropertyUseType_Office                                                         35.8\n",
       "PrimaryPropertyType_Hospital                                                               35.6\n",
       "LargestPropertyUseType_Hospital (General Medical & Surgical)                               35.6\n",
       "SecondLargestPropertyUseType_Financial Office                                              35.1\n",
       "LargestPropertyUseType_Hotel                                                               34.3\n",
       "ThirdLargestPropertyUseType_Other - Education                                              33.9\n",
       "ThirdLargestPropertyUseType_Social/Meeting Hall                                            33.8\n",
       "Neighborhood_BALLARD                                                                       33.6\n",
       "ThirdLargestPropertyUseType_Other - Technology/Science                                     33.5\n",
       "SecondLargestPropertyUseType_Manufacturing/Industrial Plant                                29.4\n",
       "SecondLargestPropertyUseType_Performing Arts                                               27.8\n",
       "ThirdLargestPropertyUseType_Other - Services                                               27.8\n",
       "SecondLargestPropertyUseType_Social/Meeting Hall                                           27.4\n",
       "SecondLargestPropertyUseType_Swimming Pool                                                 24.3\n",
       "LargestPropertyUseType_Personal Services (Health/Beauty, Dry Cleaning, etc)                23.5\n",
       "PrimaryPropertyType_Retail Store                                                           23.0\n",
       "Neighborhood_MAGNOLIA / QUEEN ANNE                                                         22.7\n",
       "CouncilDistrictCode_3                                                                      22.6\n",
       "CouncilDistrictCode_1                                                                      22.5\n",
       "SecondLargestPropertyUseType_Food Service                                                  22.4\n",
       "ThirdLargestPropertyUseType_Other - Restaurant/Bar                                         21.7\n",
       "LargestPropertyUseType_Parking                                                             20.4\n",
       "ZipCode_98011.0                                                                            20.3\n",
       "Neighborhood_LAKE UNION                                                                    20.3\n",
       "Neighborhood_NORTHEAST                                                                     19.4\n",
       "SecondLargestPropertyUseType_Other - Restaurant/Bar                                        18.5\n",
       "BuildingType_Campus                                                                        18.3\n",
       "SecondLargestPropertyUseType_Other - Recreation                                            17.4\n",
       "ThirdLargestPropertyUseType_Refrigerated Warehouse                                         17.3\n",
       "LargestPropertyUseType_Laboratory                                                          16.4\n",
       "SecondLargestPropertyUseType_Restaurant                                                    15.4\n",
       "ZipCode_98178.0                                                                            14.2\n",
       "PrimaryPropertyType_Senior Care Community                                                  12.6\n",
       "LargestPropertyUseType_Senior Care Community                                               12.6\n",
       "PrimaryPropertyType_Mixed Use Property                                                     12.1\n",
       "Neighborhood_Northwest                                                                     12.1\n",
       "CouncilDistrictCode_2                                                                      11.0\n",
       "LargestPropertyUseType_ND                                                                  10.7\n",
       "Neighborhood_NORTHWEST                                                                     10.7\n",
       "SecondLargestPropertyUseType_Fitness Center/Health Club/Gym                                10.5\n",
       "LargestPropertyUseType_Residential Care Facility                                           10.4\n",
       "ThirdLargestPropertyUseType_ND                                                              9.9\n",
       "Neighborhood_DELRIDGE                                                                       9.6\n",
       "SecondLargestPropertyUseType_Hotel                                                          9.3\n",
       "PrimaryPropertyType_Warehouse                                                               8.7\n",
       "LargestPropertyUseType_Manufacturing/Industrial Plant                                       7.6\n",
       "CouncilDistrictCode_7                                                                       6.6\n",
       "Longitude                                                                                   6.5\n",
       "SecondLargestPropertyUseType_Office                                                         6.1\n",
       "Latitude                                                                                    5.5\n",
       "Neighborhood_North                                                                          3.5\n",
       "ZipCode_98105.0                                                                             3.0\n",
       "ThirdLargestPropertyUseType_Non-Refrigerated Warehouse                                      3.0\n",
       "SecondLargestPropertyUseType_Other - Services                                               2.9\n",
       "ThirdLargestPropertyUseType_Multifamily Housing                                             2.8\n",
       "LargestPropertyUseType_Financial Office                                                     2.4\n",
       "SecondLargestPropertyUseType_Medical Office                                                 2.2\n",
       "ThirdLargestPropertyUseType_Other                                                           2.1\n",
       "SecondLargestPropertyUseType_Parking                                                        1.5\n",
       "Surface_au_sol(sf)                                                                          1.3\n",
       "LargestPropertyUseType_Other                                                                1.0\n",
       "ZipCode_98118.0                                                                             0.2\n",
       "ThirdLargestPropertyUseType_Bank Branch                                                     0.2\n",
       "BuildingType_Nonresidential COS                                                            -0.2\n",
       "SecondLargestPropertyUseType_Other - Public Services                                       -0.4\n",
       "ThirdLargestPropertyUseType_Restaurant                                                     -0.6\n",
       "NumberofFloors                                                                             -0.7\n",
       "ZipCode_98116.0                                                                            -0.7\n",
       "YearBuilt                                                                                  -1.2\n",
       "ZipCode_98177.0                                                                            -1.4\n",
       "NumberofBuildings                                                                          -1.7\n",
       "SecondLargestPropertyUseType_College/University                                            -2.2\n",
       "SecondLargestPropertyUseType_Adult Education                                               -2.7\n",
       "BuildingType_NonResidential                                                                -2.7\n",
       "ThirdLargestPropertyUseType_Parking                                                        -2.9\n",
       "Neighborhood_NORTH                                                                         -2.9\n",
       "PrimaryPropertyType_Large Office                                                           -3.0\n",
       "ZipCode_98103.0                                                                            -3.1\n",
       "PrimaryPropertyType_Distribution Center                                                    -3.6\n",
       "ZipCode_98136.0                                                                            -3.7\n",
       "ThirdLargestPropertyUseType_Financial Office                                               -3.9\n",
       "SecondLargestPropertyUseType_K-12 School                                                   -4.0\n",
       "PrimaryPropertyType_Small- and Mid-Sized Office                                            -4.1\n",
       "SecondLargestPropertyUseType_Pre-school/Daycare                                            -4.4\n",
       "Neighborhood_DOWNTOWN                                                                      -4.4\n",
       "Neighborhood_GREATER DUWAMISH                                                              -4.5\n",
       "PrimaryPropertyType_Other                                                                  -4.7\n",
       "ZipCode_98111.0                                                                            -5.3\n",
       "ZipCode_98117.0                                                                            -5.4\n",
       "SecondLargestPropertyUseType_Retail Store                                                  -5.4\n",
       "SecondLargestPropertyUseType_Multifamily Housing                                           -5.9\n",
       "Neighborhood_EAST                                                                          -6.3\n",
       "LargestPropertyUseType_Other - Public Services                                             -6.7\n",
       "Neighborhood_Central                                                                       -6.9\n",
       "LargestPropertyUseType_Supermarket/Grocery Store                                           -7.0\n",
       "CouncilDistrictCode_5                                                                      -8.2\n",
       "LargestPropertyUseType_Refrigerated Warehouse                                              -8.6\n",
       "PrimaryPropertyType_Refrigerated Warehouse                                                 -8.6\n",
       "LargestPropertyUseType_Medical Office                                                      -8.9\n",
       "PrimaryPropertyType_Medical Office                                                         -8.9\n",
       "LargestPropertyUseType_Strip Mall                                                          -8.9\n",
       "ZipCode_98195.0                                                                            -8.9\n",
       "SecondLargestPropertyUseType_ND                                                            -9.3\n",
       "SecondLargestPropertyUseType_Other                                                         -9.3\n",
       "Neighborhood_SOUTHWEST                                                                     -9.7\n",
       "ThirdLargestPropertyUseType_Medical Office                                                 -9.8\n",
       "ZipCode_98101.0                                                                           -10.1\n",
       "ThirdLargestPropertyUseType_Vocational School                                             -10.2\n",
       "ZipCode_98121.0                                                                           -10.4\n",
       "LargestPropertyUseType_Fire Station                                                       -11.5\n",
       "ThirdLargestPropertyUseType_Retail Store                                                  -11.6\n",
       "ZipCode_98113.0                                                                           -11.7\n",
       "LargestPropertyUseType_Movie Theater                                                      -11.7\n",
       "ZipCode_98106.0                                                                           -12.0\n",
       "SecondLargestPropertyUseType_Repair Services (Vehicle, Shoe, Locksmith, etc)              -12.2\n",
       "ZipCode_98107.0                                                                           -12.5\n",
       "LargestPropertyUseType_Prison/Incarceration                                               -13.4\n",
       "SecondLargestPropertyUseType_Movie Theater                                                -13.7\n",
       "ZipCode_98102.0                                                                           -13.9\n",
       "ZipCode_98168.0                                                                           -14.0\n",
       "PrimaryPropertyType_Low-Rise Multifamily                                                  -14.2\n",
       "PrimaryPropertyType_Office                                                                -14.4\n",
       "ZipCode_98108.0                                                                           -15.1\n",
       "BuildingType_SPS-District K-12                                                            -15.4\n",
       "LargestPropertyUseType_Library                                                            -15.7\n",
       "ZipCode_98154.0                                                                           -16.1\n",
       "SecondLargestPropertyUseType_Worship Facility                                             -16.8\n",
       "SecondLargestPropertyUseType_Courthouse                                                   -17.6\n",
       "PrimaryPropertyType_University                                                            -17.6\n",
       "LargestPropertyUseType_College/University                                                 -17.6\n",
       "LargestPropertyUseType_Other - Entertainment/Public Assembly                              -17.8\n",
       "Neighborhood_CENTRAL                                                                      -18.5\n",
       "ZipCode_98134.0                                                                           -18.5\n",
       "ZipCode_98144.0                                                                           -18.6\n",
       "ZipCode_98115.0                                                                           -19.7\n",
       "ThirdLargestPropertyUseType_Food Service                                                  -20.6\n",
       "ThirdLargestPropertyUseType_K-12 School                                                   -20.6\n",
       "SecondLargestPropertyUseType_Bank Branch                                                  -21.1\n",
       "LargestPropertyUseType_Pre-school/Daycare                                                 -21.3\n",
       "LargestPropertyUseType_Self-Storage Facility                                              -21.5\n",
       "LargestPropertyUseType_Social/Meeting Hall                                                -21.8\n",
       "ZipCode_98104.0                                                                           -22.7\n",
       "PrimaryPropertyType_K-12 School                                                           -22.8\n",
       "LargestPropertyUseType_K-12 School                                                        -22.8\n",
       "SecondLargestPropertyUseType_Self-Storage Facility                                        -22.9\n",
       "ThirdLargestPropertyUseType_Fitness Center/Health Club/Gym                                -23.0\n",
       "ZipCode_-1.0                                                                              -23.6\n",
       "SecondLargestPropertyUseType_Vocational School                                            -23.7\n",
       "SecondLargestPropertyUseType_Refrigerated Warehouse                                       -23.8\n",
       "ZipCode_98126.0                                                                           -23.9\n",
       "SecondLargestPropertyUseType_Other - Education                                            -23.9\n",
       "ZipCode_98033.0                                                                           -24.0\n",
       "Neighborhood_SOUTHEAST                                                                    -25.7\n",
       "CouncilDistrictCode_6                                                                     -26.9\n",
       "ZipCode_98119.0                                                                           -27.0\n",
       "SecondLargestPropertyUseType_Distribution Center                                          -27.4\n",
       "CouncilDistrictCode_4                                                                     -27.6\n",
       "Neighborhood_Delridge                                                                     -28.0\n",
       "SecondLargestPropertyUseType_Enclosed Mall                                                -29.0\n",
       "ZipCode_98133.0                                                                           -29.5\n",
       "ZipCode_98112.0                                                                           -29.8\n",
       "LargestPropertyUseType_Other - Services                                                   -30.4\n",
       "ZipCode_98124.0                                                                           -30.6\n",
       "ThirdLargestPropertyUseType_Manufacturing/Industrial Plant                                -30.6\n",
       "LargestPropertyUseType_Worship Facility                                                   -31.3\n",
       "PrimaryPropertyType_Worship Facility                                                      -31.3\n",
       "ThirdLargestPropertyUseType_Personal Services (Health/Beauty, Dry Cleaning, etc)          -32.1\n",
       "LargestPropertyUseType_Repair Services (Vehicle, Shoe, Locksmith, etc)                    -32.8\n",
       "LargestPropertyUseType_Office                                                             -32.9\n",
       "SecondLargestPropertyUseType_Other - Entertainment/Public Assembly                        -34.0\n",
       "SecondLargestPropertyUseType_Non-Refrigerated Warehouse                                   -36.0\n",
       "ThirdLargestPropertyUseType_Bar/Nightclub                                                 -36.3\n",
       "ZipCode_98109.0                                                                           -36.3\n",
       "ZipCode_98125.0                                                                           -36.3\n",
       "ZipCode_98122.0                                                                           -36.9\n",
       "ThirdLargestPropertyUseType_Worship Facility                                              -37.8\n",
       "ZipCode_98199.0                                                                           -37.9\n",
       "LargestPropertyUseType_Other - Lodging/Residential                                        -37.9\n",
       "LargestPropertyUseType_Lifestyle Center                                                   -38.7\n",
       "ThirdLargestPropertyUseType_Fast Food Restaurant                                          -39.2\n",
       "ThirdLargestPropertyUseType_Convenience Store without Gas Station                         -39.7\n",
       "ZipCode_98114.0                                                                           -39.9\n",
       "LargestPropertyUseType_Bank Branch                                                        -40.2\n",
       "ZipCode_98165.0                                                                           -40.7\n",
       "ZipCode_98155.0                                                                           -42.4\n",
       "LargestPropertyUseType_Fitness Center/Health Club/Gym                                     -42.5\n",
       "ThirdLargestPropertyUseType_Self-Storage Facility                                         -45.4\n",
       "PrimaryPropertyType_Hotel                                                                 -49.5\n",
       "ZipCode_98053.0                                                                           -50.0\n",
       "LargestPropertyUseType_Adult Education                                                    -50.3\n",
       "ZipCode_98181.0                                                                           -50.6\n",
       "PrimaryPropertyType_Self-Storage Facility                                                 -51.2\n",
       "LargestPropertyUseType_Other - Utility                                                    -52.2\n",
       "LargestPropertyUseType_Automobile Dealership                                              -54.2\n",
       "ThirdLargestPropertyUseType_Hotel                                                         -54.9\n",
       "LargestPropertyUseType_Retail Store                                                       -57.9\n",
       "LargestPropertyUseType_Multifamily Housing                                                -59.6\n",
       "SecondLargestPropertyUseType_Residence Hall/Dormitory                                     -60.7\n",
       "LargestPropertyUseType_Distribution Center                                                -63.0\n",
       "LargestPropertyUseType_Other - Education                                                  -63.5\n",
       "ZipCode_98146.0                                                                           -65.7\n",
       "ThirdLargestPropertyUseType_Pre-school/Daycare                                            -65.9\n",
       "LargestPropertyUseType_Performing Arts                                                    -72.2\n",
       "LargestPropertyUseType_Non-Refrigerated Warehouse                                         -75.4\n",
       "Neighborhood_DELRIDGE NEIGHBORHOODS                                                       -77.8\n",
       "SecondLargestPropertyUseType_Automobile Dealership                                        -81.4\n",
       "ZipCode_98070.0                                                                           -87.2\n",
       "ThirdLargestPropertyUseType_Distribution Center                                           -87.3\n",
       "PrimaryPropertyType_Restaurant                                                            -93.0\n",
       "PrimaryPropertyType_Residence Hall                                                       -103.4\n",
       "ThirdLargestPropertyUseType_Supermarket/Grocery Store                                    -152.8\n",
       "LargestPropertyUseType_Wholesale Club/Supercenter                                        -159.8\n",
       "SecondLargestPropertyUseType_Personal Services (Health/Beauty, Dry Cleaning, etc)        -162.7"
      ]
     },
     "metadata": {},
     "output_type": "display_data"
    }
   ],
   "source": [
    "# inspiré de https://scikit-learn.org/stable/auto_examples/inspection/plot_linear_model_coefficient_interpretation.html#interpreting-coefficients-scale-matters\n",
    "df_coefs = pd.DataFrame(coefs.T, columns=['Coefficients'], index=noms_des_coefs)\n",
    "with pd.option_context('display.max_rows', 300, 'display.max_colwidth', None, 'display.max_columns', 100, 'display.precision', 1) :\n",
    "    display(df_coefs.sort_values(by='Coefficients', ascending=False))"
   ]
  },
  {
   "cell_type": "code",
   "execution_count": 54,
   "metadata": {
    "ExecuteTime": {
     "end_time": "2021-06-19T07:56:39.579799Z",
     "start_time": "2021-06-19T07:56:39.572799Z"
    }
   },
   "outputs": [
    {
     "data": {
      "text/html": [
       "<div>\n",
       "<style scoped>\n",
       "    .dataframe tbody tr th:only-of-type {\n",
       "        vertical-align: middle;\n",
       "    }\n",
       "\n",
       "    .dataframe tbody tr th {\n",
       "        vertical-align: top;\n",
       "    }\n",
       "\n",
       "    .dataframe thead th {\n",
       "        text-align: right;\n",
       "    }\n",
       "</style>\n",
       "<table border=\"1\" class=\"dataframe\">\n",
       "  <thead>\n",
       "    <tr style=\"text-align: right;\">\n",
       "      <th></th>\n",
       "      <th>Coefficients</th>\n",
       "    </tr>\n",
       "  </thead>\n",
       "  <tbody>\n",
       "    <tr>\n",
       "      <th>Latitude</th>\n",
       "      <td>5.504705</td>\n",
       "    </tr>\n",
       "    <tr>\n",
       "      <th>Longitude</th>\n",
       "      <td>6.462588</td>\n",
       "    </tr>\n",
       "    <tr>\n",
       "      <th>YearBuilt</th>\n",
       "      <td>-1.182663</td>\n",
       "    </tr>\n",
       "    <tr>\n",
       "      <th>NumberofBuildings</th>\n",
       "      <td>-1.682082</td>\n",
       "    </tr>\n",
       "    <tr>\n",
       "      <th>NumberofFloors</th>\n",
       "      <td>-0.685633</td>\n",
       "    </tr>\n",
       "    <tr>\n",
       "      <th>Surface_au_sol(sf)</th>\n",
       "      <td>1.256171</td>\n",
       "    </tr>\n",
       "  </tbody>\n",
       "</table>\n",
       "</div>"
      ],
      "text/plain": [
       "                    Coefficients\n",
       "Latitude                5.504705\n",
       "Longitude               6.462588\n",
       "YearBuilt              -1.182663\n",
       "NumberofBuildings      -1.682082\n",
       "NumberofFloors         -0.685633\n",
       "Surface_au_sol(sf)      1.256171"
      ]
     },
     "execution_count": 54,
     "metadata": {},
     "output_type": "execute_result"
    }
   ],
   "source": [
    "df_coefs.loc[liste_variables_quantitatives]"
   ]
  },
  {
   "cell_type": "markdown",
   "metadata": {},
   "source": [
    "### Cross validation"
   ]
  },
  {
   "cell_type": "code",
   "execution_count": 55,
   "metadata": {
    "ExecuteTime": {
     "end_time": "2021-06-19T07:56:39.584799Z",
     "start_time": "2021-06-19T07:56:39.580799Z"
    }
   },
   "outputs": [],
   "source": [
    "def display_scores(scores):\n",
    "    print(\"Scores:\", scores)\n",
    "    print(\"Mean:\", scores.mean())\n",
    "    print(\"Standard deviation:\", scores.std())"
   ]
  },
  {
   "cell_type": "code",
   "execution_count": 56,
   "metadata": {
    "ExecuteTime": {
     "end_time": "2021-06-19T07:56:40.059827Z",
     "start_time": "2021-06-19T07:56:39.585800Z"
    }
   },
   "outputs": [
    {
     "name": "stdout",
     "output_type": "stream",
     "text": [
      "Scores: [52.62286817 60.75858195 57.3318761  72.17653255 46.97996595 94.15059091 53.84549718 60.49324153 53.31428876 54.28321432]\n",
      "Mean: 60.595665742053896\n",
      "Standard deviation: 12.876808165324956\n"
     ]
    }
   ],
   "source": [
    "lin_scores = cross_val_score(lin_reg, X_train_EUI_prepared, y_train_EUI,\n",
    "                             scoring=\"neg_root_mean_squared_error\", cv=10)\n",
    "display_scores(-lin_scores)"
   ]
  },
  {
   "cell_type": "code",
   "execution_count": 57,
   "metadata": {
    "ExecuteTime": {
     "end_time": "2021-06-19T07:56:40.521853Z",
     "start_time": "2021-06-19T07:56:40.060827Z"
    }
   },
   "outputs": [
    {
     "name": "stdout",
     "output_type": "stream",
     "text": [
      "Scores: [21.40836219 28.90093059 21.2238699  24.83934074 23.37216731 20.54193669 21.47506928 18.07005765 24.40574351 22.14051985]\n",
      "Mean: 22.637799771541573\n",
      "Standard deviation: 2.7947337111389623\n"
     ]
    }
   ],
   "source": [
    "lin_scores = cross_val_score(lin_reg, X_train_EUI_prepared, y_train_EUI,\n",
    "                             scoring=\"neg_median_absolute_error\", cv=10)\n",
    "display_scores(-lin_scores)"
   ]
  },
  {
   "cell_type": "markdown",
   "metadata": {},
   "source": [
    "C'est pas terrible. On passe de RMSE=44 (validation sur le jeu d'entraînement) à 60 (validation croisée) en moyenne."
   ]
  },
  {
   "cell_type": "markdown",
   "metadata": {},
   "source": [
    "## Régression linéaire avec transformation de y_train"
   ]
  },
  {
   "cell_type": "markdown",
   "metadata": {},
   "source": [
    "### Transformation = QuantileTransformer"
   ]
  },
  {
   "cell_type": "code",
   "execution_count": 58,
   "metadata": {
    "ExecuteTime": {
     "end_time": "2021-06-19T07:56:40.580856Z",
     "start_time": "2021-06-19T07:56:40.522853Z"
    },
    "scrolled": true
   },
   "outputs": [
    {
     "data": {
      "text/html": [
       "<style>div.sk-top-container {color: black;background-color: white;}div.sk-toggleable {background-color: white;}label.sk-toggleable__label {cursor: pointer;display: block;width: 100%;margin-bottom: 0;padding: 0.2em 0.3em;box-sizing: border-box;text-align: center;}div.sk-toggleable__content {max-height: 0;max-width: 0;overflow: hidden;text-align: left;background-color: #f0f8ff;}div.sk-toggleable__content pre {margin: 0.2em;color: black;border-radius: 0.25em;background-color: #f0f8ff;}input.sk-toggleable__control:checked~div.sk-toggleable__content {max-height: 200px;max-width: 100%;overflow: auto;}div.sk-estimator input.sk-toggleable__control:checked~label.sk-toggleable__label {background-color: #d4ebff;}div.sk-label input.sk-toggleable__control:checked~label.sk-toggleable__label {background-color: #d4ebff;}input.sk-hidden--visually {border: 0;clip: rect(1px 1px 1px 1px);clip: rect(1px, 1px, 1px, 1px);height: 1px;margin: -1px;overflow: hidden;padding: 0;position: absolute;width: 1px;}div.sk-estimator {font-family: monospace;background-color: #f0f8ff;margin: 0.25em 0.25em;border: 1px dotted black;border-radius: 0.25em;box-sizing: border-box;}div.sk-estimator:hover {background-color: #d4ebff;}div.sk-parallel-item::after {content: \"\";width: 100%;border-bottom: 1px solid gray;flex-grow: 1;}div.sk-label:hover label.sk-toggleable__label {background-color: #d4ebff;}div.sk-serial::before {content: \"\";position: absolute;border-left: 1px solid gray;box-sizing: border-box;top: 2em;bottom: 0;left: 50%;}div.sk-serial {display: flex;flex-direction: column;align-items: center;background-color: white;}div.sk-item {z-index: 1;}div.sk-parallel {display: flex;align-items: stretch;justify-content: center;background-color: white;}div.sk-parallel-item {display: flex;flex-direction: column;position: relative;background-color: white;}div.sk-parallel-item:first-child::after {align-self: flex-end;width: 50%;}div.sk-parallel-item:last-child::after {align-self: flex-start;width: 50%;}div.sk-parallel-item:only-child::after {width: 0;}div.sk-dashed-wrapped {border: 1px dashed gray;margin: 0.2em;box-sizing: border-box;padding-bottom: 0.1em;background-color: white;position: relative;}div.sk-label label {font-family: monospace;font-weight: bold;background-color: white;display: inline-block;line-height: 1.2em;}div.sk-label-container {position: relative;z-index: 2;text-align: center;}div.sk-container {display: inline-block;position: relative;}</style><div class=\"sk-top-container\"><div class=\"sk-container\"><div class=\"sk-item sk-dashed-wrapped\"><div class=\"sk-label-container\"><div class=\"sk-label sk-toggleable\"><input class=\"sk-toggleable__control sk-hidden--visually\" id=\"7eaee7a9-23c4-4d89-8b70-95dae73b6b35\" type=\"checkbox\" ><label class=\"sk-toggleable__label\" for=\"7eaee7a9-23c4-4d89-8b70-95dae73b6b35\">TransformedTargetRegressor</label><div class=\"sk-toggleable__content\"><pre>TransformedTargetRegressor(regressor=LinearRegression(),\n",
       "                           transformer=QuantileTransformer(output_distribution='normal'))</pre></div></div></div><div class=\"sk-parallel\"><div class=\"sk-parallel-item\"><div class=\"sk-item\"><div class=\"sk-serial\"><div class=\"sk-item\"><div class=\"sk-estimator sk-toggleable\"><input class=\"sk-toggleable__control sk-hidden--visually\" id=\"48716407-0b75-49ee-b01e-a4141dbedcaf\" type=\"checkbox\" ><label class=\"sk-toggleable__label\" for=\"48716407-0b75-49ee-b01e-a4141dbedcaf\">LinearRegression</label><div class=\"sk-toggleable__content\"><pre>LinearRegression()</pre></div></div></div></div></div></div><div class=\"sk-parallel-item\"><div class=\"sk-item\"><div class=\"sk-serial\"><div class=\"sk-item\"><div class=\"sk-estimator sk-toggleable\"><input class=\"sk-toggleable__control sk-hidden--visually\" id=\"f4ad03f8-f962-468b-9feb-735d937ad9b0\" type=\"checkbox\" ><label class=\"sk-toggleable__label\" for=\"f4ad03f8-f962-468b-9feb-735d937ad9b0\">QuantileTransformer</label><div class=\"sk-toggleable__content\"><pre>QuantileTransformer(output_distribution='normal')</pre></div></div></div></div></div></div></div></div></div></div>"
      ],
      "text/plain": [
       "TransformedTargetRegressor(regressor=LinearRegression(),\n",
       "                           transformer=QuantileTransformer(output_distribution='normal'))"
      ]
     },
     "execution_count": 58,
     "metadata": {},
     "output_type": "execute_result"
    }
   ],
   "source": [
    "transformer = QuantileTransformer(output_distribution='normal')\n",
    "regressor = LinearRegression()\n",
    "regr_ttr = TransformedTargetRegressor(regressor=regressor, transformer=transformer)\n",
    "\n",
    "# Entrainement\n",
    "regr_ttr.fit(X_train_EUI_prepared, y_train_EUI)"
   ]
  },
  {
   "cell_type": "code",
   "execution_count": 59,
   "metadata": {
    "ExecuteTime": {
     "end_time": "2021-06-19T07:56:40.591857Z",
     "start_time": "2021-06-19T07:56:40.581857Z"
    },
    "scrolled": true
   },
   "outputs": [
    {
     "data": {
      "text/html": [
       "<div>\n",
       "<style scoped>\n",
       "    .dataframe tbody tr th:only-of-type {\n",
       "        vertical-align: middle;\n",
       "    }\n",
       "\n",
       "    .dataframe tbody tr th {\n",
       "        vertical-align: top;\n",
       "    }\n",
       "\n",
       "    .dataframe thead th {\n",
       "        text-align: right;\n",
       "    }\n",
       "</style>\n",
       "<table border=\"1\" class=\"dataframe\">\n",
       "  <thead>\n",
       "    <tr style=\"text-align: right;\">\n",
       "      <th></th>\n",
       "      <th>SiteEUI(kBtu/sf)</th>\n",
       "      <th>Prédictions</th>\n",
       "      <th>Prédictions_ttr</th>\n",
       "    </tr>\n",
       "  </thead>\n",
       "  <tbody>\n",
       "    <tr>\n",
       "      <th>3162</th>\n",
       "      <td>42.799999</td>\n",
       "      <td>59.230377</td>\n",
       "      <td>53.377343</td>\n",
       "    </tr>\n",
       "    <tr>\n",
       "      <th>953</th>\n",
       "      <td>37.599998</td>\n",
       "      <td>28.567644</td>\n",
       "      <td>32.000000</td>\n",
       "    </tr>\n",
       "    <tr>\n",
       "      <th>2637</th>\n",
       "      <td>55.400002</td>\n",
       "      <td>74.624596</td>\n",
       "      <td>73.542116</td>\n",
       "    </tr>\n",
       "    <tr>\n",
       "      <th>29</th>\n",
       "      <td>92.900002</td>\n",
       "      <td>75.240507</td>\n",
       "      <td>70.252179</td>\n",
       "    </tr>\n",
       "    <tr>\n",
       "      <th>1126</th>\n",
       "      <td>36.799999</td>\n",
       "      <td>27.209902</td>\n",
       "      <td>37.327752</td>\n",
       "    </tr>\n",
       "    <tr>\n",
       "      <th>773</th>\n",
       "      <td>45.500000</td>\n",
       "      <td>78.520747</td>\n",
       "      <td>56.000000</td>\n",
       "    </tr>\n",
       "    <tr>\n",
       "      <th>305</th>\n",
       "      <td>89.300003</td>\n",
       "      <td>193.994349</td>\n",
       "      <td>172.881348</td>\n",
       "    </tr>\n",
       "    <tr>\n",
       "      <th>2928</th>\n",
       "      <td>35.000000</td>\n",
       "      <td>75.721566</td>\n",
       "      <td>46.405772</td>\n",
       "    </tr>\n",
       "    <tr>\n",
       "      <th>579</th>\n",
       "      <td>104.099998</td>\n",
       "      <td>92.325513</td>\n",
       "      <td>85.926674</td>\n",
       "    </tr>\n",
       "    <tr>\n",
       "      <th>713</th>\n",
       "      <td>40.200001</td>\n",
       "      <td>21.662289</td>\n",
       "      <td>32.428055</td>\n",
       "    </tr>\n",
       "    <tr>\n",
       "      <th>225</th>\n",
       "      <td>34.900002</td>\n",
       "      <td>14.967497</td>\n",
       "      <td>41.500000</td>\n",
       "    </tr>\n",
       "    <tr>\n",
       "      <th>1227</th>\n",
       "      <td>74.400002</td>\n",
       "      <td>32.053908</td>\n",
       "      <td>33.285640</td>\n",
       "    </tr>\n",
       "    <tr>\n",
       "      <th>424</th>\n",
       "      <td>17.100000</td>\n",
       "      <td>56.882715</td>\n",
       "      <td>37.434077</td>\n",
       "    </tr>\n",
       "    <tr>\n",
       "      <th>602</th>\n",
       "      <td>36.500000</td>\n",
       "      <td>87.073824</td>\n",
       "      <td>70.026725</td>\n",
       "    </tr>\n",
       "    <tr>\n",
       "      <th>1497</th>\n",
       "      <td>5.800000</td>\n",
       "      <td>26.093026</td>\n",
       "      <td>21.000000</td>\n",
       "    </tr>\n",
       "    <tr>\n",
       "      <th>693</th>\n",
       "      <td>66.599998</td>\n",
       "      <td>46.968043</td>\n",
       "      <td>40.900002</td>\n",
       "    </tr>\n",
       "    <tr>\n",
       "      <th>2</th>\n",
       "      <td>96.000000</td>\n",
       "      <td>76.699753</td>\n",
       "      <td>69.714694</td>\n",
       "    </tr>\n",
       "    <tr>\n",
       "      <th>1132</th>\n",
       "      <td>10.400000</td>\n",
       "      <td>25.149268</td>\n",
       "      <td>24.700001</td>\n",
       "    </tr>\n",
       "    <tr>\n",
       "      <th>1563</th>\n",
       "      <td>327.799988</td>\n",
       "      <td>248.085674</td>\n",
       "      <td>208.838618</td>\n",
       "    </tr>\n",
       "    <tr>\n",
       "      <th>377</th>\n",
       "      <td>56.599998</td>\n",
       "      <td>46.018627</td>\n",
       "      <td>48.118543</td>\n",
       "    </tr>\n",
       "  </tbody>\n",
       "</table>\n",
       "</div>"
      ],
      "text/plain": [
       "      SiteEUI(kBtu/sf)  Prédictions  Prédictions_ttr\n",
       "3162         42.799999    59.230377        53.377343\n",
       "953          37.599998    28.567644        32.000000\n",
       "2637         55.400002    74.624596        73.542116\n",
       "29           92.900002    75.240507        70.252179\n",
       "1126         36.799999    27.209902        37.327752\n",
       "773          45.500000    78.520747        56.000000\n",
       "305          89.300003   193.994349       172.881348\n",
       "2928         35.000000    75.721566        46.405772\n",
       "579         104.099998    92.325513        85.926674\n",
       "713          40.200001    21.662289        32.428055\n",
       "225          34.900002    14.967497        41.500000\n",
       "1227         74.400002    32.053908        33.285640\n",
       "424          17.100000    56.882715        37.434077\n",
       "602          36.500000    87.073824        70.026725\n",
       "1497          5.800000    26.093026        21.000000\n",
       "693          66.599998    46.968043        40.900002\n",
       "2            96.000000    76.699753        69.714694\n",
       "1132         10.400000    25.149268        24.700001\n",
       "1563        327.799988   248.085674       208.838618\n",
       "377          56.599998    46.018627        48.118543"
      ]
     },
     "execution_count": 59,
     "metadata": {},
     "output_type": "execute_result"
    }
   ],
   "source": [
    "# Test de quelques valeurs prédites\n",
    "some_data_predicted_ttr = regr_ttr.predict(some_data_prepared)\n",
    "\n",
    "some_labels['Prédictions_ttr'] = some_data_predicted_ttr\n",
    "some_labels.head(20)"
   ]
  },
  {
   "cell_type": "markdown",
   "metadata": {},
   "source": [
    "##### RMSE :"
   ]
  },
  {
   "cell_type": "code",
   "execution_count": 60,
   "metadata": {
    "ExecuteTime": {
     "end_time": "2021-06-19T07:56:40.599858Z",
     "start_time": "2021-06-19T07:56:40.592857Z"
    }
   },
   "outputs": [
    {
     "data": {
      "text/plain": [
       "46.28090815019097"
      ]
     },
     "execution_count": 60,
     "metadata": {},
     "output_type": "execute_result"
    }
   ],
   "source": [
    "EUI_predictions = regr_ttr.predict(X_train_EUI_prepared)\n",
    "lin_mse = mean_squared_error(y_train_EUI, EUI_predictions)\n",
    "lin_rmse = np.sqrt(lin_mse)\n",
    "lin_rmse"
   ]
  },
  {
   "cell_type": "markdown",
   "metadata": {},
   "source": [
    "##### R²"
   ]
  },
  {
   "cell_type": "code",
   "execution_count": 61,
   "metadata": {
    "ExecuteTime": {
     "end_time": "2021-06-19T07:56:40.606858Z",
     "start_time": "2021-06-19T07:56:40.600858Z"
    }
   },
   "outputs": [
    {
     "data": {
      "text/plain": [
       "0.5812790800110295"
      ]
     },
     "execution_count": 61,
     "metadata": {},
     "output_type": "execute_result"
    }
   ],
   "source": [
    "#R² par la méthode score() du transformateur\n",
    "regr_ttr.score(X_train_EUI_prepared, y_train_EUI)"
   ]
  },
  {
   "cell_type": "code",
   "execution_count": 62,
   "metadata": {
    "ExecuteTime": {
     "end_time": "2021-06-19T07:56:40.612858Z",
     "start_time": "2021-06-19T07:56:40.607858Z"
    }
   },
   "outputs": [
    {
     "data": {
      "text/plain": [
       "0.5812790800110295"
      ]
     },
     "execution_count": 62,
     "metadata": {},
     "output_type": "execute_result"
    }
   ],
   "source": [
    "#R² par la fonction r2_score de metrics\n",
    "r2_score(y_train_EUI, EUI_predictions)"
   ]
  },
  {
   "cell_type": "markdown",
   "metadata": {},
   "source": [
    "##### Scatter plot :"
   ]
  },
  {
   "cell_type": "code",
   "execution_count": 63,
   "metadata": {
    "ExecuteTime": {
     "end_time": "2021-06-19T07:56:40.996880Z",
     "start_time": "2021-06-19T07:56:40.616859Z"
    },
    "scrolled": false
   },
   "outputs": [
    {
     "data": {
      "image/png": "[encoded data removed]",
      "text/plain": [
       "<Figure size 576x396 with 1 Axes>"
      ]
     },
     "metadata": {},
     "output_type": "display_data"
    },
    {
     "data": {
      "image/png": "[encoded data removed]",
      "text/plain": [
       "<Figure size 576x396 with 1 Axes>"
      ]
     },
     "metadata": {},
     "output_type": "display_data"
    }
   ],
   "source": [
    "ser_predictions = pd.Series(np.squeeze(EUI_predictions), name='Prédictions_ttr')\n",
    "scatter_plot(ser_x=y_train_EUI.reset_index().iloc[:,1], ser_y=ser_predictions, alpha=1, ligne_diagonale=True)\n",
    "scatter_plot(ser_x=y_train_EUI.reset_index().iloc[:,1], ser_y=ser_predictions, alpha=1, max_x=300, max_y=300, ligne_diagonale=True)"
   ]
  },
  {
   "cell_type": "markdown",
   "metadata": {},
   "source": [
    "Il n'y a pas eu d'amélioration par l'ajout d'une transformation de y_train."
   ]
  },
  {
   "cell_type": "markdown",
   "metadata": {},
   "source": [
    "### Transformation = fonction log"
   ]
  },
  {
   "cell_type": "code",
   "execution_count": 64,
   "metadata": {
    "ExecuteTime": {
     "end_time": "2021-06-19T07:56:41.055884Z",
     "start_time": "2021-06-19T07:56:40.998880Z"
    },
    "scrolled": true
   },
   "outputs": [
    {
     "data": {
      "text/html": [
       "<style>div.sk-top-container {color: black;background-color: white;}div.sk-toggleable {background-color: white;}label.sk-toggleable__label {cursor: pointer;display: block;width: 100%;margin-bottom: 0;padding: 0.2em 0.3em;box-sizing: border-box;text-align: center;}div.sk-toggleable__content {max-height: 0;max-width: 0;overflow: hidden;text-align: left;background-color: #f0f8ff;}div.sk-toggleable__content pre {margin: 0.2em;color: black;border-radius: 0.25em;background-color: #f0f8ff;}input.sk-toggleable__control:checked~div.sk-toggleable__content {max-height: 200px;max-width: 100%;overflow: auto;}div.sk-estimator input.sk-toggleable__control:checked~label.sk-toggleable__label {background-color: #d4ebff;}div.sk-label input.sk-toggleable__control:checked~label.sk-toggleable__label {background-color: #d4ebff;}input.sk-hidden--visually {border: 0;clip: rect(1px 1px 1px 1px);clip: rect(1px, 1px, 1px, 1px);height: 1px;margin: -1px;overflow: hidden;padding: 0;position: absolute;width: 1px;}div.sk-estimator {font-family: monospace;background-color: #f0f8ff;margin: 0.25em 0.25em;border: 1px dotted black;border-radius: 0.25em;box-sizing: border-box;}div.sk-estimator:hover {background-color: #d4ebff;}div.sk-parallel-item::after {content: \"\";width: 100%;border-bottom: 1px solid gray;flex-grow: 1;}div.sk-label:hover label.sk-toggleable__label {background-color: #d4ebff;}div.sk-serial::before {content: \"\";position: absolute;border-left: 1px solid gray;box-sizing: border-box;top: 2em;bottom: 0;left: 50%;}div.sk-serial {display: flex;flex-direction: column;align-items: center;background-color: white;}div.sk-item {z-index: 1;}div.sk-parallel {display: flex;align-items: stretch;justify-content: center;background-color: white;}div.sk-parallel-item {display: flex;flex-direction: column;position: relative;background-color: white;}div.sk-parallel-item:first-child::after {align-self: flex-end;width: 50%;}div.sk-parallel-item:last-child::after {align-self: flex-start;width: 50%;}div.sk-parallel-item:only-child::after {width: 0;}div.sk-dashed-wrapped {border: 1px dashed gray;margin: 0.2em;box-sizing: border-box;padding-bottom: 0.1em;background-color: white;position: relative;}div.sk-label label {font-family: monospace;font-weight: bold;background-color: white;display: inline-block;line-height: 1.2em;}div.sk-label-container {position: relative;z-index: 2;text-align: center;}div.sk-container {display: inline-block;position: relative;}</style><div class=\"sk-top-container\"><div class=\"sk-container\"><div class=\"sk-item sk-dashed-wrapped\"><div class=\"sk-label-container\"><div class=\"sk-label sk-toggleable\"><input class=\"sk-toggleable__control sk-hidden--visually\" id=\"a7bf0370-a4aa-4d22-ad29-6fe84e0beaef\" type=\"checkbox\" ><label class=\"sk-toggleable__label\" for=\"a7bf0370-a4aa-4d22-ad29-6fe84e0beaef\">TransformedTargetRegressor</label><div class=\"sk-toggleable__content\"><pre>TransformedTargetRegressor(func=<ufunc 'log'>, inverse_func=<ufunc 'exp'>,\n",
       "                           regressor=LinearRegression())</pre></div></div></div><div class=\"sk-parallel\"><div class=\"sk-parallel-item\"><div class=\"sk-item\"><div class=\"sk-serial\"><div class=\"sk-item\"><div class=\"sk-estimator sk-toggleable\"><input class=\"sk-toggleable__control sk-hidden--visually\" id=\"49e564f9-32d5-4321-9924-5d55e68b92cf\" type=\"checkbox\" ><label class=\"sk-toggleable__label\" for=\"49e564f9-32d5-4321-9924-5d55e68b92cf\">LinearRegression</label><div class=\"sk-toggleable__content\"><pre>LinearRegression()</pre></div></div></div></div></div></div></div></div></div></div>"
      ],
      "text/plain": [
       "TransformedTargetRegressor(func=<ufunc 'log'>, inverse_func=<ufunc 'exp'>,\n",
       "                           regressor=LinearRegression())"
      ]
     },
     "execution_count": 64,
     "metadata": {},
     "output_type": "execute_result"
    }
   ],
   "source": [
    "regressor = LinearRegression()\n",
    "regr_ttr2 = TransformedTargetRegressor(regressor=regressor, func=np.log, inverse_func=np.exp)\n",
    "\n",
    "# Entrainement\n",
    "regr_ttr2.fit(X_train_EUI_prepared, y_train_EUI)"
   ]
  },
  {
   "cell_type": "code",
   "execution_count": 65,
   "metadata": {
    "ExecuteTime": {
     "end_time": "2021-06-19T07:56:41.066884Z",
     "start_time": "2021-06-19T07:56:41.056884Z"
    },
    "scrolled": true
   },
   "outputs": [
    {
     "data": {
      "text/html": [
       "<div>\n",
       "<style scoped>\n",
       "    .dataframe tbody tr th:only-of-type {\n",
       "        vertical-align: middle;\n",
       "    }\n",
       "\n",
       "    .dataframe tbody tr th {\n",
       "        vertical-align: top;\n",
       "    }\n",
       "\n",
       "    .dataframe thead th {\n",
       "        text-align: right;\n",
       "    }\n",
       "</style>\n",
       "<table border=\"1\" class=\"dataframe\">\n",
       "  <thead>\n",
       "    <tr style=\"text-align: right;\">\n",
       "      <th></th>\n",
       "      <th>SiteEUI(kBtu/sf)</th>\n",
       "      <th>Prédictions</th>\n",
       "      <th>Prédictions_ttr</th>\n",
       "      <th>Prédictions_ttr2</th>\n",
       "    </tr>\n",
       "  </thead>\n",
       "  <tbody>\n",
       "    <tr>\n",
       "      <th>3162</th>\n",
       "      <td>42.799999</td>\n",
       "      <td>59.230377</td>\n",
       "      <td>53.377343</td>\n",
       "      <td>56.714187</td>\n",
       "    </tr>\n",
       "    <tr>\n",
       "      <th>953</th>\n",
       "      <td>37.599998</td>\n",
       "      <td>28.567644</td>\n",
       "      <td>32.000000</td>\n",
       "      <td>31.113047</td>\n",
       "    </tr>\n",
       "    <tr>\n",
       "      <th>2637</th>\n",
       "      <td>55.400002</td>\n",
       "      <td>74.624596</td>\n",
       "      <td>73.542116</td>\n",
       "      <td>78.030090</td>\n",
       "    </tr>\n",
       "    <tr>\n",
       "      <th>29</th>\n",
       "      <td>92.900002</td>\n",
       "      <td>75.240507</td>\n",
       "      <td>70.252179</td>\n",
       "      <td>70.563247</td>\n",
       "    </tr>\n",
       "    <tr>\n",
       "      <th>1126</th>\n",
       "      <td>36.799999</td>\n",
       "      <td>27.209902</td>\n",
       "      <td>37.327752</td>\n",
       "      <td>35.053509</td>\n",
       "    </tr>\n",
       "    <tr>\n",
       "      <th>773</th>\n",
       "      <td>45.500000</td>\n",
       "      <td>78.520747</td>\n",
       "      <td>56.000000</td>\n",
       "      <td>56.132265</td>\n",
       "    </tr>\n",
       "    <tr>\n",
       "      <th>305</th>\n",
       "      <td>89.300003</td>\n",
       "      <td>193.994349</td>\n",
       "      <td>172.881348</td>\n",
       "      <td>151.302783</td>\n",
       "    </tr>\n",
       "    <tr>\n",
       "      <th>2928</th>\n",
       "      <td>35.000000</td>\n",
       "      <td>75.721566</td>\n",
       "      <td>46.405772</td>\n",
       "      <td>49.095230</td>\n",
       "    </tr>\n",
       "    <tr>\n",
       "      <th>579</th>\n",
       "      <td>104.099998</td>\n",
       "      <td>92.325513</td>\n",
       "      <td>85.926674</td>\n",
       "      <td>87.038591</td>\n",
       "    </tr>\n",
       "    <tr>\n",
       "      <th>713</th>\n",
       "      <td>40.200001</td>\n",
       "      <td>21.662289</td>\n",
       "      <td>32.428055</td>\n",
       "      <td>30.479381</td>\n",
       "    </tr>\n",
       "    <tr>\n",
       "      <th>225</th>\n",
       "      <td>34.900002</td>\n",
       "      <td>14.967497</td>\n",
       "      <td>41.500000</td>\n",
       "      <td>41.684261</td>\n",
       "    </tr>\n",
       "    <tr>\n",
       "      <th>1227</th>\n",
       "      <td>74.400002</td>\n",
       "      <td>32.053908</td>\n",
       "      <td>33.285640</td>\n",
       "      <td>30.572156</td>\n",
       "    </tr>\n",
       "    <tr>\n",
       "      <th>424</th>\n",
       "      <td>17.100000</td>\n",
       "      <td>56.882715</td>\n",
       "      <td>37.434077</td>\n",
       "      <td>33.691054</td>\n",
       "    </tr>\n",
       "    <tr>\n",
       "      <th>602</th>\n",
       "      <td>36.500000</td>\n",
       "      <td>87.073824</td>\n",
       "      <td>70.026725</td>\n",
       "      <td>73.239436</td>\n",
       "    </tr>\n",
       "    <tr>\n",
       "      <th>1497</th>\n",
       "      <td>5.800000</td>\n",
       "      <td>26.093026</td>\n",
       "      <td>21.000000</td>\n",
       "      <td>18.323840</td>\n",
       "    </tr>\n",
       "    <tr>\n",
       "      <th>693</th>\n",
       "      <td>66.599998</td>\n",
       "      <td>46.968043</td>\n",
       "      <td>40.900002</td>\n",
       "      <td>37.261917</td>\n",
       "    </tr>\n",
       "    <tr>\n",
       "      <th>2</th>\n",
       "      <td>96.000000</td>\n",
       "      <td>76.699753</td>\n",
       "      <td>69.714694</td>\n",
       "      <td>69.963768</td>\n",
       "    </tr>\n",
       "    <tr>\n",
       "      <th>1132</th>\n",
       "      <td>10.400000</td>\n",
       "      <td>25.149268</td>\n",
       "      <td>24.700001</td>\n",
       "      <td>21.361702</td>\n",
       "    </tr>\n",
       "    <tr>\n",
       "      <th>1563</th>\n",
       "      <td>327.799988</td>\n",
       "      <td>248.085674</td>\n",
       "      <td>208.838618</td>\n",
       "      <td>195.382767</td>\n",
       "    </tr>\n",
       "    <tr>\n",
       "      <th>377</th>\n",
       "      <td>56.599998</td>\n",
       "      <td>46.018627</td>\n",
       "      <td>48.118543</td>\n",
       "      <td>46.301677</td>\n",
       "    </tr>\n",
       "  </tbody>\n",
       "</table>\n",
       "</div>"
      ],
      "text/plain": [
       "      SiteEUI(kBtu/sf)  Prédictions  Prédictions_ttr  Prédictions_ttr2\n",
       "3162         42.799999    59.230377        53.377343         56.714187\n",
       "953          37.599998    28.567644        32.000000         31.113047\n",
       "2637         55.400002    74.624596        73.542116         78.030090\n",
       "29           92.900002    75.240507        70.252179         70.563247\n",
       "1126         36.799999    27.209902        37.327752         35.053509\n",
       "773          45.500000    78.520747        56.000000         56.132265\n",
       "305          89.300003   193.994349       172.881348        151.302783\n",
       "2928         35.000000    75.721566        46.405772         49.095230\n",
       "579         104.099998    92.325513        85.926674         87.038591\n",
       "713          40.200001    21.662289        32.428055         30.479381\n",
       "225          34.900002    14.967497        41.500000         41.684261\n",
       "1227         74.400002    32.053908        33.285640         30.572156\n",
       "424          17.100000    56.882715        37.434077         33.691054\n",
       "602          36.500000    87.073824        70.026725         73.239436\n",
       "1497          5.800000    26.093026        21.000000         18.323840\n",
       "693          66.599998    46.968043        40.900002         37.261917\n",
       "2            96.000000    76.699753        69.714694         69.963768\n",
       "1132         10.400000    25.149268        24.700001         21.361702\n",
       "1563        327.799988   248.085674       208.838618        195.382767\n",
       "377          56.599998    46.018627        48.118543         46.301677"
      ]
     },
     "execution_count": 65,
     "metadata": {},
     "output_type": "execute_result"
    }
   ],
   "source": [
    "# Test de quelques valeurs prédites\n",
    "some_data_predicted_ttr = regr_ttr2.predict(some_data_prepared)\n",
    "\n",
    "some_labels['Prédictions_ttr2'] = some_data_predicted_ttr\n",
    "some_labels.head(20)"
   ]
  },
  {
   "cell_type": "markdown",
   "metadata": {},
   "source": [
    "##### RMSE :"
   ]
  },
  {
   "cell_type": "code",
   "execution_count": 66,
   "metadata": {
    "ExecuteTime": {
     "end_time": "2021-06-19T07:56:41.074885Z",
     "start_time": "2021-06-19T07:56:41.067884Z"
    }
   },
   "outputs": [
    {
     "data": {
      "text/plain": [
       "45.66865325114479"
      ]
     },
     "execution_count": 66,
     "metadata": {},
     "output_type": "execute_result"
    }
   ],
   "source": [
    "EUI_predictions = regr_ttr2.predict(X_train_EUI_prepared)\n",
    "lin_mse = mean_squared_error(y_train_EUI, EUI_predictions)\n",
    "lin_rmse = np.sqrt(lin_mse)\n",
    "lin_rmse"
   ]
  },
  {
   "cell_type": "markdown",
   "metadata": {},
   "source": [
    "##### R²"
   ]
  },
  {
   "cell_type": "code",
   "execution_count": 67,
   "metadata": {
    "ExecuteTime": {
     "end_time": "2021-06-19T07:56:41.081885Z",
     "start_time": "2021-06-19T07:56:41.075885Z"
    }
   },
   "outputs": [
    {
     "data": {
      "text/plain": [
       "0.5922844043372848"
      ]
     },
     "execution_count": 67,
     "metadata": {},
     "output_type": "execute_result"
    }
   ],
   "source": [
    "#R² par la méthode score() du transformateur\n",
    "regr_ttr2.score(X_train_EUI_prepared, y_train_EUI)"
   ]
  },
  {
   "cell_type": "code",
   "execution_count": 68,
   "metadata": {
    "ExecuteTime": {
     "end_time": "2021-06-19T07:56:41.088886Z",
     "start_time": "2021-06-19T07:56:41.082885Z"
    }
   },
   "outputs": [
    {
     "data": {
      "text/plain": [
       "0.5922844043372848"
      ]
     },
     "execution_count": 68,
     "metadata": {},
     "output_type": "execute_result"
    }
   ],
   "source": [
    "#R² par la fonction r2_score de metrics\n",
    "r2_score(y_train_EUI, EUI_predictions)"
   ]
  },
  {
   "cell_type": "markdown",
   "metadata": {},
   "source": [
    "##### Scatter plot :"
   ]
  },
  {
   "cell_type": "code",
   "execution_count": 69,
   "metadata": {
    "ExecuteTime": {
     "end_time": "2021-06-19T07:56:41.464907Z",
     "start_time": "2021-06-19T07:56:41.089886Z"
    },
    "scrolled": false
   },
   "outputs": [
    {
     "data": {
      "image/png": "[encoded data removed]",
      "text/plain": [
       "<Figure size 576x396 with 1 Axes>"
      ]
     },
     "metadata": {},
     "output_type": "display_data"
    },
    {
     "data": {
      "image/png": "[encoded data removed]",
      "text/plain": [
       "<Figure size 576x396 with 1 Axes>"
      ]
     },
     "metadata": {},
     "output_type": "display_data"
    }
   ],
   "source": [
    "ser_predictions = pd.Series(np.squeeze(EUI_predictions), name='Prédictions_ttr2')\n",
    "scatter_plot(ser_x=y_train_EUI.reset_index().iloc[:,1], ser_y=ser_predictions, alpha=1, ligne_diagonale=True)\n",
    "scatter_plot(ser_x=y_train_EUI.reset_index().iloc[:,1], ser_y=ser_predictions, alpha=1, max_x=300, max_y=300, ligne_diagonale=True)"
   ]
  },
  {
   "cell_type": "markdown",
   "metadata": {},
   "source": [
    "Il n'y a pas eu d'amélioration par l'ajout d'une transformation de y_train."
   ]
  },
  {
   "cell_type": "markdown",
   "metadata": {},
   "source": [
    "# Arbres de décision"
   ]
  },
  {
   "cell_type": "code",
   "execution_count": 70,
   "metadata": {
    "ExecuteTime": {
     "end_time": "2021-06-19T07:56:41.516910Z",
     "start_time": "2021-06-19T07:56:41.465907Z"
    }
   },
   "outputs": [
    {
     "data": {
      "text/html": [
       "<style>div.sk-top-container {color: black;background-color: white;}div.sk-toggleable {background-color: white;}label.sk-toggleable__label {cursor: pointer;display: block;width: 100%;margin-bottom: 0;padding: 0.2em 0.3em;box-sizing: border-box;text-align: center;}div.sk-toggleable__content {max-height: 0;max-width: 0;overflow: hidden;text-align: left;background-color: #f0f8ff;}div.sk-toggleable__content pre {margin: 0.2em;color: black;border-radius: 0.25em;background-color: #f0f8ff;}input.sk-toggleable__control:checked~div.sk-toggleable__content {max-height: 200px;max-width: 100%;overflow: auto;}div.sk-estimator input.sk-toggleable__control:checked~label.sk-toggleable__label {background-color: #d4ebff;}div.sk-label input.sk-toggleable__control:checked~label.sk-toggleable__label {background-color: #d4ebff;}input.sk-hidden--visually {border: 0;clip: rect(1px 1px 1px 1px);clip: rect(1px, 1px, 1px, 1px);height: 1px;margin: -1px;overflow: hidden;padding: 0;position: absolute;width: 1px;}div.sk-estimator {font-family: monospace;background-color: #f0f8ff;margin: 0.25em 0.25em;border: 1px dotted black;border-radius: 0.25em;box-sizing: border-box;}div.sk-estimator:hover {background-color: #d4ebff;}div.sk-parallel-item::after {content: \"\";width: 100%;border-bottom: 1px solid gray;flex-grow: 1;}div.sk-label:hover label.sk-toggleable__label {background-color: #d4ebff;}div.sk-serial::before {content: \"\";position: absolute;border-left: 1px solid gray;box-sizing: border-box;top: 2em;bottom: 0;left: 50%;}div.sk-serial {display: flex;flex-direction: column;align-items: center;background-color: white;}div.sk-item {z-index: 1;}div.sk-parallel {display: flex;align-items: stretch;justify-content: center;background-color: white;}div.sk-parallel-item {display: flex;flex-direction: column;position: relative;background-color: white;}div.sk-parallel-item:first-child::after {align-self: flex-end;width: 50%;}div.sk-parallel-item:last-child::after {align-self: flex-start;width: 50%;}div.sk-parallel-item:only-child::after {width: 0;}div.sk-dashed-wrapped {border: 1px dashed gray;margin: 0.2em;box-sizing: border-box;padding-bottom: 0.1em;background-color: white;position: relative;}div.sk-label label {font-family: monospace;font-weight: bold;background-color: white;display: inline-block;line-height: 1.2em;}div.sk-label-container {position: relative;z-index: 2;text-align: center;}div.sk-container {display: inline-block;position: relative;}</style><div class=\"sk-top-container\"><div class=\"sk-container\"><div class=\"sk-item\"><div class=\"sk-estimator sk-toggleable\"><input class=\"sk-toggleable__control sk-hidden--visually\" id=\"d797e943-c4a0-484b-b874-3177f9a5e36b\" type=\"checkbox\" checked><label class=\"sk-toggleable__label\" for=\"d797e943-c4a0-484b-b874-3177f9a5e36b\">DecisionTreeRegressor</label><div class=\"sk-toggleable__content\"><pre>DecisionTreeRegressor(random_state=0)</pre></div></div></div></div></div>"
      ],
      "text/plain": [
       "DecisionTreeRegressor(random_state=0)"
      ]
     },
     "execution_count": 70,
     "metadata": {},
     "output_type": "execute_result"
    }
   ],
   "source": [
    "tree_reg = DecisionTreeRegressor(random_state=0)\n",
    "tree_reg.fit(X_train_EUI_prepared, y_train_EUI)"
   ]
  },
  {
   "cell_type": "code",
   "execution_count": 71,
   "metadata": {
    "ExecuteTime": {
     "end_time": "2021-06-19T07:56:41.523910Z",
     "start_time": "2021-06-19T07:56:41.517910Z"
    }
   },
   "outputs": [
    {
     "data": {
      "text/plain": [
       "0.0"
      ]
     },
     "execution_count": 71,
     "metadata": {},
     "output_type": "execute_result"
    }
   ],
   "source": [
    "EUI_predictions = tree_reg.predict(X_train_EUI_prepared)\n",
    "tree_mse = mean_squared_error(y_train_EUI, EUI_predictions)\n",
    "tree_rmse = np.sqrt(tree_mse)\n",
    "tree_rmse  "
   ]
  },
  {
   "cell_type": "code",
   "execution_count": 72,
   "metadata": {
    "ExecuteTime": {
     "end_time": "2021-06-19T07:56:41.528911Z",
     "start_time": "2021-06-19T07:56:41.524910Z"
    }
   },
   "outputs": [
    {
     "name": "stdout",
     "output_type": "stream",
     "text": [
      "R² = 1.0\n"
     ]
    }
   ],
   "source": [
    "print(\"R² =\", r2_score(y_train_EUI, EUI_predictions))"
   ]
  },
  {
   "cell_type": "markdown",
   "metadata": {},
   "source": [
    "RMSE = 0 et R² = 1 car car test sur jeu d'entrainement d'un arbre totalement ajusté"
   ]
  },
  {
   "cell_type": "code",
   "execution_count": 73,
   "metadata": {
    "ExecuteTime": {
     "end_time": "2021-06-19T07:56:41.933934Z",
     "start_time": "2021-06-19T07:56:41.529911Z"
    }
   },
   "outputs": [],
   "source": [
    "scores = cross_val_score(tree_reg, X_train_EUI_prepared, y_train_EUI, \n",
    "                         scoring=\"neg_root_mean_squared_error\", cv=10)"
   ]
  },
  {
   "cell_type": "code",
   "execution_count": 74,
   "metadata": {
    "ExecuteTime": {
     "end_time": "2021-06-19T07:56:41.938934Z",
     "start_time": "2021-06-19T07:56:41.934934Z"
    },
    "scrolled": true
   },
   "outputs": [
    {
     "name": "stdout",
     "output_type": "stream",
     "text": [
      "Scores: [ 64.11670423  84.39107383  69.20897896  84.67409897  51.95283699 106.86545881  77.48951836  76.60078531  51.853283    65.95979965]\n",
      "Mean: 73.31125381101012\n",
      "Standard deviation: 15.741915405876721\n"
     ]
    }
   ],
   "source": [
    "display_scores(-scores)"
   ]
  },
  {
   "cell_type": "markdown",
   "metadata": {},
   "source": [
    "La RMSE en validation croisée passe de 60 (rég linéaire) à 74 (arbres de décision)."
   ]
  },
  {
   "cell_type": "markdown",
   "metadata": {},
   "source": [
    "# Forêts aléatoires"
   ]
  },
  {
   "cell_type": "code",
   "execution_count": 75,
   "metadata": {
    "ExecuteTime": {
     "end_time": "2021-06-19T07:56:42.200949Z",
     "start_time": "2021-06-19T07:56:41.939934Z"
    }
   },
   "outputs": [
    {
     "data": {
      "text/html": [
       "<style>div.sk-top-container {color: black;background-color: white;}div.sk-toggleable {background-color: white;}label.sk-toggleable__label {cursor: pointer;display: block;width: 100%;margin-bottom: 0;padding: 0.2em 0.3em;box-sizing: border-box;text-align: center;}div.sk-toggleable__content {max-height: 0;max-width: 0;overflow: hidden;text-align: left;background-color: #f0f8ff;}div.sk-toggleable__content pre {margin: 0.2em;color: black;border-radius: 0.25em;background-color: #f0f8ff;}input.sk-toggleable__control:checked~div.sk-toggleable__content {max-height: 200px;max-width: 100%;overflow: auto;}div.sk-estimator input.sk-toggleable__control:checked~label.sk-toggleable__label {background-color: #d4ebff;}div.sk-label input.sk-toggleable__control:checked~label.sk-toggleable__label {background-color: #d4ebff;}input.sk-hidden--visually {border: 0;clip: rect(1px 1px 1px 1px);clip: rect(1px, 1px, 1px, 1px);height: 1px;margin: -1px;overflow: hidden;padding: 0;position: absolute;width: 1px;}div.sk-estimator {font-family: monospace;background-color: #f0f8ff;margin: 0.25em 0.25em;border: 1px dotted black;border-radius: 0.25em;box-sizing: border-box;}div.sk-estimator:hover {background-color: #d4ebff;}div.sk-parallel-item::after {content: \"\";width: 100%;border-bottom: 1px solid gray;flex-grow: 1;}div.sk-label:hover label.sk-toggleable__label {background-color: #d4ebff;}div.sk-serial::before {content: \"\";position: absolute;border-left: 1px solid gray;box-sizing: border-box;top: 2em;bottom: 0;left: 50%;}div.sk-serial {display: flex;flex-direction: column;align-items: center;background-color: white;}div.sk-item {z-index: 1;}div.sk-parallel {display: flex;align-items: stretch;justify-content: center;background-color: white;}div.sk-parallel-item {display: flex;flex-direction: column;position: relative;background-color: white;}div.sk-parallel-item:first-child::after {align-self: flex-end;width: 50%;}div.sk-parallel-item:last-child::after {align-self: flex-start;width: 50%;}div.sk-parallel-item:only-child::after {width: 0;}div.sk-dashed-wrapped {border: 1px dashed gray;margin: 0.2em;box-sizing: border-box;padding-bottom: 0.1em;background-color: white;position: relative;}div.sk-label label {font-family: monospace;font-weight: bold;background-color: white;display: inline-block;line-height: 1.2em;}div.sk-label-container {position: relative;z-index: 2;text-align: center;}div.sk-container {display: inline-block;position: relative;}</style><div class=\"sk-top-container\"><div class=\"sk-container\"><div class=\"sk-item\"><div class=\"sk-estimator sk-toggleable\"><input class=\"sk-toggleable__control sk-hidden--visually\" id=\"847ce0b1-d362-4210-973f-17f55f6994ce\" type=\"checkbox\" checked><label class=\"sk-toggleable__label\" for=\"847ce0b1-d362-4210-973f-17f55f6994ce\">RandomForestRegressor</label><div class=\"sk-toggleable__content\"><pre>RandomForestRegressor(max_features=80, n_estimators=20, random_state=0)</pre></div></div></div></div></div>"
      ],
      "text/plain": [
       "RandomForestRegressor(max_features=80, n_estimators=20, random_state=0)"
      ]
     },
     "execution_count": 75,
     "metadata": {},
     "output_type": "execute_result"
    }
   ],
   "source": [
    "forest_reg = RandomForestRegressor(n_estimators=20, max_features=80, random_state=0)\n",
    "forest_reg.fit(X_train_EUI_prepared, y_train_EUI.iloc[:,0])"
   ]
  },
  {
   "cell_type": "code",
   "execution_count": 76,
   "metadata": {
    "ExecuteTime": {
     "end_time": "2021-06-19T07:56:42.214950Z",
     "start_time": "2021-06-19T07:56:42.201949Z"
    }
   },
   "outputs": [
    {
     "data": {
      "text/plain": [
       "22.967151568519512"
      ]
     },
     "execution_count": 76,
     "metadata": {},
     "output_type": "execute_result"
    }
   ],
   "source": [
    "forest_predictions = forest_reg.predict(X_train_EUI_prepared)\n",
    "forest_mse = mean_squared_error(y_train_EUI, forest_predictions)\n",
    "forest_rmse = np.sqrt(forest_mse)\n",
    "forest_rmse     # attention : test sur jeu d'entrainement"
   ]
  },
  {
   "cell_type": "code",
   "execution_count": 77,
   "metadata": {
    "ExecuteTime": {
     "end_time": "2021-06-19T07:56:44.437077Z",
     "start_time": "2021-06-19T07:56:42.215950Z"
    }
   },
   "outputs": [
    {
     "name": "stdout",
     "output_type": "stream",
     "text": [
      "Scores: [44.47442349 55.32639454 51.3524506  67.5114764  43.32567263 92.95330298 53.63921025 60.18207867 45.12558108 54.44586544]\n",
      "Mean: 56.83364560662592\n",
      "Standard deviation: 13.96557703608069\n"
     ]
    }
   ],
   "source": [
    "forest_scores = cross_val_score(forest_reg, X_train_EUI_prepared, y_train_EUI.iloc[:,0],\n",
    "                                scoring=\"neg_root_mean_squared_error\", cv=10)\n",
    "display_scores(-forest_scores)"
   ]
  },
  {
   "cell_type": "markdown",
   "metadata": {},
   "source": [
    "RMSE moyen = 59. C'est un peu mieux que la rég. linéaire (RMSE moyen = 60)."
   ]
  },
  {
   "cell_type": "markdown",
   "metadata": {},
   "source": [
    "## GridSearchCV"
   ]
  },
  {
   "cell_type": "code",
   "execution_count": 78,
   "metadata": {
    "ExecuteTime": {
     "end_time": "2021-06-19T07:57:36.454052Z",
     "start_time": "2021-06-19T07:56:44.438077Z"
    },
    "scrolled": true
   },
   "outputs": [
    {
     "data": {
      "text/html": [
       "<style>div.sk-top-container {color: black;background-color: white;}div.sk-toggleable {background-color: white;}label.sk-toggleable__label {cursor: pointer;display: block;width: 100%;margin-bottom: 0;padding: 0.2em 0.3em;box-sizing: border-box;text-align: center;}div.sk-toggleable__content {max-height: 0;max-width: 0;overflow: hidden;text-align: left;background-color: #f0f8ff;}div.sk-toggleable__content pre {margin: 0.2em;color: black;border-radius: 0.25em;background-color: #f0f8ff;}input.sk-toggleable__control:checked~div.sk-toggleable__content {max-height: 200px;max-width: 100%;overflow: auto;}div.sk-estimator input.sk-toggleable__control:checked~label.sk-toggleable__label {background-color: #d4ebff;}div.sk-label input.sk-toggleable__control:checked~label.sk-toggleable__label {background-color: #d4ebff;}input.sk-hidden--visually {border: 0;clip: rect(1px 1px 1px 1px);clip: rect(1px, 1px, 1px, 1px);height: 1px;margin: -1px;overflow: hidden;padding: 0;position: absolute;width: 1px;}div.sk-estimator {font-family: monospace;background-color: #f0f8ff;margin: 0.25em 0.25em;border: 1px dotted black;border-radius: 0.25em;box-sizing: border-box;}div.sk-estimator:hover {background-color: #d4ebff;}div.sk-parallel-item::after {content: \"\";width: 100%;border-bottom: 1px solid gray;flex-grow: 1;}div.sk-label:hover label.sk-toggleable__label {background-color: #d4ebff;}div.sk-serial::before {content: \"\";position: absolute;border-left: 1px solid gray;box-sizing: border-box;top: 2em;bottom: 0;left: 50%;}div.sk-serial {display: flex;flex-direction: column;align-items: center;background-color: white;}div.sk-item {z-index: 1;}div.sk-parallel {display: flex;align-items: stretch;justify-content: center;background-color: white;}div.sk-parallel-item {display: flex;flex-direction: column;position: relative;background-color: white;}div.sk-parallel-item:first-child::after {align-self: flex-end;width: 50%;}div.sk-parallel-item:last-child::after {align-self: flex-start;width: 50%;}div.sk-parallel-item:only-child::after {width: 0;}div.sk-dashed-wrapped {border: 1px dashed gray;margin: 0.2em;box-sizing: border-box;padding-bottom: 0.1em;background-color: white;position: relative;}div.sk-label label {font-family: monospace;font-weight: bold;background-color: white;display: inline-block;line-height: 1.2em;}div.sk-label-container {position: relative;z-index: 2;text-align: center;}div.sk-container {display: inline-block;position: relative;}</style><div class=\"sk-top-container\"><div class=\"sk-container\"><div class=\"sk-item sk-dashed-wrapped\"><div class=\"sk-label-container\"><div class=\"sk-label sk-toggleable\"><input class=\"sk-toggleable__control sk-hidden--visually\" id=\"c72e5558-ac24-41c8-92fb-cf99223cd1a5\" type=\"checkbox\" ><label class=\"sk-toggleable__label\" for=\"c72e5558-ac24-41c8-92fb-cf99223cd1a5\">GridSearchCV</label><div class=\"sk-toggleable__content\"><pre>GridSearchCV(cv=10,\n",
       "             estimator=RandomForestRegressor(max_features=80, n_estimators=20,\n",
       "                                             random_state=0),\n",
       "             param_grid=[{'max_features': [40, 80, 160],\n",
       "                          'n_estimators': [20, 40, 80], 'random_state': [0]}],\n",
       "             return_train_score=True, scoring='neg_root_mean_squared_error')</pre></div></div></div><div class=\"sk-parallel\"><div class=\"sk-parallel-item\"><div class=\"sk-item\"><div class=\"sk-serial\"><div class=\"sk-item\"><div class=\"sk-estimator sk-toggleable\"><input class=\"sk-toggleable__control sk-hidden--visually\" id=\"4d72b720-d92c-4453-b0fb-c13ff1a88942\" type=\"checkbox\" ><label class=\"sk-toggleable__label\" for=\"4d72b720-d92c-4453-b0fb-c13ff1a88942\">RandomForestRegressor</label><div class=\"sk-toggleable__content\"><pre>RandomForestRegressor(max_features=80, n_estimators=20, random_state=0)</pre></div></div></div></div></div></div></div></div></div></div>"
      ],
      "text/plain": [
       "GridSearchCV(cv=10,\n",
       "             estimator=RandomForestRegressor(max_features=80, n_estimators=20,\n",
       "                                             random_state=0),\n",
       "             param_grid=[{'max_features': [40, 80, 160],\n",
       "                          'n_estimators': [20, 40, 80], 'random_state': [0]}],\n",
       "             return_train_score=True, scoring='neg_root_mean_squared_error')"
      ]
     },
     "execution_count": 78,
     "metadata": {},
     "output_type": "execute_result"
    }
   ],
   "source": [
    "param_grid = [\n",
    "#     {'n_estimators': [10], 'max_features': [10], 'random_state': [0]},\n",
    "    {'n_estimators': [20, 40, 80], 'max_features': [40, 80, 160], 'random_state': [0]},\n",
    "#     {'n_estimators': [5, 20], 'max_features': [20, 40, 80], 'random_state': [0], 'bootstrap': [False]},\n",
    "            ]\n",
    "grid_search = GridSearchCV(forest_reg, param_grid, cv=10,\n",
    "                           scoring='neg_root_mean_squared_error', return_train_score=True)\n",
    "grid_search.fit(X_train_EUI_prepared, y_train_EUI.iloc[:,0])"
   ]
  },
  {
   "cell_type": "code",
   "execution_count": 79,
   "metadata": {
    "ExecuteTime": {
     "end_time": "2021-06-19T07:57:36.458052Z",
     "start_time": "2021-06-19T07:57:36.455052Z"
    }
   },
   "outputs": [
    {
     "data": {
      "text/plain": [
       "{'max_features': 40, 'n_estimators': 80, 'random_state': 0}"
      ]
     },
     "execution_count": 79,
     "metadata": {},
     "output_type": "execute_result"
    }
   ],
   "source": [
    "grid_search.best_params_"
   ]
  },
  {
   "cell_type": "code",
   "execution_count": 80,
   "metadata": {
    "ExecuteTime": {
     "end_time": "2021-06-19T07:57:36.465053Z",
     "start_time": "2021-06-19T07:57:36.459053Z"
    }
   },
   "outputs": [
    {
     "data": {
      "text/html": [
       "<style>div.sk-top-container {color: black;background-color: white;}div.sk-toggleable {background-color: white;}label.sk-toggleable__label {cursor: pointer;display: block;width: 100%;margin-bottom: 0;padding: 0.2em 0.3em;box-sizing: border-box;text-align: center;}div.sk-toggleable__content {max-height: 0;max-width: 0;overflow: hidden;text-align: left;background-color: #f0f8ff;}div.sk-toggleable__content pre {margin: 0.2em;color: black;border-radius: 0.25em;background-color: #f0f8ff;}input.sk-toggleable__control:checked~div.sk-toggleable__content {max-height: 200px;max-width: 100%;overflow: auto;}div.sk-estimator input.sk-toggleable__control:checked~label.sk-toggleable__label {background-color: #d4ebff;}div.sk-label input.sk-toggleable__control:checked~label.sk-toggleable__label {background-color: #d4ebff;}input.sk-hidden--visually {border: 0;clip: rect(1px 1px 1px 1px);clip: rect(1px, 1px, 1px, 1px);height: 1px;margin: -1px;overflow: hidden;padding: 0;position: absolute;width: 1px;}div.sk-estimator {font-family: monospace;background-color: #f0f8ff;margin: 0.25em 0.25em;border: 1px dotted black;border-radius: 0.25em;box-sizing: border-box;}div.sk-estimator:hover {background-color: #d4ebff;}div.sk-parallel-item::after {content: \"\";width: 100%;border-bottom: 1px solid gray;flex-grow: 1;}div.sk-label:hover label.sk-toggleable__label {background-color: #d4ebff;}div.sk-serial::before {content: \"\";position: absolute;border-left: 1px solid gray;box-sizing: border-box;top: 2em;bottom: 0;left: 50%;}div.sk-serial {display: flex;flex-direction: column;align-items: center;background-color: white;}div.sk-item {z-index: 1;}div.sk-parallel {display: flex;align-items: stretch;justify-content: center;background-color: white;}div.sk-parallel-item {display: flex;flex-direction: column;position: relative;background-color: white;}div.sk-parallel-item:first-child::after {align-self: flex-end;width: 50%;}div.sk-parallel-item:last-child::after {align-self: flex-start;width: 50%;}div.sk-parallel-item:only-child::after {width: 0;}div.sk-dashed-wrapped {border: 1px dashed gray;margin: 0.2em;box-sizing: border-box;padding-bottom: 0.1em;background-color: white;position: relative;}div.sk-label label {font-family: monospace;font-weight: bold;background-color: white;display: inline-block;line-height: 1.2em;}div.sk-label-container {position: relative;z-index: 2;text-align: center;}div.sk-container {display: inline-block;position: relative;}</style><div class=\"sk-top-container\"><div class=\"sk-container\"><div class=\"sk-item\"><div class=\"sk-estimator sk-toggleable\"><input class=\"sk-toggleable__control sk-hidden--visually\" id=\"669a555a-23f4-4576-a6cc-747314eed2ff\" type=\"checkbox\" checked><label class=\"sk-toggleable__label\" for=\"669a555a-23f4-4576-a6cc-747314eed2ff\">RandomForestRegressor</label><div class=\"sk-toggleable__content\"><pre>RandomForestRegressor(max_features=40, n_estimators=80, random_state=0)</pre></div></div></div></div></div>"
      ],
      "text/plain": [
       "RandomForestRegressor(max_features=40, n_estimators=80, random_state=0)"
      ]
     },
     "execution_count": 80,
     "metadata": {},
     "output_type": "execute_result"
    }
   ],
   "source": [
    "grid_search.best_estimator_"
   ]
  },
  {
   "cell_type": "code",
   "execution_count": 81,
   "metadata": {
    "ExecuteTime": {
     "end_time": "2021-06-19T07:57:36.471053Z",
     "start_time": "2021-06-19T07:57:36.466053Z"
    }
   },
   "outputs": [
    {
     "name": "stdout",
     "output_type": "stream",
     "text": [
      "RMSE = 56.993831741078544 {'max_features': 40, 'n_estimators': 20, 'random_state': 0}\n",
      "RMSE = 56.20857423777562 {'max_features': 40, 'n_estimators': 40, 'random_state': 0}\n",
      "RMSE = 55.99102129812145 {'max_features': 40, 'n_estimators': 80, 'random_state': 0}\n",
      "RMSE = 56.83364560662592 {'max_features': 80, 'n_estimators': 20, 'random_state': 0}\n",
      "RMSE = 56.30523702851773 {'max_features': 80, 'n_estimators': 40, 'random_state': 0}\n",
      "RMSE = 56.230337474627774 {'max_features': 80, 'n_estimators': 80, 'random_state': 0}\n",
      "RMSE = 57.93796455551093 {'max_features': 160, 'n_estimators': 20, 'random_state': 0}\n",
      "RMSE = 57.60985745417221 {'max_features': 160, 'n_estimators': 40, 'random_state': 0}\n",
      "RMSE = 57.2497091349518 {'max_features': 160, 'n_estimators': 80, 'random_state': 0}\n"
     ]
    }
   ],
   "source": [
    "cvres = grid_search.cv_results_\n",
    "for mean_score, params in zip(cvres[\"mean_test_score\"], cvres[\"params\"]):\n",
    "    print(\"RMSE =\", -mean_score, params)"
   ]
  },
  {
   "cell_type": "code",
   "execution_count": 82,
   "metadata": {
    "ExecuteTime": {
     "end_time": "2021-06-19T07:57:36.504055Z",
     "start_time": "2021-06-19T07:57:36.473053Z"
    },
    "scrolled": true
   },
   "outputs": [
    {
     "data": {
      "text/html": [
       "<div>\n",
       "<style scoped>\n",
       "    .dataframe tbody tr th:only-of-type {\n",
       "        vertical-align: middle;\n",
       "    }\n",
       "\n",
       "    .dataframe tbody tr th {\n",
       "        vertical-align: top;\n",
       "    }\n",
       "\n",
       "    .dataframe thead th {\n",
       "        text-align: right;\n",
       "    }\n",
       "</style>\n",
       "<table border=\"1\" class=\"dataframe\">\n",
       "  <thead>\n",
       "    <tr style=\"text-align: right;\">\n",
       "      <th></th>\n",
       "      <th>mean_fit_time</th>\n",
       "      <th>std_fit_time</th>\n",
       "      <th>mean_score_time</th>\n",
       "      <th>std_score_time</th>\n",
       "      <th>param_max_features</th>\n",
       "      <th>param_n_estimators</th>\n",
       "      <th>param_random_state</th>\n",
       "      <th>params</th>\n",
       "      <th>split0_test_score</th>\n",
       "      <th>split1_test_score</th>\n",
       "      <th>split2_test_score</th>\n",
       "      <th>split3_test_score</th>\n",
       "      <th>split4_test_score</th>\n",
       "      <th>split5_test_score</th>\n",
       "      <th>split6_test_score</th>\n",
       "      <th>split7_test_score</th>\n",
       "      <th>split8_test_score</th>\n",
       "      <th>split9_test_score</th>\n",
       "      <th>mean_test_score</th>\n",
       "      <th>std_test_score</th>\n",
       "      <th>rank_test_score</th>\n",
       "      <th>split0_train_score</th>\n",
       "      <th>split1_train_score</th>\n",
       "      <th>split2_train_score</th>\n",
       "      <th>split3_train_score</th>\n",
       "      <th>split4_train_score</th>\n",
       "      <th>split5_train_score</th>\n",
       "      <th>split6_train_score</th>\n",
       "      <th>split7_train_score</th>\n",
       "      <th>split8_train_score</th>\n",
       "      <th>split9_train_score</th>\n",
       "      <th>mean_train_score</th>\n",
       "      <th>std_train_score</th>\n",
       "    </tr>\n",
       "  </thead>\n",
       "  <tbody>\n",
       "    <tr>\n",
       "      <th>0</th>\n",
       "      <td>0.146208</td>\n",
       "      <td>0.003219</td>\n",
       "      <td>0.0023</td>\n",
       "      <td>4.583856e-04</td>\n",
       "      <td>40</td>\n",
       "      <td>20</td>\n",
       "      <td>0</td>\n",
       "      <td>{'max_features': 40, 'n_estimators': 20, 'random_state': 0}</td>\n",
       "      <td>-48.118491</td>\n",
       "      <td>-51.523587</td>\n",
       "      <td>-46.601248</td>\n",
       "      <td>-69.572939</td>\n",
       "      <td>-44.543003</td>\n",
       "      <td>-93.813895</td>\n",
       "      <td>-50.589578</td>\n",
       "      <td>-61.229250</td>\n",
       "      <td>-47.439334</td>\n",
       "      <td>-56.506991</td>\n",
       "      <td>-56.993832</td>\n",
       "      <td>14.269386</td>\n",
       "      <td>6</td>\n",
       "      <td>-24.308359</td>\n",
       "      <td>-24.576242</td>\n",
       "      <td>-25.241266</td>\n",
       "      <td>-24.185702</td>\n",
       "      <td>-25.758852</td>\n",
       "      <td>-23.069327</td>\n",
       "      <td>-24.572225</td>\n",
       "      <td>-23.686633</td>\n",
       "      <td>-22.586489</td>\n",
       "      <td>-23.141357</td>\n",
       "      <td>-24.112645</td>\n",
       "      <td>0.948478</td>\n",
       "    </tr>\n",
       "    <tr>\n",
       "      <th>1</th>\n",
       "      <td>0.287716</td>\n",
       "      <td>0.003822</td>\n",
       "      <td>0.0036</td>\n",
       "      <td>4.899112e-04</td>\n",
       "      <td>40</td>\n",
       "      <td>40</td>\n",
       "      <td>0</td>\n",
       "      <td>{'max_features': 40, 'n_estimators': 40, 'random_state': 0}</td>\n",
       "      <td>-46.620732</td>\n",
       "      <td>-52.745712</td>\n",
       "      <td>-46.905704</td>\n",
       "      <td>-69.144311</td>\n",
       "      <td>-41.895802</td>\n",
       "      <td>-92.642112</td>\n",
       "      <td>-50.631011</td>\n",
       "      <td>-60.607002</td>\n",
       "      <td>-46.869735</td>\n",
       "      <td>-54.023622</td>\n",
       "      <td>-56.208574</td>\n",
       "      <td>14.256564</td>\n",
       "      <td>2</td>\n",
       "      <td>-22.359829</td>\n",
       "      <td>-22.570839</td>\n",
       "      <td>-22.803337</td>\n",
       "      <td>-21.990241</td>\n",
       "      <td>-23.709917</td>\n",
       "      <td>-21.757685</td>\n",
       "      <td>-23.328792</td>\n",
       "      <td>-22.569730</td>\n",
       "      <td>-22.306510</td>\n",
       "      <td>-22.415666</td>\n",
       "      <td>-22.581255</td>\n",
       "      <td>0.553331</td>\n",
       "    </tr>\n",
       "    <tr>\n",
       "      <th>2</th>\n",
       "      <td>0.576433</td>\n",
       "      <td>0.007392</td>\n",
       "      <td>0.0073</td>\n",
       "      <td>6.403628e-04</td>\n",
       "      <td>40</td>\n",
       "      <td>80</td>\n",
       "      <td>0</td>\n",
       "      <td>{'max_features': 40, 'n_estimators': 80, 'random_state': 0}</td>\n",
       "      <td>-46.944132</td>\n",
       "      <td>-53.757904</td>\n",
       "      <td>-46.440415</td>\n",
       "      <td>-68.861421</td>\n",
       "      <td>-41.265003</td>\n",
       "      <td>-91.921656</td>\n",
       "      <td>-50.266276</td>\n",
       "      <td>-59.834107</td>\n",
       "      <td>-47.051207</td>\n",
       "      <td>-53.568092</td>\n",
       "      <td>-55.991021</td>\n",
       "      <td>14.088624</td>\n",
       "      <td>1</td>\n",
       "      <td>-21.851315</td>\n",
       "      <td>-21.722251</td>\n",
       "      <td>-21.970176</td>\n",
       "      <td>-21.045705</td>\n",
       "      <td>-22.269915</td>\n",
       "      <td>-20.117120</td>\n",
       "      <td>-22.165651</td>\n",
       "      <td>-21.855810</td>\n",
       "      <td>-21.959268</td>\n",
       "      <td>-21.576528</td>\n",
       "      <td>-21.653374</td>\n",
       "      <td>0.604701</td>\n",
       "    </tr>\n",
       "    <tr>\n",
       "      <th>3</th>\n",
       "      <td>0.216212</td>\n",
       "      <td>0.002522</td>\n",
       "      <td>0.0023</td>\n",
       "      <td>4.582972e-04</td>\n",
       "      <td>80</td>\n",
       "      <td>20</td>\n",
       "      <td>0</td>\n",
       "      <td>{'max_features': 80, 'n_estimators': 20, 'random_state': 0}</td>\n",
       "      <td>-44.474423</td>\n",
       "      <td>-55.326395</td>\n",
       "      <td>-51.352451</td>\n",
       "      <td>-67.511476</td>\n",
       "      <td>-43.325673</td>\n",
       "      <td>-92.953303</td>\n",
       "      <td>-53.639210</td>\n",
       "      <td>-60.182079</td>\n",
       "      <td>-45.125581</td>\n",
       "      <td>-54.445865</td>\n",
       "      <td>-56.833646</td>\n",
       "      <td>13.965577</td>\n",
       "      <td>5</td>\n",
       "      <td>-24.059166</td>\n",
       "      <td>-23.884604</td>\n",
       "      <td>-26.013383</td>\n",
       "      <td>-23.416430</td>\n",
       "      <td>-25.743202</td>\n",
       "      <td>-23.309124</td>\n",
       "      <td>-24.421587</td>\n",
       "      <td>-23.350091</td>\n",
       "      <td>-23.058843</td>\n",
       "      <td>-23.718455</td>\n",
       "      <td>-24.097489</td>\n",
       "      <td>0.969395</td>\n",
       "    </tr>\n",
       "    <tr>\n",
       "      <th>4</th>\n",
       "      <td>0.433125</td>\n",
       "      <td>0.002809</td>\n",
       "      <td>0.0039</td>\n",
       "      <td>2.999942e-04</td>\n",
       "      <td>80</td>\n",
       "      <td>40</td>\n",
       "      <td>0</td>\n",
       "      <td>{'max_features': 80, 'n_estimators': 40, 'random_state': 0}</td>\n",
       "      <td>-45.448710</td>\n",
       "      <td>-54.284958</td>\n",
       "      <td>-48.462706</td>\n",
       "      <td>-68.005123</td>\n",
       "      <td>-41.736739</td>\n",
       "      <td>-92.530066</td>\n",
       "      <td>-52.670098</td>\n",
       "      <td>-60.455064</td>\n",
       "      <td>-45.695876</td>\n",
       "      <td>-53.763032</td>\n",
       "      <td>-56.305237</td>\n",
       "      <td>14.121878</td>\n",
       "      <td>4</td>\n",
       "      <td>-22.495925</td>\n",
       "      <td>-22.270466</td>\n",
       "      <td>-23.318876</td>\n",
       "      <td>-22.046557</td>\n",
       "      <td>-23.800377</td>\n",
       "      <td>-21.745736</td>\n",
       "      <td>-23.365197</td>\n",
       "      <td>-22.826858</td>\n",
       "      <td>-23.022138</td>\n",
       "      <td>-23.001315</td>\n",
       "      <td>-22.789344</td>\n",
       "      <td>0.610812</td>\n",
       "    </tr>\n",
       "    <tr>\n",
       "      <th>5</th>\n",
       "      <td>0.864149</td>\n",
       "      <td>0.007190</td>\n",
       "      <td>0.0070</td>\n",
       "      <td>1.283923e-07</td>\n",
       "      <td>80</td>\n",
       "      <td>80</td>\n",
       "      <td>0</td>\n",
       "      <td>{'max_features': 80, 'n_estimators': 80, 'random_state': 0}</td>\n",
       "      <td>-46.326168</td>\n",
       "      <td>-53.688488</td>\n",
       "      <td>-47.342139</td>\n",
       "      <td>-67.197300</td>\n",
       "      <td>-42.059228</td>\n",
       "      <td>-92.455727</td>\n",
       "      <td>-53.721054</td>\n",
       "      <td>-60.730452</td>\n",
       "      <td>-45.747000</td>\n",
       "      <td>-53.035818</td>\n",
       "      <td>-56.230337</td>\n",
       "      <td>14.012780</td>\n",
       "      <td>3</td>\n",
       "      <td>-22.017977</td>\n",
       "      <td>-21.792972</td>\n",
       "      <td>-22.428976</td>\n",
       "      <td>-21.279678</td>\n",
       "      <td>-22.773797</td>\n",
       "      <td>-20.182282</td>\n",
       "      <td>-22.258134</td>\n",
       "      <td>-22.007916</td>\n",
       "      <td>-22.353692</td>\n",
       "      <td>-21.975448</td>\n",
       "      <td>-21.907087</td>\n",
       "      <td>0.689565</td>\n",
       "    </tr>\n",
       "    <tr>\n",
       "      <th>6</th>\n",
       "      <td>0.349620</td>\n",
       "      <td>0.004005</td>\n",
       "      <td>0.0023</td>\n",
       "      <td>4.582452e-04</td>\n",
       "      <td>160</td>\n",
       "      <td>20</td>\n",
       "      <td>0</td>\n",
       "      <td>{'max_features': 160, 'n_estimators': 20, 'random_state': 0}</td>\n",
       "      <td>-45.640184</td>\n",
       "      <td>-56.447616</td>\n",
       "      <td>-51.322130</td>\n",
       "      <td>-69.871566</td>\n",
       "      <td>-44.581440</td>\n",
       "      <td>-92.042751</td>\n",
       "      <td>-55.344596</td>\n",
       "      <td>-62.580830</td>\n",
       "      <td>-47.252413</td>\n",
       "      <td>-54.296118</td>\n",
       "      <td>-57.937965</td>\n",
       "      <td>13.553213</td>\n",
       "      <td>9</td>\n",
       "      <td>-24.609845</td>\n",
       "      <td>-25.108602</td>\n",
       "      <td>-26.001483</td>\n",
       "      <td>-24.011411</td>\n",
       "      <td>-25.952811</td>\n",
       "      <td>-23.010170</td>\n",
       "      <td>-25.043381</td>\n",
       "      <td>-23.974042</td>\n",
       "      <td>-23.763290</td>\n",
       "      <td>-23.748044</td>\n",
       "      <td>-24.522308</td>\n",
       "      <td>0.942390</td>\n",
       "    </tr>\n",
       "    <tr>\n",
       "      <th>7</th>\n",
       "      <td>0.703740</td>\n",
       "      <td>0.006915</td>\n",
       "      <td>0.0040</td>\n",
       "      <td>4.471812e-04</td>\n",
       "      <td>160</td>\n",
       "      <td>40</td>\n",
       "      <td>0</td>\n",
       "      <td>{'max_features': 160, 'n_estimators': 40, 'random_state': 0}</td>\n",
       "      <td>-46.330886</td>\n",
       "      <td>-55.715711</td>\n",
       "      <td>-50.691160</td>\n",
       "      <td>-68.883296</td>\n",
       "      <td>-43.850414</td>\n",
       "      <td>-92.683574</td>\n",
       "      <td>-55.190476</td>\n",
       "      <td>-62.517532</td>\n",
       "      <td>-46.638258</td>\n",
       "      <td>-53.597267</td>\n",
       "      <td>-57.609857</td>\n",
       "      <td>13.753782</td>\n",
       "      <td>8</td>\n",
       "      <td>-22.561024</td>\n",
       "      <td>-22.951013</td>\n",
       "      <td>-23.857694</td>\n",
       "      <td>-22.272301</td>\n",
       "      <td>-24.260243</td>\n",
       "      <td>-21.919814</td>\n",
       "      <td>-23.765126</td>\n",
       "      <td>-23.001448</td>\n",
       "      <td>-23.062160</td>\n",
       "      <td>-23.168937</td>\n",
       "      <td>-23.081976</td>\n",
       "      <td>0.690357</td>\n",
       "    </tr>\n",
       "    <tr>\n",
       "      <th>8</th>\n",
       "      <td>1.414381</td>\n",
       "      <td>0.018906</td>\n",
       "      <td>0.0073</td>\n",
       "      <td>4.582192e-04</td>\n",
       "      <td>160</td>\n",
       "      <td>80</td>\n",
       "      <td>0</td>\n",
       "      <td>{'max_features': 160, 'n_estimators': 80, 'random_state': 0}</td>\n",
       "      <td>-46.707093</td>\n",
       "      <td>-55.136820</td>\n",
       "      <td>-49.705545</td>\n",
       "      <td>-68.546766</td>\n",
       "      <td>-43.037650</td>\n",
       "      <td>-92.010077</td>\n",
       "      <td>-56.460681</td>\n",
       "      <td>-62.073463</td>\n",
       "      <td>-45.499947</td>\n",
       "      <td>-53.319049</td>\n",
       "      <td>-57.249709</td>\n",
       "      <td>13.739770</td>\n",
       "      <td>7</td>\n",
       "      <td>-21.991577</td>\n",
       "      <td>-22.135549</td>\n",
       "      <td>-22.905872</td>\n",
       "      <td>-21.619492</td>\n",
       "      <td>-23.108867</td>\n",
       "      <td>-20.340638</td>\n",
       "      <td>-22.621043</td>\n",
       "      <td>-22.248837</td>\n",
       "      <td>-22.609990</td>\n",
       "      <td>-22.371577</td>\n",
       "      <td>-22.195344</td>\n",
       "      <td>0.744519</td>\n",
       "    </tr>\n",
       "  </tbody>\n",
       "</table>\n",
       "</div>"
      ],
      "text/plain": [
       "   mean_fit_time  std_fit_time  mean_score_time  std_score_time  \\\n",
       "0       0.146208      0.003219           0.0023    4.583856e-04   \n",
       "1       0.287716      0.003822           0.0036    4.899112e-04   \n",
       "2       0.576433      0.007392           0.0073    6.403628e-04   \n",
       "3       0.216212      0.002522           0.0023    4.582972e-04   \n",
       "4       0.433125      0.002809           0.0039    2.999942e-04   \n",
       "5       0.864149      0.007190           0.0070    1.283923e-07   \n",
       "6       0.349620      0.004005           0.0023    4.582452e-04   \n",
       "7       0.703740      0.006915           0.0040    4.471812e-04   \n",
       "8       1.414381      0.018906           0.0073    4.582192e-04   \n",
       "\n",
       "  param_max_features param_n_estimators param_random_state  \\\n",
       "0                 40                 20                  0   \n",
       "1                 40                 40                  0   \n",
       "2                 40                 80                  0   \n",
       "3                 80                 20                  0   \n",
       "4                 80                 40                  0   \n",
       "5                 80                 80                  0   \n",
       "6                160                 20                  0   \n",
       "7                160                 40                  0   \n",
       "8                160                 80                  0   \n",
       "\n",
       "                                                         params  \\\n",
       "0   {'max_features': 40, 'n_estimators': 20, 'random_state': 0}   \n",
       "1   {'max_features': 40, 'n_estimators': 40, 'random_state': 0}   \n",
       "2   {'max_features': 40, 'n_estimators': 80, 'random_state': 0}   \n",
       "3   {'max_features': 80, 'n_estimators': 20, 'random_state': 0}   \n",
       "4   {'max_features': 80, 'n_estimators': 40, 'random_state': 0}   \n",
       "5   {'max_features': 80, 'n_estimators': 80, 'random_state': 0}   \n",
       "6  {'max_features': 160, 'n_estimators': 20, 'random_state': 0}   \n",
       "7  {'max_features': 160, 'n_estimators': 40, 'random_state': 0}   \n",
       "8  {'max_features': 160, 'n_estimators': 80, 'random_state': 0}   \n",
       "\n",
       "   split0_test_score  split1_test_score  split2_test_score  split3_test_score  \\\n",
       "0         -48.118491         -51.523587         -46.601248         -69.572939   \n",
       "1         -46.620732         -52.745712         -46.905704         -69.144311   \n",
       "2         -46.944132         -53.757904         -46.440415         -68.861421   \n",
       "3         -44.474423         -55.326395         -51.352451         -67.511476   \n",
       "4         -45.448710         -54.284958         -48.462706         -68.005123   \n",
       "5         -46.326168         -53.688488         -47.342139         -67.197300   \n",
       "6         -45.640184         -56.447616         -51.322130         -69.871566   \n",
       "7         -46.330886         -55.715711         -50.691160         -68.883296   \n",
       "8         -46.707093         -55.136820         -49.705545         -68.546766   \n",
       "\n",
       "   split4_test_score  split5_test_score  split6_test_score  split7_test_score  \\\n",
       "0         -44.543003         -93.813895         -50.589578         -61.229250   \n",
       "1         -41.895802         -92.642112         -50.631011         -60.607002   \n",
       "2         -41.265003         -91.921656         -50.266276         -59.834107   \n",
       "3         -43.325673         -92.953303         -53.639210         -60.182079   \n",
       "4         -41.736739         -92.530066         -52.670098         -60.455064   \n",
       "5         -42.059228         -92.455727         -53.721054         -60.730452   \n",
       "6         -44.581440         -92.042751         -55.344596         -62.580830   \n",
       "7         -43.850414         -92.683574         -55.190476         -62.517532   \n",
       "8         -43.037650         -92.010077         -56.460681         -62.073463   \n",
       "\n",
       "   split8_test_score  split9_test_score  mean_test_score  std_test_score  \\\n",
       "0         -47.439334         -56.506991       -56.993832       14.269386   \n",
       "1         -46.869735         -54.023622       -56.208574       14.256564   \n",
       "2         -47.051207         -53.568092       -55.991021       14.088624   \n",
       "3         -45.125581         -54.445865       -56.833646       13.965577   \n",
       "4         -45.695876         -53.763032       -56.305237       14.121878   \n",
       "5         -45.747000         -53.035818       -56.230337       14.012780   \n",
       "6         -47.252413         -54.296118       -57.937965       13.553213   \n",
       "7         -46.638258         -53.597267       -57.609857       13.753782   \n",
       "8         -45.499947         -53.319049       -57.249709       13.739770   \n",
       "\n",
       "   rank_test_score  split0_train_score  split1_train_score  \\\n",
       "0                6          -24.308359          -24.576242   \n",
       "1                2          -22.359829          -22.570839   \n",
       "2                1          -21.851315          -21.722251   \n",
       "3                5          -24.059166          -23.884604   \n",
       "4                4          -22.495925          -22.270466   \n",
       "5                3          -22.017977          -21.792972   \n",
       "6                9          -24.609845          -25.108602   \n",
       "7                8          -22.561024          -22.951013   \n",
       "8                7          -21.991577          -22.135549   \n",
       "\n",
       "   split2_train_score  split3_train_score  split4_train_score  \\\n",
       "0          -25.241266          -24.185702          -25.758852   \n",
       "1          -22.803337          -21.990241          -23.709917   \n",
       "2          -21.970176          -21.045705          -22.269915   \n",
       "3          -26.013383          -23.416430          -25.743202   \n",
       "4          -23.318876          -22.046557          -23.800377   \n",
       "5          -22.428976          -21.279678          -22.773797   \n",
       "6          -26.001483          -24.011411          -25.952811   \n",
       "7          -23.857694          -22.272301          -24.260243   \n",
       "8          -22.905872          -21.619492          -23.108867   \n",
       "\n",
       "   split5_train_score  split6_train_score  split7_train_score  \\\n",
       "0          -23.069327          -24.572225          -23.686633   \n",
       "1          -21.757685          -23.328792          -22.569730   \n",
       "2          -20.117120          -22.165651          -21.855810   \n",
       "3          -23.309124          -24.421587          -23.350091   \n",
       "4          -21.745736          -23.365197          -22.826858   \n",
       "5          -20.182282          -22.258134          -22.007916   \n",
       "6          -23.010170          -25.043381          -23.974042   \n",
       "7          -21.919814          -23.765126          -23.001448   \n",
       "8          -20.340638          -22.621043          -22.248837   \n",
       "\n",
       "   split8_train_score  split9_train_score  mean_train_score  std_train_score  \n",
       "0          -22.586489          -23.141357        -24.112645         0.948478  \n",
       "1          -22.306510          -22.415666        -22.581255         0.553331  \n",
       "2          -21.959268          -21.576528        -21.653374         0.604701  \n",
       "3          -23.058843          -23.718455        -24.097489         0.969395  \n",
       "4          -23.022138          -23.001315        -22.789344         0.610812  \n",
       "5          -22.353692          -21.975448        -21.907087         0.689565  \n",
       "6          -23.763290          -23.748044        -24.522308         0.942390  \n",
       "7          -23.062160          -23.168937        -23.081976         0.690357  \n",
       "8          -22.609990          -22.371577        -22.195344         0.744519  "
      ]
     },
     "metadata": {},
     "output_type": "display_data"
    }
   ],
   "source": [
    "with pd.option_context('display.max_rows', 400, 'display.max_colwidth', 1000):\n",
    "    display(pd.DataFrame(grid_search.cv_results_))"
   ]
  },
  {
   "cell_type": "markdown",
   "metadata": {},
   "source": [
    "# SVM Regressor"
   ]
  },
  {
   "cell_type": "code",
   "execution_count": 83,
   "metadata": {
    "ExecuteTime": {
     "end_time": "2021-06-19T07:57:36.628062Z",
     "start_time": "2021-06-19T07:57:36.505055Z"
    }
   },
   "outputs": [
    {
     "data": {
      "text/html": [
       "<style>div.sk-top-container {color: black;background-color: white;}div.sk-toggleable {background-color: white;}label.sk-toggleable__label {cursor: pointer;display: block;width: 100%;margin-bottom: 0;padding: 0.2em 0.3em;box-sizing: border-box;text-align: center;}div.sk-toggleable__content {max-height: 0;max-width: 0;overflow: hidden;text-align: left;background-color: #f0f8ff;}div.sk-toggleable__content pre {margin: 0.2em;color: black;border-radius: 0.25em;background-color: #f0f8ff;}input.sk-toggleable__control:checked~div.sk-toggleable__content {max-height: 200px;max-width: 100%;overflow: auto;}div.sk-estimator input.sk-toggleable__control:checked~label.sk-toggleable__label {background-color: #d4ebff;}div.sk-label input.sk-toggleable__control:checked~label.sk-toggleable__label {background-color: #d4ebff;}input.sk-hidden--visually {border: 0;clip: rect(1px 1px 1px 1px);clip: rect(1px, 1px, 1px, 1px);height: 1px;margin: -1px;overflow: hidden;padding: 0;position: absolute;width: 1px;}div.sk-estimator {font-family: monospace;background-color: #f0f8ff;margin: 0.25em 0.25em;border: 1px dotted black;border-radius: 0.25em;box-sizing: border-box;}div.sk-estimator:hover {background-color: #d4ebff;}div.sk-parallel-item::after {content: \"\";width: 100%;border-bottom: 1px solid gray;flex-grow: 1;}div.sk-label:hover label.sk-toggleable__label {background-color: #d4ebff;}div.sk-serial::before {content: \"\";position: absolute;border-left: 1px solid gray;box-sizing: border-box;top: 2em;bottom: 0;left: 50%;}div.sk-serial {display: flex;flex-direction: column;align-items: center;background-color: white;}div.sk-item {z-index: 1;}div.sk-parallel {display: flex;align-items: stretch;justify-content: center;background-color: white;}div.sk-parallel-item {display: flex;flex-direction: column;position: relative;background-color: white;}div.sk-parallel-item:first-child::after {align-self: flex-end;width: 50%;}div.sk-parallel-item:last-child::after {align-self: flex-start;width: 50%;}div.sk-parallel-item:only-child::after {width: 0;}div.sk-dashed-wrapped {border: 1px dashed gray;margin: 0.2em;box-sizing: border-box;padding-bottom: 0.1em;background-color: white;position: relative;}div.sk-label label {font-family: monospace;font-weight: bold;background-color: white;display: inline-block;line-height: 1.2em;}div.sk-label-container {position: relative;z-index: 2;text-align: center;}div.sk-container {display: inline-block;position: relative;}</style><div class=\"sk-top-container\"><div class=\"sk-container\"><div class=\"sk-item\"><div class=\"sk-estimator sk-toggleable\"><input class=\"sk-toggleable__control sk-hidden--visually\" id=\"e99a8aa1-6591-4661-b396-67dcfa8cd0b5\" type=\"checkbox\" checked><label class=\"sk-toggleable__label\" for=\"e99a8aa1-6591-4661-b396-67dcfa8cd0b5\">SVR</label><div class=\"sk-toggleable__content\"><pre>SVR(kernel='linear')</pre></div></div></div></div></div>"
      ],
      "text/plain": [
       "SVR(kernel='linear')"
      ]
     },
     "execution_count": 83,
     "metadata": {},
     "output_type": "execute_result"
    }
   ],
   "source": [
    "svm_reg = SVR(kernel=\"linear\")\n",
    "svm_reg.fit(X_train_EUI_prepared, y_train_EUI.iloc[:,0])"
   ]
  },
  {
   "cell_type": "code",
   "execution_count": 85,
   "metadata": {
    "ExecuteTime": {
     "end_time": "2021-06-19T08:05:53.462479Z",
     "start_time": "2021-06-19T08:05:53.366474Z"
    }
   },
   "outputs": [
    {
     "name": "stdout",
     "output_type": "stream",
     "text": [
      "RMSE =  64.67004836227653\n"
     ]
    }
   ],
   "source": [
    "SVR_predictions = svm_reg.predict(X_train_EUI_prepared)\n",
    "svm_mse = mean_squared_error(y_train_EUI, SVR_predictions)\n",
    "svm_rmse = np.sqrt(svm_mse)\n",
    "print(\"RMSE = \", svm_rmse)"
   ]
  },
  {
   "cell_type": "markdown",
   "metadata": {},
   "source": [
    "C'est mauvais."
   ]
  }
 ],
 "metadata": {
  "hide_input": false,
  "kernelspec": {
   "display_name": "Python 3",
   "language": "python",
   "name": "python3"
  },
  "language_info": {
   "codemirror_mode": {
    "name": "ipython",
    "version": 3
   },
   "file_extension": ".py",
   "mimetype": "text/x-python",
   "name": "python",
   "nbconvert_exporter": "python",
   "pygments_lexer": "ipython3",
   "version": "3.8.5"
  },
  "toc": {
   "base_numbering": 1,
   "nav_menu": {},
   "number_sections": true,
   "sideBar": true,
   "skip_h1_title": false,
   "title_cell": "Table of Contents",
   "title_sidebar": "Contents",
   "toc_cell": false,
   "toc_position": {
    "height": "calc(100% - 180px)",
    "left": "10px",
    "top": "150px",
    "width": "462.388px"
   },
   "toc_section_display": true,
   "toc_window_display": true
  },
  "varInspector": {
   "cols": {
    "lenName": 16,
    "lenType": 16,
    "lenVar": 40
   },
   "kernels_config": {
    "python": {
     "delete_cmd_postfix": "",
     "delete_cmd_prefix": "del ",
     "library": "var_list.py",
     "varRefreshCmd": "print(var_dic_list())"
    },
    "r": {
     "delete_cmd_postfix": ") ",
     "delete_cmd_prefix": "rm(",
     "library": "var_list.r",
     "varRefreshCmd": "cat(var_dic_list()) "
    }
   },
   "types_to_exclude": [
    "module",
    "function",
    "builtin_function_or_method",
    "instance",
    "_Feature"
   ],
   "window_display": false
  }
 },
 "nbformat": 4,
 "nbformat_minor": 4
}
