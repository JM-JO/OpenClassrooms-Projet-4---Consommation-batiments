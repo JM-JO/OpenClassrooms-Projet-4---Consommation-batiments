{
 "cells": [
  {
   "cell_type": "markdown",
   "metadata": {},
   "source": [
    "Pour une lecture améliorée, ce notebook est idéalement lu avec une extension qui gère les niveaux des titres Markdown.  \n",
    "Par exemple avec l'extension 'Table of Contents' du module 'Nbextensions' de Jupyter."
   ]
  },
  {
   "cell_type": "markdown",
   "metadata": {},
   "source": [
    "# Mise en place du notebook"
   ]
  },
  {
   "cell_type": "markdown",
   "metadata": {},
   "source": [
    "## Import des modules"
   ]
  },
  {
   "cell_type": "code",
   "execution_count": 1,
   "metadata": {
    "ExecuteTime": {
     "end_time": "2021-07-16T15:35:11.644571Z",
     "start_time": "2021-07-16T15:35:10.083283Z"
    }
   },
   "outputs": [],
   "source": [
    "import numpy as np\n",
    "import pandas as pd\n",
    "import matplotlib.pyplot as plt\n",
    "from graphviz import Source\n",
    "from mesfonctions import scatter_plot\n",
    "from mesfonctions import arrondi\n",
    "from mesfonctions import display_scores\n",
    "from mesfonctions import affichage_tri_r2\n",
    "\n",
    "from sklearn import set_config\n",
    "from sklearn.model_selection import train_test_split\n",
    "from sklearn.model_selection import cross_val_score\n",
    "from sklearn.model_selection import GridSearchCV\n",
    "from sklearn.impute import SimpleImputer\n",
    "from sklearn.preprocessing import FunctionTransformer\n",
    "from sklearn.preprocessing import OneHotEncoder\n",
    "from sklearn.preprocessing import QuantileTransformer\n",
    "from sklearn.preprocessing import StandardScaler\n",
    "from sklearn.preprocessing import MinMaxScaler\n",
    "from sklearn.compose import ColumnTransformer\n",
    "from sklearn.pipeline import Pipeline\n",
    "from sklearn.linear_model import LinearRegression\n",
    "from sklearn.linear_model import Ridge\n",
    "from sklearn.linear_model import RidgeCV\n",
    "from sklearn.linear_model import Lasso\n",
    "from sklearn.linear_model import LassoCV\n",
    "from sklearn.metrics import mean_squared_error\n",
    "from sklearn.metrics import mean_absolute_error\n",
    "from sklearn.metrics import r2_score\n",
    "from sklearn.compose import TransformedTargetRegressor\n",
    "from sklearn.tree import DecisionTreeRegressor\n",
    "from sklearn.ensemble import RandomForestRegressor\n",
    "from sklearn.svm import SVR\n",
    "from sklearn.dummy import DummyRegressor\n",
    "from sklearn.tree import export_graphviz"
   ]
  },
  {
   "cell_type": "code",
   "execution_count": 2,
   "metadata": {
    "ExecuteTime": {
     "end_time": "2021-07-16T15:35:11.649571Z",
     "start_time": "2021-07-16T15:35:11.645571Z"
    }
   },
   "outputs": [],
   "source": [
    "# pour développement\n",
    "import mesfonctions\n",
    "from importlib import reload  \n",
    "mesfonctions = reload(mesfonctions)"
   ]
  },
  {
   "cell_type": "markdown",
   "metadata": {
    "ExecuteTime": {
     "end_time": "2021-05-31T09:23:20.946017Z",
     "start_time": "2021-05-31T09:23:20.940016Z"
    }
   },
   "source": [
    "## Gestion des paramètres d'affichage de Jupyter"
   ]
  },
  {
   "cell_type": "code",
   "execution_count": 3,
   "metadata": {
    "ExecuteTime": {
     "end_time": "2021-07-16T15:35:11.656571Z",
     "start_time": "2021-07-16T15:35:11.650571Z"
    }
   },
   "outputs": [
    {
     "data": {
      "text/html": [
       "<style>.container { width:95% }</style>"
      ],
      "text/plain": [
       "<IPython.core.display.HTML object>"
      ]
     },
     "execution_count": 3,
     "metadata": {},
     "output_type": "execute_result"
    }
   ],
   "source": [
    "# pour gérer l'affichage des dataframes pandas\n",
    "pd.options.display.max_rows = 100\n",
    "pd.options.display.max_columns = 200\n",
    "\n",
    "# pour gérer l'affichage des arrays numpy\n",
    "# 230 sur ma config bureau, 160 sur ma config portable\n",
    "np.set_printoptions(linewidth=160)\n",
    "\n",
    "# affichage des objets sklearn\n",
    "set_config(display='diagram')\n",
    "\n",
    "# pour afficher les gros fichiers sur toute la largeur de l'écran\n",
    "from IPython.core.display import HTML\n",
    "HTML(\"<style>.container { width:95% }</style>\")"
   ]
  },
  {
   "cell_type": "markdown",
   "metadata": {},
   "source": [
    "## Chargement du pickle du df nettoyé"
   ]
  },
  {
   "cell_type": "code",
   "execution_count": 4,
   "metadata": {
    "ExecuteTime": {
     "end_time": "2021-07-16T15:35:11.677573Z",
     "start_time": "2021-07-16T15:35:11.657572Z"
    }
   },
   "outputs": [],
   "source": [
    "df_train = pd.read_pickle('df_train_après_nettoyage_Projet_Seattle.pkl')\n",
    "df_test = pd.read_pickle('df_test_après_nettoyage_Projet_Seattle.pkl')"
   ]
  },
  {
   "cell_type": "code",
   "execution_count": 5,
   "metadata": {
    "ExecuteTime": {
     "end_time": "2021-07-16T15:35:11.725575Z",
     "start_time": "2021-07-16T15:35:11.679573Z"
    },
    "scrolled": false
   },
   "outputs": [
    {
     "data": {
      "text/html": [
       "<div>\n",
       "<style scoped>\n",
       "    .dataframe tbody tr th:only-of-type {\n",
       "        vertical-align: middle;\n",
       "    }\n",
       "\n",
       "    .dataframe tbody tr th {\n",
       "        vertical-align: top;\n",
       "    }\n",
       "\n",
       "    .dataframe thead th {\n",
       "        text-align: right;\n",
       "    }\n",
       "</style>\n",
       "<table border=\"1\" class=\"dataframe\">\n",
       "  <thead>\n",
       "    <tr style=\"text-align: right;\">\n",
       "      <th></th>\n",
       "      <th>OSEBuildingID</th>\n",
       "      <th>BuildingType</th>\n",
       "      <th>PrimaryPropertyType</th>\n",
       "      <th>ZipCode</th>\n",
       "      <th>CouncilDistrictCode</th>\n",
       "      <th>Neighborhood</th>\n",
       "      <th>Latitude</th>\n",
       "      <th>Longitude</th>\n",
       "      <th>YearBuilt</th>\n",
       "      <th>NumberofBuildings</th>\n",
       "      <th>NumberofFloors</th>\n",
       "      <th>PropertyGFATotal</th>\n",
       "      <th>PropertyGFAParking</th>\n",
       "      <th>PropertyGFABuilding(s)</th>\n",
       "      <th>LargestPropertyUseType</th>\n",
       "      <th>LargestPropertyUseTypeGFA</th>\n",
       "      <th>SecondLargestPropertyUseType</th>\n",
       "      <th>SecondLargestPropertyUseTypeGFA</th>\n",
       "      <th>ThirdLargestPropertyUseType</th>\n",
       "      <th>ThirdLargestPropertyUseTypeGFA</th>\n",
       "      <th>ENERGYSTARScore</th>\n",
       "      <th>SiteEUI(kBtu/sf)</th>\n",
       "      <th>SiteEUIWN(kBtu/sf)</th>\n",
       "      <th>SourceEUI(kBtu/sf)</th>\n",
       "      <th>SourceEUIWN(kBtu/sf)</th>\n",
       "      <th>SiteEnergyUse(kBtu)</th>\n",
       "      <th>SiteEnergyUseWN(kBtu)</th>\n",
       "      <th>SteamUse(kBtu)</th>\n",
       "      <th>Electricity(kWh)</th>\n",
       "      <th>Electricity(kBtu)</th>\n",
       "      <th>NaturalGas(therms)</th>\n",
       "      <th>NaturalGas(kBtu)</th>\n",
       "      <th>TotalGHGEmissions</th>\n",
       "      <th>GHGEmissionsIntensity</th>\n",
       "      <th>ElectricityGHGEmissions</th>\n",
       "      <th>SteamUseGHGEmissions</th>\n",
       "      <th>NaturalGasGHGEmissions</th>\n",
       "    </tr>\n",
       "  </thead>\n",
       "  <tbody>\n",
       "    <tr>\n",
       "      <th>2447</th>\n",
       "      <td>25671</td>\n",
       "      <td>NonResidential</td>\n",
       "      <td>Retail Store</td>\n",
       "      <td>98122.0</td>\n",
       "      <td>3</td>\n",
       "      <td>EAST</td>\n",
       "      <td>47.61478</td>\n",
       "      <td>-122.31847</td>\n",
       "      <td>1916</td>\n",
       "      <td>1.0</td>\n",
       "      <td>2</td>\n",
       "      <td>36940</td>\n",
       "      <td>0</td>\n",
       "      <td>36940</td>\n",
       "      <td>Retail Store</td>\n",
       "      <td>36940.0</td>\n",
       "      <td>NaN</td>\n",
       "      <td>NaN</td>\n",
       "      <td>NaN</td>\n",
       "      <td>NaN</td>\n",
       "      <td>100.0</td>\n",
       "      <td>9.100000</td>\n",
       "      <td>9.100000</td>\n",
       "      <td>28.600000</td>\n",
       "      <td>28.600000</td>\n",
       "      <td>3.367454e+05</td>\n",
       "      <td>3.367454e+05</td>\n",
       "      <td>0.0</td>\n",
       "      <td>9.869440e+04</td>\n",
       "      <td>336745.0</td>\n",
       "      <td>0.000000</td>\n",
       "      <td>0.0</td>\n",
       "      <td>2.35</td>\n",
       "      <td>0.06</td>\n",
       "      <td>2.347607</td>\n",
       "      <td>0.000000</td>\n",
       "      <td>0.000000</td>\n",
       "    </tr>\n",
       "    <tr>\n",
       "      <th>2559</th>\n",
       "      <td>26098</td>\n",
       "      <td>NonResidential</td>\n",
       "      <td>K-12 School</td>\n",
       "      <td>98133.0</td>\n",
       "      <td>5</td>\n",
       "      <td>NORTHWEST</td>\n",
       "      <td>47.71387</td>\n",
       "      <td>-122.35350</td>\n",
       "      <td>1938</td>\n",
       "      <td>1.0</td>\n",
       "      <td>2</td>\n",
       "      <td>23222</td>\n",
       "      <td>0</td>\n",
       "      <td>23222</td>\n",
       "      <td>K-12 School</td>\n",
       "      <td>15006.0</td>\n",
       "      <td>NaN</td>\n",
       "      <td>NaN</td>\n",
       "      <td>NaN</td>\n",
       "      <td>NaN</td>\n",
       "      <td>62.0</td>\n",
       "      <td>81.300003</td>\n",
       "      <td>88.800003</td>\n",
       "      <td>114.699997</td>\n",
       "      <td>123.699997</td>\n",
       "      <td>1.219863e+06</td>\n",
       "      <td>1.331981e+06</td>\n",
       "      <td>0.0</td>\n",
       "      <td>6.177110e+04</td>\n",
       "      <td>210763.0</td>\n",
       "      <td>10091.000000</td>\n",
       "      <td>1009100.0</td>\n",
       "      <td>55.06</td>\n",
       "      <td>2.37</td>\n",
       "      <td>1.469326</td>\n",
       "      <td>0.000000</td>\n",
       "      <td>53.593301</td>\n",
       "    </tr>\n",
       "    <tr>\n",
       "      <th>137</th>\n",
       "      <td>225</td>\n",
       "      <td>SPS-District K-12</td>\n",
       "      <td>K-12 School</td>\n",
       "      <td>98126.0</td>\n",
       "      <td>1</td>\n",
       "      <td>DELRIDGE</td>\n",
       "      <td>47.52915</td>\n",
       "      <td>-122.36511</td>\n",
       "      <td>2010</td>\n",
       "      <td>1.0</td>\n",
       "      <td>2</td>\n",
       "      <td>367884</td>\n",
       "      <td>0</td>\n",
       "      <td>367884</td>\n",
       "      <td>K-12 School</td>\n",
       "      <td>367884.0</td>\n",
       "      <td>NaN</td>\n",
       "      <td>NaN</td>\n",
       "      <td>NaN</td>\n",
       "      <td>NaN</td>\n",
       "      <td>97.0</td>\n",
       "      <td>33.299999</td>\n",
       "      <td>36.099998</td>\n",
       "      <td>81.599998</td>\n",
       "      <td>85.900002</td>\n",
       "      <td>1.226552e+07</td>\n",
       "      <td>1.327934e+07</td>\n",
       "      <td>0.0</td>\n",
       "      <td>2.404754e+06</td>\n",
       "      <td>8205020.0</td>\n",
       "      <td>40604.957030</td>\n",
       "      <td>4060496.0</td>\n",
       "      <td>272.85</td>\n",
       "      <td>0.74</td>\n",
       "      <td>57.200983</td>\n",
       "      <td>0.000000</td>\n",
       "      <td>215.652943</td>\n",
       "    </tr>\n",
       "    <tr>\n",
       "      <th>1969</th>\n",
       "      <td>23975</td>\n",
       "      <td>Nonresidential COS</td>\n",
       "      <td>Warehouse</td>\n",
       "      <td>98134.0</td>\n",
       "      <td>2</td>\n",
       "      <td>GREATER DUWAMISH</td>\n",
       "      <td>47.58290</td>\n",
       "      <td>-122.32417</td>\n",
       "      <td>1985</td>\n",
       "      <td>1.0</td>\n",
       "      <td>1</td>\n",
       "      <td>22803</td>\n",
       "      <td>0</td>\n",
       "      <td>22803</td>\n",
       "      <td>Non-Refrigerated Warehouse</td>\n",
       "      <td>19373.0</td>\n",
       "      <td>Other</td>\n",
       "      <td>3430.000000</td>\n",
       "      <td>NaN</td>\n",
       "      <td>NaN</td>\n",
       "      <td>78.0</td>\n",
       "      <td>33.500000</td>\n",
       "      <td>37.700001</td>\n",
       "      <td>73.099998</td>\n",
       "      <td>77.000000</td>\n",
       "      <td>7.640945e+05</td>\n",
       "      <td>8.593872e+05</td>\n",
       "      <td>0.0</td>\n",
       "      <td>1.212340e+05</td>\n",
       "      <td>413650.0</td>\n",
       "      <td>3504.440186</td>\n",
       "      <td>350444.0</td>\n",
       "      <td>21.50</td>\n",
       "      <td>0.94</td>\n",
       "      <td>2.883748</td>\n",
       "      <td>0.000000</td>\n",
       "      <td>18.612081</td>\n",
       "    </tr>\n",
       "    <tr>\n",
       "      <th>446</th>\n",
       "      <td>19746</td>\n",
       "      <td>NonResidential</td>\n",
       "      <td>Other</td>\n",
       "      <td>98121.0</td>\n",
       "      <td>7</td>\n",
       "      <td>DOWNTOWN</td>\n",
       "      <td>47.61530</td>\n",
       "      <td>-122.35014</td>\n",
       "      <td>1946</td>\n",
       "      <td>1.0</td>\n",
       "      <td>1</td>\n",
       "      <td>23000</td>\n",
       "      <td>0</td>\n",
       "      <td>23000</td>\n",
       "      <td>Other</td>\n",
       "      <td>20310.0</td>\n",
       "      <td>Office</td>\n",
       "      <td>2689.600098</td>\n",
       "      <td>NaN</td>\n",
       "      <td>NaN</td>\n",
       "      <td>NaN</td>\n",
       "      <td>30.900000</td>\n",
       "      <td>36.799999</td>\n",
       "      <td>56.099998</td>\n",
       "      <td>63.200001</td>\n",
       "      <td>7.111184e+05</td>\n",
       "      <td>8.458922e+05</td>\n",
       "      <td>0.0</td>\n",
       "      <td>7.638880e+04</td>\n",
       "      <td>260639.0</td>\n",
       "      <td>4504.796875</td>\n",
       "      <td>450480.0</td>\n",
       "      <td>25.74</td>\n",
       "      <td>1.12</td>\n",
       "      <td>1.817032</td>\n",
       "      <td>0.000000</td>\n",
       "      <td>23.924993</td>\n",
       "    </tr>\n",
       "    <tr>\n",
       "      <th>...</th>\n",
       "      <td>...</td>\n",
       "      <td>...</td>\n",
       "      <td>...</td>\n",
       "      <td>...</td>\n",
       "      <td>...</td>\n",
       "      <td>...</td>\n",
       "      <td>...</td>\n",
       "      <td>...</td>\n",
       "      <td>...</td>\n",
       "      <td>...</td>\n",
       "      <td>...</td>\n",
       "      <td>...</td>\n",
       "      <td>...</td>\n",
       "      <td>...</td>\n",
       "      <td>...</td>\n",
       "      <td>...</td>\n",
       "      <td>...</td>\n",
       "      <td>...</td>\n",
       "      <td>...</td>\n",
       "      <td>...</td>\n",
       "      <td>...</td>\n",
       "      <td>...</td>\n",
       "      <td>...</td>\n",
       "      <td>...</td>\n",
       "      <td>...</td>\n",
       "      <td>...</td>\n",
       "      <td>...</td>\n",
       "      <td>...</td>\n",
       "      <td>...</td>\n",
       "      <td>...</td>\n",
       "      <td>...</td>\n",
       "      <td>...</td>\n",
       "      <td>...</td>\n",
       "      <td>...</td>\n",
       "      <td>...</td>\n",
       "      <td>...</td>\n",
       "      <td>...</td>\n",
       "    </tr>\n",
       "    <tr>\n",
       "      <th>277</th>\n",
       "      <td>406</td>\n",
       "      <td>NonResidential</td>\n",
       "      <td>Large Office</td>\n",
       "      <td>98101.0</td>\n",
       "      <td>7</td>\n",
       "      <td>DOWNTOWN</td>\n",
       "      <td>47.61125</td>\n",
       "      <td>-122.33494</td>\n",
       "      <td>1983</td>\n",
       "      <td>1.0</td>\n",
       "      <td>29</td>\n",
       "      <td>500000</td>\n",
       "      <td>0</td>\n",
       "      <td>500000</td>\n",
       "      <td>Office</td>\n",
       "      <td>411301.0</td>\n",
       "      <td>Parking</td>\n",
       "      <td>80005.000000</td>\n",
       "      <td>Retail Store</td>\n",
       "      <td>14528.0</td>\n",
       "      <td>93.0</td>\n",
       "      <td>44.299999</td>\n",
       "      <td>45.200001</td>\n",
       "      <td>139.000000</td>\n",
       "      <td>141.899994</td>\n",
       "      <td>1.884878e+07</td>\n",
       "      <td>1.924957e+07</td>\n",
       "      <td>0.0</td>\n",
       "      <td>5.524260e+06</td>\n",
       "      <td>18848777.0</td>\n",
       "      <td>0.000000</td>\n",
       "      <td>0.0</td>\n",
       "      <td>131.40</td>\n",
       "      <td>0.26</td>\n",
       "      <td>131.403529</td>\n",
       "      <td>0.000000</td>\n",
       "      <td>0.000000</td>\n",
       "    </tr>\n",
       "    <tr>\n",
       "      <th>1033</th>\n",
       "      <td>20565</td>\n",
       "      <td>NonResidential</td>\n",
       "      <td>Supermarket / Grocery Store</td>\n",
       "      <td>98109.0</td>\n",
       "      <td>7</td>\n",
       "      <td>MAGNOLIA / QUEEN ANNE</td>\n",
       "      <td>47.63776</td>\n",
       "      <td>-122.35606</td>\n",
       "      <td>1962</td>\n",
       "      <td>1.0</td>\n",
       "      <td>1</td>\n",
       "      <td>25159</td>\n",
       "      <td>0</td>\n",
       "      <td>25159</td>\n",
       "      <td>Supermarket/Grocery Store</td>\n",
       "      <td>25883.0</td>\n",
       "      <td>Parking</td>\n",
       "      <td>NaN</td>\n",
       "      <td>NaN</td>\n",
       "      <td>NaN</td>\n",
       "      <td>38.0</td>\n",
       "      <td>344.100006</td>\n",
       "      <td>350.500000</td>\n",
       "      <td>755.200012</td>\n",
       "      <td>762.000000</td>\n",
       "      <td>8.905287e+06</td>\n",
       "      <td>9.072714e+06</td>\n",
       "      <td>0.0</td>\n",
       "      <td>1.429920e+06</td>\n",
       "      <td>4878886.0</td>\n",
       "      <td>40264.003910</td>\n",
       "      <td>4026400.0</td>\n",
       "      <td>247.85</td>\n",
       "      <td>9.85</td>\n",
       "      <td>34.012969</td>\n",
       "      <td>0.000000</td>\n",
       "      <td>213.842104</td>\n",
       "    </tr>\n",
       "    <tr>\n",
       "      <th>3264</th>\n",
       "      <td>49940</td>\n",
       "      <td>NonResidential</td>\n",
       "      <td>Hospital</td>\n",
       "      <td>98101.0</td>\n",
       "      <td>3</td>\n",
       "      <td>EAST</td>\n",
       "      <td>47.60986</td>\n",
       "      <td>-122.32774</td>\n",
       "      <td>1920</td>\n",
       "      <td>1.0</td>\n",
       "      <td>8</td>\n",
       "      <td>374466</td>\n",
       "      <td>0</td>\n",
       "      <td>374466</td>\n",
       "      <td>Hospital (General Medical &amp; Surgical)</td>\n",
       "      <td>1010135.0</td>\n",
       "      <td>NaN</td>\n",
       "      <td>NaN</td>\n",
       "      <td>NaN</td>\n",
       "      <td>NaN</td>\n",
       "      <td>74.0</td>\n",
       "      <td>162.300003</td>\n",
       "      <td>165.500000</td>\n",
       "      <td>367.899994</td>\n",
       "      <td>369.399994</td>\n",
       "      <td>1.639460e+08</td>\n",
       "      <td>1.672071e+08</td>\n",
       "      <td>73885472.0</td>\n",
       "      <td>2.639522e+07</td>\n",
       "      <td>90060497.0</td>\n",
       "      <td>0.000000</td>\n",
       "      <td>0.0</td>\n",
       "      <td>6330.91</td>\n",
       "      <td>16.91</td>\n",
       "      <td>627.853326</td>\n",
       "      <td>5703.116561</td>\n",
       "      <td>0.000000</td>\n",
       "    </tr>\n",
       "    <tr>\n",
       "      <th>1653</th>\n",
       "      <td>23008</td>\n",
       "      <td>NonResidential</td>\n",
       "      <td>Mixed Use Property</td>\n",
       "      <td>98125.0</td>\n",
       "      <td>5</td>\n",
       "      <td>North</td>\n",
       "      <td>47.70983</td>\n",
       "      <td>-122.31865</td>\n",
       "      <td>1952</td>\n",
       "      <td>1.0</td>\n",
       "      <td>2</td>\n",
       "      <td>32009</td>\n",
       "      <td>0</td>\n",
       "      <td>32009</td>\n",
       "      <td>Non-Refrigerated Warehouse</td>\n",
       "      <td>17500.0</td>\n",
       "      <td>Retail Store</td>\n",
       "      <td>15770.000000</td>\n",
       "      <td>Office</td>\n",
       "      <td>4000.0</td>\n",
       "      <td>NaN</td>\n",
       "      <td>53.599998</td>\n",
       "      <td>58.400002</td>\n",
       "      <td>131.500000</td>\n",
       "      <td>136.600006</td>\n",
       "      <td>1.998725e+06</td>\n",
       "      <td>2.177737e+06</td>\n",
       "      <td>0.0</td>\n",
       "      <td>3.930226e+05</td>\n",
       "      <td>1340993.0</td>\n",
       "      <td>6577.320313</td>\n",
       "      <td>657732.0</td>\n",
       "      <td>44.28</td>\n",
       "      <td>1.38</td>\n",
       "      <td>9.348682</td>\n",
       "      <td>0.000000</td>\n",
       "      <td>34.932147</td>\n",
       "    </tr>\n",
       "    <tr>\n",
       "      <th>2607</th>\n",
       "      <td>26236</td>\n",
       "      <td>NonResidential</td>\n",
       "      <td>Other</td>\n",
       "      <td>98134.0</td>\n",
       "      <td>2</td>\n",
       "      <td>GREATER DUWAMISH</td>\n",
       "      <td>47.56610</td>\n",
       "      <td>-122.33358</td>\n",
       "      <td>1946</td>\n",
       "      <td>1.0</td>\n",
       "      <td>2</td>\n",
       "      <td>31360</td>\n",
       "      <td>0</td>\n",
       "      <td>31360</td>\n",
       "      <td>Other - Entertainment/Public Assembly</td>\n",
       "      <td>32000.0</td>\n",
       "      <td>NaN</td>\n",
       "      <td>NaN</td>\n",
       "      <td>NaN</td>\n",
       "      <td>NaN</td>\n",
       "      <td>NaN</td>\n",
       "      <td>53.900002</td>\n",
       "      <td>58.900002</td>\n",
       "      <td>130.199997</td>\n",
       "      <td>135.500000</td>\n",
       "      <td>1.725108e+06</td>\n",
       "      <td>1.886367e+06</td>\n",
       "      <td>0.0</td>\n",
       "      <td>3.301272e+05</td>\n",
       "      <td>1126394.0</td>\n",
       "      <td>5987.140137</td>\n",
       "      <td>598714.0</td>\n",
       "      <td>39.65</td>\n",
       "      <td>1.26</td>\n",
       "      <td>7.852613</td>\n",
       "      <td>0.000000</td>\n",
       "      <td>31.797701</td>\n",
       "    </tr>\n",
       "  </tbody>\n",
       "</table>\n",
       "<p>1335 rows × 37 columns</p>\n",
       "</div>"
      ],
      "text/plain": [
       "      OSEBuildingID        BuildingType          PrimaryPropertyType  ZipCode  \\\n",
       "2447          25671      NonResidential                 Retail Store  98122.0   \n",
       "2559          26098      NonResidential                  K-12 School  98133.0   \n",
       "137             225   SPS-District K-12                  K-12 School  98126.0   \n",
       "1969          23975  Nonresidential COS                    Warehouse  98134.0   \n",
       "446           19746      NonResidential                        Other  98121.0   \n",
       "...             ...                 ...                          ...      ...   \n",
       "277             406      NonResidential                 Large Office  98101.0   \n",
       "1033          20565      NonResidential  Supermarket / Grocery Store  98109.0   \n",
       "3264          49940      NonResidential                     Hospital  98101.0   \n",
       "1653          23008      NonResidential           Mixed Use Property  98125.0   \n",
       "2607          26236      NonResidential                        Other  98134.0   \n",
       "\n",
       "      CouncilDistrictCode           Neighborhood  Latitude  Longitude  \\\n",
       "2447                    3                   EAST  47.61478 -122.31847   \n",
       "2559                    5              NORTHWEST  47.71387 -122.35350   \n",
       "137                     1               DELRIDGE  47.52915 -122.36511   \n",
       "1969                    2       GREATER DUWAMISH  47.58290 -122.32417   \n",
       "446                     7               DOWNTOWN  47.61530 -122.35014   \n",
       "...                   ...                    ...       ...        ...   \n",
       "277                     7               DOWNTOWN  47.61125 -122.33494   \n",
       "1033                    7  MAGNOLIA / QUEEN ANNE  47.63776 -122.35606   \n",
       "3264                    3                   EAST  47.60986 -122.32774   \n",
       "1653                    5                  North  47.70983 -122.31865   \n",
       "2607                    2       GREATER DUWAMISH  47.56610 -122.33358   \n",
       "\n",
       "      YearBuilt  NumberofBuildings  NumberofFloors  PropertyGFATotal  \\\n",
       "2447       1916                1.0               2             36940   \n",
       "2559       1938                1.0               2             23222   \n",
       "137        2010                1.0               2            367884   \n",
       "1969       1985                1.0               1             22803   \n",
       "446        1946                1.0               1             23000   \n",
       "...         ...                ...             ...               ...   \n",
       "277        1983                1.0              29            500000   \n",
       "1033       1962                1.0               1             25159   \n",
       "3264       1920                1.0               8            374466   \n",
       "1653       1952                1.0               2             32009   \n",
       "2607       1946                1.0               2             31360   \n",
       "\n",
       "      PropertyGFAParking  PropertyGFABuilding(s)  \\\n",
       "2447                   0                   36940   \n",
       "2559                   0                   23222   \n",
       "137                    0                  367884   \n",
       "1969                   0                   22803   \n",
       "446                    0                   23000   \n",
       "...                  ...                     ...   \n",
       "277                    0                  500000   \n",
       "1033                   0                   25159   \n",
       "3264                   0                  374466   \n",
       "1653                   0                   32009   \n",
       "2607                   0                   31360   \n",
       "\n",
       "                     LargestPropertyUseType  LargestPropertyUseTypeGFA  \\\n",
       "2447                           Retail Store                    36940.0   \n",
       "2559                            K-12 School                    15006.0   \n",
       "137                             K-12 School                   367884.0   \n",
       "1969             Non-Refrigerated Warehouse                    19373.0   \n",
       "446                                   Other                    20310.0   \n",
       "...                                     ...                        ...   \n",
       "277                                  Office                   411301.0   \n",
       "1033              Supermarket/Grocery Store                    25883.0   \n",
       "3264  Hospital (General Medical & Surgical)                  1010135.0   \n",
       "1653             Non-Refrigerated Warehouse                    17500.0   \n",
       "2607  Other - Entertainment/Public Assembly                    32000.0   \n",
       "\n",
       "     SecondLargestPropertyUseType  SecondLargestPropertyUseTypeGFA  \\\n",
       "2447                          NaN                              NaN   \n",
       "2559                          NaN                              NaN   \n",
       "137                           NaN                              NaN   \n",
       "1969                        Other                      3430.000000   \n",
       "446                        Office                      2689.600098   \n",
       "...                           ...                              ...   \n",
       "277                       Parking                     80005.000000   \n",
       "1033                      Parking                              NaN   \n",
       "3264                          NaN                              NaN   \n",
       "1653                 Retail Store                     15770.000000   \n",
       "2607                          NaN                              NaN   \n",
       "\n",
       "     ThirdLargestPropertyUseType  ThirdLargestPropertyUseTypeGFA  \\\n",
       "2447                         NaN                             NaN   \n",
       "2559                         NaN                             NaN   \n",
       "137                          NaN                             NaN   \n",
       "1969                         NaN                             NaN   \n",
       "446                          NaN                             NaN   \n",
       "...                          ...                             ...   \n",
       "277                 Retail Store                         14528.0   \n",
       "1033                         NaN                             NaN   \n",
       "3264                         NaN                             NaN   \n",
       "1653                      Office                          4000.0   \n",
       "2607                         NaN                             NaN   \n",
       "\n",
       "      ENERGYSTARScore  SiteEUI(kBtu/sf)  SiteEUIWN(kBtu/sf)  \\\n",
       "2447            100.0          9.100000            9.100000   \n",
       "2559             62.0         81.300003           88.800003   \n",
       "137              97.0         33.299999           36.099998   \n",
       "1969             78.0         33.500000           37.700001   \n",
       "446               NaN         30.900000           36.799999   \n",
       "...               ...               ...                 ...   \n",
       "277              93.0         44.299999           45.200001   \n",
       "1033             38.0        344.100006          350.500000   \n",
       "3264             74.0        162.300003          165.500000   \n",
       "1653              NaN         53.599998           58.400002   \n",
       "2607              NaN         53.900002           58.900002   \n",
       "\n",
       "      SourceEUI(kBtu/sf)  SourceEUIWN(kBtu/sf)  SiteEnergyUse(kBtu)  \\\n",
       "2447           28.600000             28.600000         3.367454e+05   \n",
       "2559          114.699997            123.699997         1.219863e+06   \n",
       "137            81.599998             85.900002         1.226552e+07   \n",
       "1969           73.099998             77.000000         7.640945e+05   \n",
       "446            56.099998             63.200001         7.111184e+05   \n",
       "...                  ...                   ...                  ...   \n",
       "277           139.000000            141.899994         1.884878e+07   \n",
       "1033          755.200012            762.000000         8.905287e+06   \n",
       "3264          367.899994            369.399994         1.639460e+08   \n",
       "1653          131.500000            136.600006         1.998725e+06   \n",
       "2607          130.199997            135.500000         1.725108e+06   \n",
       "\n",
       "      SiteEnergyUseWN(kBtu)  SteamUse(kBtu)  Electricity(kWh)  \\\n",
       "2447           3.367454e+05             0.0      9.869440e+04   \n",
       "2559           1.331981e+06             0.0      6.177110e+04   \n",
       "137            1.327934e+07             0.0      2.404754e+06   \n",
       "1969           8.593872e+05             0.0      1.212340e+05   \n",
       "446            8.458922e+05             0.0      7.638880e+04   \n",
       "...                     ...             ...               ...   \n",
       "277            1.924957e+07             0.0      5.524260e+06   \n",
       "1033           9.072714e+06             0.0      1.429920e+06   \n",
       "3264           1.672071e+08      73885472.0      2.639522e+07   \n",
       "1653           2.177737e+06             0.0      3.930226e+05   \n",
       "2607           1.886367e+06             0.0      3.301272e+05   \n",
       "\n",
       "      Electricity(kBtu)  NaturalGas(therms)  NaturalGas(kBtu)  \\\n",
       "2447           336745.0            0.000000               0.0   \n",
       "2559           210763.0        10091.000000         1009100.0   \n",
       "137           8205020.0        40604.957030         4060496.0   \n",
       "1969           413650.0         3504.440186          350444.0   \n",
       "446            260639.0         4504.796875          450480.0   \n",
       "...                 ...                 ...               ...   \n",
       "277          18848777.0            0.000000               0.0   \n",
       "1033          4878886.0        40264.003910         4026400.0   \n",
       "3264         90060497.0            0.000000               0.0   \n",
       "1653          1340993.0         6577.320313          657732.0   \n",
       "2607          1126394.0         5987.140137          598714.0   \n",
       "\n",
       "      TotalGHGEmissions  GHGEmissionsIntensity  ElectricityGHGEmissions  \\\n",
       "2447               2.35                   0.06                 2.347607   \n",
       "2559              55.06                   2.37                 1.469326   \n",
       "137              272.85                   0.74                57.200983   \n",
       "1969              21.50                   0.94                 2.883748   \n",
       "446               25.74                   1.12                 1.817032   \n",
       "...                 ...                    ...                      ...   \n",
       "277              131.40                   0.26               131.403529   \n",
       "1033             247.85                   9.85                34.012969   \n",
       "3264            6330.91                  16.91               627.853326   \n",
       "1653              44.28                   1.38                 9.348682   \n",
       "2607              39.65                   1.26                 7.852613   \n",
       "\n",
       "      SteamUseGHGEmissions  NaturalGasGHGEmissions  \n",
       "2447              0.000000                0.000000  \n",
       "2559              0.000000               53.593301  \n",
       "137               0.000000              215.652943  \n",
       "1969              0.000000               18.612081  \n",
       "446               0.000000               23.924993  \n",
       "...                    ...                     ...  \n",
       "277               0.000000                0.000000  \n",
       "1033              0.000000              213.842104  \n",
       "3264           5703.116561                0.000000  \n",
       "1653              0.000000               34.932147  \n",
       "2607              0.000000               31.797701  \n",
       "\n",
       "[1335 rows x 37 columns]"
      ]
     },
     "execution_count": 5,
     "metadata": {},
     "output_type": "execute_result"
    }
   ],
   "source": [
    "df_train"
   ]
  },
  {
   "cell_type": "code",
   "execution_count": 6,
   "metadata": {
    "ExecuteTime": {
     "end_time": "2021-07-16T15:35:11.780579Z",
     "start_time": "2021-07-16T15:35:11.726575Z"
    }
   },
   "outputs": [
    {
     "data": {
      "text/html": [
       "<div>\n",
       "<style scoped>\n",
       "    .dataframe tbody tr th:only-of-type {\n",
       "        vertical-align: middle;\n",
       "    }\n",
       "\n",
       "    .dataframe tbody tr th {\n",
       "        vertical-align: top;\n",
       "    }\n",
       "\n",
       "    .dataframe thead th {\n",
       "        text-align: right;\n",
       "    }\n",
       "</style>\n",
       "<table border=\"1\" class=\"dataframe\">\n",
       "  <thead>\n",
       "    <tr style=\"text-align: right;\">\n",
       "      <th></th>\n",
       "      <th>OSEBuildingID</th>\n",
       "      <th>BuildingType</th>\n",
       "      <th>PrimaryPropertyType</th>\n",
       "      <th>ZipCode</th>\n",
       "      <th>CouncilDistrictCode</th>\n",
       "      <th>Neighborhood</th>\n",
       "      <th>Latitude</th>\n",
       "      <th>Longitude</th>\n",
       "      <th>YearBuilt</th>\n",
       "      <th>NumberofBuildings</th>\n",
       "      <th>NumberofFloors</th>\n",
       "      <th>PropertyGFATotal</th>\n",
       "      <th>PropertyGFAParking</th>\n",
       "      <th>PropertyGFABuilding(s)</th>\n",
       "      <th>LargestPropertyUseType</th>\n",
       "      <th>LargestPropertyUseTypeGFA</th>\n",
       "      <th>SecondLargestPropertyUseType</th>\n",
       "      <th>SecondLargestPropertyUseTypeGFA</th>\n",
       "      <th>ThirdLargestPropertyUseType</th>\n",
       "      <th>ThirdLargestPropertyUseTypeGFA</th>\n",
       "      <th>ENERGYSTARScore</th>\n",
       "      <th>SiteEUI(kBtu/sf)</th>\n",
       "      <th>SiteEUIWN(kBtu/sf)</th>\n",
       "      <th>SourceEUI(kBtu/sf)</th>\n",
       "      <th>SourceEUIWN(kBtu/sf)</th>\n",
       "      <th>SiteEnergyUse(kBtu)</th>\n",
       "      <th>SiteEnergyUseWN(kBtu)</th>\n",
       "      <th>SteamUse(kBtu)</th>\n",
       "      <th>Electricity(kWh)</th>\n",
       "      <th>Electricity(kBtu)</th>\n",
       "      <th>NaturalGas(therms)</th>\n",
       "      <th>NaturalGas(kBtu)</th>\n",
       "      <th>TotalGHGEmissions</th>\n",
       "      <th>GHGEmissionsIntensity</th>\n",
       "      <th>ElectricityGHGEmissions</th>\n",
       "      <th>SteamUseGHGEmissions</th>\n",
       "      <th>NaturalGasGHGEmissions</th>\n",
       "    </tr>\n",
       "  </thead>\n",
       "  <tbody>\n",
       "    <tr>\n",
       "      <th>3022</th>\n",
       "      <td>27901</td>\n",
       "      <td>Campus</td>\n",
       "      <td>K-12 School</td>\n",
       "      <td>98112.0</td>\n",
       "      <td>3</td>\n",
       "      <td>CENTRAL</td>\n",
       "      <td>47.62291</td>\n",
       "      <td>-122.28879</td>\n",
       "      <td>2000</td>\n",
       "      <td>1.0</td>\n",
       "      <td>2</td>\n",
       "      <td>30562</td>\n",
       "      <td>0</td>\n",
       "      <td>30562</td>\n",
       "      <td>K-12 School</td>\n",
       "      <td>30562.0</td>\n",
       "      <td>NaN</td>\n",
       "      <td>NaN</td>\n",
       "      <td>NaN</td>\n",
       "      <td>NaN</td>\n",
       "      <td>69.0</td>\n",
       "      <td>53.099998</td>\n",
       "      <td>59.700001</td>\n",
       "      <td>100.800003</td>\n",
       "      <td>107.800003</td>\n",
       "      <td>1.622231e+06</td>\n",
       "      <td>1.824440e+06</td>\n",
       "      <td>0.0</td>\n",
       "      <td>1.932738e+05</td>\n",
       "      <td>659450.0</td>\n",
       "      <td>9627.809570</td>\n",
       "      <td>962781.0</td>\n",
       "      <td>55.73</td>\n",
       "      <td>1.82</td>\n",
       "      <td>4.597332</td>\n",
       "      <td>0.0</td>\n",
       "      <td>51.133299</td>\n",
       "    </tr>\n",
       "    <tr>\n",
       "      <th>2144</th>\n",
       "      <td>24591</td>\n",
       "      <td>NonResidential</td>\n",
       "      <td>Small- and Mid-Sized Office</td>\n",
       "      <td>98134.0</td>\n",
       "      <td>2</td>\n",
       "      <td>GREATER DUWAMISH</td>\n",
       "      <td>47.57893</td>\n",
       "      <td>-122.33374</td>\n",
       "      <td>1926</td>\n",
       "      <td>1.0</td>\n",
       "      <td>1</td>\n",
       "      <td>20460</td>\n",
       "      <td>0</td>\n",
       "      <td>20460</td>\n",
       "      <td>Office</td>\n",
       "      <td>20460.0</td>\n",
       "      <td>NaN</td>\n",
       "      <td>NaN</td>\n",
       "      <td>NaN</td>\n",
       "      <td>NaN</td>\n",
       "      <td>16.0</td>\n",
       "      <td>44.200001</td>\n",
       "      <td>44.200001</td>\n",
       "      <td>138.699997</td>\n",
       "      <td>138.699997</td>\n",
       "      <td>9.035419e+05</td>\n",
       "      <td>9.035419e+05</td>\n",
       "      <td>0.0</td>\n",
       "      <td>2.648129e+05</td>\n",
       "      <td>903542.0</td>\n",
       "      <td>0.000000</td>\n",
       "      <td>0.0</td>\n",
       "      <td>6.30</td>\n",
       "      <td>0.31</td>\n",
       "      <td>6.299006</td>\n",
       "      <td>0.0</td>\n",
       "      <td>0.000000</td>\n",
       "    </tr>\n",
       "    <tr>\n",
       "      <th>1158</th>\n",
       "      <td>21119</td>\n",
       "      <td>NonResidential</td>\n",
       "      <td>Warehouse</td>\n",
       "      <td>98103.0</td>\n",
       "      <td>6</td>\n",
       "      <td>LAKE UNION</td>\n",
       "      <td>47.64965</td>\n",
       "      <td>-122.34913</td>\n",
       "      <td>1927</td>\n",
       "      <td>1.0</td>\n",
       "      <td>2</td>\n",
       "      <td>33840</td>\n",
       "      <td>0</td>\n",
       "      <td>33840</td>\n",
       "      <td>Non-Refrigerated Warehouse</td>\n",
       "      <td>18740.0</td>\n",
       "      <td>Office</td>\n",
       "      <td>13660.0</td>\n",
       "      <td>Retail Store</td>\n",
       "      <td>1440.0</td>\n",
       "      <td>NaN</td>\n",
       "      <td>65.800003</td>\n",
       "      <td>69.099998</td>\n",
       "      <td>146.000000</td>\n",
       "      <td>149.500000</td>\n",
       "      <td>2.227638e+06</td>\n",
       "      <td>2.339650e+06</td>\n",
       "      <td>0.0</td>\n",
       "      <td>3.647981e+05</td>\n",
       "      <td>1244691.0</td>\n",
       "      <td>9829.470703</td>\n",
       "      <td>982947.0</td>\n",
       "      <td>60.88</td>\n",
       "      <td>1.80</td>\n",
       "      <td>8.677317</td>\n",
       "      <td>0.0</td>\n",
       "      <td>52.204315</td>\n",
       "    </tr>\n",
       "    <tr>\n",
       "      <th>308</th>\n",
       "      <td>439</td>\n",
       "      <td>NonResidential</td>\n",
       "      <td>Mixed Use Property</td>\n",
       "      <td>98109.0</td>\n",
       "      <td>7</td>\n",
       "      <td>LAKE UNION</td>\n",
       "      <td>47.61915</td>\n",
       "      <td>-122.34857</td>\n",
       "      <td>2001</td>\n",
       "      <td>1.0</td>\n",
       "      <td>6</td>\n",
       "      <td>378443</td>\n",
       "      <td>177660</td>\n",
       "      <td>200783</td>\n",
       "      <td>Parking</td>\n",
       "      <td>164332.0</td>\n",
       "      <td>Office</td>\n",
       "      <td>108781.0</td>\n",
       "      <td>Data Center</td>\n",
       "      <td>54184.0</td>\n",
       "      <td>100.0</td>\n",
       "      <td>283.700012</td>\n",
       "      <td>283.700012</td>\n",
       "      <td>874.099976</td>\n",
       "      <td>874.099976</td>\n",
       "      <td>5.507312e+07</td>\n",
       "      <td>5.507312e+07</td>\n",
       "      <td>0.0</td>\n",
       "      <td>1.568186e+07</td>\n",
       "      <td>53506520.0</td>\n",
       "      <td>15665.939450</td>\n",
       "      <td>1566594.0</td>\n",
       "      <td>456.22</td>\n",
       "      <td>1.21</td>\n",
       "      <td>373.018665</td>\n",
       "      <td>0.0</td>\n",
       "      <td>83.201807</td>\n",
       "    </tr>\n",
       "    <tr>\n",
       "      <th>436</th>\n",
       "      <td>597</td>\n",
       "      <td>NonResidential</td>\n",
       "      <td>Large Office</td>\n",
       "      <td>98119.0</td>\n",
       "      <td>7</td>\n",
       "      <td>MAGNOLIA / QUEEN ANNE</td>\n",
       "      <td>47.62520</td>\n",
       "      <td>-122.36737</td>\n",
       "      <td>2009</td>\n",
       "      <td>1.0</td>\n",
       "      <td>4</td>\n",
       "      <td>291176</td>\n",
       "      <td>100176</td>\n",
       "      <td>191000</td>\n",
       "      <td>Office</td>\n",
       "      <td>194674.0</td>\n",
       "      <td>Parking</td>\n",
       "      <td>111198.0</td>\n",
       "      <td>NaN</td>\n",
       "      <td>NaN</td>\n",
       "      <td>98.0</td>\n",
       "      <td>34.200001</td>\n",
       "      <td>34.200001</td>\n",
       "      <td>106.599998</td>\n",
       "      <td>106.599998</td>\n",
       "      <td>6.657348e+06</td>\n",
       "      <td>6.657348e+06</td>\n",
       "      <td>0.0</td>\n",
       "      <td>1.929988e+06</td>\n",
       "      <td>6585119.0</td>\n",
       "      <td>722.283875</td>\n",
       "      <td>72228.0</td>\n",
       "      <td>49.74</td>\n",
       "      <td>0.17</td>\n",
       "      <td>45.907907</td>\n",
       "      <td>0.0</td>\n",
       "      <td>3.836029</td>\n",
       "    </tr>\n",
       "    <tr>\n",
       "      <th>...</th>\n",
       "      <td>...</td>\n",
       "      <td>...</td>\n",
       "      <td>...</td>\n",
       "      <td>...</td>\n",
       "      <td>...</td>\n",
       "      <td>...</td>\n",
       "      <td>...</td>\n",
       "      <td>...</td>\n",
       "      <td>...</td>\n",
       "      <td>...</td>\n",
       "      <td>...</td>\n",
       "      <td>...</td>\n",
       "      <td>...</td>\n",
       "      <td>...</td>\n",
       "      <td>...</td>\n",
       "      <td>...</td>\n",
       "      <td>...</td>\n",
       "      <td>...</td>\n",
       "      <td>...</td>\n",
       "      <td>...</td>\n",
       "      <td>...</td>\n",
       "      <td>...</td>\n",
       "      <td>...</td>\n",
       "      <td>...</td>\n",
       "      <td>...</td>\n",
       "      <td>...</td>\n",
       "      <td>...</td>\n",
       "      <td>...</td>\n",
       "      <td>...</td>\n",
       "      <td>...</td>\n",
       "      <td>...</td>\n",
       "      <td>...</td>\n",
       "      <td>...</td>\n",
       "      <td>...</td>\n",
       "      <td>...</td>\n",
       "      <td>...</td>\n",
       "      <td>...</td>\n",
       "    </tr>\n",
       "    <tr>\n",
       "      <th>596</th>\n",
       "      <td>798</td>\n",
       "      <td>NonResidential</td>\n",
       "      <td>Warehouse</td>\n",
       "      <td>98108.0</td>\n",
       "      <td>1</td>\n",
       "      <td>GREATER DUWAMISH</td>\n",
       "      <td>47.53628</td>\n",
       "      <td>-122.33290</td>\n",
       "      <td>1969</td>\n",
       "      <td>1.0</td>\n",
       "      <td>1</td>\n",
       "      <td>55450</td>\n",
       "      <td>0</td>\n",
       "      <td>55450</td>\n",
       "      <td>Non-Refrigerated Warehouse</td>\n",
       "      <td>34206.0</td>\n",
       "      <td>Office</td>\n",
       "      <td>21244.0</td>\n",
       "      <td>NaN</td>\n",
       "      <td>NaN</td>\n",
       "      <td>31.0</td>\n",
       "      <td>78.400002</td>\n",
       "      <td>87.300003</td>\n",
       "      <td>163.300003</td>\n",
       "      <td>171.399994</td>\n",
       "      <td>4.345698e+06</td>\n",
       "      <td>4.843056e+06</td>\n",
       "      <td>0.0</td>\n",
       "      <td>6.298935e+05</td>\n",
       "      <td>2149197.0</td>\n",
       "      <td>21965.013670</td>\n",
       "      <td>2196501.0</td>\n",
       "      <td>131.64</td>\n",
       "      <td>2.37</td>\n",
       "      <td>14.983042</td>\n",
       "      <td>0.0</td>\n",
       "      <td>116.656168</td>\n",
       "    </tr>\n",
       "    <tr>\n",
       "      <th>1878</th>\n",
       "      <td>23674</td>\n",
       "      <td>NonResidential</td>\n",
       "      <td>Small- and Mid-Sized Office</td>\n",
       "      <td>98102.0</td>\n",
       "      <td>4</td>\n",
       "      <td>LAKE UNION</td>\n",
       "      <td>47.64113</td>\n",
       "      <td>-122.32625</td>\n",
       "      <td>2000</td>\n",
       "      <td>1.0</td>\n",
       "      <td>3</td>\n",
       "      <td>57132</td>\n",
       "      <td>21908</td>\n",
       "      <td>35224</td>\n",
       "      <td>Office</td>\n",
       "      <td>33705.0</td>\n",
       "      <td>Parking</td>\n",
       "      <td>21908.0</td>\n",
       "      <td>NaN</td>\n",
       "      <td>NaN</td>\n",
       "      <td>73.0</td>\n",
       "      <td>59.200001</td>\n",
       "      <td>59.200001</td>\n",
       "      <td>185.899994</td>\n",
       "      <td>185.899994</td>\n",
       "      <td>1.994968e+06</td>\n",
       "      <td>1.994968e+06</td>\n",
       "      <td>0.0</td>\n",
       "      <td>5.846915e+05</td>\n",
       "      <td>1994967.0</td>\n",
       "      <td>0.000000</td>\n",
       "      <td>0.0</td>\n",
       "      <td>13.91</td>\n",
       "      <td>0.24</td>\n",
       "      <td>13.907839</td>\n",
       "      <td>0.0</td>\n",
       "      <td>0.000000</td>\n",
       "    </tr>\n",
       "    <tr>\n",
       "      <th>235</th>\n",
       "      <td>359</td>\n",
       "      <td>Nonresidential COS</td>\n",
       "      <td>Large Office</td>\n",
       "      <td>98104.0</td>\n",
       "      <td>7</td>\n",
       "      <td>DOWNTOWN</td>\n",
       "      <td>47.60377</td>\n",
       "      <td>-122.32971</td>\n",
       "      <td>2003</td>\n",
       "      <td>1.0</td>\n",
       "      <td>8</td>\n",
       "      <td>199530</td>\n",
       "      <td>30660</td>\n",
       "      <td>168870</td>\n",
       "      <td>Office</td>\n",
       "      <td>160418.0</td>\n",
       "      <td>Parking</td>\n",
       "      <td>18590.0</td>\n",
       "      <td>Other</td>\n",
       "      <td>17480.0</td>\n",
       "      <td>69.0</td>\n",
       "      <td>73.199997</td>\n",
       "      <td>77.400002</td>\n",
       "      <td>178.100006</td>\n",
       "      <td>181.000000</td>\n",
       "      <td>1.321442e+07</td>\n",
       "      <td>1.397270e+07</td>\n",
       "      <td>0.0</td>\n",
       "      <td>2.561244e+06</td>\n",
       "      <td>8738965.0</td>\n",
       "      <td>44754.507810</td>\n",
       "      <td>4475451.0</td>\n",
       "      <td>298.61</td>\n",
       "      <td>1.50</td>\n",
       "      <td>60.923358</td>\n",
       "      <td>0.0</td>\n",
       "      <td>237.691203</td>\n",
       "    </tr>\n",
       "    <tr>\n",
       "      <th>3109</th>\n",
       "      <td>33408</td>\n",
       "      <td>Nonresidential COS</td>\n",
       "      <td>Other</td>\n",
       "      <td>98125.0</td>\n",
       "      <td>5</td>\n",
       "      <td>NORTH</td>\n",
       "      <td>47.71986</td>\n",
       "      <td>-122.29809</td>\n",
       "      <td>1965</td>\n",
       "      <td>1.0</td>\n",
       "      <td>1</td>\n",
       "      <td>24697</td>\n",
       "      <td>0</td>\n",
       "      <td>24697</td>\n",
       "      <td>Library</td>\n",
       "      <td>15300.0</td>\n",
       "      <td>Other - Services</td>\n",
       "      <td>4717.0</td>\n",
       "      <td>NaN</td>\n",
       "      <td>NaN</td>\n",
       "      <td>NaN</td>\n",
       "      <td>64.699997</td>\n",
       "      <td>69.699997</td>\n",
       "      <td>157.699997</td>\n",
       "      <td>162.899994</td>\n",
       "      <td>1.295686e+06</td>\n",
       "      <td>1.395016e+06</td>\n",
       "      <td>0.0</td>\n",
       "      <td>2.517610e+05</td>\n",
       "      <td>859009.0</td>\n",
       "      <td>4366.770020</td>\n",
       "      <td>436677.0</td>\n",
       "      <td>29.18</td>\n",
       "      <td>1.18</td>\n",
       "      <td>5.988545</td>\n",
       "      <td>0.0</td>\n",
       "      <td>23.191915</td>\n",
       "    </tr>\n",
       "    <tr>\n",
       "      <th>934</th>\n",
       "      <td>20273</td>\n",
       "      <td>NonResidential</td>\n",
       "      <td>Residence Hall</td>\n",
       "      <td>98105.0</td>\n",
       "      <td>4</td>\n",
       "      <td>NORTHEAST</td>\n",
       "      <td>47.65711</td>\n",
       "      <td>-122.31409</td>\n",
       "      <td>1993</td>\n",
       "      <td>1.0</td>\n",
       "      <td>3</td>\n",
       "      <td>28572</td>\n",
       "      <td>0</td>\n",
       "      <td>28572</td>\n",
       "      <td>Residence Hall/Dormitory</td>\n",
       "      <td>22000.0</td>\n",
       "      <td>Parking</td>\n",
       "      <td>7000.0</td>\n",
       "      <td>NaN</td>\n",
       "      <td>NaN</td>\n",
       "      <td>16.0</td>\n",
       "      <td>123.500000</td>\n",
       "      <td>125.400002</td>\n",
       "      <td>242.500000</td>\n",
       "      <td>244.500000</td>\n",
       "      <td>2.717863e+06</td>\n",
       "      <td>2.759012e+06</td>\n",
       "      <td>0.0</td>\n",
       "      <td>3.479411e+05</td>\n",
       "      <td>1187175.0</td>\n",
       "      <td>15306.879880</td>\n",
       "      <td>1530688.0</td>\n",
       "      <td>89.57</td>\n",
       "      <td>3.13</td>\n",
       "      <td>8.276345</td>\n",
       "      <td>0.0</td>\n",
       "      <td>81.294840</td>\n",
       "    </tr>\n",
       "  </tbody>\n",
       "</table>\n",
       "<p>333 rows × 37 columns</p>\n",
       "</div>"
      ],
      "text/plain": [
       "      OSEBuildingID        BuildingType          PrimaryPropertyType  ZipCode  \\\n",
       "3022          27901              Campus                  K-12 School  98112.0   \n",
       "2144          24591      NonResidential  Small- and Mid-Sized Office  98134.0   \n",
       "1158          21119      NonResidential                    Warehouse  98103.0   \n",
       "308             439      NonResidential           Mixed Use Property  98109.0   \n",
       "436             597      NonResidential                 Large Office  98119.0   \n",
       "...             ...                 ...                          ...      ...   \n",
       "596             798      NonResidential                    Warehouse  98108.0   \n",
       "1878          23674      NonResidential  Small- and Mid-Sized Office  98102.0   \n",
       "235             359  Nonresidential COS                 Large Office  98104.0   \n",
       "3109          33408  Nonresidential COS                        Other  98125.0   \n",
       "934           20273      NonResidential               Residence Hall  98105.0   \n",
       "\n",
       "      CouncilDistrictCode           Neighborhood  Latitude  Longitude  \\\n",
       "3022                    3                CENTRAL  47.62291 -122.28879   \n",
       "2144                    2       GREATER DUWAMISH  47.57893 -122.33374   \n",
       "1158                    6             LAKE UNION  47.64965 -122.34913   \n",
       "308                     7             LAKE UNION  47.61915 -122.34857   \n",
       "436                     7  MAGNOLIA / QUEEN ANNE  47.62520 -122.36737   \n",
       "...                   ...                    ...       ...        ...   \n",
       "596                     1       GREATER DUWAMISH  47.53628 -122.33290   \n",
       "1878                    4             LAKE UNION  47.64113 -122.32625   \n",
       "235                     7               DOWNTOWN  47.60377 -122.32971   \n",
       "3109                    5                  NORTH  47.71986 -122.29809   \n",
       "934                     4              NORTHEAST  47.65711 -122.31409   \n",
       "\n",
       "      YearBuilt  NumberofBuildings  NumberofFloors  PropertyGFATotal  \\\n",
       "3022       2000                1.0               2             30562   \n",
       "2144       1926                1.0               1             20460   \n",
       "1158       1927                1.0               2             33840   \n",
       "308        2001                1.0               6            378443   \n",
       "436        2009                1.0               4            291176   \n",
       "...         ...                ...             ...               ...   \n",
       "596        1969                1.0               1             55450   \n",
       "1878       2000                1.0               3             57132   \n",
       "235        2003                1.0               8            199530   \n",
       "3109       1965                1.0               1             24697   \n",
       "934        1993                1.0               3             28572   \n",
       "\n",
       "      PropertyGFAParking  PropertyGFABuilding(s)      LargestPropertyUseType  \\\n",
       "3022                   0                   30562                 K-12 School   \n",
       "2144                   0                   20460                      Office   \n",
       "1158                   0                   33840  Non-Refrigerated Warehouse   \n",
       "308               177660                  200783                     Parking   \n",
       "436               100176                  191000                      Office   \n",
       "...                  ...                     ...                         ...   \n",
       "596                    0                   55450  Non-Refrigerated Warehouse   \n",
       "1878               21908                   35224                      Office   \n",
       "235                30660                  168870                      Office   \n",
       "3109                   0                   24697                     Library   \n",
       "934                    0                   28572    Residence Hall/Dormitory   \n",
       "\n",
       "      LargestPropertyUseTypeGFA SecondLargestPropertyUseType  \\\n",
       "3022                    30562.0                          NaN   \n",
       "2144                    20460.0                          NaN   \n",
       "1158                    18740.0                       Office   \n",
       "308                    164332.0                       Office   \n",
       "436                    194674.0                      Parking   \n",
       "...                         ...                          ...   \n",
       "596                     34206.0                       Office   \n",
       "1878                    33705.0                      Parking   \n",
       "235                    160418.0                      Parking   \n",
       "3109                    15300.0             Other - Services   \n",
       "934                     22000.0                      Parking   \n",
       "\n",
       "      SecondLargestPropertyUseTypeGFA ThirdLargestPropertyUseType  \\\n",
       "3022                              NaN                         NaN   \n",
       "2144                              NaN                         NaN   \n",
       "1158                          13660.0                Retail Store   \n",
       "308                          108781.0                 Data Center   \n",
       "436                          111198.0                         NaN   \n",
       "...                               ...                         ...   \n",
       "596                           21244.0                         NaN   \n",
       "1878                          21908.0                         NaN   \n",
       "235                           18590.0                       Other   \n",
       "3109                           4717.0                         NaN   \n",
       "934                            7000.0                         NaN   \n",
       "\n",
       "      ThirdLargestPropertyUseTypeGFA  ENERGYSTARScore  SiteEUI(kBtu/sf)  \\\n",
       "3022                             NaN             69.0         53.099998   \n",
       "2144                             NaN             16.0         44.200001   \n",
       "1158                          1440.0              NaN         65.800003   \n",
       "308                          54184.0            100.0        283.700012   \n",
       "436                              NaN             98.0         34.200001   \n",
       "...                              ...              ...               ...   \n",
       "596                              NaN             31.0         78.400002   \n",
       "1878                             NaN             73.0         59.200001   \n",
       "235                          17480.0             69.0         73.199997   \n",
       "3109                             NaN              NaN         64.699997   \n",
       "934                              NaN             16.0        123.500000   \n",
       "\n",
       "      SiteEUIWN(kBtu/sf)  SourceEUI(kBtu/sf)  SourceEUIWN(kBtu/sf)  \\\n",
       "3022           59.700001          100.800003            107.800003   \n",
       "2144           44.200001          138.699997            138.699997   \n",
       "1158           69.099998          146.000000            149.500000   \n",
       "308           283.700012          874.099976            874.099976   \n",
       "436            34.200001          106.599998            106.599998   \n",
       "...                  ...                 ...                   ...   \n",
       "596            87.300003          163.300003            171.399994   \n",
       "1878           59.200001          185.899994            185.899994   \n",
       "235            77.400002          178.100006            181.000000   \n",
       "3109           69.699997          157.699997            162.899994   \n",
       "934           125.400002          242.500000            244.500000   \n",
       "\n",
       "      SiteEnergyUse(kBtu)  SiteEnergyUseWN(kBtu)  SteamUse(kBtu)  \\\n",
       "3022         1.622231e+06           1.824440e+06             0.0   \n",
       "2144         9.035419e+05           9.035419e+05             0.0   \n",
       "1158         2.227638e+06           2.339650e+06             0.0   \n",
       "308          5.507312e+07           5.507312e+07             0.0   \n",
       "436          6.657348e+06           6.657348e+06             0.0   \n",
       "...                   ...                    ...             ...   \n",
       "596          4.345698e+06           4.843056e+06             0.0   \n",
       "1878         1.994968e+06           1.994968e+06             0.0   \n",
       "235          1.321442e+07           1.397270e+07             0.0   \n",
       "3109         1.295686e+06           1.395016e+06             0.0   \n",
       "934          2.717863e+06           2.759012e+06             0.0   \n",
       "\n",
       "      Electricity(kWh)  Electricity(kBtu)  NaturalGas(therms)  \\\n",
       "3022      1.932738e+05           659450.0         9627.809570   \n",
       "2144      2.648129e+05           903542.0            0.000000   \n",
       "1158      3.647981e+05          1244691.0         9829.470703   \n",
       "308       1.568186e+07         53506520.0        15665.939450   \n",
       "436       1.929988e+06          6585119.0          722.283875   \n",
       "...                ...                ...                 ...   \n",
       "596       6.298935e+05          2149197.0        21965.013670   \n",
       "1878      5.846915e+05          1994967.0            0.000000   \n",
       "235       2.561244e+06          8738965.0        44754.507810   \n",
       "3109      2.517610e+05           859009.0         4366.770020   \n",
       "934       3.479411e+05          1187175.0        15306.879880   \n",
       "\n",
       "      NaturalGas(kBtu)  TotalGHGEmissions  GHGEmissionsIntensity  \\\n",
       "3022          962781.0              55.73                   1.82   \n",
       "2144               0.0               6.30                   0.31   \n",
       "1158          982947.0              60.88                   1.80   \n",
       "308          1566594.0             456.22                   1.21   \n",
       "436            72228.0              49.74                   0.17   \n",
       "...                ...                ...                    ...   \n",
       "596          2196501.0             131.64                   2.37   \n",
       "1878               0.0              13.91                   0.24   \n",
       "235          4475451.0             298.61                   1.50   \n",
       "3109          436677.0              29.18                   1.18   \n",
       "934          1530688.0              89.57                   3.13   \n",
       "\n",
       "      ElectricityGHGEmissions  SteamUseGHGEmissions  NaturalGasGHGEmissions  \n",
       "3022                 4.597332                   0.0               51.133299  \n",
       "2144                 6.299006                   0.0                0.000000  \n",
       "1158                 8.677317                   0.0               52.204315  \n",
       "308                373.018665                   0.0               83.201807  \n",
       "436                 45.907907                   0.0                3.836029  \n",
       "...                       ...                   ...                     ...  \n",
       "596                 14.983042                   0.0              116.656168  \n",
       "1878                13.907839                   0.0                0.000000  \n",
       "235                 60.923358                   0.0              237.691203  \n",
       "3109                 5.988545                   0.0               23.191915  \n",
       "934                  8.276345                   0.0               81.294840  \n",
       "\n",
       "[333 rows x 37 columns]"
      ]
     },
     "execution_count": 6,
     "metadata": {},
     "output_type": "execute_result"
    }
   ],
   "source": [
    "df_test"
   ]
  },
  {
   "cell_type": "markdown",
   "metadata": {},
   "source": [
    "# Première approche du problème : conservation d'un grand nombre de variables"
   ]
  },
  {
   "cell_type": "markdown",
   "metadata": {},
   "source": [
    "## Variables prédites"
   ]
  },
  {
   "cell_type": "markdown",
   "metadata": {},
   "source": [
    "La demande de Douglas est de prédire la variable : 'SiteEnergyUse(kBtu)'.\n",
    "Cependant, nous travaillerons dans un premier temps sur la prévision de :  'SiteEUI(kBtu/sf)',  \n",
    "qui a une relation plus \"linéaire\" avec les autres variables descriptives. "
   ]
  },
  {
   "cell_type": "markdown",
   "metadata": {},
   "source": [
    "## Variables explicatives retenues pour la modélisation"
   ]
  },
  {
   "cell_type": "markdown",
   "metadata": {
    "ExecuteTime": {
     "end_time": "2021-07-09T12:33:52.770506Z",
     "start_time": "2021-07-09T12:33:52.762506Z"
    }
   },
   "source": [
    "A ce stade, les df contiennent les variables suivantes :"
   ]
  },
  {
   "cell_type": "code",
   "execution_count": 7,
   "metadata": {
    "ExecuteTime": {
     "end_time": "2021-07-16T15:35:11.785579Z",
     "start_time": "2021-07-16T15:35:11.781579Z"
    }
   },
   "outputs": [
    {
     "data": {
      "text/plain": [
       "['OSEBuildingID',\n",
       " 'BuildingType',\n",
       " 'PrimaryPropertyType',\n",
       " 'ZipCode',\n",
       " 'CouncilDistrictCode',\n",
       " 'Neighborhood',\n",
       " 'Latitude',\n",
       " 'Longitude',\n",
       " 'YearBuilt',\n",
       " 'NumberofBuildings',\n",
       " 'NumberofFloors',\n",
       " 'PropertyGFATotal',\n",
       " 'PropertyGFAParking',\n",
       " 'PropertyGFABuilding(s)',\n",
       " 'LargestPropertyUseType',\n",
       " 'LargestPropertyUseTypeGFA',\n",
       " 'SecondLargestPropertyUseType',\n",
       " 'SecondLargestPropertyUseTypeGFA',\n",
       " 'ThirdLargestPropertyUseType',\n",
       " 'ThirdLargestPropertyUseTypeGFA',\n",
       " 'ENERGYSTARScore',\n",
       " 'SiteEUI(kBtu/sf)',\n",
       " 'SiteEUIWN(kBtu/sf)',\n",
       " 'SourceEUI(kBtu/sf)',\n",
       " 'SourceEUIWN(kBtu/sf)',\n",
       " 'SiteEnergyUse(kBtu)',\n",
       " 'SiteEnergyUseWN(kBtu)',\n",
       " 'SteamUse(kBtu)',\n",
       " 'Electricity(kWh)',\n",
       " 'Electricity(kBtu)',\n",
       " 'NaturalGas(therms)',\n",
       " 'NaturalGas(kBtu)',\n",
       " 'TotalGHGEmissions',\n",
       " 'GHGEmissionsIntensity',\n",
       " 'ElectricityGHGEmissions',\n",
       " 'SteamUseGHGEmissions',\n",
       " 'NaturalGasGHGEmissions']"
      ]
     },
     "execution_count": 7,
     "metadata": {},
     "output_type": "execute_result"
    }
   ],
   "source": [
    "list(df_train.columns)"
   ]
  },
  {
   "cell_type": "markdown",
   "metadata": {},
   "source": [
    "La demande de Douglas est de prédire les variables :  \n",
    "    - 'SiteEnergyUse(kBtu)',  \n",
    "    - 'TotalGHGEmissions',  \n",
    "cependant, nous travaillerons plutôt sur la prévision de :  \n",
    "    - 'SiteEUI(kBtu/sf)',  \n",
    "    - 'GHGEmissionsIntensity',  \n",
    "qui ont un lien plus \"linéaire\" avec les autres variables descriptives. "
   ]
  },
  {
   "cell_type": "markdown",
   "metadata": {
    "ExecuteTime": {
     "end_time": "2021-07-09T12:35:10.116450Z",
     "start_time": "2021-07-09T12:35:10.109449Z"
    }
   },
   "source": [
    "Les variables explicatives retenues pour la modélisation sont les suivantes :"
   ]
  },
  {
   "cell_type": "code",
   "execution_count": 8,
   "metadata": {
    "ExecuteTime": {
     "end_time": "2021-07-16T15:35:11.791579Z",
     "start_time": "2021-07-16T15:35:11.787579Z"
    }
   },
   "outputs": [],
   "source": [
    "liste_variables_pour_modelisation =[\n",
    "    'BuildingType', \n",
    "    'PrimaryPropertyType', \n",
    "    'ZipCode',\n",
    "    'CouncilDistrictCode', \n",
    "    'Neighborhood', \n",
    "    'Latitude', \n",
    "    'Longitude',\n",
    "    'YearBuilt', \n",
    "    'NumberofBuildings', \n",
    "    'NumberofFloors', \n",
    "#     'PropertyGFATotal',    exclu car donnée extensive\n",
    "#     'PropertyGFAParking',    exclu car donnée extensive\n",
    "#     'PropertyGFABuilding(s)',  exclu car donnée extensive\n",
    "    'LargestPropertyUseType',\n",
    "#     'LargestPropertyUseTypeGFA',  exclu car donnée extensive\n",
    "    'SecondLargestPropertyUseType', \n",
    "#     'SecondLargestPropertyUseTypeGFA',  exclu car donnée extensive\n",
    "    'ThirdLargestPropertyUseType', \n",
    "#     'ThirdLargestPropertyUseTypeGFA',  exclu car donnée extensive\n",
    "#     'ENERGYSTARScore', exclu car non disponibles dans le permis d'exploitation commerciale \n",
    "#     'SiteEUI(kBtu/sf)', exclu car non disponibles dans le permis d'exploitation commerciale \n",
    "#     'SiteEUIWN(kBtu/sf)', exclu car non disponibles dans le permis d'exploitation commerciale \n",
    "#     'SourceEUI(kBtu/sf)', exclu car non disponibles dans le permis d'exploitation commerciale \n",
    "#     'SourceEUIWN(kBtu/sf)', exclu car non disponibles dans le permis d'exploitation commerciale \n",
    "#     'SiteEnergyUse(kBtu)', exclu car non disponibles dans le permis d'exploitation commerciale \n",
    "#     'SiteEnergyUseWN(kBtu)', exclu car non disponibles dans le permis d'exploitation commerciale \n",
    "#     'SteamUse(kBtu)', exclu car non disponibles dans le permis d'exploitation commerciale \n",
    "#     'Electricity(kWh)',exclu car non disponibles dans le permis d'exploitation commerciale \n",
    "#     'Electricity(kBtu)', exclu car non disponibles dans le permis d'exploitation commerciale \n",
    "#     'NaturalGas(therms)', exclu car non disponibles dans le permis d'exploitation commerciale \n",
    "#     'NaturalGas(kBtu)',exclu car non disponibles dans le permis d'exploitation commerciale \n",
    "#     'TotalGHGEmissions', exclu car non disponibles dans le permis d'exploitation commerciale \n",
    "#     'GHGEmissionsIntensity', variable à prédire\n",
    "    ]"
   ]
  },
  {
   "cell_type": "markdown",
   "metadata": {},
   "source": [
    "## Séparation des variables explicatives et variable à prédire"
   ]
  },
  {
   "cell_type": "markdown",
   "metadata": {},
   "source": [
    "##### Suppression des lignes pour lesquelles la variable à prédire 'SiteEUI(kBtu/sf)' n'est pas renseignée"
   ]
  },
  {
   "cell_type": "code",
   "execution_count": 9,
   "metadata": {
    "ExecuteTime": {
     "end_time": "2021-07-16T15:35:11.813580Z",
     "start_time": "2021-07-16T15:35:11.793579Z"
    }
   },
   "outputs": [
    {
     "data": {
      "text/plain": [
       "1319"
      ]
     },
     "execution_count": 9,
     "metadata": {},
     "output_type": "execute_result"
    }
   ],
   "source": [
    "df_train = df_train.dropna(subset=['SiteEUI(kBtu/sf)']).copy()\n",
    "df_test = df_test.dropna(subset=['SiteEUI(kBtu/sf)']).copy()\n",
    "len(df_train)"
   ]
  },
  {
   "cell_type": "markdown",
   "metadata": {},
   "source": [
    "##### Variables explicatives :"
   ]
  },
  {
   "cell_type": "code",
   "execution_count": 10,
   "metadata": {
    "ExecuteTime": {
     "end_time": "2021-07-16T15:35:11.818581Z",
     "start_time": "2021-07-16T15:35:11.814581Z"
    }
   },
   "outputs": [],
   "source": [
    "X_train_EUI = df_train[liste_variables_pour_modelisation].copy()\n",
    "X_test_EUI = df_test[liste_variables_pour_modelisation].copy()"
   ]
  },
  {
   "cell_type": "markdown",
   "metadata": {},
   "source": [
    "##### Variable à prédire :"
   ]
  },
  {
   "cell_type": "code",
   "execution_count": 11,
   "metadata": {
    "ExecuteTime": {
     "end_time": "2021-07-16T15:35:11.823581Z",
     "start_time": "2021-07-16T15:35:11.819581Z"
    }
   },
   "outputs": [],
   "source": [
    "y_train_EUI = df_train[['SiteEUI(kBtu/sf)']].copy()\n",
    "y_test_EUI = df_test[['SiteEUI(kBtu/sf)']].copy()"
   ]
  },
  {
   "cell_type": "code",
   "execution_count": 12,
   "metadata": {
    "ExecuteTime": {
     "end_time": "2021-07-16T15:35:11.853583Z",
     "start_time": "2021-07-16T15:35:11.825581Z"
    }
   },
   "outputs": [
    {
     "data": {
      "text/html": [
       "<div>\n",
       "<style scoped>\n",
       "    .dataframe tbody tr th:only-of-type {\n",
       "        vertical-align: middle;\n",
       "    }\n",
       "\n",
       "    .dataframe tbody tr th {\n",
       "        vertical-align: top;\n",
       "    }\n",
       "\n",
       "    .dataframe thead th {\n",
       "        text-align: right;\n",
       "    }\n",
       "</style>\n",
       "<table border=\"1\" class=\"dataframe\">\n",
       "  <thead>\n",
       "    <tr style=\"text-align: right;\">\n",
       "      <th></th>\n",
       "      <th>BuildingType</th>\n",
       "      <th>PrimaryPropertyType</th>\n",
       "      <th>ZipCode</th>\n",
       "      <th>CouncilDistrictCode</th>\n",
       "      <th>Neighborhood</th>\n",
       "      <th>Latitude</th>\n",
       "      <th>Longitude</th>\n",
       "      <th>YearBuilt</th>\n",
       "      <th>NumberofBuildings</th>\n",
       "      <th>NumberofFloors</th>\n",
       "      <th>LargestPropertyUseType</th>\n",
       "      <th>SecondLargestPropertyUseType</th>\n",
       "      <th>ThirdLargestPropertyUseType</th>\n",
       "    </tr>\n",
       "  </thead>\n",
       "  <tbody>\n",
       "    <tr>\n",
       "      <th>2447</th>\n",
       "      <td>NonResidential</td>\n",
       "      <td>Retail Store</td>\n",
       "      <td>98122.0</td>\n",
       "      <td>3</td>\n",
       "      <td>EAST</td>\n",
       "      <td>47.61478</td>\n",
       "      <td>-122.31847</td>\n",
       "      <td>1916</td>\n",
       "      <td>1.0</td>\n",
       "      <td>2</td>\n",
       "      <td>Retail Store</td>\n",
       "      <td>NaN</td>\n",
       "      <td>NaN</td>\n",
       "    </tr>\n",
       "    <tr>\n",
       "      <th>2559</th>\n",
       "      <td>NonResidential</td>\n",
       "      <td>K-12 School</td>\n",
       "      <td>98133.0</td>\n",
       "      <td>5</td>\n",
       "      <td>NORTHWEST</td>\n",
       "      <td>47.71387</td>\n",
       "      <td>-122.35350</td>\n",
       "      <td>1938</td>\n",
       "      <td>1.0</td>\n",
       "      <td>2</td>\n",
       "      <td>K-12 School</td>\n",
       "      <td>NaN</td>\n",
       "      <td>NaN</td>\n",
       "    </tr>\n",
       "    <tr>\n",
       "      <th>137</th>\n",
       "      <td>SPS-District K-12</td>\n",
       "      <td>K-12 School</td>\n",
       "      <td>98126.0</td>\n",
       "      <td>1</td>\n",
       "      <td>DELRIDGE</td>\n",
       "      <td>47.52915</td>\n",
       "      <td>-122.36511</td>\n",
       "      <td>2010</td>\n",
       "      <td>1.0</td>\n",
       "      <td>2</td>\n",
       "      <td>K-12 School</td>\n",
       "      <td>NaN</td>\n",
       "      <td>NaN</td>\n",
       "    </tr>\n",
       "    <tr>\n",
       "      <th>1969</th>\n",
       "      <td>Nonresidential COS</td>\n",
       "      <td>Warehouse</td>\n",
       "      <td>98134.0</td>\n",
       "      <td>2</td>\n",
       "      <td>GREATER DUWAMISH</td>\n",
       "      <td>47.58290</td>\n",
       "      <td>-122.32417</td>\n",
       "      <td>1985</td>\n",
       "      <td>1.0</td>\n",
       "      <td>1</td>\n",
       "      <td>Non-Refrigerated Warehouse</td>\n",
       "      <td>Other</td>\n",
       "      <td>NaN</td>\n",
       "    </tr>\n",
       "    <tr>\n",
       "      <th>446</th>\n",
       "      <td>NonResidential</td>\n",
       "      <td>Other</td>\n",
       "      <td>98121.0</td>\n",
       "      <td>7</td>\n",
       "      <td>DOWNTOWN</td>\n",
       "      <td>47.61530</td>\n",
       "      <td>-122.35014</td>\n",
       "      <td>1946</td>\n",
       "      <td>1.0</td>\n",
       "      <td>1</td>\n",
       "      <td>Other</td>\n",
       "      <td>Office</td>\n",
       "      <td>NaN</td>\n",
       "    </tr>\n",
       "    <tr>\n",
       "      <th>...</th>\n",
       "      <td>...</td>\n",
       "      <td>...</td>\n",
       "      <td>...</td>\n",
       "      <td>...</td>\n",
       "      <td>...</td>\n",
       "      <td>...</td>\n",
       "      <td>...</td>\n",
       "      <td>...</td>\n",
       "      <td>...</td>\n",
       "      <td>...</td>\n",
       "      <td>...</td>\n",
       "      <td>...</td>\n",
       "      <td>...</td>\n",
       "    </tr>\n",
       "    <tr>\n",
       "      <th>277</th>\n",
       "      <td>NonResidential</td>\n",
       "      <td>Large Office</td>\n",
       "      <td>98101.0</td>\n",
       "      <td>7</td>\n",
       "      <td>DOWNTOWN</td>\n",
       "      <td>47.61125</td>\n",
       "      <td>-122.33494</td>\n",
       "      <td>1983</td>\n",
       "      <td>1.0</td>\n",
       "      <td>29</td>\n",
       "      <td>Office</td>\n",
       "      <td>Parking</td>\n",
       "      <td>Retail Store</td>\n",
       "    </tr>\n",
       "    <tr>\n",
       "      <th>1033</th>\n",
       "      <td>NonResidential</td>\n",
       "      <td>Supermarket / Grocery Store</td>\n",
       "      <td>98109.0</td>\n",
       "      <td>7</td>\n",
       "      <td>MAGNOLIA / QUEEN ANNE</td>\n",
       "      <td>47.63776</td>\n",
       "      <td>-122.35606</td>\n",
       "      <td>1962</td>\n",
       "      <td>1.0</td>\n",
       "      <td>1</td>\n",
       "      <td>Supermarket/Grocery Store</td>\n",
       "      <td>Parking</td>\n",
       "      <td>NaN</td>\n",
       "    </tr>\n",
       "    <tr>\n",
       "      <th>3264</th>\n",
       "      <td>NonResidential</td>\n",
       "      <td>Hospital</td>\n",
       "      <td>98101.0</td>\n",
       "      <td>3</td>\n",
       "      <td>EAST</td>\n",
       "      <td>47.60986</td>\n",
       "      <td>-122.32774</td>\n",
       "      <td>1920</td>\n",
       "      <td>1.0</td>\n",
       "      <td>8</td>\n",
       "      <td>Hospital (General Medical &amp; Surgical)</td>\n",
       "      <td>NaN</td>\n",
       "      <td>NaN</td>\n",
       "    </tr>\n",
       "    <tr>\n",
       "      <th>1653</th>\n",
       "      <td>NonResidential</td>\n",
       "      <td>Mixed Use Property</td>\n",
       "      <td>98125.0</td>\n",
       "      <td>5</td>\n",
       "      <td>North</td>\n",
       "      <td>47.70983</td>\n",
       "      <td>-122.31865</td>\n",
       "      <td>1952</td>\n",
       "      <td>1.0</td>\n",
       "      <td>2</td>\n",
       "      <td>Non-Refrigerated Warehouse</td>\n",
       "      <td>Retail Store</td>\n",
       "      <td>Office</td>\n",
       "    </tr>\n",
       "    <tr>\n",
       "      <th>2607</th>\n",
       "      <td>NonResidential</td>\n",
       "      <td>Other</td>\n",
       "      <td>98134.0</td>\n",
       "      <td>2</td>\n",
       "      <td>GREATER DUWAMISH</td>\n",
       "      <td>47.56610</td>\n",
       "      <td>-122.33358</td>\n",
       "      <td>1946</td>\n",
       "      <td>1.0</td>\n",
       "      <td>2</td>\n",
       "      <td>Other - Entertainment/Public Assembly</td>\n",
       "      <td>NaN</td>\n",
       "      <td>NaN</td>\n",
       "    </tr>\n",
       "  </tbody>\n",
       "</table>\n",
       "<p>1319 rows × 13 columns</p>\n",
       "</div>"
      ],
      "text/plain": [
       "            BuildingType          PrimaryPropertyType  ZipCode  \\\n",
       "2447      NonResidential                 Retail Store  98122.0   \n",
       "2559      NonResidential                  K-12 School  98133.0   \n",
       "137    SPS-District K-12                  K-12 School  98126.0   \n",
       "1969  Nonresidential COS                    Warehouse  98134.0   \n",
       "446       NonResidential                        Other  98121.0   \n",
       "...                  ...                          ...      ...   \n",
       "277       NonResidential                 Large Office  98101.0   \n",
       "1033      NonResidential  Supermarket / Grocery Store  98109.0   \n",
       "3264      NonResidential                     Hospital  98101.0   \n",
       "1653      NonResidential           Mixed Use Property  98125.0   \n",
       "2607      NonResidential                        Other  98134.0   \n",
       "\n",
       "      CouncilDistrictCode           Neighborhood  Latitude  Longitude  \\\n",
       "2447                    3                   EAST  47.61478 -122.31847   \n",
       "2559                    5              NORTHWEST  47.71387 -122.35350   \n",
       "137                     1               DELRIDGE  47.52915 -122.36511   \n",
       "1969                    2       GREATER DUWAMISH  47.58290 -122.32417   \n",
       "446                     7               DOWNTOWN  47.61530 -122.35014   \n",
       "...                   ...                    ...       ...        ...   \n",
       "277                     7               DOWNTOWN  47.61125 -122.33494   \n",
       "1033                    7  MAGNOLIA / QUEEN ANNE  47.63776 -122.35606   \n",
       "3264                    3                   EAST  47.60986 -122.32774   \n",
       "1653                    5                  North  47.70983 -122.31865   \n",
       "2607                    2       GREATER DUWAMISH  47.56610 -122.33358   \n",
       "\n",
       "      YearBuilt  NumberofBuildings  NumberofFloors  \\\n",
       "2447       1916                1.0               2   \n",
       "2559       1938                1.0               2   \n",
       "137        2010                1.0               2   \n",
       "1969       1985                1.0               1   \n",
       "446        1946                1.0               1   \n",
       "...         ...                ...             ...   \n",
       "277        1983                1.0              29   \n",
       "1033       1962                1.0               1   \n",
       "3264       1920                1.0               8   \n",
       "1653       1952                1.0               2   \n",
       "2607       1946                1.0               2   \n",
       "\n",
       "                     LargestPropertyUseType SecondLargestPropertyUseType  \\\n",
       "2447                           Retail Store                          NaN   \n",
       "2559                            K-12 School                          NaN   \n",
       "137                             K-12 School                          NaN   \n",
       "1969             Non-Refrigerated Warehouse                        Other   \n",
       "446                                   Other                       Office   \n",
       "...                                     ...                          ...   \n",
       "277                                  Office                      Parking   \n",
       "1033              Supermarket/Grocery Store                      Parking   \n",
       "3264  Hospital (General Medical & Surgical)                          NaN   \n",
       "1653             Non-Refrigerated Warehouse                 Retail Store   \n",
       "2607  Other - Entertainment/Public Assembly                          NaN   \n",
       "\n",
       "     ThirdLargestPropertyUseType  \n",
       "2447                         NaN  \n",
       "2559                         NaN  \n",
       "137                          NaN  \n",
       "1969                         NaN  \n",
       "446                          NaN  \n",
       "...                          ...  \n",
       "277                 Retail Store  \n",
       "1033                         NaN  \n",
       "3264                         NaN  \n",
       "1653                      Office  \n",
       "2607                         NaN  \n",
       "\n",
       "[1319 rows x 13 columns]"
      ]
     },
     "execution_count": 12,
     "metadata": {},
     "output_type": "execute_result"
    }
   ],
   "source": [
    "X_train_EUI"
   ]
  },
  {
   "cell_type": "code",
   "execution_count": 13,
   "metadata": {
    "ExecuteTime": {
     "end_time": "2021-07-16T15:35:11.877584Z",
     "start_time": "2021-07-16T15:35:11.854583Z"
    }
   },
   "outputs": [
    {
     "data": {
      "text/html": [
       "<div>\n",
       "<style scoped>\n",
       "    .dataframe tbody tr th:only-of-type {\n",
       "        vertical-align: middle;\n",
       "    }\n",
       "\n",
       "    .dataframe tbody tr th {\n",
       "        vertical-align: top;\n",
       "    }\n",
       "\n",
       "    .dataframe thead th {\n",
       "        text-align: right;\n",
       "    }\n",
       "</style>\n",
       "<table border=\"1\" class=\"dataframe\">\n",
       "  <thead>\n",
       "    <tr style=\"text-align: right;\">\n",
       "      <th></th>\n",
       "      <th>BuildingType</th>\n",
       "      <th>PrimaryPropertyType</th>\n",
       "      <th>ZipCode</th>\n",
       "      <th>CouncilDistrictCode</th>\n",
       "      <th>Neighborhood</th>\n",
       "      <th>Latitude</th>\n",
       "      <th>Longitude</th>\n",
       "      <th>YearBuilt</th>\n",
       "      <th>NumberofBuildings</th>\n",
       "      <th>NumberofFloors</th>\n",
       "      <th>LargestPropertyUseType</th>\n",
       "      <th>SecondLargestPropertyUseType</th>\n",
       "      <th>ThirdLargestPropertyUseType</th>\n",
       "    </tr>\n",
       "  </thead>\n",
       "  <tbody>\n",
       "    <tr>\n",
       "      <th>3022</th>\n",
       "      <td>Campus</td>\n",
       "      <td>K-12 School</td>\n",
       "      <td>98112.0</td>\n",
       "      <td>3</td>\n",
       "      <td>CENTRAL</td>\n",
       "      <td>47.62291</td>\n",
       "      <td>-122.28879</td>\n",
       "      <td>2000</td>\n",
       "      <td>1.0</td>\n",
       "      <td>2</td>\n",
       "      <td>K-12 School</td>\n",
       "      <td>NaN</td>\n",
       "      <td>NaN</td>\n",
       "    </tr>\n",
       "    <tr>\n",
       "      <th>2144</th>\n",
       "      <td>NonResidential</td>\n",
       "      <td>Small- and Mid-Sized Office</td>\n",
       "      <td>98134.0</td>\n",
       "      <td>2</td>\n",
       "      <td>GREATER DUWAMISH</td>\n",
       "      <td>47.57893</td>\n",
       "      <td>-122.33374</td>\n",
       "      <td>1926</td>\n",
       "      <td>1.0</td>\n",
       "      <td>1</td>\n",
       "      <td>Office</td>\n",
       "      <td>NaN</td>\n",
       "      <td>NaN</td>\n",
       "    </tr>\n",
       "    <tr>\n",
       "      <th>1158</th>\n",
       "      <td>NonResidential</td>\n",
       "      <td>Warehouse</td>\n",
       "      <td>98103.0</td>\n",
       "      <td>6</td>\n",
       "      <td>LAKE UNION</td>\n",
       "      <td>47.64965</td>\n",
       "      <td>-122.34913</td>\n",
       "      <td>1927</td>\n",
       "      <td>1.0</td>\n",
       "      <td>2</td>\n",
       "      <td>Non-Refrigerated Warehouse</td>\n",
       "      <td>Office</td>\n",
       "      <td>Retail Store</td>\n",
       "    </tr>\n",
       "    <tr>\n",
       "      <th>308</th>\n",
       "      <td>NonResidential</td>\n",
       "      <td>Mixed Use Property</td>\n",
       "      <td>98109.0</td>\n",
       "      <td>7</td>\n",
       "      <td>LAKE UNION</td>\n",
       "      <td>47.61915</td>\n",
       "      <td>-122.34857</td>\n",
       "      <td>2001</td>\n",
       "      <td>1.0</td>\n",
       "      <td>6</td>\n",
       "      <td>Parking</td>\n",
       "      <td>Office</td>\n",
       "      <td>Data Center</td>\n",
       "    </tr>\n",
       "    <tr>\n",
       "      <th>436</th>\n",
       "      <td>NonResidential</td>\n",
       "      <td>Large Office</td>\n",
       "      <td>98119.0</td>\n",
       "      <td>7</td>\n",
       "      <td>MAGNOLIA / QUEEN ANNE</td>\n",
       "      <td>47.62520</td>\n",
       "      <td>-122.36737</td>\n",
       "      <td>2009</td>\n",
       "      <td>1.0</td>\n",
       "      <td>4</td>\n",
       "      <td>Office</td>\n",
       "      <td>Parking</td>\n",
       "      <td>NaN</td>\n",
       "    </tr>\n",
       "    <tr>\n",
       "      <th>...</th>\n",
       "      <td>...</td>\n",
       "      <td>...</td>\n",
       "      <td>...</td>\n",
       "      <td>...</td>\n",
       "      <td>...</td>\n",
       "      <td>...</td>\n",
       "      <td>...</td>\n",
       "      <td>...</td>\n",
       "      <td>...</td>\n",
       "      <td>...</td>\n",
       "      <td>...</td>\n",
       "      <td>...</td>\n",
       "      <td>...</td>\n",
       "    </tr>\n",
       "    <tr>\n",
       "      <th>596</th>\n",
       "      <td>NonResidential</td>\n",
       "      <td>Warehouse</td>\n",
       "      <td>98108.0</td>\n",
       "      <td>1</td>\n",
       "      <td>GREATER DUWAMISH</td>\n",
       "      <td>47.53628</td>\n",
       "      <td>-122.33290</td>\n",
       "      <td>1969</td>\n",
       "      <td>1.0</td>\n",
       "      <td>1</td>\n",
       "      <td>Non-Refrigerated Warehouse</td>\n",
       "      <td>Office</td>\n",
       "      <td>NaN</td>\n",
       "    </tr>\n",
       "    <tr>\n",
       "      <th>1878</th>\n",
       "      <td>NonResidential</td>\n",
       "      <td>Small- and Mid-Sized Office</td>\n",
       "      <td>98102.0</td>\n",
       "      <td>4</td>\n",
       "      <td>LAKE UNION</td>\n",
       "      <td>47.64113</td>\n",
       "      <td>-122.32625</td>\n",
       "      <td>2000</td>\n",
       "      <td>1.0</td>\n",
       "      <td>3</td>\n",
       "      <td>Office</td>\n",
       "      <td>Parking</td>\n",
       "      <td>NaN</td>\n",
       "    </tr>\n",
       "    <tr>\n",
       "      <th>235</th>\n",
       "      <td>Nonresidential COS</td>\n",
       "      <td>Large Office</td>\n",
       "      <td>98104.0</td>\n",
       "      <td>7</td>\n",
       "      <td>DOWNTOWN</td>\n",
       "      <td>47.60377</td>\n",
       "      <td>-122.32971</td>\n",
       "      <td>2003</td>\n",
       "      <td>1.0</td>\n",
       "      <td>8</td>\n",
       "      <td>Office</td>\n",
       "      <td>Parking</td>\n",
       "      <td>Other</td>\n",
       "    </tr>\n",
       "    <tr>\n",
       "      <th>3109</th>\n",
       "      <td>Nonresidential COS</td>\n",
       "      <td>Other</td>\n",
       "      <td>98125.0</td>\n",
       "      <td>5</td>\n",
       "      <td>NORTH</td>\n",
       "      <td>47.71986</td>\n",
       "      <td>-122.29809</td>\n",
       "      <td>1965</td>\n",
       "      <td>1.0</td>\n",
       "      <td>1</td>\n",
       "      <td>Library</td>\n",
       "      <td>Other - Services</td>\n",
       "      <td>NaN</td>\n",
       "    </tr>\n",
       "    <tr>\n",
       "      <th>934</th>\n",
       "      <td>NonResidential</td>\n",
       "      <td>Residence Hall</td>\n",
       "      <td>98105.0</td>\n",
       "      <td>4</td>\n",
       "      <td>NORTHEAST</td>\n",
       "      <td>47.65711</td>\n",
       "      <td>-122.31409</td>\n",
       "      <td>1993</td>\n",
       "      <td>1.0</td>\n",
       "      <td>3</td>\n",
       "      <td>Residence Hall/Dormitory</td>\n",
       "      <td>Parking</td>\n",
       "      <td>NaN</td>\n",
       "    </tr>\n",
       "  </tbody>\n",
       "</table>\n",
       "<p>331 rows × 13 columns</p>\n",
       "</div>"
      ],
      "text/plain": [
       "            BuildingType          PrimaryPropertyType  ZipCode  \\\n",
       "3022              Campus                  K-12 School  98112.0   \n",
       "2144      NonResidential  Small- and Mid-Sized Office  98134.0   \n",
       "1158      NonResidential                    Warehouse  98103.0   \n",
       "308       NonResidential           Mixed Use Property  98109.0   \n",
       "436       NonResidential                 Large Office  98119.0   \n",
       "...                  ...                          ...      ...   \n",
       "596       NonResidential                    Warehouse  98108.0   \n",
       "1878      NonResidential  Small- and Mid-Sized Office  98102.0   \n",
       "235   Nonresidential COS                 Large Office  98104.0   \n",
       "3109  Nonresidential COS                        Other  98125.0   \n",
       "934       NonResidential               Residence Hall  98105.0   \n",
       "\n",
       "      CouncilDistrictCode           Neighborhood  Latitude  Longitude  \\\n",
       "3022                    3                CENTRAL  47.62291 -122.28879   \n",
       "2144                    2       GREATER DUWAMISH  47.57893 -122.33374   \n",
       "1158                    6             LAKE UNION  47.64965 -122.34913   \n",
       "308                     7             LAKE UNION  47.61915 -122.34857   \n",
       "436                     7  MAGNOLIA / QUEEN ANNE  47.62520 -122.36737   \n",
       "...                   ...                    ...       ...        ...   \n",
       "596                     1       GREATER DUWAMISH  47.53628 -122.33290   \n",
       "1878                    4             LAKE UNION  47.64113 -122.32625   \n",
       "235                     7               DOWNTOWN  47.60377 -122.32971   \n",
       "3109                    5                  NORTH  47.71986 -122.29809   \n",
       "934                     4              NORTHEAST  47.65711 -122.31409   \n",
       "\n",
       "      YearBuilt  NumberofBuildings  NumberofFloors  \\\n",
       "3022       2000                1.0               2   \n",
       "2144       1926                1.0               1   \n",
       "1158       1927                1.0               2   \n",
       "308        2001                1.0               6   \n",
       "436        2009                1.0               4   \n",
       "...         ...                ...             ...   \n",
       "596        1969                1.0               1   \n",
       "1878       2000                1.0               3   \n",
       "235        2003                1.0               8   \n",
       "3109       1965                1.0               1   \n",
       "934        1993                1.0               3   \n",
       "\n",
       "          LargestPropertyUseType SecondLargestPropertyUseType  \\\n",
       "3022                 K-12 School                          NaN   \n",
       "2144                      Office                          NaN   \n",
       "1158  Non-Refrigerated Warehouse                       Office   \n",
       "308                      Parking                       Office   \n",
       "436                       Office                      Parking   \n",
       "...                          ...                          ...   \n",
       "596   Non-Refrigerated Warehouse                       Office   \n",
       "1878                      Office                      Parking   \n",
       "235                       Office                      Parking   \n",
       "3109                     Library             Other - Services   \n",
       "934     Residence Hall/Dormitory                      Parking   \n",
       "\n",
       "     ThirdLargestPropertyUseType  \n",
       "3022                         NaN  \n",
       "2144                         NaN  \n",
       "1158                Retail Store  \n",
       "308                  Data Center  \n",
       "436                          NaN  \n",
       "...                          ...  \n",
       "596                          NaN  \n",
       "1878                         NaN  \n",
       "235                        Other  \n",
       "3109                         NaN  \n",
       "934                          NaN  \n",
       "\n",
       "[331 rows x 13 columns]"
      ]
     },
     "execution_count": 13,
     "metadata": {},
     "output_type": "execute_result"
    }
   ],
   "source": [
    "X_test_EUI"
   ]
  },
  {
   "cell_type": "code",
   "execution_count": 14,
   "metadata": {
    "ExecuteTime": {
     "end_time": "2021-07-16T15:35:11.885585Z",
     "start_time": "2021-07-16T15:35:11.878584Z"
    }
   },
   "outputs": [
    {
     "data": {
      "text/html": [
       "<div>\n",
       "<style scoped>\n",
       "    .dataframe tbody tr th:only-of-type {\n",
       "        vertical-align: middle;\n",
       "    }\n",
       "\n",
       "    .dataframe tbody tr th {\n",
       "        vertical-align: top;\n",
       "    }\n",
       "\n",
       "    .dataframe thead th {\n",
       "        text-align: right;\n",
       "    }\n",
       "</style>\n",
       "<table border=\"1\" class=\"dataframe\">\n",
       "  <thead>\n",
       "    <tr style=\"text-align: right;\">\n",
       "      <th></th>\n",
       "      <th>SiteEUI(kBtu/sf)</th>\n",
       "    </tr>\n",
       "  </thead>\n",
       "  <tbody>\n",
       "    <tr>\n",
       "      <th>2447</th>\n",
       "      <td>9.100000</td>\n",
       "    </tr>\n",
       "    <tr>\n",
       "      <th>2559</th>\n",
       "      <td>81.300003</td>\n",
       "    </tr>\n",
       "    <tr>\n",
       "      <th>137</th>\n",
       "      <td>33.299999</td>\n",
       "    </tr>\n",
       "    <tr>\n",
       "      <th>1969</th>\n",
       "      <td>33.500000</td>\n",
       "    </tr>\n",
       "    <tr>\n",
       "      <th>446</th>\n",
       "      <td>30.900000</td>\n",
       "    </tr>\n",
       "    <tr>\n",
       "      <th>...</th>\n",
       "      <td>...</td>\n",
       "    </tr>\n",
       "    <tr>\n",
       "      <th>277</th>\n",
       "      <td>44.299999</td>\n",
       "    </tr>\n",
       "    <tr>\n",
       "      <th>1033</th>\n",
       "      <td>344.100006</td>\n",
       "    </tr>\n",
       "    <tr>\n",
       "      <th>3264</th>\n",
       "      <td>162.300003</td>\n",
       "    </tr>\n",
       "    <tr>\n",
       "      <th>1653</th>\n",
       "      <td>53.599998</td>\n",
       "    </tr>\n",
       "    <tr>\n",
       "      <th>2607</th>\n",
       "      <td>53.900002</td>\n",
       "    </tr>\n",
       "  </tbody>\n",
       "</table>\n",
       "<p>1319 rows × 1 columns</p>\n",
       "</div>"
      ],
      "text/plain": [
       "      SiteEUI(kBtu/sf)\n",
       "2447          9.100000\n",
       "2559         81.300003\n",
       "137          33.299999\n",
       "1969         33.500000\n",
       "446          30.900000\n",
       "...                ...\n",
       "277          44.299999\n",
       "1033        344.100006\n",
       "3264        162.300003\n",
       "1653         53.599998\n",
       "2607         53.900002\n",
       "\n",
       "[1319 rows x 1 columns]"
      ]
     },
     "execution_count": 14,
     "metadata": {},
     "output_type": "execute_result"
    }
   ],
   "source": [
    "y_train_EUI"
   ]
  },
  {
   "cell_type": "code",
   "execution_count": 15,
   "metadata": {
    "ExecuteTime": {
     "end_time": "2021-07-16T15:35:11.895585Z",
     "start_time": "2021-07-16T15:35:11.886585Z"
    }
   },
   "outputs": [
    {
     "data": {
      "text/html": [
       "<div>\n",
       "<style scoped>\n",
       "    .dataframe tbody tr th:only-of-type {\n",
       "        vertical-align: middle;\n",
       "    }\n",
       "\n",
       "    .dataframe tbody tr th {\n",
       "        vertical-align: top;\n",
       "    }\n",
       "\n",
       "    .dataframe thead th {\n",
       "        text-align: right;\n",
       "    }\n",
       "</style>\n",
       "<table border=\"1\" class=\"dataframe\">\n",
       "  <thead>\n",
       "    <tr style=\"text-align: right;\">\n",
       "      <th></th>\n",
       "      <th>SiteEUI(kBtu/sf)</th>\n",
       "    </tr>\n",
       "  </thead>\n",
       "  <tbody>\n",
       "    <tr>\n",
       "      <th>3022</th>\n",
       "      <td>53.099998</td>\n",
       "    </tr>\n",
       "    <tr>\n",
       "      <th>2144</th>\n",
       "      <td>44.200001</td>\n",
       "    </tr>\n",
       "    <tr>\n",
       "      <th>1158</th>\n",
       "      <td>65.800003</td>\n",
       "    </tr>\n",
       "    <tr>\n",
       "      <th>308</th>\n",
       "      <td>283.700012</td>\n",
       "    </tr>\n",
       "    <tr>\n",
       "      <th>436</th>\n",
       "      <td>34.200001</td>\n",
       "    </tr>\n",
       "    <tr>\n",
       "      <th>...</th>\n",
       "      <td>...</td>\n",
       "    </tr>\n",
       "    <tr>\n",
       "      <th>596</th>\n",
       "      <td>78.400002</td>\n",
       "    </tr>\n",
       "    <tr>\n",
       "      <th>1878</th>\n",
       "      <td>59.200001</td>\n",
       "    </tr>\n",
       "    <tr>\n",
       "      <th>235</th>\n",
       "      <td>73.199997</td>\n",
       "    </tr>\n",
       "    <tr>\n",
       "      <th>3109</th>\n",
       "      <td>64.699997</td>\n",
       "    </tr>\n",
       "    <tr>\n",
       "      <th>934</th>\n",
       "      <td>123.500000</td>\n",
       "    </tr>\n",
       "  </tbody>\n",
       "</table>\n",
       "<p>331 rows × 1 columns</p>\n",
       "</div>"
      ],
      "text/plain": [
       "      SiteEUI(kBtu/sf)\n",
       "3022         53.099998\n",
       "2144         44.200001\n",
       "1158         65.800003\n",
       "308         283.700012\n",
       "436          34.200001\n",
       "...                ...\n",
       "596          78.400002\n",
       "1878         59.200001\n",
       "235          73.199997\n",
       "3109         64.699997\n",
       "934         123.500000\n",
       "\n",
       "[331 rows x 1 columns]"
      ]
     },
     "execution_count": 15,
     "metadata": {},
     "output_type": "execute_result"
    }
   ],
   "source": [
    "y_test_EUI"
   ]
  },
  {
   "cell_type": "markdown",
   "metadata": {},
   "source": [
    "## Imputations"
   ]
  },
  {
   "cell_type": "markdown",
   "metadata": {},
   "source": [
    "### Définition des variables quantitatives et qualitatives"
   ]
  },
  {
   "cell_type": "code",
   "execution_count": 16,
   "metadata": {
    "ExecuteTime": {
     "end_time": "2021-07-16T15:35:11.900585Z",
     "start_time": "2021-07-16T15:35:11.896585Z"
    },
    "scrolled": true
   },
   "outputs": [
    {
     "data": {
      "text/plain": [
       "['BuildingType',\n",
       " 'PrimaryPropertyType',\n",
       " 'ZipCode',\n",
       " 'CouncilDistrictCode',\n",
       " 'Neighborhood',\n",
       " 'Latitude',\n",
       " 'Longitude',\n",
       " 'YearBuilt',\n",
       " 'NumberofBuildings',\n",
       " 'NumberofFloors',\n",
       " 'LargestPropertyUseType',\n",
       " 'SecondLargestPropertyUseType',\n",
       " 'ThirdLargestPropertyUseType']"
      ]
     },
     "execution_count": 16,
     "metadata": {},
     "output_type": "execute_result"
    }
   ],
   "source": [
    "list(X_train_EUI.columns)"
   ]
  },
  {
   "cell_type": "code",
   "execution_count": 17,
   "metadata": {
    "ExecuteTime": {
     "end_time": "2021-07-16T15:35:11.905586Z",
     "start_time": "2021-07-16T15:35:11.901585Z"
    }
   },
   "outputs": [],
   "source": [
    "liste_variables_qualitatives = [\n",
    " 'BuildingType',\n",
    " 'PrimaryPropertyType',\n",
    " 'ZipCode',\n",
    " 'CouncilDistrictCode',\n",
    " 'Neighborhood',\n",
    "#  'Latitude',\n",
    "#  'Longitude',\n",
    "#  'YearBuilt',\n",
    "#  'NumberofBuildings',\n",
    "#  'NumberofFloors',\n",
    " 'LargestPropertyUseType',\n",
    " 'SecondLargestPropertyUseType',\n",
    " 'ThirdLargestPropertyUseType'\n",
    "]"
   ]
  },
  {
   "cell_type": "code",
   "execution_count": 18,
   "metadata": {
    "ExecuteTime": {
     "end_time": "2021-07-16T15:35:11.910586Z",
     "start_time": "2021-07-16T15:35:11.906586Z"
    }
   },
   "outputs": [],
   "source": [
    "liste_variables_quantitatives = [\n",
    "#  'BuildingType',\n",
    "#  'PrimaryPropertyType',\n",
    "#  'ZipCode',\n",
    "#  'CouncilDistrictCode',\n",
    "#  'Neighborhood',\n",
    " 'Latitude',\n",
    " 'Longitude',\n",
    " 'YearBuilt',\n",
    " 'NumberofBuildings',\n",
    " 'NumberofFloors',\n",
    "#  'LargestPropertyUseType',\n",
    "#  'SecondLargestPropertyUseType',\n",
    "#  'ThirdLargestPropertyUseType'\n",
    "]"
   ]
  },
  {
   "cell_type": "code",
   "execution_count": 19,
   "metadata": {
    "ExecuteTime": {
     "end_time": "2021-07-16T15:35:11.932587Z",
     "start_time": "2021-07-16T15:35:11.911586Z"
    }
   },
   "outputs": [
    {
     "data": {
      "text/html": [
       "<div>\n",
       "<style scoped>\n",
       "    .dataframe tbody tr th:only-of-type {\n",
       "        vertical-align: middle;\n",
       "    }\n",
       "\n",
       "    .dataframe tbody tr th {\n",
       "        vertical-align: top;\n",
       "    }\n",
       "\n",
       "    .dataframe thead th {\n",
       "        text-align: right;\n",
       "    }\n",
       "</style>\n",
       "<table border=\"1\" class=\"dataframe\">\n",
       "  <thead>\n",
       "    <tr style=\"text-align: right;\">\n",
       "      <th></th>\n",
       "      <th>BuildingType</th>\n",
       "      <th>PrimaryPropertyType</th>\n",
       "      <th>ZipCode</th>\n",
       "      <th>CouncilDistrictCode</th>\n",
       "      <th>Neighborhood</th>\n",
       "      <th>Latitude</th>\n",
       "      <th>Longitude</th>\n",
       "      <th>YearBuilt</th>\n",
       "      <th>NumberofBuildings</th>\n",
       "      <th>NumberofFloors</th>\n",
       "      <th>LargestPropertyUseType</th>\n",
       "      <th>SecondLargestPropertyUseType</th>\n",
       "      <th>ThirdLargestPropertyUseType</th>\n",
       "    </tr>\n",
       "  </thead>\n",
       "  <tbody>\n",
       "    <tr>\n",
       "      <th>2447</th>\n",
       "      <td>NonResidential</td>\n",
       "      <td>Retail Store</td>\n",
       "      <td>98122.0</td>\n",
       "      <td>3</td>\n",
       "      <td>EAST</td>\n",
       "      <td>47.61478</td>\n",
       "      <td>-122.31847</td>\n",
       "      <td>1916</td>\n",
       "      <td>1.0</td>\n",
       "      <td>2</td>\n",
       "      <td>Retail Store</td>\n",
       "      <td>NaN</td>\n",
       "      <td>NaN</td>\n",
       "    </tr>\n",
       "    <tr>\n",
       "      <th>2559</th>\n",
       "      <td>NonResidential</td>\n",
       "      <td>K-12 School</td>\n",
       "      <td>98133.0</td>\n",
       "      <td>5</td>\n",
       "      <td>NORTHWEST</td>\n",
       "      <td>47.71387</td>\n",
       "      <td>-122.35350</td>\n",
       "      <td>1938</td>\n",
       "      <td>1.0</td>\n",
       "      <td>2</td>\n",
       "      <td>K-12 School</td>\n",
       "      <td>NaN</td>\n",
       "      <td>NaN</td>\n",
       "    </tr>\n",
       "    <tr>\n",
       "      <th>137</th>\n",
       "      <td>SPS-District K-12</td>\n",
       "      <td>K-12 School</td>\n",
       "      <td>98126.0</td>\n",
       "      <td>1</td>\n",
       "      <td>DELRIDGE</td>\n",
       "      <td>47.52915</td>\n",
       "      <td>-122.36511</td>\n",
       "      <td>2010</td>\n",
       "      <td>1.0</td>\n",
       "      <td>2</td>\n",
       "      <td>K-12 School</td>\n",
       "      <td>NaN</td>\n",
       "      <td>NaN</td>\n",
       "    </tr>\n",
       "    <tr>\n",
       "      <th>1969</th>\n",
       "      <td>Nonresidential COS</td>\n",
       "      <td>Warehouse</td>\n",
       "      <td>98134.0</td>\n",
       "      <td>2</td>\n",
       "      <td>GREATER DUWAMISH</td>\n",
       "      <td>47.58290</td>\n",
       "      <td>-122.32417</td>\n",
       "      <td>1985</td>\n",
       "      <td>1.0</td>\n",
       "      <td>1</td>\n",
       "      <td>Non-Refrigerated Warehouse</td>\n",
       "      <td>Other</td>\n",
       "      <td>NaN</td>\n",
       "    </tr>\n",
       "    <tr>\n",
       "      <th>446</th>\n",
       "      <td>NonResidential</td>\n",
       "      <td>Other</td>\n",
       "      <td>98121.0</td>\n",
       "      <td>7</td>\n",
       "      <td>DOWNTOWN</td>\n",
       "      <td>47.61530</td>\n",
       "      <td>-122.35014</td>\n",
       "      <td>1946</td>\n",
       "      <td>1.0</td>\n",
       "      <td>1</td>\n",
       "      <td>Other</td>\n",
       "      <td>Office</td>\n",
       "      <td>NaN</td>\n",
       "    </tr>\n",
       "    <tr>\n",
       "      <th>...</th>\n",
       "      <td>...</td>\n",
       "      <td>...</td>\n",
       "      <td>...</td>\n",
       "      <td>...</td>\n",
       "      <td>...</td>\n",
       "      <td>...</td>\n",
       "      <td>...</td>\n",
       "      <td>...</td>\n",
       "      <td>...</td>\n",
       "      <td>...</td>\n",
       "      <td>...</td>\n",
       "      <td>...</td>\n",
       "      <td>...</td>\n",
       "    </tr>\n",
       "    <tr>\n",
       "      <th>277</th>\n",
       "      <td>NonResidential</td>\n",
       "      <td>Large Office</td>\n",
       "      <td>98101.0</td>\n",
       "      <td>7</td>\n",
       "      <td>DOWNTOWN</td>\n",
       "      <td>47.61125</td>\n",
       "      <td>-122.33494</td>\n",
       "      <td>1983</td>\n",
       "      <td>1.0</td>\n",
       "      <td>29</td>\n",
       "      <td>Office</td>\n",
       "      <td>Parking</td>\n",
       "      <td>Retail Store</td>\n",
       "    </tr>\n",
       "    <tr>\n",
       "      <th>1033</th>\n",
       "      <td>NonResidential</td>\n",
       "      <td>Supermarket / Grocery Store</td>\n",
       "      <td>98109.0</td>\n",
       "      <td>7</td>\n",
       "      <td>MAGNOLIA / QUEEN ANNE</td>\n",
       "      <td>47.63776</td>\n",
       "      <td>-122.35606</td>\n",
       "      <td>1962</td>\n",
       "      <td>1.0</td>\n",
       "      <td>1</td>\n",
       "      <td>Supermarket/Grocery Store</td>\n",
       "      <td>Parking</td>\n",
       "      <td>NaN</td>\n",
       "    </tr>\n",
       "    <tr>\n",
       "      <th>3264</th>\n",
       "      <td>NonResidential</td>\n",
       "      <td>Hospital</td>\n",
       "      <td>98101.0</td>\n",
       "      <td>3</td>\n",
       "      <td>EAST</td>\n",
       "      <td>47.60986</td>\n",
       "      <td>-122.32774</td>\n",
       "      <td>1920</td>\n",
       "      <td>1.0</td>\n",
       "      <td>8</td>\n",
       "      <td>Hospital (General Medical &amp; Surgical)</td>\n",
       "      <td>NaN</td>\n",
       "      <td>NaN</td>\n",
       "    </tr>\n",
       "    <tr>\n",
       "      <th>1653</th>\n",
       "      <td>NonResidential</td>\n",
       "      <td>Mixed Use Property</td>\n",
       "      <td>98125.0</td>\n",
       "      <td>5</td>\n",
       "      <td>North</td>\n",
       "      <td>47.70983</td>\n",
       "      <td>-122.31865</td>\n",
       "      <td>1952</td>\n",
       "      <td>1.0</td>\n",
       "      <td>2</td>\n",
       "      <td>Non-Refrigerated Warehouse</td>\n",
       "      <td>Retail Store</td>\n",
       "      <td>Office</td>\n",
       "    </tr>\n",
       "    <tr>\n",
       "      <th>2607</th>\n",
       "      <td>NonResidential</td>\n",
       "      <td>Other</td>\n",
       "      <td>98134.0</td>\n",
       "      <td>2</td>\n",
       "      <td>GREATER DUWAMISH</td>\n",
       "      <td>47.56610</td>\n",
       "      <td>-122.33358</td>\n",
       "      <td>1946</td>\n",
       "      <td>1.0</td>\n",
       "      <td>2</td>\n",
       "      <td>Other - Entertainment/Public Assembly</td>\n",
       "      <td>NaN</td>\n",
       "      <td>NaN</td>\n",
       "    </tr>\n",
       "  </tbody>\n",
       "</table>\n",
       "<p>1319 rows × 13 columns</p>\n",
       "</div>"
      ],
      "text/plain": [
       "            BuildingType          PrimaryPropertyType  ZipCode  \\\n",
       "2447      NonResidential                 Retail Store  98122.0   \n",
       "2559      NonResidential                  K-12 School  98133.0   \n",
       "137    SPS-District K-12                  K-12 School  98126.0   \n",
       "1969  Nonresidential COS                    Warehouse  98134.0   \n",
       "446       NonResidential                        Other  98121.0   \n",
       "...                  ...                          ...      ...   \n",
       "277       NonResidential                 Large Office  98101.0   \n",
       "1033      NonResidential  Supermarket / Grocery Store  98109.0   \n",
       "3264      NonResidential                     Hospital  98101.0   \n",
       "1653      NonResidential           Mixed Use Property  98125.0   \n",
       "2607      NonResidential                        Other  98134.0   \n",
       "\n",
       "      CouncilDistrictCode           Neighborhood  Latitude  Longitude  \\\n",
       "2447                    3                   EAST  47.61478 -122.31847   \n",
       "2559                    5              NORTHWEST  47.71387 -122.35350   \n",
       "137                     1               DELRIDGE  47.52915 -122.36511   \n",
       "1969                    2       GREATER DUWAMISH  47.58290 -122.32417   \n",
       "446                     7               DOWNTOWN  47.61530 -122.35014   \n",
       "...                   ...                    ...       ...        ...   \n",
       "277                     7               DOWNTOWN  47.61125 -122.33494   \n",
       "1033                    7  MAGNOLIA / QUEEN ANNE  47.63776 -122.35606   \n",
       "3264                    3                   EAST  47.60986 -122.32774   \n",
       "1653                    5                  North  47.70983 -122.31865   \n",
       "2607                    2       GREATER DUWAMISH  47.56610 -122.33358   \n",
       "\n",
       "      YearBuilt  NumberofBuildings  NumberofFloors  \\\n",
       "2447       1916                1.0               2   \n",
       "2559       1938                1.0               2   \n",
       "137        2010                1.0               2   \n",
       "1969       1985                1.0               1   \n",
       "446        1946                1.0               1   \n",
       "...         ...                ...             ...   \n",
       "277        1983                1.0              29   \n",
       "1033       1962                1.0               1   \n",
       "3264       1920                1.0               8   \n",
       "1653       1952                1.0               2   \n",
       "2607       1946                1.0               2   \n",
       "\n",
       "                     LargestPropertyUseType SecondLargestPropertyUseType  \\\n",
       "2447                           Retail Store                          NaN   \n",
       "2559                            K-12 School                          NaN   \n",
       "137                             K-12 School                          NaN   \n",
       "1969             Non-Refrigerated Warehouse                        Other   \n",
       "446                                   Other                       Office   \n",
       "...                                     ...                          ...   \n",
       "277                                  Office                      Parking   \n",
       "1033              Supermarket/Grocery Store                      Parking   \n",
       "3264  Hospital (General Medical & Surgical)                          NaN   \n",
       "1653             Non-Refrigerated Warehouse                 Retail Store   \n",
       "2607  Other - Entertainment/Public Assembly                          NaN   \n",
       "\n",
       "     ThirdLargestPropertyUseType  \n",
       "2447                         NaN  \n",
       "2559                         NaN  \n",
       "137                          NaN  \n",
       "1969                         NaN  \n",
       "446                          NaN  \n",
       "...                          ...  \n",
       "277                 Retail Store  \n",
       "1033                         NaN  \n",
       "3264                         NaN  \n",
       "1653                      Office  \n",
       "2607                         NaN  \n",
       "\n",
       "[1319 rows x 13 columns]"
      ]
     },
     "execution_count": 19,
     "metadata": {},
     "output_type": "execute_result"
    }
   ],
   "source": [
    "X_train_EUI"
   ]
  },
  {
   "cell_type": "code",
   "execution_count": 20,
   "metadata": {
    "ExecuteTime": {
     "end_time": "2021-07-16T15:35:11.954589Z",
     "start_time": "2021-07-16T15:35:11.933587Z"
    }
   },
   "outputs": [
    {
     "data": {
      "text/html": [
       "<div>\n",
       "<style scoped>\n",
       "    .dataframe tbody tr th:only-of-type {\n",
       "        vertical-align: middle;\n",
       "    }\n",
       "\n",
       "    .dataframe tbody tr th {\n",
       "        vertical-align: top;\n",
       "    }\n",
       "\n",
       "    .dataframe thead th {\n",
       "        text-align: right;\n",
       "    }\n",
       "</style>\n",
       "<table border=\"1\" class=\"dataframe\">\n",
       "  <thead>\n",
       "    <tr style=\"text-align: right;\">\n",
       "      <th></th>\n",
       "      <th>Latitude</th>\n",
       "      <th>Longitude</th>\n",
       "      <th>YearBuilt</th>\n",
       "      <th>NumberofBuildings</th>\n",
       "      <th>NumberofFloors</th>\n",
       "    </tr>\n",
       "  </thead>\n",
       "  <tbody>\n",
       "    <tr>\n",
       "      <th>count</th>\n",
       "      <td>1319.000000</td>\n",
       "      <td>1319.000000</td>\n",
       "      <td>1319.000000</td>\n",
       "      <td>1319.000000</td>\n",
       "      <td>1319.000000</td>\n",
       "    </tr>\n",
       "    <tr>\n",
       "      <th>mean</th>\n",
       "      <td>47.616371</td>\n",
       "      <td>-122.332693</td>\n",
       "      <td>1961.839272</td>\n",
       "      <td>1.200152</td>\n",
       "      <td>4.085671</td>\n",
       "    </tr>\n",
       "    <tr>\n",
       "      <th>std</th>\n",
       "      <td>0.048387</td>\n",
       "      <td>0.024574</td>\n",
       "      <td>33.092824</td>\n",
       "      <td>3.282958</td>\n",
       "      <td>6.182561</td>\n",
       "    </tr>\n",
       "    <tr>\n",
       "      <th>min</th>\n",
       "      <td>47.499170</td>\n",
       "      <td>-122.411820</td>\n",
       "      <td>1900.000000</td>\n",
       "      <td>0.000000</td>\n",
       "      <td>0.000000</td>\n",
       "    </tr>\n",
       "    <tr>\n",
       "      <th>25%</th>\n",
       "      <td>47.585445</td>\n",
       "      <td>-122.342940</td>\n",
       "      <td>1929.000000</td>\n",
       "      <td>1.000000</td>\n",
       "      <td>1.000000</td>\n",
       "    </tr>\n",
       "    <tr>\n",
       "      <th>50%</th>\n",
       "      <td>47.612520</td>\n",
       "      <td>-122.332820</td>\n",
       "      <td>1966.000000</td>\n",
       "      <td>1.000000</td>\n",
       "      <td>2.000000</td>\n",
       "    </tr>\n",
       "    <tr>\n",
       "      <th>75%</th>\n",
       "      <td>47.650185</td>\n",
       "      <td>-122.321785</td>\n",
       "      <td>1989.000000</td>\n",
       "      <td>1.000000</td>\n",
       "      <td>4.000000</td>\n",
       "    </tr>\n",
       "    <tr>\n",
       "      <th>max</th>\n",
       "      <td>47.733870</td>\n",
       "      <td>-122.258640</td>\n",
       "      <td>2015.000000</td>\n",
       "      <td>111.000000</td>\n",
       "      <td>63.000000</td>\n",
       "    </tr>\n",
       "  </tbody>\n",
       "</table>\n",
       "</div>"
      ],
      "text/plain": [
       "          Latitude    Longitude    YearBuilt  NumberofBuildings  \\\n",
       "count  1319.000000  1319.000000  1319.000000        1319.000000   \n",
       "mean     47.616371  -122.332693  1961.839272           1.200152   \n",
       "std       0.048387     0.024574    33.092824           3.282958   \n",
       "min      47.499170  -122.411820  1900.000000           0.000000   \n",
       "25%      47.585445  -122.342940  1929.000000           1.000000   \n",
       "50%      47.612520  -122.332820  1966.000000           1.000000   \n",
       "75%      47.650185  -122.321785  1989.000000           1.000000   \n",
       "max      47.733870  -122.258640  2015.000000         111.000000   \n",
       "\n",
       "       NumberofFloors  \n",
       "count     1319.000000  \n",
       "mean         4.085671  \n",
       "std          6.182561  \n",
       "min          0.000000  \n",
       "25%          1.000000  \n",
       "50%          2.000000  \n",
       "75%          4.000000  \n",
       "max         63.000000  "
      ]
     },
     "execution_count": 20,
     "metadata": {},
     "output_type": "execute_result"
    }
   ],
   "source": [
    "X_train_EUI[liste_variables_quantitatives].describe()"
   ]
  },
  {
   "cell_type": "code",
   "execution_count": 21,
   "metadata": {
    "ExecuteTime": {
     "end_time": "2021-07-16T15:35:11.968589Z",
     "start_time": "2021-07-16T15:35:11.955589Z"
    },
    "scrolled": true
   },
   "outputs": [
    {
     "data": {
      "text/html": [
       "<div>\n",
       "<style scoped>\n",
       "    .dataframe tbody tr th:only-of-type {\n",
       "        vertical-align: middle;\n",
       "    }\n",
       "\n",
       "    .dataframe tbody tr th {\n",
       "        vertical-align: top;\n",
       "    }\n",
       "\n",
       "    .dataframe thead th {\n",
       "        text-align: right;\n",
       "    }\n",
       "</style>\n",
       "<table border=\"1\" class=\"dataframe\">\n",
       "  <thead>\n",
       "    <tr style=\"text-align: right;\">\n",
       "      <th></th>\n",
       "      <th>Latitude</th>\n",
       "      <th>Longitude</th>\n",
       "      <th>YearBuilt</th>\n",
       "      <th>NumberofBuildings</th>\n",
       "      <th>NumberofFloors</th>\n",
       "    </tr>\n",
       "  </thead>\n",
       "  <tbody>\n",
       "    <tr>\n",
       "      <th>2447</th>\n",
       "      <td>47.61478</td>\n",
       "      <td>-122.31847</td>\n",
       "      <td>1916</td>\n",
       "      <td>1.0</td>\n",
       "      <td>2</td>\n",
       "    </tr>\n",
       "    <tr>\n",
       "      <th>2559</th>\n",
       "      <td>47.71387</td>\n",
       "      <td>-122.35350</td>\n",
       "      <td>1938</td>\n",
       "      <td>1.0</td>\n",
       "      <td>2</td>\n",
       "    </tr>\n",
       "    <tr>\n",
       "      <th>137</th>\n",
       "      <td>47.52915</td>\n",
       "      <td>-122.36511</td>\n",
       "      <td>2010</td>\n",
       "      <td>1.0</td>\n",
       "      <td>2</td>\n",
       "    </tr>\n",
       "    <tr>\n",
       "      <th>1969</th>\n",
       "      <td>47.58290</td>\n",
       "      <td>-122.32417</td>\n",
       "      <td>1985</td>\n",
       "      <td>1.0</td>\n",
       "      <td>1</td>\n",
       "    </tr>\n",
       "    <tr>\n",
       "      <th>446</th>\n",
       "      <td>47.61530</td>\n",
       "      <td>-122.35014</td>\n",
       "      <td>1946</td>\n",
       "      <td>1.0</td>\n",
       "      <td>1</td>\n",
       "    </tr>\n",
       "    <tr>\n",
       "      <th>...</th>\n",
       "      <td>...</td>\n",
       "      <td>...</td>\n",
       "      <td>...</td>\n",
       "      <td>...</td>\n",
       "      <td>...</td>\n",
       "    </tr>\n",
       "    <tr>\n",
       "      <th>277</th>\n",
       "      <td>47.61125</td>\n",
       "      <td>-122.33494</td>\n",
       "      <td>1983</td>\n",
       "      <td>1.0</td>\n",
       "      <td>29</td>\n",
       "    </tr>\n",
       "    <tr>\n",
       "      <th>1033</th>\n",
       "      <td>47.63776</td>\n",
       "      <td>-122.35606</td>\n",
       "      <td>1962</td>\n",
       "      <td>1.0</td>\n",
       "      <td>1</td>\n",
       "    </tr>\n",
       "    <tr>\n",
       "      <th>3264</th>\n",
       "      <td>47.60986</td>\n",
       "      <td>-122.32774</td>\n",
       "      <td>1920</td>\n",
       "      <td>1.0</td>\n",
       "      <td>8</td>\n",
       "    </tr>\n",
       "    <tr>\n",
       "      <th>1653</th>\n",
       "      <td>47.70983</td>\n",
       "      <td>-122.31865</td>\n",
       "      <td>1952</td>\n",
       "      <td>1.0</td>\n",
       "      <td>2</td>\n",
       "    </tr>\n",
       "    <tr>\n",
       "      <th>2607</th>\n",
       "      <td>47.56610</td>\n",
       "      <td>-122.33358</td>\n",
       "      <td>1946</td>\n",
       "      <td>1.0</td>\n",
       "      <td>2</td>\n",
       "    </tr>\n",
       "  </tbody>\n",
       "</table>\n",
       "<p>1319 rows × 5 columns</p>\n",
       "</div>"
      ],
      "text/plain": [
       "      Latitude  Longitude  YearBuilt  NumberofBuildings  NumberofFloors\n",
       "2447  47.61478 -122.31847       1916                1.0               2\n",
       "2559  47.71387 -122.35350       1938                1.0               2\n",
       "137   47.52915 -122.36511       2010                1.0               2\n",
       "1969  47.58290 -122.32417       1985                1.0               1\n",
       "446   47.61530 -122.35014       1946                1.0               1\n",
       "...        ...        ...        ...                ...             ...\n",
       "277   47.61125 -122.33494       1983                1.0              29\n",
       "1033  47.63776 -122.35606       1962                1.0               1\n",
       "3264  47.60986 -122.32774       1920                1.0               8\n",
       "1653  47.70983 -122.31865       1952                1.0               2\n",
       "2607  47.56610 -122.33358       1946                1.0               2\n",
       "\n",
       "[1319 rows x 5 columns]"
      ]
     },
     "execution_count": 21,
     "metadata": {},
     "output_type": "execute_result"
    }
   ],
   "source": [
    "X_train_EUI[liste_variables_quantitatives]"
   ]
  },
  {
   "cell_type": "markdown",
   "metadata": {},
   "source": [
    "### Imputation des variables quantitatives"
   ]
  },
  {
   "cell_type": "code",
   "execution_count": 22,
   "metadata": {
    "ExecuteTime": {
     "end_time": "2021-07-16T15:35:11.972590Z",
     "start_time": "2021-07-16T15:35:11.969589Z"
    }
   },
   "outputs": [],
   "source": [
    "imputer_quanti = SimpleImputer(strategy=\"median\")"
   ]
  },
  {
   "cell_type": "code",
   "execution_count": 23,
   "metadata": {
    "ExecuteTime": {
     "end_time": "2021-07-16T15:35:11.989591Z",
     "start_time": "2021-07-16T15:35:11.975590Z"
    }
   },
   "outputs": [],
   "source": [
    "X_train_EUI[liste_variables_quantitatives] = imputer_quanti.fit_transform(X_train_EUI[liste_variables_quantitatives])"
   ]
  },
  {
   "cell_type": "code",
   "execution_count": 24,
   "metadata": {
    "ExecuteTime": {
     "end_time": "2021-07-16T15:35:12.014592Z",
     "start_time": "2021-07-16T15:35:11.991591Z"
    },
    "scrolled": true
   },
   "outputs": [
    {
     "data": {
      "text/html": [
       "<div>\n",
       "<style scoped>\n",
       "    .dataframe tbody tr th:only-of-type {\n",
       "        vertical-align: middle;\n",
       "    }\n",
       "\n",
       "    .dataframe tbody tr th {\n",
       "        vertical-align: top;\n",
       "    }\n",
       "\n",
       "    .dataframe thead th {\n",
       "        text-align: right;\n",
       "    }\n",
       "</style>\n",
       "<table border=\"1\" class=\"dataframe\">\n",
       "  <thead>\n",
       "    <tr style=\"text-align: right;\">\n",
       "      <th></th>\n",
       "      <th>Latitude</th>\n",
       "      <th>Longitude</th>\n",
       "      <th>YearBuilt</th>\n",
       "      <th>NumberofBuildings</th>\n",
       "      <th>NumberofFloors</th>\n",
       "    </tr>\n",
       "  </thead>\n",
       "  <tbody>\n",
       "    <tr>\n",
       "      <th>count</th>\n",
       "      <td>1319.000000</td>\n",
       "      <td>1319.000000</td>\n",
       "      <td>1319.000000</td>\n",
       "      <td>1319.000000</td>\n",
       "      <td>1319.000000</td>\n",
       "    </tr>\n",
       "    <tr>\n",
       "      <th>mean</th>\n",
       "      <td>47.616371</td>\n",
       "      <td>-122.332693</td>\n",
       "      <td>1961.839272</td>\n",
       "      <td>1.200152</td>\n",
       "      <td>4.085671</td>\n",
       "    </tr>\n",
       "    <tr>\n",
       "      <th>std</th>\n",
       "      <td>0.048387</td>\n",
       "      <td>0.024574</td>\n",
       "      <td>33.092824</td>\n",
       "      <td>3.282958</td>\n",
       "      <td>6.182561</td>\n",
       "    </tr>\n",
       "    <tr>\n",
       "      <th>min</th>\n",
       "      <td>47.499170</td>\n",
       "      <td>-122.411820</td>\n",
       "      <td>1900.000000</td>\n",
       "      <td>0.000000</td>\n",
       "      <td>0.000000</td>\n",
       "    </tr>\n",
       "    <tr>\n",
       "      <th>25%</th>\n",
       "      <td>47.585445</td>\n",
       "      <td>-122.342940</td>\n",
       "      <td>1929.000000</td>\n",
       "      <td>1.000000</td>\n",
       "      <td>1.000000</td>\n",
       "    </tr>\n",
       "    <tr>\n",
       "      <th>50%</th>\n",
       "      <td>47.612520</td>\n",
       "      <td>-122.332820</td>\n",
       "      <td>1966.000000</td>\n",
       "      <td>1.000000</td>\n",
       "      <td>2.000000</td>\n",
       "    </tr>\n",
       "    <tr>\n",
       "      <th>75%</th>\n",
       "      <td>47.650185</td>\n",
       "      <td>-122.321785</td>\n",
       "      <td>1989.000000</td>\n",
       "      <td>1.000000</td>\n",
       "      <td>4.000000</td>\n",
       "    </tr>\n",
       "    <tr>\n",
       "      <th>max</th>\n",
       "      <td>47.733870</td>\n",
       "      <td>-122.258640</td>\n",
       "      <td>2015.000000</td>\n",
       "      <td>111.000000</td>\n",
       "      <td>63.000000</td>\n",
       "    </tr>\n",
       "  </tbody>\n",
       "</table>\n",
       "</div>"
      ],
      "text/plain": [
       "          Latitude    Longitude    YearBuilt  NumberofBuildings  \\\n",
       "count  1319.000000  1319.000000  1319.000000        1319.000000   \n",
       "mean     47.616371  -122.332693  1961.839272           1.200152   \n",
       "std       0.048387     0.024574    33.092824           3.282958   \n",
       "min      47.499170  -122.411820  1900.000000           0.000000   \n",
       "25%      47.585445  -122.342940  1929.000000           1.000000   \n",
       "50%      47.612520  -122.332820  1966.000000           1.000000   \n",
       "75%      47.650185  -122.321785  1989.000000           1.000000   \n",
       "max      47.733870  -122.258640  2015.000000         111.000000   \n",
       "\n",
       "       NumberofFloors  \n",
       "count     1319.000000  \n",
       "mean         4.085671  \n",
       "std          6.182561  \n",
       "min          0.000000  \n",
       "25%          1.000000  \n",
       "50%          2.000000  \n",
       "75%          4.000000  \n",
       "max         63.000000  "
      ]
     },
     "execution_count": 24,
     "metadata": {},
     "output_type": "execute_result"
    }
   ],
   "source": [
    "X_train_EUI[liste_variables_quantitatives].describe()"
   ]
  },
  {
   "cell_type": "code",
   "execution_count": 25,
   "metadata": {
    "ExecuteTime": {
     "end_time": "2021-07-16T15:35:12.018592Z",
     "start_time": "2021-07-16T15:35:12.015592Z"
    },
    "scrolled": false
   },
   "outputs": [
    {
     "data": {
      "text/plain": [
       "array([ 4.7612520e+01, -1.2233282e+02,  1.9660000e+03,  1.0000000e+00,  2.0000000e+00])"
      ]
     },
     "execution_count": 25,
     "metadata": {},
     "output_type": "execute_result"
    }
   ],
   "source": [
    "imputer_quanti.statistics_"
   ]
  },
  {
   "cell_type": "markdown",
   "metadata": {},
   "source": [
    "### Imputation des variables qualitatives"
   ]
  },
  {
   "cell_type": "code",
   "execution_count": 26,
   "metadata": {
    "ExecuteTime": {
     "end_time": "2021-07-16T15:35:12.045594Z",
     "start_time": "2021-07-16T15:35:12.019592Z"
    }
   },
   "outputs": [
    {
     "data": {
      "text/html": [
       "<div>\n",
       "<style scoped>\n",
       "    .dataframe tbody tr th:only-of-type {\n",
       "        vertical-align: middle;\n",
       "    }\n",
       "\n",
       "    .dataframe tbody tr th {\n",
       "        vertical-align: top;\n",
       "    }\n",
       "\n",
       "    .dataframe thead th {\n",
       "        text-align: right;\n",
       "    }\n",
       "</style>\n",
       "<table border=\"1\" class=\"dataframe\">\n",
       "  <thead>\n",
       "    <tr style=\"text-align: right;\">\n",
       "      <th></th>\n",
       "      <th>BuildingType</th>\n",
       "      <th>PrimaryPropertyType</th>\n",
       "      <th>ZipCode</th>\n",
       "      <th>CouncilDistrictCode</th>\n",
       "      <th>Neighborhood</th>\n",
       "      <th>Latitude</th>\n",
       "      <th>Longitude</th>\n",
       "      <th>YearBuilt</th>\n",
       "      <th>NumberofBuildings</th>\n",
       "      <th>NumberofFloors</th>\n",
       "      <th>LargestPropertyUseType</th>\n",
       "      <th>SecondLargestPropertyUseType</th>\n",
       "      <th>ThirdLargestPropertyUseType</th>\n",
       "    </tr>\n",
       "  </thead>\n",
       "  <tbody>\n",
       "    <tr>\n",
       "      <th>2447</th>\n",
       "      <td>NonResidential</td>\n",
       "      <td>Retail Store</td>\n",
       "      <td>98122.0</td>\n",
       "      <td>3</td>\n",
       "      <td>EAST</td>\n",
       "      <td>47.61478</td>\n",
       "      <td>-122.31847</td>\n",
       "      <td>1916.0</td>\n",
       "      <td>1.0</td>\n",
       "      <td>2.0</td>\n",
       "      <td>Retail Store</td>\n",
       "      <td>NaN</td>\n",
       "      <td>NaN</td>\n",
       "    </tr>\n",
       "    <tr>\n",
       "      <th>2559</th>\n",
       "      <td>NonResidential</td>\n",
       "      <td>K-12 School</td>\n",
       "      <td>98133.0</td>\n",
       "      <td>5</td>\n",
       "      <td>NORTHWEST</td>\n",
       "      <td>47.71387</td>\n",
       "      <td>-122.35350</td>\n",
       "      <td>1938.0</td>\n",
       "      <td>1.0</td>\n",
       "      <td>2.0</td>\n",
       "      <td>K-12 School</td>\n",
       "      <td>NaN</td>\n",
       "      <td>NaN</td>\n",
       "    </tr>\n",
       "    <tr>\n",
       "      <th>137</th>\n",
       "      <td>SPS-District K-12</td>\n",
       "      <td>K-12 School</td>\n",
       "      <td>98126.0</td>\n",
       "      <td>1</td>\n",
       "      <td>DELRIDGE</td>\n",
       "      <td>47.52915</td>\n",
       "      <td>-122.36511</td>\n",
       "      <td>2010.0</td>\n",
       "      <td>1.0</td>\n",
       "      <td>2.0</td>\n",
       "      <td>K-12 School</td>\n",
       "      <td>NaN</td>\n",
       "      <td>NaN</td>\n",
       "    </tr>\n",
       "    <tr>\n",
       "      <th>1969</th>\n",
       "      <td>Nonresidential COS</td>\n",
       "      <td>Warehouse</td>\n",
       "      <td>98134.0</td>\n",
       "      <td>2</td>\n",
       "      <td>GREATER DUWAMISH</td>\n",
       "      <td>47.58290</td>\n",
       "      <td>-122.32417</td>\n",
       "      <td>1985.0</td>\n",
       "      <td>1.0</td>\n",
       "      <td>1.0</td>\n",
       "      <td>Non-Refrigerated Warehouse</td>\n",
       "      <td>Other</td>\n",
       "      <td>NaN</td>\n",
       "    </tr>\n",
       "    <tr>\n",
       "      <th>446</th>\n",
       "      <td>NonResidential</td>\n",
       "      <td>Other</td>\n",
       "      <td>98121.0</td>\n",
       "      <td>7</td>\n",
       "      <td>DOWNTOWN</td>\n",
       "      <td>47.61530</td>\n",
       "      <td>-122.35014</td>\n",
       "      <td>1946.0</td>\n",
       "      <td>1.0</td>\n",
       "      <td>1.0</td>\n",
       "      <td>Other</td>\n",
       "      <td>Office</td>\n",
       "      <td>NaN</td>\n",
       "    </tr>\n",
       "    <tr>\n",
       "      <th>...</th>\n",
       "      <td>...</td>\n",
       "      <td>...</td>\n",
       "      <td>...</td>\n",
       "      <td>...</td>\n",
       "      <td>...</td>\n",
       "      <td>...</td>\n",
       "      <td>...</td>\n",
       "      <td>...</td>\n",
       "      <td>...</td>\n",
       "      <td>...</td>\n",
       "      <td>...</td>\n",
       "      <td>...</td>\n",
       "      <td>...</td>\n",
       "    </tr>\n",
       "    <tr>\n",
       "      <th>277</th>\n",
       "      <td>NonResidential</td>\n",
       "      <td>Large Office</td>\n",
       "      <td>98101.0</td>\n",
       "      <td>7</td>\n",
       "      <td>DOWNTOWN</td>\n",
       "      <td>47.61125</td>\n",
       "      <td>-122.33494</td>\n",
       "      <td>1983.0</td>\n",
       "      <td>1.0</td>\n",
       "      <td>29.0</td>\n",
       "      <td>Office</td>\n",
       "      <td>Parking</td>\n",
       "      <td>Retail Store</td>\n",
       "    </tr>\n",
       "    <tr>\n",
       "      <th>1033</th>\n",
       "      <td>NonResidential</td>\n",
       "      <td>Supermarket / Grocery Store</td>\n",
       "      <td>98109.0</td>\n",
       "      <td>7</td>\n",
       "      <td>MAGNOLIA / QUEEN ANNE</td>\n",
       "      <td>47.63776</td>\n",
       "      <td>-122.35606</td>\n",
       "      <td>1962.0</td>\n",
       "      <td>1.0</td>\n",
       "      <td>1.0</td>\n",
       "      <td>Supermarket/Grocery Store</td>\n",
       "      <td>Parking</td>\n",
       "      <td>NaN</td>\n",
       "    </tr>\n",
       "    <tr>\n",
       "      <th>3264</th>\n",
       "      <td>NonResidential</td>\n",
       "      <td>Hospital</td>\n",
       "      <td>98101.0</td>\n",
       "      <td>3</td>\n",
       "      <td>EAST</td>\n",
       "      <td>47.60986</td>\n",
       "      <td>-122.32774</td>\n",
       "      <td>1920.0</td>\n",
       "      <td>1.0</td>\n",
       "      <td>8.0</td>\n",
       "      <td>Hospital (General Medical &amp; Surgical)</td>\n",
       "      <td>NaN</td>\n",
       "      <td>NaN</td>\n",
       "    </tr>\n",
       "    <tr>\n",
       "      <th>1653</th>\n",
       "      <td>NonResidential</td>\n",
       "      <td>Mixed Use Property</td>\n",
       "      <td>98125.0</td>\n",
       "      <td>5</td>\n",
       "      <td>North</td>\n",
       "      <td>47.70983</td>\n",
       "      <td>-122.31865</td>\n",
       "      <td>1952.0</td>\n",
       "      <td>1.0</td>\n",
       "      <td>2.0</td>\n",
       "      <td>Non-Refrigerated Warehouse</td>\n",
       "      <td>Retail Store</td>\n",
       "      <td>Office</td>\n",
       "    </tr>\n",
       "    <tr>\n",
       "      <th>2607</th>\n",
       "      <td>NonResidential</td>\n",
       "      <td>Other</td>\n",
       "      <td>98134.0</td>\n",
       "      <td>2</td>\n",
       "      <td>GREATER DUWAMISH</td>\n",
       "      <td>47.56610</td>\n",
       "      <td>-122.33358</td>\n",
       "      <td>1946.0</td>\n",
       "      <td>1.0</td>\n",
       "      <td>2.0</td>\n",
       "      <td>Other - Entertainment/Public Assembly</td>\n",
       "      <td>NaN</td>\n",
       "      <td>NaN</td>\n",
       "    </tr>\n",
       "  </tbody>\n",
       "</table>\n",
       "<p>1319 rows × 13 columns</p>\n",
       "</div>"
      ],
      "text/plain": [
       "            BuildingType          PrimaryPropertyType  ZipCode  \\\n",
       "2447      NonResidential                 Retail Store  98122.0   \n",
       "2559      NonResidential                  K-12 School  98133.0   \n",
       "137    SPS-District K-12                  K-12 School  98126.0   \n",
       "1969  Nonresidential COS                    Warehouse  98134.0   \n",
       "446       NonResidential                        Other  98121.0   \n",
       "...                  ...                          ...      ...   \n",
       "277       NonResidential                 Large Office  98101.0   \n",
       "1033      NonResidential  Supermarket / Grocery Store  98109.0   \n",
       "3264      NonResidential                     Hospital  98101.0   \n",
       "1653      NonResidential           Mixed Use Property  98125.0   \n",
       "2607      NonResidential                        Other  98134.0   \n",
       "\n",
       "      CouncilDistrictCode           Neighborhood  Latitude  Longitude  \\\n",
       "2447                    3                   EAST  47.61478 -122.31847   \n",
       "2559                    5              NORTHWEST  47.71387 -122.35350   \n",
       "137                     1               DELRIDGE  47.52915 -122.36511   \n",
       "1969                    2       GREATER DUWAMISH  47.58290 -122.32417   \n",
       "446                     7               DOWNTOWN  47.61530 -122.35014   \n",
       "...                   ...                    ...       ...        ...   \n",
       "277                     7               DOWNTOWN  47.61125 -122.33494   \n",
       "1033                    7  MAGNOLIA / QUEEN ANNE  47.63776 -122.35606   \n",
       "3264                    3                   EAST  47.60986 -122.32774   \n",
       "1653                    5                  North  47.70983 -122.31865   \n",
       "2607                    2       GREATER DUWAMISH  47.56610 -122.33358   \n",
       "\n",
       "      YearBuilt  NumberofBuildings  NumberofFloors  \\\n",
       "2447     1916.0                1.0             2.0   \n",
       "2559     1938.0                1.0             2.0   \n",
       "137      2010.0                1.0             2.0   \n",
       "1969     1985.0                1.0             1.0   \n",
       "446      1946.0                1.0             1.0   \n",
       "...         ...                ...             ...   \n",
       "277      1983.0                1.0            29.0   \n",
       "1033     1962.0                1.0             1.0   \n",
       "3264     1920.0                1.0             8.0   \n",
       "1653     1952.0                1.0             2.0   \n",
       "2607     1946.0                1.0             2.0   \n",
       "\n",
       "                     LargestPropertyUseType SecondLargestPropertyUseType  \\\n",
       "2447                           Retail Store                          NaN   \n",
       "2559                            K-12 School                          NaN   \n",
       "137                             K-12 School                          NaN   \n",
       "1969             Non-Refrigerated Warehouse                        Other   \n",
       "446                                   Other                       Office   \n",
       "...                                     ...                          ...   \n",
       "277                                  Office                      Parking   \n",
       "1033              Supermarket/Grocery Store                      Parking   \n",
       "3264  Hospital (General Medical & Surgical)                          NaN   \n",
       "1653             Non-Refrigerated Warehouse                 Retail Store   \n",
       "2607  Other - Entertainment/Public Assembly                          NaN   \n",
       "\n",
       "     ThirdLargestPropertyUseType  \n",
       "2447                         NaN  \n",
       "2559                         NaN  \n",
       "137                          NaN  \n",
       "1969                         NaN  \n",
       "446                          NaN  \n",
       "...                          ...  \n",
       "277                 Retail Store  \n",
       "1033                         NaN  \n",
       "3264                         NaN  \n",
       "1653                      Office  \n",
       "2607                         NaN  \n",
       "\n",
       "[1319 rows x 13 columns]"
      ]
     },
     "execution_count": 26,
     "metadata": {},
     "output_type": "execute_result"
    }
   ],
   "source": [
    "X_train_EUI"
   ]
  },
  {
   "cell_type": "code",
   "execution_count": 27,
   "metadata": {
    "ExecuteTime": {
     "end_time": "2021-07-16T15:35:12.063595Z",
     "start_time": "2021-07-16T15:35:12.047594Z"
    },
    "scrolled": true
   },
   "outputs": [
    {
     "name": "stdout",
     "output_type": "stream",
     "text": [
      "<class 'pandas.core.frame.DataFrame'>\n",
      "Int64Index: 1319 entries, 2447 to 2607\n",
      "Data columns (total 8 columns):\n",
      " #   Column                        Non-Null Count  Dtype  \n",
      "---  ------                        --------------  -----  \n",
      " 0   BuildingType                  1319 non-null   object \n",
      " 1   PrimaryPropertyType           1319 non-null   object \n",
      " 2   ZipCode                       1309 non-null   float64\n",
      " 3   CouncilDistrictCode           1319 non-null   int64  \n",
      " 4   Neighborhood                  1319 non-null   object \n",
      " 5   LargestPropertyUseType        1315 non-null   object \n",
      " 6   SecondLargestPropertyUseType  684 non-null    object \n",
      " 7   ThirdLargestPropertyUseType   280 non-null    object \n",
      "dtypes: float64(1), int64(1), object(6)\n",
      "memory usage: 92.7+ KB\n"
     ]
    }
   ],
   "source": [
    "X_train_EUI[liste_variables_qualitatives].info()"
   ]
  },
  {
   "cell_type": "code",
   "execution_count": 28,
   "metadata": {
    "ExecuteTime": {
     "end_time": "2021-07-16T15:35:12.084596Z",
     "start_time": "2021-07-16T15:35:12.064595Z"
    }
   },
   "outputs": [],
   "source": [
    "imputer_quali_ZC = SimpleImputer(strategy='constant', fill_value=None)     # fill_value will be 0 when imputing numerical data and “missing_value” for strings or object data types\n",
    "imputer_quali_CDC = SimpleImputer(strategy='constant', fill_value=None) \n",
    "imputer_quali_autre = SimpleImputer(strategy='constant', fill_value=None) \n",
    "\n",
    "X_train_EUI[['ZipCode']] = imputer_quali_ZC.fit_transform(X_train_EUI[['ZipCode']])\n",
    "X_train_EUI[['CouncilDistrictCode']] = imputer_quali_CDC.fit_transform(X_train_EUI[['CouncilDistrictCode']])\n",
    "X_train_EUI[['BuildingType',\n",
    " 'PrimaryPropertyType',\n",
    " 'Neighborhood',\n",
    " 'LargestPropertyUseType',\n",
    " 'SecondLargestPropertyUseType',\n",
    " 'ThirdLargestPropertyUseType']\n",
    "] = imputer_quali_autre.fit_transform(X_train_EUI[['BuildingType',      \n",
    " 'PrimaryPropertyType',\n",
    " 'Neighborhood',\n",
    " 'LargestPropertyUseType',\n",
    " 'SecondLargestPropertyUseType',\n",
    " 'ThirdLargestPropertyUseType']])"
   ]
  },
  {
   "cell_type": "code",
   "execution_count": 29,
   "metadata": {
    "ExecuteTime": {
     "end_time": "2021-07-16T15:35:12.093596Z",
     "start_time": "2021-07-16T15:35:12.085596Z"
    }
   },
   "outputs": [
    {
     "data": {
      "text/html": [
       "<div>\n",
       "<style scoped>\n",
       "    .dataframe tbody tr th:only-of-type {\n",
       "        vertical-align: middle;\n",
       "    }\n",
       "\n",
       "    .dataframe tbody tr th {\n",
       "        vertical-align: top;\n",
       "    }\n",
       "\n",
       "    .dataframe thead th {\n",
       "        text-align: right;\n",
       "    }\n",
       "</style>\n",
       "<table border=\"1\" class=\"dataframe\">\n",
       "  <thead>\n",
       "    <tr style=\"text-align: right;\">\n",
       "      <th></th>\n",
       "      <th>BuildingType</th>\n",
       "      <th>PrimaryPropertyType</th>\n",
       "      <th>ZipCode</th>\n",
       "      <th>CouncilDistrictCode</th>\n",
       "      <th>Neighborhood</th>\n",
       "      <th>Latitude</th>\n",
       "      <th>Longitude</th>\n",
       "      <th>YearBuilt</th>\n",
       "      <th>NumberofBuildings</th>\n",
       "      <th>NumberofFloors</th>\n",
       "      <th>LargestPropertyUseType</th>\n",
       "      <th>SecondLargestPropertyUseType</th>\n",
       "      <th>ThirdLargestPropertyUseType</th>\n",
       "    </tr>\n",
       "  </thead>\n",
       "  <tbody>\n",
       "  </tbody>\n",
       "</table>\n",
       "</div>"
      ],
      "text/plain": [
       "Empty DataFrame\n",
       "Columns: [BuildingType, PrimaryPropertyType, ZipCode, CouncilDistrictCode, Neighborhood, Latitude, Longitude, YearBuilt, NumberofBuildings, NumberofFloors, LargestPropertyUseType, SecondLargestPropertyUseType, ThirdLargestPropertyUseType]\n",
       "Index: []"
      ]
     },
     "execution_count": 29,
     "metadata": {},
     "output_type": "execute_result"
    }
   ],
   "source": [
    "X_train_EUI[X_train_EUI.isnull().any(axis=1)]"
   ]
  },
  {
   "cell_type": "markdown",
   "metadata": {
    "ExecuteTime": {
     "end_time": "2021-06-16T08:40:38.290903Z",
     "start_time": "2021-06-16T08:40:38.271917Z"
    }
   },
   "source": [
    "## One-hot encoding (variables qualitatives)"
   ]
  },
  {
   "cell_type": "code",
   "execution_count": 30,
   "metadata": {
    "ExecuteTime": {
     "end_time": "2021-07-16T15:35:12.099597Z",
     "start_time": "2021-07-16T15:35:12.095597Z"
    }
   },
   "outputs": [
    {
     "data": {
      "text/plain": [
       "['BuildingType',\n",
       " 'PrimaryPropertyType',\n",
       " 'ZipCode',\n",
       " 'CouncilDistrictCode',\n",
       " 'Neighborhood',\n",
       " 'LargestPropertyUseType',\n",
       " 'SecondLargestPropertyUseType',\n",
       " 'ThirdLargestPropertyUseType']"
      ]
     },
     "execution_count": 30,
     "metadata": {},
     "output_type": "execute_result"
    }
   ],
   "source": [
    "liste_variables_qualitatives"
   ]
  },
  {
   "cell_type": "code",
   "execution_count": 31,
   "metadata": {
    "ExecuteTime": {
     "end_time": "2021-07-16T15:35:12.111598Z",
     "start_time": "2021-07-16T15:35:12.100597Z"
    }
   },
   "outputs": [
    {
     "data": {
      "text/plain": [
       "<1319x234 sparse matrix of type '<class 'numpy.float64'>'\n",
       "\twith 10552 stored elements in Compressed Sparse Row format>"
      ]
     },
     "metadata": {},
     "output_type": "display_data"
    }
   ],
   "source": [
    "# sklearn force à séparer l'encodage des variables strings et variables numériques\n",
    "encoder = OneHotEncoder(handle_unknown='ignore')\n",
    "\n",
    "X_train_EUI_1hot = encoder.fit_transform(X_train_EUI[liste_variables_qualitatives])\n",
    "\n",
    "display(X_train_EUI_1hot)"
   ]
  },
  {
   "cell_type": "code",
   "execution_count": 32,
   "metadata": {
    "ExecuteTime": {
     "end_time": "2021-07-16T15:35:12.117598Z",
     "start_time": "2021-07-16T15:35:12.112598Z"
    }
   },
   "outputs": [
    {
     "data": {
      "text/plain": [
       "[array(['Campus', 'NonResidential', 'Nonresidential COS', 'Nonresidential WA', 'SPS-District K-12'], dtype=object),\n",
       " array(['Distribution Center', 'Hospital', 'Hotel', 'K-12 School', 'Laboratory', 'Large Office', 'Low-Rise Multifamily', 'Medical Office', 'Mixed Use Property',\n",
       "        'Office', 'Other', 'Refrigerated Warehouse', 'Residence Hall', 'Restaurant', 'Retail Store', 'Self-Storage Facility', 'Senior Care Community',\n",
       "        'Small- and Mid-Sized Office', 'Supermarket / Grocery Store', 'University', 'Warehouse', 'Worship Facility'], dtype=object),\n",
       " array([    0., 98013., 98020., 98033., 98053., 98070., 98101., 98102., 98103., 98104., 98105., 98106., 98107., 98108., 98109., 98111., 98112., 98114., 98115.,\n",
       "        98116., 98117., 98118., 98119., 98121., 98122., 98124., 98125., 98126., 98133., 98134., 98136., 98144., 98145., 98146., 98154., 98164., 98168., 98177.,\n",
       "        98178., 98185., 98191., 98195., 98199.]),\n",
       " array([1, 2, 3, 4, 5, 6, 7], dtype=int64),\n",
       " array(['BALLARD', 'Ballard', 'CENTRAL', 'Central', 'DELRIDGE', 'DELRIDGE NEIGHBORHOODS', 'DOWNTOWN', 'Delridge', 'EAST', 'GREATER DUWAMISH', 'LAKE UNION',\n",
       "        'MAGNOLIA / QUEEN ANNE', 'NORTH', 'NORTHEAST', 'NORTHWEST', 'North', 'Northwest', 'SOUTHEAST', 'SOUTHWEST'], dtype=object),\n",
       " array(['Adult Education', 'Automobile Dealership', 'Bank Branch', 'College/University', 'Courthouse', 'Data Center', 'Distribution Center', 'Financial Office',\n",
       "        'Fire Station', 'Fitness Center/Health Club/Gym', 'Food Service', 'Hospital (General Medical & Surgical)', 'Hotel', 'K-12 School', 'Laboratory',\n",
       "        'Library', 'Lifestyle Center', 'Manufacturing/Industrial Plant', 'Medical Office', 'Multifamily Housing', 'Museum', 'Non-Refrigerated Warehouse',\n",
       "        'Office', 'Other', 'Other - Education', 'Other - Entertainment/Public Assembly', 'Other - Lodging/Residential', 'Other - Mall',\n",
       "        'Other - Public Services', 'Other - Recreation', 'Other - Restaurant/Bar', 'Other - Services', 'Other - Utility', 'Other/Specialty Hospital', 'Parking',\n",
       "        'Performing Arts', 'Personal Services (Health/Beauty, Dry Cleaning, etc)', 'Police Station', 'Pre-school/Daycare', 'Prison/Incarceration',\n",
       "        'Refrigerated Warehouse', 'Repair Services (Vehicle, Shoe, Locksmith, etc)', 'Residence Hall/Dormitory', 'Residential Care Facility', 'Restaurant',\n",
       "        'Retail Store', 'Self-Storage Facility', 'Senior Care Community', 'Social/Meeting Hall', 'Strip Mall', 'Supermarket/Grocery Store',\n",
       "        'Urgent Care/Clinic/Other Outpatient', 'Wholesale Club/Supercenter', 'Worship Facility', 'missing_value'], dtype=object),\n",
       " array(['Adult Education', 'Automobile Dealership', 'Bank Branch', 'Bar/Nightclub', 'College/University', 'Convenience Store without Gas Station',\n",
       "        'Data Center', 'Distribution Center', 'Fitness Center/Health Club/Gym', 'Food Sales', 'Food Service', 'Hospital (General Medical & Surgical)', 'Hotel',\n",
       "        'K-12 School', 'Laboratory', 'Manufacturing/Industrial Plant', 'Medical Office', 'Movie Theater', 'Multifamily Housing', 'Non-Refrigerated Warehouse',\n",
       "        'Office', 'Other', 'Other - Education', 'Other - Entertainment/Public Assembly', 'Other - Lodging/Residential', 'Other - Public Services',\n",
       "        'Other - Recreation', 'Other - Restaurant/Bar', 'Other - Services', 'Parking', 'Performing Arts', 'Refrigerated Warehouse',\n",
       "        'Repair Services (Vehicle, Shoe, Locksmith, etc)', 'Residence Hall/Dormitory', 'Restaurant', 'Retail Store', 'Self-Storage Facility',\n",
       "        'Social/Meeting Hall', 'Supermarket/Grocery Store', 'Swimming Pool', 'Vocational School', 'Worship Facility', 'missing_value'], dtype=object),\n",
       " array(['Bank Branch', 'Bar/Nightclub', 'Convenience Store without Gas Station', 'Data Center', 'Distribution Center', 'Fast Food Restaurant',\n",
       "        'Financial Office', 'Fitness Center/Health Club/Gym', 'Food Service', 'Hotel', 'K-12 School', 'Laboratory', 'Manufacturing/Industrial Plant',\n",
       "        'Medical Office', 'Multifamily Housing', 'Non-Refrigerated Warehouse', 'Office', 'Other', 'Other - Education', 'Other - Entertainment/Public Assembly',\n",
       "        'Other - Recreation', 'Other - Restaurant/Bar', 'Other - Services', 'Other - Technology/Science', 'Other - Utility', 'Other/Specialty Hospital',\n",
       "        'Parking', 'Personal Services (Health/Beauty, Dry Cleaning, etc)', 'Pre-school/Daycare', 'Refrigerated Warehouse', 'Restaurant', 'Retail Store',\n",
       "        'Self-Storage Facility', 'Social/Meeting Hall', 'Strip Mall', 'Supermarket/Grocery Store', 'Swimming Pool', 'Vocational School', 'Worship Facility',\n",
       "        'missing_value'], dtype=object)]"
      ]
     },
     "execution_count": 32,
     "metadata": {},
     "output_type": "execute_result"
    }
   ],
   "source": [
    "encoder.categories_"
   ]
  },
  {
   "cell_type": "markdown",
   "metadata": {},
   "source": [
    "## Recalibrage (variables quantitatives)"
   ]
  },
  {
   "cell_type": "code",
   "execution_count": 33,
   "metadata": {
    "ExecuteTime": {
     "end_time": "2021-07-16T15:35:13.312666Z",
     "start_time": "2021-07-16T15:35:12.118598Z"
    }
   },
   "outputs": [
    {
     "data": {
      "image/png": "[encoded data removed]",
      "text/plain": [
       "<Figure size 576x396 with 6 Axes>"
      ]
     },
     "metadata": {},
     "output_type": "display_data"
    }
   ],
   "source": [
    "# Tracé des variables quantitatives avant recalibrage\n",
    "plt.style.use('seaborn')\n",
    "X_train_EUI[liste_variables_quantitatives].hist(bins=100)#, figsize=(22,15))\n",
    "plt.show()"
   ]
  },
  {
   "cell_type": "code",
   "execution_count": 34,
   "metadata": {
    "ExecuteTime": {
     "end_time": "2021-07-16T15:35:13.319667Z",
     "start_time": "2021-07-16T15:35:13.313666Z"
    },
    "scrolled": true
   },
   "outputs": [],
   "source": [
    "ss = StandardScaler()\n",
    "X_train_EUI_ss = ss.fit_transform(X_train_EUI[liste_variables_quantitatives])"
   ]
  },
  {
   "cell_type": "code",
   "execution_count": 35,
   "metadata": {
    "ExecuteTime": {
     "end_time": "2021-07-16T15:35:14.369727Z",
     "start_time": "2021-07-16T15:35:13.320667Z"
    }
   },
   "outputs": [
    {
     "data": {
      "image/png": "[encoded data removed]",
      "text/plain": [
       "<Figure size 576x396 with 6 Axes>"
      ]
     },
     "metadata": {},
     "output_type": "display_data"
    }
   ],
   "source": [
    "# Tracé des variables quantitatives après recalibrage\n",
    "df_ss = pd.DataFrame(X_train_EUI_ss, columns=liste_variables_quantitatives)\n",
    "\n",
    "plt.style.use('seaborn')\n",
    "df_ss.hist(bins=100)\n",
    "plt.show()"
   ]
  },
  {
   "cell_type": "markdown",
   "metadata": {},
   "source": [
    "## Pipeline (imputation, one-hot encoding, recalibrage)"
   ]
  },
  {
   "cell_type": "markdown",
   "metadata": {
    "ExecuteTime": {
     "end_time": "2021-06-16T19:48:04.018795Z",
     "start_time": "2021-06-16T19:48:04.009800Z"
    }
   },
   "source": [
    "On combine les opérations décrites dans les chapitres précédents (imputation, one-hot encoding, recalibrage) en un workflow automatisé."
   ]
  },
  {
   "cell_type": "code",
   "execution_count": 36,
   "metadata": {
    "ExecuteTime": {
     "end_time": "2021-07-16T15:35:14.376727Z",
     "start_time": "2021-07-16T15:35:14.370727Z"
    }
   },
   "outputs": [],
   "source": [
    "# On rappelle les jeux de train/test avant modification (puisqu'ils ont été modifiés dans les chapitres précédents (imputation, one-hot encoding, recalibrage)).\n",
    "X_train_EUI = df_train[liste_variables_pour_modelisation].copy()\n",
    "X_test_EUI = df_test[liste_variables_pour_modelisation].copy()\n",
    "y_train_EUI = df_train[['SiteEUI(kBtu/sf)']].copy()\n",
    "y_test_EUI = df_test[['SiteEUI(kBtu/sf)']].copy()"
   ]
  },
  {
   "cell_type": "markdown",
   "metadata": {
    "ExecuteTime": {
     "end_time": "2021-06-16T16:58:21.846724Z",
     "start_time": "2021-06-16T16:58:21.834709Z"
    },
    "scrolled": false
   },
   "source": [
    "### Pipeline variables quantitatives"
   ]
  },
  {
   "cell_type": "code",
   "execution_count": 37,
   "metadata": {
    "ExecuteTime": {
     "end_time": "2021-07-16T15:35:14.381727Z",
     "start_time": "2021-07-16T15:35:14.377727Z"
    }
   },
   "outputs": [],
   "source": [
    "pipeline_quanti = Pipeline([\n",
    "        ('imputer', SimpleImputer(strategy=\"median\")),\n",
    "        ('scaler', StandardScaler()),\n",
    "    ])"
   ]
  },
  {
   "cell_type": "code",
   "execution_count": 38,
   "metadata": {
    "ExecuteTime": {
     "end_time": "2021-07-16T15:35:15.516792Z",
     "start_time": "2021-07-16T15:35:14.382727Z"
    }
   },
   "outputs": [
    {
     "data": {
      "image/png": "[encoded data removed]",
      "text/plain": [
       "<Figure size 576x396 with 6 Axes>"
      ]
     },
     "metadata": {},
     "output_type": "display_data"
    }
   ],
   "source": [
    "# test du pipeline\n",
    "X_train_EUI_quanti = pipeline_quanti.fit_transform(X_train_EUI[liste_variables_quantitatives])\n",
    "\n",
    "# Tracé des variables quantitatives après pipeline\n",
    "df_quanti = pd.DataFrame(X_train_EUI_quanti, columns=liste_variables_quantitatives)\n",
    "plt.style.use('seaborn')\n",
    "df_quanti.hist(bins=100)\n",
    "plt.show()"
   ]
  },
  {
   "cell_type": "markdown",
   "metadata": {
    "ExecuteTime": {
     "end_time": "2021-06-17T09:32:15.077282Z",
     "start_time": "2021-06-17T09:32:15.053308Z"
    }
   },
   "source": [
    "OK, on retrouve les mêmes histogrammes avec un pipeline."
   ]
  },
  {
   "cell_type": "markdown",
   "metadata": {
    "ExecuteTime": {
     "end_time": "2021-06-16T16:58:21.846724Z",
     "start_time": "2021-06-16T16:58:21.834709Z"
    },
    "scrolled": false
   },
   "source": [
    "### Pipeline variables qualitatives"
   ]
  },
  {
   "cell_type": "markdown",
   "metadata": {},
   "source": [
    "L'imputer SimpleImputer de sklearn a un défaut de conception : lorsque le dataframe contient des données de type différents (string et numérique), les colonnes numériques sont imputées avec des strings.\n",
    "Ce qui fait ensuiter bugger OneHotEncoder.\n",
    "Il faut donc créer un imputeur maison et en faire un transformateur compatible avec un pipeline."
   ]
  },
  {
   "cell_type": "code",
   "execution_count": 39,
   "metadata": {
    "ExecuteTime": {
     "end_time": "2021-07-16T15:35:15.522793Z",
     "start_time": "2021-07-16T15:35:15.518792Z"
    }
   },
   "outputs": [],
   "source": [
    "def Remplace_NA(df=None):\n",
    "    \"\"\" Pour chaque variable, on remplace les valeurs null par une même valeur :  \n",
    "      * 'ND' pour les strings,  \n",
    "      * -1 pour les variables numériques.\n",
    "    Args :\n",
    "    - df : un dataframe.\n",
    "    Returns : \n",
    "    - dff : le dataframe sans valeur null.\n",
    "    \"\"\"\n",
    "    dff = df.copy()\n",
    "    for var in liste_variables_qualitatives:\n",
    "        if dff[var].dtype == 'object' :\n",
    "            dff[var] = dff[var].fillna(value='ND', inplace=False)\n",
    "        else :\n",
    "            dff[var] = dff[var].fillna(value=-1, inplace=False)\n",
    "    return dff\n",
    "            \n",
    "MonImputeur = FunctionTransformer(Remplace_NA)"
   ]
  },
  {
   "cell_type": "code",
   "execution_count": 40,
   "metadata": {
    "ExecuteTime": {
     "end_time": "2021-07-16T15:35:15.527793Z",
     "start_time": "2021-07-16T15:35:15.523793Z"
    }
   },
   "outputs": [],
   "source": [
    "pipeline_quali = Pipeline([\n",
    "        ('imputer', MonImputeur),\n",
    "        ('encoder', OneHotEncoder(handle_unknown='ignore'))\n",
    "    ])"
   ]
  },
  {
   "cell_type": "markdown",
   "metadata": {},
   "source": [
    "### Union des pipelines (ColumnTransformer)"
   ]
  },
  {
   "cell_type": "code",
   "execution_count": 41,
   "metadata": {
    "ExecuteTime": {
     "end_time": "2021-07-16T15:35:15.559795Z",
     "start_time": "2021-07-16T15:35:15.528793Z"
    },
    "scrolled": true
   },
   "outputs": [
    {
     "data": {
      "text/plain": [
       "<1319x239 sparse matrix of type '<class 'numpy.float64'>'\n",
       "\twith 17147 stored elements in Compressed Sparse Row format>"
      ]
     },
     "execution_count": 41,
     "metadata": {},
     "output_type": "execute_result"
    }
   ],
   "source": [
    "full_pipeline = ColumnTransformer([\n",
    "        (\"pipe quanti\", pipeline_quanti, liste_variables_quantitatives),\n",
    "        (\"pipe quali\", pipeline_quali, liste_variables_qualitatives)\n",
    "    ])\n",
    "\n",
    "X_train_EUI_prepared = full_pipeline.fit_transform(X_train_EUI)\n",
    "X_test_EUI_prepared = full_pipeline.transform(X_test_EUI)\n",
    "\n",
    "X_train_EUI_prepared"
   ]
  },
  {
   "cell_type": "code",
   "execution_count": 42,
   "metadata": {
    "ExecuteTime": {
     "end_time": "2021-07-16T15:35:15.601797Z",
     "start_time": "2021-07-16T15:35:15.560795Z"
    },
    "code_folding": []
   },
   "outputs": [
    {
     "data": {
      "text/html": [
       "<style>div.sk-top-container {color: black;background-color: white;}div.sk-toggleable {background-color: white;}label.sk-toggleable__label {cursor: pointer;display: block;width: 100%;margin-bottom: 0;padding: 0.2em 0.3em;box-sizing: border-box;text-align: center;}div.sk-toggleable__content {max-height: 0;max-width: 0;overflow: hidden;text-align: left;background-color: #f0f8ff;}div.sk-toggleable__content pre {margin: 0.2em;color: black;border-radius: 0.25em;background-color: #f0f8ff;}input.sk-toggleable__control:checked~div.sk-toggleable__content {max-height: 200px;max-width: 100%;overflow: auto;}div.sk-estimator input.sk-toggleable__control:checked~label.sk-toggleable__label {background-color: #d4ebff;}div.sk-label input.sk-toggleable__control:checked~label.sk-toggleable__label {background-color: #d4ebff;}input.sk-hidden--visually {border: 0;clip: rect(1px 1px 1px 1px);clip: rect(1px, 1px, 1px, 1px);height: 1px;margin: -1px;overflow: hidden;padding: 0;position: absolute;width: 1px;}div.sk-estimator {font-family: monospace;background-color: #f0f8ff;margin: 0.25em 0.25em;border: 1px dotted black;border-radius: 0.25em;box-sizing: border-box;}div.sk-estimator:hover {background-color: #d4ebff;}div.sk-parallel-item::after {content: \"\";width: 100%;border-bottom: 1px solid gray;flex-grow: 1;}div.sk-label:hover label.sk-toggleable__label {background-color: #d4ebff;}div.sk-serial::before {content: \"\";position: absolute;border-left: 1px solid gray;box-sizing: border-box;top: 2em;bottom: 0;left: 50%;}div.sk-serial {display: flex;flex-direction: column;align-items: center;background-color: white;}div.sk-item {z-index: 1;}div.sk-parallel {display: flex;align-items: stretch;justify-content: center;background-color: white;}div.sk-parallel-item {display: flex;flex-direction: column;position: relative;background-color: white;}div.sk-parallel-item:first-child::after {align-self: flex-end;width: 50%;}div.sk-parallel-item:last-child::after {align-self: flex-start;width: 50%;}div.sk-parallel-item:only-child::after {width: 0;}div.sk-dashed-wrapped {border: 1px dashed gray;margin: 0.2em;box-sizing: border-box;padding-bottom: 0.1em;background-color: white;position: relative;}div.sk-label label {font-family: monospace;font-weight: bold;background-color: white;display: inline-block;line-height: 1.2em;}div.sk-label-container {position: relative;z-index: 2;text-align: center;}div.sk-container {display: inline-block;position: relative;}</style><div class=\"sk-top-container\"><div class=\"sk-container\"><div class=\"sk-item sk-dashed-wrapped\"><div class=\"sk-label-container\"><div class=\"sk-label sk-toggleable\"><input class=\"sk-toggleable__control sk-hidden--visually\" id=\"26fb1507-669e-4c0f-b61d-a11d9901c009\" type=\"checkbox\" ><label class=\"sk-toggleable__label\" for=\"26fb1507-669e-4c0f-b61d-a11d9901c009\">ColumnTransformer</label><div class=\"sk-toggleable__content\"><pre>ColumnTransformer(transformers=[('pipe quanti',\n",
       "                                 Pipeline(steps=[('imputer',\n",
       "                                                  SimpleImputer(strategy='median')),\n",
       "                                                 ('scaler', StandardScaler())]),\n",
       "                                 ['Latitude', 'Longitude', 'YearBuilt',\n",
       "                                  'NumberofBuildings', 'NumberofFloors']),\n",
       "                                ('pipe quali',\n",
       "                                 Pipeline(steps=[('imputer',\n",
       "                                                  FunctionTransformer(func=<function Remplace_NA at 0x000000000B82BC10>)),\n",
       "                                                 ('encoder',\n",
       "                                                  OneHotEncoder(handle_unknown='ignore'))]),\n",
       "                                 ['BuildingType', 'PrimaryPropertyType',\n",
       "                                  'ZipCode', 'CouncilDistrictCode',\n",
       "                                  'Neighborhood', 'LargestPropertyUseType',\n",
       "                                  'SecondLargestPropertyUseType',\n",
       "                                  'ThirdLargestPropertyUseType'])])</pre></div></div></div><div class=\"sk-parallel\"><div class=\"sk-parallel-item\"><div class=\"sk-item\"><div class=\"sk-label-container\"><div class=\"sk-label sk-toggleable\"><input class=\"sk-toggleable__control sk-hidden--visually\" id=\"23933e53-06e9-4a31-8ce1-a98b86c203d4\" type=\"checkbox\" ><label class=\"sk-toggleable__label\" for=\"23933e53-06e9-4a31-8ce1-a98b86c203d4\">pipe quanti</label><div class=\"sk-toggleable__content\"><pre>['Latitude', 'Longitude', 'YearBuilt', 'NumberofBuildings', 'NumberofFloors']</pre></div></div></div><div class=\"sk-serial\"><div class=\"sk-item\"><div class=\"sk-serial\"><div class=\"sk-item\"><div class=\"sk-estimator sk-toggleable\"><input class=\"sk-toggleable__control sk-hidden--visually\" id=\"0db27fd4-7f12-4ed3-91e0-dbd790d361b7\" type=\"checkbox\" ><label class=\"sk-toggleable__label\" for=\"0db27fd4-7f12-4ed3-91e0-dbd790d361b7\">SimpleImputer</label><div class=\"sk-toggleable__content\"><pre>SimpleImputer(strategy='median')</pre></div></div></div><div class=\"sk-item\"><div class=\"sk-estimator sk-toggleable\"><input class=\"sk-toggleable__control sk-hidden--visually\" id=\"9a891c1d-37ed-44cf-9b16-8f65aea23c9c\" type=\"checkbox\" ><label class=\"sk-toggleable__label\" for=\"9a891c1d-37ed-44cf-9b16-8f65aea23c9c\">StandardScaler</label><div class=\"sk-toggleable__content\"><pre>StandardScaler()</pre></div></div></div></div></div></div></div></div><div class=\"sk-parallel-item\"><div class=\"sk-item\"><div class=\"sk-label-container\"><div class=\"sk-label sk-toggleable\"><input class=\"sk-toggleable__control sk-hidden--visually\" id=\"4e8b0269-ebfa-4f9c-a14e-fd5000b11266\" type=\"checkbox\" ><label class=\"sk-toggleable__label\" for=\"4e8b0269-ebfa-4f9c-a14e-fd5000b11266\">pipe quali</label><div class=\"sk-toggleable__content\"><pre>['BuildingType', 'PrimaryPropertyType', 'ZipCode', 'CouncilDistrictCode', 'Neighborhood', 'LargestPropertyUseType', 'SecondLargestPropertyUseType', 'ThirdLargestPropertyUseType']</pre></div></div></div><div class=\"sk-serial\"><div class=\"sk-item\"><div class=\"sk-serial\"><div class=\"sk-item\"><div class=\"sk-estimator sk-toggleable\"><input class=\"sk-toggleable__control sk-hidden--visually\" id=\"1d8091d2-0273-452d-bea2-cc51a9fca787\" type=\"checkbox\" ><label class=\"sk-toggleable__label\" for=\"1d8091d2-0273-452d-bea2-cc51a9fca787\">FunctionTransformer</label><div class=\"sk-toggleable__content\"><pre>FunctionTransformer(func=<function Remplace_NA at 0x000000000B82BC10>)</pre></div></div></div><div class=\"sk-item\"><div class=\"sk-estimator sk-toggleable\"><input class=\"sk-toggleable__control sk-hidden--visually\" id=\"fdaaf222-d9f6-4f7a-a2f9-bf34939ed615\" type=\"checkbox\" ><label class=\"sk-toggleable__label\" for=\"fdaaf222-d9f6-4f7a-a2f9-bf34939ed615\">OneHotEncoder</label><div class=\"sk-toggleable__content\"><pre>OneHotEncoder(handle_unknown='ignore')</pre></div></div></div></div></div></div></div></div></div></div></div></div>"
      ],
      "text/plain": [
       "ColumnTransformer(transformers=[('pipe quanti',\n",
       "                                 Pipeline(steps=[('imputer',\n",
       "                                                  SimpleImputer(strategy='median')),\n",
       "                                                 ('scaler', StandardScaler())]),\n",
       "                                 ['Latitude', 'Longitude', 'YearBuilt',\n",
       "                                  'NumberofBuildings', 'NumberofFloors']),\n",
       "                                ('pipe quali',\n",
       "                                 Pipeline(steps=[('imputer',\n",
       "                                                  FunctionTransformer(func=<function Remplace_NA at 0x000000000B82BC10>)),\n",
       "                                                 ('encoder',\n",
       "                                                  OneHotEncoder(handle_unknown='ignore'))]),\n",
       "                                 ['BuildingType', 'PrimaryPropertyType',\n",
       "                                  'ZipCode', 'CouncilDistrictCode',\n",
       "                                  'Neighborhood', 'LargestPropertyUseType',\n",
       "                                  'SecondLargestPropertyUseType',\n",
       "                                  'ThirdLargestPropertyUseType'])])"
      ]
     },
     "execution_count": 42,
     "metadata": {},
     "output_type": "execute_result"
    }
   ],
   "source": [
    "# visualisation du pipeline\n",
    "# set_config(display='diagram')\n",
    "full_pipeline"
   ]
  },
  {
   "cell_type": "markdown",
   "metadata": {},
   "source": [
    "## Dummy Regressor"
   ]
  },
  {
   "cell_type": "markdown",
   "metadata": {},
   "source": [
    "##### Cross validation"
   ]
  },
  {
   "cell_type": "code",
   "execution_count": 43,
   "metadata": {
    "ExecuteTime": {
     "end_time": "2021-07-16T15:35:15.624798Z",
     "start_time": "2021-07-16T15:35:15.602797Z"
    }
   },
   "outputs": [
    {
     "name": "stdout",
     "output_type": "stream",
     "text": [
      "Scores: -2e-05 -0.011 -0.00094 -0.01 -0.00017 \n",
      "Mean: -0.0045\n",
      "Standard deviation: 0.0057\n"
     ]
    }
   ],
   "source": [
    "dum_reg = DummyRegressor(strategy='mean')\n",
    "dum_scores = cross_val_score(dum_reg, X_train_EUI_prepared, y_train_EUI,\n",
    "                             scoring=\"r2\", cv=5)\n",
    "display_scores(dum_scores, 2)"
   ]
  },
  {
   "cell_type": "markdown",
   "metadata": {},
   "source": [
    "## Régressions linéaires"
   ]
  },
  {
   "cell_type": "markdown",
   "metadata": {},
   "source": [
    "### Régression linéaire simple"
   ]
  },
  {
   "cell_type": "code",
   "execution_count": 44,
   "metadata": {
    "ExecuteTime": {
     "end_time": "2021-07-16T15:35:15.674801Z",
     "start_time": "2021-07-16T15:35:15.625799Z"
    }
   },
   "outputs": [
    {
     "data": {
      "text/html": [
       "<style>div.sk-top-container {color: black;background-color: white;}div.sk-toggleable {background-color: white;}label.sk-toggleable__label {cursor: pointer;display: block;width: 100%;margin-bottom: 0;padding: 0.2em 0.3em;box-sizing: border-box;text-align: center;}div.sk-toggleable__content {max-height: 0;max-width: 0;overflow: hidden;text-align: left;background-color: #f0f8ff;}div.sk-toggleable__content pre {margin: 0.2em;color: black;border-radius: 0.25em;background-color: #f0f8ff;}input.sk-toggleable__control:checked~div.sk-toggleable__content {max-height: 200px;max-width: 100%;overflow: auto;}div.sk-estimator input.sk-toggleable__control:checked~label.sk-toggleable__label {background-color: #d4ebff;}div.sk-label input.sk-toggleable__control:checked~label.sk-toggleable__label {background-color: #d4ebff;}input.sk-hidden--visually {border: 0;clip: rect(1px 1px 1px 1px);clip: rect(1px, 1px, 1px, 1px);height: 1px;margin: -1px;overflow: hidden;padding: 0;position: absolute;width: 1px;}div.sk-estimator {font-family: monospace;background-color: #f0f8ff;margin: 0.25em 0.25em;border: 1px dotted black;border-radius: 0.25em;box-sizing: border-box;}div.sk-estimator:hover {background-color: #d4ebff;}div.sk-parallel-item::after {content: \"\";width: 100%;border-bottom: 1px solid gray;flex-grow: 1;}div.sk-label:hover label.sk-toggleable__label {background-color: #d4ebff;}div.sk-serial::before {content: \"\";position: absolute;border-left: 1px solid gray;box-sizing: border-box;top: 2em;bottom: 0;left: 50%;}div.sk-serial {display: flex;flex-direction: column;align-items: center;background-color: white;}div.sk-item {z-index: 1;}div.sk-parallel {display: flex;align-items: stretch;justify-content: center;background-color: white;}div.sk-parallel-item {display: flex;flex-direction: column;position: relative;background-color: white;}div.sk-parallel-item:first-child::after {align-self: flex-end;width: 50%;}div.sk-parallel-item:last-child::after {align-self: flex-start;width: 50%;}div.sk-parallel-item:only-child::after {width: 0;}div.sk-dashed-wrapped {border: 1px dashed gray;margin: 0.2em;box-sizing: border-box;padding-bottom: 0.1em;background-color: white;position: relative;}div.sk-label label {font-family: monospace;font-weight: bold;background-color: white;display: inline-block;line-height: 1.2em;}div.sk-label-container {position: relative;z-index: 2;text-align: center;}div.sk-container {display: inline-block;position: relative;}</style><div class=\"sk-top-container\"><div class=\"sk-container\"><div class=\"sk-item\"><div class=\"sk-estimator sk-toggleable\"><input class=\"sk-toggleable__control sk-hidden--visually\" id=\"45cf0953-7bd7-444f-8b0e-c3825d1702d3\" type=\"checkbox\" checked><label class=\"sk-toggleable__label\" for=\"45cf0953-7bd7-444f-8b0e-c3825d1702d3\">LinearRegression</label><div class=\"sk-toggleable__content\"><pre>LinearRegression()</pre></div></div></div></div></div>"
      ],
      "text/plain": [
       "LinearRegression()"
      ]
     },
     "execution_count": 44,
     "metadata": {},
     "output_type": "execute_result"
    }
   ],
   "source": [
    "lin_reg = LinearRegression()\n",
    "\n",
    "# Entrainement\n",
    "lin_reg.fit(X_train_EUI_prepared, y_train_EUI)"
   ]
  },
  {
   "cell_type": "markdown",
   "metadata": {},
   "source": [
    "##### Test de quelques valeurs prédites"
   ]
  },
  {
   "cell_type": "code",
   "execution_count": 45,
   "metadata": {
    "ExecuteTime": {
     "end_time": "2021-07-16T15:35:15.692802Z",
     "start_time": "2021-07-16T15:35:15.675801Z"
    },
    "scrolled": true
   },
   "outputs": [
    {
     "data": {
      "text/html": [
       "<div>\n",
       "<style scoped>\n",
       "    .dataframe tbody tr th:only-of-type {\n",
       "        vertical-align: middle;\n",
       "    }\n",
       "\n",
       "    .dataframe tbody tr th {\n",
       "        vertical-align: top;\n",
       "    }\n",
       "\n",
       "    .dataframe thead th {\n",
       "        text-align: right;\n",
       "    }\n",
       "</style>\n",
       "<table border=\"1\" class=\"dataframe\">\n",
       "  <thead>\n",
       "    <tr style=\"text-align: right;\">\n",
       "      <th></th>\n",
       "      <th>SiteEUI(kBtu/sf)</th>\n",
       "      <th>Prédictions</th>\n",
       "    </tr>\n",
       "  </thead>\n",
       "  <tbody>\n",
       "    <tr>\n",
       "      <th>2447</th>\n",
       "      <td>9.100000</td>\n",
       "      <td>48.767303</td>\n",
       "    </tr>\n",
       "    <tr>\n",
       "      <th>2559</th>\n",
       "      <td>81.300003</td>\n",
       "      <td>42.039337</td>\n",
       "    </tr>\n",
       "    <tr>\n",
       "      <th>137</th>\n",
       "      <td>33.299999</td>\n",
       "      <td>38.556516</td>\n",
       "    </tr>\n",
       "    <tr>\n",
       "      <th>1969</th>\n",
       "      <td>33.500000</td>\n",
       "      <td>30.452130</td>\n",
       "    </tr>\n",
       "    <tr>\n",
       "      <th>446</th>\n",
       "      <td>30.900000</td>\n",
       "      <td>92.408572</td>\n",
       "    </tr>\n",
       "    <tr>\n",
       "      <th>1519</th>\n",
       "      <td>319.600006</td>\n",
       "      <td>241.338602</td>\n",
       "    </tr>\n",
       "    <tr>\n",
       "      <th>3317</th>\n",
       "      <td>52.099998</td>\n",
       "      <td>64.988353</td>\n",
       "    </tr>\n",
       "    <tr>\n",
       "      <th>1197</th>\n",
       "      <td>63.400002</td>\n",
       "      <td>81.811360</td>\n",
       "    </tr>\n",
       "    <tr>\n",
       "      <th>530</th>\n",
       "      <td>52.299999</td>\n",
       "      <td>35.112925</td>\n",
       "    </tr>\n",
       "    <tr>\n",
       "      <th>245</th>\n",
       "      <td>69.599998</td>\n",
       "      <td>73.594738</td>\n",
       "    </tr>\n",
       "  </tbody>\n",
       "</table>\n",
       "</div>"
      ],
      "text/plain": [
       "      SiteEUI(kBtu/sf)  Prédictions\n",
       "2447          9.100000    48.767303\n",
       "2559         81.300003    42.039337\n",
       "137          33.299999    38.556516\n",
       "1969         33.500000    30.452130\n",
       "446          30.900000    92.408572\n",
       "1519        319.600006   241.338602\n",
       "3317         52.099998    64.988353\n",
       "1197         63.400002    81.811360\n",
       "530          52.299999    35.112925\n",
       "245          69.599998    73.594738"
      ]
     },
     "execution_count": 45,
     "metadata": {},
     "output_type": "execute_result"
    }
   ],
   "source": [
    "some_data = X_train_EUI.iloc[:100]\n",
    "some_labels = y_train_EUI.iloc[:100].copy()\n",
    "some_data_prepared = full_pipeline.transform(some_data)\n",
    "some_data_predicted = lin_reg.predict(some_data_prepared)\n",
    "\n",
    "some_labels['Prédictions'] = some_data_predicted\n",
    "some_labels.head(10)"
   ]
  },
  {
   "cell_type": "markdown",
   "metadata": {},
   "source": [
    "#### Metrics"
   ]
  },
  {
   "cell_type": "markdown",
   "metadata": {},
   "source": [
    "##### RMSE :"
   ]
  },
  {
   "cell_type": "code",
   "execution_count": 46,
   "metadata": {
    "ExecuteTime": {
     "end_time": "2021-07-16T15:35:15.698803Z",
     "start_time": "2021-07-16T15:35:15.693802Z"
    },
    "scrolled": true
   },
   "outputs": [
    {
     "data": {
      "text/plain": [
       "45.0"
      ]
     },
     "execution_count": 46,
     "metadata": {},
     "output_type": "execute_result"
    }
   ],
   "source": [
    "EUI_predictions = lin_reg.predict(X_train_EUI_prepared)\n",
    "lin_mse = mean_squared_error(y_train_EUI, EUI_predictions)\n",
    "lin_rmse = np.sqrt(lin_mse)\n",
    "arrondi(lin_rmse)"
   ]
  },
  {
   "cell_type": "markdown",
   "metadata": {},
   "source": [
    "##### MAE :"
   ]
  },
  {
   "cell_type": "code",
   "execution_count": 47,
   "metadata": {
    "ExecuteTime": {
     "end_time": "2021-07-16T15:35:15.704803Z",
     "start_time": "2021-07-16T15:35:15.699803Z"
    }
   },
   "outputs": [
    {
     "data": {
      "text/plain": [
       "28.3"
      ]
     },
     "execution_count": 47,
     "metadata": {},
     "output_type": "execute_result"
    }
   ],
   "source": [
    "lin_mae = mean_absolute_error(y_train_EUI, EUI_predictions)\n",
    "arrondi(lin_mae)"
   ]
  },
  {
   "cell_type": "markdown",
   "metadata": {},
   "source": [
    "##### R² :"
   ]
  },
  {
   "cell_type": "code",
   "execution_count": 48,
   "metadata": {
    "ExecuteTime": {
     "end_time": "2021-07-16T15:35:15.711803Z",
     "start_time": "2021-07-16T15:35:15.705803Z"
    }
   },
   "outputs": [
    {
     "data": {
      "text/plain": [
       "0.642"
      ]
     },
     "execution_count": 48,
     "metadata": {},
     "output_type": "execute_result"
    }
   ],
   "source": [
    "#R² par la méthode score() du transformateur\n",
    "arrondi(lin_reg.score(X_train_EUI_prepared, y_train_EUI))"
   ]
  },
  {
   "cell_type": "code",
   "execution_count": 49,
   "metadata": {
    "ExecuteTime": {
     "end_time": "2021-07-16T15:35:15.718804Z",
     "start_time": "2021-07-16T15:35:15.712803Z"
    }
   },
   "outputs": [
    {
     "data": {
      "text/plain": [
       "0.642"
      ]
     },
     "execution_count": 49,
     "metadata": {},
     "output_type": "execute_result"
    }
   ],
   "source": [
    "#R² par la fonction r2_score de metrics\n",
    "arrondi(r2_score(y_train_EUI, EUI_predictions))"
   ]
  },
  {
   "cell_type": "markdown",
   "metadata": {},
   "source": [
    "#### Scatter plot"
   ]
  },
  {
   "cell_type": "code",
   "execution_count": 50,
   "metadata": {
    "ExecuteTime": {
     "end_time": "2021-07-16T15:35:16.123827Z",
     "start_time": "2021-07-16T15:35:15.719804Z"
    },
    "scrolled": false
   },
   "outputs": [
    {
     "data": {
      "image/png": "[encoded data removed]",
      "text/plain": [
       "<Figure size 576x396 with 1 Axes>"
      ]
     },
     "metadata": {},
     "output_type": "display_data"
    },
    {
     "data": {
      "image/png": "[encoded data removed]",
      "text/plain": [
       "<Figure size 576x396 with 1 Axes>"
      ]
     },
     "metadata": {},
     "output_type": "display_data"
    }
   ],
   "source": [
    "ser_predictions = pd.Series(np.squeeze(EUI_predictions), name='Prédictions')\n",
    "scatter_plot(ser_x=y_train_EUI.reset_index().iloc[:,1], ser_y=ser_predictions, alpha=1, droite_identite=True)\n",
    "scatter_plot(ser_x=y_train_EUI.reset_index().iloc[:,1], ser_y=ser_predictions, alpha=1, max_x=300, max_y=300, droite_identite=True)"
   ]
  },
  {
   "cell_type": "markdown",
   "metadata": {},
   "source": [
    "#### Analyse des paramètres du modèle"
   ]
  },
  {
   "cell_type": "code",
   "execution_count": 51,
   "metadata": {
    "ExecuteTime": {
     "end_time": "2021-07-16T15:35:16.128827Z",
     "start_time": "2021-07-16T15:35:16.124827Z"
    }
   },
   "outputs": [
    {
     "data": {
      "text/plain": [
       "[108]"
      ]
     },
     "execution_count": 51,
     "metadata": {},
     "output_type": "execute_result"
    }
   ],
   "source": [
    "arrondi(lin_reg.intercept_)"
   ]
  },
  {
   "cell_type": "code",
   "execution_count": 52,
   "metadata": {
    "ExecuteTime": {
     "end_time": "2021-07-16T15:35:16.134828Z",
     "start_time": "2021-07-16T15:35:16.129827Z"
    },
    "scrolled": true
   },
   "outputs": [
    {
     "name": "stdout",
     "output_type": "stream",
     "text": [
      "lin_reg.coef_ shape : (1, 239)\n"
     ]
    }
   ],
   "source": [
    "print(\"lin_reg.coef_ shape :\", lin_reg.coef_.shape)\n",
    "coefs = lin_reg.coef_"
   ]
  },
  {
   "cell_type": "code",
   "execution_count": 53,
   "metadata": {
    "ExecuteTime": {
     "end_time": "2021-07-16T15:35:16.140828Z",
     "start_time": "2021-07-16T15:35:16.135828Z"
    },
    "scrolled": true
   },
   "outputs": [
    {
     "data": {
      "text/plain": [
       "array(['BuildingType_Campus', 'BuildingType_NonResidential', 'BuildingType_Nonresidential COS', 'BuildingType_Nonresidential WA',\n",
       "       'BuildingType_SPS-District K-12', 'PrimaryPropertyType_Distribution Center', 'PrimaryPropertyType_Hospital', 'PrimaryPropertyType_Hotel',\n",
       "       'PrimaryPropertyType_K-12 School', 'PrimaryPropertyType_Laboratory', 'PrimaryPropertyType_Large Office', 'PrimaryPropertyType_Low-Rise Multifamily',\n",
       "       'PrimaryPropertyType_Medical Office', 'PrimaryPropertyType_Mixed Use Property', 'PrimaryPropertyType_Office', 'PrimaryPropertyType_Other',\n",
       "       'PrimaryPropertyType_Refrigerated Warehouse', 'PrimaryPropertyType_Residence Hall', 'PrimaryPropertyType_Restaurant',\n",
       "       'PrimaryPropertyType_Retail Store', 'PrimaryPropertyType_Self-Storage Facility', 'PrimaryPropertyType_Senior Care Community',\n",
       "       'PrimaryPropertyType_Small- and Mid-Sized Office', 'PrimaryPropertyType_Supermarket / Grocery Store', 'PrimaryPropertyType_University',\n",
       "       'PrimaryPropertyType_Warehouse', 'PrimaryPropertyType_Worship Facility', 'ZipCode_-1.0', 'ZipCode_98013.0', 'ZipCode_98020.0', 'ZipCode_98033.0',\n",
       "       'ZipCode_98053.0', 'ZipCode_98070.0', 'ZipCode_98101.0', 'ZipCode_98102.0', 'ZipCode_98103.0', 'ZipCode_98104.0', 'ZipCode_98105.0', 'ZipCode_98106.0',\n",
       "       'ZipCode_98107.0', 'ZipCode_98108.0', 'ZipCode_98109.0', 'ZipCode_98111.0', 'ZipCode_98112.0', 'ZipCode_98114.0', 'ZipCode_98115.0', 'ZipCode_98116.0',\n",
       "       'ZipCode_98117.0', 'ZipCode_98118.0', 'ZipCode_98119.0', 'ZipCode_98121.0', 'ZipCode_98122.0', 'ZipCode_98124.0', 'ZipCode_98125.0', 'ZipCode_98126.0',\n",
       "       'ZipCode_98133.0', 'ZipCode_98134.0', 'ZipCode_98136.0', 'ZipCode_98144.0', 'ZipCode_98145.0', 'ZipCode_98146.0', 'ZipCode_98154.0', 'ZipCode_98164.0',\n",
       "       'ZipCode_98168.0', 'ZipCode_98177.0', 'ZipCode_98178.0', 'ZipCode_98185.0', 'ZipCode_98191.0', 'ZipCode_98195.0', 'ZipCode_98199.0',\n",
       "       'CouncilDistrictCode_1', 'CouncilDistrictCode_2', 'CouncilDistrictCode_3', 'CouncilDistrictCode_4', 'CouncilDistrictCode_5', 'CouncilDistrictCode_6',\n",
       "       'CouncilDistrictCode_7', 'Neighborhood_BALLARD', 'Neighborhood_Ballard', 'Neighborhood_CENTRAL', 'Neighborhood_Central', 'Neighborhood_DELRIDGE',\n",
       "       'Neighborhood_DELRIDGE NEIGHBORHOODS', 'Neighborhood_DOWNTOWN', 'Neighborhood_Delridge', 'Neighborhood_EAST', 'Neighborhood_GREATER DUWAMISH',\n",
       "       'Neighborhood_LAKE UNION', 'Neighborhood_MAGNOLIA / QUEEN ANNE', 'Neighborhood_NORTH', 'Neighborhood_NORTHEAST', 'Neighborhood_NORTHWEST',\n",
       "       'Neighborhood_North', 'Neighborhood_Northwest', 'Neighborhood_SOUTHEAST', 'Neighborhood_SOUTHWEST', 'LargestPropertyUseType_Adult Education',\n",
       "       'LargestPropertyUseType_Automobile Dealership', 'LargestPropertyUseType_Bank Branch', 'LargestPropertyUseType_College/University',\n",
       "       'LargestPropertyUseType_Courthouse', 'LargestPropertyUseType_Data Center', 'LargestPropertyUseType_Distribution Center',\n",
       "       'LargestPropertyUseType_Financial Office', 'LargestPropertyUseType_Fire Station', 'LargestPropertyUseType_Fitness Center/Health Club/Gym',\n",
       "       'LargestPropertyUseType_Food Service', 'LargestPropertyUseType_Hospital (General Medical & Surgical)', 'LargestPropertyUseType_Hotel',\n",
       "       'LargestPropertyUseType_K-12 School', 'LargestPropertyUseType_Laboratory', 'LargestPropertyUseType_Library', 'LargestPropertyUseType_Lifestyle Center',\n",
       "       'LargestPropertyUseType_Manufacturing/Industrial Plant', 'LargestPropertyUseType_Medical Office', 'LargestPropertyUseType_Multifamily Housing',\n",
       "       'LargestPropertyUseType_Museum', 'LargestPropertyUseType_ND', 'LargestPropertyUseType_Non-Refrigerated Warehouse', 'LargestPropertyUseType_Office',\n",
       "       'LargestPropertyUseType_Other', 'LargestPropertyUseType_Other - Education', 'LargestPropertyUseType_Other - Entertainment/Public Assembly',\n",
       "       'LargestPropertyUseType_Other - Lodging/Residential', 'LargestPropertyUseType_Other - Mall', 'LargestPropertyUseType_Other - Public Services',\n",
       "       'LargestPropertyUseType_Other - Recreation', 'LargestPropertyUseType_Other - Restaurant/Bar', 'LargestPropertyUseType_Other - Services',\n",
       "       'LargestPropertyUseType_Other - Utility', 'LargestPropertyUseType_Other/Specialty Hospital', 'LargestPropertyUseType_Parking',\n",
       "       'LargestPropertyUseType_Performing Arts', 'LargestPropertyUseType_Personal Services (Health/Beauty, Dry Cleaning, etc)',\n",
       "       'LargestPropertyUseType_Police Station', 'LargestPropertyUseType_Pre-school/Daycare', 'LargestPropertyUseType_Prison/Incarceration',\n",
       "       'LargestPropertyUseType_Refrigerated Warehouse', 'LargestPropertyUseType_Repair Services (Vehicle, Shoe, Locksmith, etc)',\n",
       "       'LargestPropertyUseType_Residence Hall/Dormitory', 'LargestPropertyUseType_Residential Care Facility', 'LargestPropertyUseType_Restaurant',\n",
       "       'LargestPropertyUseType_Retail Store', 'LargestPropertyUseType_Self-Storage Facility', 'LargestPropertyUseType_Senior Care Community',\n",
       "       'LargestPropertyUseType_Social/Meeting Hall', 'LargestPropertyUseType_Strip Mall', 'LargestPropertyUseType_Supermarket/Grocery Store',\n",
       "       'LargestPropertyUseType_Urgent Care/Clinic/Other Outpatient', 'LargestPropertyUseType_Wholesale Club/Supercenter',\n",
       "       'LargestPropertyUseType_Worship Facility', 'SecondLargestPropertyUseType_Adult Education', 'SecondLargestPropertyUseType_Automobile Dealership',\n",
       "       'SecondLargestPropertyUseType_Bank Branch', 'SecondLargestPropertyUseType_Bar/Nightclub', 'SecondLargestPropertyUseType_College/University',\n",
       "       'SecondLargestPropertyUseType_Convenience Store without Gas Station', 'SecondLargestPropertyUseType_Data Center',\n",
       "       'SecondLargestPropertyUseType_Distribution Center', 'SecondLargestPropertyUseType_Fitness Center/Health Club/Gym',\n",
       "       'SecondLargestPropertyUseType_Food Sales', 'SecondLargestPropertyUseType_Food Service',\n",
       "       'SecondLargestPropertyUseType_Hospital (General Medical & Surgical)', 'SecondLargestPropertyUseType_Hotel', 'SecondLargestPropertyUseType_K-12 School',\n",
       "       'SecondLargestPropertyUseType_Laboratory', 'SecondLargestPropertyUseType_Manufacturing/Industrial Plant', 'SecondLargestPropertyUseType_Medical Office',\n",
       "       'SecondLargestPropertyUseType_Movie Theater', 'SecondLargestPropertyUseType_Multifamily Housing', 'SecondLargestPropertyUseType_ND',\n",
       "       'SecondLargestPropertyUseType_Non-Refrigerated Warehouse', 'SecondLargestPropertyUseType_Office', 'SecondLargestPropertyUseType_Other',\n",
       "       'SecondLargestPropertyUseType_Other - Education', 'SecondLargestPropertyUseType_Other - Entertainment/Public Assembly',\n",
       "       'SecondLargestPropertyUseType_Other - Lodging/Residential', 'SecondLargestPropertyUseType_Other - Public Services',\n",
       "       'SecondLargestPropertyUseType_Other - Recreation', 'SecondLargestPropertyUseType_Other - Restaurant/Bar',\n",
       "       'SecondLargestPropertyUseType_Other - Services', 'SecondLargestPropertyUseType_Parking', 'SecondLargestPropertyUseType_Performing Arts',\n",
       "       'SecondLargestPropertyUseType_Refrigerated Warehouse', 'SecondLargestPropertyUseType_Repair Services (Vehicle, Shoe, Locksmith, etc)',\n",
       "       'SecondLargestPropertyUseType_Residence Hall/Dormitory', 'SecondLargestPropertyUseType_Restaurant', 'SecondLargestPropertyUseType_Retail Store',\n",
       "       'SecondLargestPropertyUseType_Self-Storage Facility', 'SecondLargestPropertyUseType_Social/Meeting Hall',\n",
       "       'SecondLargestPropertyUseType_Supermarket/Grocery Store', 'SecondLargestPropertyUseType_Swimming Pool',\n",
       "       'SecondLargestPropertyUseType_Vocational School', 'SecondLargestPropertyUseType_Worship Facility', 'ThirdLargestPropertyUseType_Bank Branch',\n",
       "       'ThirdLargestPropertyUseType_Bar/Nightclub', 'ThirdLargestPropertyUseType_Convenience Store without Gas Station',\n",
       "       'ThirdLargestPropertyUseType_Data Center', 'ThirdLargestPropertyUseType_Distribution Center', 'ThirdLargestPropertyUseType_Fast Food Restaurant',\n",
       "       'ThirdLargestPropertyUseType_Financial Office', 'ThirdLargestPropertyUseType_Fitness Center/Health Club/Gym',\n",
       "       'ThirdLargestPropertyUseType_Food Service', 'ThirdLargestPropertyUseType_Hotel', 'ThirdLargestPropertyUseType_K-12 School',\n",
       "       'ThirdLargestPropertyUseType_Laboratory', 'ThirdLargestPropertyUseType_Manufacturing/Industrial Plant', 'ThirdLargestPropertyUseType_Medical Office',\n",
       "       'ThirdLargestPropertyUseType_Multifamily Housing', 'ThirdLargestPropertyUseType_ND', 'ThirdLargestPropertyUseType_Non-Refrigerated Warehouse',\n",
       "       'ThirdLargestPropertyUseType_Office', 'ThirdLargestPropertyUseType_Other', 'ThirdLargestPropertyUseType_Other - Education',\n",
       "       'ThirdLargestPropertyUseType_Other - Entertainment/Public Assembly', 'ThirdLargestPropertyUseType_Other - Recreation',\n",
       "       'ThirdLargestPropertyUseType_Other - Restaurant/Bar', 'ThirdLargestPropertyUseType_Other - Services',\n",
       "       'ThirdLargestPropertyUseType_Other - Technology/Science', 'ThirdLargestPropertyUseType_Other - Utility',\n",
       "       'ThirdLargestPropertyUseType_Other/Specialty Hospital', 'ThirdLargestPropertyUseType_Parking',\n",
       "       'ThirdLargestPropertyUseType_Personal Services (Health/Beauty, Dry Cleaning, etc)', 'ThirdLargestPropertyUseType_Pre-school/Daycare',\n",
       "       'ThirdLargestPropertyUseType_Refrigerated Warehouse', 'ThirdLargestPropertyUseType_Restaurant', 'ThirdLargestPropertyUseType_Retail Store',\n",
       "       'ThirdLargestPropertyUseType_Self-Storage Facility', 'ThirdLargestPropertyUseType_Social/Meeting Hall', 'ThirdLargestPropertyUseType_Strip Mall',\n",
       "       'ThirdLargestPropertyUseType_Supermarket/Grocery Store', 'ThirdLargestPropertyUseType_Swimming Pool', 'ThirdLargestPropertyUseType_Vocational School',\n",
       "       'ThirdLargestPropertyUseType_Worship Facility'], dtype=object)"
      ]
     },
     "execution_count": 53,
     "metadata": {},
     "output_type": "execute_result"
    }
   ],
   "source": [
    "modalites_var_quali = full_pipeline.named_transformers_['pipe quali'].named_steps['encoder'].get_feature_names(input_features=liste_variables_qualitatives)\n",
    "modalites_var_quali"
   ]
  },
  {
   "cell_type": "code",
   "execution_count": 54,
   "metadata": {
    "ExecuteTime": {
     "end_time": "2021-07-16T15:35:16.145828Z",
     "start_time": "2021-07-16T15:35:16.141828Z"
    }
   },
   "outputs": [],
   "source": [
    "noms_des_coefs = np.concatenate([liste_variables_quantitatives, modalites_var_quali])"
   ]
  },
  {
   "cell_type": "code",
   "execution_count": 55,
   "metadata": {
    "ExecuteTime": {
     "end_time": "2021-07-16T15:35:16.151829Z",
     "start_time": "2021-07-16T15:35:16.146828Z"
    },
    "scrolled": true
   },
   "outputs": [
    {
     "data": {
      "text/plain": [
       "array(['Latitude', 'Longitude', 'YearBuilt', 'NumberofBuildings', 'NumberofFloors', 'BuildingType_Campus', 'BuildingType_NonResidential',\n",
       "       'BuildingType_Nonresidential COS', 'BuildingType_Nonresidential WA', 'BuildingType_SPS-District K-12', 'PrimaryPropertyType_Distribution Center',\n",
       "       'PrimaryPropertyType_Hospital', 'PrimaryPropertyType_Hotel', 'PrimaryPropertyType_K-12 School', 'PrimaryPropertyType_Laboratory',\n",
       "       'PrimaryPropertyType_Large Office', 'PrimaryPropertyType_Low-Rise Multifamily', 'PrimaryPropertyType_Medical Office',\n",
       "       'PrimaryPropertyType_Mixed Use Property', 'PrimaryPropertyType_Office', 'PrimaryPropertyType_Other', 'PrimaryPropertyType_Refrigerated Warehouse',\n",
       "       'PrimaryPropertyType_Residence Hall', 'PrimaryPropertyType_Restaurant', 'PrimaryPropertyType_Retail Store', 'PrimaryPropertyType_Self-Storage Facility',\n",
       "       'PrimaryPropertyType_Senior Care Community', 'PrimaryPropertyType_Small- and Mid-Sized Office', 'PrimaryPropertyType_Supermarket / Grocery Store',\n",
       "       'PrimaryPropertyType_University', 'PrimaryPropertyType_Warehouse', 'PrimaryPropertyType_Worship Facility', 'ZipCode_-1.0', 'ZipCode_98013.0',\n",
       "       'ZipCode_98020.0', 'ZipCode_98033.0', 'ZipCode_98053.0', 'ZipCode_98070.0', 'ZipCode_98101.0', 'ZipCode_98102.0', 'ZipCode_98103.0', 'ZipCode_98104.0',\n",
       "       'ZipCode_98105.0', 'ZipCode_98106.0', 'ZipCode_98107.0', 'ZipCode_98108.0', 'ZipCode_98109.0', 'ZipCode_98111.0', 'ZipCode_98112.0', 'ZipCode_98114.0',\n",
       "       'ZipCode_98115.0', 'ZipCode_98116.0', 'ZipCode_98117.0', 'ZipCode_98118.0', 'ZipCode_98119.0', 'ZipCode_98121.0', 'ZipCode_98122.0', 'ZipCode_98124.0',\n",
       "       'ZipCode_98125.0', 'ZipCode_98126.0', 'ZipCode_98133.0', 'ZipCode_98134.0', 'ZipCode_98136.0', 'ZipCode_98144.0', 'ZipCode_98145.0', 'ZipCode_98146.0',\n",
       "       'ZipCode_98154.0', 'ZipCode_98164.0', 'ZipCode_98168.0', 'ZipCode_98177.0', 'ZipCode_98178.0', 'ZipCode_98185.0', 'ZipCode_98191.0', 'ZipCode_98195.0',\n",
       "       'ZipCode_98199.0', 'CouncilDistrictCode_1', 'CouncilDistrictCode_2', 'CouncilDistrictCode_3', 'CouncilDistrictCode_4', 'CouncilDistrictCode_5',\n",
       "       'CouncilDistrictCode_6', 'CouncilDistrictCode_7', 'Neighborhood_BALLARD', 'Neighborhood_Ballard', 'Neighborhood_CENTRAL', 'Neighborhood_Central',\n",
       "       'Neighborhood_DELRIDGE', 'Neighborhood_DELRIDGE NEIGHBORHOODS', 'Neighborhood_DOWNTOWN', 'Neighborhood_Delridge', 'Neighborhood_EAST',\n",
       "       'Neighborhood_GREATER DUWAMISH', 'Neighborhood_LAKE UNION', 'Neighborhood_MAGNOLIA / QUEEN ANNE', 'Neighborhood_NORTH', 'Neighborhood_NORTHEAST',\n",
       "       'Neighborhood_NORTHWEST', 'Neighborhood_North', 'Neighborhood_Northwest', 'Neighborhood_SOUTHEAST', 'Neighborhood_SOUTHWEST',\n",
       "       'LargestPropertyUseType_Adult Education', 'LargestPropertyUseType_Automobile Dealership', 'LargestPropertyUseType_Bank Branch',\n",
       "       'LargestPropertyUseType_College/University', 'LargestPropertyUseType_Courthouse', 'LargestPropertyUseType_Data Center',\n",
       "       'LargestPropertyUseType_Distribution Center', 'LargestPropertyUseType_Financial Office', 'LargestPropertyUseType_Fire Station',\n",
       "       'LargestPropertyUseType_Fitness Center/Health Club/Gym', 'LargestPropertyUseType_Food Service',\n",
       "       'LargestPropertyUseType_Hospital (General Medical & Surgical)', 'LargestPropertyUseType_Hotel', 'LargestPropertyUseType_K-12 School',\n",
       "       'LargestPropertyUseType_Laboratory', 'LargestPropertyUseType_Library', 'LargestPropertyUseType_Lifestyle Center',\n",
       "       'LargestPropertyUseType_Manufacturing/Industrial Plant', 'LargestPropertyUseType_Medical Office', 'LargestPropertyUseType_Multifamily Housing',\n",
       "       'LargestPropertyUseType_Museum', 'LargestPropertyUseType_ND', 'LargestPropertyUseType_Non-Refrigerated Warehouse', 'LargestPropertyUseType_Office',\n",
       "       'LargestPropertyUseType_Other', 'LargestPropertyUseType_Other - Education', 'LargestPropertyUseType_Other - Entertainment/Public Assembly',\n",
       "       'LargestPropertyUseType_Other - Lodging/Residential', 'LargestPropertyUseType_Other - Mall', 'LargestPropertyUseType_Other - Public Services',\n",
       "       'LargestPropertyUseType_Other - Recreation', 'LargestPropertyUseType_Other - Restaurant/Bar', 'LargestPropertyUseType_Other - Services',\n",
       "       'LargestPropertyUseType_Other - Utility', 'LargestPropertyUseType_Other/Specialty Hospital', 'LargestPropertyUseType_Parking',\n",
       "       'LargestPropertyUseType_Performing Arts', 'LargestPropertyUseType_Personal Services (Health/Beauty, Dry Cleaning, etc)',\n",
       "       'LargestPropertyUseType_Police Station', 'LargestPropertyUseType_Pre-school/Daycare', 'LargestPropertyUseType_Prison/Incarceration',\n",
       "       'LargestPropertyUseType_Refrigerated Warehouse', 'LargestPropertyUseType_Repair Services (Vehicle, Shoe, Locksmith, etc)',\n",
       "       'LargestPropertyUseType_Residence Hall/Dormitory', 'LargestPropertyUseType_Residential Care Facility', 'LargestPropertyUseType_Restaurant',\n",
       "       'LargestPropertyUseType_Retail Store', 'LargestPropertyUseType_Self-Storage Facility', 'LargestPropertyUseType_Senior Care Community',\n",
       "       'LargestPropertyUseType_Social/Meeting Hall', 'LargestPropertyUseType_Strip Mall', 'LargestPropertyUseType_Supermarket/Grocery Store',\n",
       "       'LargestPropertyUseType_Urgent Care/Clinic/Other Outpatient', 'LargestPropertyUseType_Wholesale Club/Supercenter',\n",
       "       'LargestPropertyUseType_Worship Facility', 'SecondLargestPropertyUseType_Adult Education', 'SecondLargestPropertyUseType_Automobile Dealership',\n",
       "       'SecondLargestPropertyUseType_Bank Branch', 'SecondLargestPropertyUseType_Bar/Nightclub', 'SecondLargestPropertyUseType_College/University',\n",
       "       'SecondLargestPropertyUseType_Convenience Store without Gas Station', 'SecondLargestPropertyUseType_Data Center',\n",
       "       'SecondLargestPropertyUseType_Distribution Center', 'SecondLargestPropertyUseType_Fitness Center/Health Club/Gym',\n",
       "       'SecondLargestPropertyUseType_Food Sales', 'SecondLargestPropertyUseType_Food Service',\n",
       "       'SecondLargestPropertyUseType_Hospital (General Medical & Surgical)', 'SecondLargestPropertyUseType_Hotel', 'SecondLargestPropertyUseType_K-12 School',\n",
       "       'SecondLargestPropertyUseType_Laboratory', 'SecondLargestPropertyUseType_Manufacturing/Industrial Plant', 'SecondLargestPropertyUseType_Medical Office',\n",
       "       'SecondLargestPropertyUseType_Movie Theater', 'SecondLargestPropertyUseType_Multifamily Housing', 'SecondLargestPropertyUseType_ND',\n",
       "       'SecondLargestPropertyUseType_Non-Refrigerated Warehouse', 'SecondLargestPropertyUseType_Office', 'SecondLargestPropertyUseType_Other',\n",
       "       'SecondLargestPropertyUseType_Other - Education', 'SecondLargestPropertyUseType_Other - Entertainment/Public Assembly',\n",
       "       'SecondLargestPropertyUseType_Other - Lodging/Residential', 'SecondLargestPropertyUseType_Other - Public Services',\n",
       "       'SecondLargestPropertyUseType_Other - Recreation', 'SecondLargestPropertyUseType_Other - Restaurant/Bar',\n",
       "       'SecondLargestPropertyUseType_Other - Services', 'SecondLargestPropertyUseType_Parking', 'SecondLargestPropertyUseType_Performing Arts',\n",
       "       'SecondLargestPropertyUseType_Refrigerated Warehouse', 'SecondLargestPropertyUseType_Repair Services (Vehicle, Shoe, Locksmith, etc)',\n",
       "       'SecondLargestPropertyUseType_Residence Hall/Dormitory', 'SecondLargestPropertyUseType_Restaurant', 'SecondLargestPropertyUseType_Retail Store',\n",
       "       'SecondLargestPropertyUseType_Self-Storage Facility', 'SecondLargestPropertyUseType_Social/Meeting Hall',\n",
       "       'SecondLargestPropertyUseType_Supermarket/Grocery Store', 'SecondLargestPropertyUseType_Swimming Pool',\n",
       "       'SecondLargestPropertyUseType_Vocational School', 'SecondLargestPropertyUseType_Worship Facility', 'ThirdLargestPropertyUseType_Bank Branch',\n",
       "       'ThirdLargestPropertyUseType_Bar/Nightclub', 'ThirdLargestPropertyUseType_Convenience Store without Gas Station',\n",
       "       'ThirdLargestPropertyUseType_Data Center', 'ThirdLargestPropertyUseType_Distribution Center', 'ThirdLargestPropertyUseType_Fast Food Restaurant',\n",
       "       'ThirdLargestPropertyUseType_Financial Office', 'ThirdLargestPropertyUseType_Fitness Center/Health Club/Gym',\n",
       "       'ThirdLargestPropertyUseType_Food Service', 'ThirdLargestPropertyUseType_Hotel', 'ThirdLargestPropertyUseType_K-12 School',\n",
       "       'ThirdLargestPropertyUseType_Laboratory', 'ThirdLargestPropertyUseType_Manufacturing/Industrial Plant', 'ThirdLargestPropertyUseType_Medical Office',\n",
       "       'ThirdLargestPropertyUseType_Multifamily Housing', 'ThirdLargestPropertyUseType_ND', 'ThirdLargestPropertyUseType_Non-Refrigerated Warehouse',\n",
       "       'ThirdLargestPropertyUseType_Office', 'ThirdLargestPropertyUseType_Other', 'ThirdLargestPropertyUseType_Other - Education',\n",
       "       'ThirdLargestPropertyUseType_Other - Entertainment/Public Assembly', 'ThirdLargestPropertyUseType_Other - Recreation',\n",
       "       'ThirdLargestPropertyUseType_Other - Restaurant/Bar', 'ThirdLargestPropertyUseType_Other - Services',\n",
       "       'ThirdLargestPropertyUseType_Other - Technology/Science', 'ThirdLargestPropertyUseType_Other - Utility',\n",
       "       'ThirdLargestPropertyUseType_Other/Specialty Hospital', 'ThirdLargestPropertyUseType_Parking',\n",
       "       'ThirdLargestPropertyUseType_Personal Services (Health/Beauty, Dry Cleaning, etc)', 'ThirdLargestPropertyUseType_Pre-school/Daycare',\n",
       "       'ThirdLargestPropertyUseType_Refrigerated Warehouse', 'ThirdLargestPropertyUseType_Restaurant', 'ThirdLargestPropertyUseType_Retail Store',\n",
       "       'ThirdLargestPropertyUseType_Self-Storage Facility', 'ThirdLargestPropertyUseType_Social/Meeting Hall', 'ThirdLargestPropertyUseType_Strip Mall',\n",
       "       'ThirdLargestPropertyUseType_Supermarket/Grocery Store', 'ThirdLargestPropertyUseType_Swimming Pool', 'ThirdLargestPropertyUseType_Vocational School',\n",
       "       'ThirdLargestPropertyUseType_Worship Facility'], dtype=object)"
      ]
     },
     "execution_count": 55,
     "metadata": {},
     "output_type": "execute_result"
    }
   ],
   "source": [
    "noms_des_coefs"
   ]
  },
  {
   "cell_type": "markdown",
   "metadata": {},
   "source": [
    "##### Tous les coefs"
   ]
  },
  {
   "cell_type": "code",
   "execution_count": 56,
   "metadata": {
    "ExecuteTime": {
     "end_time": "2021-07-16T15:35:16.172830Z",
     "start_time": "2021-07-16T15:35:16.152829Z"
    },
    "scrolled": true
   },
   "outputs": [
    {
     "data": {
      "text/html": [
       "<div>\n",
       "<style scoped>\n",
       "    .dataframe tbody tr th:only-of-type {\n",
       "        vertical-align: middle;\n",
       "    }\n",
       "\n",
       "    .dataframe tbody tr th {\n",
       "        vertical-align: top;\n",
       "    }\n",
       "\n",
       "    .dataframe thead th {\n",
       "        text-align: right;\n",
       "    }\n",
       "</style>\n",
       "<table border=\"1\" class=\"dataframe\">\n",
       "  <thead>\n",
       "    <tr style=\"text-align: right;\">\n",
       "      <th></th>\n",
       "      <th>Coef</th>\n",
       "    </tr>\n",
       "  </thead>\n",
       "  <tbody>\n",
       "    <tr>\n",
       "      <th>LargestPropertyUseType_Data Center</th>\n",
       "      <td>564.5</td>\n",
       "    </tr>\n",
       "    <tr>\n",
       "      <th>PrimaryPropertyType_Supermarket / Grocery Store</th>\n",
       "      <td>214.7</td>\n",
       "    </tr>\n",
       "    <tr>\n",
       "      <th>PrimaryPropertyType_Laboratory</th>\n",
       "      <td>193.9</td>\n",
       "    </tr>\n",
       "    <tr>\n",
       "      <th>ZipCode_98185.0</th>\n",
       "      <td>173.6</td>\n",
       "    </tr>\n",
       "    <tr>\n",
       "      <th>Neighborhood_Delridge</th>\n",
       "      <td>147.7</td>\n",
       "    </tr>\n",
       "    <tr>\n",
       "      <th>LargestPropertyUseType_Restaurant</th>\n",
       "      <td>145.3</td>\n",
       "    </tr>\n",
       "    <tr>\n",
       "      <th>LargestPropertyUseType_Urgent Care/Clinic/Other Outpatient</th>\n",
       "      <td>137.8</td>\n",
       "    </tr>\n",
       "    <tr>\n",
       "      <th>LargestPropertyUseType_Other/Specialty Hospital</th>\n",
       "      <td>126.3</td>\n",
       "    </tr>\n",
       "    <tr>\n",
       "      <th>SecondLargestPropertyUseType_Data Center</th>\n",
       "      <td>106.5</td>\n",
       "    </tr>\n",
       "    <tr>\n",
       "      <th>ThirdLargestPropertyUseType_Laboratory</th>\n",
       "      <td>105.1</td>\n",
       "    </tr>\n",
       "    <tr>\n",
       "      <th>SecondLargestPropertyUseType_Laboratory</th>\n",
       "      <td>103.6</td>\n",
       "    </tr>\n",
       "    <tr>\n",
       "      <th>ThirdLargestPropertyUseType_Other/Specialty Hospital</th>\n",
       "      <td>97.8</td>\n",
       "    </tr>\n",
       "    <tr>\n",
       "      <th>ThirdLargestPropertyUseType_Swimming Pool</th>\n",
       "      <td>96.2</td>\n",
       "    </tr>\n",
       "    <tr>\n",
       "      <th>LargestPropertyUseType_Other - Mall</th>\n",
       "      <td>95.0</td>\n",
       "    </tr>\n",
       "    <tr>\n",
       "      <th>ThirdLargestPropertyUseType_Strip Mall</th>\n",
       "      <td>90.5</td>\n",
       "    </tr>\n",
       "    <tr>\n",
       "      <th>ThirdLargestPropertyUseType_Other - Recreation</th>\n",
       "      <td>87.2</td>\n",
       "    </tr>\n",
       "    <tr>\n",
       "      <th>ZipCode_98164.0</th>\n",
       "      <td>87.1</td>\n",
       "    </tr>\n",
       "    <tr>\n",
       "      <th>LargestPropertyUseType_Museum</th>\n",
       "      <td>80.3</td>\n",
       "    </tr>\n",
       "    <tr>\n",
       "      <th>ZipCode_98020.0</th>\n",
       "      <td>61.1</td>\n",
       "    </tr>\n",
       "    <tr>\n",
       "      <th>LargestPropertyUseType_Other - Restaurant/Bar</th>\n",
       "      <td>57.8</td>\n",
       "    </tr>\n",
       "    <tr>\n",
       "      <th>ZipCode_98145.0</th>\n",
       "      <td>57.5</td>\n",
       "    </tr>\n",
       "    <tr>\n",
       "      <th>SecondLargestPropertyUseType_Food Sales</th>\n",
       "      <td>46.7</td>\n",
       "    </tr>\n",
       "    <tr>\n",
       "      <th>LargestPropertyUseType_Medical Office</th>\n",
       "      <td>45.5</td>\n",
       "    </tr>\n",
       "    <tr>\n",
       "      <th>ThirdLargestPropertyUseType_Data Center</th>\n",
       "      <td>41.1</td>\n",
       "    </tr>\n",
       "    <tr>\n",
       "      <th>Neighborhood_BALLARD</th>\n",
       "      <td>36.7</td>\n",
       "    </tr>\n",
       "    <tr>\n",
       "      <th>SecondLargestPropertyUseType_Hospital (General Medical &amp; Surgical)</th>\n",
       "      <td>36.2</td>\n",
       "    </tr>\n",
       "    <tr>\n",
       "      <th>SecondLargestPropertyUseType_Swimming Pool</th>\n",
       "      <td>34.5</td>\n",
       "    </tr>\n",
       "    <tr>\n",
       "      <th>PrimaryPropertyType_Hospital</th>\n",
       "      <td>33.6</td>\n",
       "    </tr>\n",
       "    <tr>\n",
       "      <th>LargestPropertyUseType_Hospital (General Medical &amp; Surgical)</th>\n",
       "      <td>33.6</td>\n",
       "    </tr>\n",
       "    <tr>\n",
       "      <th>ThirdLargestPropertyUseType_Office</th>\n",
       "      <td>32.6</td>\n",
       "    </tr>\n",
       "    <tr>\n",
       "      <th>LargestPropertyUseType_Other - Recreation</th>\n",
       "      <td>30.5</td>\n",
       "    </tr>\n",
       "    <tr>\n",
       "      <th>LargestPropertyUseType_Police Station</th>\n",
       "      <td>29.7</td>\n",
       "    </tr>\n",
       "    <tr>\n",
       "      <th>ThirdLargestPropertyUseType_Other - Education</th>\n",
       "      <td>29.6</td>\n",
       "    </tr>\n",
       "    <tr>\n",
       "      <th>ThirdLargestPropertyUseType_Other - Services</th>\n",
       "      <td>28.6</td>\n",
       "    </tr>\n",
       "    <tr>\n",
       "      <th>Neighborhood_Ballard</th>\n",
       "      <td>28.4</td>\n",
       "    </tr>\n",
       "    <tr>\n",
       "      <th>ThirdLargestPropertyUseType_Other - Technology/Science</th>\n",
       "      <td>27.4</td>\n",
       "    </tr>\n",
       "    <tr>\n",
       "      <th>ThirdLargestPropertyUseType_Other - Entertainment/Public Assembly</th>\n",
       "      <td>27.3</td>\n",
       "    </tr>\n",
       "    <tr>\n",
       "      <th>SecondLargestPropertyUseType_Supermarket/Grocery Store</th>\n",
       "      <td>26.4</td>\n",
       "    </tr>\n",
       "    <tr>\n",
       "      <th>LargestPropertyUseType_Lifestyle Center</th>\n",
       "      <td>25.6</td>\n",
       "    </tr>\n",
       "    <tr>\n",
       "      <th>PrimaryPropertyType_Retail Store</th>\n",
       "      <td>25.1</td>\n",
       "    </tr>\n",
       "    <tr>\n",
       "      <th>LargestPropertyUseType_Personal Services (Health/Beauty, Dry Cleaning, etc)</th>\n",
       "      <td>23.7</td>\n",
       "    </tr>\n",
       "    <tr>\n",
       "      <th>LargestPropertyUseType_Hotel</th>\n",
       "      <td>22.6</td>\n",
       "    </tr>\n",
       "    <tr>\n",
       "      <th>LargestPropertyUseType_Manufacturing/Industrial Plant</th>\n",
       "      <td>21.5</td>\n",
       "    </tr>\n",
       "    <tr>\n",
       "      <th>ThirdLargestPropertyUseType_Social/Meeting Hall</th>\n",
       "      <td>21.0</td>\n",
       "    </tr>\n",
       "    <tr>\n",
       "      <th>SecondLargestPropertyUseType_Manufacturing/Industrial Plant</th>\n",
       "      <td>20.3</td>\n",
       "    </tr>\n",
       "    <tr>\n",
       "      <th>Neighborhood_MAGNOLIA / QUEEN ANNE</th>\n",
       "      <td>20.2</td>\n",
       "    </tr>\n",
       "    <tr>\n",
       "      <th>CouncilDistrictCode_3</th>\n",
       "      <td>18.9</td>\n",
       "    </tr>\n",
       "    <tr>\n",
       "      <th>BuildingType_Campus</th>\n",
       "      <td>18.4</td>\n",
       "    </tr>\n",
       "    <tr>\n",
       "      <th>Neighborhood_LAKE UNION</th>\n",
       "      <td>18.2</td>\n",
       "    </tr>\n",
       "    <tr>\n",
       "      <th>PrimaryPropertyType_Mixed Use Property</th>\n",
       "      <td>17.5</td>\n",
       "    </tr>\n",
       "    <tr>\n",
       "      <th>LargestPropertyUseType_Other - Education</th>\n",
       "      <td>17.1</td>\n",
       "    </tr>\n",
       "    <tr>\n",
       "      <th>SecondLargestPropertyUseType_Fitness Center/Health Club/Gym</th>\n",
       "      <td>16.9</td>\n",
       "    </tr>\n",
       "    <tr>\n",
       "      <th>ZipCode_98101.0</th>\n",
       "      <td>16.0</td>\n",
       "    </tr>\n",
       "    <tr>\n",
       "      <th>SecondLargestPropertyUseType_Performing Arts</th>\n",
       "      <td>15.3</td>\n",
       "    </tr>\n",
       "    <tr>\n",
       "      <th>ThirdLargestPropertyUseType_Other - Restaurant/Bar</th>\n",
       "      <td>14.5</td>\n",
       "    </tr>\n",
       "    <tr>\n",
       "      <th>SecondLargestPropertyUseType_Bar/Nightclub</th>\n",
       "      <td>14.3</td>\n",
       "    </tr>\n",
       "    <tr>\n",
       "      <th>SecondLargestPropertyUseType_Restaurant</th>\n",
       "      <td>13.8</td>\n",
       "    </tr>\n",
       "    <tr>\n",
       "      <th>ZipCode_98191.0</th>\n",
       "      <td>13.0</td>\n",
       "    </tr>\n",
       "    <tr>\n",
       "      <th>SecondLargestPropertyUseType_Food Service</th>\n",
       "      <td>12.9</td>\n",
       "    </tr>\n",
       "    <tr>\n",
       "      <th>CouncilDistrictCode_1</th>\n",
       "      <td>12.7</td>\n",
       "    </tr>\n",
       "    <tr>\n",
       "      <th>PrimaryPropertyType_Distribution Center</th>\n",
       "      <td>12.7</td>\n",
       "    </tr>\n",
       "    <tr>\n",
       "      <th>LargestPropertyUseType_Parking</th>\n",
       "      <td>11.8</td>\n",
       "    </tr>\n",
       "    <tr>\n",
       "      <th>SecondLargestPropertyUseType_Other - Recreation</th>\n",
       "      <td>11.1</td>\n",
       "    </tr>\n",
       "    <tr>\n",
       "      <th>SecondLargestPropertyUseType_Self-Storage Facility</th>\n",
       "      <td>10.8</td>\n",
       "    </tr>\n",
       "    <tr>\n",
       "      <th>SecondLargestPropertyUseType_Other - Lodging/Residential</th>\n",
       "      <td>10.7</td>\n",
       "    </tr>\n",
       "    <tr>\n",
       "      <th>BuildingType_Nonresidential COS</th>\n",
       "      <td>10.6</td>\n",
       "    </tr>\n",
       "    <tr>\n",
       "      <th>Neighborhood_Northwest</th>\n",
       "      <td>10.5</td>\n",
       "    </tr>\n",
       "    <tr>\n",
       "      <th>ThirdLargestPropertyUseType_ND</th>\n",
       "      <td>9.8</td>\n",
       "    </tr>\n",
       "    <tr>\n",
       "      <th>ZipCode_98121.0</th>\n",
       "      <td>9.2</td>\n",
       "    </tr>\n",
       "    <tr>\n",
       "      <th>ZipCode_98111.0</th>\n",
       "      <td>9.1</td>\n",
       "    </tr>\n",
       "    <tr>\n",
       "      <th>LargestPropertyUseType_Senior Care Community</th>\n",
       "      <td>8.8</td>\n",
       "    </tr>\n",
       "    <tr>\n",
       "      <th>PrimaryPropertyType_Senior Care Community</th>\n",
       "      <td>8.8</td>\n",
       "    </tr>\n",
       "    <tr>\n",
       "      <th>ZipCode_98116.0</th>\n",
       "      <td>8.7</td>\n",
       "    </tr>\n",
       "    <tr>\n",
       "      <th>SecondLargestPropertyUseType_Other - Services</th>\n",
       "      <td>8.6</td>\n",
       "    </tr>\n",
       "    <tr>\n",
       "      <th>ZipCode_98154.0</th>\n",
       "      <td>7.4</td>\n",
       "    </tr>\n",
       "    <tr>\n",
       "      <th>ZipCode_98195.0</th>\n",
       "      <td>6.7</td>\n",
       "    </tr>\n",
       "    <tr>\n",
       "      <th>Neighborhood_NORTHWEST</th>\n",
       "      <td>6.4</td>\n",
       "    </tr>\n",
       "    <tr>\n",
       "      <th>ThirdLargestPropertyUseType_Restaurant</th>\n",
       "      <td>5.9</td>\n",
       "    </tr>\n",
       "    <tr>\n",
       "      <th>BuildingType_NonResidential</th>\n",
       "      <td>5.8</td>\n",
       "    </tr>\n",
       "    <tr>\n",
       "      <th>LargestPropertyUseType_Courthouse</th>\n",
       "      <td>5.6</td>\n",
       "    </tr>\n",
       "    <tr>\n",
       "      <th>Longitude</th>\n",
       "      <td>5.5</td>\n",
       "    </tr>\n",
       "    <tr>\n",
       "      <th>CouncilDistrictCode_2</th>\n",
       "      <td>4.9</td>\n",
       "    </tr>\n",
       "    <tr>\n",
       "      <th>Neighborhood_NORTHEAST</th>\n",
       "      <td>4.7</td>\n",
       "    </tr>\n",
       "    <tr>\n",
       "      <th>LargestPropertyUseType_ND</th>\n",
       "      <td>4.3</td>\n",
       "    </tr>\n",
       "    <tr>\n",
       "      <th>LargestPropertyUseType_Laboratory</th>\n",
       "      <td>3.9</td>\n",
       "    </tr>\n",
       "    <tr>\n",
       "      <th>ThirdLargestPropertyUseType_Refrigerated Warehouse</th>\n",
       "      <td>3.4</td>\n",
       "    </tr>\n",
       "    <tr>\n",
       "      <th>SecondLargestPropertyUseType_K-12 School</th>\n",
       "      <td>2.8</td>\n",
       "    </tr>\n",
       "    <tr>\n",
       "      <th>YearBuilt</th>\n",
       "      <td>2.1</td>\n",
       "    </tr>\n",
       "    <tr>\n",
       "      <th>ThirdLargestPropertyUseType_Other</th>\n",
       "      <td>2.1</td>\n",
       "    </tr>\n",
       "    <tr>\n",
       "      <th>ZipCode_98118.0</th>\n",
       "      <td>1.2</td>\n",
       "    </tr>\n",
       "    <tr>\n",
       "      <th>NumberofBuildings</th>\n",
       "      <td>0.7</td>\n",
       "    </tr>\n",
       "    <tr>\n",
       "      <th>SecondLargestPropertyUseType_Parking</th>\n",
       "      <td>-0.2</td>\n",
       "    </tr>\n",
       "    <tr>\n",
       "      <th>ZipCode_98108.0</th>\n",
       "      <td>-0.2</td>\n",
       "    </tr>\n",
       "    <tr>\n",
       "      <th>LargestPropertyUseType_Residential Care Facility</th>\n",
       "      <td>-0.3</td>\n",
       "    </tr>\n",
       "    <tr>\n",
       "      <th>Latitude</th>\n",
       "      <td>-0.3</td>\n",
       "    </tr>\n",
       "    <tr>\n",
       "      <th>CouncilDistrictCode_7</th>\n",
       "      <td>-0.4</td>\n",
       "    </tr>\n",
       "    <tr>\n",
       "      <th>SecondLargestPropertyUseType_Office</th>\n",
       "      <td>-0.4</td>\n",
       "    </tr>\n",
       "    <tr>\n",
       "      <th>ZipCode_98134.0</th>\n",
       "      <td>-0.5</td>\n",
       "    </tr>\n",
       "    <tr>\n",
       "      <th>ZipCode_-1.0</th>\n",
       "      <td>-0.5</td>\n",
       "    </tr>\n",
       "    <tr>\n",
       "      <th>ThirdLargestPropertyUseType_Vocational School</th>\n",
       "      <td>-0.5</td>\n",
       "    </tr>\n",
       "    <tr>\n",
       "      <th>NumberofFloors</th>\n",
       "      <td>-0.6</td>\n",
       "    </tr>\n",
       "    <tr>\n",
       "      <th>SecondLargestPropertyUseType_Adult Education</th>\n",
       "      <td>-0.7</td>\n",
       "    </tr>\n",
       "    <tr>\n",
       "      <th>ZipCode_98136.0</th>\n",
       "      <td>-0.9</td>\n",
       "    </tr>\n",
       "    <tr>\n",
       "      <th>ZipCode_98105.0</th>\n",
       "      <td>-1.5</td>\n",
       "    </tr>\n",
       "    <tr>\n",
       "      <th>PrimaryPropertyType_Warehouse</th>\n",
       "      <td>-1.7</td>\n",
       "    </tr>\n",
       "    <tr>\n",
       "      <th>SecondLargestPropertyUseType_College/University</th>\n",
       "      <td>-2.1</td>\n",
       "    </tr>\n",
       "    <tr>\n",
       "      <th>SecondLargestPropertyUseType_Convenience Store without Gas Station</th>\n",
       "      <td>-2.1</td>\n",
       "    </tr>\n",
       "    <tr>\n",
       "      <th>LargestPropertyUseType_Strip Mall</th>\n",
       "      <td>-2.1</td>\n",
       "    </tr>\n",
       "    <tr>\n",
       "      <th>CouncilDistrictCode_5</th>\n",
       "      <td>-2.2</td>\n",
       "    </tr>\n",
       "    <tr>\n",
       "      <th>ThirdLargestPropertyUseType_Bank Branch</th>\n",
       "      <td>-2.5</td>\n",
       "    </tr>\n",
       "    <tr>\n",
       "      <th>ZipCode_98178.0</th>\n",
       "      <td>-2.7</td>\n",
       "    </tr>\n",
       "    <tr>\n",
       "      <th>ZipCode_98104.0</th>\n",
       "      <td>-2.9</td>\n",
       "    </tr>\n",
       "    <tr>\n",
       "      <th>Neighborhood_North</th>\n",
       "      <td>-3.8</td>\n",
       "    </tr>\n",
       "    <tr>\n",
       "      <th>Neighborhood_NORTH</th>\n",
       "      <td>-4.0</td>\n",
       "    </tr>\n",
       "    <tr>\n",
       "      <th>Neighborhood_DELRIDGE</th>\n",
       "      <td>-4.5</td>\n",
       "    </tr>\n",
       "    <tr>\n",
       "      <th>ThirdLargestPropertyUseType_K-12 School</th>\n",
       "      <td>-4.6</td>\n",
       "    </tr>\n",
       "    <tr>\n",
       "      <th>SecondLargestPropertyUseType_Other - Education</th>\n",
       "      <td>-4.8</td>\n",
       "    </tr>\n",
       "    <tr>\n",
       "      <th>ZipCode_98177.0</th>\n",
       "      <td>-5.7</td>\n",
       "    </tr>\n",
       "    <tr>\n",
       "      <th>SecondLargestPropertyUseType_Social/Meeting Hall</th>\n",
       "      <td>-6.0</td>\n",
       "    </tr>\n",
       "    <tr>\n",
       "      <th>SecondLargestPropertyUseType_Movie Theater</th>\n",
       "      <td>-6.6</td>\n",
       "    </tr>\n",
       "    <tr>\n",
       "      <th>ZipCode_98013.0</th>\n",
       "      <td>-6.9</td>\n",
       "    </tr>\n",
       "    <tr>\n",
       "      <th>ThirdLargestPropertyUseType_Parking</th>\n",
       "      <td>-7.3</td>\n",
       "    </tr>\n",
       "    <tr>\n",
       "      <th>ZipCode_98103.0</th>\n",
       "      <td>-7.3</td>\n",
       "    </tr>\n",
       "    <tr>\n",
       "      <th>LargestPropertyUseType_Other</th>\n",
       "      <td>-7.7</td>\n",
       "    </tr>\n",
       "    <tr>\n",
       "      <th>ZipCode_98168.0</th>\n",
       "      <td>-8.0</td>\n",
       "    </tr>\n",
       "    <tr>\n",
       "      <th>ZipCode_98124.0</th>\n",
       "      <td>-8.4</td>\n",
       "    </tr>\n",
       "    <tr>\n",
       "      <th>ZipCode_98144.0</th>\n",
       "      <td>-8.4</td>\n",
       "    </tr>\n",
       "    <tr>\n",
       "      <th>PrimaryPropertyType_Other</th>\n",
       "      <td>-8.8</td>\n",
       "    </tr>\n",
       "    <tr>\n",
       "      <th>BuildingType_SPS-District K-12</th>\n",
       "      <td>-9.2</td>\n",
       "    </tr>\n",
       "    <tr>\n",
       "      <th>PrimaryPropertyType_Refrigerated Warehouse</th>\n",
       "      <td>-9.4</td>\n",
       "    </tr>\n",
       "    <tr>\n",
       "      <th>LargestPropertyUseType_Refrigerated Warehouse</th>\n",
       "      <td>-9.4</td>\n",
       "    </tr>\n",
       "    <tr>\n",
       "      <th>SecondLargestPropertyUseType_Retail Store</th>\n",
       "      <td>-9.4</td>\n",
       "    </tr>\n",
       "    <tr>\n",
       "      <th>ThirdLargestPropertyUseType_Food Service</th>\n",
       "      <td>-10.2</td>\n",
       "    </tr>\n",
       "    <tr>\n",
       "      <th>PrimaryPropertyType_Small- and Mid-Sized Office</th>\n",
       "      <td>-10.2</td>\n",
       "    </tr>\n",
       "    <tr>\n",
       "      <th>ZipCode_98117.0</th>\n",
       "      <td>-11.1</td>\n",
       "    </tr>\n",
       "    <tr>\n",
       "      <th>LargestPropertyUseType_Financial Office</th>\n",
       "      <td>-11.2</td>\n",
       "    </tr>\n",
       "    <tr>\n",
       "      <th>ThirdLargestPropertyUseType_Financial Office</th>\n",
       "      <td>-11.4</td>\n",
       "    </tr>\n",
       "    <tr>\n",
       "      <th>SecondLargestPropertyUseType_ND</th>\n",
       "      <td>-12.0</td>\n",
       "    </tr>\n",
       "    <tr>\n",
       "      <th>SecondLargestPropertyUseType_Other - Restaurant/Bar</th>\n",
       "      <td>-12.3</td>\n",
       "    </tr>\n",
       "    <tr>\n",
       "      <th>SecondLargestPropertyUseType_Other</th>\n",
       "      <td>-13.0</td>\n",
       "    </tr>\n",
       "    <tr>\n",
       "      <th>LargestPropertyUseType_Fire Station</th>\n",
       "      <td>-13.5</td>\n",
       "    </tr>\n",
       "    <tr>\n",
       "      <th>SecondLargestPropertyUseType_Other - Public Services</th>\n",
       "      <td>-13.5</td>\n",
       "    </tr>\n",
       "    <tr>\n",
       "      <th>ThirdLargestPropertyUseType_Personal Services (Health/Beauty, Dry Cleaning, etc)</th>\n",
       "      <td>-14.3</td>\n",
       "    </tr>\n",
       "    <tr>\n",
       "      <th>ZipCode_98102.0</th>\n",
       "      <td>-14.8</td>\n",
       "    </tr>\n",
       "    <tr>\n",
       "      <th>PrimaryPropertyType_Large Office</th>\n",
       "      <td>-15.0</td>\n",
       "    </tr>\n",
       "    <tr>\n",
       "      <th>ZipCode_98106.0</th>\n",
       "      <td>-15.2</td>\n",
       "    </tr>\n",
       "    <tr>\n",
       "      <th>CouncilDistrictCode_4</th>\n",
       "      <td>-15.3</td>\n",
       "    </tr>\n",
       "    <tr>\n",
       "      <th>ZipCode_98126.0</th>\n",
       "      <td>-15.5</td>\n",
       "    </tr>\n",
       "    <tr>\n",
       "      <th>ZipCode_98114.0</th>\n",
       "      <td>-15.5</td>\n",
       "    </tr>\n",
       "    <tr>\n",
       "      <th>ZipCode_98115.0</th>\n",
       "      <td>-15.7</td>\n",
       "    </tr>\n",
       "    <tr>\n",
       "      <th>ThirdLargestPropertyUseType_Retail Store</th>\n",
       "      <td>-16.0</td>\n",
       "    </tr>\n",
       "    <tr>\n",
       "      <th>SecondLargestPropertyUseType_Distribution Center</th>\n",
       "      <td>-16.1</td>\n",
       "    </tr>\n",
       "    <tr>\n",
       "      <th>ThirdLargestPropertyUseType_Medical Office</th>\n",
       "      <td>-16.7</td>\n",
       "    </tr>\n",
       "    <tr>\n",
       "      <th>LargestPropertyUseType_Other - Entertainment/Public Assembly</th>\n",
       "      <td>-17.2</td>\n",
       "    </tr>\n",
       "    <tr>\n",
       "      <th>PrimaryPropertyType_University</th>\n",
       "      <td>-17.4</td>\n",
       "    </tr>\n",
       "    <tr>\n",
       "      <th>LargestPropertyUseType_College/University</th>\n",
       "      <td>-17.4</td>\n",
       "    </tr>\n",
       "    <tr>\n",
       "      <th>LargestPropertyUseType_Other - Public Services</th>\n",
       "      <td>-17.4</td>\n",
       "    </tr>\n",
       "    <tr>\n",
       "      <th>Neighborhood_SOUTHWEST</th>\n",
       "      <td>-17.6</td>\n",
       "    </tr>\n",
       "    <tr>\n",
       "      <th>SecondLargestPropertyUseType_Repair Services (Vehicle, Shoe, Locksmith, etc)</th>\n",
       "      <td>-17.8</td>\n",
       "    </tr>\n",
       "    <tr>\n",
       "      <th>ZipCode_98107.0</th>\n",
       "      <td>-18.0</td>\n",
       "    </tr>\n",
       "    <tr>\n",
       "      <th>Neighborhood_DOWNTOWN</th>\n",
       "      <td>-18.5</td>\n",
       "    </tr>\n",
       "    <tr>\n",
       "      <th>CouncilDistrictCode_6</th>\n",
       "      <td>-18.7</td>\n",
       "    </tr>\n",
       "    <tr>\n",
       "      <th>LargestPropertyUseType_Social/Meeting Hall</th>\n",
       "      <td>-18.7</td>\n",
       "    </tr>\n",
       "    <tr>\n",
       "      <th>ZipCode_98112.0</th>\n",
       "      <td>-18.7</td>\n",
       "    </tr>\n",
       "    <tr>\n",
       "      <th>SecondLargestPropertyUseType_Multifamily Housing</th>\n",
       "      <td>-18.9</td>\n",
       "    </tr>\n",
       "    <tr>\n",
       "      <th>Neighborhood_GREATER DUWAMISH</th>\n",
       "      <td>-19.0</td>\n",
       "    </tr>\n",
       "    <tr>\n",
       "      <th>SecondLargestPropertyUseType_Hotel</th>\n",
       "      <td>-19.5</td>\n",
       "    </tr>\n",
       "    <tr>\n",
       "      <th>SecondLargestPropertyUseType_Medical Office</th>\n",
       "      <td>-19.5</td>\n",
       "    </tr>\n",
       "    <tr>\n",
       "      <th>ZipCode_98033.0</th>\n",
       "      <td>-19.8</td>\n",
       "    </tr>\n",
       "    <tr>\n",
       "      <th>ZipCode_98133.0</th>\n",
       "      <td>-19.8</td>\n",
       "    </tr>\n",
       "    <tr>\n",
       "      <th>ThirdLargestPropertyUseType_Non-Refrigerated Warehouse</th>\n",
       "      <td>-19.9</td>\n",
       "    </tr>\n",
       "    <tr>\n",
       "      <th>SecondLargestPropertyUseType_Refrigerated Warehouse</th>\n",
       "      <td>-20.6</td>\n",
       "    </tr>\n",
       "    <tr>\n",
       "      <th>SecondLargestPropertyUseType_Vocational School</th>\n",
       "      <td>-20.9</td>\n",
       "    </tr>\n",
       "    <tr>\n",
       "      <th>ZipCode_98122.0</th>\n",
       "      <td>-21.0</td>\n",
       "    </tr>\n",
       "    <tr>\n",
       "      <th>SecondLargestPropertyUseType_Bank Branch</th>\n",
       "      <td>-21.4</td>\n",
       "    </tr>\n",
       "    <tr>\n",
       "      <th>ZipCode_98119.0</th>\n",
       "      <td>-22.2</td>\n",
       "    </tr>\n",
       "    <tr>\n",
       "      <th>Neighborhood_EAST</th>\n",
       "      <td>-23.3</td>\n",
       "    </tr>\n",
       "    <tr>\n",
       "      <th>LargestPropertyUseType_K-12 School</th>\n",
       "      <td>-23.6</td>\n",
       "    </tr>\n",
       "    <tr>\n",
       "      <th>PrimaryPropertyType_K-12 School</th>\n",
       "      <td>-23.6</td>\n",
       "    </tr>\n",
       "    <tr>\n",
       "      <th>LargestPropertyUseType_Library</th>\n",
       "      <td>-23.7</td>\n",
       "    </tr>\n",
       "    <tr>\n",
       "      <th>LargestPropertyUseType_Self-Storage Facility</th>\n",
       "      <td>-24.3</td>\n",
       "    </tr>\n",
       "    <tr>\n",
       "      <th>ThirdLargestPropertyUseType_Multifamily Housing</th>\n",
       "      <td>-25.0</td>\n",
       "    </tr>\n",
       "    <tr>\n",
       "      <th>BuildingType_Nonresidential WA</th>\n",
       "      <td>-25.6</td>\n",
       "    </tr>\n",
       "    <tr>\n",
       "      <th>ThirdLargestPropertyUseType_Other - Utility</th>\n",
       "      <td>-26.1</td>\n",
       "    </tr>\n",
       "    <tr>\n",
       "      <th>SecondLargestPropertyUseType_Worship Facility</th>\n",
       "      <td>-26.3</td>\n",
       "    </tr>\n",
       "    <tr>\n",
       "      <th>ZipCode_98146.0</th>\n",
       "      <td>-26.3</td>\n",
       "    </tr>\n",
       "    <tr>\n",
       "      <th>ThirdLargestPropertyUseType_Worship Facility</th>\n",
       "      <td>-26.4</td>\n",
       "    </tr>\n",
       "    <tr>\n",
       "      <th>Neighborhood_CENTRAL</th>\n",
       "      <td>-26.4</td>\n",
       "    </tr>\n",
       "    <tr>\n",
       "      <th>ZipCode_98109.0</th>\n",
       "      <td>-27.7</td>\n",
       "    </tr>\n",
       "    <tr>\n",
       "      <th>Neighborhood_Central</th>\n",
       "      <td>-27.9</td>\n",
       "    </tr>\n",
       "    <tr>\n",
       "      <th>LargestPropertyUseType_Residence Hall/Dormitory</th>\n",
       "      <td>-29.0</td>\n",
       "    </tr>\n",
       "    <tr>\n",
       "      <th>PrimaryPropertyType_Residence Hall</th>\n",
       "      <td>-29.0</td>\n",
       "    </tr>\n",
       "    <tr>\n",
       "      <th>ZipCode_98053.0</th>\n",
       "      <td>-31.7</td>\n",
       "    </tr>\n",
       "    <tr>\n",
       "      <th>ZipCode_98199.0</th>\n",
       "      <td>-31.8</td>\n",
       "    </tr>\n",
       "    <tr>\n",
       "      <th>LargestPropertyUseType_Office</th>\n",
       "      <td>-32.0</td>\n",
       "    </tr>\n",
       "    <tr>\n",
       "      <th>ZipCode_98125.0</th>\n",
       "      <td>-32.0</td>\n",
       "    </tr>\n",
       "    <tr>\n",
       "      <th>LargestPropertyUseType_Worship Facility</th>\n",
       "      <td>-32.5</td>\n",
       "    </tr>\n",
       "    <tr>\n",
       "      <th>PrimaryPropertyType_Worship Facility</th>\n",
       "      <td>-32.5</td>\n",
       "    </tr>\n",
       "    <tr>\n",
       "      <th>ThirdLargestPropertyUseType_Manufacturing/Industrial Plant</th>\n",
       "      <td>-32.7</td>\n",
       "    </tr>\n",
       "    <tr>\n",
       "      <th>SecondLargestPropertyUseType_Non-Refrigerated Warehouse</th>\n",
       "      <td>-32.7</td>\n",
       "    </tr>\n",
       "    <tr>\n",
       "      <th>Neighborhood_SOUTHEAST</th>\n",
       "      <td>-35.8</td>\n",
       "    </tr>\n",
       "    <tr>\n",
       "      <th>LargestPropertyUseType_Repair Services (Vehicle, Shoe, Locksmith, etc)</th>\n",
       "      <td>-37.2</td>\n",
       "    </tr>\n",
       "    <tr>\n",
       "      <th>ThirdLargestPropertyUseType_Fitness Center/Health Club/Gym</th>\n",
       "      <td>-37.4</td>\n",
       "    </tr>\n",
       "    <tr>\n",
       "      <th>LargestPropertyUseType_Bank Branch</th>\n",
       "      <td>-38.5</td>\n",
       "    </tr>\n",
       "    <tr>\n",
       "      <th>ThirdLargestPropertyUseType_Self-Storage Facility</th>\n",
       "      <td>-39.0</td>\n",
       "    </tr>\n",
       "    <tr>\n",
       "      <th>LargestPropertyUseType_Performing Arts</th>\n",
       "      <td>-39.3</td>\n",
       "    </tr>\n",
       "    <tr>\n",
       "      <th>LargestPropertyUseType_Other - Lodging/Residential</th>\n",
       "      <td>-39.7</td>\n",
       "    </tr>\n",
       "    <tr>\n",
       "      <th>ZipCode_98070.0</th>\n",
       "      <td>-39.8</td>\n",
       "    </tr>\n",
       "    <tr>\n",
       "      <th>ThirdLargestPropertyUseType_Hotel</th>\n",
       "      <td>-40.1</td>\n",
       "    </tr>\n",
       "    <tr>\n",
       "      <th>ThirdLargestPropertyUseType_Distribution Center</th>\n",
       "      <td>-41.5</td>\n",
       "    </tr>\n",
       "    <tr>\n",
       "      <th>ThirdLargestPropertyUseType_Fast Food Restaurant</th>\n",
       "      <td>-42.3</td>\n",
       "    </tr>\n",
       "    <tr>\n",
       "      <th>LargestPropertyUseType_Fitness Center/Health Club/Gym</th>\n",
       "      <td>-43.4</td>\n",
       "    </tr>\n",
       "    <tr>\n",
       "      <th>ThirdLargestPropertyUseType_Convenience Store without Gas Station</th>\n",
       "      <td>-44.2</td>\n",
       "    </tr>\n",
       "    <tr>\n",
       "      <th>LargestPropertyUseType_Prison/Incarceration</th>\n",
       "      <td>-44.3</td>\n",
       "    </tr>\n",
       "    <tr>\n",
       "      <th>PrimaryPropertyType_Low-Rise Multifamily</th>\n",
       "      <td>-45.8</td>\n",
       "    </tr>\n",
       "    <tr>\n",
       "      <th>LargestPropertyUseType_Pre-school/Daycare</th>\n",
       "      <td>-46.8</td>\n",
       "    </tr>\n",
       "    <tr>\n",
       "      <th>ThirdLargestPropertyUseType_Bar/Nightclub</th>\n",
       "      <td>-47.5</td>\n",
       "    </tr>\n",
       "    <tr>\n",
       "      <th>PrimaryPropertyType_Hotel</th>\n",
       "      <td>-48.3</td>\n",
       "    </tr>\n",
       "    <tr>\n",
       "      <th>PrimaryPropertyType_Office</th>\n",
       "      <td>-48.8</td>\n",
       "    </tr>\n",
       "    <tr>\n",
       "      <th>LargestPropertyUseType_Other - Services</th>\n",
       "      <td>-50.6</td>\n",
       "    </tr>\n",
       "    <tr>\n",
       "      <th>LargestPropertyUseType_Automobile Dealership</th>\n",
       "      <td>-50.7</td>\n",
       "    </tr>\n",
       "    <tr>\n",
       "      <th>LargestPropertyUseType_Adult Education</th>\n",
       "      <td>-52.0</td>\n",
       "    </tr>\n",
       "    <tr>\n",
       "      <th>LargestPropertyUseType_Multifamily Housing</th>\n",
       "      <td>-52.5</td>\n",
       "    </tr>\n",
       "    <tr>\n",
       "      <th>PrimaryPropertyType_Self-Storage Facility</th>\n",
       "      <td>-53.7</td>\n",
       "    </tr>\n",
       "    <tr>\n",
       "      <th>SecondLargestPropertyUseType_Residence Hall/Dormitory</th>\n",
       "      <td>-57.0</td>\n",
       "    </tr>\n",
       "    <tr>\n",
       "      <th>SecondLargestPropertyUseType_Other - Entertainment/Public Assembly</th>\n",
       "      <td>-58.9</td>\n",
       "    </tr>\n",
       "    <tr>\n",
       "      <th>LargestPropertyUseType_Retail Store</th>\n",
       "      <td>-63.1</td>\n",
       "    </tr>\n",
       "    <tr>\n",
       "      <th>PrimaryPropertyType_Medical Office</th>\n",
       "      <td>-65.2</td>\n",
       "    </tr>\n",
       "    <tr>\n",
       "      <th>LargestPropertyUseType_Non-Refrigerated Warehouse</th>\n",
       "      <td>-72.6</td>\n",
       "    </tr>\n",
       "    <tr>\n",
       "      <th>LargestPropertyUseType_Food Service</th>\n",
       "      <td>-75.4</td>\n",
       "    </tr>\n",
       "    <tr>\n",
       "      <th>LargestPropertyUseType_Supermarket/Grocery Store</th>\n",
       "      <td>-76.0</td>\n",
       "    </tr>\n",
       "    <tr>\n",
       "      <th>SecondLargestPropertyUseType_Automobile Dealership</th>\n",
       "      <td>-78.8</td>\n",
       "    </tr>\n",
       "    <tr>\n",
       "      <th>LargestPropertyUseType_Distribution Center</th>\n",
       "      <td>-79.1</td>\n",
       "    </tr>\n",
       "    <tr>\n",
       "      <th>ThirdLargestPropertyUseType_Pre-school/Daycare</th>\n",
       "      <td>-81.9</td>\n",
       "    </tr>\n",
       "    <tr>\n",
       "      <th>Neighborhood_DELRIDGE NEIGHBORHOODS</th>\n",
       "      <td>-92.1</td>\n",
       "    </tr>\n",
       "    <tr>\n",
       "      <th>PrimaryPropertyType_Restaurant</th>\n",
       "      <td>-97.1</td>\n",
       "    </tr>\n",
       "    <tr>\n",
       "      <th>ThirdLargestPropertyUseType_Supermarket/Grocery Store</th>\n",
       "      <td>-132.5</td>\n",
       "    </tr>\n",
       "    <tr>\n",
       "      <th>LargestPropertyUseType_Other - Utility</th>\n",
       "      <td>-133.4</td>\n",
       "    </tr>\n",
       "    <tr>\n",
       "      <th>LargestPropertyUseType_Wholesale Club/Supercenter</th>\n",
       "      <td>-216.6</td>\n",
       "    </tr>\n",
       "  </tbody>\n",
       "</table>\n",
       "</div>"
      ],
      "text/plain": [
       "                                                                                   Coef\n",
       "LargestPropertyUseType_Data Center                                                564.5\n",
       "PrimaryPropertyType_Supermarket / Grocery Store                                   214.7\n",
       "PrimaryPropertyType_Laboratory                                                    193.9\n",
       "ZipCode_98185.0                                                                   173.6\n",
       "Neighborhood_Delridge                                                             147.7\n",
       "LargestPropertyUseType_Restaurant                                                 145.3\n",
       "LargestPropertyUseType_Urgent Care/Clinic/Other Outpatient                        137.8\n",
       "LargestPropertyUseType_Other/Specialty Hospital                                   126.3\n",
       "SecondLargestPropertyUseType_Data Center                                          106.5\n",
       "ThirdLargestPropertyUseType_Laboratory                                            105.1\n",
       "SecondLargestPropertyUseType_Laboratory                                           103.6\n",
       "ThirdLargestPropertyUseType_Other/Specialty Hospital                               97.8\n",
       "ThirdLargestPropertyUseType_Swimming Pool                                          96.2\n",
       "LargestPropertyUseType_Other - Mall                                                95.0\n",
       "ThirdLargestPropertyUseType_Strip Mall                                             90.5\n",
       "ThirdLargestPropertyUseType_Other - Recreation                                     87.2\n",
       "ZipCode_98164.0                                                                    87.1\n",
       "LargestPropertyUseType_Museum                                                      80.3\n",
       "ZipCode_98020.0                                                                    61.1\n",
       "LargestPropertyUseType_Other - Restaurant/Bar                                      57.8\n",
       "ZipCode_98145.0                                                                    57.5\n",
       "SecondLargestPropertyUseType_Food Sales                                            46.7\n",
       "LargestPropertyUseType_Medical Office                                              45.5\n",
       "ThirdLargestPropertyUseType_Data Center                                            41.1\n",
       "Neighborhood_BALLARD                                                               36.7\n",
       "SecondLargestPropertyUseType_Hospital (General Medical & Surgical)                 36.2\n",
       "SecondLargestPropertyUseType_Swimming Pool                                         34.5\n",
       "PrimaryPropertyType_Hospital                                                       33.6\n",
       "LargestPropertyUseType_Hospital (General Medical & Surgical)                       33.6\n",
       "ThirdLargestPropertyUseType_Office                                                 32.6\n",
       "LargestPropertyUseType_Other - Recreation                                          30.5\n",
       "LargestPropertyUseType_Police Station                                              29.7\n",
       "ThirdLargestPropertyUseType_Other - Education                                      29.6\n",
       "ThirdLargestPropertyUseType_Other - Services                                       28.6\n",
       "Neighborhood_Ballard                                                               28.4\n",
       "ThirdLargestPropertyUseType_Other - Technology/Science                             27.4\n",
       "ThirdLargestPropertyUseType_Other - Entertainment/Public Assembly                  27.3\n",
       "SecondLargestPropertyUseType_Supermarket/Grocery Store                             26.4\n",
       "LargestPropertyUseType_Lifestyle Center                                            25.6\n",
       "PrimaryPropertyType_Retail Store                                                   25.1\n",
       "LargestPropertyUseType_Personal Services (Health/Beauty, Dry Cleaning, etc)        23.7\n",
       "LargestPropertyUseType_Hotel                                                       22.6\n",
       "LargestPropertyUseType_Manufacturing/Industrial Plant                              21.5\n",
       "ThirdLargestPropertyUseType_Social/Meeting Hall                                    21.0\n",
       "SecondLargestPropertyUseType_Manufacturing/Industrial Plant                        20.3\n",
       "Neighborhood_MAGNOLIA / QUEEN ANNE                                                 20.2\n",
       "CouncilDistrictCode_3                                                              18.9\n",
       "BuildingType_Campus                                                                18.4\n",
       "Neighborhood_LAKE UNION                                                            18.2\n",
       "PrimaryPropertyType_Mixed Use Property                                             17.5\n",
       "LargestPropertyUseType_Other - Education                                           17.1\n",
       "SecondLargestPropertyUseType_Fitness Center/Health Club/Gym                        16.9\n",
       "ZipCode_98101.0                                                                    16.0\n",
       "SecondLargestPropertyUseType_Performing Arts                                       15.3\n",
       "ThirdLargestPropertyUseType_Other - Restaurant/Bar                                 14.5\n",
       "SecondLargestPropertyUseType_Bar/Nightclub                                         14.3\n",
       "SecondLargestPropertyUseType_Restaurant                                            13.8\n",
       "ZipCode_98191.0                                                                    13.0\n",
       "SecondLargestPropertyUseType_Food Service                                          12.9\n",
       "CouncilDistrictCode_1                                                              12.7\n",
       "PrimaryPropertyType_Distribution Center                                            12.7\n",
       "LargestPropertyUseType_Parking                                                     11.8\n",
       "SecondLargestPropertyUseType_Other - Recreation                                    11.1\n",
       "SecondLargestPropertyUseType_Self-Storage Facility                                 10.8\n",
       "SecondLargestPropertyUseType_Other - Lodging/Residential                           10.7\n",
       "BuildingType_Nonresidential COS                                                    10.6\n",
       "Neighborhood_Northwest                                                             10.5\n",
       "ThirdLargestPropertyUseType_ND                                                      9.8\n",
       "ZipCode_98121.0                                                                     9.2\n",
       "ZipCode_98111.0                                                                     9.1\n",
       "LargestPropertyUseType_Senior Care Community                                        8.8\n",
       "PrimaryPropertyType_Senior Care Community                                           8.8\n",
       "ZipCode_98116.0                                                                     8.7\n",
       "SecondLargestPropertyUseType_Other - Services                                       8.6\n",
       "ZipCode_98154.0                                                                     7.4\n",
       "ZipCode_98195.0                                                                     6.7\n",
       "Neighborhood_NORTHWEST                                                              6.4\n",
       "ThirdLargestPropertyUseType_Restaurant                                              5.9\n",
       "BuildingType_NonResidential                                                         5.8\n",
       "LargestPropertyUseType_Courthouse                                                   5.6\n",
       "Longitude                                                                           5.5\n",
       "CouncilDistrictCode_2                                                               4.9\n",
       "Neighborhood_NORTHEAST                                                              4.7\n",
       "LargestPropertyUseType_ND                                                           4.3\n",
       "LargestPropertyUseType_Laboratory                                                   3.9\n",
       "ThirdLargestPropertyUseType_Refrigerated Warehouse                                  3.4\n",
       "SecondLargestPropertyUseType_K-12 School                                            2.8\n",
       "YearBuilt                                                                           2.1\n",
       "ThirdLargestPropertyUseType_Other                                                   2.1\n",
       "ZipCode_98118.0                                                                     1.2\n",
       "NumberofBuildings                                                                   0.7\n",
       "SecondLargestPropertyUseType_Parking                                               -0.2\n",
       "ZipCode_98108.0                                                                    -0.2\n",
       "LargestPropertyUseType_Residential Care Facility                                   -0.3\n",
       "Latitude                                                                           -0.3\n",
       "CouncilDistrictCode_7                                                              -0.4\n",
       "SecondLargestPropertyUseType_Office                                                -0.4\n",
       "ZipCode_98134.0                                                                    -0.5\n",
       "ZipCode_-1.0                                                                       -0.5\n",
       "ThirdLargestPropertyUseType_Vocational School                                      -0.5\n",
       "NumberofFloors                                                                     -0.6\n",
       "SecondLargestPropertyUseType_Adult Education                                       -0.7\n",
       "ZipCode_98136.0                                                                    -0.9\n",
       "ZipCode_98105.0                                                                    -1.5\n",
       "PrimaryPropertyType_Warehouse                                                      -1.7\n",
       "SecondLargestPropertyUseType_College/University                                    -2.1\n",
       "SecondLargestPropertyUseType_Convenience Store without Gas Station                 -2.1\n",
       "LargestPropertyUseType_Strip Mall                                                  -2.1\n",
       "CouncilDistrictCode_5                                                              -2.2\n",
       "ThirdLargestPropertyUseType_Bank Branch                                            -2.5\n",
       "ZipCode_98178.0                                                                    -2.7\n",
       "ZipCode_98104.0                                                                    -2.9\n",
       "Neighborhood_North                                                                 -3.8\n",
       "Neighborhood_NORTH                                                                 -4.0\n",
       "Neighborhood_DELRIDGE                                                              -4.5\n",
       "ThirdLargestPropertyUseType_K-12 School                                            -4.6\n",
       "SecondLargestPropertyUseType_Other - Education                                     -4.8\n",
       "ZipCode_98177.0                                                                    -5.7\n",
       "SecondLargestPropertyUseType_Social/Meeting Hall                                   -6.0\n",
       "SecondLargestPropertyUseType_Movie Theater                                         -6.6\n",
       "ZipCode_98013.0                                                                    -6.9\n",
       "ThirdLargestPropertyUseType_Parking                                                -7.3\n",
       "ZipCode_98103.0                                                                    -7.3\n",
       "LargestPropertyUseType_Other                                                       -7.7\n",
       "ZipCode_98168.0                                                                    -8.0\n",
       "ZipCode_98124.0                                                                    -8.4\n",
       "ZipCode_98144.0                                                                    -8.4\n",
       "PrimaryPropertyType_Other                                                          -8.8\n",
       "BuildingType_SPS-District K-12                                                     -9.2\n",
       "PrimaryPropertyType_Refrigerated Warehouse                                         -9.4\n",
       "LargestPropertyUseType_Refrigerated Warehouse                                      -9.4\n",
       "SecondLargestPropertyUseType_Retail Store                                          -9.4\n",
       "ThirdLargestPropertyUseType_Food Service                                          -10.2\n",
       "PrimaryPropertyType_Small- and Mid-Sized Office                                   -10.2\n",
       "ZipCode_98117.0                                                                   -11.1\n",
       "LargestPropertyUseType_Financial Office                                           -11.2\n",
       "ThirdLargestPropertyUseType_Financial Office                                      -11.4\n",
       "SecondLargestPropertyUseType_ND                                                   -12.0\n",
       "SecondLargestPropertyUseType_Other - Restaurant/Bar                               -12.3\n",
       "SecondLargestPropertyUseType_Other                                                -13.0\n",
       "LargestPropertyUseType_Fire Station                                               -13.5\n",
       "SecondLargestPropertyUseType_Other - Public Services                              -13.5\n",
       "ThirdLargestPropertyUseType_Personal Services (Health/Beauty, Dry Cleaning, etc)  -14.3\n",
       "ZipCode_98102.0                                                                   -14.8\n",
       "PrimaryPropertyType_Large Office                                                  -15.0\n",
       "ZipCode_98106.0                                                                   -15.2\n",
       "CouncilDistrictCode_4                                                             -15.3\n",
       "ZipCode_98126.0                                                                   -15.5\n",
       "ZipCode_98114.0                                                                   -15.5\n",
       "ZipCode_98115.0                                                                   -15.7\n",
       "ThirdLargestPropertyUseType_Retail Store                                          -16.0\n",
       "SecondLargestPropertyUseType_Distribution Center                                  -16.1\n",
       "ThirdLargestPropertyUseType_Medical Office                                        -16.7\n",
       "LargestPropertyUseType_Other - Entertainment/Public Assembly                      -17.2\n",
       "PrimaryPropertyType_University                                                    -17.4\n",
       "LargestPropertyUseType_College/University                                         -17.4\n",
       "LargestPropertyUseType_Other - Public Services                                    -17.4\n",
       "Neighborhood_SOUTHWEST                                                            -17.6\n",
       "SecondLargestPropertyUseType_Repair Services (Vehicle, Shoe, Locksmith, etc)      -17.8\n",
       "ZipCode_98107.0                                                                   -18.0\n",
       "Neighborhood_DOWNTOWN                                                             -18.5\n",
       "CouncilDistrictCode_6                                                             -18.7\n",
       "LargestPropertyUseType_Social/Meeting Hall                                        -18.7\n",
       "ZipCode_98112.0                                                                   -18.7\n",
       "SecondLargestPropertyUseType_Multifamily Housing                                  -18.9\n",
       "Neighborhood_GREATER DUWAMISH                                                     -19.0\n",
       "SecondLargestPropertyUseType_Hotel                                                -19.5\n",
       "SecondLargestPropertyUseType_Medical Office                                       -19.5\n",
       "ZipCode_98033.0                                                                   -19.8\n",
       "ZipCode_98133.0                                                                   -19.8\n",
       "ThirdLargestPropertyUseType_Non-Refrigerated Warehouse                            -19.9\n",
       "SecondLargestPropertyUseType_Refrigerated Warehouse                               -20.6\n",
       "SecondLargestPropertyUseType_Vocational School                                    -20.9\n",
       "ZipCode_98122.0                                                                   -21.0\n",
       "SecondLargestPropertyUseType_Bank Branch                                          -21.4\n",
       "ZipCode_98119.0                                                                   -22.2\n",
       "Neighborhood_EAST                                                                 -23.3\n",
       "LargestPropertyUseType_K-12 School                                                -23.6\n",
       "PrimaryPropertyType_K-12 School                                                   -23.6\n",
       "LargestPropertyUseType_Library                                                    -23.7\n",
       "LargestPropertyUseType_Self-Storage Facility                                      -24.3\n",
       "ThirdLargestPropertyUseType_Multifamily Housing                                   -25.0\n",
       "BuildingType_Nonresidential WA                                                    -25.6\n",
       "ThirdLargestPropertyUseType_Other - Utility                                       -26.1\n",
       "SecondLargestPropertyUseType_Worship Facility                                     -26.3\n",
       "ZipCode_98146.0                                                                   -26.3\n",
       "ThirdLargestPropertyUseType_Worship Facility                                      -26.4\n",
       "Neighborhood_CENTRAL                                                              -26.4\n",
       "ZipCode_98109.0                                                                   -27.7\n",
       "Neighborhood_Central                                                              -27.9\n",
       "LargestPropertyUseType_Residence Hall/Dormitory                                   -29.0\n",
       "PrimaryPropertyType_Residence Hall                                                -29.0\n",
       "ZipCode_98053.0                                                                   -31.7\n",
       "ZipCode_98199.0                                                                   -31.8\n",
       "LargestPropertyUseType_Office                                                     -32.0\n",
       "ZipCode_98125.0                                                                   -32.0\n",
       "LargestPropertyUseType_Worship Facility                                           -32.5\n",
       "PrimaryPropertyType_Worship Facility                                              -32.5\n",
       "ThirdLargestPropertyUseType_Manufacturing/Industrial Plant                        -32.7\n",
       "SecondLargestPropertyUseType_Non-Refrigerated Warehouse                           -32.7\n",
       "Neighborhood_SOUTHEAST                                                            -35.8\n",
       "LargestPropertyUseType_Repair Services (Vehicle, Shoe, Locksmith, etc)            -37.2\n",
       "ThirdLargestPropertyUseType_Fitness Center/Health Club/Gym                        -37.4\n",
       "LargestPropertyUseType_Bank Branch                                                -38.5\n",
       "ThirdLargestPropertyUseType_Self-Storage Facility                                 -39.0\n",
       "LargestPropertyUseType_Performing Arts                                            -39.3\n",
       "LargestPropertyUseType_Other - Lodging/Residential                                -39.7\n",
       "ZipCode_98070.0                                                                   -39.8\n",
       "ThirdLargestPropertyUseType_Hotel                                                 -40.1\n",
       "ThirdLargestPropertyUseType_Distribution Center                                   -41.5\n",
       "ThirdLargestPropertyUseType_Fast Food Restaurant                                  -42.3\n",
       "LargestPropertyUseType_Fitness Center/Health Club/Gym                             -43.4\n",
       "ThirdLargestPropertyUseType_Convenience Store without Gas Station                 -44.2\n",
       "LargestPropertyUseType_Prison/Incarceration                                       -44.3\n",
       "PrimaryPropertyType_Low-Rise Multifamily                                          -45.8\n",
       "LargestPropertyUseType_Pre-school/Daycare                                         -46.8\n",
       "ThirdLargestPropertyUseType_Bar/Nightclub                                         -47.5\n",
       "PrimaryPropertyType_Hotel                                                         -48.3\n",
       "PrimaryPropertyType_Office                                                        -48.8\n",
       "LargestPropertyUseType_Other - Services                                           -50.6\n",
       "LargestPropertyUseType_Automobile Dealership                                      -50.7\n",
       "LargestPropertyUseType_Adult Education                                            -52.0\n",
       "LargestPropertyUseType_Multifamily Housing                                        -52.5\n",
       "PrimaryPropertyType_Self-Storage Facility                                         -53.7\n",
       "SecondLargestPropertyUseType_Residence Hall/Dormitory                             -57.0\n",
       "SecondLargestPropertyUseType_Other - Entertainment/Public Assembly                -58.9\n",
       "LargestPropertyUseType_Retail Store                                               -63.1\n",
       "PrimaryPropertyType_Medical Office                                                -65.2\n",
       "LargestPropertyUseType_Non-Refrigerated Warehouse                                 -72.6\n",
       "LargestPropertyUseType_Food Service                                               -75.4\n",
       "LargestPropertyUseType_Supermarket/Grocery Store                                  -76.0\n",
       "SecondLargestPropertyUseType_Automobile Dealership                                -78.8\n",
       "LargestPropertyUseType_Distribution Center                                        -79.1\n",
       "ThirdLargestPropertyUseType_Pre-school/Daycare                                    -81.9\n",
       "Neighborhood_DELRIDGE NEIGHBORHOODS                                               -92.1\n",
       "PrimaryPropertyType_Restaurant                                                    -97.1\n",
       "ThirdLargestPropertyUseType_Supermarket/Grocery Store                            -132.5\n",
       "LargestPropertyUseType_Other - Utility                                           -133.4\n",
       "LargestPropertyUseType_Wholesale Club/Supercenter                                -216.6"
      ]
     },
     "metadata": {},
     "output_type": "display_data"
    }
   ],
   "source": [
    "# affichage de tous les coefs\n",
    "df_coefs = pd.DataFrame(coefs.T, columns=['Coef'], index=noms_des_coefs)\n",
    "with pd.option_context('display.max_rows', 300, 'display.max_colwidth', None, 'display.max_columns', 100, 'display.precision', 1) :\n",
    "    display(df_coefs.sort_values(by='Coef', ascending=False))"
   ]
  },
  {
   "cell_type": "markdown",
   "metadata": {},
   "source": [
    "##### Coefs des vars quantitatives"
   ]
  },
  {
   "cell_type": "code",
   "execution_count": 57,
   "metadata": {
    "ExecuteTime": {
     "end_time": "2021-07-16T15:35:16.179830Z",
     "start_time": "2021-07-16T15:35:16.173830Z"
    }
   },
   "outputs": [
    {
     "data": {
      "text/html": [
       "<div>\n",
       "<style scoped>\n",
       "    .dataframe tbody tr th:only-of-type {\n",
       "        vertical-align: middle;\n",
       "    }\n",
       "\n",
       "    .dataframe tbody tr th {\n",
       "        vertical-align: top;\n",
       "    }\n",
       "\n",
       "    .dataframe thead th {\n",
       "        text-align: right;\n",
       "    }\n",
       "</style>\n",
       "<table border=\"1\" class=\"dataframe\">\n",
       "  <thead>\n",
       "    <tr style=\"text-align: right;\">\n",
       "      <th></th>\n",
       "      <th>Coef</th>\n",
       "    </tr>\n",
       "  </thead>\n",
       "  <tbody>\n",
       "    <tr>\n",
       "      <th>Latitude</th>\n",
       "      <td>-0.313027</td>\n",
       "    </tr>\n",
       "    <tr>\n",
       "      <th>Longitude</th>\n",
       "      <td>5.518521</td>\n",
       "    </tr>\n",
       "    <tr>\n",
       "      <th>YearBuilt</th>\n",
       "      <td>2.101408</td>\n",
       "    </tr>\n",
       "    <tr>\n",
       "      <th>NumberofBuildings</th>\n",
       "      <td>0.735532</td>\n",
       "    </tr>\n",
       "    <tr>\n",
       "      <th>NumberofFloors</th>\n",
       "      <td>-0.643915</td>\n",
       "    </tr>\n",
       "  </tbody>\n",
       "</table>\n",
       "</div>"
      ],
      "text/plain": [
       "                       Coef\n",
       "Latitude          -0.313027\n",
       "Longitude          5.518521\n",
       "YearBuilt          2.101408\n",
       "NumberofBuildings  0.735532\n",
       "NumberofFloors    -0.643915"
      ]
     },
     "execution_count": 57,
     "metadata": {},
     "output_type": "execute_result"
    }
   ],
   "source": [
    "df_coefs.loc[liste_variables_quantitatives]"
   ]
  },
  {
   "cell_type": "markdown",
   "metadata": {},
   "source": [
    "#### Cross validation"
   ]
  },
  {
   "cell_type": "code",
   "execution_count": 58,
   "metadata": {
    "ExecuteTime": {
     "end_time": "2021-07-16T15:35:16.402843Z",
     "start_time": "2021-07-16T15:35:16.180830Z"
    }
   },
   "outputs": [
    {
     "name": "stdout",
     "output_type": "stream",
     "text": [
      "Scores: 62.7 67.1 50.2 65.9 62.0 \n",
      "Mean: 61.6\n",
      "Standard deviation: 6.72\n"
     ]
    }
   ],
   "source": [
    "lin_scores = cross_val_score(lin_reg, X_train_EUI_prepared, y_train_EUI,\n",
    "                             scoring=\"neg_root_mean_squared_error\", cv=5)\n",
    "display_scores(-lin_scores)"
   ]
  },
  {
   "cell_type": "code",
   "execution_count": 59,
   "metadata": {
    "ExecuteTime": {
     "end_time": "2021-07-16T15:35:16.618855Z",
     "start_time": "2021-07-16T15:35:16.403843Z"
    }
   },
   "outputs": [
    {
     "name": "stdout",
     "output_type": "stream",
     "text": [
      "Scores: 0.325 0.472 0.479 -0.0987 0.246 \n",
      "Mean: 0.285\n",
      "Standard deviation: 0.236\n"
     ]
    }
   ],
   "source": [
    "lin_scores = cross_val_score(lin_reg, X_train_EUI_prepared, y_train_EUI,\n",
    "                             scoring=\"r2\", cv=5)\n",
    "display_scores(lin_scores)"
   ]
  },
  {
   "cell_type": "markdown",
   "metadata": {},
   "source": [
    "#### Généralisation du modèle sur y_test"
   ]
  },
  {
   "cell_type": "code",
   "execution_count": 60,
   "metadata": {
    "ExecuteTime": {
     "end_time": "2021-07-16T15:35:16.625856Z",
     "start_time": "2021-07-16T15:35:16.619855Z"
    }
   },
   "outputs": [
    {
     "name": "stdout",
     "output_type": "stream",
     "text": [
      "0.269\n"
     ]
    }
   ],
   "source": [
    "EUI_predictions = lin_reg.predict(X_test_EUI_prepared)\n",
    "print(arrondi(r2_score(y_test_EUI, EUI_predictions)))"
   ]
  },
  {
   "cell_type": "markdown",
   "metadata": {},
   "source": [
    "Conclusion sur la régression linéaire simple :  \n",
    "- On passe de RMSE=45 (validation sur le jeu d'entraînement) à 62 (validation croisée) en moyenne.  \n",
    "- On passe de R²=0.64 (validation sur le jeu d'entraînement) à 0.28 (validation croisée) en moyenne.  \n",
    "- On passe de R² = 0.28 (validation croisée) à 0.27 (généralisation sur le test set).\n",
    "- La généralisation se passe bien mais le modèle est peu prédictif."
   ]
  },
  {
   "cell_type": "markdown",
   "metadata": {},
   "source": [
    "### Régression linéaire avec transformation de y_train"
   ]
  },
  {
   "cell_type": "markdown",
   "metadata": {},
   "source": [
    "#### Transformation = QuantileTransformer"
   ]
  },
  {
   "cell_type": "code",
   "execution_count": 61,
   "metadata": {
    "ExecuteTime": {
     "end_time": "2021-07-16T15:35:16.682859Z",
     "start_time": "2021-07-16T15:35:16.629856Z"
    },
    "scrolled": true
   },
   "outputs": [
    {
     "data": {
      "text/html": [
       "<style>div.sk-top-container {color: black;background-color: white;}div.sk-toggleable {background-color: white;}label.sk-toggleable__label {cursor: pointer;display: block;width: 100%;margin-bottom: 0;padding: 0.2em 0.3em;box-sizing: border-box;text-align: center;}div.sk-toggleable__content {max-height: 0;max-width: 0;overflow: hidden;text-align: left;background-color: #f0f8ff;}div.sk-toggleable__content pre {margin: 0.2em;color: black;border-radius: 0.25em;background-color: #f0f8ff;}input.sk-toggleable__control:checked~div.sk-toggleable__content {max-height: 200px;max-width: 100%;overflow: auto;}div.sk-estimator input.sk-toggleable__control:checked~label.sk-toggleable__label {background-color: #d4ebff;}div.sk-label input.sk-toggleable__control:checked~label.sk-toggleable__label {background-color: #d4ebff;}input.sk-hidden--visually {border: 0;clip: rect(1px 1px 1px 1px);clip: rect(1px, 1px, 1px, 1px);height: 1px;margin: -1px;overflow: hidden;padding: 0;position: absolute;width: 1px;}div.sk-estimator {font-family: monospace;background-color: #f0f8ff;margin: 0.25em 0.25em;border: 1px dotted black;border-radius: 0.25em;box-sizing: border-box;}div.sk-estimator:hover {background-color: #d4ebff;}div.sk-parallel-item::after {content: \"\";width: 100%;border-bottom: 1px solid gray;flex-grow: 1;}div.sk-label:hover label.sk-toggleable__label {background-color: #d4ebff;}div.sk-serial::before {content: \"\";position: absolute;border-left: 1px solid gray;box-sizing: border-box;top: 2em;bottom: 0;left: 50%;}div.sk-serial {display: flex;flex-direction: column;align-items: center;background-color: white;}div.sk-item {z-index: 1;}div.sk-parallel {display: flex;align-items: stretch;justify-content: center;background-color: white;}div.sk-parallel-item {display: flex;flex-direction: column;position: relative;background-color: white;}div.sk-parallel-item:first-child::after {align-self: flex-end;width: 50%;}div.sk-parallel-item:last-child::after {align-self: flex-start;width: 50%;}div.sk-parallel-item:only-child::after {width: 0;}div.sk-dashed-wrapped {border: 1px dashed gray;margin: 0.2em;box-sizing: border-box;padding-bottom: 0.1em;background-color: white;position: relative;}div.sk-label label {font-family: monospace;font-weight: bold;background-color: white;display: inline-block;line-height: 1.2em;}div.sk-label-container {position: relative;z-index: 2;text-align: center;}div.sk-container {display: inline-block;position: relative;}</style><div class=\"sk-top-container\"><div class=\"sk-container\"><div class=\"sk-item sk-dashed-wrapped\"><div class=\"sk-label-container\"><div class=\"sk-label sk-toggleable\"><input class=\"sk-toggleable__control sk-hidden--visually\" id=\"855a818e-9298-4b91-988c-b62273bf9801\" type=\"checkbox\" ><label class=\"sk-toggleable__label\" for=\"855a818e-9298-4b91-988c-b62273bf9801\">TransformedTargetRegressor</label><div class=\"sk-toggleable__content\"><pre>TransformedTargetRegressor(regressor=LinearRegression(),\n",
       "                           transformer=QuantileTransformer(output_distribution='normal'))</pre></div></div></div><div class=\"sk-parallel\"><div class=\"sk-parallel-item\"><div class=\"sk-item\"><div class=\"sk-serial\"><div class=\"sk-item\"><div class=\"sk-estimator sk-toggleable\"><input class=\"sk-toggleable__control sk-hidden--visually\" id=\"a35467d4-2326-4ac9-9e2b-8ce815e56126\" type=\"checkbox\" ><label class=\"sk-toggleable__label\" for=\"a35467d4-2326-4ac9-9e2b-8ce815e56126\">LinearRegression</label><div class=\"sk-toggleable__content\"><pre>LinearRegression()</pre></div></div></div></div></div></div><div class=\"sk-parallel-item\"><div class=\"sk-item\"><div class=\"sk-serial\"><div class=\"sk-item\"><div class=\"sk-estimator sk-toggleable\"><input class=\"sk-toggleable__control sk-hidden--visually\" id=\"91311d27-1906-4b49-85de-d2a6d6b958c3\" type=\"checkbox\" ><label class=\"sk-toggleable__label\" for=\"91311d27-1906-4b49-85de-d2a6d6b958c3\">QuantileTransformer</label><div class=\"sk-toggleable__content\"><pre>QuantileTransformer(output_distribution='normal')</pre></div></div></div></div></div></div></div></div></div></div>"
      ],
      "text/plain": [
       "TransformedTargetRegressor(regressor=LinearRegression(),\n",
       "                           transformer=QuantileTransformer(output_distribution='normal'))"
      ]
     },
     "execution_count": 61,
     "metadata": {},
     "output_type": "execute_result"
    }
   ],
   "source": [
    "transformer = QuantileTransformer(output_distribution='normal')\n",
    "regressor = LinearRegression()\n",
    "regr_ttr = TransformedTargetRegressor(regressor=regressor, transformer=transformer)\n",
    "\n",
    "# Entrainement\n",
    "regr_ttr.fit(X_train_EUI_prepared, y_train_EUI)"
   ]
  },
  {
   "cell_type": "code",
   "execution_count": 62,
   "metadata": {
    "ExecuteTime": {
     "end_time": "2021-07-16T15:35:16.694860Z",
     "start_time": "2021-07-16T15:35:16.684859Z"
    },
    "scrolled": true
   },
   "outputs": [
    {
     "data": {
      "text/html": [
       "<div>\n",
       "<style scoped>\n",
       "    .dataframe tbody tr th:only-of-type {\n",
       "        vertical-align: middle;\n",
       "    }\n",
       "\n",
       "    .dataframe tbody tr th {\n",
       "        vertical-align: top;\n",
       "    }\n",
       "\n",
       "    .dataframe thead th {\n",
       "        text-align: right;\n",
       "    }\n",
       "</style>\n",
       "<table border=\"1\" class=\"dataframe\">\n",
       "  <thead>\n",
       "    <tr style=\"text-align: right;\">\n",
       "      <th></th>\n",
       "      <th>SiteEUI(kBtu/sf)</th>\n",
       "      <th>Prédictions</th>\n",
       "      <th>Prédictions_ttr</th>\n",
       "    </tr>\n",
       "  </thead>\n",
       "  <tbody>\n",
       "    <tr>\n",
       "      <th>2447</th>\n",
       "      <td>9.100000</td>\n",
       "      <td>48.767303</td>\n",
       "      <td>41.500000</td>\n",
       "    </tr>\n",
       "    <tr>\n",
       "      <th>2559</th>\n",
       "      <td>81.300003</td>\n",
       "      <td>42.039337</td>\n",
       "      <td>42.099998</td>\n",
       "    </tr>\n",
       "    <tr>\n",
       "      <th>137</th>\n",
       "      <td>33.299999</td>\n",
       "      <td>38.556516</td>\n",
       "      <td>41.099998</td>\n",
       "    </tr>\n",
       "    <tr>\n",
       "      <th>1969</th>\n",
       "      <td>33.500000</td>\n",
       "      <td>30.452130</td>\n",
       "      <td>33.806538</td>\n",
       "    </tr>\n",
       "    <tr>\n",
       "      <th>446</th>\n",
       "      <td>30.900000</td>\n",
       "      <td>92.408572</td>\n",
       "      <td>67.048560</td>\n",
       "    </tr>\n",
       "    <tr>\n",
       "      <th>1519</th>\n",
       "      <td>319.600006</td>\n",
       "      <td>241.338602</td>\n",
       "      <td>225.471953</td>\n",
       "    </tr>\n",
       "    <tr>\n",
       "      <th>3317</th>\n",
       "      <td>52.099998</td>\n",
       "      <td>64.988353</td>\n",
       "      <td>69.785173</td>\n",
       "    </tr>\n",
       "    <tr>\n",
       "      <th>1197</th>\n",
       "      <td>63.400002</td>\n",
       "      <td>81.811360</td>\n",
       "      <td>80.934457</td>\n",
       "    </tr>\n",
       "    <tr>\n",
       "      <th>530</th>\n",
       "      <td>52.299999</td>\n",
       "      <td>35.112925</td>\n",
       "      <td>37.932778</td>\n",
       "    </tr>\n",
       "    <tr>\n",
       "      <th>245</th>\n",
       "      <td>69.599998</td>\n",
       "      <td>73.594738</td>\n",
       "      <td>58.200001</td>\n",
       "    </tr>\n",
       "    <tr>\n",
       "      <th>242</th>\n",
       "      <td>46.099998</td>\n",
       "      <td>69.966443</td>\n",
       "      <td>57.799999</td>\n",
       "    </tr>\n",
       "    <tr>\n",
       "      <th>1282</th>\n",
       "      <td>60.700001</td>\n",
       "      <td>73.090428</td>\n",
       "      <td>56.200001</td>\n",
       "    </tr>\n",
       "    <tr>\n",
       "      <th>1620</th>\n",
       "      <td>85.500000</td>\n",
       "      <td>82.738450</td>\n",
       "      <td>59.982864</td>\n",
       "    </tr>\n",
       "    <tr>\n",
       "      <th>775</th>\n",
       "      <td>185.699997</td>\n",
       "      <td>67.697335</td>\n",
       "      <td>52.700001</td>\n",
       "    </tr>\n",
       "    <tr>\n",
       "      <th>1753</th>\n",
       "      <td>309.000000</td>\n",
       "      <td>189.264058</td>\n",
       "      <td>131.984514</td>\n",
       "    </tr>\n",
       "    <tr>\n",
       "      <th>2918</th>\n",
       "      <td>10.100000</td>\n",
       "      <td>52.649441</td>\n",
       "      <td>40.793496</td>\n",
       "    </tr>\n",
       "    <tr>\n",
       "      <th>2314</th>\n",
       "      <td>43.000000</td>\n",
       "      <td>48.101209</td>\n",
       "      <td>45.960338</td>\n",
       "    </tr>\n",
       "    <tr>\n",
       "      <th>1610</th>\n",
       "      <td>34.299999</td>\n",
       "      <td>14.849476</td>\n",
       "      <td>21.339828</td>\n",
       "    </tr>\n",
       "    <tr>\n",
       "      <th>53</th>\n",
       "      <td>60.700001</td>\n",
       "      <td>101.672286</td>\n",
       "      <td>94.901200</td>\n",
       "    </tr>\n",
       "    <tr>\n",
       "      <th>2184</th>\n",
       "      <td>20.000000</td>\n",
       "      <td>48.724303</td>\n",
       "      <td>36.670958</td>\n",
       "    </tr>\n",
       "  </tbody>\n",
       "</table>\n",
       "</div>"
      ],
      "text/plain": [
       "      SiteEUI(kBtu/sf)  Prédictions  Prédictions_ttr\n",
       "2447          9.100000    48.767303        41.500000\n",
       "2559         81.300003    42.039337        42.099998\n",
       "137          33.299999    38.556516        41.099998\n",
       "1969         33.500000    30.452130        33.806538\n",
       "446          30.900000    92.408572        67.048560\n",
       "1519        319.600006   241.338602       225.471953\n",
       "3317         52.099998    64.988353        69.785173\n",
       "1197         63.400002    81.811360        80.934457\n",
       "530          52.299999    35.112925        37.932778\n",
       "245          69.599998    73.594738        58.200001\n",
       "242          46.099998    69.966443        57.799999\n",
       "1282         60.700001    73.090428        56.200001\n",
       "1620         85.500000    82.738450        59.982864\n",
       "775         185.699997    67.697335        52.700001\n",
       "1753        309.000000   189.264058       131.984514\n",
       "2918         10.100000    52.649441        40.793496\n",
       "2314         43.000000    48.101209        45.960338\n",
       "1610         34.299999    14.849476        21.339828\n",
       "53           60.700001   101.672286        94.901200\n",
       "2184         20.000000    48.724303        36.670958"
      ]
     },
     "execution_count": 62,
     "metadata": {},
     "output_type": "execute_result"
    }
   ],
   "source": [
    "# Test de quelques valeurs prédites\n",
    "some_data_predicted_ttr = regr_ttr.predict(some_data_prepared)\n",
    "\n",
    "some_labels['Prédictions_ttr'] = some_data_predicted_ttr\n",
    "some_labels.head(20)"
   ]
  },
  {
   "cell_type": "markdown",
   "metadata": {},
   "source": [
    "##### RMSE :"
   ]
  },
  {
   "cell_type": "code",
   "execution_count": 63,
   "metadata": {
    "ExecuteTime": {
     "end_time": "2021-07-16T15:35:16.702860Z",
     "start_time": "2021-07-16T15:35:16.695860Z"
    }
   },
   "outputs": [
    {
     "data": {
      "text/plain": [
       "47.5226715659295"
      ]
     },
     "execution_count": 63,
     "metadata": {},
     "output_type": "execute_result"
    }
   ],
   "source": [
    "EUI_predictions = regr_ttr.predict(X_train_EUI_prepared)\n",
    "lin_mse = mean_squared_error(y_train_EUI, EUI_predictions)\n",
    "lin_rmse = np.sqrt(lin_mse)\n",
    "lin_rmse"
   ]
  },
  {
   "cell_type": "markdown",
   "metadata": {},
   "source": [
    "##### R²"
   ]
  },
  {
   "cell_type": "code",
   "execution_count": 64,
   "metadata": {
    "ExecuteTime": {
     "end_time": "2021-07-16T15:35:16.709861Z",
     "start_time": "2021-07-16T15:35:16.703860Z"
    }
   },
   "outputs": [
    {
     "data": {
      "text/plain": [
       "0.601458422690136"
      ]
     },
     "execution_count": 64,
     "metadata": {},
     "output_type": "execute_result"
    }
   ],
   "source": [
    "#R² par la méthode score() du transformateur\n",
    "regr_ttr.score(X_train_EUI_prepared, y_train_EUI)"
   ]
  },
  {
   "cell_type": "code",
   "execution_count": 65,
   "metadata": {
    "ExecuteTime": {
     "end_time": "2021-07-16T15:35:16.715861Z",
     "start_time": "2021-07-16T15:35:16.710861Z"
    }
   },
   "outputs": [
    {
     "data": {
      "text/plain": [
       "0.601458422690136"
      ]
     },
     "execution_count": 65,
     "metadata": {},
     "output_type": "execute_result"
    }
   ],
   "source": [
    "#R² par la fonction r2_score de metrics\n",
    "r2_score(y_train_EUI, EUI_predictions)"
   ]
  },
  {
   "cell_type": "markdown",
   "metadata": {},
   "source": [
    "##### Scatter plot :"
   ]
  },
  {
   "cell_type": "code",
   "execution_count": 66,
   "metadata": {
    "ExecuteTime": {
     "end_time": "2021-07-16T15:35:17.080882Z",
     "start_time": "2021-07-16T15:35:16.716861Z"
    },
    "scrolled": false
   },
   "outputs": [
    {
     "data": {
      "image/png": "[encoded data removed]",
      "text/plain": [
       "<Figure size 576x396 with 1 Axes>"
      ]
     },
     "metadata": {},
     "output_type": "display_data"
    },
    {
     "data": {
      "image/png": "[encoded data removed]",
      "text/plain": [
       "<Figure size 576x396 with 1 Axes>"
      ]
     },
     "metadata": {},
     "output_type": "display_data"
    }
   ],
   "source": [
    "ser_predictions = pd.Series(np.squeeze(EUI_predictions), name='Prédictions_ttr')\n",
    "scatter_plot(ser_x=y_train_EUI.reset_index().iloc[:,1], ser_y=ser_predictions, alpha=1, droite_identite=True)\n",
    "scatter_plot(ser_x=y_train_EUI.reset_index().iloc[:,1], ser_y=ser_predictions, alpha=1, max_x=300, max_y=300, droite_identite=True)"
   ]
  },
  {
   "cell_type": "markdown",
   "metadata": {},
   "source": [
    "Il n'y a pas eu d'amélioration par l'ajout d'une transformation de y_train via QuantileTransformer."
   ]
  },
  {
   "cell_type": "markdown",
   "metadata": {},
   "source": [
    "#### Transformation = fonction log"
   ]
  },
  {
   "cell_type": "code",
   "execution_count": 67,
   "metadata": {
    "ExecuteTime": {
     "end_time": "2021-07-16T15:35:17.145485Z",
     "start_time": "2021-07-16T15:35:17.081882Z"
    },
    "scrolled": true
   },
   "outputs": [
    {
     "data": {
      "text/html": [
       "<style>div.sk-top-container {color: black;background-color: white;}div.sk-toggleable {background-color: white;}label.sk-toggleable__label {cursor: pointer;display: block;width: 100%;margin-bottom: 0;padding: 0.2em 0.3em;box-sizing: border-box;text-align: center;}div.sk-toggleable__content {max-height: 0;max-width: 0;overflow: hidden;text-align: left;background-color: #f0f8ff;}div.sk-toggleable__content pre {margin: 0.2em;color: black;border-radius: 0.25em;background-color: #f0f8ff;}input.sk-toggleable__control:checked~div.sk-toggleable__content {max-height: 200px;max-width: 100%;overflow: auto;}div.sk-estimator input.sk-toggleable__control:checked~label.sk-toggleable__label {background-color: #d4ebff;}div.sk-label input.sk-toggleable__control:checked~label.sk-toggleable__label {background-color: #d4ebff;}input.sk-hidden--visually {border: 0;clip: rect(1px 1px 1px 1px);clip: rect(1px, 1px, 1px, 1px);height: 1px;margin: -1px;overflow: hidden;padding: 0;position: absolute;width: 1px;}div.sk-estimator {font-family: monospace;background-color: #f0f8ff;margin: 0.25em 0.25em;border: 1px dotted black;border-radius: 0.25em;box-sizing: border-box;}div.sk-estimator:hover {background-color: #d4ebff;}div.sk-parallel-item::after {content: \"\";width: 100%;border-bottom: 1px solid gray;flex-grow: 1;}div.sk-label:hover label.sk-toggleable__label {background-color: #d4ebff;}div.sk-serial::before {content: \"\";position: absolute;border-left: 1px solid gray;box-sizing: border-box;top: 2em;bottom: 0;left: 50%;}div.sk-serial {display: flex;flex-direction: column;align-items: center;background-color: white;}div.sk-item {z-index: 1;}div.sk-parallel {display: flex;align-items: stretch;justify-content: center;background-color: white;}div.sk-parallel-item {display: flex;flex-direction: column;position: relative;background-color: white;}div.sk-parallel-item:first-child::after {align-self: flex-end;width: 50%;}div.sk-parallel-item:last-child::after {align-self: flex-start;width: 50%;}div.sk-parallel-item:only-child::after {width: 0;}div.sk-dashed-wrapped {border: 1px dashed gray;margin: 0.2em;box-sizing: border-box;padding-bottom: 0.1em;background-color: white;position: relative;}div.sk-label label {font-family: monospace;font-weight: bold;background-color: white;display: inline-block;line-height: 1.2em;}div.sk-label-container {position: relative;z-index: 2;text-align: center;}div.sk-container {display: inline-block;position: relative;}</style><div class=\"sk-top-container\"><div class=\"sk-container\"><div class=\"sk-item sk-dashed-wrapped\"><div class=\"sk-label-container\"><div class=\"sk-label sk-toggleable\"><input class=\"sk-toggleable__control sk-hidden--visually\" id=\"6b2d9e5f-3df9-4e6e-92bc-6452c7eec866\" type=\"checkbox\" ><label class=\"sk-toggleable__label\" for=\"6b2d9e5f-3df9-4e6e-92bc-6452c7eec866\">TransformedTargetRegressor</label><div class=\"sk-toggleable__content\"><pre>TransformedTargetRegressor(func=<ufunc 'log'>, inverse_func=<ufunc 'exp'>,\n",
       "                           regressor=LinearRegression())</pre></div></div></div><div class=\"sk-parallel\"><div class=\"sk-parallel-item\"><div class=\"sk-item\"><div class=\"sk-serial\"><div class=\"sk-item\"><div class=\"sk-estimator sk-toggleable\"><input class=\"sk-toggleable__control sk-hidden--visually\" id=\"e850f6ee-6af1-46fa-a11f-12893bde3f99\" type=\"checkbox\" ><label class=\"sk-toggleable__label\" for=\"e850f6ee-6af1-46fa-a11f-12893bde3f99\">LinearRegression</label><div class=\"sk-toggleable__content\"><pre>LinearRegression()</pre></div></div></div></div></div></div></div></div></div></div>"
      ],
      "text/plain": [
       "TransformedTargetRegressor(func=<ufunc 'log'>, inverse_func=<ufunc 'exp'>,\n",
       "                           regressor=LinearRegression())"
      ]
     },
     "execution_count": 67,
     "metadata": {},
     "output_type": "execute_result"
    }
   ],
   "source": [
    "regressor = LinearRegression()\n",
    "regr_ttr2 = TransformedTargetRegressor(regressor=regressor, func=np.log, inverse_func=np.exp)\n",
    "\n",
    "# Entrainement\n",
    "regr_ttr2.fit(X_train_EUI_prepared, y_train_EUI)"
   ]
  },
  {
   "cell_type": "code",
   "execution_count": 68,
   "metadata": {
    "ExecuteTime": {
     "end_time": "2021-07-16T15:35:17.161085Z",
     "start_time": "2021-07-16T15:35:17.145485Z"
    },
    "scrolled": true
   },
   "outputs": [
    {
     "data": {
      "text/html": [
       "<div>\n",
       "<style scoped>\n",
       "    .dataframe tbody tr th:only-of-type {\n",
       "        vertical-align: middle;\n",
       "    }\n",
       "\n",
       "    .dataframe tbody tr th {\n",
       "        vertical-align: top;\n",
       "    }\n",
       "\n",
       "    .dataframe thead th {\n",
       "        text-align: right;\n",
       "    }\n",
       "</style>\n",
       "<table border=\"1\" class=\"dataframe\">\n",
       "  <thead>\n",
       "    <tr style=\"text-align: right;\">\n",
       "      <th></th>\n",
       "      <th>SiteEUI(kBtu/sf)</th>\n",
       "      <th>Prédictions</th>\n",
       "      <th>Prédictions_ttr</th>\n",
       "      <th>Prédictions_ttr2</th>\n",
       "    </tr>\n",
       "  </thead>\n",
       "  <tbody>\n",
       "    <tr>\n",
       "      <th>2447</th>\n",
       "      <td>9.100000</td>\n",
       "      <td>48.767303</td>\n",
       "      <td>41.500000</td>\n",
       "      <td>36.706007</td>\n",
       "    </tr>\n",
       "    <tr>\n",
       "      <th>2559</th>\n",
       "      <td>81.300003</td>\n",
       "      <td>42.039337</td>\n",
       "      <td>42.099998</td>\n",
       "      <td>38.709525</td>\n",
       "    </tr>\n",
       "    <tr>\n",
       "      <th>137</th>\n",
       "      <td>33.299999</td>\n",
       "      <td>38.556516</td>\n",
       "      <td>41.099998</td>\n",
       "      <td>40.304150</td>\n",
       "    </tr>\n",
       "    <tr>\n",
       "      <th>1969</th>\n",
       "      <td>33.500000</td>\n",
       "      <td>30.452130</td>\n",
       "      <td>33.806538</td>\n",
       "      <td>26.591912</td>\n",
       "    </tr>\n",
       "    <tr>\n",
       "      <th>446</th>\n",
       "      <td>30.900000</td>\n",
       "      <td>92.408572</td>\n",
       "      <td>67.048560</td>\n",
       "      <td>72.088897</td>\n",
       "    </tr>\n",
       "    <tr>\n",
       "      <th>1519</th>\n",
       "      <td>319.600006</td>\n",
       "      <td>241.338602</td>\n",
       "      <td>225.471953</td>\n",
       "      <td>208.523512</td>\n",
       "    </tr>\n",
       "    <tr>\n",
       "      <th>3317</th>\n",
       "      <td>52.099998</td>\n",
       "      <td>64.988353</td>\n",
       "      <td>69.785173</td>\n",
       "      <td>69.357724</td>\n",
       "    </tr>\n",
       "    <tr>\n",
       "      <th>1197</th>\n",
       "      <td>63.400002</td>\n",
       "      <td>81.811360</td>\n",
       "      <td>80.934457</td>\n",
       "      <td>80.464884</td>\n",
       "    </tr>\n",
       "    <tr>\n",
       "      <th>530</th>\n",
       "      <td>52.299999</td>\n",
       "      <td>35.112925</td>\n",
       "      <td>37.932778</td>\n",
       "      <td>33.467501</td>\n",
       "    </tr>\n",
       "    <tr>\n",
       "      <th>245</th>\n",
       "      <td>69.599998</td>\n",
       "      <td>73.594738</td>\n",
       "      <td>58.200001</td>\n",
       "      <td>59.593172</td>\n",
       "    </tr>\n",
       "    <tr>\n",
       "      <th>242</th>\n",
       "      <td>46.099998</td>\n",
       "      <td>69.966443</td>\n",
       "      <td>57.799999</td>\n",
       "      <td>60.765758</td>\n",
       "    </tr>\n",
       "    <tr>\n",
       "      <th>1282</th>\n",
       "      <td>60.700001</td>\n",
       "      <td>73.090428</td>\n",
       "      <td>56.200001</td>\n",
       "      <td>58.583043</td>\n",
       "    </tr>\n",
       "    <tr>\n",
       "      <th>1620</th>\n",
       "      <td>85.500000</td>\n",
       "      <td>82.738450</td>\n",
       "      <td>59.982864</td>\n",
       "      <td>68.272202</td>\n",
       "    </tr>\n",
       "    <tr>\n",
       "      <th>775</th>\n",
       "      <td>185.699997</td>\n",
       "      <td>67.697335</td>\n",
       "      <td>52.700001</td>\n",
       "      <td>52.631080</td>\n",
       "    </tr>\n",
       "    <tr>\n",
       "      <th>1753</th>\n",
       "      <td>309.000000</td>\n",
       "      <td>189.264058</td>\n",
       "      <td>131.984514</td>\n",
       "      <td>150.346487</td>\n",
       "    </tr>\n",
       "    <tr>\n",
       "      <th>2918</th>\n",
       "      <td>10.100000</td>\n",
       "      <td>52.649441</td>\n",
       "      <td>40.793496</td>\n",
       "      <td>38.444138</td>\n",
       "    </tr>\n",
       "    <tr>\n",
       "      <th>2314</th>\n",
       "      <td>43.000000</td>\n",
       "      <td>48.101209</td>\n",
       "      <td>45.960338</td>\n",
       "      <td>44.521557</td>\n",
       "    </tr>\n",
       "    <tr>\n",
       "      <th>1610</th>\n",
       "      <td>34.299999</td>\n",
       "      <td>14.849476</td>\n",
       "      <td>21.339828</td>\n",
       "      <td>18.274009</td>\n",
       "    </tr>\n",
       "    <tr>\n",
       "      <th>53</th>\n",
       "      <td>60.700001</td>\n",
       "      <td>101.672286</td>\n",
       "      <td>94.901200</td>\n",
       "      <td>103.007445</td>\n",
       "    </tr>\n",
       "    <tr>\n",
       "      <th>2184</th>\n",
       "      <td>20.000000</td>\n",
       "      <td>48.724303</td>\n",
       "      <td>36.670958</td>\n",
       "      <td>31.498022</td>\n",
       "    </tr>\n",
       "  </tbody>\n",
       "</table>\n",
       "</div>"
      ],
      "text/plain": [
       "      SiteEUI(kBtu/sf)  Prédictions  Prédictions_ttr  Prédictions_ttr2\n",
       "2447          9.100000    48.767303        41.500000         36.706007\n",
       "2559         81.300003    42.039337        42.099998         38.709525\n",
       "137          33.299999    38.556516        41.099998         40.304150\n",
       "1969         33.500000    30.452130        33.806538         26.591912\n",
       "446          30.900000    92.408572        67.048560         72.088897\n",
       "1519        319.600006   241.338602       225.471953        208.523512\n",
       "3317         52.099998    64.988353        69.785173         69.357724\n",
       "1197         63.400002    81.811360        80.934457         80.464884\n",
       "530          52.299999    35.112925        37.932778         33.467501\n",
       "245          69.599998    73.594738        58.200001         59.593172\n",
       "242          46.099998    69.966443        57.799999         60.765758\n",
       "1282         60.700001    73.090428        56.200001         58.583043\n",
       "1620         85.500000    82.738450        59.982864         68.272202\n",
       "775         185.699997    67.697335        52.700001         52.631080\n",
       "1753        309.000000   189.264058       131.984514        150.346487\n",
       "2918         10.100000    52.649441        40.793496         38.444138\n",
       "2314         43.000000    48.101209        45.960338         44.521557\n",
       "1610         34.299999    14.849476        21.339828         18.274009\n",
       "53           60.700001   101.672286        94.901200        103.007445\n",
       "2184         20.000000    48.724303        36.670958         31.498022"
      ]
     },
     "execution_count": 68,
     "metadata": {},
     "output_type": "execute_result"
    }
   ],
   "source": [
    "# Test de quelques valeurs prédites\n",
    "some_data_predicted_ttr = regr_ttr2.predict(some_data_prepared)\n",
    "\n",
    "some_labels['Prédictions_ttr2'] = some_data_predicted_ttr\n",
    "some_labels.head(20)"
   ]
  },
  {
   "cell_type": "markdown",
   "metadata": {},
   "source": [
    "##### RMSE :"
   ]
  },
  {
   "cell_type": "code",
   "execution_count": 69,
   "metadata": {
    "ExecuteTime": {
     "end_time": "2021-07-16T15:35:17.176685Z",
     "start_time": "2021-07-16T15:35:17.161085Z"
    }
   },
   "outputs": [
    {
     "data": {
      "text/plain": [
       "47.262093708057606"
      ]
     },
     "execution_count": 69,
     "metadata": {},
     "output_type": "execute_result"
    }
   ],
   "source": [
    "EUI_predictions = regr_ttr2.predict(X_train_EUI_prepared)\n",
    "lin_mse = mean_squared_error(y_train_EUI, EUI_predictions)\n",
    "lin_rmse = np.sqrt(lin_mse)\n",
    "lin_rmse"
   ]
  },
  {
   "cell_type": "markdown",
   "metadata": {},
   "source": [
    "##### R²"
   ]
  },
  {
   "cell_type": "code",
   "execution_count": 70,
   "metadata": {
    "ExecuteTime": {
     "end_time": "2021-07-16T15:35:17.192285Z",
     "start_time": "2021-07-16T15:35:17.176685Z"
    }
   },
   "outputs": [
    {
     "data": {
      "text/plain": [
       "0.6058170324729131"
      ]
     },
     "execution_count": 70,
     "metadata": {},
     "output_type": "execute_result"
    }
   ],
   "source": [
    "#R² par la méthode score() du transformateur\n",
    "regr_ttr2.score(X_train_EUI_prepared, y_train_EUI)"
   ]
  },
  {
   "cell_type": "code",
   "execution_count": 71,
   "metadata": {
    "ExecuteTime": {
     "end_time": "2021-07-16T15:35:17.207885Z",
     "start_time": "2021-07-16T15:35:17.192285Z"
    }
   },
   "outputs": [
    {
     "data": {
      "text/plain": [
       "0.6058170324729131"
      ]
     },
     "execution_count": 71,
     "metadata": {},
     "output_type": "execute_result"
    }
   ],
   "source": [
    "#R² par la fonction r2_score de metrics\n",
    "r2_score(y_train_EUI, EUI_predictions)"
   ]
  },
  {
   "cell_type": "markdown",
   "metadata": {},
   "source": [
    "##### Scatter plot :"
   ]
  },
  {
   "cell_type": "code",
   "execution_count": 72,
   "metadata": {
    "ExecuteTime": {
     "end_time": "2021-07-16T15:35:17.676886Z",
     "start_time": "2021-07-16T15:35:17.207885Z"
    },
    "scrolled": false
   },
   "outputs": [
    {
     "data": {
      "image/png": "[encoded data removed]",
      "text/plain": [
       "<Figure size 576x396 with 1 Axes>"
      ]
     },
     "metadata": {},
     "output_type": "display_data"
    },
    {
     "data": {
      "image/png": "[encoded data removed]",
      "text/plain": [
       "<Figure size 576x396 with 1 Axes>"
      ]
     },
     "metadata": {},
     "output_type": "display_data"
    }
   ],
   "source": [
    "ser_predictions = pd.Series(np.squeeze(EUI_predictions), name='Prédictions_ttr2')\n",
    "scatter_plot(ser_x=y_train_EUI.reset_index().iloc[:,1], ser_y=ser_predictions, alpha=1, droite_identite=True)\n",
    "scatter_plot(ser_x=y_train_EUI.reset_index().iloc[:,1], ser_y=ser_predictions, alpha=1, max_x=300, max_y=300, droite_identite=True)"
   ]
  },
  {
   "cell_type": "markdown",
   "metadata": {},
   "source": [
    "Il n'y a pas eu d'amélioration par l'ajout d'une transformation de y_train via un scaler en log."
   ]
  },
  {
   "cell_type": "markdown",
   "metadata": {},
   "source": [
    "## Arbres de décision"
   ]
  },
  {
   "cell_type": "markdown",
   "metadata": {},
   "source": [
    "##### Validation sur le jeu d'entrainement"
   ]
  },
  {
   "cell_type": "code",
   "execution_count": 73,
   "metadata": {
    "ExecuteTime": {
     "end_time": "2021-07-16T15:35:17.739286Z",
     "start_time": "2021-07-16T15:35:17.676886Z"
    }
   },
   "outputs": [
    {
     "data": {
      "text/html": [
       "<style>div.sk-top-container {color: black;background-color: white;}div.sk-toggleable {background-color: white;}label.sk-toggleable__label {cursor: pointer;display: block;width: 100%;margin-bottom: 0;padding: 0.2em 0.3em;box-sizing: border-box;text-align: center;}div.sk-toggleable__content {max-height: 0;max-width: 0;overflow: hidden;text-align: left;background-color: #f0f8ff;}div.sk-toggleable__content pre {margin: 0.2em;color: black;border-radius: 0.25em;background-color: #f0f8ff;}input.sk-toggleable__control:checked~div.sk-toggleable__content {max-height: 200px;max-width: 100%;overflow: auto;}div.sk-estimator input.sk-toggleable__control:checked~label.sk-toggleable__label {background-color: #d4ebff;}div.sk-label input.sk-toggleable__control:checked~label.sk-toggleable__label {background-color: #d4ebff;}input.sk-hidden--visually {border: 0;clip: rect(1px 1px 1px 1px);clip: rect(1px, 1px, 1px, 1px);height: 1px;margin: -1px;overflow: hidden;padding: 0;position: absolute;width: 1px;}div.sk-estimator {font-family: monospace;background-color: #f0f8ff;margin: 0.25em 0.25em;border: 1px dotted black;border-radius: 0.25em;box-sizing: border-box;}div.sk-estimator:hover {background-color: #d4ebff;}div.sk-parallel-item::after {content: \"\";width: 100%;border-bottom: 1px solid gray;flex-grow: 1;}div.sk-label:hover label.sk-toggleable__label {background-color: #d4ebff;}div.sk-serial::before {content: \"\";position: absolute;border-left: 1px solid gray;box-sizing: border-box;top: 2em;bottom: 0;left: 50%;}div.sk-serial {display: flex;flex-direction: column;align-items: center;background-color: white;}div.sk-item {z-index: 1;}div.sk-parallel {display: flex;align-items: stretch;justify-content: center;background-color: white;}div.sk-parallel-item {display: flex;flex-direction: column;position: relative;background-color: white;}div.sk-parallel-item:first-child::after {align-self: flex-end;width: 50%;}div.sk-parallel-item:last-child::after {align-self: flex-start;width: 50%;}div.sk-parallel-item:only-child::after {width: 0;}div.sk-dashed-wrapped {border: 1px dashed gray;margin: 0.2em;box-sizing: border-box;padding-bottom: 0.1em;background-color: white;position: relative;}div.sk-label label {font-family: monospace;font-weight: bold;background-color: white;display: inline-block;line-height: 1.2em;}div.sk-label-container {position: relative;z-index: 2;text-align: center;}div.sk-container {display: inline-block;position: relative;}</style><div class=\"sk-top-container\"><div class=\"sk-container\"><div class=\"sk-item\"><div class=\"sk-estimator sk-toggleable\"><input class=\"sk-toggleable__control sk-hidden--visually\" id=\"af54d50c-c225-47de-a251-134bcef38d1c\" type=\"checkbox\" checked><label class=\"sk-toggleable__label\" for=\"af54d50c-c225-47de-a251-134bcef38d1c\">DecisionTreeRegressor</label><div class=\"sk-toggleable__content\"><pre>DecisionTreeRegressor(random_state=0)</pre></div></div></div></div></div>"
      ],
      "text/plain": [
       "DecisionTreeRegressor(random_state=0)"
      ]
     },
     "execution_count": 73,
     "metadata": {},
     "output_type": "execute_result"
    }
   ],
   "source": [
    "tree_reg = DecisionTreeRegressor(random_state=0)\n",
    "tree_reg.fit(X_train_EUI_prepared, y_train_EUI)"
   ]
  },
  {
   "cell_type": "code",
   "execution_count": 74,
   "metadata": {
    "ExecuteTime": {
     "end_time": "2021-07-16T15:35:17.754886Z",
     "start_time": "2021-07-16T15:35:17.739286Z"
    }
   },
   "outputs": [
    {
     "data": {
      "text/plain": [
       "1.2288822142936575"
      ]
     },
     "execution_count": 74,
     "metadata": {},
     "output_type": "execute_result"
    }
   ],
   "source": [
    "EUI_predictions = tree_reg.predict(X_train_EUI_prepared)\n",
    "tree_mse = mean_squared_error(y_train_EUI, EUI_predictions)\n",
    "tree_rmse = np.sqrt(tree_mse)\n",
    "tree_rmse  "
   ]
  },
  {
   "cell_type": "code",
   "execution_count": 75,
   "metadata": {
    "ExecuteTime": {
     "end_time": "2021-07-16T15:35:17.770486Z",
     "start_time": "2021-07-16T15:35:17.754886Z"
    }
   },
   "outputs": [
    {
     "name": "stdout",
     "output_type": "stream",
     "text": [
      "R² = 0.9997335029179526\n"
     ]
    }
   ],
   "source": [
    "print(\"R² =\", r2_score(y_train_EUI, EUI_predictions))"
   ]
  },
  {
   "cell_type": "markdown",
   "metadata": {},
   "source": [
    "RMSE = 0 et R² = 1 car car test sur jeu d'entrainement d'un arbre totalement ajusté"
   ]
  },
  {
   "cell_type": "code",
   "execution_count": 76,
   "metadata": {
    "ExecuteTime": {
     "end_time": "2021-07-16T15:35:17.788086Z",
     "start_time": "2021-07-16T15:35:17.771486Z"
    },
    "scrolled": true
   },
   "outputs": [
    {
     "data": {
      "text/plain": [
       "239"
      ]
     },
     "execution_count": 76,
     "metadata": {},
     "output_type": "execute_result"
    }
   ],
   "source": [
    "tree_reg.max_features_"
   ]
  },
  {
   "cell_type": "code",
   "execution_count": 77,
   "metadata": {
    "ExecuteTime": {
     "end_time": "2021-07-16T15:35:17.803686Z",
     "start_time": "2021-07-16T15:35:17.788086Z"
    }
   },
   "outputs": [
    {
     "data": {
      "text/plain": [
       "239"
      ]
     },
     "execution_count": 77,
     "metadata": {},
     "output_type": "execute_result"
    }
   ],
   "source": [
    "tree_reg.n_features_"
   ]
  },
  {
   "cell_type": "code",
   "execution_count": 78,
   "metadata": {
    "ExecuteTime": {
     "end_time": "2021-07-16T15:35:17.819286Z",
     "start_time": "2021-07-16T15:35:17.803686Z"
    },
    "scrolled": false
   },
   "outputs": [
    {
     "data": {
      "text/plain": [
       "LargestPropertyUseType_Data Center                              0.170312\n",
       "PrimaryPropertyType_Supermarket / Grocery Store                 0.136531\n",
       "YearBuilt                                                       0.091894\n",
       "PrimaryPropertyType_Laboratory                                  0.066577\n",
       "Longitude                                                       0.060178\n",
       "Latitude                                                        0.053045\n",
       "LargestPropertyUseType_Parking                                  0.041858\n",
       "NumberofFloors                                                  0.026625\n",
       "PrimaryPropertyType_Warehouse                                   0.022683\n",
       "Neighborhood_Delridge                                           0.021844\n",
       "PrimaryPropertyType_Other                                       0.017568\n",
       "LargestPropertyUseType_Hospital (General Medical & Surgical)    0.017326\n",
       "LargestPropertyUseType_Restaurant                               0.017218\n",
       "SecondLargestPropertyUseType_Data Center                        0.016902\n",
       "SecondLargestPropertyUseType_Parking                            0.014328\n",
       "SecondLargestPropertyUseType_Laboratory                         0.013866\n",
       "ThirdLargestPropertyUseType_Swimming Pool                       0.010769\n",
       "SecondLargestPropertyUseType_Office                             0.010734\n",
       "ThirdLargestPropertyUseType_Parking                             0.008081\n",
       "ZipCode_98101.0                                                 0.007995\n",
       "dtype: float64"
      ]
     },
     "execution_count": 78,
     "metadata": {},
     "output_type": "execute_result"
    }
   ],
   "source": [
    "df_feature_importances = pd.Series(tree_reg.feature_importances_, index=noms_des_coefs)\n",
    "df_feature_importances.sort_values(ascending=False).head(20)"
   ]
  },
  {
   "cell_type": "markdown",
   "metadata": {},
   "source": [
    "##### RMSE / validation croisée"
   ]
  },
  {
   "cell_type": "code",
   "execution_count": 79,
   "metadata": {
    "ExecuteTime": {
     "end_time": "2021-07-16T15:35:17.990886Z",
     "start_time": "2021-07-16T15:35:17.819286Z"
    }
   },
   "outputs": [
    {
     "name": "stdout",
     "output_type": "stream",
     "text": [
      "Scores: 72.8 71.9 76.5 68.3 68.9 \n",
      "Mean: 71.7\n",
      "Standard deviation: 3.31\n"
     ]
    }
   ],
   "source": [
    "scores = cross_val_score(tree_reg, X_train_EUI_prepared, y_train_EUI, \n",
    "                         scoring=\"neg_root_mean_squared_error\", cv=5)\n",
    "display_scores(-scores)"
   ]
  },
  {
   "cell_type": "markdown",
   "metadata": {},
   "source": [
    "##### R² / validation croisée"
   ]
  },
  {
   "cell_type": "code",
   "execution_count": 80,
   "metadata": {
    "ExecuteTime": {
     "end_time": "2021-07-16T15:35:18.178087Z",
     "start_time": "2021-07-16T15:35:17.990886Z"
    }
   },
   "outputs": [
    {
     "name": "stdout",
     "output_type": "stream",
     "text": [
      "Scores: 0.0915 0.394 -0.211 -0.182 0.0688 \n",
      "Mean: 0.0323\n",
      "Standard deviation: 0.246\n"
     ]
    }
   ],
   "source": [
    "scores = cross_val_score(tree_reg, X_train_EUI_prepared, y_train_EUI, \n",
    "                         scoring=\"r2\", cv=5)\n",
    "display_scores(scores)"
   ]
  },
  {
   "cell_type": "markdown",
   "metadata": {},
   "source": [
    "On passe de RMSE=1 (validation sur le jeu d'entraînement) à 72 (validation croisée) en moyenne.  \n",
    "On passe de R²=1 (validation sur le jeu d'entraînement) à 0.03 (validation croisée) en moyenne.  \n",
    "La validation croisée indique que le modèle est très mauvais (surajustement)."
   ]
  },
  {
   "cell_type": "markdown",
   "metadata": {},
   "source": [
    "##### Dessin de l'arbre"
   ]
  },
  {
   "cell_type": "code",
   "execution_count": 81,
   "metadata": {
    "ExecuteTime": {
     "end_time": "2021-07-16T15:35:18.412087Z",
     "start_time": "2021-07-16T15:35:18.178087Z"
    }
   },
   "outputs": [],
   "source": [
    "export_graphviz(\n",
    "        tree_reg,\n",
    "        out_file=\"tree_reg.dot\",\n",
    "        feature_names=noms_des_coefs,\n",
    "        class_names=\"SiteEUI(kBtu/sf)\",\n",
    "        rounded=True,\n",
    "        filled=True\n",
    "    )"
   ]
  },
  {
   "cell_type": "code",
   "execution_count": 82,
   "metadata": {
    "ExecuteTime": {
     "end_time": "2021-07-16T15:35:18.427687Z",
     "start_time": "2021-07-16T15:35:18.412087Z"
    },
    "scrolled": true
   },
   "outputs": [],
   "source": [
    "# Source.from_file(\"tree_reg.dot\")   # l'affichage du graphe augmente la taille du fichier .ipynb de 3 Mo"
   ]
  },
  {
   "cell_type": "code",
   "execution_count": 83,
   "metadata": {
    "ExecuteTime": {
     "end_time": "2021-07-16T15:35:18.443287Z",
     "start_time": "2021-07-16T15:35:18.427687Z"
    }
   },
   "outputs": [
    {
     "data": {
      "text/plain": [
       "1312"
      ]
     },
     "execution_count": 83,
     "metadata": {},
     "output_type": "execute_result"
    }
   ],
   "source": [
    "tree_reg.get_n_leaves()"
   ]
  },
  {
   "cell_type": "code",
   "execution_count": 84,
   "metadata": {
    "ExecuteTime": {
     "end_time": "2021-07-16T15:35:18.458887Z",
     "start_time": "2021-07-16T15:35:18.443287Z"
    }
   },
   "outputs": [
    {
     "data": {
      "text/plain": [
       "56"
      ]
     },
     "execution_count": 84,
     "metadata": {},
     "output_type": "execute_result"
    }
   ],
   "source": [
    "tree_reg.get_depth()"
   ]
  },
  {
   "cell_type": "markdown",
   "metadata": {},
   "source": [
    "### Régularisation"
   ]
  },
  {
   "cell_type": "markdown",
   "metadata": {},
   "source": [
    "##### GridSearchCV à une dimension :"
   ]
  },
  {
   "cell_type": "code",
   "execution_count": 85,
   "metadata": {
    "ExecuteTime": {
     "end_time": "2021-07-16T15:35:20.184382Z",
     "start_time": "2021-07-16T15:35:18.458887Z"
    },
    "scrolled": true
   },
   "outputs": [
    {
     "data": {
      "text/html": [
       "<style>div.sk-top-container {color: black;background-color: white;}div.sk-toggleable {background-color: white;}label.sk-toggleable__label {cursor: pointer;display: block;width: 100%;margin-bottom: 0;padding: 0.2em 0.3em;box-sizing: border-box;text-align: center;}div.sk-toggleable__content {max-height: 0;max-width: 0;overflow: hidden;text-align: left;background-color: #f0f8ff;}div.sk-toggleable__content pre {margin: 0.2em;color: black;border-radius: 0.25em;background-color: #f0f8ff;}input.sk-toggleable__control:checked~div.sk-toggleable__content {max-height: 200px;max-width: 100%;overflow: auto;}div.sk-estimator input.sk-toggleable__control:checked~label.sk-toggleable__label {background-color: #d4ebff;}div.sk-label input.sk-toggleable__control:checked~label.sk-toggleable__label {background-color: #d4ebff;}input.sk-hidden--visually {border: 0;clip: rect(1px 1px 1px 1px);clip: rect(1px, 1px, 1px, 1px);height: 1px;margin: -1px;overflow: hidden;padding: 0;position: absolute;width: 1px;}div.sk-estimator {font-family: monospace;background-color: #f0f8ff;margin: 0.25em 0.25em;border: 1px dotted black;border-radius: 0.25em;box-sizing: border-box;}div.sk-estimator:hover {background-color: #d4ebff;}div.sk-parallel-item::after {content: \"\";width: 100%;border-bottom: 1px solid gray;flex-grow: 1;}div.sk-label:hover label.sk-toggleable__label {background-color: #d4ebff;}div.sk-serial::before {content: \"\";position: absolute;border-left: 1px solid gray;box-sizing: border-box;top: 2em;bottom: 0;left: 50%;}div.sk-serial {display: flex;flex-direction: column;align-items: center;background-color: white;}div.sk-item {z-index: 1;}div.sk-parallel {display: flex;align-items: stretch;justify-content: center;background-color: white;}div.sk-parallel-item {display: flex;flex-direction: column;position: relative;background-color: white;}div.sk-parallel-item:first-child::after {align-self: flex-end;width: 50%;}div.sk-parallel-item:last-child::after {align-self: flex-start;width: 50%;}div.sk-parallel-item:only-child::after {width: 0;}div.sk-dashed-wrapped {border: 1px dashed gray;margin: 0.2em;box-sizing: border-box;padding-bottom: 0.1em;background-color: white;position: relative;}div.sk-label label {font-family: monospace;font-weight: bold;background-color: white;display: inline-block;line-height: 1.2em;}div.sk-label-container {position: relative;z-index: 2;text-align: center;}div.sk-container {display: inline-block;position: relative;}</style><div class=\"sk-top-container\"><div class=\"sk-container\"><div class=\"sk-item sk-dashed-wrapped\"><div class=\"sk-label-container\"><div class=\"sk-label sk-toggleable\"><input class=\"sk-toggleable__control sk-hidden--visually\" id=\"366ab649-abc7-4351-bda1-ee5c1af4ec41\" type=\"checkbox\" ><label class=\"sk-toggleable__label\" for=\"366ab649-abc7-4351-bda1-ee5c1af4ec41\">GridSearchCV</label><div class=\"sk-toggleable__content\"><pre>GridSearchCV(cv=5, estimator=DecisionTreeRegressor(random_state=0),\n",
       "             param_grid=[{'max_depth': [1, 2, 4, 8, 16, 32, 64, 128]},\n",
       "                         {'min_samples_leaf': [1, 2, 4, 8, 16, 32, 64, 128, 256,\n",
       "                                               512, 1024]},\n",
       "                         {'max_features': [32, 64, 128, 239]}],\n",
       "             return_train_score=True, scoring='r2')</pre></div></div></div><div class=\"sk-parallel\"><div class=\"sk-parallel-item\"><div class=\"sk-item\"><div class=\"sk-serial\"><div class=\"sk-item\"><div class=\"sk-estimator sk-toggleable\"><input class=\"sk-toggleable__control sk-hidden--visually\" id=\"12120459-bbd6-484b-a321-93e3859b195b\" type=\"checkbox\" ><label class=\"sk-toggleable__label\" for=\"12120459-bbd6-484b-a321-93e3859b195b\">DecisionTreeRegressor</label><div class=\"sk-toggleable__content\"><pre>DecisionTreeRegressor(random_state=0)</pre></div></div></div></div></div></div></div></div></div></div>"
      ],
      "text/plain": [
       "GridSearchCV(cv=5, estimator=DecisionTreeRegressor(random_state=0),\n",
       "             param_grid=[{'max_depth': [1, 2, 4, 8, 16, 32, 64, 128]},\n",
       "                         {'min_samples_leaf': [1, 2, 4, 8, 16, 32, 64, 128, 256,\n",
       "                                               512, 1024]},\n",
       "                         {'max_features': [32, 64, 128, 239]}],\n",
       "             return_train_score=True, scoring='r2')"
      ]
     },
     "execution_count": 85,
     "metadata": {},
     "output_type": "execute_result"
    }
   ],
   "source": [
    "param_grid = [{'max_depth': [1, 2, 4, 8, 16, 32, 64, 128]}, {'min_samples_leaf': [2**x for x in range(11)]}, {'max_features': [32, 64, 128, 239]}]\n",
    "grid_search = GridSearchCV(tree_reg, param_grid, cv=5,\n",
    "                           scoring='r2', return_train_score=True)\n",
    "grid_search.fit(X_train_EUI_prepared, y_train_EUI.iloc[:,0])"
   ]
  },
  {
   "cell_type": "code",
   "execution_count": 86,
   "metadata": {
    "ExecuteTime": {
     "end_time": "2021-07-16T15:35:20.188383Z",
     "start_time": "2021-07-16T15:35:20.185382Z"
    }
   },
   "outputs": [
    {
     "data": {
      "text/plain": [
       "{'max_depth': 8}"
      ]
     },
     "execution_count": 86,
     "metadata": {},
     "output_type": "execute_result"
    }
   ],
   "source": [
    "grid_search.best_params_"
   ]
  },
  {
   "cell_type": "code",
   "execution_count": 87,
   "metadata": {
    "ExecuteTime": {
     "end_time": "2021-07-16T15:35:20.192383Z",
     "start_time": "2021-07-16T15:35:20.189383Z"
    }
   },
   "outputs": [
    {
     "data": {
      "text/plain": [
       "0.28660529930392975"
      ]
     },
     "execution_count": 87,
     "metadata": {},
     "output_type": "execute_result"
    }
   ],
   "source": [
    "grid_search.best_score_"
   ]
  },
  {
   "cell_type": "code",
   "execution_count": 88,
   "metadata": {
    "ExecuteTime": {
     "end_time": "2021-07-16T15:35:20.198383Z",
     "start_time": "2021-07-16T15:35:20.193383Z"
    },
    "scrolled": false
   },
   "outputs": [
    {
     "name": "stdout",
     "output_type": "stream",
     "text": [
      "R² = 0.146 {'max_depth': 1}\n",
      "R² = 0.277 {'max_depth': 2}\n",
      "R² = 0.277 {'max_depth': 4}\n",
      "R² = 0.287 {'max_depth': 8}\n",
      "R² = 0.234 {'max_depth': 16}\n",
      "R² = -0.0142 {'max_depth': 32}\n",
      "R² = 0.0352 {'max_depth': 64}\n",
      "R² = 0.0323 {'max_depth': 128}\n",
      "R² = 0.0323 {'min_samples_leaf': 1}\n",
      "R² = 0.127 {'min_samples_leaf': 2}\n",
      "R² = 0.136 {'min_samples_leaf': 4}\n",
      "R² = 0.199 {'min_samples_leaf': 8}\n",
      "R² = 0.194 {'min_samples_leaf': 16}\n",
      "R² = 0.0612 {'min_samples_leaf': 32}\n",
      "R² = 0.0797 {'min_samples_leaf': 64}\n",
      "R² = 0.0497 {'min_samples_leaf': 128}\n",
      "R² = 0.0236 {'min_samples_leaf': 256}\n",
      "R² = -0.0043 {'min_samples_leaf': 512}\n",
      "R² = -0.00455 {'min_samples_leaf': 1024}\n",
      "R² = -0.0394 {'max_features': 32}\n",
      "R² = 0.115 {'max_features': 64}\n",
      "R² = -0.0129 {'max_features': 128}\n",
      "R² = 0.0323 {'max_features': 239}\n"
     ]
    }
   ],
   "source": [
    "cvres = grid_search.cv_results_\n",
    "for mean_score, params in zip(cvres[\"mean_test_score\"], cvres[\"params\"]):\n",
    "    print(\"R² =\", arrondi(mean_score), params)"
   ]
  },
  {
   "cell_type": "markdown",
   "metadata": {
    "ExecuteTime": {
     "end_time": "2021-06-29T13:22:18.214307Z",
     "start_time": "2021-06-29T13:22:18.183107Z"
    }
   },
   "source": [
    "Le meilleur R² issu du GridSearch est médiocre."
   ]
  },
  {
   "cell_type": "markdown",
   "metadata": {},
   "source": [
    "##### GridSearchCV à plusieurs dimensions :"
   ]
  },
  {
   "cell_type": "code",
   "execution_count": 89,
   "metadata": {
    "ExecuteTime": {
     "end_time": "2021-07-16T15:35:20.202383Z",
     "start_time": "2021-07-16T15:35:20.199383Z"
    }
   },
   "outputs": [],
   "source": [
    "param_grid = [{'max_depth': [4, 8, 16, 32, 64], 'min_samples_leaf': [1, 2, 4, 8], 'max_features': [64, 128, 239]}]"
   ]
  },
  {
   "cell_type": "code",
   "execution_count": 90,
   "metadata": {
    "ExecuteTime": {
     "end_time": "2021-07-16T15:35:23.428352Z",
     "start_time": "2021-07-16T15:35:20.203383Z"
    }
   },
   "outputs": [
    {
     "data": {
      "text/html": [
       "<style>div.sk-top-container {color: black;background-color: white;}div.sk-toggleable {background-color: white;}label.sk-toggleable__label {cursor: pointer;display: block;width: 100%;margin-bottom: 0;padding: 0.2em 0.3em;box-sizing: border-box;text-align: center;}div.sk-toggleable__content {max-height: 0;max-width: 0;overflow: hidden;text-align: left;background-color: #f0f8ff;}div.sk-toggleable__content pre {margin: 0.2em;color: black;border-radius: 0.25em;background-color: #f0f8ff;}input.sk-toggleable__control:checked~div.sk-toggleable__content {max-height: 200px;max-width: 100%;overflow: auto;}div.sk-estimator input.sk-toggleable__control:checked~label.sk-toggleable__label {background-color: #d4ebff;}div.sk-label input.sk-toggleable__control:checked~label.sk-toggleable__label {background-color: #d4ebff;}input.sk-hidden--visually {border: 0;clip: rect(1px 1px 1px 1px);clip: rect(1px, 1px, 1px, 1px);height: 1px;margin: -1px;overflow: hidden;padding: 0;position: absolute;width: 1px;}div.sk-estimator {font-family: monospace;background-color: #f0f8ff;margin: 0.25em 0.25em;border: 1px dotted black;border-radius: 0.25em;box-sizing: border-box;}div.sk-estimator:hover {background-color: #d4ebff;}div.sk-parallel-item::after {content: \"\";width: 100%;border-bottom: 1px solid gray;flex-grow: 1;}div.sk-label:hover label.sk-toggleable__label {background-color: #d4ebff;}div.sk-serial::before {content: \"\";position: absolute;border-left: 1px solid gray;box-sizing: border-box;top: 2em;bottom: 0;left: 50%;}div.sk-serial {display: flex;flex-direction: column;align-items: center;background-color: white;}div.sk-item {z-index: 1;}div.sk-parallel {display: flex;align-items: stretch;justify-content: center;background-color: white;}div.sk-parallel-item {display: flex;flex-direction: column;position: relative;background-color: white;}div.sk-parallel-item:first-child::after {align-self: flex-end;width: 50%;}div.sk-parallel-item:last-child::after {align-self: flex-start;width: 50%;}div.sk-parallel-item:only-child::after {width: 0;}div.sk-dashed-wrapped {border: 1px dashed gray;margin: 0.2em;box-sizing: border-box;padding-bottom: 0.1em;background-color: white;position: relative;}div.sk-label label {font-family: monospace;font-weight: bold;background-color: white;display: inline-block;line-height: 1.2em;}div.sk-label-container {position: relative;z-index: 2;text-align: center;}div.sk-container {display: inline-block;position: relative;}</style><div class=\"sk-top-container\"><div class=\"sk-container\"><div class=\"sk-item sk-dashed-wrapped\"><div class=\"sk-label-container\"><div class=\"sk-label sk-toggleable\"><input class=\"sk-toggleable__control sk-hidden--visually\" id=\"4688ebeb-f2a9-48cc-a6b7-6667b53e28d6\" type=\"checkbox\" ><label class=\"sk-toggleable__label\" for=\"4688ebeb-f2a9-48cc-a6b7-6667b53e28d6\">GridSearchCV</label><div class=\"sk-toggleable__content\"><pre>GridSearchCV(cv=5, estimator=DecisionTreeRegressor(random_state=0), n_jobs=7,\n",
       "             param_grid=[{'max_depth': [4, 8, 16, 32, 64],\n",
       "                          'max_features': [64, 128, 239],\n",
       "                          'min_samples_leaf': [1, 2, 4, 8]}],\n",
       "             return_train_score=True, scoring='r2')</pre></div></div></div><div class=\"sk-parallel\"><div class=\"sk-parallel-item\"><div class=\"sk-item\"><div class=\"sk-serial\"><div class=\"sk-item\"><div class=\"sk-estimator sk-toggleable\"><input class=\"sk-toggleable__control sk-hidden--visually\" id=\"fae98ee7-6a87-4b1b-aca2-bb18c45f5aff\" type=\"checkbox\" ><label class=\"sk-toggleable__label\" for=\"fae98ee7-6a87-4b1b-aca2-bb18c45f5aff\">DecisionTreeRegressor</label><div class=\"sk-toggleable__content\"><pre>DecisionTreeRegressor(random_state=0)</pre></div></div></div></div></div></div></div></div></div></div>"
      ],
      "text/plain": [
       "GridSearchCV(cv=5, estimator=DecisionTreeRegressor(random_state=0), n_jobs=7,\n",
       "             param_grid=[{'max_depth': [4, 8, 16, 32, 64],\n",
       "                          'max_features': [64, 128, 239],\n",
       "                          'min_samples_leaf': [1, 2, 4, 8]}],\n",
       "             return_train_score=True, scoring='r2')"
      ]
     },
     "execution_count": 90,
     "metadata": {},
     "output_type": "execute_result"
    }
   ],
   "source": [
    "grid_search = GridSearchCV(tree_reg, param_grid, cv=5,\n",
    "                           scoring='r2', return_train_score=True, n_jobs=7)\n",
    "grid_search.fit(X_train_EUI_prepared, y_train_EUI.iloc[:,0])"
   ]
  },
  {
   "cell_type": "code",
   "execution_count": 91,
   "metadata": {
    "ExecuteTime": {
     "end_time": "2021-07-16T15:35:23.432352Z",
     "start_time": "2021-07-16T15:35:23.429352Z"
    }
   },
   "outputs": [
    {
     "data": {
      "text/plain": [
       "{'max_depth': 4, 'max_features': 128, 'min_samples_leaf': 2}"
      ]
     },
     "execution_count": 91,
     "metadata": {},
     "output_type": "execute_result"
    }
   ],
   "source": [
    "grid_search.best_params_"
   ]
  },
  {
   "cell_type": "code",
   "execution_count": 92,
   "metadata": {
    "ExecuteTime": {
     "end_time": "2021-07-16T15:35:23.442353Z",
     "start_time": "2021-07-16T15:35:23.433353Z"
    },
    "code_folding": [],
    "scrolled": true
   },
   "outputs": [
    {
     "name": "stdout",
     "output_type": "stream",
     "text": [
      "R² =    0.288 {'max_depth': 4, 'max_features': 128, 'min_samples_leaf': 2}\n",
      "R² =    0.287 {'max_depth': 8, 'max_features': 64, 'min_samples_leaf': 2}\n",
      "R² =    0.287 {'max_depth': 8, 'max_features': 239, 'min_samples_leaf': 1}\n",
      "R² =    0.281 {'max_depth': 4, 'max_features': 128, 'min_samples_leaf': 1}\n",
      "R² =    0.277 {'max_depth': 4, 'max_features': 239, 'min_samples_leaf': 1}\n",
      "R² =    0.273 {'max_depth': 8, 'max_features': 239, 'min_samples_leaf': 2}\n",
      "R² =    0.272 {'max_depth': 4, 'max_features': 239, 'min_samples_leaf': 2}\n",
      "R² =     0.27 {'max_depth': 16, 'max_features': 64, 'min_samples_leaf': 2}\n",
      "R² =    0.251 {'max_depth': 8, 'max_features': 64, 'min_samples_leaf': 4}\n",
      "R² =     0.25 {'max_depth': 8, 'max_features': 128, 'min_samples_leaf': 2}\n",
      "R² =    0.239 {'max_depth': 8, 'max_features': 128, 'min_samples_leaf': 8}\n",
      "R² =    0.234 {'max_depth': 16, 'max_features': 239, 'min_samples_leaf': 1}\n",
      "R² =    0.227 {'max_depth': 4, 'max_features': 239, 'min_samples_leaf': 8}\n",
      "R² =    0.225 {'max_depth': 32, 'max_features': 64, 'min_samples_leaf': 2}\n",
      "R² =    0.224 {'max_depth': 64, 'max_features': 64, 'min_samples_leaf': 2}\n",
      "R² =    0.222 {'max_depth': 16, 'max_features': 128, 'min_samples_leaf': 8}\n",
      "R² =    0.218 {'max_depth': 16, 'max_features': 128, 'min_samples_leaf': 2}\n",
      "R² =    0.209 {'max_depth': 8, 'max_features': 239, 'min_samples_leaf': 4}\n",
      "R² =    0.204 {'max_depth': 16, 'max_features': 239, 'min_samples_leaf': 8}\n",
      "R² =    0.204 {'max_depth': 8, 'max_features': 128, 'min_samples_leaf': 4}\n",
      "R² =      0.2 {'max_depth': 8, 'max_features': 128, 'min_samples_leaf': 1}\n",
      "R² =    0.199 {'max_depth': 64, 'max_features': 239, 'min_samples_leaf': 8}\n",
      "R² =    0.199 {'max_depth': 32, 'max_features': 239, 'min_samples_leaf': 8}\n",
      "R² =    0.197 {'max_depth': 8, 'max_features': 239, 'min_samples_leaf': 8}\n",
      "R² =    0.196 {'max_depth': 64, 'max_features': 128, 'min_samples_leaf': 8}\n",
      "R² =    0.196 {'max_depth': 32, 'max_features': 128, 'min_samples_leaf': 8}\n",
      "R² =    0.194 {'max_depth': 8, 'max_features': 64, 'min_samples_leaf': 8}\n",
      "R² =    0.193 {'max_depth': 16, 'max_features': 64, 'min_samples_leaf': 8}\n",
      "R² =    0.192 {'max_depth': 16, 'max_features': 64, 'min_samples_leaf': 4}\n",
      "R² =     0.19 {'max_depth': 8, 'max_features': 64, 'min_samples_leaf': 1}\n",
      "R² =    0.189 {'max_depth': 16, 'max_features': 128, 'min_samples_leaf': 4}\n",
      "R² =    0.187 {'max_depth': 4, 'max_features': 64, 'min_samples_leaf': 2}\n",
      "R² =    0.182 {'max_depth': 16, 'max_features': 239, 'min_samples_leaf': 2}\n",
      "R² =    0.181 {'max_depth': 32, 'max_features': 128, 'min_samples_leaf': 2}\n",
      "R² =    0.181 {'max_depth': 4, 'max_features': 239, 'min_samples_leaf': 4}\n",
      "R² =    0.179 {'max_depth': 4, 'max_features': 64, 'min_samples_leaf': 4}\n",
      "R² =    0.179 {'max_depth': 64, 'max_features': 128, 'min_samples_leaf': 4}\n",
      "R² =    0.176 {'max_depth': 16, 'max_features': 239, 'min_samples_leaf': 4}\n",
      "R² =    0.166 {'max_depth': 64, 'max_features': 64, 'min_samples_leaf': 8}\n",
      "R² =    0.166 {'max_depth': 32, 'max_features': 64, 'min_samples_leaf': 8}\n",
      "R² =    0.162 {'max_depth': 4, 'max_features': 128, 'min_samples_leaf': 8}\n",
      "R² =    0.162 {'max_depth': 64, 'max_features': 64, 'min_samples_leaf': 4}\n",
      "R² =    0.162 {'max_depth': 32, 'max_features': 64, 'min_samples_leaf': 4}\n",
      "R² =    0.157 {'max_depth': 4, 'max_features': 64, 'min_samples_leaf': 8}\n",
      "R² =    0.157 {'max_depth': 32, 'max_features': 239, 'min_samples_leaf': 2}\n",
      "R² =     0.15 {'max_depth': 4, 'max_features': 128, 'min_samples_leaf': 4}\n",
      "R² =    0.142 {'max_depth': 32, 'max_features': 239, 'min_samples_leaf': 4}\n",
      "R² =    0.139 {'max_depth': 32, 'max_features': 128, 'min_samples_leaf': 4}\n",
      "R² =    0.137 {'max_depth': 16, 'max_features': 128, 'min_samples_leaf': 1}\n",
      "R² =    0.136 {'max_depth': 64, 'max_features': 239, 'min_samples_leaf': 4}\n",
      "R² =    0.127 {'max_depth': 64, 'max_features': 239, 'min_samples_leaf': 2}\n",
      "R² =    0.115 {'max_depth': 64, 'max_features': 64, 'min_samples_leaf': 1}\n",
      "R² =   0.0968 {'max_depth': 4, 'max_features': 64, 'min_samples_leaf': 1}\n",
      "R² =   0.0892 {'max_depth': 64, 'max_features': 128, 'min_samples_leaf': 2}\n",
      "R² =   0.0835 {'max_depth': 32, 'max_features': 128, 'min_samples_leaf': 1}\n",
      "R² =   0.0352 {'max_depth': 64, 'max_features': 239, 'min_samples_leaf': 1}\n",
      "R² =  -0.0142 {'max_depth': 32, 'max_features': 239, 'min_samples_leaf': 1}\n",
      "R² =  -0.0186 {'max_depth': 64, 'max_features': 128, 'min_samples_leaf': 1}\n",
      "R² =  -0.0254 {'max_depth': 32, 'max_features': 64, 'min_samples_leaf': 1}\n",
      "R² =   -0.028 {'max_depth': 16, 'max_features': 64, 'min_samples_leaf': 1}\n"
     ]
    }
   ],
   "source": [
    "affichage_tri_r2(grid_search.cv_results_)"
   ]
  },
  {
   "cell_type": "code",
   "execution_count": 93,
   "metadata": {
    "ExecuteTime": {
     "end_time": "2021-07-16T15:35:23.448353Z",
     "start_time": "2021-07-16T15:35:23.443353Z"
    },
    "code_folding": []
   },
   "outputs": [
    {
     "name": "stdout",
     "output_type": "stream",
     "text": [
      "R² = 0.07073282296818817\n"
     ]
    }
   ],
   "source": [
    "# Généralisation sur le test set\n",
    "EUI_predictions = grid_search.predict(X_test_EUI_prepared)\n",
    "print(\"R² =\", r2_score(y_test_EUI, EUI_predictions))"
   ]
  },
  {
   "cell_type": "markdown",
   "metadata": {},
   "source": [
    "La généralisation fait à peine mieux qu'un DummyRegressor."
   ]
  },
  {
   "cell_type": "markdown",
   "metadata": {},
   "source": [
    "## Forêts aléatoires"
   ]
  },
  {
   "cell_type": "code",
   "execution_count": 94,
   "metadata": {
    "ExecuteTime": {
     "end_time": "2021-07-16T15:35:26.218432Z",
     "start_time": "2021-07-16T15:35:23.449353Z"
    }
   },
   "outputs": [
    {
     "data": {
      "text/html": [
       "<style>div.sk-top-container {color: black;background-color: white;}div.sk-toggleable {background-color: white;}label.sk-toggleable__label {cursor: pointer;display: block;width: 100%;margin-bottom: 0;padding: 0.2em 0.3em;box-sizing: border-box;text-align: center;}div.sk-toggleable__content {max-height: 0;max-width: 0;overflow: hidden;text-align: left;background-color: #f0f8ff;}div.sk-toggleable__content pre {margin: 0.2em;color: black;border-radius: 0.25em;background-color: #f0f8ff;}input.sk-toggleable__control:checked~div.sk-toggleable__content {max-height: 200px;max-width: 100%;overflow: auto;}div.sk-estimator input.sk-toggleable__control:checked~label.sk-toggleable__label {background-color: #d4ebff;}div.sk-label input.sk-toggleable__control:checked~label.sk-toggleable__label {background-color: #d4ebff;}input.sk-hidden--visually {border: 0;clip: rect(1px 1px 1px 1px);clip: rect(1px, 1px, 1px, 1px);height: 1px;margin: -1px;overflow: hidden;padding: 0;position: absolute;width: 1px;}div.sk-estimator {font-family: monospace;background-color: #f0f8ff;margin: 0.25em 0.25em;border: 1px dotted black;border-radius: 0.25em;box-sizing: border-box;}div.sk-estimator:hover {background-color: #d4ebff;}div.sk-parallel-item::after {content: \"\";width: 100%;border-bottom: 1px solid gray;flex-grow: 1;}div.sk-label:hover label.sk-toggleable__label {background-color: #d4ebff;}div.sk-serial::before {content: \"\";position: absolute;border-left: 1px solid gray;box-sizing: border-box;top: 2em;bottom: 0;left: 50%;}div.sk-serial {display: flex;flex-direction: column;align-items: center;background-color: white;}div.sk-item {z-index: 1;}div.sk-parallel {display: flex;align-items: stretch;justify-content: center;background-color: white;}div.sk-parallel-item {display: flex;flex-direction: column;position: relative;background-color: white;}div.sk-parallel-item:first-child::after {align-self: flex-end;width: 50%;}div.sk-parallel-item:last-child::after {align-self: flex-start;width: 50%;}div.sk-parallel-item:only-child::after {width: 0;}div.sk-dashed-wrapped {border: 1px dashed gray;margin: 0.2em;box-sizing: border-box;padding-bottom: 0.1em;background-color: white;position: relative;}div.sk-label label {font-family: monospace;font-weight: bold;background-color: white;display: inline-block;line-height: 1.2em;}div.sk-label-container {position: relative;z-index: 2;text-align: center;}div.sk-container {display: inline-block;position: relative;}</style><div class=\"sk-top-container\"><div class=\"sk-container\"><div class=\"sk-item\"><div class=\"sk-estimator sk-toggleable\"><input class=\"sk-toggleable__control sk-hidden--visually\" id=\"5bfe5854-2065-4ef7-9ee3-00ee49fc8e18\" type=\"checkbox\" checked><label class=\"sk-toggleable__label\" for=\"5bfe5854-2065-4ef7-9ee3-00ee49fc8e18\">RandomForestRegressor</label><div class=\"sk-toggleable__content\"><pre>RandomForestRegressor(random_state=0)</pre></div></div></div></div></div>"
      ],
      "text/plain": [
       "RandomForestRegressor(random_state=0)"
      ]
     },
     "execution_count": 94,
     "metadata": {},
     "output_type": "execute_result"
    }
   ],
   "source": [
    "forest_reg = RandomForestRegressor(n_estimators=100, random_state=0)\n",
    "forest_reg.fit(X_train_EUI_prepared, y_train_EUI.iloc[:,0])"
   ]
  },
  {
   "cell_type": "code",
   "execution_count": 95,
   "metadata": {
    "ExecuteTime": {
     "end_time": "2021-07-16T15:35:36.490416Z",
     "start_time": "2021-07-16T15:35:26.219432Z"
    }
   },
   "outputs": [
    {
     "name": "stdout",
     "output_type": "stream",
     "text": [
      "Scores: 55.4 62.3 47.5 51.0 55.8 \n",
      "Mean: 54.4\n",
      "Standard deviation: 5.58\n"
     ]
    }
   ],
   "source": [
    "forest_scores = cross_val_score(forest_reg, X_train_EUI_prepared, y_train_EUI.iloc[:,0],\n",
    "                                scoring=\"neg_root_mean_squared_error\", cv=5)\n",
    "display_scores(-forest_scores)"
   ]
  },
  {
   "cell_type": "code",
   "execution_count": 96,
   "metadata": {
    "ExecuteTime": {
     "end_time": "2021-07-16T15:35:46.204103Z",
     "start_time": "2021-07-16T15:35:36.491416Z"
    },
    "scrolled": false
   },
   "outputs": [
    {
     "name": "stdout",
     "output_type": "stream",
     "text": [
      "Scores: 0.473 0.544 0.534 0.34 0.39 \n",
      "Mean: 0.456\n",
      "Standard deviation: 0.0893\n"
     ]
    }
   ],
   "source": [
    "forest_scores = cross_val_score(forest_reg, X_train_EUI_prepared, y_train_EUI.iloc[:,0],\n",
    "                                scoring=\"r2\", cv=5)\n",
    "display_scores(forest_scores)"
   ]
  },
  {
   "cell_type": "markdown",
   "metadata": {
    "ExecuteTime": {
     "end_time": "2021-06-28T16:45:43.412220Z",
     "start_time": "2021-06-28T16:45:43.391233Z"
    }
   },
   "source": [
    "C'est encourageant."
   ]
  },
  {
   "cell_type": "markdown",
   "metadata": {},
   "source": [
    "### Régularisation"
   ]
  },
  {
   "cell_type": "markdown",
   "metadata": {},
   "source": [
    "##### GridSearchCV à une dimension :"
   ]
  },
  {
   "cell_type": "code",
   "execution_count": 97,
   "metadata": {
    "ExecuteTime": {
     "end_time": "2021-07-16T15:36:06.135073Z",
     "start_time": "2021-07-16T15:35:46.205103Z"
    },
    "scrolled": true
   },
   "outputs": [
    {
     "data": {
      "text/html": [
       "<style>div.sk-top-container {color: black;background-color: white;}div.sk-toggleable {background-color: white;}label.sk-toggleable__label {cursor: pointer;display: block;width: 100%;margin-bottom: 0;padding: 0.2em 0.3em;box-sizing: border-box;text-align: center;}div.sk-toggleable__content {max-height: 0;max-width: 0;overflow: hidden;text-align: left;background-color: #f0f8ff;}div.sk-toggleable__content pre {margin: 0.2em;color: black;border-radius: 0.25em;background-color: #f0f8ff;}input.sk-toggleable__control:checked~div.sk-toggleable__content {max-height: 200px;max-width: 100%;overflow: auto;}div.sk-estimator input.sk-toggleable__control:checked~label.sk-toggleable__label {background-color: #d4ebff;}div.sk-label input.sk-toggleable__control:checked~label.sk-toggleable__label {background-color: #d4ebff;}input.sk-hidden--visually {border: 0;clip: rect(1px 1px 1px 1px);clip: rect(1px, 1px, 1px, 1px);height: 1px;margin: -1px;overflow: hidden;padding: 0;position: absolute;width: 1px;}div.sk-estimator {font-family: monospace;background-color: #f0f8ff;margin: 0.25em 0.25em;border: 1px dotted black;border-radius: 0.25em;box-sizing: border-box;}div.sk-estimator:hover {background-color: #d4ebff;}div.sk-parallel-item::after {content: \"\";width: 100%;border-bottom: 1px solid gray;flex-grow: 1;}div.sk-label:hover label.sk-toggleable__label {background-color: #d4ebff;}div.sk-serial::before {content: \"\";position: absolute;border-left: 1px solid gray;box-sizing: border-box;top: 2em;bottom: 0;left: 50%;}div.sk-serial {display: flex;flex-direction: column;align-items: center;background-color: white;}div.sk-item {z-index: 1;}div.sk-parallel {display: flex;align-items: stretch;justify-content: center;background-color: white;}div.sk-parallel-item {display: flex;flex-direction: column;position: relative;background-color: white;}div.sk-parallel-item:first-child::after {align-self: flex-end;width: 50%;}div.sk-parallel-item:last-child::after {align-self: flex-start;width: 50%;}div.sk-parallel-item:only-child::after {width: 0;}div.sk-dashed-wrapped {border: 1px dashed gray;margin: 0.2em;box-sizing: border-box;padding-bottom: 0.1em;background-color: white;position: relative;}div.sk-label label {font-family: monospace;font-weight: bold;background-color: white;display: inline-block;line-height: 1.2em;}div.sk-label-container {position: relative;z-index: 2;text-align: center;}div.sk-container {display: inline-block;position: relative;}</style><div class=\"sk-top-container\"><div class=\"sk-container\"><div class=\"sk-item sk-dashed-wrapped\"><div class=\"sk-label-container\"><div class=\"sk-label sk-toggleable\"><input class=\"sk-toggleable__control sk-hidden--visually\" id=\"0d929d79-2c4e-4948-9814-452ed1744d7c\" type=\"checkbox\" ><label class=\"sk-toggleable__label\" for=\"0d929d79-2c4e-4948-9814-452ed1744d7c\">GridSearchCV</label><div class=\"sk-toggleable__content\"><pre>GridSearchCV(cv=5, estimator=RandomForestRegressor(random_state=0), n_jobs=-1,\n",
       "             param_grid=[{'max_depth': [2, 4, 8, 16, 32, 64]},\n",
       "                         {'min_samples_leaf': [1, 2, 4, 8, 16, 32, 64, 128]},\n",
       "                         {'max_features': [8, 16, 32, 64, 128, 239]}],\n",
       "             return_train_score=True, scoring='r2')</pre></div></div></div><div class=\"sk-parallel\"><div class=\"sk-parallel-item\"><div class=\"sk-item\"><div class=\"sk-serial\"><div class=\"sk-item\"><div class=\"sk-estimator sk-toggleable\"><input class=\"sk-toggleable__control sk-hidden--visually\" id=\"34d8cb27-445c-40e6-ae1d-339b53ec6e3a\" type=\"checkbox\" ><label class=\"sk-toggleable__label\" for=\"34d8cb27-445c-40e6-ae1d-339b53ec6e3a\">RandomForestRegressor</label><div class=\"sk-toggleable__content\"><pre>RandomForestRegressor(random_state=0)</pre></div></div></div></div></div></div></div></div></div></div>"
      ],
      "text/plain": [
       "GridSearchCV(cv=5, estimator=RandomForestRegressor(random_state=0), n_jobs=-1,\n",
       "             param_grid=[{'max_depth': [2, 4, 8, 16, 32, 64]},\n",
       "                         {'min_samples_leaf': [1, 2, 4, 8, 16, 32, 64, 128]},\n",
       "                         {'max_features': [8, 16, 32, 64, 128, 239]}],\n",
       "             return_train_score=True, scoring='r2')"
      ]
     },
     "execution_count": 97,
     "metadata": {},
     "output_type": "execute_result"
    }
   ],
   "source": [
    "param_grid = [{'max_depth': [2, 4, 8, 16, 32, 64]}, {'min_samples_leaf': [2**x for x in range(8)]}, {'max_features': [8, 16, 32, 64, 128, 239]}]\n",
    "grid_search = GridSearchCV(forest_reg, param_grid, cv=5,\n",
    "                           scoring='r2', return_train_score=True, n_jobs=-1)\n",
    "grid_search.fit(X_train_EUI_prepared, y_train_EUI.iloc[:,0])"
   ]
  },
  {
   "cell_type": "code",
   "execution_count": 98,
   "metadata": {
    "ExecuteTime": {
     "end_time": "2021-07-16T15:36:06.150673Z",
     "start_time": "2021-07-16T15:36:06.135073Z"
    },
    "scrolled": false
   },
   "outputs": [
    {
     "data": {
      "text/plain": [
       "{'max_features': 128}"
      ]
     },
     "execution_count": 98,
     "metadata": {},
     "output_type": "execute_result"
    }
   ],
   "source": [
    "grid_search.best_params_"
   ]
  },
  {
   "cell_type": "code",
   "execution_count": 99,
   "metadata": {
    "ExecuteTime": {
     "end_time": "2021-07-16T15:36:06.155674Z",
     "start_time": "2021-07-16T15:36:06.151673Z"
    }
   },
   "outputs": [
    {
     "data": {
      "text/plain": [
       "0.4625099787785931"
      ]
     },
     "execution_count": 99,
     "metadata": {},
     "output_type": "execute_result"
    }
   ],
   "source": [
    "grid_search.best_score_"
   ]
  },
  {
   "cell_type": "code",
   "execution_count": 100,
   "metadata": {
    "ExecuteTime": {
     "end_time": "2021-07-16T15:36:06.166674Z",
     "start_time": "2021-07-16T15:36:06.157674Z"
    },
    "scrolled": false
   },
   "outputs": [
    {
     "name": "stdout",
     "output_type": "stream",
     "text": [
      "R² = 0.281 {'max_depth': 2}\n",
      "R² = 0.335 {'max_depth': 4}\n",
      "R² = 0.393 {'max_depth': 8}\n",
      "R² = 0.442 {'max_depth': 16}\n",
      "R² = 0.452 {'max_depth': 32}\n",
      "R² = 0.457 {'max_depth': 64}\n",
      "R² = 0.456 {'min_samples_leaf': 1}\n",
      "R² = 0.417 {'min_samples_leaf': 2}\n",
      "R² = 0.365 {'min_samples_leaf': 4}\n",
      "R² = 0.284 {'min_samples_leaf': 8}\n",
      "R² = 0.267 {'min_samples_leaf': 16}\n",
      "R² = 0.133 {'min_samples_leaf': 32}\n",
      "R² = 0.105 {'min_samples_leaf': 64}\n",
      "R² = 0.0409 {'min_samples_leaf': 128}\n",
      "R² = 0.401 {'max_features': 8}\n",
      "R² = 0.417 {'max_features': 16}\n",
      "R² = 0.453 {'max_features': 32}\n",
      "R² = 0.461 {'max_features': 64}\n",
      "R² = 0.463 {'max_features': 128}\n",
      "R² = 0.456 {'max_features': 239}\n"
     ]
    }
   ],
   "source": [
    "cvres = grid_search.cv_results_\n",
    "for mean_score, params in zip(cvres[\"mean_test_score\"], cvres[\"params\"]):\n",
    "    print(\"R² =\", arrondi(mean_score), params)"
   ]
  },
  {
   "cell_type": "markdown",
   "metadata": {
    "ExecuteTime": {
     "end_time": "2021-07-01T16:26:34.706833Z",
     "start_time": "2021-07-01T16:26:34.701833Z"
    }
   },
   "source": [
    "Pour les mêmes jeux de paramètres param_grid, RandomForestRegressor est plus performant que DecisionTreeRegressor."
   ]
  },
  {
   "cell_type": "markdown",
   "metadata": {},
   "source": [
    "##### GridSearchCV à plusieurs dimensions :"
   ]
  },
  {
   "cell_type": "code",
   "execution_count": 101,
   "metadata": {
    "ExecuteTime": {
     "end_time": "2021-07-16T15:36:27.708198Z",
     "start_time": "2021-07-16T15:36:06.167674Z"
    },
    "scrolled": true
   },
   "outputs": [
    {
     "data": {
      "text/html": [
       "<style>div.sk-top-container {color: black;background-color: white;}div.sk-toggleable {background-color: white;}label.sk-toggleable__label {cursor: pointer;display: block;width: 100%;margin-bottom: 0;padding: 0.2em 0.3em;box-sizing: border-box;text-align: center;}div.sk-toggleable__content {max-height: 0;max-width: 0;overflow: hidden;text-align: left;background-color: #f0f8ff;}div.sk-toggleable__content pre {margin: 0.2em;color: black;border-radius: 0.25em;background-color: #f0f8ff;}input.sk-toggleable__control:checked~div.sk-toggleable__content {max-height: 200px;max-width: 100%;overflow: auto;}div.sk-estimator input.sk-toggleable__control:checked~label.sk-toggleable__label {background-color: #d4ebff;}div.sk-label input.sk-toggleable__control:checked~label.sk-toggleable__label {background-color: #d4ebff;}input.sk-hidden--visually {border: 0;clip: rect(1px 1px 1px 1px);clip: rect(1px, 1px, 1px, 1px);height: 1px;margin: -1px;overflow: hidden;padding: 0;position: absolute;width: 1px;}div.sk-estimator {font-family: monospace;background-color: #f0f8ff;margin: 0.25em 0.25em;border: 1px dotted black;border-radius: 0.25em;box-sizing: border-box;}div.sk-estimator:hover {background-color: #d4ebff;}div.sk-parallel-item::after {content: \"\";width: 100%;border-bottom: 1px solid gray;flex-grow: 1;}div.sk-label:hover label.sk-toggleable__label {background-color: #d4ebff;}div.sk-serial::before {content: \"\";position: absolute;border-left: 1px solid gray;box-sizing: border-box;top: 2em;bottom: 0;left: 50%;}div.sk-serial {display: flex;flex-direction: column;align-items: center;background-color: white;}div.sk-item {z-index: 1;}div.sk-parallel {display: flex;align-items: stretch;justify-content: center;background-color: white;}div.sk-parallel-item {display: flex;flex-direction: column;position: relative;background-color: white;}div.sk-parallel-item:first-child::after {align-self: flex-end;width: 50%;}div.sk-parallel-item:last-child::after {align-self: flex-start;width: 50%;}div.sk-parallel-item:only-child::after {width: 0;}div.sk-dashed-wrapped {border: 1px dashed gray;margin: 0.2em;box-sizing: border-box;padding-bottom: 0.1em;background-color: white;position: relative;}div.sk-label label {font-family: monospace;font-weight: bold;background-color: white;display: inline-block;line-height: 1.2em;}div.sk-label-container {position: relative;z-index: 2;text-align: center;}div.sk-container {display: inline-block;position: relative;}</style><div class=\"sk-top-container\"><div class=\"sk-container\"><div class=\"sk-item sk-dashed-wrapped\"><div class=\"sk-label-container\"><div class=\"sk-label sk-toggleable\"><input class=\"sk-toggleable__control sk-hidden--visually\" id=\"9db86b52-664b-4b0d-8bbe-0cf24d437c67\" type=\"checkbox\" ><label class=\"sk-toggleable__label\" for=\"9db86b52-664b-4b0d-8bbe-0cf24d437c67\">GridSearchCV</label><div class=\"sk-toggleable__content\"><pre>GridSearchCV(cv=5, estimator=RandomForestRegressor(random_state=0), n_jobs=-1,\n",
       "             param_grid=[{'max_depth': [16, 32, 64],\n",
       "                          'max_features': [8, 16, 32, 64, 128],\n",
       "                          'min_samples_leaf': [1, 2, 3]}],\n",
       "             return_train_score=True, scoring='r2')</pre></div></div></div><div class=\"sk-parallel\"><div class=\"sk-parallel-item\"><div class=\"sk-item\"><div class=\"sk-serial\"><div class=\"sk-item\"><div class=\"sk-estimator sk-toggleable\"><input class=\"sk-toggleable__control sk-hidden--visually\" id=\"51792c86-4f94-4d54-8700-8e8436050a99\" type=\"checkbox\" ><label class=\"sk-toggleable__label\" for=\"51792c86-4f94-4d54-8700-8e8436050a99\">RandomForestRegressor</label><div class=\"sk-toggleable__content\"><pre>RandomForestRegressor(random_state=0)</pre></div></div></div></div></div></div></div></div></div></div>"
      ],
      "text/plain": [
       "GridSearchCV(cv=5, estimator=RandomForestRegressor(random_state=0), n_jobs=-1,\n",
       "             param_grid=[{'max_depth': [16, 32, 64],\n",
       "                          'max_features': [8, 16, 32, 64, 128],\n",
       "                          'min_samples_leaf': [1, 2, 3]}],\n",
       "             return_train_score=True, scoring='r2')"
      ]
     },
     "execution_count": 101,
     "metadata": {},
     "output_type": "execute_result"
    }
   ],
   "source": [
    "param_grid = [{'max_depth': [16, 32, 64], 'min_samples_leaf': [1, 2, 3], 'max_features': [8, 16, 32, 64, 128]}]\n",
    "grid_search = GridSearchCV(forest_reg, param_grid, cv=5,\n",
    "                           scoring='r2', return_train_score=True, n_jobs=-1)\n",
    "grid_search.fit(X_train_EUI_prepared, y_train_EUI.iloc[:,0])"
   ]
  },
  {
   "cell_type": "code",
   "execution_count": 102,
   "metadata": {
    "ExecuteTime": {
     "end_time": "2021-07-16T15:36:27.723798Z",
     "start_time": "2021-07-16T15:36:27.708198Z"
    },
    "scrolled": true
   },
   "outputs": [
    {
     "data": {
      "text/plain": [
       "{'max_depth': 32, 'max_features': 64, 'min_samples_leaf': 1}"
      ]
     },
     "execution_count": 102,
     "metadata": {},
     "output_type": "execute_result"
    }
   ],
   "source": [
    "grid_search.best_params_"
   ]
  },
  {
   "cell_type": "code",
   "execution_count": 103,
   "metadata": {
    "ExecuteTime": {
     "end_time": "2021-07-16T15:36:27.730798Z",
     "start_time": "2021-07-16T15:36:27.724798Z"
    }
   },
   "outputs": [
    {
     "name": "stdout",
     "output_type": "stream",
     "text": [
      "R² =    0.467 {'max_depth': 32, 'max_features': 64, 'min_samples_leaf': 1}\n",
      "R² =    0.467 {'max_depth': 32, 'max_features': 128, 'min_samples_leaf': 1}\n",
      "R² =    0.463 {'max_depth': 64, 'max_features': 128, 'min_samples_leaf': 1}\n",
      "R² =    0.462 {'max_depth': 32, 'max_features': 32, 'min_samples_leaf': 1}\n",
      "R² =    0.461 {'max_depth': 64, 'max_features': 64, 'min_samples_leaf': 1}\n",
      "R² =    0.457 {'max_depth': 16, 'max_features': 128, 'min_samples_leaf': 1}\n",
      "R² =    0.454 {'max_depth': 64, 'max_features': 32, 'min_samples_leaf': 1}\n",
      "R² =    0.452 {'max_depth': 16, 'max_features': 64, 'min_samples_leaf': 1}\n",
      "R² =    0.444 {'max_depth': 16, 'max_features': 32, 'min_samples_leaf': 1}\n",
      "R² =    0.433 {'max_depth': 64, 'max_features': 128, 'min_samples_leaf': 2}\n",
      "R² =     0.43 {'max_depth': 32, 'max_features': 16, 'min_samples_leaf': 1}\n",
      "R² =     0.43 {'max_depth': 32, 'max_features': 64, 'min_samples_leaf': 2}\n",
      "R² =    0.429 {'max_depth': 64, 'max_features': 64, 'min_samples_leaf': 2}\n",
      "R² =    0.429 {'max_depth': 16, 'max_features': 128, 'min_samples_leaf': 2}\n",
      "R² =    0.427 {'max_depth': 32, 'max_features': 128, 'min_samples_leaf': 2}\n",
      "R² =    0.427 {'max_depth': 16, 'max_features': 64, 'min_samples_leaf': 2}\n",
      "R² =    0.421 {'max_depth': 32, 'max_features': 32, 'min_samples_leaf': 2}\n",
      "R² =    0.417 {'max_depth': 64, 'max_features': 16, 'min_samples_leaf': 1}\n",
      "R² =    0.417 {'max_depth': 64, 'max_features': 32, 'min_samples_leaf': 2}\n",
      "R² =    0.413 {'max_depth': 16, 'max_features': 16, 'min_samples_leaf': 1}\n",
      "R² =    0.406 {'max_depth': 16, 'max_features': 32, 'min_samples_leaf': 2}\n",
      "R² =    0.401 {'max_depth': 64, 'max_features': 8, 'min_samples_leaf': 1}\n",
      "R² =    0.386 {'max_depth': 32, 'max_features': 8, 'min_samples_leaf': 1}\n",
      "R² =    0.379 {'max_depth': 64, 'max_features': 128, 'min_samples_leaf': 3}\n",
      "R² =    0.378 {'max_depth': 32, 'max_features': 128, 'min_samples_leaf': 3}\n",
      "R² =    0.376 {'max_depth': 64, 'max_features': 64, 'min_samples_leaf': 3}\n",
      "R² =    0.376 {'max_depth': 32, 'max_features': 16, 'min_samples_leaf': 2}\n",
      "R² =    0.376 {'max_depth': 16, 'max_features': 128, 'min_samples_leaf': 3}\n",
      "R² =    0.375 {'max_depth': 64, 'max_features': 16, 'min_samples_leaf': 2}\n",
      "R² =    0.374 {'max_depth': 32, 'max_features': 64, 'min_samples_leaf': 3}\n",
      "R² =    0.373 {'max_depth': 16, 'max_features': 64, 'min_samples_leaf': 3}\n",
      "R² =    0.365 {'max_depth': 16, 'max_features': 16, 'min_samples_leaf': 2}\n",
      "R² =    0.359 {'max_depth': 32, 'max_features': 32, 'min_samples_leaf': 3}\n",
      "R² =    0.358 {'max_depth': 64, 'max_features': 32, 'min_samples_leaf': 3}\n",
      "R² =    0.358 {'max_depth': 16, 'max_features': 8, 'min_samples_leaf': 1}\n",
      "R² =    0.352 {'max_depth': 16, 'max_features': 32, 'min_samples_leaf': 3}\n",
      "R² =    0.322 {'max_depth': 64, 'max_features': 16, 'min_samples_leaf': 3}\n",
      "R² =    0.322 {'max_depth': 32, 'max_features': 16, 'min_samples_leaf': 3}\n",
      "R² =    0.318 {'max_depth': 16, 'max_features': 16, 'min_samples_leaf': 3}\n",
      "R² =    0.314 {'max_depth': 64, 'max_features': 8, 'min_samples_leaf': 2}\n",
      "R² =    0.312 {'max_depth': 32, 'max_features': 8, 'min_samples_leaf': 2}\n",
      "R² =    0.291 {'max_depth': 16, 'max_features': 8, 'min_samples_leaf': 2}\n",
      "R² =    0.254 {'max_depth': 32, 'max_features': 8, 'min_samples_leaf': 3}\n",
      "R² =    0.254 {'max_depth': 64, 'max_features': 8, 'min_samples_leaf': 3}\n",
      "R² =    0.244 {'max_depth': 16, 'max_features': 8, 'min_samples_leaf': 3}\n"
     ]
    }
   ],
   "source": [
    "affichage_tri_r2(grid_search.cv_results_)"
   ]
  },
  {
   "cell_type": "markdown",
   "metadata": {},
   "source": [
    "##### Généralisation sur le test set"
   ]
  },
  {
   "cell_type": "code",
   "execution_count": 104,
   "metadata": {
    "ExecuteTime": {
     "end_time": "2021-07-16T15:36:27.756800Z",
     "start_time": "2021-07-16T15:36:27.733798Z"
    },
    "scrolled": false
   },
   "outputs": [
    {
     "name": "stdout",
     "output_type": "stream",
     "text": [
      "R² = 0.331\n"
     ]
    }
   ],
   "source": [
    "EUI_predictions = grid_search.predict(X_test_EUI_prepared)\n",
    "print(\"R² =\", arrondi(r2_score(y_test_EUI, EUI_predictions)))"
   ]
  },
  {
   "cell_type": "markdown",
   "metadata": {},
   "source": [
    "La généralisation est médiocre."
   ]
  },
  {
   "cell_type": "code",
   "execution_count": 105,
   "metadata": {
    "ExecuteTime": {
     "end_time": "2021-07-16T15:36:27.773801Z",
     "start_time": "2021-07-16T15:36:27.757800Z"
    },
    "scrolled": true
   },
   "outputs": [
    {
     "data": {
      "text/plain": [
       "LargestPropertyUseType_Data Center                            0.141312\n",
       "PrimaryPropertyType_Supermarket / Grocery Store               0.087568\n",
       "PrimaryPropertyType_Laboratory                                0.069145\n",
       "YearBuilt                                                     0.065247\n",
       "LargestPropertyUseType_Supermarket/Grocery Store              0.051345\n",
       "Latitude                                                      0.048752\n",
       "Longitude                                                     0.046723\n",
       "NumberofFloors                                                0.034135\n",
       "SecondLargestPropertyUseType_Data Center                      0.027765\n",
       "LargestPropertyUseType_Restaurant                             0.019055\n",
       "PrimaryPropertyType_Other                                     0.018869\n",
       "Neighborhood_Delridge                                         0.016675\n",
       "ThirdLargestPropertyUseType_Swimming Pool                     0.015436\n",
       "SecondLargestPropertyUseType_Office                           0.012224\n",
       "PrimaryPropertyType_Mixed Use Property                        0.011549\n",
       "SecondLargestPropertyUseType_Laboratory                       0.011534\n",
       "ThirdLargestPropertyUseType_Office                            0.010953\n",
       "ZipCode_98121.0                                               0.010236\n",
       "LargestPropertyUseType_Urgent Care/Clinic/Other Outpatient    0.009493\n",
       "LargestPropertyUseType_Parking                                0.009319\n",
       "dtype: float64"
      ]
     },
     "execution_count": 105,
     "metadata": {},
     "output_type": "execute_result"
    }
   ],
   "source": [
    "df_feature_importances = pd.Series(forest_reg.feature_importances_, index=noms_des_coefs)\n",
    "df_feature_importances.sort_values(ascending=False).head(20)"
   ]
  },
  {
   "cell_type": "markdown",
   "metadata": {},
   "source": [
    "## SVM Regressor"
   ]
  },
  {
   "cell_type": "code",
   "execution_count": 106,
   "metadata": {
    "ExecuteTime": {
     "end_time": "2021-07-16T15:36:27.894808Z",
     "start_time": "2021-07-16T15:36:27.776801Z"
    }
   },
   "outputs": [
    {
     "data": {
      "text/html": [
       "<style>div.sk-top-container {color: black;background-color: white;}div.sk-toggleable {background-color: white;}label.sk-toggleable__label {cursor: pointer;display: block;width: 100%;margin-bottom: 0;padding: 0.2em 0.3em;box-sizing: border-box;text-align: center;}div.sk-toggleable__content {max-height: 0;max-width: 0;overflow: hidden;text-align: left;background-color: #f0f8ff;}div.sk-toggleable__content pre {margin: 0.2em;color: black;border-radius: 0.25em;background-color: #f0f8ff;}input.sk-toggleable__control:checked~div.sk-toggleable__content {max-height: 200px;max-width: 100%;overflow: auto;}div.sk-estimator input.sk-toggleable__control:checked~label.sk-toggleable__label {background-color: #d4ebff;}div.sk-label input.sk-toggleable__control:checked~label.sk-toggleable__label {background-color: #d4ebff;}input.sk-hidden--visually {border: 0;clip: rect(1px 1px 1px 1px);clip: rect(1px, 1px, 1px, 1px);height: 1px;margin: -1px;overflow: hidden;padding: 0;position: absolute;width: 1px;}div.sk-estimator {font-family: monospace;background-color: #f0f8ff;margin: 0.25em 0.25em;border: 1px dotted black;border-radius: 0.25em;box-sizing: border-box;}div.sk-estimator:hover {background-color: #d4ebff;}div.sk-parallel-item::after {content: \"\";width: 100%;border-bottom: 1px solid gray;flex-grow: 1;}div.sk-label:hover label.sk-toggleable__label {background-color: #d4ebff;}div.sk-serial::before {content: \"\";position: absolute;border-left: 1px solid gray;box-sizing: border-box;top: 2em;bottom: 0;left: 50%;}div.sk-serial {display: flex;flex-direction: column;align-items: center;background-color: white;}div.sk-item {z-index: 1;}div.sk-parallel {display: flex;align-items: stretch;justify-content: center;background-color: white;}div.sk-parallel-item {display: flex;flex-direction: column;position: relative;background-color: white;}div.sk-parallel-item:first-child::after {align-self: flex-end;width: 50%;}div.sk-parallel-item:last-child::after {align-self: flex-start;width: 50%;}div.sk-parallel-item:only-child::after {width: 0;}div.sk-dashed-wrapped {border: 1px dashed gray;margin: 0.2em;box-sizing: border-box;padding-bottom: 0.1em;background-color: white;position: relative;}div.sk-label label {font-family: monospace;font-weight: bold;background-color: white;display: inline-block;line-height: 1.2em;}div.sk-label-container {position: relative;z-index: 2;text-align: center;}div.sk-container {display: inline-block;position: relative;}</style><div class=\"sk-top-container\"><div class=\"sk-container\"><div class=\"sk-item\"><div class=\"sk-estimator sk-toggleable\"><input class=\"sk-toggleable__control sk-hidden--visually\" id=\"2c59a39e-b64d-4bb7-9105-62cd805bbd6a\" type=\"checkbox\" checked><label class=\"sk-toggleable__label\" for=\"2c59a39e-b64d-4bb7-9105-62cd805bbd6a\">SVR</label><div class=\"sk-toggleable__content\"><pre>SVR(kernel='linear')</pre></div></div></div></div></div>"
      ],
      "text/plain": [
       "SVR(kernel='linear')"
      ]
     },
     "execution_count": 106,
     "metadata": {},
     "output_type": "execute_result"
    }
   ],
   "source": [
    "svm_reg = SVR(kernel=\"linear\")\n",
    "svm_reg.fit(X_train_EUI_prepared, y_train_EUI.iloc[:,0])"
   ]
  },
  {
   "cell_type": "code",
   "execution_count": 107,
   "metadata": {
    "ExecuteTime": {
     "end_time": "2021-07-16T15:36:27.976812Z",
     "start_time": "2021-07-16T15:36:27.895808Z"
    }
   },
   "outputs": [
    {
     "name": "stdout",
     "output_type": "stream",
     "text": [
      "RMSE =  68.68134300140864\n"
     ]
    }
   ],
   "source": [
    "SVR_predictions = svm_reg.predict(X_train_EUI_prepared)\n",
    "svm_mse = mean_squared_error(y_train_EUI, SVR_predictions)\n",
    "svm_rmse = np.sqrt(svm_mse)\n",
    "print(\"RMSE = \", svm_rmse)"
   ]
  },
  {
   "cell_type": "markdown",
   "metadata": {},
   "source": [
    "C'est mauvais."
   ]
  }
 ],
 "metadata": {
  "hide_input": false,
  "kernelspec": {
   "display_name": "Python 3",
   "language": "python",
   "name": "python3"
  },
  "language_info": {
   "codemirror_mode": {
    "name": "ipython",
    "version": 3
   },
   "file_extension": ".py",
   "mimetype": "text/x-python",
   "name": "python",
   "nbconvert_exporter": "python",
   "pygments_lexer": "ipython3",
   "version": "3.8.5"
  },
  "toc": {
   "base_numbering": 1,
   "nav_menu": {},
   "number_sections": true,
   "sideBar": true,
   "skip_h1_title": false,
   "title_cell": "Table of Contents",
   "title_sidebar": "Contents",
   "toc_cell": false,
   "toc_position": {
    "height": "calc(100% - 180px)",
    "left": "10px",
    "top": "150px",
    "width": "462.388px"
   },
   "toc_section_display": true,
   "toc_window_display": true
  },
  "varInspector": {
   "cols": {
    "lenName": 16,
    "lenType": 16,
    "lenVar": 40
   },
   "kernels_config": {
    "python": {
     "delete_cmd_postfix": "",
     "delete_cmd_prefix": "del ",
     "library": "var_list.py",
     "varRefreshCmd": "print(var_dic_list())"
    },
    "r": {
     "delete_cmd_postfix": ") ",
     "delete_cmd_prefix": "rm(",
     "library": "var_list.r",
     "varRefreshCmd": "cat(var_dic_list()) "
    }
   },
   "types_to_exclude": [
    "module",
    "function",
    "builtin_function_or_method",
    "instance",
    "_Feature"
   ],
   "window_display": false
  }
 },
 "nbformat": 4,
 "nbformat_minor": 4
}
