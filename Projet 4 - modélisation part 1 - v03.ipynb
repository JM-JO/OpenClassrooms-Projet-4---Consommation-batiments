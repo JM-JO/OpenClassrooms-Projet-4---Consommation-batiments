{
 "cells": [
  {
   "cell_type": "markdown",
   "metadata": {},
   "source": [
    "Pour une lecture améliorée, ce notebook est idéalement lu avec une extension qui gère les niveaux des titres Markdown.  \n",
    "Par exemple avec l'extension 'Table of Contents' du module 'Nbextensions' de Jupyter."
   ]
  },
  {
   "cell_type": "markdown",
   "metadata": {},
   "source": [
    "# Mise en place du notebook"
   ]
  },
  {
   "cell_type": "markdown",
   "metadata": {},
   "source": [
    "## Import des modules"
   ]
  },
  {
   "cell_type": "code",
   "execution_count": 362,
   "metadata": {
    "ExecuteTime": {
     "end_time": "2021-06-29T14:10:37.176271Z",
     "start_time": "2021-06-29T14:10:37.170271Z"
    }
   },
   "outputs": [],
   "source": [
    "import numpy as np\n",
    "import pandas as pd\n",
    "import matplotlib.pyplot as plt\n",
    "from scipy.stats import linregress as reg_lin\n",
    "from mesfonctions import scatter_plot\n",
    "from mesfonctions import arrondi\n",
    "from mesfonctions import display_scores\n",
    "\n",
    "from sklearn import set_config\n",
    "from sklearn.model_selection import train_test_split\n",
    "from sklearn.model_selection import cross_val_score\n",
    "from sklearn.model_selection import GridSearchCV\n",
    "from sklearn.impute import SimpleImputer\n",
    "from sklearn.preprocessing import FunctionTransformer\n",
    "from sklearn.preprocessing import OneHotEncoder\n",
    "from sklearn.preprocessing import QuantileTransformer\n",
    "from sklearn.preprocessing import StandardScaler\n",
    "from sklearn.preprocessing import MinMaxScaler\n",
    "from sklearn.compose import ColumnTransformer\n",
    "from sklearn.pipeline import Pipeline\n",
    "from sklearn.linear_model import LinearRegression\n",
    "from sklearn.linear_model import Ridge\n",
    "from sklearn.linear_model import RidgeCV\n",
    "from sklearn.linear_model import Lasso\n",
    "from sklearn.linear_model import LassoCV\n",
    "from sklearn.metrics import mean_squared_error\n",
    "from sklearn.metrics import mean_absolute_error\n",
    "from sklearn.metrics import r2_score\n",
    "from sklearn.compose import TransformedTargetRegressor\n",
    "from sklearn.tree import DecisionTreeRegressor\n",
    "from sklearn.ensemble import RandomForestRegressor\n",
    "from sklearn.svm import SVR\n",
    "from sklearn.dummy import DummyRegressor\n",
    "\n",
    "from graphviz import Source\n",
    "from sklearn.tree import export_graphviz\n"
   ]
  },
  {
   "cell_type": "code",
   "execution_count": 363,
   "metadata": {
    "ExecuteTime": {
     "end_time": "2021-06-29T14:10:37.183272Z",
     "start_time": "2021-06-29T14:10:37.177271Z"
    }
   },
   "outputs": [],
   "source": [
    "# pour développement only - cellule à supprimer du notebook final\n",
    "import mesfonctions\n",
    "from importlib import reload  \n",
    "mesfonctions = reload(mesfonctions)\n",
    "# from mesfonctions import xxx"
   ]
  },
  {
   "cell_type": "markdown",
   "metadata": {
    "ExecuteTime": {
     "end_time": "2021-05-31T09:23:20.946017Z",
     "start_time": "2021-05-31T09:23:20.940016Z"
    }
   },
   "source": [
    "## Gestion des paramètres d'affichage de Jupyter"
   ]
  },
  {
   "cell_type": "code",
   "execution_count": 485,
   "metadata": {
    "ExecuteTime": {
     "end_time": "2021-07-01T17:19:25.656280Z",
     "start_time": "2021-07-01T17:19:25.646279Z"
    }
   },
   "outputs": [
    {
     "data": {
      "text/html": [
       "<style>.container { width:95% }</style>"
      ],
      "text/plain": [
       "<IPython.core.display.HTML object>"
      ]
     },
     "execution_count": 485,
     "metadata": {},
     "output_type": "execute_result"
    }
   ],
   "source": [
    "# pour gérer l'affichage des dataframes pandas\n",
    "pd.options.display.max_rows = 100\n",
    "pd.options.display.max_columns = 200\n",
    "\n",
    "# pour gérer l'affichage des arrays numpy\n",
    "# 230 sur ma config bureau, 160 sur ma config portable\n",
    "np.set_printoptions(linewidth=160)\n",
    "\n",
    "# affichage des objets sklearn\n",
    "set_config(display='diagram')\n",
    "\n",
    "# pour afficher les gros fichiers sur toute la largeur de l'écran\n",
    "from IPython.core.display import HTML\n",
    "HTML(\"<style>.container { width:95% }</style>\")"
   ]
  },
  {
   "cell_type": "markdown",
   "metadata": {
    "heading_collapsed": true
   },
   "source": [
    "## Fonctions en cours de développement (à déplacer ultérieurement dans un fichier .py externe)"
   ]
  },
  {
   "cell_type": "code",
   "execution_count": null,
   "metadata": {
    "hidden": true
   },
   "outputs": [],
   "source": []
  },
  {
   "cell_type": "markdown",
   "metadata": {},
   "source": [
    "## Chargement du pickle du df nettoyé"
   ]
  },
  {
   "cell_type": "code",
   "execution_count": 365,
   "metadata": {
    "ExecuteTime": {
     "end_time": "2021-06-29T14:10:38.010319Z",
     "start_time": "2021-06-29T14:10:38.005319Z"
    }
   },
   "outputs": [],
   "source": [
    "df1 = pd.read_pickle('df1_après_nettoyage_Projet_Seattle.pkl')"
   ]
  },
  {
   "cell_type": "markdown",
   "metadata": {},
   "source": [
    "# Première approche du problème : conservation d'un grand nombre de variables"
   ]
  },
  {
   "cell_type": "markdown",
   "metadata": {},
   "source": [
    "## Feature engineering - première approche"
   ]
  },
  {
   "cell_type": "markdown",
   "metadata": {
    "ExecuteTime": {
     "end_time": "2021-06-11T14:47:18.070895Z",
     "start_time": "2021-06-11T14:47:18.059903Z"
    }
   },
   "source": [
    "### Surface au sol"
   ]
  },
  {
   "cell_type": "markdown",
   "metadata": {},
   "source": [
    "Les pertes énergétiques des bâtiments avec une forte surface de contact avec l'extérieur seront plus importantes que celles des bâtiments avec une faible surface de contact.  \n",
    "Sur la base des données disponibles, on ne pourra pas calculer cette surface.  \n",
    "Toutefois on peut calculer la surface au sol des bâtiments. C'est un bon proxy de la surface de contact totale pour les bâtiments à peu d'étages.\n",
    "\n",
    "Surface_au_sol(sf) = PropertyGFABuilding(s) / NumberofFloors \n"
   ]
  },
  {
   "cell_type": "code",
   "execution_count": 366,
   "metadata": {
    "ExecuteTime": {
     "end_time": "2021-06-29T14:10:38.988375Z",
     "start_time": "2021-06-29T14:10:38.983375Z"
    },
    "scrolled": true
   },
   "outputs": [],
   "source": [
    "df1['Surface_au_sol(sf)'] = df1['PropertyGFABuilding(s)'].copy() / df1['NumberofFloors'].copy()"
   ]
  },
  {
   "cell_type": "code",
   "execution_count": 367,
   "metadata": {
    "ExecuteTime": {
     "end_time": "2021-06-29T14:10:39.000376Z",
     "start_time": "2021-06-29T14:10:38.989375Z"
    }
   },
   "outputs": [
    {
     "data": {
      "text/plain": [
       "count    1.668000e+03\n",
       "mean              inf\n",
       "std               NaN\n",
       "min      2.216970e+02\n",
       "25%      1.235629e+04\n",
       "50%      2.119500e+04\n",
       "75%      3.438105e+04\n",
       "max               inf\n",
       "Name: Surface_au_sol(sf), dtype: float64"
      ]
     },
     "execution_count": 367,
     "metadata": {},
     "output_type": "execute_result"
    }
   ],
   "source": [
    "df1['Surface_au_sol(sf)'].describe()"
   ]
  },
  {
   "cell_type": "markdown",
   "metadata": {},
   "source": [
    "Il y a des valeurs np.inf lorsque NumberofFloors vaut 0 => on les transforme en NaN."
   ]
  },
  {
   "cell_type": "code",
   "execution_count": 368,
   "metadata": {
    "ExecuteTime": {
     "end_time": "2021-06-29T14:10:39.247390Z",
     "start_time": "2021-06-29T14:10:39.243389Z"
    }
   },
   "outputs": [],
   "source": [
    "df1['Surface_au_sol(sf)'] = df1['Surface_au_sol(sf)'].apply(lambda x : np.NaN if x == np.inf else x)"
   ]
  },
  {
   "cell_type": "code",
   "execution_count": 369,
   "metadata": {
    "ExecuteTime": {
     "end_time": "2021-06-29T14:10:39.256390Z",
     "start_time": "2021-06-29T14:10:39.248390Z"
    }
   },
   "outputs": [
    {
     "data": {
      "text/plain": [
       "count    1.652000e+03\n",
       "mean     3.177939e+04\n",
       "std      4.708716e+04\n",
       "min      2.216970e+02\n",
       "25%      1.229850e+04\n",
       "50%      2.102900e+04\n",
       "75%      3.361888e+04\n",
       "max      1.100000e+06\n",
       "Name: Surface_au_sol(sf), dtype: float64"
      ]
     },
     "execution_count": 369,
     "metadata": {},
     "output_type": "execute_result"
    }
   ],
   "source": [
    "df1['Surface_au_sol(sf)'].describe()"
   ]
  },
  {
   "cell_type": "markdown",
   "metadata": {},
   "source": [
    "### Variables prédites"
   ]
  },
  {
   "cell_type": "markdown",
   "metadata": {},
   "source": [
    "La demande de Douglas est de prédire les variables :  \n",
    "    - 'SiteEnergyUse(kBtu)',  \n",
    "    - 'TotalGHGEmissions',  \n",
    "cependant, nous travaillerons plutôt sur la prévision de :  \n",
    "    - 'SiteEUI(kBtu/sf)',  \n",
    "    - 'GHGEmissionsIntensity',  \n",
    "qui ont une relation plus \"linéaire\" avec les autres variables descriptives. "
   ]
  },
  {
   "cell_type": "markdown",
   "metadata": {},
   "source": [
    "## Variables retenues pour la modélisation"
   ]
  },
  {
   "cell_type": "code",
   "execution_count": 370,
   "metadata": {
    "ExecuteTime": {
     "end_time": "2021-06-29T14:10:39.979432Z",
     "start_time": "2021-06-29T14:10:39.974431Z"
    },
    "scrolled": true
   },
   "outputs": [
    {
     "data": {
      "text/plain": [
       "['OSEBuildingID',\n",
       " 'BuildingType',\n",
       " 'PrimaryPropertyType',\n",
       " 'ZipCode',\n",
       " 'CouncilDistrictCode',\n",
       " 'Neighborhood',\n",
       " 'Latitude',\n",
       " 'Longitude',\n",
       " 'YearBuilt',\n",
       " 'NumberofBuildings',\n",
       " 'NumberofFloors',\n",
       " 'PropertyGFATotal',\n",
       " 'PropertyGFAParking',\n",
       " 'PropertyGFABuilding(s)',\n",
       " 'LargestPropertyUseType',\n",
       " 'LargestPropertyUseTypeGFA',\n",
       " 'SecondLargestPropertyUseType',\n",
       " 'SecondLargestPropertyUseTypeGFA',\n",
       " 'ThirdLargestPropertyUseType',\n",
       " 'ThirdLargestPropertyUseTypeGFA',\n",
       " 'ENERGYSTARScore',\n",
       " 'SiteEUI(kBtu/sf)',\n",
       " 'SiteEUIWN(kBtu/sf)',\n",
       " 'SourceEUI(kBtu/sf)',\n",
       " 'SourceEUIWN(kBtu/sf)',\n",
       " 'SiteEnergyUse(kBtu)',\n",
       " 'SiteEnergyUseWN(kBtu)',\n",
       " 'SteamUse(kBtu)',\n",
       " 'Electricity(kWh)',\n",
       " 'Electricity(kBtu)',\n",
       " 'NaturalGas(therms)',\n",
       " 'NaturalGas(kBtu)',\n",
       " 'TotalGHGEmissions',\n",
       " 'GHGEmissionsIntensity',\n",
       " 'Surface_au_sol(sf)']"
      ]
     },
     "execution_count": 370,
     "metadata": {},
     "output_type": "execute_result"
    }
   ],
   "source": [
    "list(df1.columns)"
   ]
  },
  {
   "cell_type": "markdown",
   "metadata": {},
   "source": [
    "La demande de Douglas est de prédire les variables :  \n",
    "    - 'SiteEnergyUse(kBtu)',  \n",
    "    - 'TotalGHGEmissions',  \n",
    "cependant, nous travaillerons plutôt sur la prévision de :  \n",
    "    - 'SiteEUI(kBtu/sf)',  \n",
    "    - 'GHGEmissionsIntensity',  \n",
    "qui ont un lien plus \"linéaire\" avec les autres variables descriptives. "
   ]
  },
  {
   "cell_type": "code",
   "execution_count": 371,
   "metadata": {
    "ExecuteTime": {
     "end_time": "2021-06-29T14:10:40.222445Z",
     "start_time": "2021-06-29T14:10:40.219445Z"
    }
   },
   "outputs": [],
   "source": [
    "liste_variables_pour_modelisation =[\n",
    "    'BuildingType', \n",
    "    'PrimaryPropertyType', \n",
    "    'ZipCode',\n",
    "    'CouncilDistrictCode', \n",
    "    'Neighborhood', \n",
    "    'Latitude', \n",
    "    'Longitude',\n",
    "    'YearBuilt', \n",
    "    'NumberofBuildings', \n",
    "    'NumberofFloors', \n",
    "#     'PropertyGFATotal',    exclu car donnée extensive\n",
    "#     'PropertyGFAParking',    exclu car donnée extensive\n",
    "#     'PropertyGFABuilding(s)',  exclu car donnée extensive\n",
    "    'LargestPropertyUseType',\n",
    "#     'LargestPropertyUseTypeGFA',  exclu car donnée extensive\n",
    "    'SecondLargestPropertyUseType', \n",
    "#     'SecondLargestPropertyUseTypeGFA',  exclu car donnée extensive\n",
    "    'ThirdLargestPropertyUseType', \n",
    "#     'ThirdLargestPropertyUseTypeGFA',  exclu car donnée extensive\n",
    "#     'ENERGYSTARScore', exclu sinon data leak\n",
    "#     'SiteEUI(kBtu/sf)', variable à prédire\n",
    "#     'SiteEUIWN(kBtu/sf)', exclu sinon data leak\n",
    "#     'SourceEUI(kBtu/sf)', exclu sinon data leak\n",
    "#     'SourceEUIWN(kBtu/sf)', exclu sinon data leak\n",
    "#     'SiteEnergyUse(kBtu)', exclu sinon data leak\n",
    "#     'SiteEnergyUseWN(kBtu)', exclu sinon data leak\n",
    "#     'SteamUse(kBtu)', exclu sinon data leak\n",
    "#     'Electricity(kWh)',exclu sinon data leak\n",
    "#     'Electricity(kBtu)', exclu sinon data leak\n",
    "#     'NaturalGas(therms)', exclu sinon data leak\n",
    "#     'NaturalGas(kBtu)',exclu sinon data leak\n",
    "#     'TotalGHGEmissions', exclu sinon data leak\n",
    "#     'GHGEmissionsIntensity', variable à prédire\n",
    "    'Surface_au_sol(sf)']"
   ]
  },
  {
   "cell_type": "markdown",
   "metadata": {},
   "source": [
    "## Train test split "
   ]
  },
  {
   "cell_type": "markdown",
   "metadata": {
    "ExecuteTime": {
     "end_time": "2021-06-15T10:22:42.272135Z",
     "start_time": "2021-06-15T10:22:42.254123Z"
    }
   },
   "source": [
    "POUR LE NOTEBOOK FINAL IL FAUDRA FAIRE LE SPLIT PLUS TOT (avant le nettoyage)  \n",
    "IL FAUDRA FAIRE LE MEME NETTOYAGE SUR LES JEUX TRAIN ET TEST\n",
    "\n",
    "POUR L'INSTANT ON NE TRAVAILLE QU'A LA PREDICTION DE SiteEUI(kBtu/sf)"
   ]
  },
  {
   "cell_type": "code",
   "execution_count": 372,
   "metadata": {
    "ExecuteTime": {
     "end_time": "2021-06-29T14:10:40.763476Z",
     "start_time": "2021-06-29T14:10:40.757476Z"
    }
   },
   "outputs": [],
   "source": [
    "# Suppression des lignes pour lesquelles la variable 'SiteEUI(kBtu/sf)' n'est pas renseignée\n",
    "df1 = df1.dropna(subset=['SiteEUI(kBtu/sf)']).copy()"
   ]
  },
  {
   "cell_type": "markdown",
   "metadata": {},
   "source": [
    "##### Variable à prédire :"
   ]
  },
  {
   "cell_type": "code",
   "execution_count": 373,
   "metadata": {
    "ExecuteTime": {
     "end_time": "2021-06-29T14:10:41.062493Z",
     "start_time": "2021-06-29T14:10:41.059493Z"
    }
   },
   "outputs": [],
   "source": [
    "y1_EUI = df1[['SiteEUI(kBtu/sf)']].copy()\n",
    "# y1_GHGEI = df1['GHGEmissionsIntensity'].copy()     Pour l'instant on se contente de prédire y1_EUI."
   ]
  },
  {
   "cell_type": "markdown",
   "metadata": {},
   "source": [
    "##### Variables explicatives :"
   ]
  },
  {
   "cell_type": "code",
   "execution_count": 374,
   "metadata": {
    "ExecuteTime": {
     "end_time": "2021-06-29T14:10:41.318508Z",
     "start_time": "2021-06-29T14:10:41.315508Z"
    }
   },
   "outputs": [],
   "source": [
    "X1 = df1[liste_variables_pour_modelisation].copy()"
   ]
  },
  {
   "cell_type": "markdown",
   "metadata": {},
   "source": [
    "##### Split :"
   ]
  },
  {
   "cell_type": "code",
   "execution_count": 375,
   "metadata": {
    "ExecuteTime": {
     "end_time": "2021-06-29T14:10:41.573523Z",
     "start_time": "2021-06-29T14:10:41.567522Z"
    },
    "scrolled": false
   },
   "outputs": [],
   "source": [
    "X_train_EUI, X_test_EUI, y_train_EUI, y_test_EUI = train_test_split(X1, y1_EUI, test_size=0.2, random_state=0)"
   ]
  },
  {
   "cell_type": "markdown",
   "metadata": {},
   "source": [
    "## Imputations"
   ]
  },
  {
   "cell_type": "markdown",
   "metadata": {},
   "source": [
    "### Définition des variables quantitatives et qualitatives"
   ]
  },
  {
   "cell_type": "code",
   "execution_count": 376,
   "metadata": {
    "ExecuteTime": {
     "end_time": "2021-06-29T14:10:42.072551Z",
     "start_time": "2021-06-29T14:10:42.068551Z"
    },
    "scrolled": true
   },
   "outputs": [
    {
     "data": {
      "text/plain": [
       "['BuildingType',\n",
       " 'PrimaryPropertyType',\n",
       " 'ZipCode',\n",
       " 'CouncilDistrictCode',\n",
       " 'Neighborhood',\n",
       " 'Latitude',\n",
       " 'Longitude',\n",
       " 'YearBuilt',\n",
       " 'NumberofBuildings',\n",
       " 'NumberofFloors',\n",
       " 'LargestPropertyUseType',\n",
       " 'SecondLargestPropertyUseType',\n",
       " 'ThirdLargestPropertyUseType',\n",
       " 'Surface_au_sol(sf)']"
      ]
     },
     "execution_count": 376,
     "metadata": {},
     "output_type": "execute_result"
    }
   ],
   "source": [
    "list(X_train_EUI.columns)"
   ]
  },
  {
   "cell_type": "code",
   "execution_count": 377,
   "metadata": {
    "ExecuteTime": {
     "end_time": "2021-06-29T14:10:42.079552Z",
     "start_time": "2021-06-29T14:10:42.073551Z"
    }
   },
   "outputs": [],
   "source": [
    "liste_variables_qualitatives = [\n",
    " 'BuildingType',\n",
    " 'PrimaryPropertyType',\n",
    " 'ZipCode',\n",
    " 'CouncilDistrictCode',\n",
    " 'Neighborhood',\n",
    "#  'Latitude',\n",
    "#  'Longitude',\n",
    "#  'YearBuilt',\n",
    "#  'NumberofBuildings',\n",
    "#  'NumberofFloors',\n",
    " 'LargestPropertyUseType',\n",
    " 'SecondLargestPropertyUseType',\n",
    " 'ThirdLargestPropertyUseType',\n",
    "#  'Surface_au_sol(sf)'\n",
    "]"
   ]
  },
  {
   "cell_type": "code",
   "execution_count": 378,
   "metadata": {
    "ExecuteTime": {
     "end_time": "2021-06-29T14:10:42.085552Z",
     "start_time": "2021-06-29T14:10:42.081552Z"
    }
   },
   "outputs": [],
   "source": [
    "liste_variables_quantitatives = [\n",
    "#  'BuildingType',\n",
    "#  'PrimaryPropertyType',\n",
    "#  'ZipCode',\n",
    "#  'CouncilDistrictCode',\n",
    "#  'Neighborhood',\n",
    " 'Latitude',\n",
    " 'Longitude',\n",
    " 'YearBuilt',\n",
    " 'NumberofBuildings',\n",
    " 'NumberofFloors',\n",
    "#  'LargestPropertyUseType',\n",
    "#  'SecondLargestPropertyUseType',\n",
    "#  'ThirdLargestPropertyUseType',\n",
    " 'Surface_au_sol(sf)'\n",
    "]"
   ]
  },
  {
   "cell_type": "code",
   "execution_count": 379,
   "metadata": {
    "ExecuteTime": {
     "end_time": "2021-06-29T14:10:42.108553Z",
     "start_time": "2021-06-29T14:10:42.086552Z"
    }
   },
   "outputs": [
    {
     "data": {
      "text/html": [
       "<div>\n",
       "<style scoped>\n",
       "    .dataframe tbody tr th:only-of-type {\n",
       "        vertical-align: middle;\n",
       "    }\n",
       "\n",
       "    .dataframe tbody tr th {\n",
       "        vertical-align: top;\n",
       "    }\n",
       "\n",
       "    .dataframe thead th {\n",
       "        text-align: right;\n",
       "    }\n",
       "</style>\n",
       "<table border=\"1\" class=\"dataframe\">\n",
       "  <thead>\n",
       "    <tr style=\"text-align: right;\">\n",
       "      <th></th>\n",
       "      <th>BuildingType</th>\n",
       "      <th>PrimaryPropertyType</th>\n",
       "      <th>ZipCode</th>\n",
       "      <th>CouncilDistrictCode</th>\n",
       "      <th>Neighborhood</th>\n",
       "      <th>Latitude</th>\n",
       "      <th>Longitude</th>\n",
       "      <th>YearBuilt</th>\n",
       "      <th>NumberofBuildings</th>\n",
       "      <th>NumberofFloors</th>\n",
       "      <th>LargestPropertyUseType</th>\n",
       "      <th>SecondLargestPropertyUseType</th>\n",
       "      <th>ThirdLargestPropertyUseType</th>\n",
       "      <th>Surface_au_sol(sf)</th>\n",
       "    </tr>\n",
       "  </thead>\n",
       "  <tbody>\n",
       "    <tr>\n",
       "      <th>3162</th>\n",
       "      <td>NonResidential</td>\n",
       "      <td>Large Office</td>\n",
       "      <td>98109.0</td>\n",
       "      <td>7</td>\n",
       "      <td>LAKE UNION</td>\n",
       "      <td>47.62037</td>\n",
       "      <td>-122.33627</td>\n",
       "      <td>2012</td>\n",
       "      <td>1.0</td>\n",
       "      <td>11</td>\n",
       "      <td>Office</td>\n",
       "      <td>Parking</td>\n",
       "      <td>Other</td>\n",
       "      <td>47856.636364</td>\n",
       "    </tr>\n",
       "    <tr>\n",
       "      <th>953</th>\n",
       "      <td>NonResidential</td>\n",
       "      <td>Worship Facility</td>\n",
       "      <td>98115.0</td>\n",
       "      <td>4</td>\n",
       "      <td>NORTHEAST</td>\n",
       "      <td>47.68752</td>\n",
       "      <td>-122.29852</td>\n",
       "      <td>2000</td>\n",
       "      <td>1.0</td>\n",
       "      <td>2</td>\n",
       "      <td>Worship Facility</td>\n",
       "      <td>NaN</td>\n",
       "      <td>NaN</td>\n",
       "      <td>15693.000000</td>\n",
       "    </tr>\n",
       "    <tr>\n",
       "      <th>2637</th>\n",
       "      <td>NonResidential</td>\n",
       "      <td>Hotel</td>\n",
       "      <td>98108.0</td>\n",
       "      <td>2</td>\n",
       "      <td>GREATER DUWAMISH</td>\n",
       "      <td>47.54774</td>\n",
       "      <td>-122.32091</td>\n",
       "      <td>1992</td>\n",
       "      <td>1.0</td>\n",
       "      <td>3</td>\n",
       "      <td>Hotel</td>\n",
       "      <td>NaN</td>\n",
       "      <td>NaN</td>\n",
       "      <td>7484.000000</td>\n",
       "    </tr>\n",
       "    <tr>\n",
       "      <th>29</th>\n",
       "      <td>NonResidential</td>\n",
       "      <td>Hotel</td>\n",
       "      <td>98121.0</td>\n",
       "      <td>7</td>\n",
       "      <td>DOWNTOWN</td>\n",
       "      <td>47.61558</td>\n",
       "      <td>-122.34186</td>\n",
       "      <td>1978</td>\n",
       "      <td>1.0</td>\n",
       "      <td>5</td>\n",
       "      <td>Hotel</td>\n",
       "      <td>NaN</td>\n",
       "      <td>NaN</td>\n",
       "      <td>10442.000000</td>\n",
       "    </tr>\n",
       "    <tr>\n",
       "      <th>1126</th>\n",
       "      <td>NonResidential</td>\n",
       "      <td>Small- and Mid-Sized Office</td>\n",
       "      <td>98108.0</td>\n",
       "      <td>2</td>\n",
       "      <td>GREATER DUWAMISH</td>\n",
       "      <td>47.55316</td>\n",
       "      <td>-122.32616</td>\n",
       "      <td>1982</td>\n",
       "      <td>1.0</td>\n",
       "      <td>2</td>\n",
       "      <td>Office</td>\n",
       "      <td>Non-Refrigerated Warehouse</td>\n",
       "      <td>NaN</td>\n",
       "      <td>20014.500000</td>\n",
       "    </tr>\n",
       "    <tr>\n",
       "      <th>...</th>\n",
       "      <td>...</td>\n",
       "      <td>...</td>\n",
       "      <td>...</td>\n",
       "      <td>...</td>\n",
       "      <td>...</td>\n",
       "      <td>...</td>\n",
       "      <td>...</td>\n",
       "      <td>...</td>\n",
       "      <td>...</td>\n",
       "      <td>...</td>\n",
       "      <td>...</td>\n",
       "      <td>...</td>\n",
       "      <td>...</td>\n",
       "      <td>...</td>\n",
       "    </tr>\n",
       "    <tr>\n",
       "      <th>1045</th>\n",
       "      <td>NonResidential</td>\n",
       "      <td>Retail Store</td>\n",
       "      <td>98134.0</td>\n",
       "      <td>2</td>\n",
       "      <td>GREATER DUWAMISH</td>\n",
       "      <td>47.56535</td>\n",
       "      <td>-122.34054</td>\n",
       "      <td>1953</td>\n",
       "      <td>1.0</td>\n",
       "      <td>1</td>\n",
       "      <td>Retail Store</td>\n",
       "      <td>Non-Refrigerated Warehouse</td>\n",
       "      <td>NaN</td>\n",
       "      <td>39900.000000</td>\n",
       "    </tr>\n",
       "    <tr>\n",
       "      <th>1192</th>\n",
       "      <td>NonResidential</td>\n",
       "      <td>Small- and Mid-Sized Office</td>\n",
       "      <td>98133.0</td>\n",
       "      <td>5</td>\n",
       "      <td>NORTHWEST</td>\n",
       "      <td>47.72004</td>\n",
       "      <td>-122.34418</td>\n",
       "      <td>1951</td>\n",
       "      <td>1.0</td>\n",
       "      <td>2</td>\n",
       "      <td>Office</td>\n",
       "      <td>Non-Refrigerated Warehouse</td>\n",
       "      <td>NaN</td>\n",
       "      <td>19907.500000</td>\n",
       "    </tr>\n",
       "    <tr>\n",
       "      <th>2120</th>\n",
       "      <td>NonResidential</td>\n",
       "      <td>Warehouse</td>\n",
       "      <td>98108.0</td>\n",
       "      <td>1</td>\n",
       "      <td>GREATER DUWAMISH</td>\n",
       "      <td>47.53160</td>\n",
       "      <td>-122.33300</td>\n",
       "      <td>1970</td>\n",
       "      <td>1.0</td>\n",
       "      <td>1</td>\n",
       "      <td>Non-Refrigerated Warehouse</td>\n",
       "      <td>NaN</td>\n",
       "      <td>NaN</td>\n",
       "      <td>44000.000000</td>\n",
       "    </tr>\n",
       "    <tr>\n",
       "      <th>580</th>\n",
       "      <td>NonResidential</td>\n",
       "      <td>University</td>\n",
       "      <td>98122.0</td>\n",
       "      <td>3</td>\n",
       "      <td>CENTRAL</td>\n",
       "      <td>47.60940</td>\n",
       "      <td>-122.31506</td>\n",
       "      <td>1916</td>\n",
       "      <td>1.0</td>\n",
       "      <td>2</td>\n",
       "      <td>College/University</td>\n",
       "      <td>Parking</td>\n",
       "      <td>NaN</td>\n",
       "      <td>30061.000000</td>\n",
       "    </tr>\n",
       "    <tr>\n",
       "      <th>839</th>\n",
       "      <td>SPS-District K-12</td>\n",
       "      <td>K-12 School</td>\n",
       "      <td>98109.0</td>\n",
       "      <td>7</td>\n",
       "      <td>MAGNOLIA / QUEEN ANNE</td>\n",
       "      <td>47.63203</td>\n",
       "      <td>-122.35337</td>\n",
       "      <td>2001</td>\n",
       "      <td>1.0</td>\n",
       "      <td>1</td>\n",
       "      <td>K-12 School</td>\n",
       "      <td>NaN</td>\n",
       "      <td>NaN</td>\n",
       "      <td>35805.000000</td>\n",
       "    </tr>\n",
       "  </tbody>\n",
       "</table>\n",
       "<p>1320 rows × 14 columns</p>\n",
       "</div>"
      ],
      "text/plain": [
       "           BuildingType          PrimaryPropertyType  ZipCode  \\\n",
       "3162     NonResidential                 Large Office  98109.0   \n",
       "953      NonResidential             Worship Facility  98115.0   \n",
       "2637     NonResidential                        Hotel  98108.0   \n",
       "29       NonResidential                        Hotel  98121.0   \n",
       "1126     NonResidential  Small- and Mid-Sized Office  98108.0   \n",
       "...                 ...                          ...      ...   \n",
       "1045     NonResidential                 Retail Store  98134.0   \n",
       "1192     NonResidential  Small- and Mid-Sized Office  98133.0   \n",
       "2120     NonResidential                    Warehouse  98108.0   \n",
       "580      NonResidential                   University  98122.0   \n",
       "839   SPS-District K-12                  K-12 School  98109.0   \n",
       "\n",
       "      CouncilDistrictCode           Neighborhood  Latitude  Longitude  \\\n",
       "3162                    7             LAKE UNION  47.62037 -122.33627   \n",
       "953                     4              NORTHEAST  47.68752 -122.29852   \n",
       "2637                    2       GREATER DUWAMISH  47.54774 -122.32091   \n",
       "29                      7               DOWNTOWN  47.61558 -122.34186   \n",
       "1126                    2       GREATER DUWAMISH  47.55316 -122.32616   \n",
       "...                   ...                    ...       ...        ...   \n",
       "1045                    2       GREATER DUWAMISH  47.56535 -122.34054   \n",
       "1192                    5              NORTHWEST  47.72004 -122.34418   \n",
       "2120                    1       GREATER DUWAMISH  47.53160 -122.33300   \n",
       "580                     3                CENTRAL  47.60940 -122.31506   \n",
       "839                     7  MAGNOLIA / QUEEN ANNE  47.63203 -122.35337   \n",
       "\n",
       "      YearBuilt  NumberofBuildings  NumberofFloors  \\\n",
       "3162       2012                1.0              11   \n",
       "953        2000                1.0               2   \n",
       "2637       1992                1.0               3   \n",
       "29         1978                1.0               5   \n",
       "1126       1982                1.0               2   \n",
       "...         ...                ...             ...   \n",
       "1045       1953                1.0               1   \n",
       "1192       1951                1.0               2   \n",
       "2120       1970                1.0               1   \n",
       "580        1916                1.0               2   \n",
       "839        2001                1.0               1   \n",
       "\n",
       "          LargestPropertyUseType SecondLargestPropertyUseType  \\\n",
       "3162                      Office                      Parking   \n",
       "953             Worship Facility                          NaN   \n",
       "2637                       Hotel                          NaN   \n",
       "29                         Hotel                          NaN   \n",
       "1126                      Office   Non-Refrigerated Warehouse   \n",
       "...                          ...                          ...   \n",
       "1045                Retail Store   Non-Refrigerated Warehouse   \n",
       "1192                      Office   Non-Refrigerated Warehouse   \n",
       "2120  Non-Refrigerated Warehouse                          NaN   \n",
       "580           College/University                      Parking   \n",
       "839                  K-12 School                          NaN   \n",
       "\n",
       "     ThirdLargestPropertyUseType  Surface_au_sol(sf)  \n",
       "3162                       Other        47856.636364  \n",
       "953                          NaN        15693.000000  \n",
       "2637                         NaN         7484.000000  \n",
       "29                           NaN        10442.000000  \n",
       "1126                         NaN        20014.500000  \n",
       "...                          ...                 ...  \n",
       "1045                         NaN        39900.000000  \n",
       "1192                         NaN        19907.500000  \n",
       "2120                         NaN        44000.000000  \n",
       "580                          NaN        30061.000000  \n",
       "839                          NaN        35805.000000  \n",
       "\n",
       "[1320 rows x 14 columns]"
      ]
     },
     "execution_count": 379,
     "metadata": {},
     "output_type": "execute_result"
    }
   ],
   "source": [
    "X_train_EUI"
   ]
  },
  {
   "cell_type": "code",
   "execution_count": 380,
   "metadata": {
    "ExecuteTime": {
     "end_time": "2021-06-29T14:10:42.131555Z",
     "start_time": "2021-06-29T14:10:42.109553Z"
    }
   },
   "outputs": [
    {
     "data": {
      "text/html": [
       "<div>\n",
       "<style scoped>\n",
       "    .dataframe tbody tr th:only-of-type {\n",
       "        vertical-align: middle;\n",
       "    }\n",
       "\n",
       "    .dataframe tbody tr th {\n",
       "        vertical-align: top;\n",
       "    }\n",
       "\n",
       "    .dataframe thead th {\n",
       "        text-align: right;\n",
       "    }\n",
       "</style>\n",
       "<table border=\"1\" class=\"dataframe\">\n",
       "  <thead>\n",
       "    <tr style=\"text-align: right;\">\n",
       "      <th></th>\n",
       "      <th>Latitude</th>\n",
       "      <th>Longitude</th>\n",
       "      <th>YearBuilt</th>\n",
       "      <th>NumberofBuildings</th>\n",
       "      <th>NumberofFloors</th>\n",
       "      <th>Surface_au_sol(sf)</th>\n",
       "    </tr>\n",
       "  </thead>\n",
       "  <tbody>\n",
       "    <tr>\n",
       "      <th>count</th>\n",
       "      <td>1320.000000</td>\n",
       "      <td>1320.000000</td>\n",
       "      <td>1320.000000</td>\n",
       "      <td>1320.000000</td>\n",
       "      <td>1320.000000</td>\n",
       "      <td>1.307000e+03</td>\n",
       "    </tr>\n",
       "    <tr>\n",
       "      <th>mean</th>\n",
       "      <td>47.616247</td>\n",
       "      <td>-122.332559</td>\n",
       "      <td>1962.246212</td>\n",
       "      <td>1.156818</td>\n",
       "      <td>4.200758</td>\n",
       "      <td>3.116310e+04</td>\n",
       "    </tr>\n",
       "    <tr>\n",
       "      <th>std</th>\n",
       "      <td>0.048964</td>\n",
       "      <td>0.024321</td>\n",
       "      <td>32.540533</td>\n",
       "      <td>3.187654</td>\n",
       "      <td>6.912526</td>\n",
       "      <td>4.779553e+04</td>\n",
       "    </tr>\n",
       "    <tr>\n",
       "      <th>min</th>\n",
       "      <td>47.510180</td>\n",
       "      <td>-122.411820</td>\n",
       "      <td>1900.000000</td>\n",
       "      <td>0.000000</td>\n",
       "      <td>0.000000</td>\n",
       "      <td>2.216970e+02</td>\n",
       "    </tr>\n",
       "    <tr>\n",
       "      <th>25%</th>\n",
       "      <td>47.584275</td>\n",
       "      <td>-122.342598</td>\n",
       "      <td>1930.000000</td>\n",
       "      <td>1.000000</td>\n",
       "      <td>1.000000</td>\n",
       "      <td>1.247250e+04</td>\n",
       "    </tr>\n",
       "    <tr>\n",
       "      <th>50%</th>\n",
       "      <td>47.612380</td>\n",
       "      <td>-122.332890</td>\n",
       "      <td>1966.000000</td>\n",
       "      <td>1.000000</td>\n",
       "      <td>2.000000</td>\n",
       "      <td>2.097500e+04</td>\n",
       "    </tr>\n",
       "    <tr>\n",
       "      <th>75%</th>\n",
       "      <td>47.650627</td>\n",
       "      <td>-122.321848</td>\n",
       "      <td>1989.000000</td>\n",
       "      <td>1.000000</td>\n",
       "      <td>4.000000</td>\n",
       "      <td>3.254500e+04</td>\n",
       "    </tr>\n",
       "    <tr>\n",
       "      <th>max</th>\n",
       "      <td>47.733870</td>\n",
       "      <td>-122.258640</td>\n",
       "      <td>2015.000000</td>\n",
       "      <td>111.000000</td>\n",
       "      <td>99.000000</td>\n",
       "      <td>1.100000e+06</td>\n",
       "    </tr>\n",
       "  </tbody>\n",
       "</table>\n",
       "</div>"
      ],
      "text/plain": [
       "          Latitude    Longitude    YearBuilt  NumberofBuildings  \\\n",
       "count  1320.000000  1320.000000  1320.000000        1320.000000   \n",
       "mean     47.616247  -122.332559  1962.246212           1.156818   \n",
       "std       0.048964     0.024321    32.540533           3.187654   \n",
       "min      47.510180  -122.411820  1900.000000           0.000000   \n",
       "25%      47.584275  -122.342598  1930.000000           1.000000   \n",
       "50%      47.612380  -122.332890  1966.000000           1.000000   \n",
       "75%      47.650627  -122.321848  1989.000000           1.000000   \n",
       "max      47.733870  -122.258640  2015.000000         111.000000   \n",
       "\n",
       "       NumberofFloors  Surface_au_sol(sf)  \n",
       "count     1320.000000        1.307000e+03  \n",
       "mean         4.200758        3.116310e+04  \n",
       "std          6.912526        4.779553e+04  \n",
       "min          0.000000        2.216970e+02  \n",
       "25%          1.000000        1.247250e+04  \n",
       "50%          2.000000        2.097500e+04  \n",
       "75%          4.000000        3.254500e+04  \n",
       "max         99.000000        1.100000e+06  "
      ]
     },
     "execution_count": 380,
     "metadata": {},
     "output_type": "execute_result"
    }
   ],
   "source": [
    "X_train_EUI[liste_variables_quantitatives].describe()"
   ]
  },
  {
   "cell_type": "code",
   "execution_count": 381,
   "metadata": {
    "ExecuteTime": {
     "end_time": "2021-06-29T14:10:42.145555Z",
     "start_time": "2021-06-29T14:10:42.132555Z"
    }
   },
   "outputs": [
    {
     "data": {
      "text/html": [
       "<div>\n",
       "<style scoped>\n",
       "    .dataframe tbody tr th:only-of-type {\n",
       "        vertical-align: middle;\n",
       "    }\n",
       "\n",
       "    .dataframe tbody tr th {\n",
       "        vertical-align: top;\n",
       "    }\n",
       "\n",
       "    .dataframe thead th {\n",
       "        text-align: right;\n",
       "    }\n",
       "</style>\n",
       "<table border=\"1\" class=\"dataframe\">\n",
       "  <thead>\n",
       "    <tr style=\"text-align: right;\">\n",
       "      <th></th>\n",
       "      <th>Latitude</th>\n",
       "      <th>Longitude</th>\n",
       "      <th>YearBuilt</th>\n",
       "      <th>NumberofBuildings</th>\n",
       "      <th>NumberofFloors</th>\n",
       "      <th>Surface_au_sol(sf)</th>\n",
       "    </tr>\n",
       "  </thead>\n",
       "  <tbody>\n",
       "    <tr>\n",
       "      <th>3162</th>\n",
       "      <td>47.62037</td>\n",
       "      <td>-122.33627</td>\n",
       "      <td>2012</td>\n",
       "      <td>1.0</td>\n",
       "      <td>11</td>\n",
       "      <td>47856.636364</td>\n",
       "    </tr>\n",
       "    <tr>\n",
       "      <th>953</th>\n",
       "      <td>47.68752</td>\n",
       "      <td>-122.29852</td>\n",
       "      <td>2000</td>\n",
       "      <td>1.0</td>\n",
       "      <td>2</td>\n",
       "      <td>15693.000000</td>\n",
       "    </tr>\n",
       "    <tr>\n",
       "      <th>2637</th>\n",
       "      <td>47.54774</td>\n",
       "      <td>-122.32091</td>\n",
       "      <td>1992</td>\n",
       "      <td>1.0</td>\n",
       "      <td>3</td>\n",
       "      <td>7484.000000</td>\n",
       "    </tr>\n",
       "    <tr>\n",
       "      <th>29</th>\n",
       "      <td>47.61558</td>\n",
       "      <td>-122.34186</td>\n",
       "      <td>1978</td>\n",
       "      <td>1.0</td>\n",
       "      <td>5</td>\n",
       "      <td>10442.000000</td>\n",
       "    </tr>\n",
       "    <tr>\n",
       "      <th>1126</th>\n",
       "      <td>47.55316</td>\n",
       "      <td>-122.32616</td>\n",
       "      <td>1982</td>\n",
       "      <td>1.0</td>\n",
       "      <td>2</td>\n",
       "      <td>20014.500000</td>\n",
       "    </tr>\n",
       "    <tr>\n",
       "      <th>...</th>\n",
       "      <td>...</td>\n",
       "      <td>...</td>\n",
       "      <td>...</td>\n",
       "      <td>...</td>\n",
       "      <td>...</td>\n",
       "      <td>...</td>\n",
       "    </tr>\n",
       "    <tr>\n",
       "      <th>1045</th>\n",
       "      <td>47.56535</td>\n",
       "      <td>-122.34054</td>\n",
       "      <td>1953</td>\n",
       "      <td>1.0</td>\n",
       "      <td>1</td>\n",
       "      <td>39900.000000</td>\n",
       "    </tr>\n",
       "    <tr>\n",
       "      <th>1192</th>\n",
       "      <td>47.72004</td>\n",
       "      <td>-122.34418</td>\n",
       "      <td>1951</td>\n",
       "      <td>1.0</td>\n",
       "      <td>2</td>\n",
       "      <td>19907.500000</td>\n",
       "    </tr>\n",
       "    <tr>\n",
       "      <th>2120</th>\n",
       "      <td>47.53160</td>\n",
       "      <td>-122.33300</td>\n",
       "      <td>1970</td>\n",
       "      <td>1.0</td>\n",
       "      <td>1</td>\n",
       "      <td>44000.000000</td>\n",
       "    </tr>\n",
       "    <tr>\n",
       "      <th>580</th>\n",
       "      <td>47.60940</td>\n",
       "      <td>-122.31506</td>\n",
       "      <td>1916</td>\n",
       "      <td>1.0</td>\n",
       "      <td>2</td>\n",
       "      <td>30061.000000</td>\n",
       "    </tr>\n",
       "    <tr>\n",
       "      <th>839</th>\n",
       "      <td>47.63203</td>\n",
       "      <td>-122.35337</td>\n",
       "      <td>2001</td>\n",
       "      <td>1.0</td>\n",
       "      <td>1</td>\n",
       "      <td>35805.000000</td>\n",
       "    </tr>\n",
       "  </tbody>\n",
       "</table>\n",
       "<p>1320 rows × 6 columns</p>\n",
       "</div>"
      ],
      "text/plain": [
       "      Latitude  Longitude  YearBuilt  NumberofBuildings  NumberofFloors  \\\n",
       "3162  47.62037 -122.33627       2012                1.0              11   \n",
       "953   47.68752 -122.29852       2000                1.0               2   \n",
       "2637  47.54774 -122.32091       1992                1.0               3   \n",
       "29    47.61558 -122.34186       1978                1.0               5   \n",
       "1126  47.55316 -122.32616       1982                1.0               2   \n",
       "...        ...        ...        ...                ...             ...   \n",
       "1045  47.56535 -122.34054       1953                1.0               1   \n",
       "1192  47.72004 -122.34418       1951                1.0               2   \n",
       "2120  47.53160 -122.33300       1970                1.0               1   \n",
       "580   47.60940 -122.31506       1916                1.0               2   \n",
       "839   47.63203 -122.35337       2001                1.0               1   \n",
       "\n",
       "      Surface_au_sol(sf)  \n",
       "3162        47856.636364  \n",
       "953         15693.000000  \n",
       "2637         7484.000000  \n",
       "29          10442.000000  \n",
       "1126        20014.500000  \n",
       "...                  ...  \n",
       "1045        39900.000000  \n",
       "1192        19907.500000  \n",
       "2120        44000.000000  \n",
       "580         30061.000000  \n",
       "839         35805.000000  \n",
       "\n",
       "[1320 rows x 6 columns]"
      ]
     },
     "execution_count": 381,
     "metadata": {},
     "output_type": "execute_result"
    }
   ],
   "source": [
    "X_train_EUI[liste_variables_quantitatives]"
   ]
  },
  {
   "cell_type": "markdown",
   "metadata": {},
   "source": [
    "### Imputation des variables quantitatives"
   ]
  },
  {
   "cell_type": "code",
   "execution_count": 382,
   "metadata": {
    "ExecuteTime": {
     "end_time": "2021-06-29T14:10:42.335566Z",
     "start_time": "2021-06-29T14:10:42.333566Z"
    }
   },
   "outputs": [],
   "source": [
    "imputer_quanti = SimpleImputer(strategy=\"median\")"
   ]
  },
  {
   "cell_type": "code",
   "execution_count": 383,
   "metadata": {
    "ExecuteTime": {
     "end_time": "2021-06-29T14:10:42.351567Z",
     "start_time": "2021-06-29T14:10:42.336566Z"
    }
   },
   "outputs": [
    {
     "name": "stderr",
     "output_type": "stream",
     "text": [
      "<ipython-input-383-f1c96264e1c9>:1: SettingWithCopyWarning: \n",
      "A value is trying to be set on a copy of a slice from a DataFrame.\n",
      "Try using .loc[row_indexer,col_indexer] = value instead\n",
      "\n",
      "See the caveats in the documentation: https://pandas.pydata.org/pandas-docs/stable/user_guide/indexing.html#returning-a-view-versus-a-copy\n",
      "  X_train_EUI[liste_variables_quantitatives] = imputer_quanti.fit_transform(X_train_EUI[liste_variables_quantitatives])\n",
      "C:\\ProgramData\\Anaconda3\\lib\\site-packages\\pandas\\core\\indexing.py:1738: SettingWithCopyWarning: \n",
      "A value is trying to be set on a copy of a slice from a DataFrame.\n",
      "Try using .loc[row_indexer,col_indexer] = value instead\n",
      "\n",
      "See the caveats in the documentation: https://pandas.pydata.org/pandas-docs/stable/user_guide/indexing.html#returning-a-view-versus-a-copy\n",
      "  self._setitem_single_column(loc, value[:, i].tolist(), pi)\n"
     ]
    }
   ],
   "source": [
    "X_train_EUI[liste_variables_quantitatives] = imputer_quanti.fit_transform(X_train_EUI[liste_variables_quantitatives])"
   ]
  },
  {
   "cell_type": "code",
   "execution_count": 384,
   "metadata": {
    "ExecuteTime": {
     "end_time": "2021-06-29T14:10:42.373568Z",
     "start_time": "2021-06-29T14:10:42.352567Z"
    },
    "scrolled": true
   },
   "outputs": [
    {
     "data": {
      "text/html": [
       "<div>\n",
       "<style scoped>\n",
       "    .dataframe tbody tr th:only-of-type {\n",
       "        vertical-align: middle;\n",
       "    }\n",
       "\n",
       "    .dataframe tbody tr th {\n",
       "        vertical-align: top;\n",
       "    }\n",
       "\n",
       "    .dataframe thead th {\n",
       "        text-align: right;\n",
       "    }\n",
       "</style>\n",
       "<table border=\"1\" class=\"dataframe\">\n",
       "  <thead>\n",
       "    <tr style=\"text-align: right;\">\n",
       "      <th></th>\n",
       "      <th>Latitude</th>\n",
       "      <th>Longitude</th>\n",
       "      <th>YearBuilt</th>\n",
       "      <th>NumberofBuildings</th>\n",
       "      <th>NumberofFloors</th>\n",
       "      <th>Surface_au_sol(sf)</th>\n",
       "    </tr>\n",
       "  </thead>\n",
       "  <tbody>\n",
       "    <tr>\n",
       "      <th>count</th>\n",
       "      <td>1320.000000</td>\n",
       "      <td>1320.000000</td>\n",
       "      <td>1320.000000</td>\n",
       "      <td>1320.000000</td>\n",
       "      <td>1320.000000</td>\n",
       "      <td>1.320000e+03</td>\n",
       "    </tr>\n",
       "    <tr>\n",
       "      <th>mean</th>\n",
       "      <td>47.616247</td>\n",
       "      <td>-122.332559</td>\n",
       "      <td>1962.246212</td>\n",
       "      <td>1.156818</td>\n",
       "      <td>4.200758</td>\n",
       "      <td>3.106277e+04</td>\n",
       "    </tr>\n",
       "    <tr>\n",
       "      <th>std</th>\n",
       "      <td>0.048964</td>\n",
       "      <td>0.024321</td>\n",
       "      <td>32.540533</td>\n",
       "      <td>3.187654</td>\n",
       "      <td>6.912526</td>\n",
       "      <td>4.757006e+04</td>\n",
       "    </tr>\n",
       "    <tr>\n",
       "      <th>min</th>\n",
       "      <td>47.510180</td>\n",
       "      <td>-122.411820</td>\n",
       "      <td>1900.000000</td>\n",
       "      <td>0.000000</td>\n",
       "      <td>0.000000</td>\n",
       "      <td>2.216970e+02</td>\n",
       "    </tr>\n",
       "    <tr>\n",
       "      <th>25%</th>\n",
       "      <td>47.584275</td>\n",
       "      <td>-122.342598</td>\n",
       "      <td>1930.000000</td>\n",
       "      <td>1.000000</td>\n",
       "      <td>1.000000</td>\n",
       "      <td>1.265917e+04</td>\n",
       "    </tr>\n",
       "    <tr>\n",
       "      <th>50%</th>\n",
       "      <td>47.612380</td>\n",
       "      <td>-122.332890</td>\n",
       "      <td>1966.000000</td>\n",
       "      <td>1.000000</td>\n",
       "      <td>2.000000</td>\n",
       "      <td>2.097500e+04</td>\n",
       "    </tr>\n",
       "    <tr>\n",
       "      <th>75%</th>\n",
       "      <td>47.650627</td>\n",
       "      <td>-122.321848</td>\n",
       "      <td>1989.000000</td>\n",
       "      <td>1.000000</td>\n",
       "      <td>4.000000</td>\n",
       "      <td>3.236550e+04</td>\n",
       "    </tr>\n",
       "    <tr>\n",
       "      <th>max</th>\n",
       "      <td>47.733870</td>\n",
       "      <td>-122.258640</td>\n",
       "      <td>2015.000000</td>\n",
       "      <td>111.000000</td>\n",
       "      <td>99.000000</td>\n",
       "      <td>1.100000e+06</td>\n",
       "    </tr>\n",
       "  </tbody>\n",
       "</table>\n",
       "</div>"
      ],
      "text/plain": [
       "          Latitude    Longitude    YearBuilt  NumberofBuildings  \\\n",
       "count  1320.000000  1320.000000  1320.000000        1320.000000   \n",
       "mean     47.616247  -122.332559  1962.246212           1.156818   \n",
       "std       0.048964     0.024321    32.540533           3.187654   \n",
       "min      47.510180  -122.411820  1900.000000           0.000000   \n",
       "25%      47.584275  -122.342598  1930.000000           1.000000   \n",
       "50%      47.612380  -122.332890  1966.000000           1.000000   \n",
       "75%      47.650627  -122.321848  1989.000000           1.000000   \n",
       "max      47.733870  -122.258640  2015.000000         111.000000   \n",
       "\n",
       "       NumberofFloors  Surface_au_sol(sf)  \n",
       "count     1320.000000        1.320000e+03  \n",
       "mean         4.200758        3.106277e+04  \n",
       "std          6.912526        4.757006e+04  \n",
       "min          0.000000        2.216970e+02  \n",
       "25%          1.000000        1.265917e+04  \n",
       "50%          2.000000        2.097500e+04  \n",
       "75%          4.000000        3.236550e+04  \n",
       "max         99.000000        1.100000e+06  "
      ]
     },
     "execution_count": 384,
     "metadata": {},
     "output_type": "execute_result"
    }
   ],
   "source": [
    "X_train_EUI[liste_variables_quantitatives].describe()"
   ]
  },
  {
   "cell_type": "code",
   "execution_count": 385,
   "metadata": {
    "ExecuteTime": {
     "end_time": "2021-06-29T14:10:42.377569Z",
     "start_time": "2021-06-29T14:10:42.374569Z"
    },
    "scrolled": false
   },
   "outputs": [
    {
     "data": {
      "text/plain": [
       "array([ 4.7612380e+01, -1.2233289e+02,  1.9660000e+03,  1.0000000e+00,  2.0000000e+00,  2.0975000e+04])"
      ]
     },
     "execution_count": 385,
     "metadata": {},
     "output_type": "execute_result"
    }
   ],
   "source": [
    "imputer_quanti.statistics_"
   ]
  },
  {
   "cell_type": "markdown",
   "metadata": {},
   "source": [
    "### Imputation des variables qualitatives"
   ]
  },
  {
   "cell_type": "code",
   "execution_count": 386,
   "metadata": {
    "ExecuteTime": {
     "end_time": "2021-06-29T14:10:42.615582Z",
     "start_time": "2021-06-29T14:10:42.594581Z"
    }
   },
   "outputs": [
    {
     "data": {
      "text/html": [
       "<div>\n",
       "<style scoped>\n",
       "    .dataframe tbody tr th:only-of-type {\n",
       "        vertical-align: middle;\n",
       "    }\n",
       "\n",
       "    .dataframe tbody tr th {\n",
       "        vertical-align: top;\n",
       "    }\n",
       "\n",
       "    .dataframe thead th {\n",
       "        text-align: right;\n",
       "    }\n",
       "</style>\n",
       "<table border=\"1\" class=\"dataframe\">\n",
       "  <thead>\n",
       "    <tr style=\"text-align: right;\">\n",
       "      <th></th>\n",
       "      <th>BuildingType</th>\n",
       "      <th>PrimaryPropertyType</th>\n",
       "      <th>ZipCode</th>\n",
       "      <th>CouncilDistrictCode</th>\n",
       "      <th>Neighborhood</th>\n",
       "      <th>Latitude</th>\n",
       "      <th>Longitude</th>\n",
       "      <th>YearBuilt</th>\n",
       "      <th>NumberofBuildings</th>\n",
       "      <th>NumberofFloors</th>\n",
       "      <th>LargestPropertyUseType</th>\n",
       "      <th>SecondLargestPropertyUseType</th>\n",
       "      <th>ThirdLargestPropertyUseType</th>\n",
       "      <th>Surface_au_sol(sf)</th>\n",
       "    </tr>\n",
       "  </thead>\n",
       "  <tbody>\n",
       "    <tr>\n",
       "      <th>3162</th>\n",
       "      <td>NonResidential</td>\n",
       "      <td>Large Office</td>\n",
       "      <td>98109.0</td>\n",
       "      <td>7</td>\n",
       "      <td>LAKE UNION</td>\n",
       "      <td>47.62037</td>\n",
       "      <td>-122.33627</td>\n",
       "      <td>2012.0</td>\n",
       "      <td>1.0</td>\n",
       "      <td>11.0</td>\n",
       "      <td>Office</td>\n",
       "      <td>Parking</td>\n",
       "      <td>Other</td>\n",
       "      <td>47856.636364</td>\n",
       "    </tr>\n",
       "    <tr>\n",
       "      <th>953</th>\n",
       "      <td>NonResidential</td>\n",
       "      <td>Worship Facility</td>\n",
       "      <td>98115.0</td>\n",
       "      <td>4</td>\n",
       "      <td>NORTHEAST</td>\n",
       "      <td>47.68752</td>\n",
       "      <td>-122.29852</td>\n",
       "      <td>2000.0</td>\n",
       "      <td>1.0</td>\n",
       "      <td>2.0</td>\n",
       "      <td>Worship Facility</td>\n",
       "      <td>NaN</td>\n",
       "      <td>NaN</td>\n",
       "      <td>15693.000000</td>\n",
       "    </tr>\n",
       "    <tr>\n",
       "      <th>2637</th>\n",
       "      <td>NonResidential</td>\n",
       "      <td>Hotel</td>\n",
       "      <td>98108.0</td>\n",
       "      <td>2</td>\n",
       "      <td>GREATER DUWAMISH</td>\n",
       "      <td>47.54774</td>\n",
       "      <td>-122.32091</td>\n",
       "      <td>1992.0</td>\n",
       "      <td>1.0</td>\n",
       "      <td>3.0</td>\n",
       "      <td>Hotel</td>\n",
       "      <td>NaN</td>\n",
       "      <td>NaN</td>\n",
       "      <td>7484.000000</td>\n",
       "    </tr>\n",
       "    <tr>\n",
       "      <th>29</th>\n",
       "      <td>NonResidential</td>\n",
       "      <td>Hotel</td>\n",
       "      <td>98121.0</td>\n",
       "      <td>7</td>\n",
       "      <td>DOWNTOWN</td>\n",
       "      <td>47.61558</td>\n",
       "      <td>-122.34186</td>\n",
       "      <td>1978.0</td>\n",
       "      <td>1.0</td>\n",
       "      <td>5.0</td>\n",
       "      <td>Hotel</td>\n",
       "      <td>NaN</td>\n",
       "      <td>NaN</td>\n",
       "      <td>10442.000000</td>\n",
       "    </tr>\n",
       "    <tr>\n",
       "      <th>1126</th>\n",
       "      <td>NonResidential</td>\n",
       "      <td>Small- and Mid-Sized Office</td>\n",
       "      <td>98108.0</td>\n",
       "      <td>2</td>\n",
       "      <td>GREATER DUWAMISH</td>\n",
       "      <td>47.55316</td>\n",
       "      <td>-122.32616</td>\n",
       "      <td>1982.0</td>\n",
       "      <td>1.0</td>\n",
       "      <td>2.0</td>\n",
       "      <td>Office</td>\n",
       "      <td>Non-Refrigerated Warehouse</td>\n",
       "      <td>NaN</td>\n",
       "      <td>20014.500000</td>\n",
       "    </tr>\n",
       "    <tr>\n",
       "      <th>...</th>\n",
       "      <td>...</td>\n",
       "      <td>...</td>\n",
       "      <td>...</td>\n",
       "      <td>...</td>\n",
       "      <td>...</td>\n",
       "      <td>...</td>\n",
       "      <td>...</td>\n",
       "      <td>...</td>\n",
       "      <td>...</td>\n",
       "      <td>...</td>\n",
       "      <td>...</td>\n",
       "      <td>...</td>\n",
       "      <td>...</td>\n",
       "      <td>...</td>\n",
       "    </tr>\n",
       "    <tr>\n",
       "      <th>1045</th>\n",
       "      <td>NonResidential</td>\n",
       "      <td>Retail Store</td>\n",
       "      <td>98134.0</td>\n",
       "      <td>2</td>\n",
       "      <td>GREATER DUWAMISH</td>\n",
       "      <td>47.56535</td>\n",
       "      <td>-122.34054</td>\n",
       "      <td>1953.0</td>\n",
       "      <td>1.0</td>\n",
       "      <td>1.0</td>\n",
       "      <td>Retail Store</td>\n",
       "      <td>Non-Refrigerated Warehouse</td>\n",
       "      <td>NaN</td>\n",
       "      <td>39900.000000</td>\n",
       "    </tr>\n",
       "    <tr>\n",
       "      <th>1192</th>\n",
       "      <td>NonResidential</td>\n",
       "      <td>Small- and Mid-Sized Office</td>\n",
       "      <td>98133.0</td>\n",
       "      <td>5</td>\n",
       "      <td>NORTHWEST</td>\n",
       "      <td>47.72004</td>\n",
       "      <td>-122.34418</td>\n",
       "      <td>1951.0</td>\n",
       "      <td>1.0</td>\n",
       "      <td>2.0</td>\n",
       "      <td>Office</td>\n",
       "      <td>Non-Refrigerated Warehouse</td>\n",
       "      <td>NaN</td>\n",
       "      <td>19907.500000</td>\n",
       "    </tr>\n",
       "    <tr>\n",
       "      <th>2120</th>\n",
       "      <td>NonResidential</td>\n",
       "      <td>Warehouse</td>\n",
       "      <td>98108.0</td>\n",
       "      <td>1</td>\n",
       "      <td>GREATER DUWAMISH</td>\n",
       "      <td>47.53160</td>\n",
       "      <td>-122.33300</td>\n",
       "      <td>1970.0</td>\n",
       "      <td>1.0</td>\n",
       "      <td>1.0</td>\n",
       "      <td>Non-Refrigerated Warehouse</td>\n",
       "      <td>NaN</td>\n",
       "      <td>NaN</td>\n",
       "      <td>44000.000000</td>\n",
       "    </tr>\n",
       "    <tr>\n",
       "      <th>580</th>\n",
       "      <td>NonResidential</td>\n",
       "      <td>University</td>\n",
       "      <td>98122.0</td>\n",
       "      <td>3</td>\n",
       "      <td>CENTRAL</td>\n",
       "      <td>47.60940</td>\n",
       "      <td>-122.31506</td>\n",
       "      <td>1916.0</td>\n",
       "      <td>1.0</td>\n",
       "      <td>2.0</td>\n",
       "      <td>College/University</td>\n",
       "      <td>Parking</td>\n",
       "      <td>NaN</td>\n",
       "      <td>30061.000000</td>\n",
       "    </tr>\n",
       "    <tr>\n",
       "      <th>839</th>\n",
       "      <td>SPS-District K-12</td>\n",
       "      <td>K-12 School</td>\n",
       "      <td>98109.0</td>\n",
       "      <td>7</td>\n",
       "      <td>MAGNOLIA / QUEEN ANNE</td>\n",
       "      <td>47.63203</td>\n",
       "      <td>-122.35337</td>\n",
       "      <td>2001.0</td>\n",
       "      <td>1.0</td>\n",
       "      <td>1.0</td>\n",
       "      <td>K-12 School</td>\n",
       "      <td>NaN</td>\n",
       "      <td>NaN</td>\n",
       "      <td>35805.000000</td>\n",
       "    </tr>\n",
       "  </tbody>\n",
       "</table>\n",
       "<p>1320 rows × 14 columns</p>\n",
       "</div>"
      ],
      "text/plain": [
       "           BuildingType          PrimaryPropertyType  ZipCode  \\\n",
       "3162     NonResidential                 Large Office  98109.0   \n",
       "953      NonResidential             Worship Facility  98115.0   \n",
       "2637     NonResidential                        Hotel  98108.0   \n",
       "29       NonResidential                        Hotel  98121.0   \n",
       "1126     NonResidential  Small- and Mid-Sized Office  98108.0   \n",
       "...                 ...                          ...      ...   \n",
       "1045     NonResidential                 Retail Store  98134.0   \n",
       "1192     NonResidential  Small- and Mid-Sized Office  98133.0   \n",
       "2120     NonResidential                    Warehouse  98108.0   \n",
       "580      NonResidential                   University  98122.0   \n",
       "839   SPS-District K-12                  K-12 School  98109.0   \n",
       "\n",
       "      CouncilDistrictCode           Neighborhood  Latitude  Longitude  \\\n",
       "3162                    7             LAKE UNION  47.62037 -122.33627   \n",
       "953                     4              NORTHEAST  47.68752 -122.29852   \n",
       "2637                    2       GREATER DUWAMISH  47.54774 -122.32091   \n",
       "29                      7               DOWNTOWN  47.61558 -122.34186   \n",
       "1126                    2       GREATER DUWAMISH  47.55316 -122.32616   \n",
       "...                   ...                    ...       ...        ...   \n",
       "1045                    2       GREATER DUWAMISH  47.56535 -122.34054   \n",
       "1192                    5              NORTHWEST  47.72004 -122.34418   \n",
       "2120                    1       GREATER DUWAMISH  47.53160 -122.33300   \n",
       "580                     3                CENTRAL  47.60940 -122.31506   \n",
       "839                     7  MAGNOLIA / QUEEN ANNE  47.63203 -122.35337   \n",
       "\n",
       "      YearBuilt  NumberofBuildings  NumberofFloors  \\\n",
       "3162     2012.0                1.0            11.0   \n",
       "953      2000.0                1.0             2.0   \n",
       "2637     1992.0                1.0             3.0   \n",
       "29       1978.0                1.0             5.0   \n",
       "1126     1982.0                1.0             2.0   \n",
       "...         ...                ...             ...   \n",
       "1045     1953.0                1.0             1.0   \n",
       "1192     1951.0                1.0             2.0   \n",
       "2120     1970.0                1.0             1.0   \n",
       "580      1916.0                1.0             2.0   \n",
       "839      2001.0                1.0             1.0   \n",
       "\n",
       "          LargestPropertyUseType SecondLargestPropertyUseType  \\\n",
       "3162                      Office                      Parking   \n",
       "953             Worship Facility                          NaN   \n",
       "2637                       Hotel                          NaN   \n",
       "29                         Hotel                          NaN   \n",
       "1126                      Office   Non-Refrigerated Warehouse   \n",
       "...                          ...                          ...   \n",
       "1045                Retail Store   Non-Refrigerated Warehouse   \n",
       "1192                      Office   Non-Refrigerated Warehouse   \n",
       "2120  Non-Refrigerated Warehouse                          NaN   \n",
       "580           College/University                      Parking   \n",
       "839                  K-12 School                          NaN   \n",
       "\n",
       "     ThirdLargestPropertyUseType  Surface_au_sol(sf)  \n",
       "3162                       Other        47856.636364  \n",
       "953                          NaN        15693.000000  \n",
       "2637                         NaN         7484.000000  \n",
       "29                           NaN        10442.000000  \n",
       "1126                         NaN        20014.500000  \n",
       "...                          ...                 ...  \n",
       "1045                         NaN        39900.000000  \n",
       "1192                         NaN        19907.500000  \n",
       "2120                         NaN        44000.000000  \n",
       "580                          NaN        30061.000000  \n",
       "839                          NaN        35805.000000  \n",
       "\n",
       "[1320 rows x 14 columns]"
      ]
     },
     "execution_count": 386,
     "metadata": {},
     "output_type": "execute_result"
    }
   ],
   "source": [
    "X_train_EUI"
   ]
  },
  {
   "cell_type": "code",
   "execution_count": 387,
   "metadata": {
    "ExecuteTime": {
     "end_time": "2021-06-29T14:10:42.628583Z",
     "start_time": "2021-06-29T14:10:42.616582Z"
    },
    "scrolled": false
   },
   "outputs": [
    {
     "name": "stdout",
     "output_type": "stream",
     "text": [
      "<class 'pandas.core.frame.DataFrame'>\n",
      "Int64Index: 1320 entries, 3162 to 839\n",
      "Data columns (total 8 columns):\n",
      " #   Column                        Non-Null Count  Dtype  \n",
      "---  ------                        --------------  -----  \n",
      " 0   BuildingType                  1320 non-null   object \n",
      " 1   PrimaryPropertyType           1320 non-null   object \n",
      " 2   ZipCode                       1307 non-null   float64\n",
      " 3   CouncilDistrictCode           1320 non-null   int64  \n",
      " 4   Neighborhood                  1320 non-null   object \n",
      " 5   LargestPropertyUseType        1316 non-null   object \n",
      " 6   SecondLargestPropertyUseType  686 non-null    object \n",
      " 7   ThirdLargestPropertyUseType   292 non-null    object \n",
      "dtypes: float64(1), int64(1), object(6)\n",
      "memory usage: 92.8+ KB\n"
     ]
    }
   ],
   "source": [
    "X_train_EUI[liste_variables_qualitatives].info()"
   ]
  },
  {
   "cell_type": "code",
   "execution_count": 388,
   "metadata": {
    "ExecuteTime": {
     "end_time": "2021-06-29T14:10:42.648584Z",
     "start_time": "2021-06-29T14:10:42.629583Z"
    }
   },
   "outputs": [
    {
     "name": "stderr",
     "output_type": "stream",
     "text": [
      "<ipython-input-388-9d6da41c6e53>:5: SettingWithCopyWarning: \n",
      "A value is trying to be set on a copy of a slice from a DataFrame.\n",
      "Try using .loc[row_indexer,col_indexer] = value instead\n",
      "\n",
      "See the caveats in the documentation: https://pandas.pydata.org/pandas-docs/stable/user_guide/indexing.html#returning-a-view-versus-a-copy\n",
      "  X_train_EUI[['ZipCode']] = imputer_quali_ZC.fit_transform(X_train_EUI[['ZipCode']])\n",
      "C:\\ProgramData\\Anaconda3\\lib\\site-packages\\pandas\\core\\indexing.py:1738: SettingWithCopyWarning: \n",
      "A value is trying to be set on a copy of a slice from a DataFrame.\n",
      "Try using .loc[row_indexer,col_indexer] = value instead\n",
      "\n",
      "See the caveats in the documentation: https://pandas.pydata.org/pandas-docs/stable/user_guide/indexing.html#returning-a-view-versus-a-copy\n",
      "  self._setitem_single_column(loc, value[:, i].tolist(), pi)\n",
      "<ipython-input-388-9d6da41c6e53>:6: SettingWithCopyWarning: \n",
      "A value is trying to be set on a copy of a slice from a DataFrame.\n",
      "Try using .loc[row_indexer,col_indexer] = value instead\n",
      "\n",
      "See the caveats in the documentation: https://pandas.pydata.org/pandas-docs/stable/user_guide/indexing.html#returning-a-view-versus-a-copy\n",
      "  X_train_EUI[['CouncilDistrictCode']] = imputer_quali_CDC.fit_transform(X_train_EUI[['CouncilDistrictCode']])\n",
      "C:\\ProgramData\\Anaconda3\\lib\\site-packages\\pandas\\core\\indexing.py:1738: SettingWithCopyWarning: \n",
      "A value is trying to be set on a copy of a slice from a DataFrame.\n",
      "Try using .loc[row_indexer,col_indexer] = value instead\n",
      "\n",
      "See the caveats in the documentation: https://pandas.pydata.org/pandas-docs/stable/user_guide/indexing.html#returning-a-view-versus-a-copy\n",
      "  self._setitem_single_column(loc, value[:, i].tolist(), pi)\n",
      "<ipython-input-388-9d6da41c6e53>:7: SettingWithCopyWarning: \n",
      "A value is trying to be set on a copy of a slice from a DataFrame.\n",
      "Try using .loc[row_indexer,col_indexer] = value instead\n",
      "\n",
      "See the caveats in the documentation: https://pandas.pydata.org/pandas-docs/stable/user_guide/indexing.html#returning-a-view-versus-a-copy\n",
      "  X_train_EUI[['BuildingType',\n",
      "C:\\ProgramData\\Anaconda3\\lib\\site-packages\\pandas\\core\\indexing.py:1738: SettingWithCopyWarning: \n",
      "A value is trying to be set on a copy of a slice from a DataFrame.\n",
      "Try using .loc[row_indexer,col_indexer] = value instead\n",
      "\n",
      "See the caveats in the documentation: https://pandas.pydata.org/pandas-docs/stable/user_guide/indexing.html#returning-a-view-versus-a-copy\n",
      "  self._setitem_single_column(loc, value[:, i].tolist(), pi)\n"
     ]
    }
   ],
   "source": [
    "imputer_quali_ZC = SimpleImputer(strategy='constant', fill_value=None)     # fill_value will be 0 when imputing numerical data and “missing_value” for strings or object data types\n",
    "imputer_quali_CDC = SimpleImputer(strategy='constant', fill_value=None) \n",
    "imputer_quali_autre = SimpleImputer(strategy='constant', fill_value=None) \n",
    "\n",
    "X_train_EUI[['ZipCode']] = imputer_quali_ZC.fit_transform(X_train_EUI[['ZipCode']])\n",
    "X_train_EUI[['CouncilDistrictCode']] = imputer_quali_CDC.fit_transform(X_train_EUI[['CouncilDistrictCode']])\n",
    "X_train_EUI[['BuildingType',\n",
    " 'PrimaryPropertyType',\n",
    " 'Neighborhood',\n",
    " 'LargestPropertyUseType',\n",
    " 'SecondLargestPropertyUseType',\n",
    " 'ThirdLargestPropertyUseType']\n",
    "] = imputer_quali_autre.fit_transform(X_train_EUI[['BuildingType',      \n",
    " 'PrimaryPropertyType',\n",
    " 'Neighborhood',\n",
    " 'LargestPropertyUseType',\n",
    " 'SecondLargestPropertyUseType',\n",
    " 'ThirdLargestPropertyUseType']])"
   ]
  },
  {
   "cell_type": "code",
   "execution_count": 389,
   "metadata": {
    "ExecuteTime": {
     "end_time": "2021-06-29T14:10:42.657585Z",
     "start_time": "2021-06-29T14:10:42.649584Z"
    }
   },
   "outputs": [
    {
     "data": {
      "text/html": [
       "<div>\n",
       "<style scoped>\n",
       "    .dataframe tbody tr th:only-of-type {\n",
       "        vertical-align: middle;\n",
       "    }\n",
       "\n",
       "    .dataframe tbody tr th {\n",
       "        vertical-align: top;\n",
       "    }\n",
       "\n",
       "    .dataframe thead th {\n",
       "        text-align: right;\n",
       "    }\n",
       "</style>\n",
       "<table border=\"1\" class=\"dataframe\">\n",
       "  <thead>\n",
       "    <tr style=\"text-align: right;\">\n",
       "      <th></th>\n",
       "      <th>BuildingType</th>\n",
       "      <th>PrimaryPropertyType</th>\n",
       "      <th>ZipCode</th>\n",
       "      <th>CouncilDistrictCode</th>\n",
       "      <th>Neighborhood</th>\n",
       "      <th>Latitude</th>\n",
       "      <th>Longitude</th>\n",
       "      <th>YearBuilt</th>\n",
       "      <th>NumberofBuildings</th>\n",
       "      <th>NumberofFloors</th>\n",
       "      <th>LargestPropertyUseType</th>\n",
       "      <th>SecondLargestPropertyUseType</th>\n",
       "      <th>ThirdLargestPropertyUseType</th>\n",
       "      <th>Surface_au_sol(sf)</th>\n",
       "    </tr>\n",
       "  </thead>\n",
       "  <tbody>\n",
       "  </tbody>\n",
       "</table>\n",
       "</div>"
      ],
      "text/plain": [
       "Empty DataFrame\n",
       "Columns: [BuildingType, PrimaryPropertyType, ZipCode, CouncilDistrictCode, Neighborhood, Latitude, Longitude, YearBuilt, NumberofBuildings, NumberofFloors, LargestPropertyUseType, SecondLargestPropertyUseType, ThirdLargestPropertyUseType, Surface_au_sol(sf)]\n",
       "Index: []"
      ]
     },
     "execution_count": 389,
     "metadata": {},
     "output_type": "execute_result"
    }
   ],
   "source": [
    "X_train_EUI[X_train_EUI.isnull().any(axis=1)]"
   ]
  },
  {
   "cell_type": "markdown",
   "metadata": {
    "ExecuteTime": {
     "end_time": "2021-06-16T08:40:38.290903Z",
     "start_time": "2021-06-16T08:40:38.271917Z"
    }
   },
   "source": [
    "## One-hot encoding (variables qualitatives)"
   ]
  },
  {
   "cell_type": "code",
   "execution_count": 390,
   "metadata": {
    "ExecuteTime": {
     "end_time": "2021-06-29T14:10:42.853596Z",
     "start_time": "2021-06-29T14:10:42.850596Z"
    }
   },
   "outputs": [
    {
     "data": {
      "text/plain": [
       "['BuildingType',\n",
       " 'PrimaryPropertyType',\n",
       " 'ZipCode',\n",
       " 'CouncilDistrictCode',\n",
       " 'Neighborhood',\n",
       " 'LargestPropertyUseType',\n",
       " 'SecondLargestPropertyUseType',\n",
       " 'ThirdLargestPropertyUseType']"
      ]
     },
     "execution_count": 390,
     "metadata": {},
     "output_type": "execute_result"
    }
   ],
   "source": [
    "liste_variables_qualitatives"
   ]
  },
  {
   "cell_type": "code",
   "execution_count": 391,
   "metadata": {
    "ExecuteTime": {
     "end_time": "2021-06-29T14:10:42.866597Z",
     "start_time": "2021-06-29T14:10:42.854596Z"
    }
   },
   "outputs": [
    {
     "data": {
      "text/plain": [
       "<1320x235 sparse matrix of type '<class 'numpy.float64'>'\n",
       "\twith 10560 stored elements in Compressed Sparse Row format>"
      ]
     },
     "metadata": {},
     "output_type": "display_data"
    }
   ],
   "source": [
    "# sklearn force à séparer l'encodage des variables strings et variables numériques\n",
    "encoder = OneHotEncoder(handle_unknown='ignore')\n",
    "\n",
    "X_train_EUI_1hot = encoder.fit_transform(X_train_EUI[liste_variables_qualitatives])\n",
    "\n",
    "display(X_train_EUI_1hot)"
   ]
  },
  {
   "cell_type": "code",
   "execution_count": 392,
   "metadata": {
    "ExecuteTime": {
     "end_time": "2021-06-29T14:10:42.872597Z",
     "start_time": "2021-06-29T14:10:42.867597Z"
    }
   },
   "outputs": [
    {
     "data": {
      "text/plain": [
       "[array(['Campus', 'NonResidential', 'Nonresidential COS', 'SPS-District K-12'], dtype=object),\n",
       " array(['Distribution Center', 'Hospital', 'Hotel', 'K-12 School', 'Laboratory', 'Large Office', 'Low-Rise Multifamily', 'Medical Office', 'Mixed Use Property',\n",
       "        'Office', 'Other', 'Refrigerated Warehouse', 'Residence Hall', 'Restaurant', 'Retail Store', 'Self-Storage Facility', 'Senior Care Community',\n",
       "        'Small- and Mid-Sized Office', 'Supermarket / Grocery Store', 'University', 'Warehouse', 'Worship Facility'], dtype=object),\n",
       " array([    0., 98011., 98013., 98020., 98033., 98053., 98070., 98101., 98102., 98103., 98104., 98105., 98106., 98107., 98108., 98109., 98111., 98112., 98113.,\n",
       "        98114., 98115., 98116., 98117., 98118., 98119., 98121., 98122., 98124., 98125., 98126., 98133., 98134., 98136., 98144., 98146., 98154., 98155., 98164.,\n",
       "        98165., 98168., 98177., 98178., 98181., 98185., 98195., 98199.]),\n",
       " array([1, 2, 3, 4, 5, 6, 7], dtype=int64),\n",
       " array(['BALLARD', 'Ballard', 'CENTRAL', 'Central', 'DELRIDGE', 'DELRIDGE NEIGHBORHOODS', 'DOWNTOWN', 'Delridge', 'EAST', 'GREATER DUWAMISH', 'LAKE UNION',\n",
       "        'MAGNOLIA / QUEEN ANNE', 'NORTH', 'NORTHEAST', 'NORTHWEST', 'North', 'Northwest', 'SOUTHEAST', 'SOUTHWEST'], dtype=object),\n",
       " array(['Adult Education', 'Automobile Dealership', 'Bank Branch', 'College/University', 'Data Center', 'Distribution Center', 'Financial Office',\n",
       "        'Fire Station', 'Fitness Center/Health Club/Gym', 'Hospital (General Medical & Surgical)', 'Hotel', 'K-12 School', 'Laboratory', 'Library',\n",
       "        'Lifestyle Center', 'Manufacturing/Industrial Plant', 'Medical Office', 'Movie Theater', 'Multifamily Housing', 'Museum', 'Non-Refrigerated Warehouse',\n",
       "        'Office', 'Other', 'Other - Education', 'Other - Entertainment/Public Assembly', 'Other - Lodging/Residential', 'Other - Mall',\n",
       "        'Other - Public Services', 'Other - Recreation', 'Other - Restaurant/Bar', 'Other - Services', 'Other - Utility', 'Other/Specialty Hospital', 'Parking',\n",
       "        'Performing Arts', 'Personal Services (Health/Beauty, Dry Cleaning, etc)', 'Pre-school/Daycare', 'Prison/Incarceration', 'Refrigerated Warehouse',\n",
       "        'Repair Services (Vehicle, Shoe, Locksmith, etc)', 'Residence Hall/Dormitory', 'Residential Care Facility', 'Restaurant', 'Retail Store',\n",
       "        'Self-Storage Facility', 'Senior Care Community', 'Social/Meeting Hall', 'Strip Mall', 'Supermarket/Grocery Store',\n",
       "        'Urgent Care/Clinic/Other Outpatient', 'Wholesale Club/Supercenter', 'Worship Facility', 'missing_value'], dtype=object),\n",
       " array(['Adult Education', 'Automobile Dealership', 'Bank Branch', 'Bar/Nightclub', 'College/University', 'Courthouse', 'Data Center', 'Distribution Center',\n",
       "        'Enclosed Mall', 'Financial Office', 'Fitness Center/Health Club/Gym', 'Food Sales', 'Food Service', 'Hospital (General Medical & Surgical)', 'Hotel',\n",
       "        'K-12 School', 'Laboratory', 'Manufacturing/Industrial Plant', 'Medical Office', 'Movie Theater', 'Multifamily Housing', 'Non-Refrigerated Warehouse',\n",
       "        'Office', 'Other', 'Other - Education', 'Other - Entertainment/Public Assembly', 'Other - Public Services', 'Other - Recreation',\n",
       "        'Other - Restaurant/Bar', 'Other - Services', 'Parking', 'Performing Arts', 'Personal Services (Health/Beauty, Dry Cleaning, etc)',\n",
       "        'Pre-school/Daycare', 'Refrigerated Warehouse', 'Repair Services (Vehicle, Shoe, Locksmith, etc)', 'Residence Hall/Dormitory', 'Restaurant',\n",
       "        'Retail Store', 'Self-Storage Facility', 'Social/Meeting Hall', 'Supermarket/Grocery Store', 'Swimming Pool', 'Vocational School', 'Worship Facility',\n",
       "        'missing_value'], dtype=object),\n",
       " array(['Bank Branch', 'Bar/Nightclub', 'Convenience Store without Gas Station', 'Data Center', 'Distribution Center', 'Fast Food Restaurant',\n",
       "        'Financial Office', 'Fitness Center/Health Club/Gym', 'Food Service', 'Hotel', 'K-12 School', 'Manufacturing/Industrial Plant', 'Medical Office',\n",
       "        'Multifamily Housing', 'Non-Refrigerated Warehouse', 'Office', 'Other', 'Other - Education', 'Other - Entertainment/Public Assembly',\n",
       "        'Other - Recreation', 'Other - Restaurant/Bar', 'Other - Services', 'Other - Technology/Science', 'Other/Specialty Hospital', 'Parking',\n",
       "        'Personal Services (Health/Beauty, Dry Cleaning, etc)', 'Pre-school/Daycare', 'Refrigerated Warehouse', 'Restaurant', 'Retail Store',\n",
       "        'Self-Storage Facility', 'Social/Meeting Hall', 'Strip Mall', 'Supermarket/Grocery Store', 'Swimming Pool', 'Vocational School', 'Worship Facility',\n",
       "        'missing_value'], dtype=object)]"
      ]
     },
     "execution_count": 392,
     "metadata": {},
     "output_type": "execute_result"
    }
   ],
   "source": [
    "encoder.categories_"
   ]
  },
  {
   "cell_type": "markdown",
   "metadata": {},
   "source": [
    "## Recalibrage (variables quantitatives)"
   ]
  },
  {
   "cell_type": "code",
   "execution_count": 393,
   "metadata": {
    "ExecuteTime": {
     "end_time": "2021-06-29T14:10:44.569694Z",
     "start_time": "2021-06-29T14:10:43.107610Z"
    }
   },
   "outputs": [
    {
     "data": {
      "image/png": "[encoded data removed]",
      "text/plain": [
       "<Figure size 576x396 with 6 Axes>"
      ]
     },
     "metadata": {},
     "output_type": "display_data"
    }
   ],
   "source": [
    "# Tracé des variables quantitatives avant recalibrage\n",
    "plt.style.use('seaborn')\n",
    "X_train_EUI[liste_variables_quantitatives].hist(bins=100)#, figsize=(22,15))\n",
    "plt.show()"
   ]
  },
  {
   "cell_type": "code",
   "execution_count": 394,
   "metadata": {
    "ExecuteTime": {
     "end_time": "2021-06-29T14:10:44.589695Z",
     "start_time": "2021-06-29T14:10:44.570694Z"
    },
    "scrolled": true
   },
   "outputs": [],
   "source": [
    "qt = QuantileTransformer(n_quantiles=1000, random_state=0, output_distribution='normal')\n",
    "X_train_EUI_qt = qt.fit_transform(X_train_EUI[liste_variables_quantitatives])"
   ]
  },
  {
   "cell_type": "code",
   "execution_count": 395,
   "metadata": {
    "ExecuteTime": {
     "end_time": "2021-06-29T14:10:45.992775Z",
     "start_time": "2021-06-29T14:10:44.590695Z"
    }
   },
   "outputs": [
    {
     "data": {
      "image/png": "[encoded data removed]",
      "text/plain": [
       "<Figure size 576x396 with 6 Axes>"
      ]
     },
     "metadata": {},
     "output_type": "display_data"
    }
   ],
   "source": [
    "# Tracé des variables quantitatives après recalibrage\n",
    "df_qt = pd.DataFrame(X_train_EUI_qt, columns=liste_variables_quantitatives)\n",
    "\n",
    "plt.style.use('seaborn')\n",
    "df_qt.hist(bins=100)\n",
    "plt.show()"
   ]
  },
  {
   "cell_type": "markdown",
   "metadata": {},
   "source": [
    "## Pipeline (imputation, one-hot encoding, recalibrage)"
   ]
  },
  {
   "cell_type": "markdown",
   "metadata": {
    "ExecuteTime": {
     "end_time": "2021-06-16T19:48:04.018795Z",
     "start_time": "2021-06-16T19:48:04.009800Z"
    }
   },
   "source": [
    "On combine les opérations décrites dans les chapitres précédents (imputation, one-hot encoding, recalibrage) en un workflow automatisé."
   ]
  },
  {
   "cell_type": "code",
   "execution_count": 396,
   "metadata": {
    "ExecuteTime": {
     "end_time": "2021-06-29T14:10:45.999776Z",
     "start_time": "2021-06-29T14:10:45.993776Z"
    }
   },
   "outputs": [],
   "source": [
    "# On recrée les jeux de train/test avec split\n",
    "X1 = df1[liste_variables_pour_modelisation].copy()\n",
    "X_train_EUI, X_test_EUI, y_train_EUI, y_test_EUI = train_test_split(X1, y1_EUI, test_size=0.2, random_state=0)"
   ]
  },
  {
   "cell_type": "markdown",
   "metadata": {
    "ExecuteTime": {
     "end_time": "2021-06-16T16:58:21.846724Z",
     "start_time": "2021-06-16T16:58:21.834709Z"
    },
    "scrolled": false
   },
   "source": [
    "### Pipeline variables quantitatives"
   ]
  },
  {
   "cell_type": "code",
   "execution_count": 397,
   "metadata": {
    "ExecuteTime": {
     "end_time": "2021-06-29T14:10:46.004776Z",
     "start_time": "2021-06-29T14:10:46.000776Z"
    }
   },
   "outputs": [],
   "source": [
    "pipeline_quanti = Pipeline([\n",
    "        ('imputer', SimpleImputer(strategy=\"median\")),\n",
    "        ('scaler', QuantileTransformer(n_quantiles=1000, random_state=0, output_distribution='normal')),\n",
    "    ])"
   ]
  },
  {
   "cell_type": "code",
   "execution_count": 398,
   "metadata": {
    "ExecuteTime": {
     "end_time": "2021-06-29T14:10:47.257848Z",
     "start_time": "2021-06-29T14:10:46.005776Z"
    }
   },
   "outputs": [
    {
     "data": {
      "image/png": "[encoded data removed]",
      "text/plain": [
       "<Figure size 576x396 with 6 Axes>"
      ]
     },
     "metadata": {},
     "output_type": "display_data"
    }
   ],
   "source": [
    "# test du pipeline\n",
    "X_train_EUI_quanti = pipeline_quanti.fit_transform(X_train_EUI[liste_variables_quantitatives])\n",
    "\n",
    "# Tracé des variables quantitatives après pipeline\n",
    "df_quanti = pd.DataFrame(X_train_EUI_quanti, columns=liste_variables_quantitatives)\n",
    "plt.style.use('seaborn')\n",
    "df_quanti.hist(bins=100)\n",
    "plt.show()"
   ]
  },
  {
   "cell_type": "markdown",
   "metadata": {
    "ExecuteTime": {
     "end_time": "2021-06-17T09:32:15.077282Z",
     "start_time": "2021-06-17T09:32:15.053308Z"
    }
   },
   "source": [
    "OK, on retrouve les mêmes histogrammes avec un pipeline."
   ]
  },
  {
   "cell_type": "markdown",
   "metadata": {
    "ExecuteTime": {
     "end_time": "2021-06-16T16:58:21.846724Z",
     "start_time": "2021-06-16T16:58:21.834709Z"
    },
    "scrolled": false
   },
   "source": [
    "### Pipeline variables qualitatives"
   ]
  },
  {
   "cell_type": "markdown",
   "metadata": {},
   "source": [
    "L'imputer SimpleImputer de sklearn a un défaut de conception : lorsque le dataframe contient des données de type différents (string et numérique), les colonnes numériques sont imputées avec des strings.\n",
    "Ce qui fait ensuiter bugger OneHotEncoder.\n",
    "Il faut donc créer un imputeur maison et en faire un transformateur compatible avec un pipeline."
   ]
  },
  {
   "cell_type": "code",
   "execution_count": 399,
   "metadata": {
    "ExecuteTime": {
     "end_time": "2021-06-29T14:10:47.262848Z",
     "start_time": "2021-06-29T14:10:47.258848Z"
    }
   },
   "outputs": [],
   "source": [
    "def Remplace_NA(df=None):\n",
    "    \"\"\" Pour chaque variable, on remplace les valeurs null par une même valeur :  \n",
    "      * 'ND' pour les strings,  \n",
    "      * -1 pour les variables numériques.\n",
    "    Args :\n",
    "    - df : un dataframe.\n",
    "    Returns : \n",
    "    - dff : le dataframe sans valeur null.\n",
    "    \"\"\"\n",
    "    dff = df.copy()\n",
    "    for var in liste_variables_qualitatives:\n",
    "        if dff[var].dtype == 'object' :\n",
    "            dff[var] = dff[var].fillna(value='ND', inplace=False)\n",
    "        else :\n",
    "            dff[var] = dff[var].fillna(value=-1, inplace=False)\n",
    "    return dff\n",
    "            \n",
    "MonImputeur = FunctionTransformer(Remplace_NA)"
   ]
  },
  {
   "cell_type": "code",
   "execution_count": 400,
   "metadata": {
    "ExecuteTime": {
     "end_time": "2021-06-29T14:10:47.267848Z",
     "start_time": "2021-06-29T14:10:47.264848Z"
    }
   },
   "outputs": [],
   "source": [
    "pipeline_quali = Pipeline([\n",
    "        ('imputer', MonImputeur),\n",
    "        ('encoder', OneHotEncoder(handle_unknown='ignore'))\n",
    "    ])"
   ]
  },
  {
   "cell_type": "markdown",
   "metadata": {},
   "source": [
    "### Union des pipelines (ColumnTransformer)"
   ]
  },
  {
   "cell_type": "code",
   "execution_count": 401,
   "metadata": {
    "ExecuteTime": {
     "end_time": "2021-06-29T14:10:47.314851Z",
     "start_time": "2021-06-29T14:10:47.268848Z"
    },
    "scrolled": true
   },
   "outputs": [
    {
     "data": {
      "text/plain": [
       "<1320x241 sparse matrix of type '<class 'numpy.float64'>'\n",
       "\twith 18466 stored elements in Compressed Sparse Row format>"
      ]
     },
     "execution_count": 401,
     "metadata": {},
     "output_type": "execute_result"
    }
   ],
   "source": [
    "full_pipeline = ColumnTransformer([\n",
    "        (\"quanti\", pipeline_quanti, liste_variables_quantitatives),\n",
    "        (\"quali\", pipeline_quali, liste_variables_qualitatives)\n",
    "    ])\n",
    "\n",
    "X_train_EUI_prepared = full_pipeline.fit_transform(X_train_EUI)\n",
    "X_test_EUI_prepared = full_pipeline.transform(X_test_EUI)\n",
    "\n",
    "X_train_EUI_prepared"
   ]
  },
  {
   "cell_type": "code",
   "execution_count": 402,
   "metadata": {
    "ExecuteTime": {
     "end_time": "2021-06-29T14:10:47.360854Z",
     "start_time": "2021-06-29T14:10:47.315851Z"
    }
   },
   "outputs": [
    {
     "data": {
      "text/html": [
       "<style>div.sk-top-container {color: black;background-color: white;}div.sk-toggleable {background-color: white;}label.sk-toggleable__label {cursor: pointer;display: block;width: 100%;margin-bottom: 0;padding: 0.2em 0.3em;box-sizing: border-box;text-align: center;}div.sk-toggleable__content {max-height: 0;max-width: 0;overflow: hidden;text-align: left;background-color: #f0f8ff;}div.sk-toggleable__content pre {margin: 0.2em;color: black;border-radius: 0.25em;background-color: #f0f8ff;}input.sk-toggleable__control:checked~div.sk-toggleable__content {max-height: 200px;max-width: 100%;overflow: auto;}div.sk-estimator input.sk-toggleable__control:checked~label.sk-toggleable__label {background-color: #d4ebff;}div.sk-label input.sk-toggleable__control:checked~label.sk-toggleable__label {background-color: #d4ebff;}input.sk-hidden--visually {border: 0;clip: rect(1px 1px 1px 1px);clip: rect(1px, 1px, 1px, 1px);height: 1px;margin: -1px;overflow: hidden;padding: 0;position: absolute;width: 1px;}div.sk-estimator {font-family: monospace;background-color: #f0f8ff;margin: 0.25em 0.25em;border: 1px dotted black;border-radius: 0.25em;box-sizing: border-box;}div.sk-estimator:hover {background-color: #d4ebff;}div.sk-parallel-item::after {content: \"\";width: 100%;border-bottom: 1px solid gray;flex-grow: 1;}div.sk-label:hover label.sk-toggleable__label {background-color: #d4ebff;}div.sk-serial::before {content: \"\";position: absolute;border-left: 1px solid gray;box-sizing: border-box;top: 2em;bottom: 0;left: 50%;}div.sk-serial {display: flex;flex-direction: column;align-items: center;background-color: white;}div.sk-item {z-index: 1;}div.sk-parallel {display: flex;align-items: stretch;justify-content: center;background-color: white;}div.sk-parallel-item {display: flex;flex-direction: column;position: relative;background-color: white;}div.sk-parallel-item:first-child::after {align-self: flex-end;width: 50%;}div.sk-parallel-item:last-child::after {align-self: flex-start;width: 50%;}div.sk-parallel-item:only-child::after {width: 0;}div.sk-dashed-wrapped {border: 1px dashed gray;margin: 0.2em;box-sizing: border-box;padding-bottom: 0.1em;background-color: white;position: relative;}div.sk-label label {font-family: monospace;font-weight: bold;background-color: white;display: inline-block;line-height: 1.2em;}div.sk-label-container {position: relative;z-index: 2;text-align: center;}div.sk-container {display: inline-block;position: relative;}</style><div class=\"sk-top-container\"><div class=\"sk-container\"><div class=\"sk-item sk-dashed-wrapped\"><div class=\"sk-label-container\"><div class=\"sk-label sk-toggleable\"><input class=\"sk-toggleable__control sk-hidden--visually\" id=\"b1e1b838-19b0-4cdb-9362-76039ce66a4e\" type=\"checkbox\" ><label class=\"sk-toggleable__label\" for=\"b1e1b838-19b0-4cdb-9362-76039ce66a4e\">ColumnTransformer</label><div class=\"sk-toggleable__content\"><pre>ColumnTransformer(transformers=[('quanti',\n",
       "                                 Pipeline(steps=[('imputer',\n",
       "                                                  SimpleImputer(strategy='median')),\n",
       "                                                 ('scaler',\n",
       "                                                  QuantileTransformer(output_distribution='normal',\n",
       "                                                                      random_state=0))]),\n",
       "                                 ['Latitude', 'Longitude', 'YearBuilt',\n",
       "                                  'NumberofBuildings', 'NumberofFloors',\n",
       "                                  'Surface_au_sol(sf)']),\n",
       "                                ('quali',\n",
       "                                 Pipeline(steps=[('imputer',\n",
       "                                                  FunctionTransformer(func=<function Remplace_NA at 0x00000000109EF550>)),\n",
       "                                                 ('encoder',\n",
       "                                                  OneHotEncoder(handle_unknown='ignore'))]),\n",
       "                                 ['BuildingType', 'PrimaryPropertyType',\n",
       "                                  'ZipCode', 'CouncilDistrictCode',\n",
       "                                  'Neighborhood', 'LargestPropertyUseType',\n",
       "                                  'SecondLargestPropertyUseType',\n",
       "                                  'ThirdLargestPropertyUseType'])])</pre></div></div></div><div class=\"sk-parallel\"><div class=\"sk-parallel-item\"><div class=\"sk-item\"><div class=\"sk-label-container\"><div class=\"sk-label sk-toggleable\"><input class=\"sk-toggleable__control sk-hidden--visually\" id=\"bb720e91-c660-4ded-8ffe-e67a6cfd8e76\" type=\"checkbox\" ><label class=\"sk-toggleable__label\" for=\"bb720e91-c660-4ded-8ffe-e67a6cfd8e76\">quanti</label><div class=\"sk-toggleable__content\"><pre>['Latitude', 'Longitude', 'YearBuilt', 'NumberofBuildings', 'NumberofFloors', 'Surface_au_sol(sf)']</pre></div></div></div><div class=\"sk-serial\"><div class=\"sk-item\"><div class=\"sk-serial\"><div class=\"sk-item\"><div class=\"sk-estimator sk-toggleable\"><input class=\"sk-toggleable__control sk-hidden--visually\" id=\"4a6554dd-9c6d-4f52-ac18-af2d53786960\" type=\"checkbox\" ><label class=\"sk-toggleable__label\" for=\"4a6554dd-9c6d-4f52-ac18-af2d53786960\">SimpleImputer</label><div class=\"sk-toggleable__content\"><pre>SimpleImputer(strategy='median')</pre></div></div></div><div class=\"sk-item\"><div class=\"sk-estimator sk-toggleable\"><input class=\"sk-toggleable__control sk-hidden--visually\" id=\"d6d6b8ac-b54e-4125-9a5b-700d21c97f5d\" type=\"checkbox\" ><label class=\"sk-toggleable__label\" for=\"d6d6b8ac-b54e-4125-9a5b-700d21c97f5d\">QuantileTransformer</label><div class=\"sk-toggleable__content\"><pre>QuantileTransformer(output_distribution='normal', random_state=0)</pre></div></div></div></div></div></div></div></div><div class=\"sk-parallel-item\"><div class=\"sk-item\"><div class=\"sk-label-container\"><div class=\"sk-label sk-toggleable\"><input class=\"sk-toggleable__control sk-hidden--visually\" id=\"979502a1-7450-495e-9eda-321888d6d361\" type=\"checkbox\" ><label class=\"sk-toggleable__label\" for=\"979502a1-7450-495e-9eda-321888d6d361\">quali</label><div class=\"sk-toggleable__content\"><pre>['BuildingType', 'PrimaryPropertyType', 'ZipCode', 'CouncilDistrictCode', 'Neighborhood', 'LargestPropertyUseType', 'SecondLargestPropertyUseType', 'ThirdLargestPropertyUseType']</pre></div></div></div><div class=\"sk-serial\"><div class=\"sk-item\"><div class=\"sk-serial\"><div class=\"sk-item\"><div class=\"sk-estimator sk-toggleable\"><input class=\"sk-toggleable__control sk-hidden--visually\" id=\"b8d7e778-9f95-4b9c-b466-e5b08ba2b93b\" type=\"checkbox\" ><label class=\"sk-toggleable__label\" for=\"b8d7e778-9f95-4b9c-b466-e5b08ba2b93b\">FunctionTransformer</label><div class=\"sk-toggleable__content\"><pre>FunctionTransformer(func=<function Remplace_NA at 0x00000000109EF550>)</pre></div></div></div><div class=\"sk-item\"><div class=\"sk-estimator sk-toggleable\"><input class=\"sk-toggleable__control sk-hidden--visually\" id=\"004c26c7-b3d3-4b97-af93-b82b94603000\" type=\"checkbox\" ><label class=\"sk-toggleable__label\" for=\"004c26c7-b3d3-4b97-af93-b82b94603000\">OneHotEncoder</label><div class=\"sk-toggleable__content\"><pre>OneHotEncoder(handle_unknown='ignore')</pre></div></div></div></div></div></div></div></div></div></div></div></div>"
      ],
      "text/plain": [
       "ColumnTransformer(transformers=[('quanti',\n",
       "                                 Pipeline(steps=[('imputer',\n",
       "                                                  SimpleImputer(strategy='median')),\n",
       "                                                 ('scaler',\n",
       "                                                  QuantileTransformer(output_distribution='normal',\n",
       "                                                                      random_state=0))]),\n",
       "                                 ['Latitude', 'Longitude', 'YearBuilt',\n",
       "                                  'NumberofBuildings', 'NumberofFloors',\n",
       "                                  'Surface_au_sol(sf)']),\n",
       "                                ('quali',\n",
       "                                 Pipeline(steps=[('imputer',\n",
       "                                                  FunctionTransformer(func=<function Remplace_NA at 0x00000000109EF550>)),\n",
       "                                                 ('encoder',\n",
       "                                                  OneHotEncoder(handle_unknown='ignore'))]),\n",
       "                                 ['BuildingType', 'PrimaryPropertyType',\n",
       "                                  'ZipCode', 'CouncilDistrictCode',\n",
       "                                  'Neighborhood', 'LargestPropertyUseType',\n",
       "                                  'SecondLargestPropertyUseType',\n",
       "                                  'ThirdLargestPropertyUseType'])])"
      ]
     },
     "execution_count": 402,
     "metadata": {},
     "output_type": "execute_result"
    }
   ],
   "source": [
    "# visualisation du pipeline\n",
    "# set_config(display='diagram')\n",
    "full_pipeline"
   ]
  },
  {
   "cell_type": "markdown",
   "metadata": {},
   "source": [
    "## Régressions linéaires"
   ]
  },
  {
   "cell_type": "markdown",
   "metadata": {},
   "source": [
    "### Régression linéaire simple"
   ]
  },
  {
   "cell_type": "code",
   "execution_count": 403,
   "metadata": {
    "ExecuteTime": {
     "end_time": "2021-06-29T14:10:47.589867Z",
     "start_time": "2021-06-29T14:10:47.361854Z"
    }
   },
   "outputs": [
    {
     "data": {
      "text/html": [
       "<style>div.sk-top-container {color: black;background-color: white;}div.sk-toggleable {background-color: white;}label.sk-toggleable__label {cursor: pointer;display: block;width: 100%;margin-bottom: 0;padding: 0.2em 0.3em;box-sizing: border-box;text-align: center;}div.sk-toggleable__content {max-height: 0;max-width: 0;overflow: hidden;text-align: left;background-color: #f0f8ff;}div.sk-toggleable__content pre {margin: 0.2em;color: black;border-radius: 0.25em;background-color: #f0f8ff;}input.sk-toggleable__control:checked~div.sk-toggleable__content {max-height: 200px;max-width: 100%;overflow: auto;}div.sk-estimator input.sk-toggleable__control:checked~label.sk-toggleable__label {background-color: #d4ebff;}div.sk-label input.sk-toggleable__control:checked~label.sk-toggleable__label {background-color: #d4ebff;}input.sk-hidden--visually {border: 0;clip: rect(1px 1px 1px 1px);clip: rect(1px, 1px, 1px, 1px);height: 1px;margin: -1px;overflow: hidden;padding: 0;position: absolute;width: 1px;}div.sk-estimator {font-family: monospace;background-color: #f0f8ff;margin: 0.25em 0.25em;border: 1px dotted black;border-radius: 0.25em;box-sizing: border-box;}div.sk-estimator:hover {background-color: #d4ebff;}div.sk-parallel-item::after {content: \"\";width: 100%;border-bottom: 1px solid gray;flex-grow: 1;}div.sk-label:hover label.sk-toggleable__label {background-color: #d4ebff;}div.sk-serial::before {content: \"\";position: absolute;border-left: 1px solid gray;box-sizing: border-box;top: 2em;bottom: 0;left: 50%;}div.sk-serial {display: flex;flex-direction: column;align-items: center;background-color: white;}div.sk-item {z-index: 1;}div.sk-parallel {display: flex;align-items: stretch;justify-content: center;background-color: white;}div.sk-parallel-item {display: flex;flex-direction: column;position: relative;background-color: white;}div.sk-parallel-item:first-child::after {align-self: flex-end;width: 50%;}div.sk-parallel-item:last-child::after {align-self: flex-start;width: 50%;}div.sk-parallel-item:only-child::after {width: 0;}div.sk-dashed-wrapped {border: 1px dashed gray;margin: 0.2em;box-sizing: border-box;padding-bottom: 0.1em;background-color: white;position: relative;}div.sk-label label {font-family: monospace;font-weight: bold;background-color: white;display: inline-block;line-height: 1.2em;}div.sk-label-container {position: relative;z-index: 2;text-align: center;}div.sk-container {display: inline-block;position: relative;}</style><div class=\"sk-top-container\"><div class=\"sk-container\"><div class=\"sk-item\"><div class=\"sk-estimator sk-toggleable\"><input class=\"sk-toggleable__control sk-hidden--visually\" id=\"cb83440d-7ef2-4c91-9941-13a725770b07\" type=\"checkbox\" checked><label class=\"sk-toggleable__label\" for=\"cb83440d-7ef2-4c91-9941-13a725770b07\">LinearRegression</label><div class=\"sk-toggleable__content\"><pre>LinearRegression()</pre></div></div></div></div></div>"
      ],
      "text/plain": [
       "LinearRegression()"
      ]
     },
     "execution_count": 403,
     "metadata": {},
     "output_type": "execute_result"
    }
   ],
   "source": [
    "lin_reg = LinearRegression()\n",
    "\n",
    "# Entrainement\n",
    "lin_reg.fit(X_train_EUI_prepared, y_train_EUI)"
   ]
  },
  {
   "cell_type": "code",
   "execution_count": 404,
   "metadata": {
    "ExecuteTime": {
     "end_time": "2021-06-29T14:10:47.593867Z",
     "start_time": "2021-06-29T14:10:47.590867Z"
    }
   },
   "outputs": [
    {
     "data": {
      "text/plain": [
       "(100, 14)"
      ]
     },
     "execution_count": 404,
     "metadata": {},
     "output_type": "execute_result"
    }
   ],
   "source": [
    "some_data.shape"
   ]
  },
  {
   "cell_type": "code",
   "execution_count": 405,
   "metadata": {
    "ExecuteTime": {
     "end_time": "2021-06-29T14:10:47.598867Z",
     "start_time": "2021-06-29T14:10:47.594867Z"
    }
   },
   "outputs": [
    {
     "data": {
      "text/plain": [
       "<100x241 sparse matrix of type '<class 'numpy.float64'>'\n",
       "\twith 1399 stored elements in Compressed Sparse Row format>"
      ]
     },
     "execution_count": 405,
     "metadata": {},
     "output_type": "execute_result"
    }
   ],
   "source": [
    "some_data_prepared"
   ]
  },
  {
   "cell_type": "code",
   "execution_count": 406,
   "metadata": {
    "ExecuteTime": {
     "end_time": "2021-06-29T14:10:47.603868Z",
     "start_time": "2021-06-29T14:10:47.599867Z"
    }
   },
   "outputs": [
    {
     "data": {
      "text/plain": [
       "(1320, 14)"
      ]
     },
     "execution_count": 406,
     "metadata": {},
     "output_type": "execute_result"
    }
   ],
   "source": [
    "X_train_EUI.shape"
   ]
  },
  {
   "cell_type": "code",
   "execution_count": 407,
   "metadata": {
    "ExecuteTime": {
     "end_time": "2021-06-29T14:10:47.607868Z",
     "start_time": "2021-06-29T14:10:47.604868Z"
    }
   },
   "outputs": [
    {
     "data": {
      "text/plain": [
       "<1320x241 sparse matrix of type '<class 'numpy.float64'>'\n",
       "\twith 18466 stored elements in Compressed Sparse Row format>"
      ]
     },
     "execution_count": 407,
     "metadata": {},
     "output_type": "execute_result"
    }
   ],
   "source": [
    "X_train_EUI_prepared"
   ]
  },
  {
   "cell_type": "code",
   "execution_count": 408,
   "metadata": {
    "ExecuteTime": {
     "end_time": "2021-06-29T14:10:47.627869Z",
     "start_time": "2021-06-29T14:10:47.608868Z"
    },
    "scrolled": true
   },
   "outputs": [
    {
     "data": {
      "text/html": [
       "<div>\n",
       "<style scoped>\n",
       "    .dataframe tbody tr th:only-of-type {\n",
       "        vertical-align: middle;\n",
       "    }\n",
       "\n",
       "    .dataframe tbody tr th {\n",
       "        vertical-align: top;\n",
       "    }\n",
       "\n",
       "    .dataframe thead th {\n",
       "        text-align: right;\n",
       "    }\n",
       "</style>\n",
       "<table border=\"1\" class=\"dataframe\">\n",
       "  <thead>\n",
       "    <tr style=\"text-align: right;\">\n",
       "      <th></th>\n",
       "      <th>SiteEUI(kBtu/sf)</th>\n",
       "      <th>Prédictions</th>\n",
       "    </tr>\n",
       "  </thead>\n",
       "  <tbody>\n",
       "    <tr>\n",
       "      <th>3162</th>\n",
       "      <td>42.799999</td>\n",
       "      <td>59.230377</td>\n",
       "    </tr>\n",
       "    <tr>\n",
       "      <th>953</th>\n",
       "      <td>37.599998</td>\n",
       "      <td>28.567644</td>\n",
       "    </tr>\n",
       "    <tr>\n",
       "      <th>2637</th>\n",
       "      <td>55.400002</td>\n",
       "      <td>74.624596</td>\n",
       "    </tr>\n",
       "    <tr>\n",
       "      <th>29</th>\n",
       "      <td>92.900002</td>\n",
       "      <td>75.240507</td>\n",
       "    </tr>\n",
       "    <tr>\n",
       "      <th>1126</th>\n",
       "      <td>36.799999</td>\n",
       "      <td>27.209902</td>\n",
       "    </tr>\n",
       "    <tr>\n",
       "      <th>773</th>\n",
       "      <td>45.500000</td>\n",
       "      <td>78.520747</td>\n",
       "    </tr>\n",
       "    <tr>\n",
       "      <th>305</th>\n",
       "      <td>89.300003</td>\n",
       "      <td>193.994349</td>\n",
       "    </tr>\n",
       "    <tr>\n",
       "      <th>2928</th>\n",
       "      <td>35.000000</td>\n",
       "      <td>75.721566</td>\n",
       "    </tr>\n",
       "    <tr>\n",
       "      <th>579</th>\n",
       "      <td>104.099998</td>\n",
       "      <td>92.325513</td>\n",
       "    </tr>\n",
       "    <tr>\n",
       "      <th>713</th>\n",
       "      <td>40.200001</td>\n",
       "      <td>21.662289</td>\n",
       "    </tr>\n",
       "  </tbody>\n",
       "</table>\n",
       "</div>"
      ],
      "text/plain": [
       "      SiteEUI(kBtu/sf)  Prédictions\n",
       "3162         42.799999    59.230377\n",
       "953          37.599998    28.567644\n",
       "2637         55.400002    74.624596\n",
       "29           92.900002    75.240507\n",
       "1126         36.799999    27.209902\n",
       "773          45.500000    78.520747\n",
       "305          89.300003   193.994349\n",
       "2928         35.000000    75.721566\n",
       "579         104.099998    92.325513\n",
       "713          40.200001    21.662289"
      ]
     },
     "execution_count": 408,
     "metadata": {},
     "output_type": "execute_result"
    }
   ],
   "source": [
    "# Test de quelques valeurs prédites\n",
    "some_data = X_train_EUI.iloc[:100]\n",
    "some_labels = y_train_EUI.iloc[:100].copy()\n",
    "some_data_prepared = full_pipeline.transform(some_data)\n",
    "some_data_predicted = lin_reg.predict(some_data_prepared)\n",
    "\n",
    "some_labels['Prédictions'] = some_data_predicted\n",
    "some_labels.head(10)"
   ]
  },
  {
   "cell_type": "markdown",
   "metadata": {},
   "source": [
    "#### Metrics"
   ]
  },
  {
   "cell_type": "markdown",
   "metadata": {},
   "source": [
    "##### RMSE :"
   ]
  },
  {
   "cell_type": "code",
   "execution_count": 409,
   "metadata": {
    "ExecuteTime": {
     "end_time": "2021-06-29T14:10:47.633869Z",
     "start_time": "2021-06-29T14:10:47.628869Z"
    },
    "scrolled": true
   },
   "outputs": [
    {
     "data": {
      "text/plain": [
       "44.14250276888454"
      ]
     },
     "execution_count": 409,
     "metadata": {},
     "output_type": "execute_result"
    }
   ],
   "source": [
    "EUI_predictions = lin_reg.predict(X_train_EUI_prepared)\n",
    "lin_mse = mean_squared_error(y_train_EUI, EUI_predictions)\n",
    "lin_rmse = np.sqrt(lin_mse)\n",
    "lin_rmse"
   ]
  },
  {
   "cell_type": "markdown",
   "metadata": {},
   "source": [
    "##### MAE :"
   ]
  },
  {
   "cell_type": "code",
   "execution_count": 410,
   "metadata": {
    "ExecuteTime": {
     "end_time": "2021-06-29T14:10:47.639870Z",
     "start_time": "2021-06-29T14:10:47.634869Z"
    }
   },
   "outputs": [
    {
     "data": {
      "text/plain": [
       "28.421632962349197"
      ]
     },
     "execution_count": 410,
     "metadata": {},
     "output_type": "execute_result"
    }
   ],
   "source": [
    "lin_mae = mean_absolute_error(y_train_EUI, EUI_predictions)\n",
    "lin_mae"
   ]
  },
  {
   "cell_type": "markdown",
   "metadata": {},
   "source": [
    "##### R² :"
   ]
  },
  {
   "cell_type": "code",
   "execution_count": 411,
   "metadata": {
    "ExecuteTime": {
     "end_time": "2021-06-29T14:10:47.645870Z",
     "start_time": "2021-06-29T14:10:47.640870Z"
    }
   },
   "outputs": [
    {
     "data": {
      "text/plain": [
       "0.619"
      ]
     },
     "execution_count": 411,
     "metadata": {},
     "output_type": "execute_result"
    }
   ],
   "source": [
    "#R² par la méthode score() du transformateur\n",
    "arrondi(lin_reg.score(X_train_EUI_prepared, y_train_EUI))"
   ]
  },
  {
   "cell_type": "code",
   "execution_count": 412,
   "metadata": {
    "ExecuteTime": {
     "end_time": "2021-06-29T14:10:47.651870Z",
     "start_time": "2021-06-29T14:10:47.646870Z"
    }
   },
   "outputs": [
    {
     "data": {
      "text/plain": [
       "0.619"
      ]
     },
     "execution_count": 412,
     "metadata": {},
     "output_type": "execute_result"
    }
   ],
   "source": [
    "#R² par la fonction r2_score de metrics\n",
    "arrondi(r2_score(y_train_EUI, EUI_predictions))"
   ]
  },
  {
   "cell_type": "markdown",
   "metadata": {},
   "source": [
    "#### Scatter plot"
   ]
  },
  {
   "cell_type": "code",
   "execution_count": 413,
   "metadata": {
    "ExecuteTime": {
     "end_time": "2021-06-29T14:10:48.056894Z",
     "start_time": "2021-06-29T14:10:47.652870Z"
    },
    "scrolled": false
   },
   "outputs": [
    {
     "data": {
      "image/png": "[encoded data removed]",
      "text/plain": [
       "<Figure size 576x396 with 1 Axes>"
      ]
     },
     "metadata": {},
     "output_type": "display_data"
    },
    {
     "data": {
      "image/png": "[encoded data removed]",
      "text/plain": [
       "<Figure size 576x396 with 1 Axes>"
      ]
     },
     "metadata": {},
     "output_type": "display_data"
    }
   ],
   "source": [
    "ser_predictions = pd.Series(np.squeeze(EUI_predictions), name='Prédictions')\n",
    "scatter_plot(ser_x=y_train_EUI.reset_index().iloc[:,1], ser_y=ser_predictions, alpha=1, ligne_diagonale=True)\n",
    "scatter_plot(ser_x=y_train_EUI.reset_index().iloc[:,1], ser_y=ser_predictions, alpha=1, max_x=300, max_y=300, ligne_diagonale=True)"
   ]
  },
  {
   "cell_type": "markdown",
   "metadata": {},
   "source": [
    "#### Analyse des paramètres du modèle"
   ]
  },
  {
   "cell_type": "code",
   "execution_count": 414,
   "metadata": {
    "ExecuteTime": {
     "end_time": "2021-06-29T14:10:48.062894Z",
     "start_time": "2021-06-29T14:10:48.058894Z"
    }
   },
   "outputs": [
    {
     "data": {
      "text/plain": [
       "array([106.38667152])"
      ]
     },
     "execution_count": 414,
     "metadata": {},
     "output_type": "execute_result"
    }
   ],
   "source": [
    "lin_reg.intercept_"
   ]
  },
  {
   "cell_type": "code",
   "execution_count": 415,
   "metadata": {
    "ExecuteTime": {
     "end_time": "2021-06-29T14:10:48.067894Z",
     "start_time": "2021-06-29T14:10:48.063894Z"
    },
    "scrolled": true
   },
   "outputs": [
    {
     "name": "stdout",
     "output_type": "stream",
     "text": [
      "lin_reg.coef_ shape : (1, 241)\n"
     ]
    }
   ],
   "source": [
    "print(\"lin_reg.coef_ shape :\", lin_reg.coef_.shape)\n",
    "coefs = lin_reg.coef_"
   ]
  },
  {
   "cell_type": "code",
   "execution_count": 416,
   "metadata": {
    "ExecuteTime": {
     "end_time": "2021-06-29T14:10:48.073894Z",
     "start_time": "2021-06-29T14:10:48.068894Z"
    },
    "scrolled": true
   },
   "outputs": [
    {
     "data": {
      "text/plain": [
       "array(['BuildingType_Campus', 'BuildingType_NonResidential', 'BuildingType_Nonresidential COS', 'BuildingType_SPS-District K-12',\n",
       "       'PrimaryPropertyType_Distribution Center', 'PrimaryPropertyType_Hospital', 'PrimaryPropertyType_Hotel', 'PrimaryPropertyType_K-12 School',\n",
       "       'PrimaryPropertyType_Laboratory', 'PrimaryPropertyType_Large Office', 'PrimaryPropertyType_Low-Rise Multifamily', 'PrimaryPropertyType_Medical Office',\n",
       "       'PrimaryPropertyType_Mixed Use Property', 'PrimaryPropertyType_Office', 'PrimaryPropertyType_Other', 'PrimaryPropertyType_Refrigerated Warehouse',\n",
       "       'PrimaryPropertyType_Residence Hall', 'PrimaryPropertyType_Restaurant', 'PrimaryPropertyType_Retail Store', 'PrimaryPropertyType_Self-Storage Facility',\n",
       "       'PrimaryPropertyType_Senior Care Community', 'PrimaryPropertyType_Small- and Mid-Sized Office', 'PrimaryPropertyType_Supermarket / Grocery Store',\n",
       "       'PrimaryPropertyType_University', 'PrimaryPropertyType_Warehouse', 'PrimaryPropertyType_Worship Facility', 'ZipCode_-1.0', 'ZipCode_98011.0',\n",
       "       'ZipCode_98013.0', 'ZipCode_98020.0', 'ZipCode_98033.0', 'ZipCode_98053.0', 'ZipCode_98070.0', 'ZipCode_98101.0', 'ZipCode_98102.0', 'ZipCode_98103.0',\n",
       "       'ZipCode_98104.0', 'ZipCode_98105.0', 'ZipCode_98106.0', 'ZipCode_98107.0', 'ZipCode_98108.0', 'ZipCode_98109.0', 'ZipCode_98111.0', 'ZipCode_98112.0',\n",
       "       'ZipCode_98113.0', 'ZipCode_98114.0', 'ZipCode_98115.0', 'ZipCode_98116.0', 'ZipCode_98117.0', 'ZipCode_98118.0', 'ZipCode_98119.0', 'ZipCode_98121.0',\n",
       "       'ZipCode_98122.0', 'ZipCode_98124.0', 'ZipCode_98125.0', 'ZipCode_98126.0', 'ZipCode_98133.0', 'ZipCode_98134.0', 'ZipCode_98136.0', 'ZipCode_98144.0',\n",
       "       'ZipCode_98146.0', 'ZipCode_98154.0', 'ZipCode_98155.0', 'ZipCode_98164.0', 'ZipCode_98165.0', 'ZipCode_98168.0', 'ZipCode_98177.0', 'ZipCode_98178.0',\n",
       "       'ZipCode_98181.0', 'ZipCode_98185.0', 'ZipCode_98195.0', 'ZipCode_98199.0', 'CouncilDistrictCode_1', 'CouncilDistrictCode_2', 'CouncilDistrictCode_3',\n",
       "       'CouncilDistrictCode_4', 'CouncilDistrictCode_5', 'CouncilDistrictCode_6', 'CouncilDistrictCode_7', 'Neighborhood_BALLARD', 'Neighborhood_Ballard',\n",
       "       'Neighborhood_CENTRAL', 'Neighborhood_Central', 'Neighborhood_DELRIDGE', 'Neighborhood_DELRIDGE NEIGHBORHOODS', 'Neighborhood_DOWNTOWN',\n",
       "       'Neighborhood_Delridge', 'Neighborhood_EAST', 'Neighborhood_GREATER DUWAMISH', 'Neighborhood_LAKE UNION', 'Neighborhood_MAGNOLIA / QUEEN ANNE',\n",
       "       'Neighborhood_NORTH', 'Neighborhood_NORTHEAST', 'Neighborhood_NORTHWEST', 'Neighborhood_North', 'Neighborhood_Northwest', 'Neighborhood_SOUTHEAST',\n",
       "       'Neighborhood_SOUTHWEST', 'LargestPropertyUseType_Adult Education', 'LargestPropertyUseType_Automobile Dealership',\n",
       "       'LargestPropertyUseType_Bank Branch', 'LargestPropertyUseType_College/University', 'LargestPropertyUseType_Data Center',\n",
       "       'LargestPropertyUseType_Distribution Center', 'LargestPropertyUseType_Financial Office', 'LargestPropertyUseType_Fire Station',\n",
       "       'LargestPropertyUseType_Fitness Center/Health Club/Gym', 'LargestPropertyUseType_Hospital (General Medical & Surgical)', 'LargestPropertyUseType_Hotel',\n",
       "       'LargestPropertyUseType_K-12 School', 'LargestPropertyUseType_Laboratory', 'LargestPropertyUseType_Library', 'LargestPropertyUseType_Lifestyle Center',\n",
       "       'LargestPropertyUseType_Manufacturing/Industrial Plant', 'LargestPropertyUseType_Medical Office', 'LargestPropertyUseType_Movie Theater',\n",
       "       'LargestPropertyUseType_Multifamily Housing', 'LargestPropertyUseType_Museum', 'LargestPropertyUseType_ND',\n",
       "       'LargestPropertyUseType_Non-Refrigerated Warehouse', 'LargestPropertyUseType_Office', 'LargestPropertyUseType_Other',\n",
       "       'LargestPropertyUseType_Other - Education', 'LargestPropertyUseType_Other - Entertainment/Public Assembly',\n",
       "       'LargestPropertyUseType_Other - Lodging/Residential', 'LargestPropertyUseType_Other - Mall', 'LargestPropertyUseType_Other - Public Services',\n",
       "       'LargestPropertyUseType_Other - Recreation', 'LargestPropertyUseType_Other - Restaurant/Bar', 'LargestPropertyUseType_Other - Services',\n",
       "       'LargestPropertyUseType_Other - Utility', 'LargestPropertyUseType_Other/Specialty Hospital', 'LargestPropertyUseType_Parking',\n",
       "       'LargestPropertyUseType_Performing Arts', 'LargestPropertyUseType_Personal Services (Health/Beauty, Dry Cleaning, etc)',\n",
       "       'LargestPropertyUseType_Pre-school/Daycare', 'LargestPropertyUseType_Prison/Incarceration', 'LargestPropertyUseType_Refrigerated Warehouse',\n",
       "       'LargestPropertyUseType_Repair Services (Vehicle, Shoe, Locksmith, etc)', 'LargestPropertyUseType_Residence Hall/Dormitory',\n",
       "       'LargestPropertyUseType_Residential Care Facility', 'LargestPropertyUseType_Restaurant', 'LargestPropertyUseType_Retail Store',\n",
       "       'LargestPropertyUseType_Self-Storage Facility', 'LargestPropertyUseType_Senior Care Community', 'LargestPropertyUseType_Social/Meeting Hall',\n",
       "       'LargestPropertyUseType_Strip Mall', 'LargestPropertyUseType_Supermarket/Grocery Store', 'LargestPropertyUseType_Urgent Care/Clinic/Other Outpatient',\n",
       "       'LargestPropertyUseType_Wholesale Club/Supercenter', 'LargestPropertyUseType_Worship Facility', 'SecondLargestPropertyUseType_Adult Education',\n",
       "       'SecondLargestPropertyUseType_Automobile Dealership', 'SecondLargestPropertyUseType_Bank Branch', 'SecondLargestPropertyUseType_Bar/Nightclub',\n",
       "       'SecondLargestPropertyUseType_College/University', 'SecondLargestPropertyUseType_Courthouse', 'SecondLargestPropertyUseType_Data Center',\n",
       "       'SecondLargestPropertyUseType_Distribution Center', 'SecondLargestPropertyUseType_Enclosed Mall', 'SecondLargestPropertyUseType_Financial Office',\n",
       "       'SecondLargestPropertyUseType_Fitness Center/Health Club/Gym', 'SecondLargestPropertyUseType_Food Sales', 'SecondLargestPropertyUseType_Food Service',\n",
       "       'SecondLargestPropertyUseType_Hospital (General Medical & Surgical)', 'SecondLargestPropertyUseType_Hotel', 'SecondLargestPropertyUseType_K-12 School',\n",
       "       'SecondLargestPropertyUseType_Laboratory', 'SecondLargestPropertyUseType_Manufacturing/Industrial Plant', 'SecondLargestPropertyUseType_Medical Office',\n",
       "       'SecondLargestPropertyUseType_Movie Theater', 'SecondLargestPropertyUseType_Multifamily Housing', 'SecondLargestPropertyUseType_ND',\n",
       "       'SecondLargestPropertyUseType_Non-Refrigerated Warehouse', 'SecondLargestPropertyUseType_Office', 'SecondLargestPropertyUseType_Other',\n",
       "       'SecondLargestPropertyUseType_Other - Education', 'SecondLargestPropertyUseType_Other - Entertainment/Public Assembly',\n",
       "       'SecondLargestPropertyUseType_Other - Public Services', 'SecondLargestPropertyUseType_Other - Recreation',\n",
       "       'SecondLargestPropertyUseType_Other - Restaurant/Bar', 'SecondLargestPropertyUseType_Other - Services', 'SecondLargestPropertyUseType_Parking',\n",
       "       'SecondLargestPropertyUseType_Performing Arts', 'SecondLargestPropertyUseType_Personal Services (Health/Beauty, Dry Cleaning, etc)',\n",
       "       'SecondLargestPropertyUseType_Pre-school/Daycare', 'SecondLargestPropertyUseType_Refrigerated Warehouse',\n",
       "       'SecondLargestPropertyUseType_Repair Services (Vehicle, Shoe, Locksmith, etc)', 'SecondLargestPropertyUseType_Residence Hall/Dormitory',\n",
       "       'SecondLargestPropertyUseType_Restaurant', 'SecondLargestPropertyUseType_Retail Store', 'SecondLargestPropertyUseType_Self-Storage Facility',\n",
       "       'SecondLargestPropertyUseType_Social/Meeting Hall', 'SecondLargestPropertyUseType_Supermarket/Grocery Store',\n",
       "       'SecondLargestPropertyUseType_Swimming Pool', 'SecondLargestPropertyUseType_Vocational School', 'SecondLargestPropertyUseType_Worship Facility',\n",
       "       'ThirdLargestPropertyUseType_Bank Branch', 'ThirdLargestPropertyUseType_Bar/Nightclub',\n",
       "       'ThirdLargestPropertyUseType_Convenience Store without Gas Station', 'ThirdLargestPropertyUseType_Data Center',\n",
       "       'ThirdLargestPropertyUseType_Distribution Center', 'ThirdLargestPropertyUseType_Fast Food Restaurant', 'ThirdLargestPropertyUseType_Financial Office',\n",
       "       'ThirdLargestPropertyUseType_Fitness Center/Health Club/Gym', 'ThirdLargestPropertyUseType_Food Service', 'ThirdLargestPropertyUseType_Hotel',\n",
       "       'ThirdLargestPropertyUseType_K-12 School', 'ThirdLargestPropertyUseType_Manufacturing/Industrial Plant', 'ThirdLargestPropertyUseType_Medical Office',\n",
       "       'ThirdLargestPropertyUseType_Multifamily Housing', 'ThirdLargestPropertyUseType_ND', 'ThirdLargestPropertyUseType_Non-Refrigerated Warehouse',\n",
       "       'ThirdLargestPropertyUseType_Office', 'ThirdLargestPropertyUseType_Other', 'ThirdLargestPropertyUseType_Other - Education',\n",
       "       'ThirdLargestPropertyUseType_Other - Entertainment/Public Assembly', 'ThirdLargestPropertyUseType_Other - Recreation',\n",
       "       'ThirdLargestPropertyUseType_Other - Restaurant/Bar', 'ThirdLargestPropertyUseType_Other - Services',\n",
       "       'ThirdLargestPropertyUseType_Other - Technology/Science', 'ThirdLargestPropertyUseType_Other/Specialty Hospital', 'ThirdLargestPropertyUseType_Parking',\n",
       "       'ThirdLargestPropertyUseType_Personal Services (Health/Beauty, Dry Cleaning, etc)', 'ThirdLargestPropertyUseType_Pre-school/Daycare',\n",
       "       'ThirdLargestPropertyUseType_Refrigerated Warehouse', 'ThirdLargestPropertyUseType_Restaurant', 'ThirdLargestPropertyUseType_Retail Store',\n",
       "       'ThirdLargestPropertyUseType_Self-Storage Facility', 'ThirdLargestPropertyUseType_Social/Meeting Hall', 'ThirdLargestPropertyUseType_Strip Mall',\n",
       "       'ThirdLargestPropertyUseType_Supermarket/Grocery Store', 'ThirdLargestPropertyUseType_Swimming Pool', 'ThirdLargestPropertyUseType_Vocational School',\n",
       "       'ThirdLargestPropertyUseType_Worship Facility'], dtype=object)"
      ]
     },
     "execution_count": 416,
     "metadata": {},
     "output_type": "execute_result"
    }
   ],
   "source": [
    "modalites_var_quali = full_pipeline.named_transformers_['quali'].named_steps['encoder'].get_feature_names(input_features=liste_variables_qualitatives)\n",
    "modalites_var_quali"
   ]
  },
  {
   "cell_type": "code",
   "execution_count": 417,
   "metadata": {
    "ExecuteTime": {
     "end_time": "2021-06-29T14:10:48.077895Z",
     "start_time": "2021-06-29T14:10:48.074895Z"
    }
   },
   "outputs": [],
   "source": [
    "noms_des_coefs = np.concatenate([liste_variables_quantitatives, modalites_var_quali])"
   ]
  },
  {
   "cell_type": "code",
   "execution_count": 418,
   "metadata": {
    "ExecuteTime": {
     "end_time": "2021-06-29T14:10:48.084895Z",
     "start_time": "2021-06-29T14:10:48.078895Z"
    },
    "scrolled": true
   },
   "outputs": [
    {
     "data": {
      "text/plain": [
       "array(['Latitude', 'Longitude', 'YearBuilt', 'NumberofBuildings', 'NumberofFloors', 'Surface_au_sol(sf)', 'BuildingType_Campus', 'BuildingType_NonResidential',\n",
       "       'BuildingType_Nonresidential COS', 'BuildingType_SPS-District K-12', 'PrimaryPropertyType_Distribution Center', 'PrimaryPropertyType_Hospital',\n",
       "       'PrimaryPropertyType_Hotel', 'PrimaryPropertyType_K-12 School', 'PrimaryPropertyType_Laboratory', 'PrimaryPropertyType_Large Office',\n",
       "       'PrimaryPropertyType_Low-Rise Multifamily', 'PrimaryPropertyType_Medical Office', 'PrimaryPropertyType_Mixed Use Property',\n",
       "       'PrimaryPropertyType_Office', 'PrimaryPropertyType_Other', 'PrimaryPropertyType_Refrigerated Warehouse', 'PrimaryPropertyType_Residence Hall',\n",
       "       'PrimaryPropertyType_Restaurant', 'PrimaryPropertyType_Retail Store', 'PrimaryPropertyType_Self-Storage Facility',\n",
       "       'PrimaryPropertyType_Senior Care Community', 'PrimaryPropertyType_Small- and Mid-Sized Office', 'PrimaryPropertyType_Supermarket / Grocery Store',\n",
       "       'PrimaryPropertyType_University', 'PrimaryPropertyType_Warehouse', 'PrimaryPropertyType_Worship Facility', 'ZipCode_-1.0', 'ZipCode_98011.0',\n",
       "       'ZipCode_98013.0', 'ZipCode_98020.0', 'ZipCode_98033.0', 'ZipCode_98053.0', 'ZipCode_98070.0', 'ZipCode_98101.0', 'ZipCode_98102.0', 'ZipCode_98103.0',\n",
       "       'ZipCode_98104.0', 'ZipCode_98105.0', 'ZipCode_98106.0', 'ZipCode_98107.0', 'ZipCode_98108.0', 'ZipCode_98109.0', 'ZipCode_98111.0', 'ZipCode_98112.0',\n",
       "       'ZipCode_98113.0', 'ZipCode_98114.0', 'ZipCode_98115.0', 'ZipCode_98116.0', 'ZipCode_98117.0', 'ZipCode_98118.0', 'ZipCode_98119.0', 'ZipCode_98121.0',\n",
       "       'ZipCode_98122.0', 'ZipCode_98124.0', 'ZipCode_98125.0', 'ZipCode_98126.0', 'ZipCode_98133.0', 'ZipCode_98134.0', 'ZipCode_98136.0', 'ZipCode_98144.0',\n",
       "       'ZipCode_98146.0', 'ZipCode_98154.0', 'ZipCode_98155.0', 'ZipCode_98164.0', 'ZipCode_98165.0', 'ZipCode_98168.0', 'ZipCode_98177.0', 'ZipCode_98178.0',\n",
       "       'ZipCode_98181.0', 'ZipCode_98185.0', 'ZipCode_98195.0', 'ZipCode_98199.0', 'CouncilDistrictCode_1', 'CouncilDistrictCode_2', 'CouncilDistrictCode_3',\n",
       "       'CouncilDistrictCode_4', 'CouncilDistrictCode_5', 'CouncilDistrictCode_6', 'CouncilDistrictCode_7', 'Neighborhood_BALLARD', 'Neighborhood_Ballard',\n",
       "       'Neighborhood_CENTRAL', 'Neighborhood_Central', 'Neighborhood_DELRIDGE', 'Neighborhood_DELRIDGE NEIGHBORHOODS', 'Neighborhood_DOWNTOWN',\n",
       "       'Neighborhood_Delridge', 'Neighborhood_EAST', 'Neighborhood_GREATER DUWAMISH', 'Neighborhood_LAKE UNION', 'Neighborhood_MAGNOLIA / QUEEN ANNE',\n",
       "       'Neighborhood_NORTH', 'Neighborhood_NORTHEAST', 'Neighborhood_NORTHWEST', 'Neighborhood_North', 'Neighborhood_Northwest', 'Neighborhood_SOUTHEAST',\n",
       "       'Neighborhood_SOUTHWEST', 'LargestPropertyUseType_Adult Education', 'LargestPropertyUseType_Automobile Dealership',\n",
       "       'LargestPropertyUseType_Bank Branch', 'LargestPropertyUseType_College/University', 'LargestPropertyUseType_Data Center',\n",
       "       'LargestPropertyUseType_Distribution Center', 'LargestPropertyUseType_Financial Office', 'LargestPropertyUseType_Fire Station',\n",
       "       'LargestPropertyUseType_Fitness Center/Health Club/Gym', 'LargestPropertyUseType_Hospital (General Medical & Surgical)', 'LargestPropertyUseType_Hotel',\n",
       "       'LargestPropertyUseType_K-12 School', 'LargestPropertyUseType_Laboratory', 'LargestPropertyUseType_Library', 'LargestPropertyUseType_Lifestyle Center',\n",
       "       'LargestPropertyUseType_Manufacturing/Industrial Plant', 'LargestPropertyUseType_Medical Office', 'LargestPropertyUseType_Movie Theater',\n",
       "       'LargestPropertyUseType_Multifamily Housing', 'LargestPropertyUseType_Museum', 'LargestPropertyUseType_ND',\n",
       "       'LargestPropertyUseType_Non-Refrigerated Warehouse', 'LargestPropertyUseType_Office', 'LargestPropertyUseType_Other',\n",
       "       'LargestPropertyUseType_Other - Education', 'LargestPropertyUseType_Other - Entertainment/Public Assembly',\n",
       "       'LargestPropertyUseType_Other - Lodging/Residential', 'LargestPropertyUseType_Other - Mall', 'LargestPropertyUseType_Other - Public Services',\n",
       "       'LargestPropertyUseType_Other - Recreation', 'LargestPropertyUseType_Other - Restaurant/Bar', 'LargestPropertyUseType_Other - Services',\n",
       "       'LargestPropertyUseType_Other - Utility', 'LargestPropertyUseType_Other/Specialty Hospital', 'LargestPropertyUseType_Parking',\n",
       "       'LargestPropertyUseType_Performing Arts', 'LargestPropertyUseType_Personal Services (Health/Beauty, Dry Cleaning, etc)',\n",
       "       'LargestPropertyUseType_Pre-school/Daycare', 'LargestPropertyUseType_Prison/Incarceration', 'LargestPropertyUseType_Refrigerated Warehouse',\n",
       "       'LargestPropertyUseType_Repair Services (Vehicle, Shoe, Locksmith, etc)', 'LargestPropertyUseType_Residence Hall/Dormitory',\n",
       "       'LargestPropertyUseType_Residential Care Facility', 'LargestPropertyUseType_Restaurant', 'LargestPropertyUseType_Retail Store',\n",
       "       'LargestPropertyUseType_Self-Storage Facility', 'LargestPropertyUseType_Senior Care Community', 'LargestPropertyUseType_Social/Meeting Hall',\n",
       "       'LargestPropertyUseType_Strip Mall', 'LargestPropertyUseType_Supermarket/Grocery Store', 'LargestPropertyUseType_Urgent Care/Clinic/Other Outpatient',\n",
       "       'LargestPropertyUseType_Wholesale Club/Supercenter', 'LargestPropertyUseType_Worship Facility', 'SecondLargestPropertyUseType_Adult Education',\n",
       "       'SecondLargestPropertyUseType_Automobile Dealership', 'SecondLargestPropertyUseType_Bank Branch', 'SecondLargestPropertyUseType_Bar/Nightclub',\n",
       "       'SecondLargestPropertyUseType_College/University', 'SecondLargestPropertyUseType_Courthouse', 'SecondLargestPropertyUseType_Data Center',\n",
       "       'SecondLargestPropertyUseType_Distribution Center', 'SecondLargestPropertyUseType_Enclosed Mall', 'SecondLargestPropertyUseType_Financial Office',\n",
       "       'SecondLargestPropertyUseType_Fitness Center/Health Club/Gym', 'SecondLargestPropertyUseType_Food Sales', 'SecondLargestPropertyUseType_Food Service',\n",
       "       'SecondLargestPropertyUseType_Hospital (General Medical & Surgical)', 'SecondLargestPropertyUseType_Hotel', 'SecondLargestPropertyUseType_K-12 School',\n",
       "       'SecondLargestPropertyUseType_Laboratory', 'SecondLargestPropertyUseType_Manufacturing/Industrial Plant', 'SecondLargestPropertyUseType_Medical Office',\n",
       "       'SecondLargestPropertyUseType_Movie Theater', 'SecondLargestPropertyUseType_Multifamily Housing', 'SecondLargestPropertyUseType_ND',\n",
       "       'SecondLargestPropertyUseType_Non-Refrigerated Warehouse', 'SecondLargestPropertyUseType_Office', 'SecondLargestPropertyUseType_Other',\n",
       "       'SecondLargestPropertyUseType_Other - Education', 'SecondLargestPropertyUseType_Other - Entertainment/Public Assembly',\n",
       "       'SecondLargestPropertyUseType_Other - Public Services', 'SecondLargestPropertyUseType_Other - Recreation',\n",
       "       'SecondLargestPropertyUseType_Other - Restaurant/Bar', 'SecondLargestPropertyUseType_Other - Services', 'SecondLargestPropertyUseType_Parking',\n",
       "       'SecondLargestPropertyUseType_Performing Arts', 'SecondLargestPropertyUseType_Personal Services (Health/Beauty, Dry Cleaning, etc)',\n",
       "       'SecondLargestPropertyUseType_Pre-school/Daycare', 'SecondLargestPropertyUseType_Refrigerated Warehouse',\n",
       "       'SecondLargestPropertyUseType_Repair Services (Vehicle, Shoe, Locksmith, etc)', 'SecondLargestPropertyUseType_Residence Hall/Dormitory',\n",
       "       'SecondLargestPropertyUseType_Restaurant', 'SecondLargestPropertyUseType_Retail Store', 'SecondLargestPropertyUseType_Self-Storage Facility',\n",
       "       'SecondLargestPropertyUseType_Social/Meeting Hall', 'SecondLargestPropertyUseType_Supermarket/Grocery Store',\n",
       "       'SecondLargestPropertyUseType_Swimming Pool', 'SecondLargestPropertyUseType_Vocational School', 'SecondLargestPropertyUseType_Worship Facility',\n",
       "       'ThirdLargestPropertyUseType_Bank Branch', 'ThirdLargestPropertyUseType_Bar/Nightclub',\n",
       "       'ThirdLargestPropertyUseType_Convenience Store without Gas Station', 'ThirdLargestPropertyUseType_Data Center',\n",
       "       'ThirdLargestPropertyUseType_Distribution Center', 'ThirdLargestPropertyUseType_Fast Food Restaurant', 'ThirdLargestPropertyUseType_Financial Office',\n",
       "       'ThirdLargestPropertyUseType_Fitness Center/Health Club/Gym', 'ThirdLargestPropertyUseType_Food Service', 'ThirdLargestPropertyUseType_Hotel',\n",
       "       'ThirdLargestPropertyUseType_K-12 School', 'ThirdLargestPropertyUseType_Manufacturing/Industrial Plant', 'ThirdLargestPropertyUseType_Medical Office',\n",
       "       'ThirdLargestPropertyUseType_Multifamily Housing', 'ThirdLargestPropertyUseType_ND', 'ThirdLargestPropertyUseType_Non-Refrigerated Warehouse',\n",
       "       'ThirdLargestPropertyUseType_Office', 'ThirdLargestPropertyUseType_Other', 'ThirdLargestPropertyUseType_Other - Education',\n",
       "       'ThirdLargestPropertyUseType_Other - Entertainment/Public Assembly', 'ThirdLargestPropertyUseType_Other - Recreation',\n",
       "       'ThirdLargestPropertyUseType_Other - Restaurant/Bar', 'ThirdLargestPropertyUseType_Other - Services',\n",
       "       'ThirdLargestPropertyUseType_Other - Technology/Science', 'ThirdLargestPropertyUseType_Other/Specialty Hospital', 'ThirdLargestPropertyUseType_Parking',\n",
       "       'ThirdLargestPropertyUseType_Personal Services (Health/Beauty, Dry Cleaning, etc)', 'ThirdLargestPropertyUseType_Pre-school/Daycare',\n",
       "       'ThirdLargestPropertyUseType_Refrigerated Warehouse', 'ThirdLargestPropertyUseType_Restaurant', 'ThirdLargestPropertyUseType_Retail Store',\n",
       "       'ThirdLargestPropertyUseType_Self-Storage Facility', 'ThirdLargestPropertyUseType_Social/Meeting Hall', 'ThirdLargestPropertyUseType_Strip Mall',\n",
       "       'ThirdLargestPropertyUseType_Supermarket/Grocery Store', 'ThirdLargestPropertyUseType_Swimming Pool', 'ThirdLargestPropertyUseType_Vocational School',\n",
       "       'ThirdLargestPropertyUseType_Worship Facility'], dtype=object)"
      ]
     },
     "execution_count": 418,
     "metadata": {},
     "output_type": "execute_result"
    }
   ],
   "source": [
    "noms_des_coefs"
   ]
  },
  {
   "cell_type": "code",
   "execution_count": 419,
   "metadata": {
    "ExecuteTime": {
     "end_time": "2021-06-29T14:10:48.106896Z",
     "start_time": "2021-06-29T14:10:48.085895Z"
    },
    "scrolled": true
   },
   "outputs": [
    {
     "data": {
      "text/html": [
       "<div>\n",
       "<style scoped>\n",
       "    .dataframe tbody tr th:only-of-type {\n",
       "        vertical-align: middle;\n",
       "    }\n",
       "\n",
       "    .dataframe tbody tr th {\n",
       "        vertical-align: top;\n",
       "    }\n",
       "\n",
       "    .dataframe thead th {\n",
       "        text-align: right;\n",
       "    }\n",
       "</style>\n",
       "<table border=\"1\" class=\"dataframe\">\n",
       "  <thead>\n",
       "    <tr style=\"text-align: right;\">\n",
       "      <th></th>\n",
       "      <th>Coef</th>\n",
       "    </tr>\n",
       "  </thead>\n",
       "  <tbody>\n",
       "    <tr>\n",
       "      <th>ZipCode_98013.0</th>\n",
       "      <td>393.9</td>\n",
       "    </tr>\n",
       "    <tr>\n",
       "      <th>ZipCode_98185.0</th>\n",
       "      <td>367.6</td>\n",
       "    </tr>\n",
       "    <tr>\n",
       "      <th>LargestPropertyUseType_Data Center</th>\n",
       "      <td>367.6</td>\n",
       "    </tr>\n",
       "    <tr>\n",
       "      <th>PrimaryPropertyType_Laboratory</th>\n",
       "      <td>184.2</td>\n",
       "    </tr>\n",
       "    <tr>\n",
       "      <th>PrimaryPropertyType_Supermarket / Grocery Store</th>\n",
       "      <td>154.2</td>\n",
       "    </tr>\n",
       "    <tr>\n",
       "      <th>LargestPropertyUseType_Restaurant</th>\n",
       "      <td>152.6</td>\n",
       "    </tr>\n",
       "    <tr>\n",
       "      <th>SecondLargestPropertyUseType_Data Center</th>\n",
       "      <td>131.2</td>\n",
       "    </tr>\n",
       "    <tr>\n",
       "      <th>LargestPropertyUseType_Other/Specialty Hospital</th>\n",
       "      <td>105.8</td>\n",
       "    </tr>\n",
       "    <tr>\n",
       "      <th>ThirdLargestPropertyUseType_Strip Mall</th>\n",
       "      <td>97.5</td>\n",
       "    </tr>\n",
       "    <tr>\n",
       "      <th>ThirdLargestPropertyUseType_Other - Recreation</th>\n",
       "      <td>95.9</td>\n",
       "    </tr>\n",
       "    <tr>\n",
       "      <th>LargestPropertyUseType_Urgent Care/Clinic/Other Outpatient</th>\n",
       "      <td>91.9</td>\n",
       "    </tr>\n",
       "    <tr>\n",
       "      <th>SecondLargestPropertyUseType_Laboratory</th>\n",
       "      <td>90.6</td>\n",
       "    </tr>\n",
       "    <tr>\n",
       "      <th>ThirdLargestPropertyUseType_Other/Specialty Hospital</th>\n",
       "      <td>88.5</td>\n",
       "    </tr>\n",
       "    <tr>\n",
       "      <th>ThirdLargestPropertyUseType_Other - Entertainment/Public Assembly</th>\n",
       "      <td>84.7</td>\n",
       "    </tr>\n",
       "    <tr>\n",
       "      <th>LargestPropertyUseType_Other - Mall</th>\n",
       "      <td>84.4</td>\n",
       "    </tr>\n",
       "    <tr>\n",
       "      <th>ZipCode_98020.0</th>\n",
       "      <td>76.7</td>\n",
       "    </tr>\n",
       "    <tr>\n",
       "      <th>ThirdLargestPropertyUseType_Data Center</th>\n",
       "      <td>76.3</td>\n",
       "    </tr>\n",
       "    <tr>\n",
       "      <th>LargestPropertyUseType_Museum</th>\n",
       "      <td>69.3</td>\n",
       "    </tr>\n",
       "    <tr>\n",
       "      <th>LargestPropertyUseType_Other - Restaurant/Bar</th>\n",
       "      <td>66.9</td>\n",
       "    </tr>\n",
       "    <tr>\n",
       "      <th>ThirdLargestPropertyUseType_Swimming Pool</th>\n",
       "      <td>60.5</td>\n",
       "    </tr>\n",
       "    <tr>\n",
       "      <th>ZipCode_98164.0</th>\n",
       "      <td>60.3</td>\n",
       "    </tr>\n",
       "    <tr>\n",
       "      <th>Neighborhood_Ballard</th>\n",
       "      <td>52.7</td>\n",
       "    </tr>\n",
       "    <tr>\n",
       "      <th>LargestPropertyUseType_Residence Hall/Dormitory</th>\n",
       "      <td>50.7</td>\n",
       "    </tr>\n",
       "    <tr>\n",
       "      <th>SecondLargestPropertyUseType_Supermarket/Grocery Store</th>\n",
       "      <td>50.5</td>\n",
       "    </tr>\n",
       "    <tr>\n",
       "      <th>LargestPropertyUseType_Other - Recreation</th>\n",
       "      <td>46.0</td>\n",
       "    </tr>\n",
       "    <tr>\n",
       "      <th>SecondLargestPropertyUseType_Hospital (General Medical &amp; Surgical)</th>\n",
       "      <td>43.5</td>\n",
       "    </tr>\n",
       "    <tr>\n",
       "      <th>SecondLargestPropertyUseType_Bar/Nightclub</th>\n",
       "      <td>42.3</td>\n",
       "    </tr>\n",
       "    <tr>\n",
       "      <th>SecondLargestPropertyUseType_Food Sales</th>\n",
       "      <td>42.1</td>\n",
       "    </tr>\n",
       "    <tr>\n",
       "      <th>ThirdLargestPropertyUseType_Office</th>\n",
       "      <td>35.8</td>\n",
       "    </tr>\n",
       "    <tr>\n",
       "      <th>PrimaryPropertyType_Hospital</th>\n",
       "      <td>35.6</td>\n",
       "    </tr>\n",
       "    <tr>\n",
       "      <th>LargestPropertyUseType_Hospital (General Medical &amp; Surgical)</th>\n",
       "      <td>35.6</td>\n",
       "    </tr>\n",
       "    <tr>\n",
       "      <th>SecondLargestPropertyUseType_Financial Office</th>\n",
       "      <td>35.1</td>\n",
       "    </tr>\n",
       "    <tr>\n",
       "      <th>LargestPropertyUseType_Hotel</th>\n",
       "      <td>34.3</td>\n",
       "    </tr>\n",
       "    <tr>\n",
       "      <th>ThirdLargestPropertyUseType_Other - Education</th>\n",
       "      <td>33.9</td>\n",
       "    </tr>\n",
       "    <tr>\n",
       "      <th>ThirdLargestPropertyUseType_Social/Meeting Hall</th>\n",
       "      <td>33.8</td>\n",
       "    </tr>\n",
       "    <tr>\n",
       "      <th>Neighborhood_BALLARD</th>\n",
       "      <td>33.6</td>\n",
       "    </tr>\n",
       "    <tr>\n",
       "      <th>ThirdLargestPropertyUseType_Other - Technology/Science</th>\n",
       "      <td>33.5</td>\n",
       "    </tr>\n",
       "    <tr>\n",
       "      <th>SecondLargestPropertyUseType_Manufacturing/Industrial Plant</th>\n",
       "      <td>29.4</td>\n",
       "    </tr>\n",
       "    <tr>\n",
       "      <th>SecondLargestPropertyUseType_Performing Arts</th>\n",
       "      <td>27.8</td>\n",
       "    </tr>\n",
       "    <tr>\n",
       "      <th>ThirdLargestPropertyUseType_Other - Services</th>\n",
       "      <td>27.8</td>\n",
       "    </tr>\n",
       "    <tr>\n",
       "      <th>SecondLargestPropertyUseType_Social/Meeting Hall</th>\n",
       "      <td>27.4</td>\n",
       "    </tr>\n",
       "    <tr>\n",
       "      <th>SecondLargestPropertyUseType_Swimming Pool</th>\n",
       "      <td>24.3</td>\n",
       "    </tr>\n",
       "    <tr>\n",
       "      <th>LargestPropertyUseType_Personal Services (Health/Beauty, Dry Cleaning, etc)</th>\n",
       "      <td>23.5</td>\n",
       "    </tr>\n",
       "    <tr>\n",
       "      <th>PrimaryPropertyType_Retail Store</th>\n",
       "      <td>23.0</td>\n",
       "    </tr>\n",
       "    <tr>\n",
       "      <th>Neighborhood_MAGNOLIA / QUEEN ANNE</th>\n",
       "      <td>22.7</td>\n",
       "    </tr>\n",
       "    <tr>\n",
       "      <th>CouncilDistrictCode_3</th>\n",
       "      <td>22.6</td>\n",
       "    </tr>\n",
       "    <tr>\n",
       "      <th>CouncilDistrictCode_1</th>\n",
       "      <td>22.5</td>\n",
       "    </tr>\n",
       "    <tr>\n",
       "      <th>SecondLargestPropertyUseType_Food Service</th>\n",
       "      <td>22.4</td>\n",
       "    </tr>\n",
       "    <tr>\n",
       "      <th>ThirdLargestPropertyUseType_Other - Restaurant/Bar</th>\n",
       "      <td>21.7</td>\n",
       "    </tr>\n",
       "    <tr>\n",
       "      <th>LargestPropertyUseType_Parking</th>\n",
       "      <td>20.4</td>\n",
       "    </tr>\n",
       "    <tr>\n",
       "      <th>ZipCode_98011.0</th>\n",
       "      <td>20.3</td>\n",
       "    </tr>\n",
       "    <tr>\n",
       "      <th>Neighborhood_LAKE UNION</th>\n",
       "      <td>20.3</td>\n",
       "    </tr>\n",
       "    <tr>\n",
       "      <th>Neighborhood_NORTHEAST</th>\n",
       "      <td>19.4</td>\n",
       "    </tr>\n",
       "    <tr>\n",
       "      <th>SecondLargestPropertyUseType_Other - Restaurant/Bar</th>\n",
       "      <td>18.5</td>\n",
       "    </tr>\n",
       "    <tr>\n",
       "      <th>BuildingType_Campus</th>\n",
       "      <td>18.3</td>\n",
       "    </tr>\n",
       "    <tr>\n",
       "      <th>SecondLargestPropertyUseType_Other - Recreation</th>\n",
       "      <td>17.4</td>\n",
       "    </tr>\n",
       "    <tr>\n",
       "      <th>ThirdLargestPropertyUseType_Refrigerated Warehouse</th>\n",
       "      <td>17.3</td>\n",
       "    </tr>\n",
       "    <tr>\n",
       "      <th>LargestPropertyUseType_Laboratory</th>\n",
       "      <td>16.4</td>\n",
       "    </tr>\n",
       "    <tr>\n",
       "      <th>SecondLargestPropertyUseType_Restaurant</th>\n",
       "      <td>15.4</td>\n",
       "    </tr>\n",
       "    <tr>\n",
       "      <th>ZipCode_98178.0</th>\n",
       "      <td>14.2</td>\n",
       "    </tr>\n",
       "    <tr>\n",
       "      <th>PrimaryPropertyType_Senior Care Community</th>\n",
       "      <td>12.6</td>\n",
       "    </tr>\n",
       "    <tr>\n",
       "      <th>LargestPropertyUseType_Senior Care Community</th>\n",
       "      <td>12.6</td>\n",
       "    </tr>\n",
       "    <tr>\n",
       "      <th>PrimaryPropertyType_Mixed Use Property</th>\n",
       "      <td>12.1</td>\n",
       "    </tr>\n",
       "    <tr>\n",
       "      <th>Neighborhood_Northwest</th>\n",
       "      <td>12.1</td>\n",
       "    </tr>\n",
       "    <tr>\n",
       "      <th>CouncilDistrictCode_2</th>\n",
       "      <td>11.0</td>\n",
       "    </tr>\n",
       "    <tr>\n",
       "      <th>LargestPropertyUseType_ND</th>\n",
       "      <td>10.7</td>\n",
       "    </tr>\n",
       "    <tr>\n",
       "      <th>Neighborhood_NORTHWEST</th>\n",
       "      <td>10.7</td>\n",
       "    </tr>\n",
       "    <tr>\n",
       "      <th>SecondLargestPropertyUseType_Fitness Center/Health Club/Gym</th>\n",
       "      <td>10.5</td>\n",
       "    </tr>\n",
       "    <tr>\n",
       "      <th>LargestPropertyUseType_Residential Care Facility</th>\n",
       "      <td>10.4</td>\n",
       "    </tr>\n",
       "    <tr>\n",
       "      <th>ThirdLargestPropertyUseType_ND</th>\n",
       "      <td>9.9</td>\n",
       "    </tr>\n",
       "    <tr>\n",
       "      <th>Neighborhood_DELRIDGE</th>\n",
       "      <td>9.6</td>\n",
       "    </tr>\n",
       "    <tr>\n",
       "      <th>SecondLargestPropertyUseType_Hotel</th>\n",
       "      <td>9.3</td>\n",
       "    </tr>\n",
       "    <tr>\n",
       "      <th>PrimaryPropertyType_Warehouse</th>\n",
       "      <td>8.7</td>\n",
       "    </tr>\n",
       "    <tr>\n",
       "      <th>LargestPropertyUseType_Manufacturing/Industrial Plant</th>\n",
       "      <td>7.6</td>\n",
       "    </tr>\n",
       "    <tr>\n",
       "      <th>CouncilDistrictCode_7</th>\n",
       "      <td>6.6</td>\n",
       "    </tr>\n",
       "    <tr>\n",
       "      <th>Longitude</th>\n",
       "      <td>6.5</td>\n",
       "    </tr>\n",
       "    <tr>\n",
       "      <th>SecondLargestPropertyUseType_Office</th>\n",
       "      <td>6.1</td>\n",
       "    </tr>\n",
       "    <tr>\n",
       "      <th>Latitude</th>\n",
       "      <td>5.5</td>\n",
       "    </tr>\n",
       "    <tr>\n",
       "      <th>Neighborhood_North</th>\n",
       "      <td>3.5</td>\n",
       "    </tr>\n",
       "    <tr>\n",
       "      <th>ZipCode_98105.0</th>\n",
       "      <td>3.0</td>\n",
       "    </tr>\n",
       "    <tr>\n",
       "      <th>ThirdLargestPropertyUseType_Non-Refrigerated Warehouse</th>\n",
       "      <td>3.0</td>\n",
       "    </tr>\n",
       "    <tr>\n",
       "      <th>SecondLargestPropertyUseType_Other - Services</th>\n",
       "      <td>2.9</td>\n",
       "    </tr>\n",
       "    <tr>\n",
       "      <th>ThirdLargestPropertyUseType_Multifamily Housing</th>\n",
       "      <td>2.8</td>\n",
       "    </tr>\n",
       "    <tr>\n",
       "      <th>LargestPropertyUseType_Financial Office</th>\n",
       "      <td>2.4</td>\n",
       "    </tr>\n",
       "    <tr>\n",
       "      <th>SecondLargestPropertyUseType_Medical Office</th>\n",
       "      <td>2.2</td>\n",
       "    </tr>\n",
       "    <tr>\n",
       "      <th>ThirdLargestPropertyUseType_Other</th>\n",
       "      <td>2.1</td>\n",
       "    </tr>\n",
       "    <tr>\n",
       "      <th>SecondLargestPropertyUseType_Parking</th>\n",
       "      <td>1.5</td>\n",
       "    </tr>\n",
       "    <tr>\n",
       "      <th>Surface_au_sol(sf)</th>\n",
       "      <td>1.3</td>\n",
       "    </tr>\n",
       "    <tr>\n",
       "      <th>LargestPropertyUseType_Other</th>\n",
       "      <td>1.0</td>\n",
       "    </tr>\n",
       "    <tr>\n",
       "      <th>ZipCode_98118.0</th>\n",
       "      <td>0.2</td>\n",
       "    </tr>\n",
       "    <tr>\n",
       "      <th>ThirdLargestPropertyUseType_Bank Branch</th>\n",
       "      <td>0.2</td>\n",
       "    </tr>\n",
       "    <tr>\n",
       "      <th>BuildingType_Nonresidential COS</th>\n",
       "      <td>-0.2</td>\n",
       "    </tr>\n",
       "    <tr>\n",
       "      <th>SecondLargestPropertyUseType_Other - Public Services</th>\n",
       "      <td>-0.4</td>\n",
       "    </tr>\n",
       "    <tr>\n",
       "      <th>ThirdLargestPropertyUseType_Restaurant</th>\n",
       "      <td>-0.6</td>\n",
       "    </tr>\n",
       "    <tr>\n",
       "      <th>NumberofFloors</th>\n",
       "      <td>-0.7</td>\n",
       "    </tr>\n",
       "    <tr>\n",
       "      <th>ZipCode_98116.0</th>\n",
       "      <td>-0.7</td>\n",
       "    </tr>\n",
       "    <tr>\n",
       "      <th>YearBuilt</th>\n",
       "      <td>-1.2</td>\n",
       "    </tr>\n",
       "    <tr>\n",
       "      <th>ZipCode_98177.0</th>\n",
       "      <td>-1.4</td>\n",
       "    </tr>\n",
       "    <tr>\n",
       "      <th>NumberofBuildings</th>\n",
       "      <td>-1.7</td>\n",
       "    </tr>\n",
       "    <tr>\n",
       "      <th>SecondLargestPropertyUseType_College/University</th>\n",
       "      <td>-2.2</td>\n",
       "    </tr>\n",
       "    <tr>\n",
       "      <th>SecondLargestPropertyUseType_Adult Education</th>\n",
       "      <td>-2.7</td>\n",
       "    </tr>\n",
       "    <tr>\n",
       "      <th>BuildingType_NonResidential</th>\n",
       "      <td>-2.7</td>\n",
       "    </tr>\n",
       "    <tr>\n",
       "      <th>ThirdLargestPropertyUseType_Parking</th>\n",
       "      <td>-2.9</td>\n",
       "    </tr>\n",
       "    <tr>\n",
       "      <th>Neighborhood_NORTH</th>\n",
       "      <td>-2.9</td>\n",
       "    </tr>\n",
       "    <tr>\n",
       "      <th>PrimaryPropertyType_Large Office</th>\n",
       "      <td>-3.0</td>\n",
       "    </tr>\n",
       "    <tr>\n",
       "      <th>ZipCode_98103.0</th>\n",
       "      <td>-3.1</td>\n",
       "    </tr>\n",
       "    <tr>\n",
       "      <th>PrimaryPropertyType_Distribution Center</th>\n",
       "      <td>-3.6</td>\n",
       "    </tr>\n",
       "    <tr>\n",
       "      <th>ZipCode_98136.0</th>\n",
       "      <td>-3.7</td>\n",
       "    </tr>\n",
       "    <tr>\n",
       "      <th>ThirdLargestPropertyUseType_Financial Office</th>\n",
       "      <td>-3.9</td>\n",
       "    </tr>\n",
       "    <tr>\n",
       "      <th>SecondLargestPropertyUseType_K-12 School</th>\n",
       "      <td>-4.0</td>\n",
       "    </tr>\n",
       "    <tr>\n",
       "      <th>PrimaryPropertyType_Small- and Mid-Sized Office</th>\n",
       "      <td>-4.1</td>\n",
       "    </tr>\n",
       "    <tr>\n",
       "      <th>SecondLargestPropertyUseType_Pre-school/Daycare</th>\n",
       "      <td>-4.4</td>\n",
       "    </tr>\n",
       "    <tr>\n",
       "      <th>Neighborhood_DOWNTOWN</th>\n",
       "      <td>-4.4</td>\n",
       "    </tr>\n",
       "    <tr>\n",
       "      <th>Neighborhood_GREATER DUWAMISH</th>\n",
       "      <td>-4.5</td>\n",
       "    </tr>\n",
       "    <tr>\n",
       "      <th>PrimaryPropertyType_Other</th>\n",
       "      <td>-4.7</td>\n",
       "    </tr>\n",
       "    <tr>\n",
       "      <th>ZipCode_98111.0</th>\n",
       "      <td>-5.3</td>\n",
       "    </tr>\n",
       "    <tr>\n",
       "      <th>ZipCode_98117.0</th>\n",
       "      <td>-5.4</td>\n",
       "    </tr>\n",
       "    <tr>\n",
       "      <th>SecondLargestPropertyUseType_Retail Store</th>\n",
       "      <td>-5.4</td>\n",
       "    </tr>\n",
       "    <tr>\n",
       "      <th>SecondLargestPropertyUseType_Multifamily Housing</th>\n",
       "      <td>-5.9</td>\n",
       "    </tr>\n",
       "    <tr>\n",
       "      <th>Neighborhood_EAST</th>\n",
       "      <td>-6.3</td>\n",
       "    </tr>\n",
       "    <tr>\n",
       "      <th>LargestPropertyUseType_Other - Public Services</th>\n",
       "      <td>-6.7</td>\n",
       "    </tr>\n",
       "    <tr>\n",
       "      <th>Neighborhood_Central</th>\n",
       "      <td>-6.9</td>\n",
       "    </tr>\n",
       "    <tr>\n",
       "      <th>LargestPropertyUseType_Supermarket/Grocery Store</th>\n",
       "      <td>-7.0</td>\n",
       "    </tr>\n",
       "    <tr>\n",
       "      <th>CouncilDistrictCode_5</th>\n",
       "      <td>-8.2</td>\n",
       "    </tr>\n",
       "    <tr>\n",
       "      <th>LargestPropertyUseType_Refrigerated Warehouse</th>\n",
       "      <td>-8.6</td>\n",
       "    </tr>\n",
       "    <tr>\n",
       "      <th>PrimaryPropertyType_Refrigerated Warehouse</th>\n",
       "      <td>-8.6</td>\n",
       "    </tr>\n",
       "    <tr>\n",
       "      <th>LargestPropertyUseType_Medical Office</th>\n",
       "      <td>-8.9</td>\n",
       "    </tr>\n",
       "    <tr>\n",
       "      <th>PrimaryPropertyType_Medical Office</th>\n",
       "      <td>-8.9</td>\n",
       "    </tr>\n",
       "    <tr>\n",
       "      <th>LargestPropertyUseType_Strip Mall</th>\n",
       "      <td>-8.9</td>\n",
       "    </tr>\n",
       "    <tr>\n",
       "      <th>ZipCode_98195.0</th>\n",
       "      <td>-8.9</td>\n",
       "    </tr>\n",
       "    <tr>\n",
       "      <th>SecondLargestPropertyUseType_ND</th>\n",
       "      <td>-9.3</td>\n",
       "    </tr>\n",
       "    <tr>\n",
       "      <th>SecondLargestPropertyUseType_Other</th>\n",
       "      <td>-9.3</td>\n",
       "    </tr>\n",
       "    <tr>\n",
       "      <th>Neighborhood_SOUTHWEST</th>\n",
       "      <td>-9.7</td>\n",
       "    </tr>\n",
       "    <tr>\n",
       "      <th>ThirdLargestPropertyUseType_Medical Office</th>\n",
       "      <td>-9.8</td>\n",
       "    </tr>\n",
       "    <tr>\n",
       "      <th>ZipCode_98101.0</th>\n",
       "      <td>-10.1</td>\n",
       "    </tr>\n",
       "    <tr>\n",
       "      <th>ThirdLargestPropertyUseType_Vocational School</th>\n",
       "      <td>-10.2</td>\n",
       "    </tr>\n",
       "    <tr>\n",
       "      <th>ZipCode_98121.0</th>\n",
       "      <td>-10.4</td>\n",
       "    </tr>\n",
       "    <tr>\n",
       "      <th>LargestPropertyUseType_Fire Station</th>\n",
       "      <td>-11.5</td>\n",
       "    </tr>\n",
       "    <tr>\n",
       "      <th>ThirdLargestPropertyUseType_Retail Store</th>\n",
       "      <td>-11.6</td>\n",
       "    </tr>\n",
       "    <tr>\n",
       "      <th>ZipCode_98113.0</th>\n",
       "      <td>-11.7</td>\n",
       "    </tr>\n",
       "    <tr>\n",
       "      <th>LargestPropertyUseType_Movie Theater</th>\n",
       "      <td>-11.7</td>\n",
       "    </tr>\n",
       "    <tr>\n",
       "      <th>ZipCode_98106.0</th>\n",
       "      <td>-12.0</td>\n",
       "    </tr>\n",
       "    <tr>\n",
       "      <th>SecondLargestPropertyUseType_Repair Services (Vehicle, Shoe, Locksmith, etc)</th>\n",
       "      <td>-12.2</td>\n",
       "    </tr>\n",
       "    <tr>\n",
       "      <th>ZipCode_98107.0</th>\n",
       "      <td>-12.5</td>\n",
       "    </tr>\n",
       "    <tr>\n",
       "      <th>LargestPropertyUseType_Prison/Incarceration</th>\n",
       "      <td>-13.4</td>\n",
       "    </tr>\n",
       "    <tr>\n",
       "      <th>SecondLargestPropertyUseType_Movie Theater</th>\n",
       "      <td>-13.7</td>\n",
       "    </tr>\n",
       "    <tr>\n",
       "      <th>ZipCode_98102.0</th>\n",
       "      <td>-13.9</td>\n",
       "    </tr>\n",
       "    <tr>\n",
       "      <th>ZipCode_98168.0</th>\n",
       "      <td>-14.0</td>\n",
       "    </tr>\n",
       "    <tr>\n",
       "      <th>PrimaryPropertyType_Low-Rise Multifamily</th>\n",
       "      <td>-14.2</td>\n",
       "    </tr>\n",
       "    <tr>\n",
       "      <th>PrimaryPropertyType_Office</th>\n",
       "      <td>-14.4</td>\n",
       "    </tr>\n",
       "    <tr>\n",
       "      <th>ZipCode_98108.0</th>\n",
       "      <td>-15.1</td>\n",
       "    </tr>\n",
       "    <tr>\n",
       "      <th>BuildingType_SPS-District K-12</th>\n",
       "      <td>-15.4</td>\n",
       "    </tr>\n",
       "    <tr>\n",
       "      <th>LargestPropertyUseType_Library</th>\n",
       "      <td>-15.7</td>\n",
       "    </tr>\n",
       "    <tr>\n",
       "      <th>ZipCode_98154.0</th>\n",
       "      <td>-16.1</td>\n",
       "    </tr>\n",
       "    <tr>\n",
       "      <th>SecondLargestPropertyUseType_Worship Facility</th>\n",
       "      <td>-16.8</td>\n",
       "    </tr>\n",
       "    <tr>\n",
       "      <th>SecondLargestPropertyUseType_Courthouse</th>\n",
       "      <td>-17.6</td>\n",
       "    </tr>\n",
       "    <tr>\n",
       "      <th>PrimaryPropertyType_University</th>\n",
       "      <td>-17.6</td>\n",
       "    </tr>\n",
       "    <tr>\n",
       "      <th>LargestPropertyUseType_College/University</th>\n",
       "      <td>-17.6</td>\n",
       "    </tr>\n",
       "    <tr>\n",
       "      <th>LargestPropertyUseType_Other - Entertainment/Public Assembly</th>\n",
       "      <td>-17.8</td>\n",
       "    </tr>\n",
       "    <tr>\n",
       "      <th>Neighborhood_CENTRAL</th>\n",
       "      <td>-18.5</td>\n",
       "    </tr>\n",
       "    <tr>\n",
       "      <th>ZipCode_98134.0</th>\n",
       "      <td>-18.5</td>\n",
       "    </tr>\n",
       "    <tr>\n",
       "      <th>ZipCode_98144.0</th>\n",
       "      <td>-18.6</td>\n",
       "    </tr>\n",
       "    <tr>\n",
       "      <th>ZipCode_98115.0</th>\n",
       "      <td>-19.7</td>\n",
       "    </tr>\n",
       "    <tr>\n",
       "      <th>ThirdLargestPropertyUseType_Food Service</th>\n",
       "      <td>-20.6</td>\n",
       "    </tr>\n",
       "    <tr>\n",
       "      <th>ThirdLargestPropertyUseType_K-12 School</th>\n",
       "      <td>-20.6</td>\n",
       "    </tr>\n",
       "    <tr>\n",
       "      <th>SecondLargestPropertyUseType_Bank Branch</th>\n",
       "      <td>-21.1</td>\n",
       "    </tr>\n",
       "    <tr>\n",
       "      <th>LargestPropertyUseType_Pre-school/Daycare</th>\n",
       "      <td>-21.3</td>\n",
       "    </tr>\n",
       "    <tr>\n",
       "      <th>LargestPropertyUseType_Self-Storage Facility</th>\n",
       "      <td>-21.5</td>\n",
       "    </tr>\n",
       "    <tr>\n",
       "      <th>LargestPropertyUseType_Social/Meeting Hall</th>\n",
       "      <td>-21.8</td>\n",
       "    </tr>\n",
       "    <tr>\n",
       "      <th>ZipCode_98104.0</th>\n",
       "      <td>-22.7</td>\n",
       "    </tr>\n",
       "    <tr>\n",
       "      <th>PrimaryPropertyType_K-12 School</th>\n",
       "      <td>-22.8</td>\n",
       "    </tr>\n",
       "    <tr>\n",
       "      <th>LargestPropertyUseType_K-12 School</th>\n",
       "      <td>-22.8</td>\n",
       "    </tr>\n",
       "    <tr>\n",
       "      <th>SecondLargestPropertyUseType_Self-Storage Facility</th>\n",
       "      <td>-22.9</td>\n",
       "    </tr>\n",
       "    <tr>\n",
       "      <th>ThirdLargestPropertyUseType_Fitness Center/Health Club/Gym</th>\n",
       "      <td>-23.0</td>\n",
       "    </tr>\n",
       "    <tr>\n",
       "      <th>ZipCode_-1.0</th>\n",
       "      <td>-23.6</td>\n",
       "    </tr>\n",
       "    <tr>\n",
       "      <th>SecondLargestPropertyUseType_Vocational School</th>\n",
       "      <td>-23.7</td>\n",
       "    </tr>\n",
       "    <tr>\n",
       "      <th>SecondLargestPropertyUseType_Refrigerated Warehouse</th>\n",
       "      <td>-23.8</td>\n",
       "    </tr>\n",
       "    <tr>\n",
       "      <th>ZipCode_98126.0</th>\n",
       "      <td>-23.9</td>\n",
       "    </tr>\n",
       "    <tr>\n",
       "      <th>SecondLargestPropertyUseType_Other - Education</th>\n",
       "      <td>-23.9</td>\n",
       "    </tr>\n",
       "    <tr>\n",
       "      <th>ZipCode_98033.0</th>\n",
       "      <td>-24.0</td>\n",
       "    </tr>\n",
       "    <tr>\n",
       "      <th>Neighborhood_SOUTHEAST</th>\n",
       "      <td>-25.7</td>\n",
       "    </tr>\n",
       "    <tr>\n",
       "      <th>CouncilDistrictCode_6</th>\n",
       "      <td>-26.9</td>\n",
       "    </tr>\n",
       "    <tr>\n",
       "      <th>ZipCode_98119.0</th>\n",
       "      <td>-27.0</td>\n",
       "    </tr>\n",
       "    <tr>\n",
       "      <th>SecondLargestPropertyUseType_Distribution Center</th>\n",
       "      <td>-27.4</td>\n",
       "    </tr>\n",
       "    <tr>\n",
       "      <th>CouncilDistrictCode_4</th>\n",
       "      <td>-27.6</td>\n",
       "    </tr>\n",
       "    <tr>\n",
       "      <th>Neighborhood_Delridge</th>\n",
       "      <td>-28.0</td>\n",
       "    </tr>\n",
       "    <tr>\n",
       "      <th>SecondLargestPropertyUseType_Enclosed Mall</th>\n",
       "      <td>-29.0</td>\n",
       "    </tr>\n",
       "    <tr>\n",
       "      <th>ZipCode_98133.0</th>\n",
       "      <td>-29.5</td>\n",
       "    </tr>\n",
       "    <tr>\n",
       "      <th>ZipCode_98112.0</th>\n",
       "      <td>-29.8</td>\n",
       "    </tr>\n",
       "    <tr>\n",
       "      <th>LargestPropertyUseType_Other - Services</th>\n",
       "      <td>-30.4</td>\n",
       "    </tr>\n",
       "    <tr>\n",
       "      <th>ZipCode_98124.0</th>\n",
       "      <td>-30.6</td>\n",
       "    </tr>\n",
       "    <tr>\n",
       "      <th>ThirdLargestPropertyUseType_Manufacturing/Industrial Plant</th>\n",
       "      <td>-30.6</td>\n",
       "    </tr>\n",
       "    <tr>\n",
       "      <th>LargestPropertyUseType_Worship Facility</th>\n",
       "      <td>-31.3</td>\n",
       "    </tr>\n",
       "    <tr>\n",
       "      <th>PrimaryPropertyType_Worship Facility</th>\n",
       "      <td>-31.3</td>\n",
       "    </tr>\n",
       "    <tr>\n",
       "      <th>ThirdLargestPropertyUseType_Personal Services (Health/Beauty, Dry Cleaning, etc)</th>\n",
       "      <td>-32.1</td>\n",
       "    </tr>\n",
       "    <tr>\n",
       "      <th>LargestPropertyUseType_Repair Services (Vehicle, Shoe, Locksmith, etc)</th>\n",
       "      <td>-32.8</td>\n",
       "    </tr>\n",
       "    <tr>\n",
       "      <th>LargestPropertyUseType_Office</th>\n",
       "      <td>-32.9</td>\n",
       "    </tr>\n",
       "    <tr>\n",
       "      <th>SecondLargestPropertyUseType_Other - Entertainment/Public Assembly</th>\n",
       "      <td>-34.0</td>\n",
       "    </tr>\n",
       "    <tr>\n",
       "      <th>SecondLargestPropertyUseType_Non-Refrigerated Warehouse</th>\n",
       "      <td>-36.0</td>\n",
       "    </tr>\n",
       "    <tr>\n",
       "      <th>ThirdLargestPropertyUseType_Bar/Nightclub</th>\n",
       "      <td>-36.3</td>\n",
       "    </tr>\n",
       "    <tr>\n",
       "      <th>ZipCode_98109.0</th>\n",
       "      <td>-36.3</td>\n",
       "    </tr>\n",
       "    <tr>\n",
       "      <th>ZipCode_98125.0</th>\n",
       "      <td>-36.3</td>\n",
       "    </tr>\n",
       "    <tr>\n",
       "      <th>ZipCode_98122.0</th>\n",
       "      <td>-36.9</td>\n",
       "    </tr>\n",
       "    <tr>\n",
       "      <th>ThirdLargestPropertyUseType_Worship Facility</th>\n",
       "      <td>-37.8</td>\n",
       "    </tr>\n",
       "    <tr>\n",
       "      <th>ZipCode_98199.0</th>\n",
       "      <td>-37.9</td>\n",
       "    </tr>\n",
       "    <tr>\n",
       "      <th>LargestPropertyUseType_Other - Lodging/Residential</th>\n",
       "      <td>-37.9</td>\n",
       "    </tr>\n",
       "    <tr>\n",
       "      <th>LargestPropertyUseType_Lifestyle Center</th>\n",
       "      <td>-38.7</td>\n",
       "    </tr>\n",
       "    <tr>\n",
       "      <th>ThirdLargestPropertyUseType_Fast Food Restaurant</th>\n",
       "      <td>-39.2</td>\n",
       "    </tr>\n",
       "    <tr>\n",
       "      <th>ThirdLargestPropertyUseType_Convenience Store without Gas Station</th>\n",
       "      <td>-39.7</td>\n",
       "    </tr>\n",
       "    <tr>\n",
       "      <th>ZipCode_98114.0</th>\n",
       "      <td>-39.9</td>\n",
       "    </tr>\n",
       "    <tr>\n",
       "      <th>LargestPropertyUseType_Bank Branch</th>\n",
       "      <td>-40.2</td>\n",
       "    </tr>\n",
       "    <tr>\n",
       "      <th>ZipCode_98165.0</th>\n",
       "      <td>-40.7</td>\n",
       "    </tr>\n",
       "    <tr>\n",
       "      <th>ZipCode_98155.0</th>\n",
       "      <td>-42.4</td>\n",
       "    </tr>\n",
       "    <tr>\n",
       "      <th>LargestPropertyUseType_Fitness Center/Health Club/Gym</th>\n",
       "      <td>-42.5</td>\n",
       "    </tr>\n",
       "    <tr>\n",
       "      <th>ThirdLargestPropertyUseType_Self-Storage Facility</th>\n",
       "      <td>-45.4</td>\n",
       "    </tr>\n",
       "    <tr>\n",
       "      <th>PrimaryPropertyType_Hotel</th>\n",
       "      <td>-49.5</td>\n",
       "    </tr>\n",
       "    <tr>\n",
       "      <th>ZipCode_98053.0</th>\n",
       "      <td>-50.0</td>\n",
       "    </tr>\n",
       "    <tr>\n",
       "      <th>LargestPropertyUseType_Adult Education</th>\n",
       "      <td>-50.3</td>\n",
       "    </tr>\n",
       "    <tr>\n",
       "      <th>ZipCode_98181.0</th>\n",
       "      <td>-50.6</td>\n",
       "    </tr>\n",
       "    <tr>\n",
       "      <th>PrimaryPropertyType_Self-Storage Facility</th>\n",
       "      <td>-51.2</td>\n",
       "    </tr>\n",
       "    <tr>\n",
       "      <th>LargestPropertyUseType_Other - Utility</th>\n",
       "      <td>-52.2</td>\n",
       "    </tr>\n",
       "    <tr>\n",
       "      <th>LargestPropertyUseType_Automobile Dealership</th>\n",
       "      <td>-54.2</td>\n",
       "    </tr>\n",
       "    <tr>\n",
       "      <th>ThirdLargestPropertyUseType_Hotel</th>\n",
       "      <td>-54.9</td>\n",
       "    </tr>\n",
       "    <tr>\n",
       "      <th>LargestPropertyUseType_Retail Store</th>\n",
       "      <td>-57.9</td>\n",
       "    </tr>\n",
       "    <tr>\n",
       "      <th>LargestPropertyUseType_Multifamily Housing</th>\n",
       "      <td>-59.6</td>\n",
       "    </tr>\n",
       "    <tr>\n",
       "      <th>SecondLargestPropertyUseType_Residence Hall/Dormitory</th>\n",
       "      <td>-60.7</td>\n",
       "    </tr>\n",
       "    <tr>\n",
       "      <th>LargestPropertyUseType_Distribution Center</th>\n",
       "      <td>-63.0</td>\n",
       "    </tr>\n",
       "    <tr>\n",
       "      <th>LargestPropertyUseType_Other - Education</th>\n",
       "      <td>-63.5</td>\n",
       "    </tr>\n",
       "    <tr>\n",
       "      <th>ZipCode_98146.0</th>\n",
       "      <td>-65.7</td>\n",
       "    </tr>\n",
       "    <tr>\n",
       "      <th>ThirdLargestPropertyUseType_Pre-school/Daycare</th>\n",
       "      <td>-65.9</td>\n",
       "    </tr>\n",
       "    <tr>\n",
       "      <th>LargestPropertyUseType_Performing Arts</th>\n",
       "      <td>-72.2</td>\n",
       "    </tr>\n",
       "    <tr>\n",
       "      <th>LargestPropertyUseType_Non-Refrigerated Warehouse</th>\n",
       "      <td>-75.4</td>\n",
       "    </tr>\n",
       "    <tr>\n",
       "      <th>Neighborhood_DELRIDGE NEIGHBORHOODS</th>\n",
       "      <td>-77.8</td>\n",
       "    </tr>\n",
       "    <tr>\n",
       "      <th>SecondLargestPropertyUseType_Automobile Dealership</th>\n",
       "      <td>-81.4</td>\n",
       "    </tr>\n",
       "    <tr>\n",
       "      <th>ZipCode_98070.0</th>\n",
       "      <td>-87.2</td>\n",
       "    </tr>\n",
       "    <tr>\n",
       "      <th>ThirdLargestPropertyUseType_Distribution Center</th>\n",
       "      <td>-87.3</td>\n",
       "    </tr>\n",
       "    <tr>\n",
       "      <th>PrimaryPropertyType_Restaurant</th>\n",
       "      <td>-93.0</td>\n",
       "    </tr>\n",
       "    <tr>\n",
       "      <th>PrimaryPropertyType_Residence Hall</th>\n",
       "      <td>-103.4</td>\n",
       "    </tr>\n",
       "    <tr>\n",
       "      <th>ThirdLargestPropertyUseType_Supermarket/Grocery Store</th>\n",
       "      <td>-152.8</td>\n",
       "    </tr>\n",
       "    <tr>\n",
       "      <th>LargestPropertyUseType_Wholesale Club/Supercenter</th>\n",
       "      <td>-159.8</td>\n",
       "    </tr>\n",
       "    <tr>\n",
       "      <th>SecondLargestPropertyUseType_Personal Services (Health/Beauty, Dry Cleaning, etc)</th>\n",
       "      <td>-162.7</td>\n",
       "    </tr>\n",
       "  </tbody>\n",
       "</table>\n",
       "</div>"
      ],
      "text/plain": [
       "                                                                                    Coef\n",
       "ZipCode_98013.0                                                                    393.9\n",
       "ZipCode_98185.0                                                                    367.6\n",
       "LargestPropertyUseType_Data Center                                                 367.6\n",
       "PrimaryPropertyType_Laboratory                                                     184.2\n",
       "PrimaryPropertyType_Supermarket / Grocery Store                                    154.2\n",
       "LargestPropertyUseType_Restaurant                                                  152.6\n",
       "SecondLargestPropertyUseType_Data Center                                           131.2\n",
       "LargestPropertyUseType_Other/Specialty Hospital                                    105.8\n",
       "ThirdLargestPropertyUseType_Strip Mall                                              97.5\n",
       "ThirdLargestPropertyUseType_Other - Recreation                                      95.9\n",
       "LargestPropertyUseType_Urgent Care/Clinic/Other Outpatient                          91.9\n",
       "SecondLargestPropertyUseType_Laboratory                                             90.6\n",
       "ThirdLargestPropertyUseType_Other/Specialty Hospital                                88.5\n",
       "ThirdLargestPropertyUseType_Other - Entertainment/Public Assembly                   84.7\n",
       "LargestPropertyUseType_Other - Mall                                                 84.4\n",
       "ZipCode_98020.0                                                                     76.7\n",
       "ThirdLargestPropertyUseType_Data Center                                             76.3\n",
       "LargestPropertyUseType_Museum                                                       69.3\n",
       "LargestPropertyUseType_Other - Restaurant/Bar                                       66.9\n",
       "ThirdLargestPropertyUseType_Swimming Pool                                           60.5\n",
       "ZipCode_98164.0                                                                     60.3\n",
       "Neighborhood_Ballard                                                                52.7\n",
       "LargestPropertyUseType_Residence Hall/Dormitory                                     50.7\n",
       "SecondLargestPropertyUseType_Supermarket/Grocery Store                              50.5\n",
       "LargestPropertyUseType_Other - Recreation                                           46.0\n",
       "SecondLargestPropertyUseType_Hospital (General Medical & Surgical)                  43.5\n",
       "SecondLargestPropertyUseType_Bar/Nightclub                                          42.3\n",
       "SecondLargestPropertyUseType_Food Sales                                             42.1\n",
       "ThirdLargestPropertyUseType_Office                                                  35.8\n",
       "PrimaryPropertyType_Hospital                                                        35.6\n",
       "LargestPropertyUseType_Hospital (General Medical & Surgical)                        35.6\n",
       "SecondLargestPropertyUseType_Financial Office                                       35.1\n",
       "LargestPropertyUseType_Hotel                                                        34.3\n",
       "ThirdLargestPropertyUseType_Other - Education                                       33.9\n",
       "ThirdLargestPropertyUseType_Social/Meeting Hall                                     33.8\n",
       "Neighborhood_BALLARD                                                                33.6\n",
       "ThirdLargestPropertyUseType_Other - Technology/Science                              33.5\n",
       "SecondLargestPropertyUseType_Manufacturing/Industrial Plant                         29.4\n",
       "SecondLargestPropertyUseType_Performing Arts                                        27.8\n",
       "ThirdLargestPropertyUseType_Other - Services                                        27.8\n",
       "SecondLargestPropertyUseType_Social/Meeting Hall                                    27.4\n",
       "SecondLargestPropertyUseType_Swimming Pool                                          24.3\n",
       "LargestPropertyUseType_Personal Services (Health/Beauty, Dry Cleaning, etc)         23.5\n",
       "PrimaryPropertyType_Retail Store                                                    23.0\n",
       "Neighborhood_MAGNOLIA / QUEEN ANNE                                                  22.7\n",
       "CouncilDistrictCode_3                                                               22.6\n",
       "CouncilDistrictCode_1                                                               22.5\n",
       "SecondLargestPropertyUseType_Food Service                                           22.4\n",
       "ThirdLargestPropertyUseType_Other - Restaurant/Bar                                  21.7\n",
       "LargestPropertyUseType_Parking                                                      20.4\n",
       "ZipCode_98011.0                                                                     20.3\n",
       "Neighborhood_LAKE UNION                                                             20.3\n",
       "Neighborhood_NORTHEAST                                                              19.4\n",
       "SecondLargestPropertyUseType_Other - Restaurant/Bar                                 18.5\n",
       "BuildingType_Campus                                                                 18.3\n",
       "SecondLargestPropertyUseType_Other - Recreation                                     17.4\n",
       "ThirdLargestPropertyUseType_Refrigerated Warehouse                                  17.3\n",
       "LargestPropertyUseType_Laboratory                                                   16.4\n",
       "SecondLargestPropertyUseType_Restaurant                                             15.4\n",
       "ZipCode_98178.0                                                                     14.2\n",
       "PrimaryPropertyType_Senior Care Community                                           12.6\n",
       "LargestPropertyUseType_Senior Care Community                                        12.6\n",
       "PrimaryPropertyType_Mixed Use Property                                              12.1\n",
       "Neighborhood_Northwest                                                              12.1\n",
       "CouncilDistrictCode_2                                                               11.0\n",
       "LargestPropertyUseType_ND                                                           10.7\n",
       "Neighborhood_NORTHWEST                                                              10.7\n",
       "SecondLargestPropertyUseType_Fitness Center/Health Club/Gym                         10.5\n",
       "LargestPropertyUseType_Residential Care Facility                                    10.4\n",
       "ThirdLargestPropertyUseType_ND                                                       9.9\n",
       "Neighborhood_DELRIDGE                                                                9.6\n",
       "SecondLargestPropertyUseType_Hotel                                                   9.3\n",
       "PrimaryPropertyType_Warehouse                                                        8.7\n",
       "LargestPropertyUseType_Manufacturing/Industrial Plant                                7.6\n",
       "CouncilDistrictCode_7                                                                6.6\n",
       "Longitude                                                                            6.5\n",
       "SecondLargestPropertyUseType_Office                                                  6.1\n",
       "Latitude                                                                             5.5\n",
       "Neighborhood_North                                                                   3.5\n",
       "ZipCode_98105.0                                                                      3.0\n",
       "ThirdLargestPropertyUseType_Non-Refrigerated Warehouse                               3.0\n",
       "SecondLargestPropertyUseType_Other - Services                                        2.9\n",
       "ThirdLargestPropertyUseType_Multifamily Housing                                      2.8\n",
       "LargestPropertyUseType_Financial Office                                              2.4\n",
       "SecondLargestPropertyUseType_Medical Office                                          2.2\n",
       "ThirdLargestPropertyUseType_Other                                                    2.1\n",
       "SecondLargestPropertyUseType_Parking                                                 1.5\n",
       "Surface_au_sol(sf)                                                                   1.3\n",
       "LargestPropertyUseType_Other                                                         1.0\n",
       "ZipCode_98118.0                                                                      0.2\n",
       "ThirdLargestPropertyUseType_Bank Branch                                              0.2\n",
       "BuildingType_Nonresidential COS                                                     -0.2\n",
       "SecondLargestPropertyUseType_Other - Public Services                                -0.4\n",
       "ThirdLargestPropertyUseType_Restaurant                                              -0.6\n",
       "NumberofFloors                                                                      -0.7\n",
       "ZipCode_98116.0                                                                     -0.7\n",
       "YearBuilt                                                                           -1.2\n",
       "ZipCode_98177.0                                                                     -1.4\n",
       "NumberofBuildings                                                                   -1.7\n",
       "SecondLargestPropertyUseType_College/University                                     -2.2\n",
       "SecondLargestPropertyUseType_Adult Education                                        -2.7\n",
       "BuildingType_NonResidential                                                         -2.7\n",
       "ThirdLargestPropertyUseType_Parking                                                 -2.9\n",
       "Neighborhood_NORTH                                                                  -2.9\n",
       "PrimaryPropertyType_Large Office                                                    -3.0\n",
       "ZipCode_98103.0                                                                     -3.1\n",
       "PrimaryPropertyType_Distribution Center                                             -3.6\n",
       "ZipCode_98136.0                                                                     -3.7\n",
       "ThirdLargestPropertyUseType_Financial Office                                        -3.9\n",
       "SecondLargestPropertyUseType_K-12 School                                            -4.0\n",
       "PrimaryPropertyType_Small- and Mid-Sized Office                                     -4.1\n",
       "SecondLargestPropertyUseType_Pre-school/Daycare                                     -4.4\n",
       "Neighborhood_DOWNTOWN                                                               -4.4\n",
       "Neighborhood_GREATER DUWAMISH                                                       -4.5\n",
       "PrimaryPropertyType_Other                                                           -4.7\n",
       "ZipCode_98111.0                                                                     -5.3\n",
       "ZipCode_98117.0                                                                     -5.4\n",
       "SecondLargestPropertyUseType_Retail Store                                           -5.4\n",
       "SecondLargestPropertyUseType_Multifamily Housing                                    -5.9\n",
       "Neighborhood_EAST                                                                   -6.3\n",
       "LargestPropertyUseType_Other - Public Services                                      -6.7\n",
       "Neighborhood_Central                                                                -6.9\n",
       "LargestPropertyUseType_Supermarket/Grocery Store                                    -7.0\n",
       "CouncilDistrictCode_5                                                               -8.2\n",
       "LargestPropertyUseType_Refrigerated Warehouse                                       -8.6\n",
       "PrimaryPropertyType_Refrigerated Warehouse                                          -8.6\n",
       "LargestPropertyUseType_Medical Office                                               -8.9\n",
       "PrimaryPropertyType_Medical Office                                                  -8.9\n",
       "LargestPropertyUseType_Strip Mall                                                   -8.9\n",
       "ZipCode_98195.0                                                                     -8.9\n",
       "SecondLargestPropertyUseType_ND                                                     -9.3\n",
       "SecondLargestPropertyUseType_Other                                                  -9.3\n",
       "Neighborhood_SOUTHWEST                                                              -9.7\n",
       "ThirdLargestPropertyUseType_Medical Office                                          -9.8\n",
       "ZipCode_98101.0                                                                    -10.1\n",
       "ThirdLargestPropertyUseType_Vocational School                                      -10.2\n",
       "ZipCode_98121.0                                                                    -10.4\n",
       "LargestPropertyUseType_Fire Station                                                -11.5\n",
       "ThirdLargestPropertyUseType_Retail Store                                           -11.6\n",
       "ZipCode_98113.0                                                                    -11.7\n",
       "LargestPropertyUseType_Movie Theater                                               -11.7\n",
       "ZipCode_98106.0                                                                    -12.0\n",
       "SecondLargestPropertyUseType_Repair Services (Vehicle, Shoe, Locksmith, etc)       -12.2\n",
       "ZipCode_98107.0                                                                    -12.5\n",
       "LargestPropertyUseType_Prison/Incarceration                                        -13.4\n",
       "SecondLargestPropertyUseType_Movie Theater                                         -13.7\n",
       "ZipCode_98102.0                                                                    -13.9\n",
       "ZipCode_98168.0                                                                    -14.0\n",
       "PrimaryPropertyType_Low-Rise Multifamily                                           -14.2\n",
       "PrimaryPropertyType_Office                                                         -14.4\n",
       "ZipCode_98108.0                                                                    -15.1\n",
       "BuildingType_SPS-District K-12                                                     -15.4\n",
       "LargestPropertyUseType_Library                                                     -15.7\n",
       "ZipCode_98154.0                                                                    -16.1\n",
       "SecondLargestPropertyUseType_Worship Facility                                      -16.8\n",
       "SecondLargestPropertyUseType_Courthouse                                            -17.6\n",
       "PrimaryPropertyType_University                                                     -17.6\n",
       "LargestPropertyUseType_College/University                                          -17.6\n",
       "LargestPropertyUseType_Other - Entertainment/Public Assembly                       -17.8\n",
       "Neighborhood_CENTRAL                                                               -18.5\n",
       "ZipCode_98134.0                                                                    -18.5\n",
       "ZipCode_98144.0                                                                    -18.6\n",
       "ZipCode_98115.0                                                                    -19.7\n",
       "ThirdLargestPropertyUseType_Food Service                                           -20.6\n",
       "ThirdLargestPropertyUseType_K-12 School                                            -20.6\n",
       "SecondLargestPropertyUseType_Bank Branch                                           -21.1\n",
       "LargestPropertyUseType_Pre-school/Daycare                                          -21.3\n",
       "LargestPropertyUseType_Self-Storage Facility                                       -21.5\n",
       "LargestPropertyUseType_Social/Meeting Hall                                         -21.8\n",
       "ZipCode_98104.0                                                                    -22.7\n",
       "PrimaryPropertyType_K-12 School                                                    -22.8\n",
       "LargestPropertyUseType_K-12 School                                                 -22.8\n",
       "SecondLargestPropertyUseType_Self-Storage Facility                                 -22.9\n",
       "ThirdLargestPropertyUseType_Fitness Center/Health Club/Gym                         -23.0\n",
       "ZipCode_-1.0                                                                       -23.6\n",
       "SecondLargestPropertyUseType_Vocational School                                     -23.7\n",
       "SecondLargestPropertyUseType_Refrigerated Warehouse                                -23.8\n",
       "ZipCode_98126.0                                                                    -23.9\n",
       "SecondLargestPropertyUseType_Other - Education                                     -23.9\n",
       "ZipCode_98033.0                                                                    -24.0\n",
       "Neighborhood_SOUTHEAST                                                             -25.7\n",
       "CouncilDistrictCode_6                                                              -26.9\n",
       "ZipCode_98119.0                                                                    -27.0\n",
       "SecondLargestPropertyUseType_Distribution Center                                   -27.4\n",
       "CouncilDistrictCode_4                                                              -27.6\n",
       "Neighborhood_Delridge                                                              -28.0\n",
       "SecondLargestPropertyUseType_Enclosed Mall                                         -29.0\n",
       "ZipCode_98133.0                                                                    -29.5\n",
       "ZipCode_98112.0                                                                    -29.8\n",
       "LargestPropertyUseType_Other - Services                                            -30.4\n",
       "ZipCode_98124.0                                                                    -30.6\n",
       "ThirdLargestPropertyUseType_Manufacturing/Industrial Plant                         -30.6\n",
       "LargestPropertyUseType_Worship Facility                                            -31.3\n",
       "PrimaryPropertyType_Worship Facility                                               -31.3\n",
       "ThirdLargestPropertyUseType_Personal Services (Health/Beauty, Dry Cleaning, etc)   -32.1\n",
       "LargestPropertyUseType_Repair Services (Vehicle, Shoe, Locksmith, etc)             -32.8\n",
       "LargestPropertyUseType_Office                                                      -32.9\n",
       "SecondLargestPropertyUseType_Other - Entertainment/Public Assembly                 -34.0\n",
       "SecondLargestPropertyUseType_Non-Refrigerated Warehouse                            -36.0\n",
       "ThirdLargestPropertyUseType_Bar/Nightclub                                          -36.3\n",
       "ZipCode_98109.0                                                                    -36.3\n",
       "ZipCode_98125.0                                                                    -36.3\n",
       "ZipCode_98122.0                                                                    -36.9\n",
       "ThirdLargestPropertyUseType_Worship Facility                                       -37.8\n",
       "ZipCode_98199.0                                                                    -37.9\n",
       "LargestPropertyUseType_Other - Lodging/Residential                                 -37.9\n",
       "LargestPropertyUseType_Lifestyle Center                                            -38.7\n",
       "ThirdLargestPropertyUseType_Fast Food Restaurant                                   -39.2\n",
       "ThirdLargestPropertyUseType_Convenience Store without Gas Station                  -39.7\n",
       "ZipCode_98114.0                                                                    -39.9\n",
       "LargestPropertyUseType_Bank Branch                                                 -40.2\n",
       "ZipCode_98165.0                                                                    -40.7\n",
       "ZipCode_98155.0                                                                    -42.4\n",
       "LargestPropertyUseType_Fitness Center/Health Club/Gym                              -42.5\n",
       "ThirdLargestPropertyUseType_Self-Storage Facility                                  -45.4\n",
       "PrimaryPropertyType_Hotel                                                          -49.5\n",
       "ZipCode_98053.0                                                                    -50.0\n",
       "LargestPropertyUseType_Adult Education                                             -50.3\n",
       "ZipCode_98181.0                                                                    -50.6\n",
       "PrimaryPropertyType_Self-Storage Facility                                          -51.2\n",
       "LargestPropertyUseType_Other - Utility                                             -52.2\n",
       "LargestPropertyUseType_Automobile Dealership                                       -54.2\n",
       "ThirdLargestPropertyUseType_Hotel                                                  -54.9\n",
       "LargestPropertyUseType_Retail Store                                                -57.9\n",
       "LargestPropertyUseType_Multifamily Housing                                         -59.6\n",
       "SecondLargestPropertyUseType_Residence Hall/Dormitory                              -60.7\n",
       "LargestPropertyUseType_Distribution Center                                         -63.0\n",
       "LargestPropertyUseType_Other - Education                                           -63.5\n",
       "ZipCode_98146.0                                                                    -65.7\n",
       "ThirdLargestPropertyUseType_Pre-school/Daycare                                     -65.9\n",
       "LargestPropertyUseType_Performing Arts                                             -72.2\n",
       "LargestPropertyUseType_Non-Refrigerated Warehouse                                  -75.4\n",
       "Neighborhood_DELRIDGE NEIGHBORHOODS                                                -77.8\n",
       "SecondLargestPropertyUseType_Automobile Dealership                                 -81.4\n",
       "ZipCode_98070.0                                                                    -87.2\n",
       "ThirdLargestPropertyUseType_Distribution Center                                    -87.3\n",
       "PrimaryPropertyType_Restaurant                                                     -93.0\n",
       "PrimaryPropertyType_Residence Hall                                                -103.4\n",
       "ThirdLargestPropertyUseType_Supermarket/Grocery Store                             -152.8\n",
       "LargestPropertyUseType_Wholesale Club/Supercenter                                 -159.8\n",
       "SecondLargestPropertyUseType_Personal Services (Health/Beauty, Dry Cleaning, etc) -162.7"
      ]
     },
     "metadata": {},
     "output_type": "display_data"
    }
   ],
   "source": [
    "# inspiré de https://scikit-learn.org/stable/auto_examples/inspection/plot_linear_model_coefficient_interpretation.html#interpreting-coefficients-scale-matters\n",
    "df_coefs = pd.DataFrame(coefs.T, columns=['Coef'], index=noms_des_coefs)\n",
    "with pd.option_context('display.max_rows', 300, 'display.max_colwidth', None, 'display.max_columns', 100, 'display.precision', 1) :\n",
    "    display(df_coefs.sort_values(by='Coef', ascending=False))"
   ]
  },
  {
   "cell_type": "code",
   "execution_count": 420,
   "metadata": {
    "ExecuteTime": {
     "end_time": "2021-06-29T14:10:48.114897Z",
     "start_time": "2021-06-29T14:10:48.107896Z"
    }
   },
   "outputs": [
    {
     "data": {
      "text/html": [
       "<div>\n",
       "<style scoped>\n",
       "    .dataframe tbody tr th:only-of-type {\n",
       "        vertical-align: middle;\n",
       "    }\n",
       "\n",
       "    .dataframe tbody tr th {\n",
       "        vertical-align: top;\n",
       "    }\n",
       "\n",
       "    .dataframe thead th {\n",
       "        text-align: right;\n",
       "    }\n",
       "</style>\n",
       "<table border=\"1\" class=\"dataframe\">\n",
       "  <thead>\n",
       "    <tr style=\"text-align: right;\">\n",
       "      <th></th>\n",
       "      <th>Coef</th>\n",
       "    </tr>\n",
       "  </thead>\n",
       "  <tbody>\n",
       "    <tr>\n",
       "      <th>Latitude</th>\n",
       "      <td>5.504705</td>\n",
       "    </tr>\n",
       "    <tr>\n",
       "      <th>Longitude</th>\n",
       "      <td>6.462588</td>\n",
       "    </tr>\n",
       "    <tr>\n",
       "      <th>YearBuilt</th>\n",
       "      <td>-1.182663</td>\n",
       "    </tr>\n",
       "    <tr>\n",
       "      <th>NumberofBuildings</th>\n",
       "      <td>-1.682082</td>\n",
       "    </tr>\n",
       "    <tr>\n",
       "      <th>NumberofFloors</th>\n",
       "      <td>-0.685633</td>\n",
       "    </tr>\n",
       "    <tr>\n",
       "      <th>Surface_au_sol(sf)</th>\n",
       "      <td>1.256171</td>\n",
       "    </tr>\n",
       "  </tbody>\n",
       "</table>\n",
       "</div>"
      ],
      "text/plain": [
       "                        Coef\n",
       "Latitude            5.504705\n",
       "Longitude           6.462588\n",
       "YearBuilt          -1.182663\n",
       "NumberofBuildings  -1.682082\n",
       "NumberofFloors     -0.685633\n",
       "Surface_au_sol(sf)  1.256171"
      ]
     },
     "execution_count": 420,
     "metadata": {},
     "output_type": "execute_result"
    }
   ],
   "source": [
    "df_coefs.loc[liste_variables_quantitatives]"
   ]
  },
  {
   "cell_type": "markdown",
   "metadata": {},
   "source": [
    "#### Cross validation"
   ]
  },
  {
   "cell_type": "code",
   "execution_count": 421,
   "metadata": {
    "ExecuteTime": {
     "end_time": "2021-06-29T14:10:48.629926Z",
     "start_time": "2021-06-29T14:10:48.115897Z"
    }
   },
   "outputs": [
    {
     "name": "stdout",
     "output_type": "stream",
     "text": [
      "Scores: 52.6 60.8 57.3 72.2 47.0 94.2 53.8 60.5 53.3 54.3 \n",
      "Mean: 60.6\n",
      "Standard deviation: 13.6\n"
     ]
    }
   ],
   "source": [
    "lin_scores = cross_val_score(lin_reg, X_train_EUI_prepared, y_train_EUI,\n",
    "                             scoring=\"neg_root_mean_squared_error\", cv=10)\n",
    "display_scores(-lin_scores)"
   ]
  },
  {
   "cell_type": "code",
   "execution_count": 422,
   "metadata": {
    "ExecuteTime": {
     "end_time": "2021-06-29T14:10:49.132955Z",
     "start_time": "2021-06-29T14:10:48.630926Z"
    }
   },
   "outputs": [
    {
     "name": "stdout",
     "output_type": "stream",
     "text": [
      "Scores: 0.505 -0.195 0.0253 0.295 0.287 0.142 0.313 0.26 0.113 0.49 \n",
      "Mean: 0.223\n",
      "Standard deviation: 0.211\n"
     ]
    }
   ],
   "source": [
    "lin_scores = cross_val_score(lin_reg, X_train_EUI_prepared, y_train_EUI,\n",
    "                             scoring=\"r2\", cv=10)\n",
    "display_scores(lin_scores)"
   ]
  },
  {
   "cell_type": "markdown",
   "metadata": {},
   "source": [
    "On passe de RMSE=44 (validation sur le jeu d'entraînement) à 61 (validation croisée) en moyenne.  \n",
    "On passe de MAE=28 (validation sur le jeu d'entraînement) à 22 (validation croisée) en moyenne.  \n",
    "On passe de R²=0.62 (validation sur le jeu d'entraînement) à 0.22 (validation croisée) en moyenne.  \n",
    "La généralisation du modèle est très mauvaise (surajustement)."
   ]
  },
  {
   "cell_type": "markdown",
   "metadata": {},
   "source": [
    "### Régression linéaire avec transformation de y_train"
   ]
  },
  {
   "cell_type": "markdown",
   "metadata": {},
   "source": [
    "#### Transformation = QuantileTransformer"
   ]
  },
  {
   "cell_type": "code",
   "execution_count": 423,
   "metadata": {
    "ExecuteTime": {
     "end_time": "2021-06-29T14:10:49.195959Z",
     "start_time": "2021-06-29T14:10:49.133955Z"
    },
    "scrolled": true
   },
   "outputs": [
    {
     "data": {
      "text/html": [
       "<style>div.sk-top-container {color: black;background-color: white;}div.sk-toggleable {background-color: white;}label.sk-toggleable__label {cursor: pointer;display: block;width: 100%;margin-bottom: 0;padding: 0.2em 0.3em;box-sizing: border-box;text-align: center;}div.sk-toggleable__content {max-height: 0;max-width: 0;overflow: hidden;text-align: left;background-color: #f0f8ff;}div.sk-toggleable__content pre {margin: 0.2em;color: black;border-radius: 0.25em;background-color: #f0f8ff;}input.sk-toggleable__control:checked~div.sk-toggleable__content {max-height: 200px;max-width: 100%;overflow: auto;}div.sk-estimator input.sk-toggleable__control:checked~label.sk-toggleable__label {background-color: #d4ebff;}div.sk-label input.sk-toggleable__control:checked~label.sk-toggleable__label {background-color: #d4ebff;}input.sk-hidden--visually {border: 0;clip: rect(1px 1px 1px 1px);clip: rect(1px, 1px, 1px, 1px);height: 1px;margin: -1px;overflow: hidden;padding: 0;position: absolute;width: 1px;}div.sk-estimator {font-family: monospace;background-color: #f0f8ff;margin: 0.25em 0.25em;border: 1px dotted black;border-radius: 0.25em;box-sizing: border-box;}div.sk-estimator:hover {background-color: #d4ebff;}div.sk-parallel-item::after {content: \"\";width: 100%;border-bottom: 1px solid gray;flex-grow: 1;}div.sk-label:hover label.sk-toggleable__label {background-color: #d4ebff;}div.sk-serial::before {content: \"\";position: absolute;border-left: 1px solid gray;box-sizing: border-box;top: 2em;bottom: 0;left: 50%;}div.sk-serial {display: flex;flex-direction: column;align-items: center;background-color: white;}div.sk-item {z-index: 1;}div.sk-parallel {display: flex;align-items: stretch;justify-content: center;background-color: white;}div.sk-parallel-item {display: flex;flex-direction: column;position: relative;background-color: white;}div.sk-parallel-item:first-child::after {align-self: flex-end;width: 50%;}div.sk-parallel-item:last-child::after {align-self: flex-start;width: 50%;}div.sk-parallel-item:only-child::after {width: 0;}div.sk-dashed-wrapped {border: 1px dashed gray;margin: 0.2em;box-sizing: border-box;padding-bottom: 0.1em;background-color: white;position: relative;}div.sk-label label {font-family: monospace;font-weight: bold;background-color: white;display: inline-block;line-height: 1.2em;}div.sk-label-container {position: relative;z-index: 2;text-align: center;}div.sk-container {display: inline-block;position: relative;}</style><div class=\"sk-top-container\"><div class=\"sk-container\"><div class=\"sk-item sk-dashed-wrapped\"><div class=\"sk-label-container\"><div class=\"sk-label sk-toggleable\"><input class=\"sk-toggleable__control sk-hidden--visually\" id=\"2aedb887-371a-4bd4-906c-53faffbf2149\" type=\"checkbox\" ><label class=\"sk-toggleable__label\" for=\"2aedb887-371a-4bd4-906c-53faffbf2149\">TransformedTargetRegressor</label><div class=\"sk-toggleable__content\"><pre>TransformedTargetRegressor(regressor=LinearRegression(),\n",
       "                           transformer=QuantileTransformer(output_distribution='normal'))</pre></div></div></div><div class=\"sk-parallel\"><div class=\"sk-parallel-item\"><div class=\"sk-item\"><div class=\"sk-serial\"><div class=\"sk-item\"><div class=\"sk-estimator sk-toggleable\"><input class=\"sk-toggleable__control sk-hidden--visually\" id=\"acfd974d-fcfe-447b-886c-f108be46f09b\" type=\"checkbox\" ><label class=\"sk-toggleable__label\" for=\"acfd974d-fcfe-447b-886c-f108be46f09b\">LinearRegression</label><div class=\"sk-toggleable__content\"><pre>LinearRegression()</pre></div></div></div></div></div></div><div class=\"sk-parallel-item\"><div class=\"sk-item\"><div class=\"sk-serial\"><div class=\"sk-item\"><div class=\"sk-estimator sk-toggleable\"><input class=\"sk-toggleable__control sk-hidden--visually\" id=\"ff5fcf77-2a3e-4a53-90d9-513552268eab\" type=\"checkbox\" ><label class=\"sk-toggleable__label\" for=\"ff5fcf77-2a3e-4a53-90d9-513552268eab\">QuantileTransformer</label><div class=\"sk-toggleable__content\"><pre>QuantileTransformer(output_distribution='normal')</pre></div></div></div></div></div></div></div></div></div></div>"
      ],
      "text/plain": [
       "TransformedTargetRegressor(regressor=LinearRegression(),\n",
       "                           transformer=QuantileTransformer(output_distribution='normal'))"
      ]
     },
     "execution_count": 423,
     "metadata": {},
     "output_type": "execute_result"
    }
   ],
   "source": [
    "transformer = QuantileTransformer(output_distribution='normal')\n",
    "regressor = LinearRegression()\n",
    "regr_ttr = TransformedTargetRegressor(regressor=regressor, transformer=transformer)\n",
    "\n",
    "# Entrainement\n",
    "regr_ttr.fit(X_train_EUI_prepared, y_train_EUI)"
   ]
  },
  {
   "cell_type": "code",
   "execution_count": 424,
   "metadata": {
    "ExecuteTime": {
     "end_time": "2021-06-29T14:10:49.207959Z",
     "start_time": "2021-06-29T14:10:49.196959Z"
    },
    "scrolled": true
   },
   "outputs": [
    {
     "data": {
      "text/html": [
       "<div>\n",
       "<style scoped>\n",
       "    .dataframe tbody tr th:only-of-type {\n",
       "        vertical-align: middle;\n",
       "    }\n",
       "\n",
       "    .dataframe tbody tr th {\n",
       "        vertical-align: top;\n",
       "    }\n",
       "\n",
       "    .dataframe thead th {\n",
       "        text-align: right;\n",
       "    }\n",
       "</style>\n",
       "<table border=\"1\" class=\"dataframe\">\n",
       "  <thead>\n",
       "    <tr style=\"text-align: right;\">\n",
       "      <th></th>\n",
       "      <th>SiteEUI(kBtu/sf)</th>\n",
       "      <th>Prédictions</th>\n",
       "      <th>Prédictions_ttr</th>\n",
       "    </tr>\n",
       "  </thead>\n",
       "  <tbody>\n",
       "    <tr>\n",
       "      <th>3162</th>\n",
       "      <td>42.799999</td>\n",
       "      <td>59.230377</td>\n",
       "      <td>53.377343</td>\n",
       "    </tr>\n",
       "    <tr>\n",
       "      <th>953</th>\n",
       "      <td>37.599998</td>\n",
       "      <td>28.567644</td>\n",
       "      <td>32.000000</td>\n",
       "    </tr>\n",
       "    <tr>\n",
       "      <th>2637</th>\n",
       "      <td>55.400002</td>\n",
       "      <td>74.624596</td>\n",
       "      <td>73.542116</td>\n",
       "    </tr>\n",
       "    <tr>\n",
       "      <th>29</th>\n",
       "      <td>92.900002</td>\n",
       "      <td>75.240507</td>\n",
       "      <td>70.252179</td>\n",
       "    </tr>\n",
       "    <tr>\n",
       "      <th>1126</th>\n",
       "      <td>36.799999</td>\n",
       "      <td>27.209902</td>\n",
       "      <td>37.327752</td>\n",
       "    </tr>\n",
       "    <tr>\n",
       "      <th>773</th>\n",
       "      <td>45.500000</td>\n",
       "      <td>78.520747</td>\n",
       "      <td>56.000000</td>\n",
       "    </tr>\n",
       "    <tr>\n",
       "      <th>305</th>\n",
       "      <td>89.300003</td>\n",
       "      <td>193.994349</td>\n",
       "      <td>172.881348</td>\n",
       "    </tr>\n",
       "    <tr>\n",
       "      <th>2928</th>\n",
       "      <td>35.000000</td>\n",
       "      <td>75.721566</td>\n",
       "      <td>46.405772</td>\n",
       "    </tr>\n",
       "    <tr>\n",
       "      <th>579</th>\n",
       "      <td>104.099998</td>\n",
       "      <td>92.325513</td>\n",
       "      <td>85.926674</td>\n",
       "    </tr>\n",
       "    <tr>\n",
       "      <th>713</th>\n",
       "      <td>40.200001</td>\n",
       "      <td>21.662289</td>\n",
       "      <td>32.428055</td>\n",
       "    </tr>\n",
       "    <tr>\n",
       "      <th>225</th>\n",
       "      <td>34.900002</td>\n",
       "      <td>14.967497</td>\n",
       "      <td>41.500000</td>\n",
       "    </tr>\n",
       "    <tr>\n",
       "      <th>1227</th>\n",
       "      <td>74.400002</td>\n",
       "      <td>32.053908</td>\n",
       "      <td>33.285640</td>\n",
       "    </tr>\n",
       "    <tr>\n",
       "      <th>424</th>\n",
       "      <td>17.100000</td>\n",
       "      <td>56.882715</td>\n",
       "      <td>37.434077</td>\n",
       "    </tr>\n",
       "    <tr>\n",
       "      <th>602</th>\n",
       "      <td>36.500000</td>\n",
       "      <td>87.073824</td>\n",
       "      <td>70.026725</td>\n",
       "    </tr>\n",
       "    <tr>\n",
       "      <th>1497</th>\n",
       "      <td>5.800000</td>\n",
       "      <td>26.093026</td>\n",
       "      <td>21.000000</td>\n",
       "    </tr>\n",
       "    <tr>\n",
       "      <th>693</th>\n",
       "      <td>66.599998</td>\n",
       "      <td>46.968043</td>\n",
       "      <td>40.900002</td>\n",
       "    </tr>\n",
       "    <tr>\n",
       "      <th>2</th>\n",
       "      <td>96.000000</td>\n",
       "      <td>76.699753</td>\n",
       "      <td>69.714694</td>\n",
       "    </tr>\n",
       "    <tr>\n",
       "      <th>1132</th>\n",
       "      <td>10.400000</td>\n",
       "      <td>25.149268</td>\n",
       "      <td>24.700001</td>\n",
       "    </tr>\n",
       "    <tr>\n",
       "      <th>1563</th>\n",
       "      <td>327.799988</td>\n",
       "      <td>248.085674</td>\n",
       "      <td>208.838618</td>\n",
       "    </tr>\n",
       "    <tr>\n",
       "      <th>377</th>\n",
       "      <td>56.599998</td>\n",
       "      <td>46.018627</td>\n",
       "      <td>48.118543</td>\n",
       "    </tr>\n",
       "  </tbody>\n",
       "</table>\n",
       "</div>"
      ],
      "text/plain": [
       "      SiteEUI(kBtu/sf)  Prédictions  Prédictions_ttr\n",
       "3162         42.799999    59.230377        53.377343\n",
       "953          37.599998    28.567644        32.000000\n",
       "2637         55.400002    74.624596        73.542116\n",
       "29           92.900002    75.240507        70.252179\n",
       "1126         36.799999    27.209902        37.327752\n",
       "773          45.500000    78.520747        56.000000\n",
       "305          89.300003   193.994349       172.881348\n",
       "2928         35.000000    75.721566        46.405772\n",
       "579         104.099998    92.325513        85.926674\n",
       "713          40.200001    21.662289        32.428055\n",
       "225          34.900002    14.967497        41.500000\n",
       "1227         74.400002    32.053908        33.285640\n",
       "424          17.100000    56.882715        37.434077\n",
       "602          36.500000    87.073824        70.026725\n",
       "1497          5.800000    26.093026        21.000000\n",
       "693          66.599998    46.968043        40.900002\n",
       "2            96.000000    76.699753        69.714694\n",
       "1132         10.400000    25.149268        24.700001\n",
       "1563        327.799988   248.085674       208.838618\n",
       "377          56.599998    46.018627        48.118543"
      ]
     },
     "execution_count": 424,
     "metadata": {},
     "output_type": "execute_result"
    }
   ],
   "source": [
    "# Test de quelques valeurs prédites\n",
    "some_data_predicted_ttr = regr_ttr.predict(some_data_prepared)\n",
    "\n",
    "some_labels['Prédictions_ttr'] = some_data_predicted_ttr\n",
    "some_labels.head(20)"
   ]
  },
  {
   "cell_type": "markdown",
   "metadata": {},
   "source": [
    "##### RMSE :"
   ]
  },
  {
   "cell_type": "code",
   "execution_count": 425,
   "metadata": {
    "ExecuteTime": {
     "end_time": "2021-06-29T14:10:49.214960Z",
     "start_time": "2021-06-29T14:10:49.208959Z"
    }
   },
   "outputs": [
    {
     "data": {
      "text/plain": [
       "46.28090815019097"
      ]
     },
     "execution_count": 425,
     "metadata": {},
     "output_type": "execute_result"
    }
   ],
   "source": [
    "EUI_predictions = regr_ttr.predict(X_train_EUI_prepared)\n",
    "lin_mse = mean_squared_error(y_train_EUI, EUI_predictions)\n",
    "lin_rmse = np.sqrt(lin_mse)\n",
    "lin_rmse"
   ]
  },
  {
   "cell_type": "markdown",
   "metadata": {},
   "source": [
    "##### R²"
   ]
  },
  {
   "cell_type": "code",
   "execution_count": 426,
   "metadata": {
    "ExecuteTime": {
     "end_time": "2021-06-29T14:10:49.221960Z",
     "start_time": "2021-06-29T14:10:49.215960Z"
    }
   },
   "outputs": [
    {
     "data": {
      "text/plain": [
       "0.5812790800110295"
      ]
     },
     "execution_count": 426,
     "metadata": {},
     "output_type": "execute_result"
    }
   ],
   "source": [
    "#R² par la méthode score() du transformateur\n",
    "regr_ttr.score(X_train_EUI_prepared, y_train_EUI)"
   ]
  },
  {
   "cell_type": "code",
   "execution_count": 427,
   "metadata": {
    "ExecuteTime": {
     "end_time": "2021-06-29T14:10:49.227960Z",
     "start_time": "2021-06-29T14:10:49.222960Z"
    }
   },
   "outputs": [
    {
     "data": {
      "text/plain": [
       "0.5812790800110295"
      ]
     },
     "execution_count": 427,
     "metadata": {},
     "output_type": "execute_result"
    }
   ],
   "source": [
    "#R² par la fonction r2_score de metrics\n",
    "r2_score(y_train_EUI, EUI_predictions)"
   ]
  },
  {
   "cell_type": "markdown",
   "metadata": {},
   "source": [
    "##### Scatter plot :"
   ]
  },
  {
   "cell_type": "code",
   "execution_count": 428,
   "metadata": {
    "ExecuteTime": {
     "end_time": "2021-06-29T14:10:49.613983Z",
     "start_time": "2021-06-29T14:10:49.228961Z"
    },
    "scrolled": false
   },
   "outputs": [
    {
     "data": {
      "image/png": "[encoded data removed]",
      "text/plain": [
       "<Figure size 576x396 with 1 Axes>"
      ]
     },
     "metadata": {},
     "output_type": "display_data"
    },
    {
     "data": {
      "image/png": "[encoded data removed]",
      "text/plain": [
       "<Figure size 576x396 with 1 Axes>"
      ]
     },
     "metadata": {},
     "output_type": "display_data"
    }
   ],
   "source": [
    "ser_predictions = pd.Series(np.squeeze(EUI_predictions), name='Prédictions_ttr')\n",
    "scatter_plot(ser_x=y_train_EUI.reset_index().iloc[:,1], ser_y=ser_predictions, alpha=1, ligne_diagonale=True)\n",
    "scatter_plot(ser_x=y_train_EUI.reset_index().iloc[:,1], ser_y=ser_predictions, alpha=1, max_x=300, max_y=300, ligne_diagonale=True)"
   ]
  },
  {
   "cell_type": "markdown",
   "metadata": {},
   "source": [
    "Il n'y a pas eu d'amélioration par l'ajout d'une transformation de y_train."
   ]
  },
  {
   "cell_type": "markdown",
   "metadata": {},
   "source": [
    "#### Transformation = fonction log"
   ]
  },
  {
   "cell_type": "code",
   "execution_count": 429,
   "metadata": {
    "ExecuteTime": {
     "end_time": "2021-06-29T14:10:49.675986Z",
     "start_time": "2021-06-29T14:10:49.614983Z"
    },
    "scrolled": true
   },
   "outputs": [
    {
     "data": {
      "text/html": [
       "<style>div.sk-top-container {color: black;background-color: white;}div.sk-toggleable {background-color: white;}label.sk-toggleable__label {cursor: pointer;display: block;width: 100%;margin-bottom: 0;padding: 0.2em 0.3em;box-sizing: border-box;text-align: center;}div.sk-toggleable__content {max-height: 0;max-width: 0;overflow: hidden;text-align: left;background-color: #f0f8ff;}div.sk-toggleable__content pre {margin: 0.2em;color: black;border-radius: 0.25em;background-color: #f0f8ff;}input.sk-toggleable__control:checked~div.sk-toggleable__content {max-height: 200px;max-width: 100%;overflow: auto;}div.sk-estimator input.sk-toggleable__control:checked~label.sk-toggleable__label {background-color: #d4ebff;}div.sk-label input.sk-toggleable__control:checked~label.sk-toggleable__label {background-color: #d4ebff;}input.sk-hidden--visually {border: 0;clip: rect(1px 1px 1px 1px);clip: rect(1px, 1px, 1px, 1px);height: 1px;margin: -1px;overflow: hidden;padding: 0;position: absolute;width: 1px;}div.sk-estimator {font-family: monospace;background-color: #f0f8ff;margin: 0.25em 0.25em;border: 1px dotted black;border-radius: 0.25em;box-sizing: border-box;}div.sk-estimator:hover {background-color: #d4ebff;}div.sk-parallel-item::after {content: \"\";width: 100%;border-bottom: 1px solid gray;flex-grow: 1;}div.sk-label:hover label.sk-toggleable__label {background-color: #d4ebff;}div.sk-serial::before {content: \"\";position: absolute;border-left: 1px solid gray;box-sizing: border-box;top: 2em;bottom: 0;left: 50%;}div.sk-serial {display: flex;flex-direction: column;align-items: center;background-color: white;}div.sk-item {z-index: 1;}div.sk-parallel {display: flex;align-items: stretch;justify-content: center;background-color: white;}div.sk-parallel-item {display: flex;flex-direction: column;position: relative;background-color: white;}div.sk-parallel-item:first-child::after {align-self: flex-end;width: 50%;}div.sk-parallel-item:last-child::after {align-self: flex-start;width: 50%;}div.sk-parallel-item:only-child::after {width: 0;}div.sk-dashed-wrapped {border: 1px dashed gray;margin: 0.2em;box-sizing: border-box;padding-bottom: 0.1em;background-color: white;position: relative;}div.sk-label label {font-family: monospace;font-weight: bold;background-color: white;display: inline-block;line-height: 1.2em;}div.sk-label-container {position: relative;z-index: 2;text-align: center;}div.sk-container {display: inline-block;position: relative;}</style><div class=\"sk-top-container\"><div class=\"sk-container\"><div class=\"sk-item sk-dashed-wrapped\"><div class=\"sk-label-container\"><div class=\"sk-label sk-toggleable\"><input class=\"sk-toggleable__control sk-hidden--visually\" id=\"bba6fd8c-57c1-45f6-a4d0-86219ee8603d\" type=\"checkbox\" ><label class=\"sk-toggleable__label\" for=\"bba6fd8c-57c1-45f6-a4d0-86219ee8603d\">TransformedTargetRegressor</label><div class=\"sk-toggleable__content\"><pre>TransformedTargetRegressor(func=<ufunc 'log'>, inverse_func=<ufunc 'exp'>,\n",
       "                           regressor=LinearRegression())</pre></div></div></div><div class=\"sk-parallel\"><div class=\"sk-parallel-item\"><div class=\"sk-item\"><div class=\"sk-serial\"><div class=\"sk-item\"><div class=\"sk-estimator sk-toggleable\"><input class=\"sk-toggleable__control sk-hidden--visually\" id=\"5a847850-5b0a-4cab-a66a-d18847e88abd\" type=\"checkbox\" ><label class=\"sk-toggleable__label\" for=\"5a847850-5b0a-4cab-a66a-d18847e88abd\">LinearRegression</label><div class=\"sk-toggleable__content\"><pre>LinearRegression()</pre></div></div></div></div></div></div></div></div></div></div>"
      ],
      "text/plain": [
       "TransformedTargetRegressor(func=<ufunc 'log'>, inverse_func=<ufunc 'exp'>,\n",
       "                           regressor=LinearRegression())"
      ]
     },
     "execution_count": 429,
     "metadata": {},
     "output_type": "execute_result"
    }
   ],
   "source": [
    "regressor = LinearRegression()\n",
    "regr_ttr2 = TransformedTargetRegressor(regressor=regressor, func=np.log, inverse_func=np.exp)\n",
    "\n",
    "# Entrainement\n",
    "regr_ttr2.fit(X_train_EUI_prepared, y_train_EUI)"
   ]
  },
  {
   "cell_type": "code",
   "execution_count": 430,
   "metadata": {
    "ExecuteTime": {
     "end_time": "2021-06-29T14:10:49.687987Z",
     "start_time": "2021-06-29T14:10:49.676986Z"
    },
    "scrolled": true
   },
   "outputs": [
    {
     "data": {
      "text/html": [
       "<div>\n",
       "<style scoped>\n",
       "    .dataframe tbody tr th:only-of-type {\n",
       "        vertical-align: middle;\n",
       "    }\n",
       "\n",
       "    .dataframe tbody tr th {\n",
       "        vertical-align: top;\n",
       "    }\n",
       "\n",
       "    .dataframe thead th {\n",
       "        text-align: right;\n",
       "    }\n",
       "</style>\n",
       "<table border=\"1\" class=\"dataframe\">\n",
       "  <thead>\n",
       "    <tr style=\"text-align: right;\">\n",
       "      <th></th>\n",
       "      <th>SiteEUI(kBtu/sf)</th>\n",
       "      <th>Prédictions</th>\n",
       "      <th>Prédictions_ttr</th>\n",
       "      <th>Prédictions_ttr2</th>\n",
       "    </tr>\n",
       "  </thead>\n",
       "  <tbody>\n",
       "    <tr>\n",
       "      <th>3162</th>\n",
       "      <td>42.799999</td>\n",
       "      <td>59.230377</td>\n",
       "      <td>53.377343</td>\n",
       "      <td>56.714187</td>\n",
       "    </tr>\n",
       "    <tr>\n",
       "      <th>953</th>\n",
       "      <td>37.599998</td>\n",
       "      <td>28.567644</td>\n",
       "      <td>32.000000</td>\n",
       "      <td>31.113047</td>\n",
       "    </tr>\n",
       "    <tr>\n",
       "      <th>2637</th>\n",
       "      <td>55.400002</td>\n",
       "      <td>74.624596</td>\n",
       "      <td>73.542116</td>\n",
       "      <td>78.030090</td>\n",
       "    </tr>\n",
       "    <tr>\n",
       "      <th>29</th>\n",
       "      <td>92.900002</td>\n",
       "      <td>75.240507</td>\n",
       "      <td>70.252179</td>\n",
       "      <td>70.563247</td>\n",
       "    </tr>\n",
       "    <tr>\n",
       "      <th>1126</th>\n",
       "      <td>36.799999</td>\n",
       "      <td>27.209902</td>\n",
       "      <td>37.327752</td>\n",
       "      <td>35.053509</td>\n",
       "    </tr>\n",
       "    <tr>\n",
       "      <th>773</th>\n",
       "      <td>45.500000</td>\n",
       "      <td>78.520747</td>\n",
       "      <td>56.000000</td>\n",
       "      <td>56.132265</td>\n",
       "    </tr>\n",
       "    <tr>\n",
       "      <th>305</th>\n",
       "      <td>89.300003</td>\n",
       "      <td>193.994349</td>\n",
       "      <td>172.881348</td>\n",
       "      <td>151.302783</td>\n",
       "    </tr>\n",
       "    <tr>\n",
       "      <th>2928</th>\n",
       "      <td>35.000000</td>\n",
       "      <td>75.721566</td>\n",
       "      <td>46.405772</td>\n",
       "      <td>49.095230</td>\n",
       "    </tr>\n",
       "    <tr>\n",
       "      <th>579</th>\n",
       "      <td>104.099998</td>\n",
       "      <td>92.325513</td>\n",
       "      <td>85.926674</td>\n",
       "      <td>87.038591</td>\n",
       "    </tr>\n",
       "    <tr>\n",
       "      <th>713</th>\n",
       "      <td>40.200001</td>\n",
       "      <td>21.662289</td>\n",
       "      <td>32.428055</td>\n",
       "      <td>30.479381</td>\n",
       "    </tr>\n",
       "    <tr>\n",
       "      <th>225</th>\n",
       "      <td>34.900002</td>\n",
       "      <td>14.967497</td>\n",
       "      <td>41.500000</td>\n",
       "      <td>41.684261</td>\n",
       "    </tr>\n",
       "    <tr>\n",
       "      <th>1227</th>\n",
       "      <td>74.400002</td>\n",
       "      <td>32.053908</td>\n",
       "      <td>33.285640</td>\n",
       "      <td>30.572156</td>\n",
       "    </tr>\n",
       "    <tr>\n",
       "      <th>424</th>\n",
       "      <td>17.100000</td>\n",
       "      <td>56.882715</td>\n",
       "      <td>37.434077</td>\n",
       "      <td>33.691054</td>\n",
       "    </tr>\n",
       "    <tr>\n",
       "      <th>602</th>\n",
       "      <td>36.500000</td>\n",
       "      <td>87.073824</td>\n",
       "      <td>70.026725</td>\n",
       "      <td>73.239436</td>\n",
       "    </tr>\n",
       "    <tr>\n",
       "      <th>1497</th>\n",
       "      <td>5.800000</td>\n",
       "      <td>26.093026</td>\n",
       "      <td>21.000000</td>\n",
       "      <td>18.323840</td>\n",
       "    </tr>\n",
       "    <tr>\n",
       "      <th>693</th>\n",
       "      <td>66.599998</td>\n",
       "      <td>46.968043</td>\n",
       "      <td>40.900002</td>\n",
       "      <td>37.261917</td>\n",
       "    </tr>\n",
       "    <tr>\n",
       "      <th>2</th>\n",
       "      <td>96.000000</td>\n",
       "      <td>76.699753</td>\n",
       "      <td>69.714694</td>\n",
       "      <td>69.963768</td>\n",
       "    </tr>\n",
       "    <tr>\n",
       "      <th>1132</th>\n",
       "      <td>10.400000</td>\n",
       "      <td>25.149268</td>\n",
       "      <td>24.700001</td>\n",
       "      <td>21.361702</td>\n",
       "    </tr>\n",
       "    <tr>\n",
       "      <th>1563</th>\n",
       "      <td>327.799988</td>\n",
       "      <td>248.085674</td>\n",
       "      <td>208.838618</td>\n",
       "      <td>195.382767</td>\n",
       "    </tr>\n",
       "    <tr>\n",
       "      <th>377</th>\n",
       "      <td>56.599998</td>\n",
       "      <td>46.018627</td>\n",
       "      <td>48.118543</td>\n",
       "      <td>46.301677</td>\n",
       "    </tr>\n",
       "  </tbody>\n",
       "</table>\n",
       "</div>"
      ],
      "text/plain": [
       "      SiteEUI(kBtu/sf)  Prédictions  Prédictions_ttr  Prédictions_ttr2\n",
       "3162         42.799999    59.230377        53.377343         56.714187\n",
       "953          37.599998    28.567644        32.000000         31.113047\n",
       "2637         55.400002    74.624596        73.542116         78.030090\n",
       "29           92.900002    75.240507        70.252179         70.563247\n",
       "1126         36.799999    27.209902        37.327752         35.053509\n",
       "773          45.500000    78.520747        56.000000         56.132265\n",
       "305          89.300003   193.994349       172.881348        151.302783\n",
       "2928         35.000000    75.721566        46.405772         49.095230\n",
       "579         104.099998    92.325513        85.926674         87.038591\n",
       "713          40.200001    21.662289        32.428055         30.479381\n",
       "225          34.900002    14.967497        41.500000         41.684261\n",
       "1227         74.400002    32.053908        33.285640         30.572156\n",
       "424          17.100000    56.882715        37.434077         33.691054\n",
       "602          36.500000    87.073824        70.026725         73.239436\n",
       "1497          5.800000    26.093026        21.000000         18.323840\n",
       "693          66.599998    46.968043        40.900002         37.261917\n",
       "2            96.000000    76.699753        69.714694         69.963768\n",
       "1132         10.400000    25.149268        24.700001         21.361702\n",
       "1563        327.799988   248.085674       208.838618        195.382767\n",
       "377          56.599998    46.018627        48.118543         46.301677"
      ]
     },
     "execution_count": 430,
     "metadata": {},
     "output_type": "execute_result"
    }
   ],
   "source": [
    "# Test de quelques valeurs prédites\n",
    "some_data_predicted_ttr = regr_ttr2.predict(some_data_prepared)\n",
    "\n",
    "some_labels['Prédictions_ttr2'] = some_data_predicted_ttr\n",
    "some_labels.head(20)"
   ]
  },
  {
   "cell_type": "markdown",
   "metadata": {},
   "source": [
    "##### RMSE :"
   ]
  },
  {
   "cell_type": "code",
   "execution_count": 431,
   "metadata": {
    "ExecuteTime": {
     "end_time": "2021-06-29T14:10:49.694987Z",
     "start_time": "2021-06-29T14:10:49.688987Z"
    }
   },
   "outputs": [
    {
     "data": {
      "text/plain": [
       "45.66865325114479"
      ]
     },
     "execution_count": 431,
     "metadata": {},
     "output_type": "execute_result"
    }
   ],
   "source": [
    "EUI_predictions = regr_ttr2.predict(X_train_EUI_prepared)\n",
    "lin_mse = mean_squared_error(y_train_EUI, EUI_predictions)\n",
    "lin_rmse = np.sqrt(lin_mse)\n",
    "lin_rmse"
   ]
  },
  {
   "cell_type": "markdown",
   "metadata": {},
   "source": [
    "##### R²"
   ]
  },
  {
   "cell_type": "code",
   "execution_count": 432,
   "metadata": {
    "ExecuteTime": {
     "end_time": "2021-06-29T14:10:49.900999Z",
     "start_time": "2021-06-29T14:10:49.894999Z"
    }
   },
   "outputs": [
    {
     "data": {
      "text/plain": [
       "0.5922844043372848"
      ]
     },
     "execution_count": 432,
     "metadata": {},
     "output_type": "execute_result"
    }
   ],
   "source": [
    "#R² par la méthode score() du transformateur\n",
    "regr_ttr2.score(X_train_EUI_prepared, y_train_EUI)"
   ]
  },
  {
   "cell_type": "code",
   "execution_count": 433,
   "metadata": {
    "ExecuteTime": {
     "end_time": "2021-06-29T14:10:49.907999Z",
     "start_time": "2021-06-29T14:10:49.901999Z"
    }
   },
   "outputs": [
    {
     "data": {
      "text/plain": [
       "0.5922844043372848"
      ]
     },
     "execution_count": 433,
     "metadata": {},
     "output_type": "execute_result"
    }
   ],
   "source": [
    "#R² par la fonction r2_score de metrics\n",
    "r2_score(y_train_EUI, EUI_predictions)"
   ]
  },
  {
   "cell_type": "markdown",
   "metadata": {},
   "source": [
    "##### Scatter plot :"
   ]
  },
  {
   "cell_type": "code",
   "execution_count": 434,
   "metadata": {
    "ExecuteTime": {
     "end_time": "2021-06-29T14:10:50.545036Z",
     "start_time": "2021-06-29T14:10:50.139013Z"
    },
    "scrolled": false
   },
   "outputs": [
    {
     "data": {
      "image/png": "[encoded data removed]",
      "text/plain": [
       "<Figure size 576x396 with 1 Axes>"
      ]
     },
     "metadata": {},
     "output_type": "display_data"
    },
    {
     "data": {
      "image/png": "[encoded data removed]",
      "text/plain": [
       "<Figure size 576x396 with 1 Axes>"
      ]
     },
     "metadata": {},
     "output_type": "display_data"
    }
   ],
   "source": [
    "ser_predictions = pd.Series(np.squeeze(EUI_predictions), name='Prédictions_ttr2')\n",
    "scatter_plot(ser_x=y_train_EUI.reset_index().iloc[:,1], ser_y=ser_predictions, alpha=1, ligne_diagonale=True)\n",
    "scatter_plot(ser_x=y_train_EUI.reset_index().iloc[:,1], ser_y=ser_predictions, alpha=1, max_x=300, max_y=300, ligne_diagonale=True)"
   ]
  },
  {
   "cell_type": "markdown",
   "metadata": {},
   "source": [
    "Il n'y a pas eu d'amélioration par l'ajout d'une transformation de y_train."
   ]
  },
  {
   "cell_type": "markdown",
   "metadata": {},
   "source": [
    "## Arbres de décision"
   ]
  },
  {
   "cell_type": "markdown",
   "metadata": {},
   "source": [
    "##### Validation sur le jeu d'entrainement"
   ]
  },
  {
   "cell_type": "code",
   "execution_count": 435,
   "metadata": {
    "ExecuteTime": {
     "end_time": "2021-06-29T14:10:50.942059Z",
     "start_time": "2021-06-29T14:10:50.895056Z"
    }
   },
   "outputs": [
    {
     "data": {
      "text/html": [
       "<style>div.sk-top-container {color: black;background-color: white;}div.sk-toggleable {background-color: white;}label.sk-toggleable__label {cursor: pointer;display: block;width: 100%;margin-bottom: 0;padding: 0.2em 0.3em;box-sizing: border-box;text-align: center;}div.sk-toggleable__content {max-height: 0;max-width: 0;overflow: hidden;text-align: left;background-color: #f0f8ff;}div.sk-toggleable__content pre {margin: 0.2em;color: black;border-radius: 0.25em;background-color: #f0f8ff;}input.sk-toggleable__control:checked~div.sk-toggleable__content {max-height: 200px;max-width: 100%;overflow: auto;}div.sk-estimator input.sk-toggleable__control:checked~label.sk-toggleable__label {background-color: #d4ebff;}div.sk-label input.sk-toggleable__control:checked~label.sk-toggleable__label {background-color: #d4ebff;}input.sk-hidden--visually {border: 0;clip: rect(1px 1px 1px 1px);clip: rect(1px, 1px, 1px, 1px);height: 1px;margin: -1px;overflow: hidden;padding: 0;position: absolute;width: 1px;}div.sk-estimator {font-family: monospace;background-color: #f0f8ff;margin: 0.25em 0.25em;border: 1px dotted black;border-radius: 0.25em;box-sizing: border-box;}div.sk-estimator:hover {background-color: #d4ebff;}div.sk-parallel-item::after {content: \"\";width: 100%;border-bottom: 1px solid gray;flex-grow: 1;}div.sk-label:hover label.sk-toggleable__label {background-color: #d4ebff;}div.sk-serial::before {content: \"\";position: absolute;border-left: 1px solid gray;box-sizing: border-box;top: 2em;bottom: 0;left: 50%;}div.sk-serial {display: flex;flex-direction: column;align-items: center;background-color: white;}div.sk-item {z-index: 1;}div.sk-parallel {display: flex;align-items: stretch;justify-content: center;background-color: white;}div.sk-parallel-item {display: flex;flex-direction: column;position: relative;background-color: white;}div.sk-parallel-item:first-child::after {align-self: flex-end;width: 50%;}div.sk-parallel-item:last-child::after {align-self: flex-start;width: 50%;}div.sk-parallel-item:only-child::after {width: 0;}div.sk-dashed-wrapped {border: 1px dashed gray;margin: 0.2em;box-sizing: border-box;padding-bottom: 0.1em;background-color: white;position: relative;}div.sk-label label {font-family: monospace;font-weight: bold;background-color: white;display: inline-block;line-height: 1.2em;}div.sk-label-container {position: relative;z-index: 2;text-align: center;}div.sk-container {display: inline-block;position: relative;}</style><div class=\"sk-top-container\"><div class=\"sk-container\"><div class=\"sk-item\"><div class=\"sk-estimator sk-toggleable\"><input class=\"sk-toggleable__control sk-hidden--visually\" id=\"0fe78d65-06b7-4caf-a364-00596d033abb\" type=\"checkbox\" checked><label class=\"sk-toggleable__label\" for=\"0fe78d65-06b7-4caf-a364-00596d033abb\">DecisionTreeRegressor</label><div class=\"sk-toggleable__content\"><pre>DecisionTreeRegressor(random_state=0)</pre></div></div></div></div></div>"
      ],
      "text/plain": [
       "DecisionTreeRegressor(random_state=0)"
      ]
     },
     "execution_count": 435,
     "metadata": {},
     "output_type": "execute_result"
    }
   ],
   "source": [
    "tree_reg = DecisionTreeRegressor(random_state=0)\n",
    "tree_reg.fit(X_train_EUI_prepared, y_train_EUI)"
   ]
  },
  {
   "cell_type": "code",
   "execution_count": 436,
   "metadata": {
    "ExecuteTime": {
     "end_time": "2021-06-29T14:10:50.949059Z",
     "start_time": "2021-06-29T14:10:50.943059Z"
    }
   },
   "outputs": [
    {
     "data": {
      "text/plain": [
       "0.0"
      ]
     },
     "execution_count": 436,
     "metadata": {},
     "output_type": "execute_result"
    }
   ],
   "source": [
    "EUI_predictions = tree_reg.predict(X_train_EUI_prepared)\n",
    "tree_mse = mean_squared_error(y_train_EUI, EUI_predictions)\n",
    "tree_rmse = np.sqrt(tree_mse)\n",
    "tree_rmse  "
   ]
  },
  {
   "cell_type": "code",
   "execution_count": 437,
   "metadata": {
    "ExecuteTime": {
     "end_time": "2021-06-29T14:10:50.954059Z",
     "start_time": "2021-06-29T14:10:50.950059Z"
    }
   },
   "outputs": [
    {
     "name": "stdout",
     "output_type": "stream",
     "text": [
      "R² = 1.0\n"
     ]
    }
   ],
   "source": [
    "print(\"R² =\", r2_score(y_train_EUI, EUI_predictions))"
   ]
  },
  {
   "cell_type": "markdown",
   "metadata": {},
   "source": [
    "RMSE = 0 et R² = 1 car car test sur jeu d'entrainement d'un arbre totalement ajusté"
   ]
  },
  {
   "cell_type": "code",
   "execution_count": 438,
   "metadata": {
    "ExecuteTime": {
     "end_time": "2021-06-29T14:10:51.134070Z",
     "start_time": "2021-06-29T14:10:51.131069Z"
    }
   },
   "outputs": [
    {
     "data": {
      "text/plain": [
       "241"
      ]
     },
     "execution_count": 438,
     "metadata": {},
     "output_type": "execute_result"
    }
   ],
   "source": [
    "tree_reg.max_features_"
   ]
  },
  {
   "cell_type": "code",
   "execution_count": 439,
   "metadata": {
    "ExecuteTime": {
     "end_time": "2021-06-29T14:10:51.139070Z",
     "start_time": "2021-06-29T14:10:51.135070Z"
    }
   },
   "outputs": [
    {
     "data": {
      "text/plain": [
       "241"
      ]
     },
     "execution_count": 439,
     "metadata": {},
     "output_type": "execute_result"
    }
   ],
   "source": [
    "tree_reg.n_features_"
   ]
  },
  {
   "cell_type": "code",
   "execution_count": 440,
   "metadata": {
    "ExecuteTime": {
     "end_time": "2021-06-29T14:10:51.148070Z",
     "start_time": "2021-06-29T14:10:51.140070Z"
    }
   },
   "outputs": [
    {
     "data": {
      "text/plain": [
       "PrimaryPropertyType_Supermarket / Grocery Store    0.141101\n",
       "ZipCode_98185.0                                    0.086985\n",
       "Surface_au_sol(sf)                                 0.078277\n",
       "YearBuilt                                          0.075275\n",
       "PrimaryPropertyType_Laboratory                     0.072730\n",
       "Longitude                                          0.052652\n",
       "LargestPropertyUseType_Parking                     0.044472\n",
       "ZipCode_98013.0                                    0.041245\n",
       "NumberofFloors                                     0.039012\n",
       "Latitude                                           0.035285\n",
       "PrimaryPropertyType_Other                          0.028502\n",
       "SecondLargestPropertyUseType_Data Center           0.022783\n",
       "LargestPropertyUseType_Restaurant                  0.021634\n",
       "CouncilDistrictCode_3                              0.016896\n",
       "PrimaryPropertyType_Warehouse                      0.016420\n",
       "SecondLargestPropertyUseType_Laboratory            0.012207\n",
       "PrimaryPropertyType_Hospital                       0.012037\n",
       "ThirdLargestPropertyUseType_Data Center            0.009903\n",
       "ThirdLargestPropertyUseType_Swimming Pool          0.009632\n",
       "ZipCode_-1.0                                       0.009464\n",
       "dtype: float64"
      ]
     },
     "execution_count": 440,
     "metadata": {},
     "output_type": "execute_result"
    }
   ],
   "source": [
    "df_feature_importances = pd.Series(tree_reg.feature_importances_, index=noms_des_coefs)\n",
    "df_feature_importances.sort_values(ascending=False).head(20)"
   ]
  },
  {
   "cell_type": "markdown",
   "metadata": {},
   "source": [
    "##### RMSE / validation croisée"
   ]
  },
  {
   "cell_type": "code",
   "execution_count": 441,
   "metadata": {
    "ExecuteTime": {
     "end_time": "2021-06-29T14:10:51.770106Z",
     "start_time": "2021-06-29T14:10:51.375083Z"
    }
   },
   "outputs": [
    {
     "name": "stdout",
     "output_type": "stream",
     "text": [
      "Scores: 64.1 84.4 69.2 84.7 52.0 107 77.5 76.6 51.9 66.0 \n",
      "Mean: 73.3\n",
      "Standard deviation: 16.6\n"
     ]
    }
   ],
   "source": [
    "scores = cross_val_score(tree_reg, X_train_EUI_prepared, y_train_EUI, \n",
    "                         scoring=\"neg_root_mean_squared_error\", cv=10)\n",
    "display_scores(-scores)"
   ]
  },
  {
   "cell_type": "markdown",
   "metadata": {},
   "source": [
    "##### R² / validation croisée"
   ]
  },
  {
   "cell_type": "code",
   "execution_count": 442,
   "metadata": {
    "ExecuteTime": {
     "end_time": "2021-06-29T14:10:52.167129Z",
     "start_time": "2021-06-29T14:10:51.771106Z"
    }
   },
   "outputs": [
    {
     "name": "stdout",
     "output_type": "stream",
     "text": [
      "Scores: 0.265 -1.3 -0.42 0.0296 0.128 -0.105 -0.423 -0.186 0.16 0.247 \n",
      "Mean: -0.161\n",
      "Standard deviation: 0.474\n"
     ]
    }
   ],
   "source": [
    "scores = cross_val_score(tree_reg, X_train_EUI_prepared, y_train_EUI, \n",
    "                         scoring=\"r2\", cv=10)\n",
    "display_scores(scores)"
   ]
  },
  {
   "cell_type": "markdown",
   "metadata": {},
   "source": [
    "On passe de RMSE=0 (validation sur le jeu d'entraînement) à 74 (validation croisée) en moyenne.  \n",
    "On passe de R²=1 (validation sur le jeu d'entraînement) à -0.16 (validation croisée) en moyenne.  \n",
    "La généralisation du modèle est très mauvaise (surajustement)."
   ]
  },
  {
   "cell_type": "markdown",
   "metadata": {},
   "source": [
    "##### Dessin de l'arbre"
   ]
  },
  {
   "cell_type": "code",
   "execution_count": 443,
   "metadata": {
    "ExecuteTime": {
     "end_time": "2021-06-29T14:10:52.409142Z",
     "start_time": "2021-06-29T14:10:52.168129Z"
    }
   },
   "outputs": [],
   "source": [
    "export_graphviz(\n",
    "        tree_reg,\n",
    "        out_file=\"tree_reg.dot\",\n",
    "        feature_names=noms_des_coefs,\n",
    "        class_names=\"SiteEUI(kBtu/sf)\",\n",
    "        rounded=True,\n",
    "        filled=True\n",
    "    )"
   ]
  },
  {
   "cell_type": "code",
   "execution_count": 488,
   "metadata": {
    "ExecuteTime": {
     "end_time": "2021-07-01T19:51:43.229107Z",
     "start_time": "2021-07-01T19:51:43.226107Z"
    },
    "scrolled": true
   },
   "outputs": [],
   "source": [
    "# Source.from_file(\"tree_reg.dot\")   # l'affichage du graphe augmente la taille du fichier .ipynb de 3 Mo"
   ]
  },
  {
   "cell_type": "code",
   "execution_count": 445,
   "metadata": {
    "ExecuteTime": {
     "end_time": "2021-06-29T14:10:52.419143Z",
     "start_time": "2021-06-29T14:10:52.414143Z"
    }
   },
   "outputs": [
    {
     "data": {
      "text/plain": [
       "1314"
      ]
     },
     "execution_count": 445,
     "metadata": {},
     "output_type": "execute_result"
    }
   ],
   "source": [
    "tree_reg.get_n_leaves()"
   ]
  },
  {
   "cell_type": "code",
   "execution_count": 446,
   "metadata": {
    "ExecuteTime": {
     "end_time": "2021-06-29T14:10:52.424143Z",
     "start_time": "2021-06-29T14:10:52.420143Z"
    }
   },
   "outputs": [
    {
     "data": {
      "text/plain": [
       "62"
      ]
     },
     "execution_count": 446,
     "metadata": {},
     "output_type": "execute_result"
    }
   ],
   "source": [
    "tree_reg.get_depth()"
   ]
  },
  {
   "cell_type": "markdown",
   "metadata": {},
   "source": [
    "### Régularisation"
   ]
  },
  {
   "cell_type": "code",
   "execution_count": 447,
   "metadata": {
    "ExecuteTime": {
     "end_time": "2021-06-29T14:10:54.791279Z",
     "start_time": "2021-06-29T14:10:52.425143Z"
    },
    "scrolled": true
   },
   "outputs": [
    {
     "data": {
      "text/html": [
       "<style>div.sk-top-container {color: black;background-color: white;}div.sk-toggleable {background-color: white;}label.sk-toggleable__label {cursor: pointer;display: block;width: 100%;margin-bottom: 0;padding: 0.2em 0.3em;box-sizing: border-box;text-align: center;}div.sk-toggleable__content {max-height: 0;max-width: 0;overflow: hidden;text-align: left;background-color: #f0f8ff;}div.sk-toggleable__content pre {margin: 0.2em;color: black;border-radius: 0.25em;background-color: #f0f8ff;}input.sk-toggleable__control:checked~div.sk-toggleable__content {max-height: 200px;max-width: 100%;overflow: auto;}div.sk-estimator input.sk-toggleable__control:checked~label.sk-toggleable__label {background-color: #d4ebff;}div.sk-label input.sk-toggleable__control:checked~label.sk-toggleable__label {background-color: #d4ebff;}input.sk-hidden--visually {border: 0;clip: rect(1px 1px 1px 1px);clip: rect(1px, 1px, 1px, 1px);height: 1px;margin: -1px;overflow: hidden;padding: 0;position: absolute;width: 1px;}div.sk-estimator {font-family: monospace;background-color: #f0f8ff;margin: 0.25em 0.25em;border: 1px dotted black;border-radius: 0.25em;box-sizing: border-box;}div.sk-estimator:hover {background-color: #d4ebff;}div.sk-parallel-item::after {content: \"\";width: 100%;border-bottom: 1px solid gray;flex-grow: 1;}div.sk-label:hover label.sk-toggleable__label {background-color: #d4ebff;}div.sk-serial::before {content: \"\";position: absolute;border-left: 1px solid gray;box-sizing: border-box;top: 2em;bottom: 0;left: 50%;}div.sk-serial {display: flex;flex-direction: column;align-items: center;background-color: white;}div.sk-item {z-index: 1;}div.sk-parallel {display: flex;align-items: stretch;justify-content: center;background-color: white;}div.sk-parallel-item {display: flex;flex-direction: column;position: relative;background-color: white;}div.sk-parallel-item:first-child::after {align-self: flex-end;width: 50%;}div.sk-parallel-item:last-child::after {align-self: flex-start;width: 50%;}div.sk-parallel-item:only-child::after {width: 0;}div.sk-dashed-wrapped {border: 1px dashed gray;margin: 0.2em;box-sizing: border-box;padding-bottom: 0.1em;background-color: white;position: relative;}div.sk-label label {font-family: monospace;font-weight: bold;background-color: white;display: inline-block;line-height: 1.2em;}div.sk-label-container {position: relative;z-index: 2;text-align: center;}div.sk-container {display: inline-block;position: relative;}</style><div class=\"sk-top-container\"><div class=\"sk-container\"><div class=\"sk-item sk-dashed-wrapped\"><div class=\"sk-label-container\"><div class=\"sk-label sk-toggleable\"><input class=\"sk-toggleable__control sk-hidden--visually\" id=\"0efe5c57-9ee7-4a5c-8507-c6b53b1c439e\" type=\"checkbox\" ><label class=\"sk-toggleable__label\" for=\"0efe5c57-9ee7-4a5c-8507-c6b53b1c439e\">GridSearchCV</label><div class=\"sk-toggleable__content\"><pre>GridSearchCV(cv=10, estimator=DecisionTreeRegressor(random_state=0),\n",
       "             param_grid=[{'max_depth': [2, 4, 8, 16, 32, 64],\n",
       "                          'random_state': [0]},\n",
       "                         {'min_samples_leaf': [1, 2, 4, 8, 16, 32, 64, 128, 256,\n",
       "                                               512, 1024],\n",
       "                          'random_state': [0]}],\n",
       "             return_train_score=True, scoring='r2')</pre></div></div></div><div class=\"sk-parallel\"><div class=\"sk-parallel-item\"><div class=\"sk-item\"><div class=\"sk-serial\"><div class=\"sk-item\"><div class=\"sk-estimator sk-toggleable\"><input class=\"sk-toggleable__control sk-hidden--visually\" id=\"04e965e6-e4e9-46b1-b3f1-188cd4a37414\" type=\"checkbox\" ><label class=\"sk-toggleable__label\" for=\"04e965e6-e4e9-46b1-b3f1-188cd4a37414\">DecisionTreeRegressor</label><div class=\"sk-toggleable__content\"><pre>DecisionTreeRegressor(random_state=0)</pre></div></div></div></div></div></div></div></div></div></div>"
      ],
      "text/plain": [
       "GridSearchCV(cv=10, estimator=DecisionTreeRegressor(random_state=0),\n",
       "             param_grid=[{'max_depth': [2, 4, 8, 16, 32, 64],\n",
       "                          'random_state': [0]},\n",
       "                         {'min_samples_leaf': [1, 2, 4, 8, 16, 32, 64, 128, 256,\n",
       "                                               512, 1024],\n",
       "                          'random_state': [0]}],\n",
       "             return_train_score=True, scoring='r2')"
      ]
     },
     "execution_count": 447,
     "metadata": {},
     "output_type": "execute_result"
    }
   ],
   "source": [
    "param_grid = [{'max_depth': [2, 4, 8, 16, 32, 64], 'random_state': [0]}, {'min_samples_leaf': [2**x for x in range(11)], 'random_state': [0]}]\n",
    "grid_search = GridSearchCV(tree_reg, param_grid, cv=10,\n",
    "                           scoring='r2', return_train_score=True)\n",
    "grid_search.fit(X_train_EUI_prepared, y_train_EUI.iloc[:,0])"
   ]
  },
  {
   "cell_type": "code",
   "execution_count": 448,
   "metadata": {
    "ExecuteTime": {
     "end_time": "2021-06-29T14:10:54.795279Z",
     "start_time": "2021-06-29T14:10:54.792279Z"
    }
   },
   "outputs": [
    {
     "data": {
      "text/plain": [
       "{'max_depth': 4, 'random_state': 0}"
      ]
     },
     "execution_count": 448,
     "metadata": {},
     "output_type": "execute_result"
    }
   ],
   "source": [
    "grid_search.best_params_"
   ]
  },
  {
   "cell_type": "code",
   "execution_count": 449,
   "metadata": {
    "ExecuteTime": {
     "end_time": "2021-06-29T14:10:54.802279Z",
     "start_time": "2021-06-29T14:10:54.796279Z"
    },
    "scrolled": false
   },
   "outputs": [
    {
     "name": "stdout",
     "output_type": "stream",
     "text": [
      "R² = 0.125 {'max_depth': 2, 'random_state': 0}\n",
      "R² = 0.157 {'max_depth': 4, 'random_state': 0}\n",
      "R² = 0.031 {'max_depth': 8, 'random_state': 0}\n",
      "R² = -0.0101 {'max_depth': 16, 'random_state': 0}\n",
      "R² = -0.117 {'max_depth': 32, 'random_state': 0}\n",
      "R² = -0.111 {'max_depth': 64, 'random_state': 0}\n",
      "R² = -0.161 {'min_samples_leaf': 1, 'random_state': 0}\n",
      "R² = -0.0525 {'min_samples_leaf': 2, 'random_state': 0}\n",
      "R² = 0.00766 {'min_samples_leaf': 4, 'random_state': 0}\n",
      "R² = 0.103 {'min_samples_leaf': 8, 'random_state': 0}\n",
      "R² = 0.149 {'min_samples_leaf': 16, 'random_state': 0}\n",
      "R² = 0.117 {'min_samples_leaf': 32, 'random_state': 0}\n",
      "R² = 0.0468 {'min_samples_leaf': 64, 'random_state': 0}\n",
      "R² = 0.0585 {'min_samples_leaf': 128, 'random_state': 0}\n",
      "R² = 0.00834 {'min_samples_leaf': 256, 'random_state': 0}\n",
      "R² = -0.00319 {'min_samples_leaf': 512, 'random_state': 0}\n",
      "R² = -0.00342 {'min_samples_leaf': 1024, 'random_state': 0}\n"
     ]
    }
   ],
   "source": [
    "cvres = grid_search.cv_results_\n",
    "for mean_score, params in zip(cvres[\"mean_test_score\"], cvres[\"params\"]):\n",
    "    print(\"R² =\", arrondi(mean_score), params)"
   ]
  },
  {
   "cell_type": "markdown",
   "metadata": {
    "ExecuteTime": {
     "end_time": "2021-06-29T13:22:18.214307Z",
     "start_time": "2021-06-29T13:22:18.183107Z"
    }
   },
   "source": [
    "Le meilleur R² est médiocre."
   ]
  },
  {
   "cell_type": "code",
   "execution_count": 450,
   "metadata": {
    "ExecuteTime": {
     "end_time": "2021-06-29T14:10:54.809280Z",
     "start_time": "2021-06-29T14:10:54.803279Z"
    }
   },
   "outputs": [
    {
     "name": "stdout",
     "output_type": "stream",
     "text": [
      "R² = -0.05364330966345543\n"
     ]
    }
   ],
   "source": [
    "# Généralisation sur le test set\n",
    "EUI_predictions = grid_search.predict(X_test_EUI_prepared)\n",
    "print(\"R² =\", r2_score(y_test_EUI, EUI_predictions))"
   ]
  },
  {
   "cell_type": "markdown",
   "metadata": {},
   "source": [
    "La généralisation échoue à faire mieux qu'un DummyRegressor."
   ]
  },
  {
   "cell_type": "markdown",
   "metadata": {
    "deletable": false,
    "editable": false,
    "run_control": {
     "frozen": true
    }
   },
   "source": [
    "## Forêts aléatoires"
   ]
  },
  {
   "cell_type": "code",
   "execution_count": 457,
   "metadata": {
    "ExecuteTime": {
     "end_time": "2021-07-01T15:41:59.508263Z",
     "start_time": "2021-07-01T15:41:56.705103Z"
    }
   },
   "outputs": [
    {
     "data": {
      "text/html": [
       "<style>div.sk-top-container {color: black;background-color: white;}div.sk-toggleable {background-color: white;}label.sk-toggleable__label {cursor: pointer;display: block;width: 100%;margin-bottom: 0;padding: 0.2em 0.3em;box-sizing: border-box;text-align: center;}div.sk-toggleable__content {max-height: 0;max-width: 0;overflow: hidden;text-align: left;background-color: #f0f8ff;}div.sk-toggleable__content pre {margin: 0.2em;color: black;border-radius: 0.25em;background-color: #f0f8ff;}input.sk-toggleable__control:checked~div.sk-toggleable__content {max-height: 200px;max-width: 100%;overflow: auto;}div.sk-estimator input.sk-toggleable__control:checked~label.sk-toggleable__label {background-color: #d4ebff;}div.sk-label input.sk-toggleable__control:checked~label.sk-toggleable__label {background-color: #d4ebff;}input.sk-hidden--visually {border: 0;clip: rect(1px 1px 1px 1px);clip: rect(1px, 1px, 1px, 1px);height: 1px;margin: -1px;overflow: hidden;padding: 0;position: absolute;width: 1px;}div.sk-estimator {font-family: monospace;background-color: #f0f8ff;margin: 0.25em 0.25em;border: 1px dotted black;border-radius: 0.25em;box-sizing: border-box;}div.sk-estimator:hover {background-color: #d4ebff;}div.sk-parallel-item::after {content: \"\";width: 100%;border-bottom: 1px solid gray;flex-grow: 1;}div.sk-label:hover label.sk-toggleable__label {background-color: #d4ebff;}div.sk-serial::before {content: \"\";position: absolute;border-left: 1px solid gray;box-sizing: border-box;top: 2em;bottom: 0;left: 50%;}div.sk-serial {display: flex;flex-direction: column;align-items: center;background-color: white;}div.sk-item {z-index: 1;}div.sk-parallel {display: flex;align-items: stretch;justify-content: center;background-color: white;}div.sk-parallel-item {display: flex;flex-direction: column;position: relative;background-color: white;}div.sk-parallel-item:first-child::after {align-self: flex-end;width: 50%;}div.sk-parallel-item:last-child::after {align-self: flex-start;width: 50%;}div.sk-parallel-item:only-child::after {width: 0;}div.sk-dashed-wrapped {border: 1px dashed gray;margin: 0.2em;box-sizing: border-box;padding-bottom: 0.1em;background-color: white;position: relative;}div.sk-label label {font-family: monospace;font-weight: bold;background-color: white;display: inline-block;line-height: 1.2em;}div.sk-label-container {position: relative;z-index: 2;text-align: center;}div.sk-container {display: inline-block;position: relative;}</style><div class=\"sk-top-container\"><div class=\"sk-container\"><div class=\"sk-item\"><div class=\"sk-estimator sk-toggleable\"><input class=\"sk-toggleable__control sk-hidden--visually\" id=\"82e541f5-e23f-4370-8bc1-d4e400e7738f\" type=\"checkbox\" checked><label class=\"sk-toggleable__label\" for=\"82e541f5-e23f-4370-8bc1-d4e400e7738f\">RandomForestRegressor</label><div class=\"sk-toggleable__content\"><pre>RandomForestRegressor(random_state=0)</pre></div></div></div></div></div>"
      ],
      "text/plain": [
       "RandomForestRegressor(random_state=0)"
      ]
     },
     "execution_count": 457,
     "metadata": {},
     "output_type": "execute_result"
    }
   ],
   "source": [
    "forest_reg = RandomForestRegressor(n_estimators=100, random_state=0)\n",
    "forest_reg.fit(X_train_EUI_prepared, y_train_EUI.iloc[:,0])"
   ]
  },
  {
   "cell_type": "code",
   "execution_count": 453,
   "metadata": {
    "ExecuteTime": {
     "end_time": "2021-06-29T14:11:22.595064Z",
     "start_time": "2021-06-29T14:10:57.648537Z"
    },
    "deletable": false,
    "editable": false,
    "run_control": {
     "frozen": true
    }
   },
   "outputs": [
    {
     "name": "stdout",
     "output_type": "stream",
     "text": [
      "Scores: 47.4 56.9 50.3 66.7 42.7 92.8 57.1 61.6 44.7 54.2 \n",
      "Mean: 57.5\n",
      "Standard deviation: 14.5\n"
     ]
    }
   ],
   "source": [
    "forest_scores = cross_val_score(forest_reg, X_train_EUI_prepared, y_train_EUI.iloc[:,0],\n",
    "                                scoring=\"neg_root_mean_squared_error\", cv=10)\n",
    "display_scores(-forest_scores)"
   ]
  },
  {
   "cell_type": "code",
   "execution_count": 454,
   "metadata": {
    "ExecuteTime": {
     "end_time": "2021-06-29T14:11:47.387914Z",
     "start_time": "2021-06-29T14:11:22.595064Z"
    },
    "deletable": false,
    "editable": false,
    "run_control": {
     "frozen": true
    },
    "scrolled": false
   },
   "outputs": [
    {
     "name": "stdout",
     "output_type": "stream",
     "text": [
      "Scores: 0.598 -0.0489 0.249 0.397 0.41 0.167 0.227 0.232 0.375 0.492 \n",
      "Mean: 0.31\n",
      "Standard deviation: 0.184\n"
     ]
    }
   ],
   "source": [
    "forest_scores = cross_val_score(forest_reg, X_train_EUI_prepared, y_train_EUI.iloc[:,0],\n",
    "                                scoring=\"r2\", cv=10)\n",
    "display_scores(forest_scores)"
   ]
  },
  {
   "cell_type": "markdown",
   "metadata": {
    "ExecuteTime": {
     "end_time": "2021-06-28T16:45:43.412220Z",
     "start_time": "2021-06-28T16:45:43.391233Z"
    }
   },
   "source": [
    "C'est mauvais."
   ]
  },
  {
   "cell_type": "markdown",
   "metadata": {},
   "source": [
    "### Régularisation"
   ]
  },
  {
   "cell_type": "markdown",
   "metadata": {},
   "source": [
    "##### GridSearchCV à une dimension :"
   ]
  },
  {
   "cell_type": "code",
   "execution_count": 493,
   "metadata": {
    "ExecuteTime": {
     "end_time": "2021-07-01T20:09:23.088246Z",
     "start_time": "2021-07-01T20:08:52.092473Z"
    },
    "scrolled": true
   },
   "outputs": [
    {
     "data": {
      "text/html": [
       "<style>div.sk-top-container {color: black;background-color: white;}div.sk-toggleable {background-color: white;}label.sk-toggleable__label {cursor: pointer;display: block;width: 100%;margin-bottom: 0;padding: 0.2em 0.3em;box-sizing: border-box;text-align: center;}div.sk-toggleable__content {max-height: 0;max-width: 0;overflow: hidden;text-align: left;background-color: #f0f8ff;}div.sk-toggleable__content pre {margin: 0.2em;color: black;border-radius: 0.25em;background-color: #f0f8ff;}input.sk-toggleable__control:checked~div.sk-toggleable__content {max-height: 200px;max-width: 100%;overflow: auto;}div.sk-estimator input.sk-toggleable__control:checked~label.sk-toggleable__label {background-color: #d4ebff;}div.sk-label input.sk-toggleable__control:checked~label.sk-toggleable__label {background-color: #d4ebff;}input.sk-hidden--visually {border: 0;clip: rect(1px 1px 1px 1px);clip: rect(1px, 1px, 1px, 1px);height: 1px;margin: -1px;overflow: hidden;padding: 0;position: absolute;width: 1px;}div.sk-estimator {font-family: monospace;background-color: #f0f8ff;margin: 0.25em 0.25em;border: 1px dotted black;border-radius: 0.25em;box-sizing: border-box;}div.sk-estimator:hover {background-color: #d4ebff;}div.sk-parallel-item::after {content: \"\";width: 100%;border-bottom: 1px solid gray;flex-grow: 1;}div.sk-label:hover label.sk-toggleable__label {background-color: #d4ebff;}div.sk-serial::before {content: \"\";position: absolute;border-left: 1px solid gray;box-sizing: border-box;top: 2em;bottom: 0;left: 50%;}div.sk-serial {display: flex;flex-direction: column;align-items: center;background-color: white;}div.sk-item {z-index: 1;}div.sk-parallel {display: flex;align-items: stretch;justify-content: center;background-color: white;}div.sk-parallel-item {display: flex;flex-direction: column;position: relative;background-color: white;}div.sk-parallel-item:first-child::after {align-self: flex-end;width: 50%;}div.sk-parallel-item:last-child::after {align-self: flex-start;width: 50%;}div.sk-parallel-item:only-child::after {width: 0;}div.sk-dashed-wrapped {border: 1px dashed gray;margin: 0.2em;box-sizing: border-box;padding-bottom: 0.1em;background-color: white;position: relative;}div.sk-label label {font-family: monospace;font-weight: bold;background-color: white;display: inline-block;line-height: 1.2em;}div.sk-label-container {position: relative;z-index: 2;text-align: center;}div.sk-container {display: inline-block;position: relative;}</style><div class=\"sk-top-container\"><div class=\"sk-container\"><div class=\"sk-item sk-dashed-wrapped\"><div class=\"sk-label-container\"><div class=\"sk-label sk-toggleable\"><input class=\"sk-toggleable__control sk-hidden--visually\" id=\"acdf921e-8fdc-45d0-ac19-56c272149862\" type=\"checkbox\" ><label class=\"sk-toggleable__label\" for=\"acdf921e-8fdc-45d0-ac19-56c272149862\">GridSearchCV</label><div class=\"sk-toggleable__content\"><pre>GridSearchCV(cv=10, estimator=RandomForestRegressor(random_state=0), n_jobs=-1,\n",
       "             param_grid=[{'max_depth': [2, 4, 8, 16, 32, 64]},\n",
       "                         {'min_samples_leaf': [1, 2, 4, 8, 16, 32, 64, 128, 256,\n",
       "                                               512, 1024]}],\n",
       "             return_train_score=True, scoring='r2')</pre></div></div></div><div class=\"sk-parallel\"><div class=\"sk-parallel-item\"><div class=\"sk-item\"><div class=\"sk-serial\"><div class=\"sk-item\"><div class=\"sk-estimator sk-toggleable\"><input class=\"sk-toggleable__control sk-hidden--visually\" id=\"57fb9ccc-73d0-4bb9-9112-9038e9ad1542\" type=\"checkbox\" ><label class=\"sk-toggleable__label\" for=\"57fb9ccc-73d0-4bb9-9112-9038e9ad1542\">RandomForestRegressor</label><div class=\"sk-toggleable__content\"><pre>RandomForestRegressor(random_state=0)</pre></div></div></div></div></div></div></div></div></div></div>"
      ],
      "text/plain": [
       "GridSearchCV(cv=10, estimator=RandomForestRegressor(random_state=0), n_jobs=-1,\n",
       "             param_grid=[{'max_depth': [2, 4, 8, 16, 32, 64]},\n",
       "                         {'min_samples_leaf': [1, 2, 4, 8, 16, 32, 64, 128, 256,\n",
       "                                               512, 1024]}],\n",
       "             return_train_score=True, scoring='r2')"
      ]
     },
     "execution_count": 493,
     "metadata": {},
     "output_type": "execute_result"
    }
   ],
   "source": [
    "param_grid = [{'max_depth': [2, 4, 8, 16, 32, 64]}, {'min_samples_leaf': [2**x for x in range(11)]}]\n",
    "grid_search = GridSearchCV(forest_reg, param_grid, cv=10,\n",
    "                           scoring='r2', return_train_score=True, n_jobs=-1)\n",
    "grid_search.fit(X_train_EUI_prepared, y_train_EUI.iloc[:,0])"
   ]
  },
  {
   "cell_type": "code",
   "execution_count": 490,
   "metadata": {
    "ExecuteTime": {
     "end_time": "2021-07-01T20:07:18.215103Z",
     "start_time": "2021-07-01T20:07:18.209103Z"
    },
    "scrolled": false
   },
   "outputs": [
    {
     "data": {
      "text/plain": [
       "{'min_samples_leaf': 4}"
      ]
     },
     "execution_count": 490,
     "metadata": {},
     "output_type": "execute_result"
    }
   ],
   "source": [
    "grid_search.best_params_"
   ]
  },
  {
   "cell_type": "code",
   "execution_count": 494,
   "metadata": {
    "ExecuteTime": {
     "end_time": "2021-07-01T20:09:39.669194Z",
     "start_time": "2021-07-01T20:09:39.656193Z"
    },
    "scrolled": true
   },
   "outputs": [
    {
     "name": "stdout",
     "output_type": "stream",
     "text": [
      "R² = 0.17 {'max_depth': 2}\n",
      "R² = 0.197 {'max_depth': 4}\n",
      "R² = 0.249 {'max_depth': 8}\n",
      "R² = 0.299 {'max_depth': 16}\n",
      "R² = 0.314 {'max_depth': 32}\n",
      "R² = 0.31 {'max_depth': 64}\n",
      "R² = 0.31 {'min_samples_leaf': 1}\n",
      "R² = 0.309 {'min_samples_leaf': 2}\n",
      "R² = 0.316 {'min_samples_leaf': 4}\n",
      "R² = 0.282 {'min_samples_leaf': 8}\n",
      "R² = 0.249 {'min_samples_leaf': 16}\n",
      "R² = 0.123 {'min_samples_leaf': 32}\n",
      "R² = 0.0929 {'min_samples_leaf': 64}\n",
      "R² = 0.0472 {'min_samples_leaf': 128}\n",
      "R² = 0.0147 {'min_samples_leaf': 256}\n",
      "R² = -0.00345 {'min_samples_leaf': 512}\n",
      "R² = -0.00345 {'min_samples_leaf': 1024}\n"
     ]
    }
   ],
   "source": [
    "cvres = grid_search.cv_results_\n",
    "for mean_score, params in zip(cvres[\"mean_test_score\"], cvres[\"params\"]):\n",
    "    print(\"R² =\", arrondi(mean_score), params)"
   ]
  },
  {
   "cell_type": "markdown",
   "metadata": {
    "ExecuteTime": {
     "end_time": "2021-07-01T16:26:34.706833Z",
     "start_time": "2021-07-01T16:26:34.701833Z"
    }
   },
   "source": [
    "Pour les mêmes jeux de paramètres param_grid, RandomForestRegressor est plus performant que DecisionTreeRegressor."
   ]
  },
  {
   "cell_type": "markdown",
   "metadata": {},
   "source": [
    "##### GridSearchCV à deux dimensions :"
   ]
  },
  {
   "cell_type": "code",
   "execution_count": 478,
   "metadata": {
    "ExecuteTime": {
     "end_time": "2021-07-01T16:21:32.430544Z",
     "start_time": "2021-07-01T16:20:33.541175Z"
    },
    "scrolled": true
   },
   "outputs": [
    {
     "data": {
      "text/html": [
       "<style>div.sk-top-container {color: black;background-color: white;}div.sk-toggleable {background-color: white;}label.sk-toggleable__label {cursor: pointer;display: block;width: 100%;margin-bottom: 0;padding: 0.2em 0.3em;box-sizing: border-box;text-align: center;}div.sk-toggleable__content {max-height: 0;max-width: 0;overflow: hidden;text-align: left;background-color: #f0f8ff;}div.sk-toggleable__content pre {margin: 0.2em;color: black;border-radius: 0.25em;background-color: #f0f8ff;}input.sk-toggleable__control:checked~div.sk-toggleable__content {max-height: 200px;max-width: 100%;overflow: auto;}div.sk-estimator input.sk-toggleable__control:checked~label.sk-toggleable__label {background-color: #d4ebff;}div.sk-label input.sk-toggleable__control:checked~label.sk-toggleable__label {background-color: #d4ebff;}input.sk-hidden--visually {border: 0;clip: rect(1px 1px 1px 1px);clip: rect(1px, 1px, 1px, 1px);height: 1px;margin: -1px;overflow: hidden;padding: 0;position: absolute;width: 1px;}div.sk-estimator {font-family: monospace;background-color: #f0f8ff;margin: 0.25em 0.25em;border: 1px dotted black;border-radius: 0.25em;box-sizing: border-box;}div.sk-estimator:hover {background-color: #d4ebff;}div.sk-parallel-item::after {content: \"\";width: 100%;border-bottom: 1px solid gray;flex-grow: 1;}div.sk-label:hover label.sk-toggleable__label {background-color: #d4ebff;}div.sk-serial::before {content: \"\";position: absolute;border-left: 1px solid gray;box-sizing: border-box;top: 2em;bottom: 0;left: 50%;}div.sk-serial {display: flex;flex-direction: column;align-items: center;background-color: white;}div.sk-item {z-index: 1;}div.sk-parallel {display: flex;align-items: stretch;justify-content: center;background-color: white;}div.sk-parallel-item {display: flex;flex-direction: column;position: relative;background-color: white;}div.sk-parallel-item:first-child::after {align-self: flex-end;width: 50%;}div.sk-parallel-item:last-child::after {align-self: flex-start;width: 50%;}div.sk-parallel-item:only-child::after {width: 0;}div.sk-dashed-wrapped {border: 1px dashed gray;margin: 0.2em;box-sizing: border-box;padding-bottom: 0.1em;background-color: white;position: relative;}div.sk-label label {font-family: monospace;font-weight: bold;background-color: white;display: inline-block;line-height: 1.2em;}div.sk-label-container {position: relative;z-index: 2;text-align: center;}div.sk-container {display: inline-block;position: relative;}</style><div class=\"sk-top-container\"><div class=\"sk-container\"><div class=\"sk-item sk-dashed-wrapped\"><div class=\"sk-label-container\"><div class=\"sk-label sk-toggleable\"><input class=\"sk-toggleable__control sk-hidden--visually\" id=\"95f3dee8-1f66-4ef3-a397-5c7e36e706a2\" type=\"checkbox\" ><label class=\"sk-toggleable__label\" for=\"95f3dee8-1f66-4ef3-a397-5c7e36e706a2\">GridSearchCV</label><div class=\"sk-toggleable__content\"><pre>GridSearchCV(cv=10, estimator=RandomForestRegressor(random_state=0), n_jobs=-1,\n",
       "             param_grid=[{'max_depth': [16, 32, 64],\n",
       "                          'min_samples_leaf': [1, 2, 3, 4, 5, 6, 7, 8],\n",
       "                          'random_state': [0]}],\n",
       "             return_train_score=True, scoring='r2')</pre></div></div></div><div class=\"sk-parallel\"><div class=\"sk-parallel-item\"><div class=\"sk-item\"><div class=\"sk-serial\"><div class=\"sk-item\"><div class=\"sk-estimator sk-toggleable\"><input class=\"sk-toggleable__control sk-hidden--visually\" id=\"617f58e4-4333-4e31-8874-23aa4be2b3b6\" type=\"checkbox\" ><label class=\"sk-toggleable__label\" for=\"617f58e4-4333-4e31-8874-23aa4be2b3b6\">RandomForestRegressor</label><div class=\"sk-toggleable__content\"><pre>RandomForestRegressor(random_state=0)</pre></div></div></div></div></div></div></div></div></div></div>"
      ],
      "text/plain": [
       "GridSearchCV(cv=10, estimator=RandomForestRegressor(random_state=0), n_jobs=-1,\n",
       "             param_grid=[{'max_depth': [16, 32, 64],\n",
       "                          'min_samples_leaf': [1, 2, 3, 4, 5, 6, 7, 8],\n",
       "                          'random_state': [0]}],\n",
       "             return_train_score=True, scoring='r2')"
      ]
     },
     "execution_count": 478,
     "metadata": {},
     "output_type": "execute_result"
    }
   ],
   "source": [
    "param_grid = [{'max_depth': [16, 32, 64], 'min_samples_leaf': [1, 2, 3, 4, 5, 6, 7, 8]}]\n",
    "grid_search = GridSearchCV(forest_reg, param_grid, cv=10,\n",
    "                           scoring='r2', return_train_score=True, n_jobs=-1)\n",
    "grid_search.fit(X_train_EUI_prepared, y_train_EUI.iloc[:,0])"
   ]
  },
  {
   "cell_type": "code",
   "execution_count": 479,
   "metadata": {
    "ExecuteTime": {
     "end_time": "2021-07-01T16:22:01.118185Z",
     "start_time": "2021-07-01T16:22:01.112184Z"
    },
    "scrolled": true
   },
   "outputs": [
    {
     "data": {
      "text/plain": [
       "{'max_depth': 32, 'min_samples_leaf': 4, 'random_state': 0}"
      ]
     },
     "execution_count": 479,
     "metadata": {},
     "output_type": "execute_result"
    }
   ],
   "source": [
    "grid_search.best_params_"
   ]
  },
  {
   "cell_type": "code",
   "execution_count": 480,
   "metadata": {
    "ExecuteTime": {
     "end_time": "2021-07-01T16:22:02.466262Z",
     "start_time": "2021-07-01T16:22:02.456261Z"
    },
    "scrolled": false
   },
   "outputs": [
    {
     "name": "stdout",
     "output_type": "stream",
     "text": [
      "R² = 0.299 {'max_depth': 16, 'min_samples_leaf': 1, 'random_state': 0}\n",
      "R² = 0.304 {'max_depth': 16, 'min_samples_leaf': 2, 'random_state': 0}\n",
      "R² = 0.313 {'max_depth': 16, 'min_samples_leaf': 3, 'random_state': 0}\n",
      "R² = 0.315 {'max_depth': 16, 'min_samples_leaf': 4, 'random_state': 0}\n",
      "R² = 0.31 {'max_depth': 16, 'min_samples_leaf': 5, 'random_state': 0}\n",
      "R² = 0.307 {'max_depth': 16, 'min_samples_leaf': 6, 'random_state': 0}\n",
      "R² = 0.294 {'max_depth': 16, 'min_samples_leaf': 7, 'random_state': 0}\n",
      "R² = 0.282 {'max_depth': 16, 'min_samples_leaf': 8, 'random_state': 0}\n",
      "R² = 0.314 {'max_depth': 32, 'min_samples_leaf': 1, 'random_state': 0}\n",
      "R² = 0.309 {'max_depth': 32, 'min_samples_leaf': 2, 'random_state': 0}\n",
      "R² = 0.315 {'max_depth': 32, 'min_samples_leaf': 3, 'random_state': 0}\n",
      "R² = 0.316 {'max_depth': 32, 'min_samples_leaf': 4, 'random_state': 0}\n",
      "R² = 0.312 {'max_depth': 32, 'min_samples_leaf': 5, 'random_state': 0}\n",
      "R² = 0.31 {'max_depth': 32, 'min_samples_leaf': 6, 'random_state': 0}\n",
      "R² = 0.295 {'max_depth': 32, 'min_samples_leaf': 7, 'random_state': 0}\n",
      "R² = 0.282 {'max_depth': 32, 'min_samples_leaf': 8, 'random_state': 0}\n",
      "R² = 0.31 {'max_depth': 64, 'min_samples_leaf': 1, 'random_state': 0}\n",
      "R² = 0.309 {'max_depth': 64, 'min_samples_leaf': 2, 'random_state': 0}\n",
      "R² = 0.315 {'max_depth': 64, 'min_samples_leaf': 3, 'random_state': 0}\n",
      "R² = 0.316 {'max_depth': 64, 'min_samples_leaf': 4, 'random_state': 0}\n",
      "R² = 0.312 {'max_depth': 64, 'min_samples_leaf': 5, 'random_state': 0}\n",
      "R² = 0.31 {'max_depth': 64, 'min_samples_leaf': 6, 'random_state': 0}\n",
      "R² = 0.295 {'max_depth': 64, 'min_samples_leaf': 7, 'random_state': 0}\n",
      "R² = 0.282 {'max_depth': 64, 'min_samples_leaf': 8, 'random_state': 0}\n"
     ]
    }
   ],
   "source": [
    "cvres = grid_search.cv_results_\n",
    "for mean_score, params in zip(cvres[\"mean_test_score\"], cvres[\"params\"]):\n",
    "    print(\"R² =\", str(arrondi(mean_score)).rjust(8, ' '), params)"
   ]
  },
  {
   "cell_type": "markdown",
   "metadata": {},
   "source": [
    "##### Généralisation sur le test set"
   ]
  },
  {
   "cell_type": "code",
   "execution_count": 481,
   "metadata": {
    "ExecuteTime": {
     "end_time": "2021-07-01T16:23:28.935207Z",
     "start_time": "2021-07-01T16:23:28.919207Z"
    },
    "scrolled": false
   },
   "outputs": [
    {
     "name": "stdout",
     "output_type": "stream",
     "text": [
      "R² = 0.3096345583705329\n"
     ]
    }
   ],
   "source": [
    "EUI_predictions = grid_search.predict(X_test_EUI_prepared)\n",
    "print(\"R² =\", arrondi(r2_score(y_test_EUI, EUI_predictions)))"
   ]
  },
  {
   "cell_type": "markdown",
   "metadata": {},
   "source": [
    "La généralisation est médiocre."
   ]
  },
  {
   "cell_type": "code",
   "execution_count": 482,
   "metadata": {
    "ExecuteTime": {
     "end_time": "2021-07-01T16:23:36.047614Z",
     "start_time": "2021-07-01T16:23:36.032613Z"
    }
   },
   "outputs": [
    {
     "data": {
      "text/plain": [
       "PrimaryPropertyType_Supermarket / Grocery Store               0.092250\n",
       "Surface_au_sol(sf)                                            0.064397\n",
       "PrimaryPropertyType_Laboratory                                0.062662\n",
       "LargestPropertyUseType_Supermarket/Grocery Store              0.057916\n",
       "YearBuilt                                                     0.057820\n",
       "Longitude                                                     0.048198\n",
       "LargestPropertyUseType_Data Center                            0.048040\n",
       "Latitude                                                      0.039125\n",
       "ZipCode_98185.0                                               0.034888\n",
       "SecondLargestPropertyUseType_Data Center                      0.030591\n",
       "NumberofFloors                                                0.030379\n",
       "PrimaryPropertyType_Other                                     0.025622\n",
       "ZipCode_98013.0                                               0.025199\n",
       "LargestPropertyUseType_Restaurant                             0.020756\n",
       "LargestPropertyUseType_Urgent Care/Clinic/Other Outpatient    0.017673\n",
       "SecondLargestPropertyUseType_Laboratory                       0.011526\n",
       "LargestPropertyUseType_Office                                 0.010934\n",
       "LargestPropertyUseType_Laboratory                             0.010185\n",
       "ThirdLargestPropertyUseType_Data Center                       0.009983\n",
       "PrimaryPropertyType_Warehouse                                 0.009487\n",
       "dtype: float64"
      ]
     },
     "execution_count": 482,
     "metadata": {},
     "output_type": "execute_result"
    }
   ],
   "source": [
    "df_feature_importances = pd.Series(forest_reg.feature_importances_, index=noms_des_coefs)\n",
    "df_feature_importances.sort_values(ascending=False).head(20)"
   ]
  },
  {
   "cell_type": "markdown",
   "metadata": {},
   "source": [
    "## SVM Regressor"
   ]
  },
  {
   "cell_type": "code",
   "execution_count": 455,
   "metadata": {
    "ExecuteTime": {
     "end_time": "2021-06-29T14:11:47.501520Z",
     "start_time": "2021-06-29T14:11:47.387914Z"
    },
    "deletable": false,
    "editable": false,
    "run_control": {
     "frozen": true
    }
   },
   "outputs": [
    {
     "data": {
      "text/html": [
       "<style>div.sk-top-container {color: black;background-color: white;}div.sk-toggleable {background-color: white;}label.sk-toggleable__label {cursor: pointer;display: block;width: 100%;margin-bottom: 0;padding: 0.2em 0.3em;box-sizing: border-box;text-align: center;}div.sk-toggleable__content {max-height: 0;max-width: 0;overflow: hidden;text-align: left;background-color: #f0f8ff;}div.sk-toggleable__content pre {margin: 0.2em;color: black;border-radius: 0.25em;background-color: #f0f8ff;}input.sk-toggleable__control:checked~div.sk-toggleable__content {max-height: 200px;max-width: 100%;overflow: auto;}div.sk-estimator input.sk-toggleable__control:checked~label.sk-toggleable__label {background-color: #d4ebff;}div.sk-label input.sk-toggleable__control:checked~label.sk-toggleable__label {background-color: #d4ebff;}input.sk-hidden--visually {border: 0;clip: rect(1px 1px 1px 1px);clip: rect(1px, 1px, 1px, 1px);height: 1px;margin: -1px;overflow: hidden;padding: 0;position: absolute;width: 1px;}div.sk-estimator {font-family: monospace;background-color: #f0f8ff;margin: 0.25em 0.25em;border: 1px dotted black;border-radius: 0.25em;box-sizing: border-box;}div.sk-estimator:hover {background-color: #d4ebff;}div.sk-parallel-item::after {content: \"\";width: 100%;border-bottom: 1px solid gray;flex-grow: 1;}div.sk-label:hover label.sk-toggleable__label {background-color: #d4ebff;}div.sk-serial::before {content: \"\";position: absolute;border-left: 1px solid gray;box-sizing: border-box;top: 2em;bottom: 0;left: 50%;}div.sk-serial {display: flex;flex-direction: column;align-items: center;background-color: white;}div.sk-item {z-index: 1;}div.sk-parallel {display: flex;align-items: stretch;justify-content: center;background-color: white;}div.sk-parallel-item {display: flex;flex-direction: column;position: relative;background-color: white;}div.sk-parallel-item:first-child::after {align-self: flex-end;width: 50%;}div.sk-parallel-item:last-child::after {align-self: flex-start;width: 50%;}div.sk-parallel-item:only-child::after {width: 0;}div.sk-dashed-wrapped {border: 1px dashed gray;margin: 0.2em;box-sizing: border-box;padding-bottom: 0.1em;background-color: white;position: relative;}div.sk-label label {font-family: monospace;font-weight: bold;background-color: white;display: inline-block;line-height: 1.2em;}div.sk-label-container {position: relative;z-index: 2;text-align: center;}div.sk-container {display: inline-block;position: relative;}</style><div class=\"sk-top-container\"><div class=\"sk-container\"><div class=\"sk-item\"><div class=\"sk-estimator sk-toggleable\"><input class=\"sk-toggleable__control sk-hidden--visually\" id=\"0e2b0f08-e184-4bdd-a010-0d4a92c13614\" type=\"checkbox\" checked><label class=\"sk-toggleable__label\" for=\"0e2b0f08-e184-4bdd-a010-0d4a92c13614\">SVR</label><div class=\"sk-toggleable__content\"><pre>SVR(kernel='linear')</pre></div></div></div></div></div>"
      ],
      "text/plain": [
       "SVR(kernel='linear')"
      ]
     },
     "execution_count": 455,
     "metadata": {},
     "output_type": "execute_result"
    }
   ],
   "source": [
    "svm_reg = SVR(kernel=\"linear\")\n",
    "svm_reg.fit(X_train_EUI_prepared, y_train_EUI.iloc[:,0])"
   ]
  },
  {
   "cell_type": "code",
   "execution_count": 456,
   "metadata": {
    "ExecuteTime": {
     "end_time": "2021-06-29T14:11:47.585921Z",
     "start_time": "2021-06-29T14:11:47.502520Z"
    },
    "deletable": false,
    "editable": false,
    "run_control": {
     "frozen": true
    }
   },
   "outputs": [
    {
     "name": "stdout",
     "output_type": "stream",
     "text": [
      "RMSE =  64.67004836227653\n"
     ]
    }
   ],
   "source": [
    "SVR_predictions = svm_reg.predict(X_train_EUI_prepared)\n",
    "svm_mse = mean_squared_error(y_train_EUI, SVR_predictions)\n",
    "svm_rmse = np.sqrt(svm_mse)\n",
    "print(\"RMSE = \", svm_rmse)"
   ]
  },
  {
   "cell_type": "markdown",
   "metadata": {},
   "source": [
    "C'est mauvais."
   ]
  }
 ],
 "metadata": {
  "hide_input": false,
  "kernelspec": {
   "display_name": "Python 3",
   "language": "python",
   "name": "python3"
  },
  "language_info": {
   "codemirror_mode": {
    "name": "ipython",
    "version": 3
   },
   "file_extension": ".py",
   "mimetype": "text/x-python",
   "name": "python",
   "nbconvert_exporter": "python",
   "pygments_lexer": "ipython3",
   "version": "3.8.5"
  },
  "toc": {
   "base_numbering": 1,
   "nav_menu": {},
   "number_sections": true,
   "sideBar": true,
   "skip_h1_title": false,
   "title_cell": "Table of Contents",
   "title_sidebar": "Contents",
   "toc_cell": false,
   "toc_position": {
    "height": "calc(100% - 180px)",
    "left": "10px",
    "top": "150px",
    "width": "462.388px"
   },
   "toc_section_display": true,
   "toc_window_display": true
  },
  "varInspector": {
   "cols": {
    "lenName": 16,
    "lenType": 16,
    "lenVar": 40
   },
   "kernels_config": {
    "python": {
     "delete_cmd_postfix": "",
     "delete_cmd_prefix": "del ",
     "library": "var_list.py",
     "varRefreshCmd": "print(var_dic_list())"
    },
    "r": {
     "delete_cmd_postfix": ") ",
     "delete_cmd_prefix": "rm(",
     "library": "var_list.r",
     "varRefreshCmd": "cat(var_dic_list()) "
    }
   },
   "types_to_exclude": [
    "module",
    "function",
    "builtin_function_or_method",
    "instance",
    "_Feature"
   ],
   "window_display": false
  }
 },
 "nbformat": 4,
 "nbformat_minor": 4
}
